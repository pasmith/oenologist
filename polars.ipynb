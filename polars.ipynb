{
 "cells": [
  {
   "cell_type": "code",
   "execution_count": 1,
   "metadata": {},
   "outputs": [],
   "source": [
    "import pandas as pd\n",
    "import numpy as np\n",
    "import os\n",
    "import kagglehub\n",
    "from collections import namedtuple\n",
    "import swifter\n",
    "\n",
    "from pyproj import Transformer\n",
    "from shapely import union_all\n",
    "from shapely.ops import transform\n",
    "import geopandas as gpd\n",
    "import quackosm as qosm\n",
    "\n",
    "import polars as pl"
   ]
  },
  {
   "cell_type": "markdown",
   "metadata": {},
   "source": [
    "**Download the wine review dataset**"
   ]
  },
  {
   "cell_type": "code",
   "execution_count": 2,
   "metadata": {},
   "outputs": [],
   "source": [
    "fname = \"winemag-data-130k-v2.csv\"\n",
    "path = kagglehub.dataset_download(\"christopheiv/winemagdata130k\")"
   ]
  },
  {
   "cell_type": "markdown",
   "metadata": {},
   "source": [
    "**Load the wine review dataset into a polars dataframe**"
   ]
  },
  {
   "cell_type": "code",
   "execution_count": 3,
   "metadata": {},
   "outputs": [
    {
     "data": {
      "text/plain": [
       "Schema([('', Int64),\n",
       "        ('country', String),\n",
       "        ('description', String),\n",
       "        ('designation', String),\n",
       "        ('points', Int64),\n",
       "        ('price', Float64),\n",
       "        ('province', String),\n",
       "        ('region_1', String),\n",
       "        ('region_2', String),\n",
       "        ('taster_name', String),\n",
       "        ('taster_twitter_handle', String),\n",
       "        ('title', String),\n",
       "        ('variety', String),\n",
       "        ('winery', String)])"
      ]
     },
     "execution_count": 3,
     "metadata": {},
     "output_type": "execute_result"
    }
   ],
   "source": [
    "reviews = pl.read_csv(os.path.join(path, fname))\n",
    "reviews.schema\n"
   ]
  },
  {
   "cell_type": "code",
   "execution_count": 4,
   "metadata": {},
   "outputs": [
    {
     "data": {
      "text/html": [
       "<div><style>\n",
       ".dataframe > thead > tr,\n",
       ".dataframe > tbody > tr {\n",
       "  text-align: right;\n",
       "  white-space: pre-wrap;\n",
       "}\n",
       "</style>\n",
       "<small>shape: (9, 15)</small><table border=\"1\" class=\"dataframe\"><thead><tr><th>statistic</th><th></th><th>country</th><th>description</th><th>designation</th><th>points</th><th>price</th><th>province</th><th>region_1</th><th>region_2</th><th>taster_name</th><th>taster_twitter_handle</th><th>title</th><th>variety</th><th>winery</th></tr><tr><td>str</td><td>f64</td><td>str</td><td>str</td><td>str</td><td>f64</td><td>f64</td><td>str</td><td>str</td><td>str</td><td>str</td><td>str</td><td>str</td><td>str</td><td>str</td></tr></thead><tbody><tr><td>&quot;count&quot;</td><td>129971.0</td><td>&quot;129908&quot;</td><td>&quot;129971&quot;</td><td>&quot;92506&quot;</td><td>129971.0</td><td>120975.0</td><td>&quot;129908&quot;</td><td>&quot;108724&quot;</td><td>&quot;50511&quot;</td><td>&quot;103727&quot;</td><td>&quot;98758&quot;</td><td>&quot;129971&quot;</td><td>&quot;129970&quot;</td><td>&quot;129971&quot;</td></tr><tr><td>&quot;null_count&quot;</td><td>0.0</td><td>&quot;63&quot;</td><td>&quot;0&quot;</td><td>&quot;37465&quot;</td><td>0.0</td><td>8996.0</td><td>&quot;63&quot;</td><td>&quot;21247&quot;</td><td>&quot;79460&quot;</td><td>&quot;26244&quot;</td><td>&quot;31213&quot;</td><td>&quot;0&quot;</td><td>&quot;1&quot;</td><td>&quot;0&quot;</td></tr><tr><td>&quot;mean&quot;</td><td>64985.0</td><td>null</td><td>null</td><td>null</td><td>88.447138</td><td>35.363389</td><td>null</td><td>null</td><td>null</td><td>null</td><td>null</td><td>null</td><td>null</td><td>null</td></tr><tr><td>&quot;std&quot;</td><td>37519.540256</td><td>null</td><td>null</td><td>null</td><td>3.03973</td><td>41.022218</td><td>null</td><td>null</td><td>null</td><td>null</td><td>null</td><td>null</td><td>null</td><td>null</td></tr><tr><td>&quot;min&quot;</td><td>0.0</td><td>&quot;Argentina&quot;</td><td>&quot;&quot;Chremisa,&quot; the ancient name o…</td><td>&quot;#19 Phantom Limb Belmont Viney…</td><td>80.0</td><td>4.0</td><td>&quot;Achaia&quot;</td><td>&quot;Abruzzo&quot;</td><td>&quot;California Other&quot;</td><td>&quot;Alexander Peartree&quot;</td><td>&quot;@AnneInVino&quot;</td><td>&quot;1+1=3 2008 Rosé Cabernet Sauvi…</td><td>&quot;Abouriou&quot;</td><td>&quot;1+1=3&quot;</td></tr><tr><td>&quot;25%&quot;</td><td>32493.0</td><td>null</td><td>null</td><td>null</td><td>86.0</td><td>17.0</td><td>null</td><td>null</td><td>null</td><td>null</td><td>null</td><td>null</td><td>null</td><td>null</td></tr><tr><td>&quot;50%&quot;</td><td>64985.0</td><td>null</td><td>null</td><td>null</td><td>88.0</td><td>25.0</td><td>null</td><td>null</td><td>null</td><td>null</td><td>null</td><td>null</td><td>null</td><td>null</td></tr><tr><td>&quot;75%&quot;</td><td>97478.0</td><td>null</td><td>null</td><td>null</td><td>91.0</td><td>42.0</td><td>null</td><td>null</td><td>null</td><td>null</td><td>null</td><td>null</td><td>null</td><td>null</td></tr><tr><td>&quot;max&quot;</td><td>129970.0</td><td>&quot;Uruguay&quot;</td><td>&quot;“Wow” is the first word that c…</td><td>&quot;“P”&quot;</td><td>100.0</td><td>3300.0</td><td>&quot;Župa&quot;</td><td>&quot;Zonda Valley&quot;</td><td>&quot;Willamette Valley&quot;</td><td>&quot;Virginie Boone&quot;</td><td>&quot;@worldwineguys&quot;</td><td>&quot;Štoka 2011 Izbrani Teran (Kras…</td><td>&quot;Žilavka&quot;</td><td>&quot;Štoka&quot;</td></tr></tbody></table></div>"
      ],
      "text/plain": [
       "shape: (9, 15)\n",
       "┌────────────┬────────────┬───────────┬────────────┬───┬───────────┬───────────┬──────────┬────────┐\n",
       "│ statistic  ┆            ┆ country   ┆ descriptio ┆ … ┆ taster_tw ┆ title     ┆ variety  ┆ winery │\n",
       "│ ---        ┆ ---        ┆ ---       ┆ n          ┆   ┆ itter_han ┆ ---       ┆ ---      ┆ ---    │\n",
       "│ str        ┆ f64        ┆ str       ┆ ---        ┆   ┆ dle       ┆ str       ┆ str      ┆ str    │\n",
       "│            ┆            ┆           ┆ str        ┆   ┆ ---       ┆           ┆          ┆        │\n",
       "│            ┆            ┆           ┆            ┆   ┆ str       ┆           ┆          ┆        │\n",
       "╞════════════╪════════════╪═══════════╪════════════╪═══╪═══════════╪═══════════╪══════════╪════════╡\n",
       "│ count      ┆ 129971.0   ┆ 129908    ┆ 129971     ┆ … ┆ 98758     ┆ 129971    ┆ 129970   ┆ 129971 │\n",
       "│ null_count ┆ 0.0        ┆ 63        ┆ 0          ┆ … ┆ 31213     ┆ 0         ┆ 1        ┆ 0      │\n",
       "│ mean       ┆ 64985.0    ┆ null      ┆ null       ┆ … ┆ null      ┆ null      ┆ null     ┆ null   │\n",
       "│ std        ┆ 37519.5402 ┆ null      ┆ null       ┆ … ┆ null      ┆ null      ┆ null     ┆ null   │\n",
       "│            ┆ 56         ┆           ┆            ┆   ┆           ┆           ┆          ┆        │\n",
       "│ min        ┆ 0.0        ┆ Argentina ┆ \"Chremisa, ┆ … ┆ @AnneInVi ┆ 1+1=3     ┆ Abouriou ┆ 1+1=3  │\n",
       "│            ┆            ┆           ┆ \" the      ┆   ┆ no        ┆ 2008 Rosé ┆          ┆        │\n",
       "│            ┆            ┆           ┆ ancient    ┆   ┆           ┆ Cabernet  ┆          ┆        │\n",
       "│            ┆            ┆           ┆ name o…    ┆   ┆           ┆ Sauvi…    ┆          ┆        │\n",
       "│ 25%        ┆ 32493.0    ┆ null      ┆ null       ┆ … ┆ null      ┆ null      ┆ null     ┆ null   │\n",
       "│ 50%        ┆ 64985.0    ┆ null      ┆ null       ┆ … ┆ null      ┆ null      ┆ null     ┆ null   │\n",
       "│ 75%        ┆ 97478.0    ┆ null      ┆ null       ┆ … ┆ null      ┆ null      ┆ null     ┆ null   │\n",
       "│ max        ┆ 129970.0   ┆ Uruguay   ┆ “Wow” is   ┆ … ┆ @worldwin ┆ Štoka     ┆ Žilavka  ┆ Štoka  │\n",
       "│            ┆            ┆           ┆ the first  ┆   ┆ eguys     ┆ 2011      ┆          ┆        │\n",
       "│            ┆            ┆           ┆ word that  ┆   ┆           ┆ Izbrani   ┆          ┆        │\n",
       "│            ┆            ┆           ┆ c…         ┆   ┆           ┆ Teran     ┆          ┆        │\n",
       "│            ┆            ┆           ┆            ┆   ┆           ┆ (Kras…    ┆          ┆        │\n",
       "└────────────┴────────────┴───────────┴────────────┴───┴───────────┴───────────┴──────────┴────────┘"
      ]
     },
     "execution_count": 4,
     "metadata": {},
     "output_type": "execute_result"
    }
   ],
   "source": [
    "reviews.describe()"
   ]
  },
  {
   "cell_type": "code",
   "execution_count": null,
   "metadata": {},
   "outputs": [],
   "source": []
  },
  {
   "cell_type": "code",
   "execution_count": 5,
   "metadata": {},
   "outputs": [
    {
     "data": {
      "text/html": [
       "<div><style>\n",
       ".dataframe > thead > tr,\n",
       ".dataframe > tbody > tr {\n",
       "  text-align: right;\n",
       "  white-space: pre-wrap;\n",
       "}\n",
       "</style>\n",
       "<small>shape: (129_971, 5)</small><table border=\"1\" class=\"dataframe\"><thead><tr><th>winery</th><th>country</th><th>province</th><th>region_1</th><th>region_2</th></tr><tr><td>str</td><td>str</td><td>str</td><td>str</td><td>str</td></tr></thead><tbody><tr><td>&quot;Nicosia&quot;</td><td>&quot;Italy&quot;</td><td>&quot;Sicily &amp; Sardinia&quot;</td><td>&quot;Etna&quot;</td><td>null</td></tr><tr><td>&quot;Quinta dos Avidagos&quot;</td><td>&quot;Portugal&quot;</td><td>&quot;Douro&quot;</td><td>null</td><td>null</td></tr><tr><td>&quot;Rainstorm&quot;</td><td>&quot;US&quot;</td><td>&quot;Oregon&quot;</td><td>&quot;Willamette Valley&quot;</td><td>&quot;Willamette Valley&quot;</td></tr><tr><td>&quot;St. Julian&quot;</td><td>&quot;US&quot;</td><td>&quot;Michigan&quot;</td><td>&quot;Lake Michigan Shore&quot;</td><td>null</td></tr><tr><td>&quot;Sweet Cheeks&quot;</td><td>&quot;US&quot;</td><td>&quot;Oregon&quot;</td><td>&quot;Willamette Valley&quot;</td><td>&quot;Willamette Valley&quot;</td></tr><tr><td>&hellip;</td><td>&hellip;</td><td>&hellip;</td><td>&hellip;</td><td>&hellip;</td></tr><tr><td>&quot;Dr. H. Thanisch (Erben Müller-…</td><td>&quot;Germany&quot;</td><td>&quot;Mosel&quot;</td><td>null</td><td>null</td></tr><tr><td>&quot;Citation&quot;</td><td>&quot;US&quot;</td><td>&quot;Oregon&quot;</td><td>&quot;Oregon&quot;</td><td>&quot;Oregon Other&quot;</td></tr><tr><td>&quot;Domaine Gresser&quot;</td><td>&quot;France&quot;</td><td>&quot;Alsace&quot;</td><td>&quot;Alsace&quot;</td><td>null</td></tr><tr><td>&quot;Domaine Marcel Deiss&quot;</td><td>&quot;France&quot;</td><td>&quot;Alsace&quot;</td><td>&quot;Alsace&quot;</td><td>null</td></tr><tr><td>&quot;Domaine Schoffit&quot;</td><td>&quot;France&quot;</td><td>&quot;Alsace&quot;</td><td>&quot;Alsace&quot;</td><td>null</td></tr></tbody></table></div>"
      ],
      "text/plain": [
       "shape: (129_971, 5)\n",
       "┌─────────────────────────┬──────────┬───────────────────┬─────────────────────┬───────────────────┐\n",
       "│ winery                  ┆ country  ┆ province          ┆ region_1            ┆ region_2          │\n",
       "│ ---                     ┆ ---      ┆ ---               ┆ ---                 ┆ ---               │\n",
       "│ str                     ┆ str      ┆ str               ┆ str                 ┆ str               │\n",
       "╞═════════════════════════╪══════════╪═══════════════════╪═════════════════════╪═══════════════════╡\n",
       "│ Nicosia                 ┆ Italy    ┆ Sicily & Sardinia ┆ Etna                ┆ null              │\n",
       "│ Quinta dos Avidagos     ┆ Portugal ┆ Douro             ┆ null                ┆ null              │\n",
       "│ Rainstorm               ┆ US       ┆ Oregon            ┆ Willamette Valley   ┆ Willamette Valley │\n",
       "│ St. Julian              ┆ US       ┆ Michigan          ┆ Lake Michigan Shore ┆ null              │\n",
       "│ Sweet Cheeks            ┆ US       ┆ Oregon            ┆ Willamette Valley   ┆ Willamette Valley │\n",
       "│ …                       ┆ …        ┆ …                 ┆ …                   ┆ …                 │\n",
       "│ Dr. H. Thanisch (Erben  ┆ Germany  ┆ Mosel             ┆ null                ┆ null              │\n",
       "│ Müller-…                ┆          ┆                   ┆                     ┆                   │\n",
       "│ Citation                ┆ US       ┆ Oregon            ┆ Oregon              ┆ Oregon Other      │\n",
       "│ Domaine Gresser         ┆ France   ┆ Alsace            ┆ Alsace              ┆ null              │\n",
       "│ Domaine Marcel Deiss    ┆ France   ┆ Alsace            ┆ Alsace              ┆ null              │\n",
       "│ Domaine Schoffit        ┆ France   ┆ Alsace            ┆ Alsace              ┆ null              │\n",
       "└─────────────────────────┴──────────┴───────────────────┴─────────────────────┴───────────────────┘"
      ]
     },
     "execution_count": 5,
     "metadata": {},
     "output_type": "execute_result"
    }
   ],
   "source": [
    "location_cols=['winery', 'country', 'province', 'region_1', 'region_2']\n",
    "reviews[location_cols]"
   ]
  }
 ],
 "metadata": {
  "kernelspec": {
   "display_name": ".venv",
   "language": "python",
   "name": "python3"
  },
  "language_info": {
   "codemirror_mode": {
    "name": "ipython",
    "version": 3
   },
   "file_extension": ".py",
   "mimetype": "text/x-python",
   "name": "python",
   "nbconvert_exporter": "python",
   "pygments_lexer": "ipython3",
   "version": "3.12.8"
  }
 },
 "nbformat": 4,
 "nbformat_minor": 2
}
