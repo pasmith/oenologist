{
 "cells": [
  {
   "cell_type": "markdown",
   "metadata": {},
   "source": [
    "# References\n",
    "\n",
    "Similar projects from which to draw inspiration."
   ]
  },
  {
   "cell_type": "markdown",
   "metadata": {},
   "source": [
    "**Wine Tasting**"
   ]
  },
  {
   "cell_type": "markdown",
   "metadata": {},
   "source": [
    "- [How to Taste Wine - Overview](https://www.vibecellars.com/vibe-cellars-winery-wine-tasting-resources.html) - wine Tasting Explained\n",
    "- [The Vivino Wine Rating System: Credibility of The Crowd](https://www.vivino.com/wine-news/vivino-5-star-rating-system)\n",
    "- [Wine 101: Gathering Data From Vivino](https://nycdatascience.com/blog/student-works/wine-101-gathering-data-from-vivino/) - wine recommendations\n",
    "- [A Pragmatic Approach to Using Wine Ratings](https://winefolly.com/tips/wine-ratings-explained/) - critics have different opinions\n",
    "- [40+ Wine Descriptions and What They Really Mean](https://winefolly.com/tips/40-wine-descriptions/)\n",
    "- [120 Most Common Wine Descriptions (Infographic)](https://winefolly.com/tips/wine-descriptions-chart-infographic/)\n",
    "- [Wine Scores: What They Mean and Do They Matter?](https://querciabella.com/posts/wine-scores/#:~:text=In%20the%201970s%2C%20Robert%20Parker,influence%20wine%20prices%20and%20popularity.)\n",
    "- [Why amateur wine scores are every bit as good as professionals’](https://www.vox.com/2016/12/15/13892364/wine-scores-critics-amateurs)"
   ]
  },
  {
   "cell_type": "markdown",
   "metadata": {},
   "source": [
    "**Subject Matter References**"
   ]
  },
  {
   "cell_type": "markdown",
   "metadata": {},
   "source": [
    "- [Wine Type Prediction With Supervised And Unsupervised Learning](https://rpubs.com/Billie/703946): PCA and Cluster Dendrogram by red & white wines\n",
    "- [Wine Ratings Prediction using Machine Learning](https://medium.com/towards-data-science/wine-ratings-prediction-using-machine-learning-ce259832b321): Vectorization and results\n",
    "- [Visualizing Wine Reviews Clustered by Word2Vec (Unsupervised Machine Learning) [OC]](https://www.reddit.com/r/dataisbeautiful/comments/9ere4r/visualizing_wine_reviews_clustered_by_word2vec/): Visualizing wine review word clusters\n",
    "- [Machine Learning for Quality Prediction Introduction The quality of wine is a complex interplay of various fact](https://www.linkedin.com/pulse/wine-review-analysis-exploring-machine-learning-quality-nithin-m-a-kp8uc/) - write up ideas\n",
    "- [WINE INFORMATICS:  CLUSTERING AND ANALYSIS OF PROFESSIONAL  WINE REVIEWS](Wine-Informatics-Clustering-and-Analysis-of-Professional-Wine-Reviews.pdf) - weights for word tokenization\n",
    "- [Data Visualizing Wine Reviews](https://nycdatascience.com/blog/student-works/data-visualizing-wine-reviews/) - visualizations of the wine review data\n",
    "- [The relationship of price to wine-quality scores](https://winegourd.blogspot.com/2019/08/the-relationship-of-price-to-wine.html) - exploration of quality to price\n",
    "- [Model Interpretability for Predicting Wine Prices](https://medium.com/the-wine-nerd/model-interpretability-for-predicting-wine-prices-ddd40766ce2b) - SHAP & LIME models to predictions\n",
    "- [The Global Wine Score data distribution](https://medium.com/the-global-wine-score/the-global-wine-score-data-distribution-a97cb67a1182) - comparing critics\n",
    "- [Crowdsourcing the assessment of wine quality: Vivino ratings, professional critics, and the weather](https://www.cambridge.org/core/journals/journal-of-wine-economics/article/crowdsourcing-the-assessment-of-wine-quality-vivino-ratings-professional-critics-and-the-weather/FE61BAFB8D167CD960BB260777189231) - correlation between critics\n",
    "- []()\n"
   ]
  },
  {
   "cell_type": "markdown",
   "metadata": {},
   "source": [
    "**Machine Learning & Plotting Techniques**"
   ]
  },
  {
   "cell_type": "markdown",
   "metadata": {},
   "source": [
    "- [Learn Data Science using Wine Reviews Analysis](https://github.com/nithinmanayilghub/HiDevs-Full-Stack-Gen-AI-Bootcamp-001/blob/31f345d449fd44e54a6aa30db7de87f1d689c4aa/Week-4/Wine%20Review%20Analysis/Wine%20Review%20Analysis.ipynb) - various plots & charts\n",
    "- [Wine Grouping](https://github.com/Ireanuoluwa/Wine-Clustering/blob/main/Clustering%20(Unsupervised%20Learning).ipynb) - KMeans and Agglomerative Clustering examples\n",
    "- [Wine Quality Dataset](https://github.com/pc1991/Wine/blob/main/Dotplot%20Comparing%20Wine%20Algorithms.png) - plots of errors\n",
    "- [Unsupervised Learning Series: Exploring Hierarchical Clustering](https://medium.com/towards-data-science/unsupervised-learning-series-exploring-hierarchical-clustering-15d992467aa8) - Agglomerative Clustering\n",
    "- more [Agglomerative Clustering!!!\n",
    "](https://medium.com/@shreyasrivastav26/agglomerative-clustering-d37f2610893) - Agglomerative Clustering\n",
    "- [An Uncomplicated Guide to Unsupervised Machine Learning (2023)\n",
    "](https://www.dataquest.io/blog/unsupervised-machine-learning/)\n",
    "- [KMeans Clustering and PCA on Wine Dataset](https://www.geeksforgeeks.org/kmeans-clustering-and-pca-on-wine-dataset/)\n",
    "- [Correlating Wine Price and Quality](https://sarkisben.github.io/ds3001/DataAnalysis/quality-vs-price.html) - chart ideas\n",
    "- [Red Wine Quality Exploration](https://medium.com/@jeromevonk/red-wine-quality-exploration-ea88e6b0e3c5) - writeup"
   ]
  },
  {
   "cell_type": "markdown",
   "metadata": {},
   "source": [
    "**Related**"
   ]
  },
  {
   "cell_type": "markdown",
   "metadata": {},
   "source": [
    "- [How to Build a Wine Quality Prediction Model Using Machine Learning?](https://labelyourdata.com/articles/machine-learning-for-wine-quality-prediction) on physiochemical properties\n",
    "- [Ever Want To Own A Vineyard? Be A Winemaker?](https://theruggedmale.com/ever-want-to-own-a-vineyard-be-a-wine-maker/) - microwinery? [Columbia Crest](https://www.multivu.com/players/English/7289351-columbia-crest-winery-vineyard-to-table-crowdsourced-cabernet-sauvignon/) first winery to crowdsource a wine"
   ]
  },
  {
   "cell_type": "markdown",
   "metadata": {},
   "source": [
    "**Fun Facts**"
   ]
  },
  {
   "cell_type": "markdown",
   "metadata": {},
   "source": [
    "- [How the Guinness Brewery Invented the Most Important Statistical Method in Science](https://www.linkedin.com/pulse/how-guinness-brewery-invented-most-important-statistical-iysze/)",
    "- [4 Unbelievable Wine Regions](https://winefolly.com/deep-dive/5-unbelievable-wine-regions/) - vineyards in the Gobi Desert"
   ]
  }
 ],
 "metadata": {
  "language_info": {
   "name": "python"
  }
 },
 "nbformat": 4,
 "nbformat_minor": 2
}
