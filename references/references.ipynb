{
 "cells": [
  {
   "cell_type": "markdown",
   "metadata": {},
   "source": [
    "# References\n",
    "\n",
    "Similar and related projects from which to draw inspiration."
   ]
  },
  {
   "cell_type": "markdown",
   "metadata": {},
   "source": [
    "**Wine Basics**\n",
    "\n",
    "- [Learn Wine With The 9 Major Styles](https://winefolly.com/tips/the-9-major-wine-styles/) &nbsp; <img src=\"https://raw.githubusercontent.com/FortAwesome/Font-Awesome/6.x/svgs/solid/crown.svg\" width=\"25\" height=\"25\">\n",
    "- [The 9 Primary Styles of Wine](https://winefolly.com/deep-dive/everything-you-need-to-know-about-wine-in-9-bottles/)\n",
    "- [Common Types of Wine (The Top Varieties)](https://winefolly.com/deep-dive/common-types-of-wine/)\n",
    "- [Guide to Wine For Beginners (Infographic)](https://winefolly.com/tips/wine-for-beginners-infographic/)\n",
    "- [Identifying Flavors in Wine](https://winefolly.com/deep-dive/identifying-flavors-in-wine/)\n",
    "- [Wines Listed from Dry to Sweet (Charts)](https://winefolly.com/tips/wines-listed-dry-sweet/)\n",
    "- [The Different Types of Wine](https://winefolly.com/deep-dive/different-types-of-wine/)\n",
    "- [Wine Flavors: What’s Right? What’s Wrong?](https://winefolly.com/deep-dive/wine-flavors-whats-right-whats-wrong/)\n",
    "- [The Secret to Blind Tasting? Learn The “Tasting Grid”](https://winefolly.com/deep-dive/blind-wine-tasting-grid-pdf/)\n",
    "- [Learn How to Taste Wine and Develop Your Palate](https://winefolly.com/deep-dive/how-to-taste-wine-develop-palate/) and [How To Taste Wine]([How To Taste Wine – Video Series (Ep. 3)](https://winefolly.com/video/how-to-taste-wine-video-series-ep-3/))\n",
    "- [Geek Technique on How to Taste Red Wine](https://winefolly.com/tips/how-to-taste-red-wine/)"
   ]
  },
  {
   "cell_type": "markdown",
   "metadata": {},
   "source": [
    "**Similar Projects**"
   ]
  },
  {
   "cell_type": "markdown",
   "metadata": {},
   "source": [
    "- [Analyzing Wine Descriptions using the Natural Language Toolkit in Python](https://medium.com/towards-data-science/analyzing-wine-descriptions-using-the-natural-language-toolkit-in-python-497ac1e228d5) - n-grams\n",
    "- [Using Neural Networks & Natural Language Processing to Classify Prices of Wine](https://medium.com/analytics-vidhya/using-neural-networks-natural-language-processing-to-classify-prices-of-wine-6b3e37be169d)\n",
    "- [Final Project: [Uncorking Insights: A Data-Driven Exploration of Global Wine Quality, Pricing, Taster Bias, and Regional Variation]](https://www.stat.cmu.edu/capstoneresearch/315files_f24/team4.html#)\n",
    "- [Exploring and Classifying Wine Enthusiast Reviews](https://medium.com/jbencina/exploring-and-classifying-wine-enthusiast-reviews-c4cb54b4023)\n",
    "- [Wine Reviews](https://colab.research.google.com/drive/10P02OtmuI_dPXl_u0FulFWx4PPw2NoLx?usp=sharing) and [wine review in R](https://rpubs.com/edgarna70/winereview)\n",
    "- [A Statistical Analysis of Wine Reviews](https://mohannishant6.medium.com/a-statistical-analysis-of-wine-reviews-c9e46bff5f77)\n",
    "- [Wine quality factors from 130k reviews explained by Machine Learning](https://medium.com/data-and-beyond/wine-quality-factors-from-130k-reviews-shap-values-for-price-region-variety-designation-and-ad714cc59e5)\n",
    "- [Analyzing Wine Spectator Reviews: Searching for Value](https://nycdatascience.com/blog/student-works/analyzing-wine-spectator-reviews-searching-for-value/)\n",
    "- [Uncorking Insights: A Machine Learning Journey with Wine Data](https://medium.com/@adipusk/uncorking-insights-a-machine-learning-journey-with-wine-data-920a26836f23)\n",
    "- [Wine Review's EDA + Recommend Systems](https://www.kaggle.com/code/kabure/wine-review-s-eda-recommend-systems?scriptVersionId=28060373)\n",
    "- [Wine is OSEMN](https://medium.com/towards-data-science/wine-is-osemn-feaf4ce30c63) description length to points correlation\n",
    "- [How to Choose the Best Bottle of Wine With Scikit-Learn and a Bit of NLTK?](https://medium.com/swlh/how-to-choose-the-best-bottle-of-wine-with-scikit-learn-and-a-bit-of-nltk-f2965bd8cf6f)\n",
    "- [Exploring Wine Descriptions with NLP and kMeans](https://www.kaggle.com/code/kitakoj18/exploring-wine-descriptions-with-nlp-and-kmeans)\n",
    "- Wine Review [EDA_v1](https://www.kaggle.com/code/vishwaskant786/eda-v1)\n",
    "- [eda-wine-review](https://github.com/infoslack/eda-wine-review/blob/main/eda-wine-reviews.ipynb)\n",
    "- [Data Analysis Sample: Wine Tasting](https://medium.com/@tanzilo/data-analysis-sample-wine-tasting-97ecbbf05e9e) counts by wine tasters\n",
    "- [Grab Your Wine. Its Time to Demystify ML and NLP](https://www.ronaldjamesgroup.com/article/grab-your-wine-its-time-to-demystify-ml-and-nlp)\n",
    "- [wine-deep-learning](https://github.com/zackthoutt/wine-deep-learning) predictive model to identify wines through blind tasting like a master sommelier\n",
    "- [wine-reviews-kaggle](https://github.com/stoltzmaniac/wine-reviews-kaggle/tree/master) predict the number of points a wine will get\n",
    "- [Wine Reviews Dataset](https://www.kaggle.com/code/ttaccenture/wine-reviews-dataset)\n",
    "- [Wine Review Sentiment Analysis](https://www.kaggle.com/code/tuquesmith/wine-review-sentiment-analysis/edit) using Valence Aware Dictionary and Sentiment Reasoner and Roberta Pretained Model from Huggingface\n",
    "- [Wine Ratings Analysis w/ Supervised ML](https://www.kaggle.com/code/olivierg13/wine-ratings-analysis-w-supervised-ml)\n",
    "- [Mod5Project](https://github.com/harrisonhardin/Mod5Project) predict the score or price of the wine based on the length of the review\n",
    "- [Data Preprocessing1](https://www.kaggle.com/code/ayaehabramadan/data-preprocessing1)\n",
    "- [Wine Reviews Capstone Summary](https://rpubs.com/Jacqueline-Canty/1166409)\n"
   ]
  },
  {
   "cell_type": "markdown",
   "metadata": {},
   "source": [
    "**Wine Tasting**"
   ]
  },
  {
   "cell_type": "markdown",
   "metadata": {},
   "source": [
    "- [How the Wine-Tasting Process Works](https://www.wineenthusiast.com/submit-for-rating/tasting-process/?srsltid=AfmBOoo-gVk09-6EcZu3QBzaTDzfzeV2jBy6mmX4FYFFWerqtFsUrpnr)\n",
    "- [How to Taste Wine - Overview](https://www.vibecellars.com/vibe-cellars-winery-wine-tasting-resources.html) - wine Tasting Explained\n",
    "- [The Vivino Wine Rating System: Credibility of The Crowd](https://www.vivino.com/wine-news/vivino-5-star-rating-system)\n",
    "- [Wine 101: Gathering Data From Vivino](https://nycdatascience.com/blog/student-works/wine-101-gathering-data-from-vivino/) - wine recommendations\n",
    "- [A Pragmatic Approach to Using Wine Ratings](https://winefolly.com/tips/wine-ratings-explained/) - critics have different opinions\n",
    "- [40+ Wine Descriptions and What They Really Mean](https://winefolly.com/tips/40-wine-descriptions/)\n",
    "- [120 Most Common Wine Descriptions (Infographic)](https://winefolly.com/tips/wine-descriptions-chart-infographic/)\n",
    "- [Wine Scores: What They Mean and Do They Matter?](https://querciabella.com/posts/wine-scores/#:~:text=In%20the%201970s%2C%20Robert%20Parker,influence%20wine%20prices%20and%20popularity.)\n",
    "- [Why amateur wine scores are every bit as good as professionals’](https://www.vox.com/2016/12/15/13892364/wine-scores-critics-amateurs)"
   ]
  },
  {
   "cell_type": "markdown",
   "metadata": {},
   "source": [
    "**Subject Matter References**"
   ]
  },
  {
   "cell_type": "markdown",
   "metadata": {},
   "source": [
    "- [Wine Type Prediction With Supervised And Unsupervised Learning](https://rpubs.com/Billie/703946): PCA and Cluster Dendrogram by red & white wines\n",
    "- [Wine Ratings Prediction using Machine Learning](https://medium.com/towards-data-science/wine-ratings-prediction-using-machine-learning-ce259832b321): Vectorization and results\n",
    "- [Visualizing Wine Reviews Clustered by Word2Vec (Unsupervised Machine Learning) [OC]](https://www.reddit.com/r/dataisbeautiful/comments/9ere4r/visualizing_wine_reviews_clustered_by_word2vec/): Visualizing wine review word clusters\n",
    "- [Machine Learning for Quality Prediction Introduction The quality of wine is a complex interplay of various fact](https://www.linkedin.com/pulse/wine-review-analysis-exploring-machine-learning-quality-nithin-m-a-kp8uc/) - write up ideas\n",
    "- [WINE INFORMATICS:  CLUSTERING AND ANALYSIS OF PROFESSIONAL  WINE REVIEWS](Wine-Informatics-Clustering-and-Analysis-of-Professional-Wine-Reviews.pdf) - weights for word tokenization\n",
    "- [Data Visualizing Wine Reviews](https://nycdatascience.com/blog/student-works/data-visualizing-wine-reviews/) - visualizations of the wine review data\n",
    "- [The relationship of price to wine-quality scores](https://winegourd.blogspot.com/2019/08/the-relationship-of-price-to-wine.html) - exploration of quality to price\n",
    "- [Model Interpretability for Predicting Wine Prices](https://medium.com/the-wine-nerd/model-interpretability-for-predicting-wine-prices-ddd40766ce2b) - SHAP & LIME models to predictions\n",
    "- [The Global Wine Score data distribution](https://medium.com/the-global-wine-score/the-global-wine-score-data-distribution-a97cb67a1182) - comparing critics\n",
    "- [Crowdsourcing the assessment of wine quality: Vivino ratings, professional critics, and the weather](https://www.cambridge.org/core/journals/journal-of-wine-economics/article/crowdsourcing-the-assessment-of-wine-quality-vivino-ratings-professional-critics-and-the-weather/FE61BAFB8D167CD960BB260777189231) - correlation between critics\n",
    "- [Wine Quality Prediction -(Comparing Top ML Models)](https://www.kaggle.com/code/yasserh/wine-quality-prediction-comparing-top-ml-models)\n",
    "- [Main factors behind the wine quality](https://medium.com/data-and-beyond/main-factors-behind-the-wine-quality-shap-values-for-alcohol-free-sulfur-dioxide-and-other-eac2a8f6ecc1)\n",
    "- [How to Build a Wine Quality Prediction Model Using Machine Learning?](https://labelyourdata.com/articles/machine-learning-for-wine-quality-prediction)\n",
    "- [Can machines learn how to taste?](https://github.com/thoranna/learning_to_taste)"
   ]
  },
  {
   "cell_type": "markdown",
   "metadata": {},
   "source": [
    "**Machine Learning & Plotting Techniques**"
   ]
  },
  {
   "cell_type": "markdown",
   "metadata": {},
   "source": [
    "Machine Learning:\n",
    "- [Understanding Count Vectorizer](https://medium.com/swlh/understanding-count-vectorizer-5dd71530c1b) - purpose of params like `mindf` and `maxdf`\n",
    "- [HashingVectorizer vs. CountVectorizer](https://kavita-ganesan.com/hashingvectorizer-vs-countvectorizer/) - hashing vectorizer does not store the unique tokens, but handles large number of features better, and can be used for [out-of-core](https://scikit-learn.org/stable/auto_examples/applications/plot_out_of_core_classification.html#sphx-glr-auto-examples-applications-plot-out-of-core-classification-py) calssification\n",
    "- [Clustering documents with TFIDF and KMeans](https://www.kaggle.com/code/jbencina/clustering-documents-with-tfidf-and-kmeans) - unsupervised learning, Kmeans clustering with TF_IDF, along with **top keywords per cluster**\n",
    "- [Clustering text documents using k-means](https://scikit-learn.org/stable/auto_examples/text/plot_document_clustering.html#sphx-glr-auto-examples-text-plot-document-clustering-py) - MiniBatchKMeans, dimensionality reduction using latent [semantic analysis](https://en.wikipedia.org/wiki/Latent_semantic_analysis) (LSA)\n",
    "- [Classification of text documents using sparse features](https://scikit-learn.org/stable/auto_examples/text/plot_document_classification_20newsgroups.html#sphx-glr-auto-examples-text-plot-document-classification-20newsgroups-py) - supervised learning classification\n",
    "- [Topic extraction](https://scikit-learn.org/stable/auto_examples/applications/plot_topics_extraction_with_nmf_lda.html#sphx-glr-auto-examples-applications-plot-topics-extraction-with-nmf-lda-py) - apply NMF and LatentDirichletAllocation on a corpus of documents to extract additive models of the topic structure of the corpus\n",
    "- [stratified-sampling](https://www.kaggle.com/code/jardelnascimento/stratified-sampling) and [Stratified Sampling Using Pandas](https://proclusacademy.com/blog/stratified_sampling_pandas/) on stratified sampling\n",
    "- [Hugging Face: Understanding tokenizers](https://medium.com/@awaldeep/hugging-face-understanding-tokenizers-1b7e4afdb154) - intro to [hugging face](https://huggingface.co/learn/nlp-course/en/chapter1/1?fw=pt) and tokenizers for NLP\n",
    "- [Parallel Text Processing](https://github.com/rafaelvalero/ParallelTextProcessing/blob/master/parallelizing_text_processing.ipynb) - `fit` phase is dificcult to parallelize, however, the transform apparently lends itself well.\n",
    "- [Tokenization in NLP](https://www.kaggle.com/code/satishgunjal/tokenization-in-nlp) and [Llama Tokenizer\n",
    "](https://medium.com/@manyi.yim/in-depth-understanding-of-llama-tokenizer-d91777025dab)\n",
    "- [NLP Preprocessing & Feature Extraction Methods A-Z](https://www.kaggle.com/code/longtng/nlp-preprocessing-feature-extraction-methods-a-z)\n",
    "- [Ensembles in Machine Learning](https://towardsdatascience.com/ensembles-in-machine-learning-9128215629d1/)\n",
    "- [Ensemble Learning: Bagging & Boosting](https://towardsdatascience.com/ensemble-learning-bagging-boosting-3098079e5422/) - bagging & boosting\n",
    "- [Machine Learning Classification using KNN, Decision Tree, SVM, Logistic Regression](https://medium.com/@yashvardhanvs/machine-learning-classification-using-knn-decision-tree-svm-logistic-regression-3fb99d618185)\n",
    "- [SHAP Values Explained](https://medium.com/biased-algorithms/shap-values-explained-08764ab16466)\n",
    "- [Autofeat: Automating Feature Engineering with Python](https://medium.com/@boukamchahamdi/autofeat-automating-feature-engineering-with-python-f22ec23265a9)\n",
    "- [Isolation Forest Algorithm: Critical for Anomaly Detection](https://medium.com/@ByteWaveNetwork/isolation-forest-algorithm-critical-for-anomaly-detection-3d8c33829565)\n",
    "- [Feature Selection Techniques in Machine Learning](https://medium.com/@jaberi.mohamedhabib/feature-selection-techniques-in-machine-learning-4c395e4a8205)\n",
    "- [Power of Regularization: L1, L2, Ridge, and Lasso Regression](https://medium.com/@adipusk/power-of-regularization-l1-l2-ridge-and-lasso-regression-caccc36e2dbb)\n",
    "- [Clustering & NLP: Brazilian Laws analysis with TF-IDF and K-Means](https://joaopedro214.medium.com/clustering-nlp-brazilian-laws-analysis-with-tf-idf-and-k-means-c0495c7c9c5f)\n",
    "- [How to cluster similar sentences using TF-IDF](https://towardsdatascience.com/how-to-cluster-similar-sentences-using-tf-idf-and-graph-partitioning-in-python-5fb70627a4e0/)\n",
    "- [NLTK tutorial](https://www.youtube.com/playlist?list=PLQVvvaa0QuDf2JswnfiGkliBInZnIC4HL) on utube\n",
    "- [A Dummy’s Guide to Word2Vec](https://medium.com/@manansuri/a-dummys-guide-to-word2vec-456444f3c673)\n",
    "\n",
    "Plotting\n",
    "- [Learn Data Science using Wine Reviews Analysis](https://github.com/nithinmanayilghub/HiDevs-Full-Stack-Gen-AI-Bootcamp-001/blob/31f345d449fd44e54a6aa30db7de87f1d689c4aa/Week-4/Wine%20Review%20Analysis/Wine%20Review%20Analysis.ipynb) - various plots & charts\n",
    "- [Wine Grouping](https://github.com/Ireanuoluwa/Wine-Clustering/blob/main/Clustering%20(Unsupervised%20Learning).ipynb) - KMeans and Agglomerative Clustering examples\n",
    "- [Wine Quality Dataset](https://github.com/pc1991/Wine/blob/main/Dotplot%20Comparing%20Wine%20Algorithms.png) - plots of errors\n",
    "- [Unsupervised Learning Series: Exploring Hierarchical Clustering](https://medium.com/towards-data-science/unsupervised-learning-series-exploring-hierarchical-clustering-15d992467aa8) - Agglomerative Clustering\n",
    "- more [Agglomerative Clustering!!!\n",
    "](https://medium.com/@shreyasrivastav26/agglomerative-clustering-d37f2610893) - Agglomerative Clustering\n",
    "- [An Uncomplicated Guide to Unsupervised Machine Learning (2023)\n",
    "](https://www.dataquest.io/blog/unsupervised-machine-learning/)\n",
    "- [KMeans Clustering and PCA on Wine Dataset](https://www.geeksforgeeks.org/kmeans-clustering-and-pca-on-wine-dataset/)\n",
    "- [Correlating Wine Price and Quality](https://sarkisben.github.io/ds3001/DataAnalysis/quality-vs-price.html) - chart ideas\n",
    "- [Red Wine Quality Exploration](https://medium.com/@jeromevonk/red-wine-quality-exploration-ea88e6b0e3c5) - writeup\n",
    "- [Data Visualization of Wine Reviews](https://www.kaggle.com/code/mcevatb/data-visualization-of-wine-reviews)\n",
    "- [WordClouds with Python](https://medium.com/@m3redithw/wordclouds-with-python-c287887acc8b)\n",
    "- [t-SNE and UMAP projections in Python](https://plotly.com/python/t-sne-and-umap-projections/) for plotting high dimensionality data into 2d or 3d\n",
    "- [Wine grouped by tasting notes (using NLP and semantic similarity)](https://www.reddit.com/r/dataisbeautiful/comments/141cx1n/oc_wine_grouped_by_tasting_notes_using_nlp_and/)\n",
    "- [Generating WordClouds in Python Tutorial](https://www.datacamp.com/tutorial/wordcloud-python) Exploratory Data Analysis on Wine Reviews for Natural Language Processing using WordCloud following color patterns and shapes\n",
    "- [Visualization with Matplotlib](https://www.oreilly.com/library/view/python-data-science/9781491912126/ch04.html) from O'Reilly book\n",
    "- [Is Matplotlib Still the Best Python Library for Static Plots?](https://towardsdatascience.com/is-matplotlib-still-the-best-python-library-for-static-plots-a933c092cd49/) various plotting libraries\n",
    "- [Making Matplotlib Beautiful By Default](https://medium.com/towards-data-science/making-matplotlib-beautiful-by-default-d0d41e3534fd)\n",
    "- [Python Plotly Express Tutorial: Unlock Beautiful Visualizations](https://www.datacamp.com/tutorial/python-plotly-express-tutorial)\n",
    "- [Learn how to create beautiful and insightful charts with Python](https://medium.com/towards-data-science/plotting-with-python-c2561b8c0f1f)\n",
    "- [Bivariate Plotting With Pandas](https://www.kaggle.com/code/crklausenburg/bivariate-plotting-with-pandas)\n",
    "- []()"
   ]
  },
  {
   "cell_type": "markdown",
   "metadata": {},
   "source": [
    "**Related**"
   ]
  },
  {
   "cell_type": "markdown",
   "metadata": {},
   "source": [
    "- [How to Build a Wine Quality Prediction Model Using Machine Learning?](https://labelyourdata.com/articles/machine-learning-for-wine-quality-prediction) on physiochemical properties\n",
    "- [Understanding Quality of Pinot Noir Wine: Can Modelling and Machine Learning Pave the Way?](https://pmc.ncbi.nlm.nih.gov/articles/PMC9562230/)\n",
    "- [Ever Want To Own A Vineyard? Be A Winemaker?](https://theruggedmale.com/ever-want-to-own-a-vineyard-be-a-wine-maker/) - microwinery? [Columbia Crest](https://www.multivu.com/players/English/7289351-columbia-crest-winery-vineyard-to-table-crowdsourced-cabernet-sauvignon/) first winery to crowdsource a wine\n",
    "- [What are the different transformers for LLMs like Bert, ChatGPT, and Google Flan T5?](https://medium.com/@jimwang3589/what-are-the-different-transformers-for-llms-like-bert-chatgpt-and-google-flan-t5-2a52f4dd132f) - intro to transformers\n",
    "- [WSET Level 1 Wine Online | On-Demand Course](https://napavalleywineacademy.com/collections/all/products/wset-level-1-wine-online-on-demand-course?_pos=7&_fid=0142c084e&_ss=c)\n",
    "- [mermaid](https://mermaid.js.org/#/) Diagramming and charting tool\\\n",
    "- [AwesomeIcon in ipyleaflet](https://ipyleaflet.readthedocs.io/en/latest/layers/awesome_icon.html) Font-Awesome icons as map markers"
   ]
  },
  {
   "cell_type": "markdown",
   "metadata": {},
   "source": [
    "**Fun Facts**"
   ]
  },
  {
   "cell_type": "markdown",
   "metadata": {},
   "source": [
    "- [Wine Holidays of the Year](https://winefolly.com/lifestyle/national-wine-day/#google) - Official Wine Day Calendar\n",
    "- [How the Guinness Brewery Invented the Most Important Statistical Method in Science](https://www.linkedin.com/pulse/how-guinness-brewery-invented-most-important-statistical-iysze/)\n",
    "- [4 Unbelievable Wine Regions](https://winefolly.com/deep-dive/5-unbelievable-wine-regions/) - vineyards in the Gobi Desert\n"
   ]
  }
 ],
 "metadata": {
  "kernelspec": {
   "display_name": ".venv",
   "language": "python",
   "name": "python3"
  },
  "language_info": {
   "name": "python",
   "version": "3.12.8"
  }
 },
 "nbformat": 4,
 "nbformat_minor": 2
}
