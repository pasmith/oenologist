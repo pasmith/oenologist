{
 "cells": [
  {
   "cell_type": "markdown",
   "metadata": {},
   "source": [
    "# NLP Toolkit Selection"
   ]
  },
  {
   "cell_type": "markdown",
   "metadata": {},
   "source": [
    "### Load Cleansed Wine Reviews\n",
    "\n",
    "See [data preparation](wine_review-data_preparation.ipynb) for details on the prepared dataset."
   ]
  },
  {
   "cell_type": "markdown",
   "metadata": {},
   "source": [
    "Libraries"
   ]
  },
  {
   "cell_type": "code",
   "execution_count": 18,
   "metadata": {},
   "outputs": [],
   "source": [
    "import pandas as pd\n",
    "import numpy as np\n",
    "\n",
    "from IPython.display import Markdown, display\n",
    "from tqdm import tqdm\n",
    "tqdm.pandas()\n",
    "\n",
    "import matplotlib.pyplot as plt"
   ]
  },
  {
   "cell_type": "code",
   "execution_count": 19,
   "metadata": {},
   "outputs": [
    {
     "data": {
      "text/html": [
       "<div>\n",
       "<style scoped>\n",
       "    .dataframe tbody tr th:only-of-type {\n",
       "        vertical-align: middle;\n",
       "    }\n",
       "\n",
       "    .dataframe tbody tr th {\n",
       "        vertical-align: top;\n",
       "    }\n",
       "\n",
       "    .dataframe thead th {\n",
       "        text-align: right;\n",
       "    }\n",
       "</style>\n",
       "<table border=\"1\" class=\"dataframe\">\n",
       "  <thead>\n",
       "    <tr style=\"text-align: right;\">\n",
       "      <th></th>\n",
       "      <th>title</th>\n",
       "      <th>winery</th>\n",
       "      <th>year</th>\n",
       "      <th>variety</th>\n",
       "      <th>description</th>\n",
       "    </tr>\n",
       "  </thead>\n",
       "  <tbody>\n",
       "    <tr>\n",
       "      <th>0</th>\n",
       "      <td>Nicosia 2013 Vulkà Bianco  (Etna)</td>\n",
       "      <td>Nicosia</td>\n",
       "      <td>2013</td>\n",
       "      <td>White Blend</td>\n",
       "      <td>Aromas include tropical fruit, broom, brimston...</td>\n",
       "    </tr>\n",
       "    <tr>\n",
       "      <th>1</th>\n",
       "      <td>Quinta dos Avidagos 2011 Avidagos Red (Douro)</td>\n",
       "      <td>Quinta dos Avidagos</td>\n",
       "      <td>2011</td>\n",
       "      <td>Portuguese Red</td>\n",
       "      <td>This is ripe and fruity, a wine that is smooth...</td>\n",
       "    </tr>\n",
       "    <tr>\n",
       "      <th>2</th>\n",
       "      <td>Rainstorm 2013 Pinot Gris (Willamette Valley)</td>\n",
       "      <td>Rainstorm</td>\n",
       "      <td>2013</td>\n",
       "      <td>Pinot Gris</td>\n",
       "      <td>Tart and snappy, the flavors of lime flesh and...</td>\n",
       "    </tr>\n",
       "    <tr>\n",
       "      <th>3</th>\n",
       "      <td>St. Julian 2013 Reserve Late Harvest Riesling ...</td>\n",
       "      <td>St. Julian</td>\n",
       "      <td>2013</td>\n",
       "      <td>Riesling</td>\n",
       "      <td>Pineapple rind, lemon pith and orange blossom ...</td>\n",
       "    </tr>\n",
       "    <tr>\n",
       "      <th>4</th>\n",
       "      <td>Sweet Cheeks 2012 Vintner's Reserve Wild Child...</td>\n",
       "      <td>Sweet Cheeks</td>\n",
       "      <td>2012</td>\n",
       "      <td>Pinot Noir</td>\n",
       "      <td>Much like the regular bottling from 2012, this...</td>\n",
       "    </tr>\n",
       "  </tbody>\n",
       "</table>\n",
       "</div>"
      ],
      "text/plain": [
       "                                               title               winery  \\\n",
       "0                  Nicosia 2013 Vulkà Bianco  (Etna)              Nicosia   \n",
       "1      Quinta dos Avidagos 2011 Avidagos Red (Douro)  Quinta dos Avidagos   \n",
       "2      Rainstorm 2013 Pinot Gris (Willamette Valley)            Rainstorm   \n",
       "3  St. Julian 2013 Reserve Late Harvest Riesling ...           St. Julian   \n",
       "4  Sweet Cheeks 2012 Vintner's Reserve Wild Child...         Sweet Cheeks   \n",
       "\n",
       "   year         variety                                        description  \n",
       "0  2013     White Blend  Aromas include tropical fruit, broom, brimston...  \n",
       "1  2011  Portuguese Red  This is ripe and fruity, a wine that is smooth...  \n",
       "2  2013      Pinot Gris  Tart and snappy, the flavors of lime flesh and...  \n",
       "3  2013        Riesling  Pineapple rind, lemon pith and orange blossom ...  \n",
       "4  2012      Pinot Noir  Much like the regular bottling from 2012, this...  "
      ]
     },
     "execution_count": 19,
     "metadata": {},
     "output_type": "execute_result"
    }
   ],
   "source": [
    "wine_df = pd.read_parquet('files/wine_review.parquet.gzip')\n",
    "wine_df[['title', 'winery', 'year', 'variety', 'description']].head()"
   ]
  },
  {
   "cell_type": "markdown",
   "metadata": {},
   "source": [
    "**Pick a review**"
   ]
  },
  {
   "cell_type": "code",
   "execution_count": 20,
   "metadata": {},
   "outputs": [
    {
     "name": "stdout",
     "output_type": "stream",
     "text": [
      "Wente 2008 Shorthorn Canyon Syrah (Livermore Valley)\n"
     ]
    },
    {
     "data": {
      "text/markdown": [
       "Savory on the nose with enough sweet blueberry to make it varietally enticing, this light purplish Syrah is well-balanced, pleasing and well-made, ready to drink now with a range of foods, its alcohol in proportion and acidity right on target. Wente blends in small percentages of Counoise, Petite Sirah, Mourvèdre and Tempranillo into this great-value Syrah. Delicious."
      ],
      "text/plain": [
       "<IPython.core.display.Markdown object>"
      ]
     },
     "metadata": {},
     "output_type": "display_data"
    }
   ],
   "source": [
    "# pick a review at random\n",
    "review = next(wine_df[['title','description']].sample(1, random_state=28).itertuples())\n",
    "print(review.title)\n",
    "display(Markdown(review.description))"
   ]
  },
  {
   "cell_type": "markdown",
   "metadata": {},
   "source": [
    "**Define a corpus for performance testing**"
   ]
  },
  {
   "cell_type": "code",
   "execution_count": 21,
   "metadata": {},
   "outputs": [
    {
     "data": {
      "text/plain": [
       "12616    87—89 Barrel sample. Soft fruit, followed by h...\n",
       "49741    Rock solid, clean and composed. For the past s...\n",
       "35244    This uber-informal wine has faint aromas that ...\n",
       "52642    Those mountain tannins are here in spades, and...\n",
       "83201    The aromas are light initially, with notes of ...\n",
       "Name: description, dtype: object"
      ]
     },
     "execution_count": 21,
     "metadata": {},
     "output_type": "execute_result"
    }
   ],
   "source": [
    "corpus = wine_df[['title', 'winery', 'year', 'variety', 'description']].sample(100, random_state=42).description\n",
    "corpus.head()"
   ]
  },
  {
   "cell_type": "markdown",
   "metadata": {},
   "source": [
    "## NLTK"
   ]
  },
  {
   "cell_type": "markdown",
   "metadata": {},
   "source": [
    "**Load NLP toolkit**"
   ]
  },
  {
   "cell_type": "code",
   "execution_count": 22,
   "metadata": {},
   "outputs": [
    {
     "name": "stderr",
     "output_type": "stream",
     "text": [
      "[nltk_data] Downloading package punkt to /Users/patrick/nltk_data...\n",
      "[nltk_data]   Package punkt is already up-to-date!\n",
      "[nltk_data] Downloading package averaged_perceptron_tagger to\n",
      "[nltk_data]     /Users/patrick/nltk_data...\n",
      "[nltk_data]   Package averaged_perceptron_tagger is already up-to-\n",
      "[nltk_data]       date!\n",
      "[nltk_data] Error loading maxevent_ne_chunker: Package\n",
      "[nltk_data]     'maxevent_ne_chunker' not found in index\n",
      "[nltk_data] Downloading package words to /Users/patrick/nltk_data...\n",
      "[nltk_data]   Package words is already up-to-date!\n"
     ]
    },
    {
     "data": {
      "text/plain": [
       "True"
      ]
     },
     "execution_count": 22,
     "metadata": {},
     "output_type": "execute_result"
    }
   ],
   "source": [
    "import nltk\n",
    "\n",
    "nltk.download('punkt')\n",
    "nltk.download('averaged_perceptron_tagger')\n",
    "nltk.download('maxevent_ne_chunker')\n",
    "nltk.download('words')"
   ]
  },
  {
   "cell_type": "markdown",
   "metadata": {},
   "source": [
    "**Split review into sentences**"
   ]
  },
  {
   "cell_type": "code",
   "execution_count": 23,
   "metadata": {},
   "outputs": [
    {
     "data": {
      "text/plain": [
       "['Savory on the nose with enough sweet blueberry to make it varietally enticing, this light purplish Syrah is well-balanced, pleasing and well-made, ready to drink now with a range of foods, its alcohol in proportion and acidity right on target.',\n",
       " 'Wente blends in small percentages of Counoise, Petite Sirah, Mourvèdre and Tempranillo into this great-value Syrah.',\n",
       " 'Delicious.']"
      ]
     },
     "execution_count": 23,
     "metadata": {},
     "output_type": "execute_result"
    }
   ],
   "source": [
    "sentences = nltk.sent_tokenize(review.description)\n",
    "sentences"
   ]
  },
  {
   "cell_type": "markdown",
   "metadata": {},
   "source": [
    "**Tokenize the words in each sentence**"
   ]
  },
  {
   "cell_type": "code",
   "execution_count": 24,
   "metadata": {},
   "outputs": [
    {
     "data": {
      "text/plain": [
       "['Savory', 'nose', 'enough', 'sweet', 'blueberry']"
      ]
     },
     "execution_count": 24,
     "metadata": {},
     "output_type": "execute_result"
    }
   ],
   "source": [
    "import string\n",
    "from nltk.corpus import stopwords\n",
    "\n",
    "swords = stopwords.words('english')\n",
    "swords.extend(['make', 'drink', 'wine', '%'])\n",
    "\n",
    "tokenized_sentences = [list(filter(lambda word: (word not in string.punctuation) and (word.lower() not in swords), nltk.word_tokenize(sentence))) for sentence in sentences]\n",
    "tokenized_sentences[0][:5]"
   ]
  },
  {
   "cell_type": "markdown",
   "metadata": {},
   "source": [
    "**Tag each word in sentence for parts of speech**"
   ]
  },
  {
   "cell_type": "code",
   "execution_count": 25,
   "metadata": {},
   "outputs": [
    {
     "data": {
      "text/plain": [
       "[('Savory', 'NNP'),\n",
       " ('nose', 'RB'),\n",
       " ('enough', 'RB'),\n",
       " ('sweet', 'JJ'),\n",
       " ('blueberry', 'NNS')]"
      ]
     },
     "execution_count": 25,
     "metadata": {},
     "output_type": "execute_result"
    }
   ],
   "source": [
    "tagged_sentences = [nltk.pos_tag(sentence) for sentence in tokenized_sentences]\n",
    "tagged_sentences[0][:5]"
   ]
  },
  {
   "cell_type": "markdown",
   "metadata": {},
   "source": [
    "**Named entity recognition**"
   ]
  },
  {
   "cell_type": "code",
   "execution_count": 26,
   "metadata": {},
   "outputs": [
    {
     "data": {
      "text/plain": [
       "[Tree('GPE', [('Savory', 'NNP')]),\n",
       " ('nose', 'RB'),\n",
       " ('enough', 'RB'),\n",
       " ('sweet', 'JJ'),\n",
       " ('blueberry', 'NNS')]"
      ]
     },
     "execution_count": 26,
     "metadata": {},
     "output_type": "execute_result"
    }
   ],
   "source": [
    "chunked_sentences = [tree for tree in nltk.ne_chunk_sents(tagged_sentences)]\n",
    "chunked_sentences[0][:5]"
   ]
  },
  {
   "cell_type": "markdown",
   "metadata": {},
   "source": [
    "**Remove named entities from each sentence**"
   ]
  },
  {
   "cell_type": "code",
   "execution_count": 27,
   "metadata": {},
   "outputs": [
    {
     "data": {
      "text/markdown": [
       "**Description**: Savory on the nose with enough sweet blueberry to make it varietally enticing, this light purplish Syrah is well-balanced, pleasing and well-made, ready to drink now with a range of foods, its alcohol in proportion and acidity right on target. Wente blends in small percentages of Counoise, Petite Sirah, Mourvèdre and Tempranillo into this great-value Syrah. Delicious."
      ],
      "text/plain": [
       "<IPython.core.display.Markdown object>"
      ]
     },
     "metadata": {},
     "output_type": "display_data"
    },
    {
     "data": {
      "text/markdown": [
       "**After preprocessing**: nose enough sweet blueberry varietally enticing light purplish Syrah well-balanced pleasing well-made ready range foods alcohol proportion acidity right target blends small percentages great-value Syrah Delicious"
      ],
      "text/plain": [
       "<IPython.core.display.Markdown object>"
      ]
     },
     "metadata": {},
     "output_type": "display_data"
    }
   ],
   "source": [
    "def extract_entity_names(t):\n",
    "    entity_names = []\n",
    "    if hasattr(t, 'label'):\n",
    "        if t.label() in ['GPE', 'PERSON', 'PROPN']:\n",
    "            entity_names.extend([child[0] for child in t])\n",
    "        else:\n",
    "            for child in t:\n",
    "                entity_names.extend(extract_entity_names(child))\n",
    "    return entity_names\n",
    "\n",
    "\n",
    "preprocessed_description = ' '.join([\n",
    "  word    \n",
    "  for i, tree in enumerate(chunked_sentences)\n",
    "  for word in list(filter(lambda word: word not in extract_entity_names(tree), tokenized_sentences[i]))\n",
    "])\n",
    "\n",
    "display(Markdown('**Description**: ' + review.description))\n",
    "display(Markdown('**After preprocessing**: ' + preprocessed_description))"
   ]
  },
  {
   "cell_type": "markdown",
   "metadata": {},
   "source": [
    "**Performance Evaluation**"
   ]
  },
  {
   "cell_type": "code",
   "execution_count": 28,
   "metadata": {},
   "outputs": [],
   "source": [
    "def nltk_preprocess(doc):\n",
    "  sentences = nltk.sent_tokenize(doc)\n",
    "  tokenized_sentences = [list(filter(lambda word: (word not in string.punctuation) and (word.lower() not in swords), nltk.word_tokenize(sentence))) for sentence in sentences]\n",
    "  tagged_sentences = [nltk.pos_tag(sentence) for sentence in tokenized_sentences]\n",
    "  chunked_sentences = nltk.ne_chunk_sents(tagged_sentences)\n",
    "\n",
    "  def extract_entity_names(t):\n",
    "    entity_names = []\n",
    "    if hasattr(t, 'label'):\n",
    "      if t.label() in ['GPE', 'PERSON', 'PROPN']:\n",
    "        entity_names.extend([child[0] for child in t])\n",
    "      else:\n",
    "        for child in t:\n",
    "          entity_names.extend(extract_entity_names(child))\n",
    "    return entity_names\n",
    "\n",
    "\n",
    "  return ' '.join([\n",
    "    word    \n",
    "    for i, tree in enumerate(chunked_sentences)\n",
    "    for word in list(filter(lambda word: word not in extract_entity_names(tree), tokenized_sentences[i]))\n",
    "  ])"
   ]
  },
  {
   "cell_type": "code",
   "execution_count": 29,
   "metadata": {},
   "outputs": [
    {
     "name": "stderr",
     "output_type": "stream",
     "text": [
      "100%|██████████| 100/100 [00:30<00:00,  3.30it/s]"
     ]
    },
    {
     "name": "stdout",
     "output_type": "stream",
     "text": [
      "CPU times: user 28.7 s, sys: 1.44 s, total: 30.1 s\n",
      "Wall time: 30.3 s\n"
     ]
    },
    {
     "name": "stderr",
     "output_type": "stream",
     "text": [
      "\n"
     ]
    },
    {
     "data": {
      "text/plain": [
       "12616     87—89 sample fruit followed high acids layer d...\n",
       "49741     solid clean composed past several years Malbec...\n",
       "35244     uber-informal faint aromas recall pressed wild...\n",
       "52642     mountain tannins spades even though 're ripe s...\n",
       "83201     aromas light initially notes cocoa herb barrel...\n",
       "                                ...                        \n",
       "66961     predominantly Merlot 83 along Sauvignon 9 Syra...\n",
       "95467     blend 60 40 del opulent dessert opens intense ...\n",
       "102544    soft broadly fruity Chardonnay near-tropical r...\n",
       "39464     Crafted vines old Jean-Louis Grippat estate wo...\n",
       "70310     best new releases massive sourced outstanding ...\n",
       "Name: description, Length: 100, dtype: object"
      ]
     },
     "execution_count": 29,
     "metadata": {},
     "output_type": "execute_result"
    }
   ],
   "source": [
    "%%time\n",
    "corpus.progress_apply(nltk_preprocess)"
   ]
  },
  {
   "cell_type": "markdown",
   "metadata": {},
   "source": [
    "## spaCy"
   ]
  },
  {
   "cell_type": "markdown",
   "metadata": {},
   "source": [
    "**Load NLP toolkit**"
   ]
  },
  {
   "cell_type": "code",
   "execution_count": 30,
   "metadata": {},
   "outputs": [],
   "source": [
    "import spacy\n",
    "nlp = spacy.load(\"en_core_web_sm\")"
   ]
  },
  {
   "cell_type": "markdown",
   "metadata": {},
   "source": [
    "**Preprocess Text**"
   ]
  },
  {
   "cell_type": "code",
   "execution_count": 31,
   "metadata": {},
   "outputs": [
    {
     "data": {
      "text/markdown": [
       "**Description**: Savory on the nose with enough sweet blueberry to make it varietally enticing, this light purplish Syrah is well-balanced, pleasing and well-made, ready to drink now with a range of foods, its alcohol in proportion and acidity right on target. Wente blends in small percentages of Counoise, Petite Sirah, Mourvèdre and Tempranillo into this great-value Syrah. Delicious."
      ],
      "text/plain": [
       "<IPython.core.display.Markdown object>"
      ]
     },
     "metadata": {},
     "output_type": "display_data"
    },
    {
     "data": {
      "text/markdown": [
       "**After preprocessing**: nose enough sweet blueberry varietally enticing light purplish Syrah well-balanced pleasing well-made ready range foods alcohol proportion acidity right target blends small percentages great-value Syrah Delicious"
      ],
      "text/plain": [
       "<IPython.core.display.Markdown object>"
      ]
     },
     "metadata": {},
     "output_type": "display_data"
    }
   ],
   "source": [
    "keep = lambda token: (token[1] not in ['PUNCT','PROPN', 'NUM']) and (token[0].lower() not in swords)\n",
    "spacy_preprocess = lambda doc: ' '.join(map(lambda token: token[0], filter(keep, [(w.lemma_, w.pos_) for w in nlp(doc)])))\n",
    "\n",
    "display(Markdown('**Description**: ' + review.description))\n",
    "display(Markdown('**After preprocessing**: ' + preprocessed_description))"
   ]
  },
  {
   "cell_type": "markdown",
   "metadata": {},
   "source": [
    "**Performance Evaluation**"
   ]
  },
  {
   "cell_type": "code",
   "execution_count": 32,
   "metadata": {},
   "outputs": [
    {
     "name": "stderr",
     "output_type": "stream",
     "text": [
      "100%|██████████| 100/100 [00:01<00:00, 93.23it/s] "
     ]
    },
    {
     "name": "stdout",
     "output_type": "stream",
     "text": [
      "CPU times: user 976 ms, sys: 52.8 ms, total: 1.03 s\n",
      "Wall time: 1.07 s\n"
     ]
    },
    {
     "name": "stderr",
     "output_type": "stream",
     "text": [
      "\n"
     ]
    },
    {
     "data": {
      "text/plain": [
       "12616     sample soft fruit follow high acid layer dry t...\n",
       "49741     rock solid clean compose past several year mer...\n",
       "35244     uber informal faint aroma recall press wildflo...\n",
       "52642     mountain tannin spade even though ripe sweet g...\n",
       "83201     aroma light initially note cocoa herb barrel s...\n",
       "                                ...                        \n",
       "66961     predominantly along pleasing aroma suggest blu...\n",
       "95467     blend opulent dessert open intense aroma dry b...\n",
       "102544    soft broadly fruity near tropical ripeness pap...\n",
       "39464     craft vine old estate wonderfully complex yet ...\n",
       "70310     good new release massive source outstanding pa...\n",
       "Name: description, Length: 100, dtype: object"
      ]
     },
     "execution_count": 32,
     "metadata": {},
     "output_type": "execute_result"
    }
   ],
   "source": [
    "%%time\n",
    "corpus.progress_apply(spacy_preprocess)"
   ]
  },
  {
   "cell_type": "markdown",
   "metadata": {},
   "source": [
    "## Conclusion"
   ]
  },
  {
   "cell_type": "markdown",
   "metadata": {},
   "source": [
    "[spaCy](https://spacy.io/) appears to be a much better choice. It is significantly easier to use, does a better job of recognizing proper nouns, and performs much faster. Given the size of the corpus we want to analyze, we will select spaCy as our NLP toolkit."
   ]
  },
  {
   "cell_type": "markdown",
   "metadata": {},
   "source": [
    "# Next Step\n",
    "- [Preprocess reviews with spaCy](wine_reviews-spacy_preprocess.ipynb)"
   ]
  }
 ],
 "metadata": {
  "kernelspec": {
   "display_name": ".venv",
   "language": "python",
   "name": "python3"
  },
  "language_info": {
   "codemirror_mode": {
    "name": "ipython",
    "version": 3
   },
   "file_extension": ".py",
   "mimetype": "text/x-python",
   "name": "python",
   "nbconvert_exporter": "python",
   "pygments_lexer": "ipython3",
   "version": "3.11.11"
  }
 },
 "nbformat": 4,
 "nbformat_minor": 2
}
