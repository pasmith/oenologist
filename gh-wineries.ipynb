{
 "cells": [
  {
   "cell_type": "code",
   "execution_count": 1,
   "metadata": {},
   "outputs": [],
   "source": [
    "# libraries\n",
    "import numpy as np\n",
    "import pandas as pd\n",
    "import geopandas as gpd\n",
    "import os\n",
    "import json\n",
    "from collections import namedtuple"
   ]
  },
  {
   "cell_type": "markdown",
   "metadata": {},
   "source": [
    "### Load Data"
   ]
  },
  {
   "cell_type": "code",
   "execution_count": 2,
   "metadata": {},
   "outputs": [],
   "source": [
    "# helper to extract region and country information from raw dataset\n",
    "def extract_region(k: str) -> tuple[str]:\n",
    "  parts = k.split(', ')\n",
    "  if len(parts) == 2:\n",
    "    return parts\n",
    "  elif len(parts) == 3:\n",
    "    return {parts[0], parts[2]}\n",
    "  elif len(parts) < 2:\n",
    "    if parts[0] == 'Unknown':\n",
    "      return [None] * 2\n",
    "    print(len(parts), parts)    \n",
    "    return [parts[0], None]\n",
    "  else:\n",
    "    print(len(parts), parts)\n",
    "    return [parts[0], parts[1]]"
   ]
  },
  {
   "cell_type": "code",
   "execution_count": 3,
   "metadata": {},
   "outputs": [],
   "source": [
    "# data model\n",
    "vineyard_cols = ['name', 'lat', 'lon', 'region', 'country', 'color', 'url']\n",
    "\n",
    "Vineyard = namedtuple('Vineyard', vineyard_cols, defaults = [None]*len(vineyard_cols))"
   ]
  },
  {
   "cell_type": "code",
   "execution_count": 4,
   "metadata": {},
   "outputs": [
    {
     "name": "stdout",
     "output_type": "stream",
     "text": [
      "<class 'pandas.core.frame.DataFrame'>\n",
      "RangeIndex: 34178 entries, 0 to 34177\n",
      "Data columns (total 7 columns):\n",
      " #   Column   Non-Null Count  Dtype  \n",
      "---  ------   --------------  -----  \n",
      " 0   name     34178 non-null  object \n",
      " 1   lat      34178 non-null  float64\n",
      " 2   lon      34178 non-null  float64\n",
      " 3   region   31247 non-null  object \n",
      " 4   country  31247 non-null  object \n",
      " 5   color    34178 non-null  object \n",
      " 6   url      27740 non-null  object \n",
      "dtypes: float64(2), object(5)\n",
      "memory usage: 1.8+ MB\n"
     ]
    },
    {
     "data": {
      "text/html": [
       "<div>\n",
       "<style scoped>\n",
       "    .dataframe tbody tr th:only-of-type {\n",
       "        vertical-align: middle;\n",
       "    }\n",
       "\n",
       "    .dataframe tbody tr th {\n",
       "        vertical-align: top;\n",
       "    }\n",
       "\n",
       "    .dataframe thead th {\n",
       "        text-align: right;\n",
       "    }\n",
       "</style>\n",
       "<table border=\"1\" class=\"dataframe\">\n",
       "  <thead>\n",
       "    <tr style=\"text-align: right;\">\n",
       "      <th></th>\n",
       "      <th>name</th>\n",
       "      <th>lat</th>\n",
       "      <th>lon</th>\n",
       "      <th>region</th>\n",
       "      <th>country</th>\n",
       "      <th>color</th>\n",
       "      <th>url</th>\n",
       "    </tr>\n",
       "  </thead>\n",
       "  <tbody>\n",
       "    <tr>\n",
       "      <th>0</th>\n",
       "      <td>Bodega Los Toneles</td>\n",
       "      <td>-32.89640</td>\n",
       "      <td>-68.81729</td>\n",
       "      <td>Guaymallén</td>\n",
       "      <td>Argentina</td>\n",
       "      <td>#3bbeaa</td>\n",
       "      <td>https://linktr.ee/Bodegalostoneles</td>\n",
       "    </tr>\n",
       "    <tr>\n",
       "      <th>1</th>\n",
       "      <td>Bodegas y Viñedos Amadeo Marañon</td>\n",
       "      <td>-32.89653</td>\n",
       "      <td>-68.81472</td>\n",
       "      <td>Guaymallén</td>\n",
       "      <td>Argentina</td>\n",
       "      <td>#3bbeaa</td>\n",
       "      <td>http://bodegasmaranon.com.ar/</td>\n",
       "    </tr>\n",
       "    <tr>\n",
       "      <th>2</th>\n",
       "      <td>Bodega Barberis</td>\n",
       "      <td>-32.86422</td>\n",
       "      <td>-68.75041</td>\n",
       "      <td>Guaymallén</td>\n",
       "      <td>Argentina</td>\n",
       "      <td>#3bbeaa</td>\n",
       "      <td>http://www.bodegabarberis.com/</td>\n",
       "    </tr>\n",
       "    <tr>\n",
       "      <th>3</th>\n",
       "      <td>Mipser Bodega</td>\n",
       "      <td>-32.86522</td>\n",
       "      <td>-68.79126</td>\n",
       "      <td>Guaymallén</td>\n",
       "      <td>Argentina</td>\n",
       "      <td>#3bbeaa</td>\n",
       "      <td>None</td>\n",
       "    </tr>\n",
       "    <tr>\n",
       "      <th>4</th>\n",
       "      <td>BODEGA GASPARONI CARUSO</td>\n",
       "      <td>-32.85921</td>\n",
       "      <td>-68.77780</td>\n",
       "      <td>Guaymallén</td>\n",
       "      <td>Argentina</td>\n",
       "      <td>#3bbeaa</td>\n",
       "      <td>http://www.gasparonicaruso.com.ar/</td>\n",
       "    </tr>\n",
       "    <tr>\n",
       "      <th>...</th>\n",
       "      <td>...</td>\n",
       "      <td>...</td>\n",
       "      <td>...</td>\n",
       "      <td>...</td>\n",
       "      <td>...</td>\n",
       "      <td>...</td>\n",
       "      <td>...</td>\n",
       "    </tr>\n",
       "    <tr>\n",
       "      <th>34173</th>\n",
       "      <td>Remparts du Château</td>\n",
       "      <td>44.79917</td>\n",
       "      <td>1.61772</td>\n",
       "      <td>Rocamadour</td>\n",
       "      <td>France</td>\n",
       "      <td>#94a6fd</td>\n",
       "      <td>http://www.lerelaisdupelerin.fr/Les-Remparts-d...</td>\n",
       "    </tr>\n",
       "    <tr>\n",
       "      <th>34174</th>\n",
       "      <td>OPG Herak</td>\n",
       "      <td>45.51270</td>\n",
       "      <td>16.16231</td>\n",
       "      <td>Pokuplje</td>\n",
       "      <td>Croatia</td>\n",
       "      <td>#2f5672</td>\n",
       "      <td>https://opg-herak.hr/</td>\n",
       "    </tr>\n",
       "    <tr>\n",
       "      <th>34175</th>\n",
       "      <td>OPG Dvorneković</td>\n",
       "      <td>45.43486</td>\n",
       "      <td>16.26497</td>\n",
       "      <td>Pokuplje</td>\n",
       "      <td>Croatia</td>\n",
       "      <td>#2f5672</td>\n",
       "      <td>None</td>\n",
       "    </tr>\n",
       "    <tr>\n",
       "      <th>34176</th>\n",
       "      <td>VINARIJA IURIS</td>\n",
       "      <td>45.72909</td>\n",
       "      <td>16.00865</td>\n",
       "      <td>Pokuplje</td>\n",
       "      <td>Croatia</td>\n",
       "      <td>#2f5672</td>\n",
       "      <td>http://www.iuriswinery.com/</td>\n",
       "    </tr>\n",
       "    <tr>\n",
       "      <th>34177</th>\n",
       "      <td>Vinotočje OPG Belošević</td>\n",
       "      <td>45.40143</td>\n",
       "      <td>16.28524</td>\n",
       "      <td>Pokuplje</td>\n",
       "      <td>Croatia</td>\n",
       "      <td>#2f5672</td>\n",
       "      <td>https://petrinjaturizam.hr/posjeti-petrinju/se...</td>\n",
       "    </tr>\n",
       "  </tbody>\n",
       "</table>\n",
       "<p>34178 rows × 7 columns</p>\n",
       "</div>"
      ],
      "text/plain": [
       "                                   name       lat       lon      region  \\\n",
       "0                    Bodega Los Toneles -32.89640 -68.81729  Guaymallén   \n",
       "1      Bodegas y Viñedos Amadeo Marañon -32.89653 -68.81472  Guaymallén   \n",
       "2                       Bodega Barberis -32.86422 -68.75041  Guaymallén   \n",
       "3                         Mipser Bodega -32.86522 -68.79126  Guaymallén   \n",
       "4               BODEGA GASPARONI CARUSO -32.85921 -68.77780  Guaymallén   \n",
       "...                                 ...       ...       ...         ...   \n",
       "34173               Remparts du Château  44.79917   1.61772  Rocamadour   \n",
       "34174                         OPG Herak  45.51270  16.16231    Pokuplje   \n",
       "34175                   OPG Dvorneković  45.43486  16.26497    Pokuplje   \n",
       "34176                    VINARIJA IURIS  45.72909  16.00865    Pokuplje   \n",
       "34177           Vinotočje OPG Belošević  45.40143  16.28524    Pokuplje   \n",
       "\n",
       "         country    color                                                url  \n",
       "0      Argentina  #3bbeaa                 https://linktr.ee/Bodegalostoneles  \n",
       "1      Argentina  #3bbeaa                      http://bodegasmaranon.com.ar/  \n",
       "2      Argentina  #3bbeaa                     http://www.bodegabarberis.com/  \n",
       "3      Argentina  #3bbeaa                                               None  \n",
       "4      Argentina  #3bbeaa                 http://www.gasparonicaruso.com.ar/  \n",
       "...          ...      ...                                                ...  \n",
       "34173     France  #94a6fd  http://www.lerelaisdupelerin.fr/Les-Remparts-d...  \n",
       "34174    Croatia  #2f5672                              https://opg-herak.hr/  \n",
       "34175    Croatia  #2f5672                                               None  \n",
       "34176    Croatia  #2f5672                        http://www.iuriswinery.com/  \n",
       "34177    Croatia  #2f5672  https://petrinjaturizam.hr/posjeti-petrinju/se...  \n",
       "\n",
       "[34178 rows x 7 columns]"
      ]
     },
     "execution_count": 4,
     "metadata": {},
     "output_type": "execute_result"
    }
   ],
   "source": [
    "# Open and read the JSON file\n",
    "with open(os.path.join('../winerymap', 'vineyards.json'), 'r') as file:\n",
    "  data = json.load(file)\n",
    "  file.close()\n",
    "\n",
    "# Print the data\n",
    "wineries = pd.DataFrame(\n",
    "    [\n",
    "      Vineyard(vineyard[2], vineyard[0], vineyard[1], *extract_region(key), data[key]['color'], vineyard[3])\n",
    "      for key in data\n",
    "      for vineyard in data[key]['vineyards']\n",
    "  ]\n",
    ")\n",
    "wineries.info()\n",
    "wineries"
   ]
  },
  {
   "cell_type": "markdown",
   "metadata": {},
   "source": [
    "### Data Exploration"
   ]
  },
  {
   "cell_type": "code",
   "execution_count": 5,
   "metadata": {},
   "outputs": [],
   "source": [
    "# group by helper\n",
    "by_ = lambda cols, df=wineries: df.groupby(cols).count()[['lat']].rename(columns={'lat':'count'}).sort_values('count', ascending=False)"
   ]
  },
  {
   "cell_type": "code",
   "execution_count": 6,
   "metadata": {},
   "outputs": [
    {
     "name": "stdout",
     "output_type": "stream",
     "text": [
      "there are wineries from 63 countries\n"
     ]
    },
    {
     "data": {
      "text/html": [
       "<div>\n",
       "<style scoped>\n",
       "    .dataframe tbody tr th:only-of-type {\n",
       "        vertical-align: middle;\n",
       "    }\n",
       "\n",
       "    .dataframe tbody tr th {\n",
       "        vertical-align: top;\n",
       "    }\n",
       "\n",
       "    .dataframe thead th {\n",
       "        text-align: right;\n",
       "    }\n",
       "</style>\n",
       "<table border=\"1\" class=\"dataframe\">\n",
       "  <thead>\n",
       "    <tr style=\"text-align: right;\">\n",
       "      <th></th>\n",
       "      <th>count</th>\n",
       "    </tr>\n",
       "    <tr>\n",
       "      <th>country</th>\n",
       "      <th></th>\n",
       "    </tr>\n",
       "  </thead>\n",
       "  <tbody>\n",
       "    <tr>\n",
       "      <th>France</th>\n",
       "      <td>7573</td>\n",
       "    </tr>\n",
       "    <tr>\n",
       "      <th>Italy</th>\n",
       "      <td>6260</td>\n",
       "    </tr>\n",
       "    <tr>\n",
       "      <th>United States</th>\n",
       "      <td>3800</td>\n",
       "    </tr>\n",
       "    <tr>\n",
       "      <th>Spain</th>\n",
       "      <td>1805</td>\n",
       "    </tr>\n",
       "    <tr>\n",
       "      <th>Australia</th>\n",
       "      <td>1517</td>\n",
       "    </tr>\n",
       "  </tbody>\n",
       "</table>\n",
       "</div>"
      ],
      "text/plain": [
       "               count\n",
       "country             \n",
       "France          7573\n",
       "Italy           6260\n",
       "United States   3800\n",
       "Spain           1805\n",
       "Australia       1517"
      ]
     },
     "execution_count": 6,
     "metadata": {},
     "output_type": "execute_result"
    }
   ],
   "source": [
    "# count of wineries by country\n",
    "by_country = by_('country')\n",
    "print('there are wineries from', f'{by_country.shape[0]:,d}', 'countries')\n",
    "by_country.head()"
   ]
  },
  {
   "cell_type": "code",
   "execution_count": 7,
   "metadata": {},
   "outputs": [
    {
     "name": "stdout",
     "output_type": "stream",
     "text": [
      "there are wineries from 2,077 regions\n"
     ]
    },
    {
     "data": {
      "text/html": [
       "<div>\n",
       "<style scoped>\n",
       "    .dataframe tbody tr th:only-of-type {\n",
       "        vertical-align: middle;\n",
       "    }\n",
       "\n",
       "    .dataframe tbody tr th {\n",
       "        vertical-align: top;\n",
       "    }\n",
       "\n",
       "    .dataframe thead th {\n",
       "        text-align: right;\n",
       "    }\n",
       "</style>\n",
       "<table border=\"1\" class=\"dataframe\">\n",
       "  <thead>\n",
       "    <tr style=\"text-align: right;\">\n",
       "      <th></th>\n",
       "      <th></th>\n",
       "      <th>count</th>\n",
       "    </tr>\n",
       "    <tr>\n",
       "      <th>country</th>\n",
       "      <th>region</th>\n",
       "      <th></th>\n",
       "    </tr>\n",
       "  </thead>\n",
       "  <tbody>\n",
       "    <tr>\n",
       "      <th>Spain</th>\n",
       "      <th>Cava</th>\n",
       "      <td>235</td>\n",
       "    </tr>\n",
       "    <tr>\n",
       "      <th>France</th>\n",
       "      <th>Champagne</th>\n",
       "      <td>150</td>\n",
       "    </tr>\n",
       "    <tr>\n",
       "      <th>Peru</th>\n",
       "      <th>Lima</th>\n",
       "      <td>143</td>\n",
       "    </tr>\n",
       "    <tr>\n",
       "      <th>France</th>\n",
       "      <th>Charentais</th>\n",
       "      <td>139</td>\n",
       "    </tr>\n",
       "    <tr>\n",
       "      <th>Greece</th>\n",
       "      <th>Pelopennese</th>\n",
       "      <td>122</td>\n",
       "    </tr>\n",
       "  </tbody>\n",
       "</table>\n",
       "</div>"
      ],
      "text/plain": [
       "                     count\n",
       "country region            \n",
       "Spain   Cava           235\n",
       "France  Champagne      150\n",
       "Peru    Lima           143\n",
       "France  Charentais     139\n",
       "Greece  Pelopennese    122"
      ]
     },
     "execution_count": 7,
     "metadata": {},
     "output_type": "execute_result"
    }
   ],
   "source": [
    "# count of wineries by region\n",
    "by_region = by_(['country', 'region'])\n",
    "print('there are wineries from', f'{by_region.shape[0]:,d}', 'regions')\n",
    "by_region.head()"
   ]
  },
  {
   "cell_type": "code",
   "execution_count": 8,
   "metadata": {},
   "outputs": [
    {
     "name": "stdout",
     "output_type": "stream",
     "text": [
      "there are 31,174 wineries, some with multiple locations within a region\n"
     ]
    },
    {
     "data": {
      "text/html": [
       "<div>\n",
       "<style scoped>\n",
       "    .dataframe tbody tr th:only-of-type {\n",
       "        vertical-align: middle;\n",
       "    }\n",
       "\n",
       "    .dataframe tbody tr th {\n",
       "        vertical-align: top;\n",
       "    }\n",
       "\n",
       "    .dataframe thead th {\n",
       "        text-align: right;\n",
       "    }\n",
       "</style>\n",
       "<table border=\"1\" class=\"dataframe\">\n",
       "  <thead>\n",
       "    <tr style=\"text-align: right;\">\n",
       "      <th></th>\n",
       "      <th></th>\n",
       "      <th></th>\n",
       "      <th>count</th>\n",
       "    </tr>\n",
       "    <tr>\n",
       "      <th>name</th>\n",
       "      <th>region</th>\n",
       "      <th>country</th>\n",
       "      <th></th>\n",
       "    </tr>\n",
       "  </thead>\n",
       "  <tbody>\n",
       "    <tr>\n",
       "      <th>Semeynaya Vinodel'nya Antonenko</th>\n",
       "      <th>Anapa</th>\n",
       "      <th>Russian Federation</th>\n",
       "      <td>4</td>\n",
       "    </tr>\n",
       "    <tr>\n",
       "      <th>Rancho Capistrano Winery</th>\n",
       "      <th>South Coast</th>\n",
       "      <th>United States</th>\n",
       "      <td>3</td>\n",
       "    </tr>\n",
       "    <tr>\n",
       "      <th>Crama Tohani</th>\n",
       "      <th>Dealurile Munteniei</th>\n",
       "      <th>Romania</th>\n",
       "      <td>2</td>\n",
       "    </tr>\n",
       "    <tr>\n",
       "      <th>Abbazia San Giorgio</th>\n",
       "      <th>Pantelleria</th>\n",
       "      <th>Italy</th>\n",
       "      <td>2</td>\n",
       "    </tr>\n",
       "    <tr>\n",
       "      <th>Wilreza Winery</th>\n",
       "      <th>Rietrivier FS</th>\n",
       "      <th>South Africa</th>\n",
       "      <td>2</td>\n",
       "    </tr>\n",
       "  </tbody>\n",
       "</table>\n",
       "</div>"
      ],
      "text/plain": [
       "                                                                        count\n",
       "name                            region              country                  \n",
       "Semeynaya Vinodel'nya Antonenko Anapa               Russian Federation      4\n",
       "Rancho Capistrano Winery        South Coast         United States           3\n",
       "Crama Tohani                    Dealurile Munteniei Romania                 2\n",
       "Abbazia San Giorgio             Pantelleria         Italy                   2\n",
       "Wilreza Winery                  Rietrivier FS       South Africa            2"
      ]
     },
     "execution_count": 8,
     "metadata": {},
     "output_type": "execute_result"
    }
   ],
   "source": [
    "# count of wineries by name\n",
    "by_winery = by_(['name', 'region', 'country'])\n",
    "print('there are', f'{by_winery.shape[0]:,d}', 'wineries, some with multiple locations within a region')\n",
    "by_winery.head()"
   ]
  },
  {
   "cell_type": "markdown",
   "metadata": {},
   "source": [
    "### Winery Location Lookup Logic"
   ]
  },
  {
   "cell_type": "code",
   "execution_count": 9,
   "metadata": {},
   "outputs": [
    {
     "name": "stdout",
     "output_type": "stream",
     "text": [
      "242 of 33,905 wineries are not unique by name\n"
     ]
    }
   ],
   "source": [
    "by_name = by_('name')\n",
    "print(f'{by_name.query('count > 1').shape[0]:,d}', 'of', f'{by_name.shape[0]:,d}', 'wineries are not unique by name')"
   ]
  },
  {
   "cell_type": "code",
   "execution_count": 10,
   "metadata": {},
   "outputs": [
    {
     "data": {
      "text/plain": [
       "(33663,\n",
       " array(['\"Amiata...i Vini del Vulcano \" Winery',\n",
       "        '\"Azienda Agricola Budignac\" di Tonut Daniele',\n",
       "        '\"Cantina Massara\" Burlotto Gian Carlo s.agr.s.', ..., '우아미 와이너리',\n",
       "        '𝐂𝐚𝐧𝐭𝐢𝐧𝐚 𝐅𝐫𝐚𝐧𝐜𝐞𝐬𝐜𝐨 𝐌𝐚𝐥𝐞𝐧𝐚 - Wine shop, degustazioni, visite guidate',\n",
       "        '🍇DOMAINE PILENIUM🌿🍷'], dtype=object))"
      ]
     },
     "execution_count": 10,
     "metadata": {},
     "output_type": "execute_result"
    }
   ],
   "source": [
    "single_site_wineries = np.unique(by_name.query('count == 1').index)\n",
    "len(single_site_wineries), single_site_wineries"
   ]
  },
  {
   "cell_type": "code",
   "execution_count": 11,
   "metadata": {},
   "outputs": [
    {
     "data": {
      "text/plain": [
       "(70,\n",
       " array([('4R Ranch Vineyards and Winery', 'United States'),\n",
       "        ('Antler Ridge Winery', 'United States'),\n",
       "        ('Bella Terra Vineyards', 'Canada'),\n",
       "        ('Black Birch Vineyard', 'New Zealand'), ('Bodega', 'Argentina'),\n",
       "        ('Bodega', 'Peru'), ('Bodega', 'Spain'),\n",
       "        ('Bodega Juanita', 'Peru'), ('Bodega Juanita', 'Venezuela'),\n",
       "        ('Bodega Los Toneles', 'Argentina'),\n",
       "        ('Bodega Los Toneles', 'Spain'), ('Bodega Lovera', 'Peru'),\n",
       "        ('Bodega Lovera', 'Venezuela'),\n",
       "        ('Clover Hill Vineyards & Winery', 'United States'),\n",
       "        ('Constellation Brands', 'Canada'),\n",
       "        ('Constellation Brands', 'United States'),\n",
       "        ('Crama Oprișor', 'Romania'), ('Cramele Recas', 'Romania'),\n",
       "        ('Cramele Recaș', 'Romania'), ('Domaine Bousquet', 'Argentina'),\n",
       "        ('Domaine Bousquet', 'France'), ('Domaine de Bellevue', 'France'),\n",
       "        ('Domaine de Bellevue', 'Switzerland'),\n",
       "        ('Domaine de la Croix', 'France'),\n",
       "        ('Domaine de la Croix', 'Switzerland'),\n",
       "        ('Domaine de la Tour', 'Switzerland'),\n",
       "        ('Domaine du Chapitre', 'Belgium'),\n",
       "        ('Domaine du Chapitre', 'France'),\n",
       "        ('Domaine du Paradis', 'France'),\n",
       "        ('Domaine du Paradis', 'Switzerland'),\n",
       "        ('Forest Edge Vineyard', 'Australia'),\n",
       "        ('GENTILINI Winery', 'Belgium'), ('Hillside Winery', 'Canada'),\n",
       "        ('Kavaklidere Anatolian Wines', 'Turkey'), ('La Bodega', 'Spain'),\n",
       "        ('La Bodeguita', 'Peru'), ('La Bodeguita', 'Spain'),\n",
       "        ('Lumiere Winery', 'Japan'), ('Lumiere Winery', 'United States'),\n",
       "        ('Noble Winery', 'India'), ('Noble Winery', 'United States'),\n",
       "        ('Noisy Water Winery', 'United States'),\n",
       "        ('Paradise Springs Winery', 'United States'),\n",
       "        (\"Sarah's Vineyard\", 'United States'),\n",
       "        ('Storm Wines', 'South Africa'), ('Storm Wines', 'United States'),\n",
       "        ('The Winery', 'Australia'), ('Triple Creek Winery', 'Australia'),\n",
       "        ('Verde Vineyards', 'United States'),\n",
       "        ('Vineyard House', 'Australia'),\n",
       "        ('Vineyard House', 'South Africa'), ('Weingut Beyer', 'Austria'),\n",
       "        ('Weingut Beyer', 'Germany'), ('Weingut Haug', 'Switzerland'),\n",
       "        ('Weingut Herzog', 'Switzerland'), ('Weingut Schmidt', 'Germany'),\n",
       "        ('Weingut Schneider', 'Germany'),\n",
       "        ('Weingut Sonnenberg', 'Germany'),\n",
       "        ('Weingut Sonnenberg', 'Switzerland'), ('Weingut Wolf', 'Austria'),\n",
       "        ('Weingut Wolf', 'Germany'),\n",
       "        ('William Heritage Winery', 'United States'),\n",
       "        ('Wine Factory', 'Georgia'), ('Wine Factory', 'Mexico'),\n",
       "        ('Winery', 'Bulgaria'), ('Winery', 'Italy'),\n",
       "        ('Winery', 'Montenegro'), ('Winery', 'Serbia'),\n",
       "        ('Zorzal Wines', 'Argentina'), ('Zorzal Wines', 'Spain')],\n",
       "       dtype=object))"
      ]
     },
     "execution_count": 11,
     "metadata": {},
     "output_type": "execute_result"
    }
   ],
   "source": [
    "by_country = by_(['name', 'country'], df=wineries[~wineries.name.isin(single_site_wineries)])\n",
    "single_site_by_country_wineries = np.unique(by_country.query('count == 1').index)\n",
    "len(single_site_by_country_wineries), single_site_by_country_wineries"
   ]
  },
  {
   "cell_type": "code",
   "execution_count": 12,
   "metadata": {},
   "outputs": [
    {
     "data": {
      "text/plain": [
       "(238,\n",
       " array([('Aurora Vineyards', 'United States', 'Columbia Valley'),\n",
       "        ('Aurora Vineyards', 'United States', 'Willamette Valley'),\n",
       "        ('Azienda Agricola Castelvecchio', 'Italy', 'Carso'),\n",
       "        ('Azienda Agricola Castelvecchio', 'Italy', 'San Torpè'),\n",
       "        ('Azienda Agricola Castelvecchio', 'Italy', 'Vin Santo del Chianti'),\n",
       "        ('Azienda Agricola Valentini', 'Italy', 'Colline Pescaresi'),\n",
       "        ('Azienda Agricola Valentini', 'Italy', 'Monteregio di Massa Marittima'),\n",
       "        ('Becker Vineyards', 'United States', 'Fredericksburg in the Texas Hill Country'),\n",
       "        ('Becker Vineyards', 'United States', 'Texas Hill Country'),\n",
       "        ('Bernardus Winery', 'United States', 'Carmel Valley'),\n",
       "        ('Bernardus Winery', 'United States', 'Central Coast'),\n",
       "        ('Bodega Carmencita', 'Peru', 'Arequipa'),\n",
       "        ('Bodega Carmencita', 'Peru', 'Ica'),\n",
       "        ('Bodega Chacra', 'Argentina', 'Avellaneda'),\n",
       "        ('Bodega Chacra', 'Argentina', 'General Roca'),\n",
       "        ('Bodega Diaz R', 'Argentina', 'Chilecito'),\n",
       "        ('Bodega Diaz R', 'Argentina', 'Pocito'),\n",
       "        ('Bodega La Rosa', 'Argentina', 'San Rafael'),\n",
       "        ('Bodega La Rosa', 'Argentina', 'Santa María'),\n",
       "        ('Bodega Navarro Correas', 'Argentina', 'Godoy Cruz'),\n",
       "        ('Bodega Navarro Correas', 'Argentina', 'Jujuy'),\n",
       "        ('Bodega Victoria', 'Peru', 'Arequipa'),\n",
       "        ('Bodega Victoria', 'Peru', 'Lima'),\n",
       "        ('Bodegas Sierra Salinas', 'Spain', 'Alicante'),\n",
       "        ('Bodegas Sierra Salinas', 'Spain', 'Yecla'),\n",
       "        ('CRŪ Winery', 'United States', 'Madera'),\n",
       "        ('CRŪ Winery', 'United States', 'Monterey'),\n",
       "        ('Cantina Rauscedo', 'Italy', 'Friuli Grave'),\n",
       "        ('Cantina Rauscedo', 'Italy', 'Piave'),\n",
       "        ('Cantina San Michele', 'Italy', 'Capriano del Colle'),\n",
       "        ('Cantina San Michele', 'Italy', 'del Vastese'),\n",
       "        ('Cantina del Taburno', 'Italy', 'Aglianico del Taburno'),\n",
       "        ('Cantina del Taburno', 'Italy', 'Sannio'),\n",
       "        ('Cantine Iorio srl', 'Italy', 'Colli di Salerno'),\n",
       "        ('Cantine Iorio srl', 'Italy', 'Osco'),\n",
       "        ('Cantine Paololeo', 'Italy', 'Primitivo di Manduria'),\n",
       "        ('Cantine Paololeo', 'Italy', 'Salice Salentino'),\n",
       "        ('Cascina La Signorina', 'Italy', 'Dolcetto di Ovada'),\n",
       "        ('Cascina La Signorina', 'Italy', 'Dolcetto di Ovada Superiore'),\n",
       "        ('Cathedral Ridge Winery', 'United States', 'Columbia Gorge'),\n",
       "        ('Cathedral Ridge Winery', 'United States', 'Dundee Hills'),\n",
       "        ('Champagne Louis Roederer', 'France', 'Champagne'),\n",
       "        ('Champagne Louis Roederer', 'France', 'Paris'),\n",
       "        ('Champagne Veuve Cheurlin', 'France', 'Côtes de Provence Fréjus'),\n",
       "        ('Champagne Veuve Cheurlin', 'France', 'Vin de Savoie Ayze'),\n",
       "        ('Chateau Montelena', 'United States', 'Calistoga'),\n",
       "        ('Chateau Montelena', 'United States', 'San Francisco Bay'),\n",
       "        ('Chateau de Myrat', 'France', 'Barsac'),\n",
       "        ('Chateau de Myrat', 'France', 'Bordeaux'),\n",
       "        ('Chateau de Myrat', 'France', 'Paris'),\n",
       "        ('Château Coutet', 'France', 'Barsac'),\n",
       "        ('Château Coutet', 'France', 'Saint-Emilion'),\n",
       "        ('Château Les Carmes Haut-Brion', 'France', 'Bordeaux'),\n",
       "        ('Château Les Carmes Haut-Brion', 'France', 'Pessac-Léognan'),\n",
       "        ('Château Teyssier', 'France', 'Puisseguin-Saint-Emilion'),\n",
       "        ('Château Teyssier', 'France', 'Saint-Emilion'),\n",
       "        ('Château de Montmirail', 'France', 'Sarthe'),\n",
       "        ('Château de Montmirail', 'France', 'Vacqueyras'),\n",
       "        ('Constellation Brands Inc', 'United States', 'Monterey'),\n",
       "        ('Constellation Brands Inc', 'United States', 'Potter Valley'),\n",
       "        ('Crama Cepari', 'Romania', 'Dealurile Olteniei'),\n",
       "        ('Crama Cepari', 'Romania', 'Drăgăşani'),\n",
       "        ('Crama Tohani', 'Romania', 'Dealurile Olteniei'),\n",
       "        ('Crama Tohani', 'Romania', 'Dealurile Transilvaniei'),\n",
       "        ('Crama Tohani', 'Romania', 'Iaşi'),\n",
       "        ('Crama Ur', 'Romania', 'Crişana'),\n",
       "        ('Crama Ur', 'Romania', 'Dealurile Crişanei'),\n",
       "        ('D. H. LESCOMBES WINERY & BISTRO', 'United States', 'Mesilla Valley'),\n",
       "        ('D. H. LESCOMBES WINERY & BISTRO', 'United States', 'Middle Rio Grande Valley'),\n",
       "        ('Danieli Winery', 'Georgia', 'Akhmeta'),\n",
       "        ('Danieli Winery', 'Georgia', 'Georgian Viticulture Zone'),\n",
       "        ('De Tierra Vineyards', 'United States', 'Central Coast'),\n",
       "        ('De Tierra Vineyards', 'United States', 'Monterey'),\n",
       "        ('Delegat Wine Estate', 'New Zealand', \"Hawke's Bay / Hawkes Bay\"),\n",
       "        ('Delegat Wine Estate', 'New Zealand', 'Marlborough'),\n",
       "        ('Denis Père et Fils', 'France', 'Pernand-Vergelesses'),\n",
       "        ('Denis Père et Fils', 'France', 'Touraine Chenonceaux'),\n",
       "        ('Domain Cantalauze', 'France', 'Cité de Carcassonne'),\n",
       "        ('Domain Cantalauze', 'France', 'Gaillac premières côtes'),\n",
       "        ('Domaine Belleville', 'France', 'Menetou-Salon'),\n",
       "        ('Domaine Belleville', 'France', 'Rully'),\n",
       "        ('Domaine Bonnardot', 'France', 'Bourgogne Hautes Côtes de Nuits'),\n",
       "        ('Domaine Bonnardot', 'France', 'Sainte-Marie-la-Blanche'),\n",
       "        ('Domaine Bonnardot', 'France', 'Santenay'),\n",
       "        ('Domaine Bonnet', 'France', 'Bouzeron'),\n",
       "        ('Domaine Bonnet', 'France', 'Côtes du Marmandais'),\n",
       "        ('Domaine Clarence Dillon', 'France', 'Bordeaux'),\n",
       "        ('Domaine Clarence Dillon', 'France', 'Paris'),\n",
       "        ('Domaine Clarence Dillon', 'France', 'Pessac-Léognan'),\n",
       "        ('Domaine Durand', 'France', 'Saint-Joseph'),\n",
       "        ('Domaine Durand', 'France', 'Sancerre'),\n",
       "        ('Domaine Girard', 'France', 'Malepère'),\n",
       "        ('Domaine Girard', 'France', 'Muscadet Sèvre et Maine Clisson'),\n",
       "        ('Domaine Lazzarini', 'France', 'Méditerranée'),\n",
       "        ('Domaine Lazzarini', 'France', 'Patrimonio'),\n",
       "        ('Domaine Saint Jean', 'France', 'Bellet'),\n",
       "        ('Domaine Saint Jean', 'France', 'Luberon'),\n",
       "        ('Domaine de Bel Air', 'France', \"Coteaux d'Ensérune\"),\n",
       "        ('Domaine de Bel Air', 'France', 'Coteaux de Cèze'),\n",
       "        ('Domaine de Bel Air', 'France', 'Pouilly-Fumé'),\n",
       "        ('Domaine de Villaine', 'France', 'Bouzeron'),\n",
       "        ('Domaine de Villaine', 'France', 'Rully'),\n",
       "        ('Domaine de la Garenne', 'France', 'Mâcon Azé'),\n",
       "        ('Domaine de la Garenne', 'France', 'Sancerre'),\n",
       "        ('Domaine de la Grange', 'France', 'Cour-Cheverny'),\n",
       "        ('Domaine de la Grange', 'France', 'Fitou'),\n",
       "        ('Domaine de la Grange', 'France', 'Touraine Chenonceaux'),\n",
       "        ('Domaine de la Grézette', 'France', 'Cahors'),\n",
       "        ('Domaine de la Grézette', 'France', 'Côtes du Lot'),\n",
       "        ('Domaine de la Noue', 'France', 'Muscadet Sèvre et Maine'),\n",
       "        ('Domaine de la Noue', 'France', 'Saint-Nicolas-de-Bourgueil'),\n",
       "        ('Domaine de la Paleine', 'France', 'Saumur Puy-Notre-Dame'),\n",
       "        ('Domaine de la Paleine', 'France', 'Saumur-Champigny'),\n",
       "        ('Domaine de la Rochette', 'France', 'Côte roannaise'),\n",
       "        ('Domaine de la Rochette', 'France', 'Touraine Chenonceaux'),\n",
       "        ('Domaine de la Solitude', 'France', 'Châteauneuf-du-Pape'),\n",
       "        ('Domaine de la Solitude', 'France', 'Pessac-Léognan'),\n",
       "        ('Domaine de la Tour', 'France', 'Chablis'),\n",
       "        ('Domaine de la Tour', 'France', 'Costières de Nîmes'),\n",
       "        ('Domaine de la Tuilerie', 'France', 'Côtes de Provence la Londe'),\n",
       "        ('Domaine des Granges', 'France', 'Crozes-Hermitage'),\n",
       "        ('Domaine des Granges', 'France', 'Fiefs Vendéens'),\n",
       "        ('Domaine du Buisson', 'France', 'Anjou-Coteaux de la Loire'),\n",
       "        ('Domaine du Buisson', 'France', 'Entre-deux-Mers'),\n",
       "        ('Domaine du Colombier', 'France', \"Ardèche Coteaux de l'Ardèche\"),\n",
       "        ('Domaine du Colombier', 'France', 'Chablis premier cru'),\n",
       "        ('Domaine du Pélican', 'France', 'Anjou-Coteaux de la Loire'),\n",
       "        ('Domaine du Pélican', 'France', 'Arbois'),\n",
       "        ('Domanico Cellars', 'United States', 'Puget Sound'),\n",
       "        ('Domanico Cellars', 'United States', 'Yakima Valley'),\n",
       "        ('Fattoria Le Fonti', 'Italy', 'Alta Valle della Greve'),\n",
       "        ('Fattoria Le Fonti', 'Italy', 'Vin Santo del Chianti Classico'),\n",
       "        ('Fratelli Martini Secondo Luigi S.P.A.', 'Italy', 'Canelli'),\n",
       "        ('Fratelli Martini Secondo Luigi S.P.A.', 'Italy', 'Gavi'),\n",
       "        (\"Fruitière Vinicole D'Arbois\", 'France', 'Arbois'),\n",
       "        (\"Fruitière Vinicole D'Arbois\", 'France', 'Côtes du Jura'),\n",
       "        ('Ginkgo Forest Winery', 'United States', 'Puget Sound'),\n",
       "        ('Ginkgo Forest Winery', 'United States', 'Wahluke Slope'),\n",
       "        ('Gruppo Italiano Vini S.p.A.', 'Italy', 'Cannellino di Frascati'),\n",
       "        ('Gruppo Italiano Vini S.p.A.', 'Italy', 'Orvieto Classico'),\n",
       "        ('Handpicked Wines Cellar Door', 'Australia', 'Port Phillip'),\n",
       "        ('Handpicked Wines Cellar Door', 'Australia', 'South Coast'),\n",
       "        ('Hanna Winery', 'United States', 'Alexander Valley'),\n",
       "        ('Hanna Winery', 'United States', 'Russian River Valley'),\n",
       "        ('Happy Canyon Vineyard', 'United States', 'Central Coast'),\n",
       "        ('Happy Canyon Vineyard', 'United States', 'Happy Canyon of Santa Barbara'),\n",
       "        ('Hawkes Wine', 'United States', 'Alexander Valley'),\n",
       "        ('Hawkes Wine', 'United States', 'Sonoma Valley'),\n",
       "        ('Ilok wine cellars dd', 'Croatia', 'Hrvatsko Podunavlje'),\n",
       "        ('Ilok wine cellars dd', 'Croatia', 'Prigorje - Bilogora'),\n",
       "        ('J Wrigley Vineyards', 'United States', 'McMinnville'),\n",
       "        ('J Wrigley Vineyards', 'United States', 'Willamette Valley'),\n",
       "        ('J. Lohr Vineyards & Wines', 'United States', 'Paso Robles Estrella District'),\n",
       "        ('J. Lohr Vineyards & Wines', 'United States', 'Santa Clara Valley'),\n",
       "        ('Jacob Williams Winery', 'United States', 'Columbia Valley'),\n",
       "        ('Jacob Williams Winery', 'United States', 'Willamette Valley'),\n",
       "        ('John Gehrig Wines', 'Australia', 'King Valley'),\n",
       "        ('John Gehrig Wines', 'Australia', 'Rutherglen'),\n",
       "        ('La Romanée', 'France', 'Chambertin'),\n",
       "        ('La Romanée', 'France', 'La Grande Rue'),\n",
       "        ('La Vineria', 'Italy', 'Colline di Levanto'),\n",
       "        ('La Vineria', 'Italy', 'Delia Nivolelli'),\n",
       "        ('Mack & Schuhle Italia S.p.A.', 'Italy', 'Colline Joniche Tarantine'),\n",
       "        ('Mack & Schuhle Italia S.p.A.', 'Italy', 'Conegliano Valdobbiadene Prosecco'),\n",
       "        ('Market Vineyards', 'United States', 'Columbia Valley'),\n",
       "        ('Market Vineyards', 'United States', 'Puget Sound'),\n",
       "        ('Martin Bernard', 'France', 'Beaujolais'),\n",
       "        ('Martin Bernard', 'France', 'La Grande Rue'),\n",
       "        ('Martin Michel', 'France', 'Bourgogne Coulanges-la-Vineuse'),\n",
       "        ('Martin Michel', 'France', 'Chorey-lès-Beaune'),\n",
       "        ('Mas Amiel', 'France', 'Côtes du Roussillon Villages Latour-de-France'),\n",
       "        ('Mas Amiel', 'France', 'Maury'),\n",
       "        ('McClain Cellars', 'United States', 'Santa Ynez Valley'),\n",
       "        ('McClain Cellars', 'United States', 'South Coast'),\n",
       "        ('Meyer Family Cellars', 'United States', 'North Coast'),\n",
       "        ('Meyer Family Cellars', 'United States', 'Yorkville Highlands'),\n",
       "        ('Miceli Aziende Vinicole', 'Italy', 'Pantelleria'),\n",
       "        ('Miceli Aziende Vinicole', 'Italy', 'Sicilia'),\n",
       "        ('Molnár Pince', 'Hungary', 'Monor'),\n",
       "        ('Molnár Pince', 'Hungary', 'Szekszárd'),\n",
       "        ('Molnár Pincészet', 'Hungary', 'Eger'),\n",
       "        ('Molnár Pincészet', 'Hungary', 'Villány'),\n",
       "        ('Mészáros Pince', 'Hungary', 'Balatonfüred-Csopak'),\n",
       "        ('Mészáros Pince', 'Hungary', 'Monor'),\n",
       "        ('Pierce Ranch Vineyards', 'United States', 'Monterey'),\n",
       "        ('Pierce Ranch Vineyards', 'United States', 'San Antonio Valley'),\n",
       "        ('Podrum kupinovog vina \"Tatalović\"', 'Serbia', 'Vojvodina'),\n",
       "        ('Podrum kupinovog vina \"Tatalović\"', 'Serbia', 'Vrsac'),\n",
       "        ('Proshyan Brandy Factory', 'Armenia', 'Ararat'),\n",
       "        ('Proshyan Brandy Factory', 'Armenia', 'Armavir'),\n",
       "        ('SAMsARA Wine Co.', 'United States', 'Central Coast'),\n",
       "        ('SAMsARA Wine Co.', 'United States', 'Los Olivos District'),\n",
       "        ('Saddle Mountain Vineyards', 'United States', 'Wahluke Slope'),\n",
       "        ('Saddle Mountain Vineyards', 'United States', 'Yakima Valley'),\n",
       "        ('Sapphire Hill Winery', 'United States', 'Russian River Valley'),\n",
       "        ('Sapphire Hill Winery', 'United States', 'San Francisco Bay'),\n",
       "        (\"Semeynaya Vinodel'nya I Syrovarnya Val'ma\", 'Russian Federation', 'Anapa'),\n",
       "        (\"Semeynaya Vinodel'nya I Syrovarnya Val'ma\", 'Russian Federation', 'Gelendzhik'),\n",
       "        ('Sextant Wines', 'United States', 'Edna Valley'),\n",
       "        ('Sextant Wines', 'United States', 'Paso Robles Willow Creek District'),\n",
       "        ('Shenandoah Vineyards', 'United States', 'California Shenandoah Valley'),\n",
       "        ('Shenandoah Vineyards', 'United States', 'Shenandoah Valley'),\n",
       "        ('Takács Pince', 'Hungary', 'Hajós-Baja'),\n",
       "        ('Takács Pince', 'Hungary', 'Neszmély'),\n",
       "        ('Terre dei Santi', 'Italy', 'Albugnano'),\n",
       "        ('Terre dei Santi', 'Italy', 'Terre Alfieri'),\n",
       "        ('Terres Plurielles', 'France', 'Côtes du Roussillon Villages Latour-de-France'),\n",
       "        ('Terres Plurielles', 'France', 'Côtes du Roussillon Villages Tautavel'),\n",
       "        ('Troon Vineyard', 'United States', 'Applegate Valley'),\n",
       "        ('Troon Vineyard', 'United States', 'Willamette Valley'),\n",
       "        ('Turley Wine Cellars', 'United States', 'California Shenandoah Valley'),\n",
       "        ('Turley Wine Cellars', 'United States', 'Paso Robles Willow Creek District'),\n",
       "        ('Vinarija Gajić', 'Serbia', 'Beograd'),\n",
       "        ('Vinarija Gajić', 'Serbia', 'Lazarevac'),\n",
       "        ('Vinarija Talisman', 'Serbia', 'Palic'),\n",
       "        ('Vinarija Talisman', 'Serbia', 'Vrsac'),\n",
       "        ('Vinicola23', 'Italy', 'Dogliani'),\n",
       "        ('Vinicola23', 'Italy', 'Narni'),\n",
       "        ('Viña San Pedro', 'Chile', 'Valle del Cachapoal'),\n",
       "        ('Viña San Pedro', 'Chile', 'Valle del Lontué'),\n",
       "        ('Viña San Pedro', 'Chile', 'Valle del Maipo'),\n",
       "        ('Viña del Cielo', 'Mexico', 'Guanajuato'),\n",
       "        ('Viña del Cielo', 'Mexico', 'Querétaro de Arteaga'),\n",
       "        ('Weingut Artner', 'Austria', 'Mittelburgenland'),\n",
       "        ('Weingut Artner', 'Austria', 'Thermenregion'),\n",
       "        ('Weingut Hofer', 'Austria', 'Südsteiermark'),\n",
       "        ('Weingut Hofer', 'Austria', 'Wien'),\n",
       "        ('Weingut Holzer', 'Austria', 'Traisental'),\n",
       "        ('Weingut Holzer', 'Austria', 'Weinviertel'),\n",
       "        ('Weingut Schneider', 'Austria', 'Leithaberg'),\n",
       "        ('Weingut Schneider', 'Austria', 'Thermenregion'),\n",
       "        ('Winery', 'United States', 'Middle Rio Grande Valley'),\n",
       "        ('Winery', 'United States', 'Ozark Mountain'),\n",
       "        ('Winery', 'United States', 'Southeastern New England'),\n",
       "        ('Winery Antunovic', 'Croatia', 'Central and Southern Dalmatia'),\n",
       "        ('Winery Antunovic', 'Croatia', 'Hrvatsko Podunavlje'),\n",
       "        ('domaine Audiffred', 'France', 'Bourgogne Montrecul'),\n",
       "        ('domaine Audiffred', 'France', 'Nuits-Saint-Georges')],\n",
       "       dtype=object))"
      ]
     },
     "execution_count": 12,
     "metadata": {},
     "output_type": "execute_result"
    }
   ],
   "source": [
    "by_region = by_(\n",
    "  ['name', 'country', 'region'],\n",
    "  df=wineries[\n",
    "    (~wineries.name.isin(single_site_wineries))\n",
    "    &(~wineries.set_index(['name', 'country']).index.isin(single_site_by_country_wineries))\n",
    "  ]\n",
    ")\n",
    "single_site_by_region_wineries = np.unique(by_region.query('count == 1').index)\n",
    "len(single_site_by_region_wineries), single_site_by_region_wineries"
   ]
  },
  {
   "cell_type": "code",
   "execution_count": 13,
   "metadata": {},
   "outputs": [
    {
     "data": {
      "text/plain": [
       "array([('Abbazia San Giorgio', 'Italy', 'Pantelleria'),\n",
       "       ('Adega da Pinguela', 'Spain', 'Valdeorras'),\n",
       "       ('Agrícola de Barberà S C L L', 'Spain', 'Cava'),\n",
       "       ('Bodega Carmencita', 'Peru', 'Lima'),\n",
       "       ('Bodega Marlene', 'Peru', 'Lima'),\n",
       "       ('Bodegas González Cabezas', 'Spain', 'Manchuela'),\n",
       "       ('Bodegas y Viñedos Nicolas Catena S.A.', 'Argentina', 'Famatina'),\n",
       "       ('Borbély Családi Pincészet', 'Hungary', 'Badacsony'),\n",
       "       ('Brenca Cantina', 'Italy', 'Colli di Salerno'),\n",
       "       ('CVNE', 'Spain', 'Rioja Alta'),\n",
       "       ('Cantina Stefanoni', 'Italy', 'Est! Est!! Est!!! di Montefiascone'),\n",
       "       ('Champagne Bollinger', 'France', 'Champagne'),\n",
       "       ('Château Luchey-Halde', 'France', 'Pessac-Léognan'),\n",
       "       ('Château des Vergers', 'France', 'Régnié'),\n",
       "       ('Clos des Lambrays', 'France', 'Clos de la Roche'),\n",
       "       ('Contentious Character', 'Australia', 'Canberra District'),\n",
       "       ('Cooperativa Vinicola Chianti Montalbano S.C.R.L.', 'Italy', 'Valdinievole'),\n",
       "       ('Cooperativa Vinícola Aurora', 'Brazil', 'Vale dos Vinhedos'),\n",
       "       (\"Cotes de l'Orbe\", 'Switzerland', 'Côtes-de-l’Orbe'),\n",
       "       ('Crama', 'Romania', 'Iaşi'),\n",
       "       ('Crama Tohani', 'Romania', 'Dealurile Munteniei'),\n",
       "       ('Diamond Creek Estate', 'Australia', 'Southern Highlands'),\n",
       "       ('Domaine Fouassier', 'France', 'Sancerre'),\n",
       "       ('Domaine Goldbierg - Benoît & Claude', 'Luxembourg', 'Moselle Luxembourgeoise'),\n",
       "       ('Domaine Jacques Tissot', 'France', 'Arbois'),\n",
       "       ('Domaine Laporte', 'France', 'Sancerre'),\n",
       "       ('Domaine Merlin', 'France', 'Mâcon La Roche-Vineuse'),\n",
       "       ('Domaine de Gayssou', 'France', 'Gaillac premières côtes'),\n",
       "       ('Domaine de Tanella', 'France', 'Vin de Corse'),\n",
       "       ('Domaine de la Tuilerie', 'France', 'Côtes de Gascogne'),\n",
       "       ('Domaine des Enfants', 'France', 'Maury'),\n",
       "       ('Familia Hetei', 'Romania', 'Dealurile Sătmarului'),\n",
       "       ('Franklin Hill Vineyards', 'United States', 'Lehigh Valley'),\n",
       "       ('Hegyközség', 'Hungary', 'Csopak'),\n",
       "       ('Helderberg Meadworks', 'United States', 'Upper Hudson'),\n",
       "       ('Huentala Wines', 'Argentina', 'Tupungato'),\n",
       "       ('I Magredi', 'Italy', 'Friuli Grave'),\n",
       "       ('I Pentri', 'Italy', 'Sannio Guardia Sanframondi'),\n",
       "       ('Joullian Vineyards', 'United States', 'Carmel Valley'),\n",
       "       ('Les Vignobles Gayrel', 'France', 'Gaillac premières côtes'),\n",
       "       ('Lumos Wine Co.', 'United States', 'Willamette Valley'),\n",
       "       ('Milagro Vineyards', 'United States', 'Middle Rio Grande Valley'),\n",
       "       ('Nicolas Maillet', 'France', 'Mâcon Verzé'),\n",
       "       ('Pacific Crest', 'United States', 'Madera'),\n",
       "       ('Patton Valley Wines', 'United States', 'Willamette Valley'),\n",
       "       ('Plantaže Vineyards', 'Montenegro', 'Podgorica'),\n",
       "       ('Pérez Caramés', 'Spain', 'Bierzo'),\n",
       "       ('Rancho Capistrano Winery', 'United States', 'South Coast'),\n",
       "       ('Russian River Valley Winegrowers', 'United States', 'Russian River Valley'),\n",
       "       ('SCORIA Vineyards', 'United States', 'Snake River Valley'),\n",
       "       ('Sandeman', 'Portugal', 'Minho'),\n",
       "       (\"Semeynaya Vinodel'nya Antonenko\", 'Russian Federation', 'Anapa'),\n",
       "       ('Sierra Starr Vineyard & Winery', 'United States', 'Sierra Foothills'),\n",
       "       ('Teanum Srl', 'Italy', 'San Severo'),\n",
       "       ('Terenzi Giovanni', 'Italy', 'Cesanese del Piglio'),\n",
       "       ('Vardar Winery & Wines', 'North Macedonia', 'Skopje'),\n",
       "       ('Vieira de Sousa - Porto & Douro Wines', 'Portugal', 'Port'),\n",
       "       ('Vignoble Grateaud', 'France', 'Charentais'),\n",
       "       ('Vineria San Juan', 'Argentina', 'Jujuy'),\n",
       "       ('Vinícola Giacomin Ltda', 'Brazil', 'Farroupilha'),\n",
       "       ('Viña El Principal', 'Chile', 'Valle del Maipo'),\n",
       "       ('Viña Santa Cruz', 'Chile', 'Valle de Colchagua'),\n",
       "       ('Weingut Schmidt', 'Austria', 'Weinviertel'),\n",
       "       ('Weingut Schäfer', 'Germany', 'Nahe'),\n",
       "       ('Weingut Stubits', 'Austria', 'Eisenberg'),\n",
       "       ('Weingut Triebaumer', 'Austria', 'Ruster Ausbruch'),\n",
       "       ('Wijndomein Pres De Gand', 'Belgium', 'Vlaamse landwijn'),\n",
       "       ('Wilreza Winery', 'South Africa', 'Rietrivier FS'),\n",
       "       ('Winery Khareba', 'Georgia', 'Georgian Viticulture Zone'),\n",
       "       ('Winzermeisterei Dirnwöber', 'Austria', 'Wien')], dtype=object)"
      ]
     },
     "execution_count": 13,
     "metadata": {},
     "output_type": "execute_result"
    }
   ],
   "source": [
    "multisite_wineries = by_(\n",
    "  ['name', 'country', 'region'],\n",
    "  df=wineries[\n",
    "    (~wineries.name.isin(single_site_wineries))\n",
    "    &(~wineries.name.isin(single_site_by_country_wineries))\n",
    "    &(~wineries.set_index(['name', 'country']).index.isin(single_site_by_country_wineries))\n",
    "    &(~wineries.set_index(['name', 'country', 'region']).index.isin(single_site_by_region_wineries))\n",
    "  ]\n",
    ")\n",
    "multisite_wineries = np.unique(multisite_wineries.index)\n",
    "multisite_wineries"
   ]
  },
  {
   "cell_type": "code",
   "execution_count": 14,
   "metadata": {},
   "outputs": [],
   "source": [
    "review_location_cols = ['winery', 'country', 'province', 'region_1', 'region_2']\n",
    "geocode_cols = ['lat', 'lon', 'region', 'country', 'url']\n",
    "\n",
    "UNKNOWN_WINERY = namedtuple('UNKNOWN_WINERY', review_location_cols, defaults=[None]*len(review_location_cols))\n",
    "RESOLVED_WINERY = namedtuple('RESOLVED_WINERY', geocode_cols, defaults=[None]*len(geocode_cols))\n",
    "\n",
    "to_resolved_winery = lambda result: RESOLVED_WINERY(*next(result.itertuples(index=False)))\n",
    "\n",
    "def geocode(row):\n",
    "  # fail fast for unrecognized winery names\n",
    "  if wineries.name.isin([row.winery]).sum() < 1:\n",
    "    return UNKNOWN_WINERY(row.winery, row.country, row.province, row.region_1, row.region_2)\n",
    "  \n",
    "  query_terms = [\n",
    "    f'name == \"{row.winery}\"',\n",
    "    f'country == \"{row.country}\"',\n",
    "    f'region == \"{row.province}\"',\n",
    "  ]\n",
    "\n",
    "\n",
    "  if row.winery in single_site_wineries:\n",
    "    q = query_terms[:1]\n",
    "  elif (row.winery, row.country) in map(lambda k: tuple(k), single_site_by_country_wineries):\n",
    "    q = query_terms[:2]\n",
    "  elif (row.winery, row.country, row.province) in map(lambda k: tuple(k), single_site_by_region_wineries):\n",
    "    q = query_terms[:3]\n",
    "  elif (row.winery, row.country, row.province) in map(lambda k: tuple(k), multisite_wineries):\n",
    "    # TODO take centroid of lat-lon points\n",
    "    print('multisite winery', query_terms[:3])\n",
    "    q = query_terms[:3]\n",
    "    return to_resolved_winery(wineries.query(' and '.join(q))[geocode_cols].groupby(['region', 'country', 'url']).mean().reset_index()[geocode_cols])\n",
    "  \n",
    "  if q is not None:\n",
    "    print(q)\n",
    "    return to_resolved_winery(wineries.query(' and '.join(q))[geocode_cols])\n",
    "\n",
    "  print('***', row)\n",
    "  return None"
   ]
  },
  {
   "cell_type": "markdown",
   "metadata": {},
   "source": [
    "### Verify Lookup Logic"
   ]
  },
  {
   "cell_type": "code",
   "execution_count": 15,
   "metadata": {},
   "outputs": [],
   "source": [
    "# data model for testing\n",
    "MOCK_ROW = namedtuple('MOCK_ROW', review_location_cols, defaults=[None]*len(review_location_cols))"
   ]
  },
  {
   "cell_type": "markdown",
   "metadata": {},
   "source": [
    "**Single Location Winery**"
   ]
  },
  {
   "cell_type": "code",
   "execution_count": 16,
   "metadata": {},
   "outputs": [
    {
     "name": "stdout",
     "output_type": "stream",
     "text": [
      "['name == \"Hafner Vineyard\"']\n"
     ]
    },
    {
     "data": {
      "text/plain": [
       "RESOLVED_WINERY(lat=38.68112, lon=-122.80371, region='Alexander Valley', country='United States', url='https://www.hafnervineyard.com/')"
      ]
     },
     "execution_count": 16,
     "metadata": {},
     "output_type": "execute_result"
    }
   ],
   "source": [
    "hafner = geocode(MOCK_ROW('Hafner Vineyard'))\n",
    "# assert hafner.region == 'Alexander Valley'\n",
    "# assert 'hafner' in hafner.url\n",
    "hafner"
   ]
  },
  {
   "cell_type": "markdown",
   "metadata": {},
   "source": [
    "**Single Location By Country Winery**"
   ]
  },
  {
   "cell_type": "code",
   "execution_count": 17,
   "metadata": {},
   "outputs": [
    {
     "name": "stdout",
     "output_type": "stream",
     "text": [
      "['name == \"Domaine de la Croix\"', 'country == \"France\"']\n"
     ]
    },
    {
     "data": {
      "text/plain": [
       "RESOLVED_WINERY(lat=43.19824, lon=6.56929, region='Maures', country='France', url='http://www.domainedelacroix.com/')"
      ]
     },
     "execution_count": 17,
     "metadata": {},
     "output_type": "execute_result"
    }
   ],
   "source": [
    "domaine_de_la_croix = geocode(MOCK_ROW('Domaine de la Croix', 'France'))\n",
    "assert domaine_de_la_croix.region == 'Maures'\n",
    "assert 'domainedelacroix' in domaine_de_la_croix.url\n",
    "domaine_de_la_croix"
   ]
  },
  {
   "cell_type": "markdown",
   "metadata": {},
   "source": [
    "**Single Location By Region Winery**"
   ]
  },
  {
   "cell_type": "code",
   "execution_count": 18,
   "metadata": {},
   "outputs": [
    {
     "name": "stdout",
     "output_type": "stream",
     "text": [
      "['name == \"Azienda Agricola Castelvecchio\"', 'country == \"Italy\"', 'region == \"San Torpè\"']\n"
     ]
    },
    {
     "data": {
      "text/plain": [
       "RESOLVED_WINERY(lat=43.52329, lon=10.66766, region='San Torpè', country='Italy', url='http://www.agricastelvecchio.it/')"
      ]
     },
     "execution_count": 18,
     "metadata": {},
     "output_type": "execute_result"
    }
   ],
   "source": [
    "san_trope = geocode(MOCK_ROW('Azienda Agricola Castelvecchio', 'Italy', 'San Torpè'))\n",
    "assert san_trope.region == 'San Torpè'\n",
    "assert 'castelvecchio' in san_trope.url\n",
    "san_trope"
   ]
  },
  {
   "cell_type": "markdown",
   "metadata": {},
   "source": [
    "**Multisite Winery**"
   ]
  },
  {
   "cell_type": "code",
   "execution_count": 19,
   "metadata": {},
   "outputs": [
    {
     "name": "stdout",
     "output_type": "stream",
     "text": [
      "multisite winery ['name == \"Rancho Capistrano Winery\"', 'country == \"United States\"', 'region == \"South Coast\"']\n"
     ]
    },
    {
     "data": {
      "text/plain": [
       "RESOLVED_WINERY(lat=33.49787, lon=-117.63661, region='South Coast', country='United States', url='https://www.ranchocapwinery.com/')"
      ]
     },
     "execution_count": 19,
     "metadata": {},
     "output_type": "execute_result"
    }
   ],
   "source": [
    "capistrano = geocode(MOCK_ROW('Rancho Capistrano Winery', 'United States', 'South Coast'))\n",
    "assert capistrano.region == 'South Coast'\n",
    "assert 'ranchoca' in capistrano.url\n",
    "capistrano"
   ]
  },
  {
   "cell_type": "markdown",
   "metadata": {},
   "source": [
    "**Unknown Winery**"
   ]
  }
 ],
 "metadata": {
  "kernelspec": {
   "display_name": ".venv",
   "language": "python",
   "name": "python3"
  },
  "language_info": {
   "codemirror_mode": {
    "name": "ipython",
    "version": 3
   },
   "file_extension": ".py",
   "mimetype": "text/x-python",
   "name": "python",
   "nbconvert_exporter": "python",
   "pygments_lexer": "ipython3",
   "version": "3.12.8"
  }
 },
 "nbformat": 4,
 "nbformat_minor": 2
}
