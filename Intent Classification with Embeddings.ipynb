{
 "cells": [
  {
   "cell_type": "code",
   "execution_count": 29,
   "id": "3df59c49-8233-4ab9-9e6c-0d40212317b4",
   "metadata": {},
   "outputs": [],
   "source": [
    "!pip install transformers torch einops --quiet\n",
    "!pip install 'numpy<2' --quiet\n",
    "!pip install tqdm pandas numpy scikit-learn --quiet\n",
    "!pip install keras tensorflow --quiet\n",
    "!pip install pyarrow matplotlib seaborn --quiet"
   ]
  },
  {
   "cell_type": "code",
   "execution_count": 30,
   "id": "b84a7199-6141-40a3-bdca-00cadc38b362",
   "metadata": {
    "ExecuteTime": {
     "end_time": "2024-09-29T15:07:37.065408Z",
     "start_time": "2024-09-29T15:07:37.034518Z"
    }
   },
   "outputs": [],
   "source": [
    "import json\n",
    "import re\n",
    "import time\n",
    "from ast import literal_eval\n",
    "from pathlib import Path\n",
    "\n",
    "import matplotlib.pyplot as plt\n",
    "import numpy as np\n",
    "import pandas as pd\n",
    "from keras import layers, models, optimizers, losses, callbacks\n",
    "from sklearn.decomposition import PCA\n",
    "from sklearn.ensemble import RandomForestClassifier\n",
    "from sklearn.manifold import TSNE\n",
    "from sklearn.metrics import classification_report, accuracy_score\n",
    "from sklearn.model_selection import train_test_split\n",
    "from sklearn.preprocessing import LabelEncoder\n",
    "from sklearn.utils import shuffle\n",
    "from tqdm.auto import tqdm\n",
    "from transformers import AutoModel"
   ]
  },
  {
   "cell_type": "code",
   "execution_count": 31,
   "id": "684a2137-90a2-421f-9958-1cdab278e083",
   "metadata": {
    "ExecuteTime": {
     "end_time": "2024-09-29T15:07:46.325868Z",
     "start_time": "2024-09-29T15:07:43.654929Z"
    }
   },
   "outputs": [
    {
     "data": {
      "text/html": [
       "<div>\n",
       "<style scoped>\n",
       "    .dataframe tbody tr th:only-of-type {\n",
       "        vertical-align: middle;\n",
       "    }\n",
       "\n",
       "    .dataframe tbody tr th {\n",
       "        vertical-align: top;\n",
       "    }\n",
       "\n",
       "    .dataframe thead th {\n",
       "        text-align: right;\n",
       "    }\n",
       "</style>\n",
       "<table border=\"1\" class=\"dataframe\">\n",
       "  <thead>\n",
       "    <tr style=\"text-align: right;\">\n",
       "      <th></th>\n",
       "      <th>text</th>\n",
       "    </tr>\n",
       "  </thead>\n",
       "  <tbody>\n",
       "    <tr>\n",
       "      <th>0</th>\n",
       "      <td>&lt;s&gt;[INST] Classify the following call transcri...</td>\n",
       "    </tr>\n",
       "    <tr>\n",
       "      <th>1</th>\n",
       "      <td>&lt;s&gt;[INST] Classify the following call transcri...</td>\n",
       "    </tr>\n",
       "    <tr>\n",
       "      <th>2</th>\n",
       "      <td>&lt;s&gt;[INST] Classify the following call transcri...</td>\n",
       "    </tr>\n",
       "    <tr>\n",
       "      <th>3</th>\n",
       "      <td>&lt;s&gt;[INST] Classify the following call transcri...</td>\n",
       "    </tr>\n",
       "    <tr>\n",
       "      <th>4</th>\n",
       "      <td>&lt;s&gt;[INST] Classify the following call transcri...</td>\n",
       "    </tr>\n",
       "  </tbody>\n",
       "</table>\n",
       "</div>"
      ],
      "text/plain": [
       "                                                text\n",
       "0  <s>[INST] Classify the following call transcri...\n",
       "1  <s>[INST] Classify the following call transcri...\n",
       "2  <s>[INST] Classify the following call transcri...\n",
       "3  <s>[INST] Classify the following call transcri...\n",
       "4  <s>[INST] Classify the following call transcri..."
      ]
     },
     "execution_count": 31,
     "metadata": {},
     "output_type": "execute_result"
    }
   ],
   "source": [
    "df = pd.read_parquet(\n",
    "    \"hf://datasets/urvog/llama2_transcripts_healthcare_callcenter/data/train-00000-of-00001-643ef6d7d804c522.parquet\")\n",
    "df.head()"
   ]
  },
  {
   "cell_type": "code",
   "execution_count": 32,
   "id": "03b1df3a-f8cf-44b3-af7a-a20757e0303c",
   "metadata": {
    "ExecuteTime": {
     "end_time": "2024-09-29T15:10:09.397663Z",
     "start_time": "2024-09-29T15:10:09.395700Z"
    }
   },
   "outputs": [
    {
     "name": "stdout",
     "output_type": "stream",
     "text": [
      "<s>[INST] Classify the following call transcript:Agent 3: Thank you for calling HealthHarbor, my nam [...] Have a great day!Agent 3: You too, Emma. Goodbye! [/INST] Medical Advice or Symptom Assessment </s>\n"
     ]
    }
   ],
   "source": [
    "text = str(df.iloc[0].text).replace(\"\\n\", \"\")\n",
    "print(f\"{text[:100]} [...]{text[-100:]}\")"
   ]
  },
  {
   "cell_type": "code",
   "execution_count": 33,
   "id": "8ddfb317-01cd-4e7f-8d41-ebf0b2f6b979",
   "metadata": {
    "ExecuteTime": {
     "end_time": "2024-09-29T15:11:31.400073Z",
     "start_time": "2024-09-29T15:11:31.270932Z"
    }
   },
   "outputs": [],
   "source": [
    "def clean_and_extract_text(text):\n",
    "    text = re.sub(r'<s>\\[INST\\] Classify the following call transcript:\\n\\n', '', text)\n",
    "    match = re.search(r'\\[/INST\\] (.+?) </s>', text)\n",
    "    if match:\n",
    "        intent = match.group(1)\n",
    "        text = text[:match.start()].strip()\n",
    "    else:\n",
    "        intent = None\n",
    "    return text, intent\n",
    "\n",
    "\n",
    "df[['cleaned_text', 'intent']] = df['text'].apply(lambda x: pd.Series(clean_and_extract_text(x)))"
   ]
  },
  {
   "cell_type": "code",
   "execution_count": 34,
   "id": "67b8eca4282be7aa",
   "metadata": {
    "ExecuteTime": {
     "end_time": "2024-09-29T15:12:07.431865Z",
     "start_time": "2024-09-29T15:12:07.428880Z"
    }
   },
   "outputs": [
    {
     "name": "stdout",
     "output_type": "stream",
     "text": [
      "Intent mapping: {'Appointment Scheduling': 0, 'Follow-up Calls and Care Management': 1, 'General Inquiries': 2, 'Healthcare Facility Information': 3, 'Insurance and Billing Inquiries': 4, 'Lab and Test Results': 5, 'Medical Advice or Symptom Assessment': 6, 'Medical Records Requests': 7, 'Medication Refills and Prescription Inquiries': 8, 'Referrals and Specialist Appointments': 9}\n"
     ]
    }
   ],
   "source": [
    "# Initialize and apply LabelEncoder\n",
    "label_encoder = LabelEncoder()\n",
    "df['intent_encoded'] = label_encoder.fit_transform(df['intent'])\n",
    "\n",
    "intent_mapping = dict(zip(label_encoder.classes_, label_encoder.transform(label_encoder.classes_)))\n",
    "print(\"Intent mapping:\", intent_mapping)"
   ]
  },
  {
   "cell_type": "code",
   "execution_count": 35,
   "id": "1e9d1950-2043-4217-8165-46be19104ce2",
   "metadata": {
    "ExecuteTime": {
     "end_time": "2024-09-29T15:12:31.215581Z",
     "start_time": "2024-09-29T15:12:31.211442Z"
    }
   },
   "outputs": [
    {
     "name": "stdout",
     "output_type": "stream",
     "text": [
      "Intent Distribution:\n",
      "                                          intent  count\n",
      "0                Insurance and Billing Inquiries    112\n",
      "1                       Medical Records Requests    112\n",
      "2                Healthcare Facility Information    111\n",
      "3           Medical Advice or Symptom Assessment    102\n",
      "4            Follow-up Calls and Care Management    100\n",
      "5                           Lab and Test Results     97\n",
      "6  Medication Refills and Prescription Inquiries     95\n",
      "7          Referrals and Specialist Appointments     95\n",
      "8                              General Inquiries     89\n",
      "9                         Appointment Scheduling     87\n"
     ]
    }
   ],
   "source": [
    "# Check the distribution of intents in the dataset\n",
    "intent_distribution = df['intent'].value_counts().reset_index()\n",
    "\n",
    "print(\"Intent Distribution:\")\n",
    "print(intent_distribution)"
   ]
  },
  {
   "cell_type": "code",
   "execution_count": 36,
   "id": "a0c73b81-a27e-427e-b59b-1f8733ca8a49",
   "metadata": {
    "ExecuteTime": {
     "end_time": "2024-09-29T15:13:10.842025Z",
     "start_time": "2024-09-29T15:13:10.833712Z"
    }
   },
   "outputs": [
    {
     "name": "stderr",
     "output_type": "stream",
     "text": [
      "/var/folders/y8/_pw0hcc137n3wqx4y4cz33100000gq/T/ipykernel_24504/1926966717.py:3: DeprecationWarning: DataFrameGroupBy.apply operated on the grouping columns. This behavior is deprecated, and in a future version of pandas the grouping columns will be excluded from the operation. Either pass `include_groups=False` to exclude the groupings or explicitly select the grouping columns after groupby to silence this warning.\n",
      "  balanced_df = df.groupby('intent').apply(lambda x: x.sample(min_count)).reset_index(drop=True)\n"
     ]
    }
   ],
   "source": [
    "def balance_dataset(df):\n",
    "    min_count = df['intent'].value_counts().min()\n",
    "    balanced_df = df.groupby('intent').apply(lambda x: x.sample(min_count)).reset_index(drop=True)\n",
    "    return balanced_df\n",
    "\n",
    "\n",
    "balanced_df = balance_dataset(df)\n",
    "\n",
    "# Shuffle the balanced dataset\n",
    "balanced_df = shuffle(balanced_df, random_state=42)"
   ]
  },
  {
   "cell_type": "code",
   "execution_count": 37,
   "id": "7537aae7-df26-4352-9757-cc671ceac345",
   "metadata": {
    "ExecuteTime": {
     "end_time": "2024-09-29T15:13:31.087850Z",
     "start_time": "2024-09-29T15:13:31.081155Z"
    }
   },
   "outputs": [
    {
     "name": "stdout",
     "output_type": "stream",
     "text": [
      "Training set: 609 samples\n",
      "Validation set: 130 samples\n",
      "Test set: 131 samples\n"
     ]
    }
   ],
   "source": [
    "# Split the data into training and temporary (which will be further split into validation and test)\n",
    "train_df, temp_df = train_test_split(balanced_df, test_size=0.3, stratify=balanced_df['intent'], random_state=42)\n",
    "\n",
    "# Further split the temporary dataset into validation and test sets\n",
    "validation_df, test_df = train_test_split(temp_df, test_size=0.5, stratify=temp_df['intent'], random_state=42)\n",
    "\n",
    "print(f\"Training set: {len(train_df)} samples\")\n",
    "print(f\"Validation set: {len(validation_df)} samples\")\n",
    "print(f\"Test set: {len(test_df)} samples\")"
   ]
  },
  {
   "cell_type": "code",
   "execution_count": 38,
   "id": "d768d064-90c6-406a-b7dd-29ff0f2513f8",
   "metadata": {
    "ExecuteTime": {
     "end_time": "2024-09-29T15:13:58.121451Z",
     "start_time": "2024-09-29T15:13:58.090125Z"
    }
   },
   "outputs": [],
   "source": [
    "# save the balanced dataframes\n",
    "train_df.to_parquet('data/balanced_train_dataset.parquet', index=False)\n",
    "validation_df.to_parquet('data/balanced_validation_dataset.parquet', index=False)\n",
    "test_df.to_parquet('data/balanced_test_dataset.parquet', index=False)"
   ]
  },
  {
   "cell_type": "code",
   "execution_count": 39,
   "id": "6e5d3943-71f4-4c96-8e3a-dfd4887e5da3",
   "metadata": {
    "ExecuteTime": {
     "end_time": "2024-09-29T15:15:04.550353Z",
     "start_time": "2024-09-29T15:15:04.544070Z"
    }
   },
   "outputs": [
    {
     "data": {
      "text/html": [
       "<div>\n",
       "<style scoped>\n",
       "    .dataframe tbody tr th:only-of-type {\n",
       "        vertical-align: middle;\n",
       "    }\n",
       "\n",
       "    .dataframe tbody tr th {\n",
       "        vertical-align: top;\n",
       "    }\n",
       "\n",
       "    .dataframe thead th {\n",
       "        text-align: right;\n",
       "    }\n",
       "</style>\n",
       "<table border=\"1\" class=\"dataframe\">\n",
       "  <thead>\n",
       "    <tr style=\"text-align: right;\">\n",
       "      <th></th>\n",
       "      <th>Intent</th>\n",
       "      <th>Training Count</th>\n",
       "      <th>Validation Count</th>\n",
       "      <th>Test Count</th>\n",
       "    </tr>\n",
       "  </thead>\n",
       "  <tbody>\n",
       "    <tr>\n",
       "      <th>0</th>\n",
       "      <td>Medication Refills and Prescription Inquiries</td>\n",
       "      <td>61</td>\n",
       "      <td>13</td>\n",
       "      <td>13</td>\n",
       "    </tr>\n",
       "    <tr>\n",
       "      <th>1</th>\n",
       "      <td>Lab and Test Results</td>\n",
       "      <td>61</td>\n",
       "      <td>13</td>\n",
       "      <td>13</td>\n",
       "    </tr>\n",
       "    <tr>\n",
       "      <th>2</th>\n",
       "      <td>Appointment Scheduling</td>\n",
       "      <td>61</td>\n",
       "      <td>13</td>\n",
       "      <td>13</td>\n",
       "    </tr>\n",
       "    <tr>\n",
       "      <th>3</th>\n",
       "      <td>Healthcare Facility Information</td>\n",
       "      <td>61</td>\n",
       "      <td>13</td>\n",
       "      <td>13</td>\n",
       "    </tr>\n",
       "    <tr>\n",
       "      <th>4</th>\n",
       "      <td>Follow-up Calls and Care Management</td>\n",
       "      <td>61</td>\n",
       "      <td>13</td>\n",
       "      <td>13</td>\n",
       "    </tr>\n",
       "    <tr>\n",
       "      <th>5</th>\n",
       "      <td>Referrals and Specialist Appointments</td>\n",
       "      <td>61</td>\n",
       "      <td>13</td>\n",
       "      <td>13</td>\n",
       "    </tr>\n",
       "    <tr>\n",
       "      <th>6</th>\n",
       "      <td>Insurance and Billing Inquiries</td>\n",
       "      <td>61</td>\n",
       "      <td>13</td>\n",
       "      <td>13</td>\n",
       "    </tr>\n",
       "    <tr>\n",
       "      <th>7</th>\n",
       "      <td>Medical Records Requests</td>\n",
       "      <td>61</td>\n",
       "      <td>13</td>\n",
       "      <td>13</td>\n",
       "    </tr>\n",
       "    <tr>\n",
       "      <th>8</th>\n",
       "      <td>General Inquiries</td>\n",
       "      <td>61</td>\n",
       "      <td>13</td>\n",
       "      <td>13</td>\n",
       "    </tr>\n",
       "    <tr>\n",
       "      <th>9</th>\n",
       "      <td>Medical Advice or Symptom Assessment</td>\n",
       "      <td>60</td>\n",
       "      <td>13</td>\n",
       "      <td>14</td>\n",
       "    </tr>\n",
       "  </tbody>\n",
       "</table>\n",
       "</div>"
      ],
      "text/plain": [
       "                                          Intent  Training Count  \\\n",
       "0  Medication Refills and Prescription Inquiries              61   \n",
       "1                           Lab and Test Results              61   \n",
       "2                         Appointment Scheduling              61   \n",
       "3                Healthcare Facility Information              61   \n",
       "4            Follow-up Calls and Care Management              61   \n",
       "5          Referrals and Specialist Appointments              61   \n",
       "6                Insurance and Billing Inquiries              61   \n",
       "7                       Medical Records Requests              61   \n",
       "8                              General Inquiries              61   \n",
       "9           Medical Advice or Symptom Assessment              60   \n",
       "\n",
       "   Validation Count  Test Count  \n",
       "0                13          13  \n",
       "1                13          13  \n",
       "2                13          13  \n",
       "3                13          13  \n",
       "4                13          13  \n",
       "5                13          13  \n",
       "6                13          13  \n",
       "7                13          13  \n",
       "8                13          13  \n",
       "9                13          14  "
      ]
     },
     "execution_count": 39,
     "metadata": {},
     "output_type": "execute_result"
    }
   ],
   "source": [
    "# Extract intent counts from each dataset\n",
    "train_counts = train_df['intent'].value_counts()\n",
    "validation_counts = validation_df['intent'].value_counts()\n",
    "test_counts = test_df['intent'].value_counts()\n",
    "\n",
    "# Create a DataFrame to print a table with the distribution data\n",
    "distribution_df = pd.DataFrame({\n",
    "    'Intent': train_counts.index,\n",
    "    'Training Count': train_counts.values,\n",
    "    'Validation Count': validation_counts.reindex(train_counts.index, fill_value=0).values,\n",
    "    'Test Count': test_counts.reindex(train_counts.index, fill_value=0).values\n",
    "})\n",
    "distribution_df.head(20)"
   ]
  },
  {
   "cell_type": "code",
   "execution_count": 41,
   "id": "3f7a0863-18bf-4a2c-a050-4c5f67bf255b",
   "metadata": {
    "ExecuteTime": {
     "end_time": "2024-09-29T15:15:35.539458Z",
     "start_time": "2024-09-29T15:15:27.470549Z"
    }
   },
   "outputs": [
    {
     "data": {
      "application/vnd.jupyter.widget-view+json": {
       "model_id": "37881c56c5a04de4a80e5719a7e1e97e",
       "version_major": 2,
       "version_minor": 0
      },
      "text/plain": [
       "model.safetensors:   0%|          | 0.00/1.14G [00:00<?, ?B/s]"
      ]
     },
     "metadata": {},
     "output_type": "display_data"
    },
    {
     "data": {
      "application/vnd.jupyter.widget-view+json": {
       "model_id": "1881bf49ae48493d84f54de5d003e053",
       "version_major": 2,
       "version_minor": 0
      },
      "text/plain": [
       "tokenizer_config.json:   0%|          | 0.00/1.15k [00:00<?, ?B/s]"
      ]
     },
     "metadata": {},
     "output_type": "display_data"
    },
    {
     "data": {
      "application/vnd.jupyter.widget-view+json": {
       "model_id": "6f13e769cadf483d8ba8f341f03561ca",
       "version_major": 2,
       "version_minor": 0
      },
      "text/plain": [
       "tokenizer.json:   0%|          | 0.00/17.1M [00:00<?, ?B/s]"
      ]
     },
     "metadata": {},
     "output_type": "display_data"
    },
    {
     "data": {
      "application/vnd.jupyter.widget-view+json": {
       "model_id": "4b634362ac354c13aa4c25b59e3ff6ab",
       "version_major": 2,
       "version_minor": 0
      },
      "text/plain": [
       "special_tokens_map.json:   0%|          | 0.00/964 [00:00<?, ?B/s]"
      ]
     },
     "metadata": {},
     "output_type": "display_data"
    }
   ],
   "source": [
    "# Let's start with embeddings\n",
    "EMBEDDING_MODEL_NAME = \"jinaai/jina-embeddings-v3\"\n",
    "embedding_model = AutoModel.from_pretrained(EMBEDDING_MODEL_NAME, trust_remote_code=True)"
   ]
  },
  {
   "cell_type": "code",
   "execution_count": 42,
   "id": "c597b10a-ff1f-4489-8a29-17cb34db5b9d",
   "metadata": {
    "ExecuteTime": {
     "end_time": "2024-09-29T15:15:48.109646Z",
     "start_time": "2024-09-29T15:15:48.105650Z"
    }
   },
   "outputs": [],
   "source": [
    "tqdm.pandas()\n",
    "\n",
    "\n",
    "def embed_text(text: str, model) -> list[float]:\n",
    "    \"\"\"Generates embeddings for a given text using the provided model.\"\"\"\n",
    "    # You can customize the task as needed: 'retrieval.query', 'retrieval.passage', 'classification', etc.\n",
    "    embeddings = model.encode(text, task=\"classification\")\n",
    "    return embeddings\n",
    "\n",
    "\n",
    "def create_embeddings(model, df):\n",
    "    df['embeddings'] = df['cleaned_text'].progress_apply(lambda text: embed_text(text, model))\n",
    "    return df"
   ]
  },
  {
   "cell_type": "code",
   "execution_count": 43,
   "id": "cad0d51a-4f70-4207-a53d-2bc3349cc493",
   "metadata": {
    "ExecuteTime": {
     "end_time": "2024-09-29T15:17:09.436783Z",
     "start_time": "2024-09-29T15:17:07.777464Z"
    }
   },
   "outputs": [
    {
     "data": {
      "application/vnd.jupyter.widget-view+json": {
       "model_id": "319f6477d485428c9fc45d70f0ea1e8a",
       "version_major": 2,
       "version_minor": 0
      },
      "text/plain": [
       "  0%|          | 0/609 [00:00<?, ?it/s]"
      ]
     },
     "metadata": {},
     "output_type": "display_data"
    },
    {
     "data": {
      "application/vnd.jupyter.widget-view+json": {
       "model_id": "bbb8ad91aa32468ab4d1c9c0c152abc4",
       "version_major": 2,
       "version_minor": 0
      },
      "text/plain": [
       "  0%|          | 0/131 [00:00<?, ?it/s]"
      ]
     },
     "metadata": {},
     "output_type": "display_data"
    },
    {
     "data": {
      "text/html": [
       "<div>\n",
       "<style scoped>\n",
       "    .dataframe tbody tr th:only-of-type {\n",
       "        vertical-align: middle;\n",
       "    }\n",
       "\n",
       "    .dataframe tbody tr th {\n",
       "        vertical-align: top;\n",
       "    }\n",
       "\n",
       "    .dataframe thead th {\n",
       "        text-align: right;\n",
       "    }\n",
       "</style>\n",
       "<table border=\"1\" class=\"dataframe\">\n",
       "  <thead>\n",
       "    <tr style=\"text-align: right;\">\n",
       "      <th></th>\n",
       "      <th>text</th>\n",
       "      <th>cleaned_text</th>\n",
       "      <th>intent</th>\n",
       "      <th>intent_encoded</th>\n",
       "      <th>embeddings</th>\n",
       "    </tr>\n",
       "  </thead>\n",
       "  <tbody>\n",
       "    <tr>\n",
       "      <th>0</th>\n",
       "      <td>&lt;s&gt;[INST] Classify the following call transcri...</td>\n",
       "      <td>[Phone ringing]\\n\\nAgent 3: Thank you for call...</td>\n",
       "      <td>Medication Refills and Prescription Inquiries</td>\n",
       "      <td>8</td>\n",
       "      <td>[0.07872974127531052, -0.05310261994600296, 0....</td>\n",
       "    </tr>\n",
       "    <tr>\n",
       "      <th>1</th>\n",
       "      <td>&lt;s&gt;[INST] Classify the following call transcri...</td>\n",
       "      <td>[Phone rings]\\n\\nAgent 4: Thank you for callin...</td>\n",
       "      <td>Medication Refills and Prescription Inquiries</td>\n",
       "      <td>8</td>\n",
       "      <td>[0.05471781641244888, -0.03921061381697655, 0....</td>\n",
       "    </tr>\n",
       "    <tr>\n",
       "      <th>2</th>\n",
       "      <td>&lt;s&gt;[INST] Classify the following call transcri...</td>\n",
       "      <td>Agent 4: Thank you for calling HealthHarbor, m...</td>\n",
       "      <td>Medical Advice or Symptom Assessment</td>\n",
       "      <td>6</td>\n",
       "      <td>[0.0687483698129654, -0.11404647678136826, 0.0...</td>\n",
       "    </tr>\n",
       "    <tr>\n",
       "      <th>3</th>\n",
       "      <td>&lt;s&gt;[INST] Classify the following call transcri...</td>\n",
       "      <td>[Phone rings]\\n\\nAgent 2: Thank you for callin...</td>\n",
       "      <td>Lab and Test Results</td>\n",
       "      <td>5</td>\n",
       "      <td>[0.06412846595048904, -0.08194240182638168, 0....</td>\n",
       "    </tr>\n",
       "    <tr>\n",
       "      <th>4</th>\n",
       "      <td>&lt;s&gt;[INST] Classify the following call transcri...</td>\n",
       "      <td>Agent 1: Thank you for calling HealthHarbor. M...</td>\n",
       "      <td>Medication Refills and Prescription Inquiries</td>\n",
       "      <td>8</td>\n",
       "      <td>[0.05473318696022034, -0.09762326627969742, 0....</td>\n",
       "    </tr>\n",
       "  </tbody>\n",
       "</table>\n",
       "</div>"
      ],
      "text/plain": [
       "                                                text  \\\n",
       "0  <s>[INST] Classify the following call transcri...   \n",
       "1  <s>[INST] Classify the following call transcri...   \n",
       "2  <s>[INST] Classify the following call transcri...   \n",
       "3  <s>[INST] Classify the following call transcri...   \n",
       "4  <s>[INST] Classify the following call transcri...   \n",
       "\n",
       "                                        cleaned_text  \\\n",
       "0  [Phone ringing]\\n\\nAgent 3: Thank you for call...   \n",
       "1  [Phone rings]\\n\\nAgent 4: Thank you for callin...   \n",
       "2  Agent 4: Thank you for calling HealthHarbor, m...   \n",
       "3  [Phone rings]\\n\\nAgent 2: Thank you for callin...   \n",
       "4  Agent 1: Thank you for calling HealthHarbor. M...   \n",
       "\n",
       "                                          intent  intent_encoded  \\\n",
       "0  Medication Refills and Prescription Inquiries               8   \n",
       "1  Medication Refills and Prescription Inquiries               8   \n",
       "2           Medical Advice or Symptom Assessment               6   \n",
       "3                           Lab and Test Results               5   \n",
       "4  Medication Refills and Prescription Inquiries               8   \n",
       "\n",
       "                                          embeddings  \n",
       "0  [0.07872974127531052, -0.05310261994600296, 0....  \n",
       "1  [0.05471781641244888, -0.03921061381697655, 0....  \n",
       "2  [0.0687483698129654, -0.11404647678136826, 0.0...  \n",
       "3  [0.06412846595048904, -0.08194240182638168, 0....  \n",
       "4  [0.05473318696022034, -0.09762326627969742, 0....  "
      ]
     },
     "execution_count": 43,
     "metadata": {},
     "output_type": "execute_result"
    }
   ],
   "source": [
    "DATA_PATH = 'data/'\n",
    "\n",
    "train_path = Path(DATA_PATH) / 'call_center_train.csv'\n",
    "test_path = Path(DATA_PATH) / 'call_center_test.csv'\n",
    "\n",
    "if not train_path.exists():\n",
    "    df_train = create_embeddings(embedding_model, train_df)\n",
    "    df_train['embeddings'] = df_train['embeddings'].apply(lambda emb: json.dumps(emb.tolist()))\n",
    "    df_train.to_csv(train_path, index=False)\n",
    "\n",
    "if not test_path.exists():\n",
    "    df_test = create_embeddings(embedding_model, test_df)\n",
    "    df_test['embeddings'] = df_test['embeddings'].apply(lambda emb: json.dumps(emb.tolist()))\n",
    "    df_test.to_csv(test_path, index=False)\n",
    "\n",
    "df_train = pd.read_csv(train_path)\n",
    "df_test = pd.read_csv(test_path)\n",
    "\n",
    "df_train[\"embeddings\"] = df_train.embeddings.apply(literal_eval).apply(np.array)\n",
    "df_test[\"embeddings\"] = df_test.embeddings.apply(literal_eval).apply(np.array)\n",
    "\n",
    "df_train['intent'] = df_train['intent'].astype('category')\n",
    "df_test['intent'] = df_test['intent'].astype('category')\n",
    "\n",
    "df_train.head()"
   ]
  },
  {
   "cell_type": "code",
   "execution_count": 44,
   "id": "019126a9-72ba-4f89-a524-b448cba98200",
   "metadata": {
    "ExecuteTime": {
     "end_time": "2024-09-29T15:19:11.929641Z",
     "start_time": "2024-09-29T15:19:11.914059Z"
    }
   },
   "outputs": [
    {
     "data": {
      "text/html": [
       "<pre style=\"white-space:pre;overflow-x:auto;line-height:normal;font-family:Menlo,'DejaVu Sans Mono',consolas,'Courier New',monospace\"><span style=\"font-weight: bold\">Model: \"functional\"</span>\n",
       "</pre>\n"
      ],
      "text/plain": [
       "\u001b[1mModel: \"functional\"\u001b[0m\n"
      ]
     },
     "metadata": {},
     "output_type": "display_data"
    },
    {
     "data": {
      "text/html": [
       "<pre style=\"white-space:pre;overflow-x:auto;line-height:normal;font-family:Menlo,'DejaVu Sans Mono',consolas,'Courier New',monospace\">┏━━━━━━━━━━━━━━━━━━━━━━━━━━━━━━━━━┳━━━━━━━━━━━━━━━━━━━━━━━━┳━━━━━━━━━━━━━━━┓\n",
       "┃<span style=\"font-weight: bold\"> Layer (type)                    </span>┃<span style=\"font-weight: bold\"> Output Shape           </span>┃<span style=\"font-weight: bold\">       Param # </span>┃\n",
       "┡━━━━━━━━━━━━━━━━━━━━━━━━━━━━━━━━━╇━━━━━━━━━━━━━━━━━━━━━━━━╇━━━━━━━━━━━━━━━┩\n",
       "│ input_layer (<span style=\"color: #0087ff; text-decoration-color: #0087ff\">InputLayer</span>)        │ (<span style=\"color: #00d7ff; text-decoration-color: #00d7ff\">None</span>, <span style=\"color: #00af00; text-decoration-color: #00af00\">1024</span>)           │             <span style=\"color: #00af00; text-decoration-color: #00af00\">0</span> │\n",
       "├─────────────────────────────────┼────────────────────────┼───────────────┤\n",
       "│ dense (<span style=\"color: #0087ff; text-decoration-color: #0087ff\">Dense</span>)                   │ (<span style=\"color: #00d7ff; text-decoration-color: #00d7ff\">None</span>, <span style=\"color: #00af00; text-decoration-color: #00af00\">128</span>)            │       <span style=\"color: #00af00; text-decoration-color: #00af00\">131,200</span> │\n",
       "├─────────────────────────────────┼────────────────────────┼───────────────┤\n",
       "│ dense_1 (<span style=\"color: #0087ff; text-decoration-color: #0087ff\">Dense</span>)                 │ (<span style=\"color: #00d7ff; text-decoration-color: #00d7ff\">None</span>, <span style=\"color: #00af00; text-decoration-color: #00af00\">10</span>)             │         <span style=\"color: #00af00; text-decoration-color: #00af00\">1,290</span> │\n",
       "└─────────────────────────────────┴────────────────────────┴───────────────┘\n",
       "</pre>\n"
      ],
      "text/plain": [
       "┏━━━━━━━━━━━━━━━━━━━━━━━━━━━━━━━━━┳━━━━━━━━━━━━━━━━━━━━━━━━┳━━━━━━━━━━━━━━━┓\n",
       "┃\u001b[1m \u001b[0m\u001b[1mLayer (type)                   \u001b[0m\u001b[1m \u001b[0m┃\u001b[1m \u001b[0m\u001b[1mOutput Shape          \u001b[0m\u001b[1m \u001b[0m┃\u001b[1m \u001b[0m\u001b[1m      Param #\u001b[0m\u001b[1m \u001b[0m┃\n",
       "┡━━━━━━━━━━━━━━━━━━━━━━━━━━━━━━━━━╇━━━━━━━━━━━━━━━━━━━━━━━━╇━━━━━━━━━━━━━━━┩\n",
       "│ input_layer (\u001b[38;5;33mInputLayer\u001b[0m)        │ (\u001b[38;5;45mNone\u001b[0m, \u001b[38;5;34m1024\u001b[0m)           │             \u001b[38;5;34m0\u001b[0m │\n",
       "├─────────────────────────────────┼────────────────────────┼───────────────┤\n",
       "│ dense (\u001b[38;5;33mDense\u001b[0m)                   │ (\u001b[38;5;45mNone\u001b[0m, \u001b[38;5;34m128\u001b[0m)            │       \u001b[38;5;34m131,200\u001b[0m │\n",
       "├─────────────────────────────────┼────────────────────────┼───────────────┤\n",
       "│ dense_1 (\u001b[38;5;33mDense\u001b[0m)                 │ (\u001b[38;5;45mNone\u001b[0m, \u001b[38;5;34m10\u001b[0m)             │         \u001b[38;5;34m1,290\u001b[0m │\n",
       "└─────────────────────────────────┴────────────────────────┴───────────────┘\n"
      ]
     },
     "metadata": {},
     "output_type": "display_data"
    },
    {
     "data": {
      "text/html": [
       "<pre style=\"white-space:pre;overflow-x:auto;line-height:normal;font-family:Menlo,'DejaVu Sans Mono',consolas,'Courier New',monospace\"><span style=\"font-weight: bold\"> Total params: </span><span style=\"color: #00af00; text-decoration-color: #00af00\">132,490</span> (517.54 KB)\n",
       "</pre>\n"
      ],
      "text/plain": [
       "\u001b[1m Total params: \u001b[0m\u001b[38;5;34m132,490\u001b[0m (517.54 KB)\n"
      ]
     },
     "metadata": {},
     "output_type": "display_data"
    },
    {
     "data": {
      "text/html": [
       "<pre style=\"white-space:pre;overflow-x:auto;line-height:normal;font-family:Menlo,'DejaVu Sans Mono',consolas,'Courier New',monospace\"><span style=\"font-weight: bold\"> Trainable params: </span><span style=\"color: #00af00; text-decoration-color: #00af00\">132,490</span> (517.54 KB)\n",
       "</pre>\n"
      ],
      "text/plain": [
       "\u001b[1m Trainable params: \u001b[0m\u001b[38;5;34m132,490\u001b[0m (517.54 KB)\n"
      ]
     },
     "metadata": {},
     "output_type": "display_data"
    },
    {
     "data": {
      "text/html": [
       "<pre style=\"white-space:pre;overflow-x:auto;line-height:normal;font-family:Menlo,'DejaVu Sans Mono',consolas,'Courier New',monospace\"><span style=\"font-weight: bold\"> Non-trainable params: </span><span style=\"color: #00af00; text-decoration-color: #00af00\">0</span> (0.00 B)\n",
       "</pre>\n"
      ],
      "text/plain": [
       "\u001b[1m Non-trainable params: \u001b[0m\u001b[38;5;34m0\u001b[0m (0.00 B)\n"
      ]
     },
     "metadata": {},
     "output_type": "display_data"
    }
   ],
   "source": [
    "def build_and_compile_nn_classification_model(input_size: int, num_classes: int) -> models.Model:\n",
    "    inputs = layers.Input(shape=(input_size,))\n",
    "    x = layers.Dense(128, activation='relu')(inputs)\n",
    "    x = layers.Dense(num_classes, activation='sigmoid')(x)\n",
    "\n",
    "    model = models.Model(inputs, x)\n",
    "    model.compile(\n",
    "        loss=losses.SparseCategoricalCrossentropy(),\n",
    "        optimizer=optimizers.Adam(learning_rate=0.001),\n",
    "        metrics=['accuracy']\n",
    "    )\n",
    "    return model\n",
    "\n",
    "\n",
    "embedding_size = len(df_train['embeddings'].iloc[0])\n",
    "num_classes = len(df_train['intent'].unique())\n",
    "nn_classifier = build_and_compile_nn_classification_model(embedding_size, num_classes)\n",
    "nn_classifier.summary()"
   ]
  },
  {
   "cell_type": "code",
   "execution_count": 45,
   "id": "ee5ed243-f78a-4aac-967a-0bd995304bcd",
   "metadata": {
    "ExecuteTime": {
     "end_time": "2024-09-29T15:19:46.638296Z",
     "start_time": "2024-09-29T15:19:45.721571Z"
    }
   },
   "outputs": [
    {
     "name": "stdout",
     "output_type": "stream",
     "text": [
      "Neural Network Training Time: 2.0318 seconds\n"
     ]
    }
   ],
   "source": [
    "# Train the neural network classifier\n",
    "\n",
    "x_train = np.stack(df_train['embeddings'])\n",
    "y_train = df_train['intent_encoded']\n",
    "\n",
    "x_val = np.stack(df_test['embeddings'])\n",
    "y_val = df_test['intent_encoded']\n",
    "\n",
    "start_time = time.time()\n",
    "callback = callbacks.EarlyStopping(monitor='accuracy', patience=3)\n",
    "history = nn_classifier.fit(\n",
    "    x=x_train,\n",
    "    y=y_train,\n",
    "    validation_data=(x_val, y_val),\n",
    "    batch_size=32,\n",
    "    epochs=20,\n",
    "    callbacks=[callback],\n",
    "    verbose=0\n",
    ")\n",
    "training_time_nn = time.time() - start_time\n",
    "print(f\"Neural Network Training Time: {training_time_nn:.4f} seconds\")"
   ]
  },
  {
   "cell_type": "code",
   "execution_count": 46,
   "id": "42e1673a-60bd-4f2f-89ec-a1c6c5c7a4f6",
   "metadata": {
    "ExecuteTime": {
     "end_time": "2024-09-29T15:23:45.033515Z",
     "start_time": "2024-09-29T15:23:45.003256Z"
    }
   },
   "outputs": [
    {
     "name": "stdout",
     "output_type": "stream",
     "text": [
      "\u001b[1m5/5\u001b[0m \u001b[32m━━━━━━━━━━━━━━━━━━━━\u001b[0m\u001b[37m\u001b[0m \u001b[1m0s\u001b[0m 7ms/step - accuracy: 0.7501 - loss: 1.0387 \n"
     ]
    },
    {
     "data": {
      "text/plain": [
       "{'accuracy': 0.7633587718009949, 'loss': 1.0489792823791504}"
      ]
     },
     "execution_count": 46,
     "metadata": {},
     "output_type": "execute_result"
    }
   ],
   "source": [
    "# Evaluate model performance\n",
    "nn_classifier.evaluate(x=x_val, y=y_val, return_dict=True)"
   ]
  },
  {
   "cell_type": "code",
   "execution_count": 47,
   "id": "e080c656-84ef-4f48-b54e-5e24f4b2a43e",
   "metadata": {
    "ExecuteTime": {
     "end_time": "2024-09-29T15:20:12.799881Z",
     "start_time": "2024-09-29T15:20:12.741842Z"
    }
   },
   "outputs": [
    {
     "name": "stdout",
     "output_type": "stream",
     "text": [
      "\u001b[1m5/5\u001b[0m \u001b[32m━━━━━━━━━━━━━━━━━━━━\u001b[0m\u001b[37m\u001b[0m \u001b[1m0s\u001b[0m 9ms/step \n",
      "Neural Network Classifier:\n",
      "Accuracy: 0.7634\n",
      "Classification Report:\n",
      "              precision    recall  f1-score   support\n",
      "\n",
      "           0       0.00      0.00      0.00        13\n",
      "           1       0.90      0.69      0.78        13\n",
      "           2       0.00      0.00      0.00        13\n",
      "           3       0.62      1.00      0.76        13\n",
      "           4       0.93      1.00      0.96        13\n",
      "           5       1.00      1.00      1.00        13\n",
      "           6       0.68      0.93      0.79        14\n",
      "           7       1.00      1.00      1.00        13\n",
      "           8       1.00      1.00      1.00        13\n",
      "           9       0.48      1.00      0.65        13\n",
      "\n",
      "    accuracy                           0.76       131\n",
      "   macro avg       0.66      0.76      0.69       131\n",
      "weighted avg       0.66      0.76      0.70       131\n",
      "\n"
     ]
    },
    {
     "name": "stderr",
     "output_type": "stream",
     "text": [
      "/Users/patrick/Documents/personal/ucb/oenologist/.venv/lib/python3.11/site-packages/sklearn/metrics/_classification.py:1565: UndefinedMetricWarning: Precision is ill-defined and being set to 0.0 in labels with no predicted samples. Use `zero_division` parameter to control this behavior.\n",
      "  _warn_prf(average, modifier, f\"{metric.capitalize()} is\", len(result))\n",
      "/Users/patrick/Documents/personal/ucb/oenologist/.venv/lib/python3.11/site-packages/sklearn/metrics/_classification.py:1565: UndefinedMetricWarning: Precision is ill-defined and being set to 0.0 in labels with no predicted samples. Use `zero_division` parameter to control this behavior.\n",
      "  _warn_prf(average, modifier, f\"{metric.capitalize()} is\", len(result))\n",
      "/Users/patrick/Documents/personal/ucb/oenologist/.venv/lib/python3.11/site-packages/sklearn/metrics/_classification.py:1565: UndefinedMetricWarning: Precision is ill-defined and being set to 0.0 in labels with no predicted samples. Use `zero_division` parameter to control this behavior.\n",
      "  _warn_prf(average, modifier, f\"{metric.capitalize()} is\", len(result))\n"
     ]
    }
   ],
   "source": [
    "# Evaluate the model's performance using scikit-learn's classification report and accuracy score\n",
    "\n",
    "# Predict the class probabilities on the validation set\n",
    "y_pred_probs = nn_classifier.predict(x_val)\n",
    "\n",
    "# Use np.argmax to convert the predicted probabilities to class labels (for multi-class classification)\n",
    "y_pred = np.argmax(y_pred_probs, axis=1)\n",
    "\n",
    "accuracy_nn = accuracy_score(y_val, y_pred)\n",
    "report_nn = classification_report(y_val, y_pred)\n",
    "\n",
    "print(\"Neural Network Classifier:\")\n",
    "print(f\"Accuracy: {accuracy_nn:.4f}\")\n",
    "print(\"Classification Report:\")\n",
    "print(report_nn)"
   ]
  },
  {
   "cell_type": "code",
   "execution_count": 48,
   "id": "19cd4e3d-b8d0-4d92-a7ec-888d48dc98fe",
   "metadata": {
    "ExecuteTime": {
     "end_time": "2024-09-29T15:26:11.686128Z",
     "start_time": "2024-09-29T15:26:10.900172Z"
    }
   },
   "outputs": [
    {
     "name": "stdout",
     "output_type": "stream",
     "text": [
      "Random Forest Training Time: 1.0985 seconds\n",
      "Accuracy: 0.8779\n",
      "              precision    recall  f1-score   support\n",
      "\n",
      "           0       0.73      0.85      0.79        13\n",
      "           1       1.00      0.77      0.87        13\n",
      "           2       0.62      0.62      0.62        13\n",
      "           3       0.82      0.69      0.75        13\n",
      "           4       1.00      1.00      1.00        13\n",
      "           5       1.00      1.00      1.00        13\n",
      "           6       0.87      0.93      0.90        14\n",
      "           7       1.00      1.00      1.00        13\n",
      "           8       1.00      1.00      1.00        13\n",
      "           9       0.80      0.92      0.86        13\n",
      "\n",
      "    accuracy                           0.88       131\n",
      "   macro avg       0.88      0.88      0.88       131\n",
      "weighted avg       0.88      0.88      0.88       131\n",
      "\n"
     ]
    }
   ],
   "source": [
    "# Random forest classifier\n",
    "\n",
    "# Set up the training and testing data\n",
    "X_train = df_train[\"embeddings\"].to_list()  # Embeddings as input features\n",
    "y_train = df_train[\"intent_encoded\"].values  # Encoded label as target\n",
    "\n",
    "X_test = df_test[\"embeddings\"].to_list()  # Test embeddings as input features\n",
    "y_test = df_test[\"intent_encoded\"].values  # Test encoded labels as target\n",
    "\n",
    "# Train Random Forest Classifier\n",
    "rf_classifier = RandomForestClassifier(n_estimators=100, random_state=42)\n",
    "\n",
    "start_time = time.time()\n",
    "rf_classifier.fit(X_train, y_train)\n",
    "training_time_rf = time.time() - start_time\n",
    "print(f\"Random Forest Training Time: {training_time_rf:.4f} seconds\")\n",
    "\n",
    "# Generate and print classification report\n",
    "predictions = rf_classifier.predict(X_test)\n",
    "accuracy_rf = accuracy_score(y_test, predictions)\n",
    "report_rf = classification_report(y_test, predictions)\n",
    "\n",
    "print(f\"Accuracy: {accuracy_rf:.4f}\")\n",
    "print(report_rf)"
   ]
  },
  {
   "cell_type": "code",
   "execution_count": 49,
   "id": "266ce414-9083-4bab-9c83-ad5d3ffae6a3",
   "metadata": {
    "ExecuteTime": {
     "end_time": "2024-09-29T15:43:13.900191Z",
     "start_time": "2024-09-29T15:43:13.893179Z"
    }
   },
   "outputs": [
    {
     "name": "stdout",
     "output_type": "stream",
     "text": [
      "Calculation Time: 0.0071 seconds\n",
      "Centroid for class Appointment Scheduling: [ 0.08091302 -0.0897229   0.0597735  ...  0.00339114 -0.04221661\n",
      "  0.01645095]\n",
      "Centroid for class Follow-up Calls and Care Management: [ 0.07451529 -0.09826229  0.05665784 ...  0.00329962 -0.04099188\n",
      "  0.02455969]\n",
      "Centroid for class General Inquiries: [ 0.07573985 -0.1060135   0.06030959 ...  0.00093039 -0.044138\n",
      "  0.01660968]\n",
      "Centroid for class Healthcare Facility Information: [ 0.07756073 -0.10908727  0.06364554 ...  0.00105554 -0.04256379\n",
      "  0.01733332]\n",
      "Centroid for class Insurance and Billing Inquiries: [ 0.05442752 -0.07840868  0.04337815 ...  0.00150609 -0.03991\n",
      "  0.01700821]\n",
      "Centroid for class Lab and Test Results: [ 0.07109037 -0.09536551  0.05230327 ... -0.00237909 -0.03228262\n",
      "  0.02307442]\n",
      "Centroid for class Medical Advice or Symptom Assessment: [ 0.06966466 -0.10119448  0.04744136 ...  0.00879593 -0.04425689\n",
      "  0.00546707]\n",
      "Centroid for class Medical Records Requests: [ 0.07974981 -0.11109322  0.06400333 ... -0.01071044 -0.05166619\n",
      "  0.02616202]\n",
      "Centroid for class Medication Refills and Prescription Inquiries: [ 0.06128872 -0.06424091  0.04869936 ... -0.00031408 -0.0467757\n",
      "  0.01782711]\n",
      "Centroid for class Referrals and Specialist Appointments: [ 0.07309479 -0.09591872  0.05198837 ...  0.00140708 -0.03925427\n",
      "  0.01972917]\n"
     ]
    },
    {
     "name": "stderr",
     "output_type": "stream",
     "text": [
      "/var/folders/y8/_pw0hcc137n3wqx4y4cz33100000gq/T/ipykernel_24504/4022202418.py:7: FutureWarning: The default of observed=False is deprecated and will be changed to True in a future version of pandas. Pass observed=False to retain current behavior or observed=True to adopt the future default and silence this warning.\n",
      "  for class_name, group in df.groupby('intent'):\n"
     ]
    }
   ],
   "source": [
    "def calculate_centroids(df):\n",
    "    \"\"\"\n",
    "    Calculates the centroid (mean embedding) for each class in the DataFrame.\n",
    "    Returns a dictionary mapping class names to their centroid embeddings.\n",
    "    \"\"\"\n",
    "    centroids = {}\n",
    "    for class_name, group in df.groupby('intent'):\n",
    "        embeddings = np.stack(group['embeddings'].values)\n",
    "        centroid = np.mean(embeddings, axis=0)\n",
    "        centroids[class_name] = centroid\n",
    "    return centroids\n",
    "\n",
    "\n",
    "# Calculate centroids from the training data\n",
    "start_time = time.time()\n",
    "centroids = calculate_centroids(df_train)\n",
    "centroid_calculation_time = time.time() - start_time\n",
    "print(f\"Calculation Time: {centroid_calculation_time:.4f} seconds\")\n",
    "\n",
    "# Print centroids for each category\n",
    "for class_name, centroid in centroids.items():\n",
    "    print(f\"Centroid for class {class_name}: {centroid}\")"
   ]
  },
  {
   "cell_type": "code",
   "execution_count": 50,
   "id": "5fc2e4ea-0b94-4e06-a27d-4401d2aa956d",
   "metadata": {
    "ExecuteTime": {
     "end_time": "2024-09-29T15:43:17.332709Z",
     "start_time": "2024-09-29T15:43:17.300592Z"
    }
   },
   "outputs": [
    {
     "name": "stdout",
     "output_type": "stream",
     "text": [
      "Centroid-Based Classifier:\n",
      "Prediction Time: 0.0540 seconds\n",
      "Accuracy: 0.8473\n",
      "Classification Report:\n",
      "                                               precision    recall  f1-score   support\n",
      "\n",
      "                       Appointment Scheduling       0.73      0.85      0.79        13\n",
      "          Follow-up Calls and Care Management       0.91      0.77      0.83        13\n",
      "                            General Inquiries       0.50      0.38      0.43        13\n",
      "              Healthcare Facility Information       0.65      0.85      0.73        13\n",
      "              Insurance and Billing Inquiries       1.00      1.00      1.00        13\n",
      "                         Lab and Test Results       1.00      1.00      1.00        13\n",
      "         Medical Advice or Symptom Assessment       0.87      0.93      0.90        14\n",
      "                     Medical Records Requests       1.00      1.00      1.00        13\n",
      "Medication Refills and Prescription Inquiries       1.00      1.00      1.00        13\n",
      "        Referrals and Specialist Appointments       0.82      0.69      0.75        13\n",
      "\n",
      "                                     accuracy                           0.85       131\n",
      "                                    macro avg       0.85      0.85      0.84       131\n",
      "                                 weighted avg       0.85      0.85      0.84       131\n",
      "\n"
     ]
    }
   ],
   "source": [
    "from sklearn.metrics.pairwise import cosine_similarity\n",
    "\n",
    "def predict_centroid(X_test, centroids):\n",
    "    \"\"\"\n",
    "    Predicts classes for test samples using centroid-based classification.\n",
    "\n",
    "    Args:\n",
    "        X_test (np.array): Test embeddings.\n",
    "        centroids (dict): Class centroids.\n",
    "\n",
    "    Returns:\n",
    "        np.array: Predicted class indices.\n",
    "    \"\"\"\n",
    "    centroid_matrix = np.vstack(list(centroids.values()))\n",
    "    predictions = []\n",
    "\n",
    "    for embedding in X_test:\n",
    "        embedding = embedding.reshape(1, -1)\n",
    "        similarities = cosine_similarity(embedding, centroid_matrix)[0]\n",
    "        best_index = np.argmax(similarities)\n",
    "        predictions.append(best_index)\n",
    "\n",
    "    return np.array(predictions)\n",
    "\n",
    "\n",
    "start_time = time.time()\n",
    "y_pred_centroid_indices = predict_centroid(X_test, centroids)\n",
    "prediction_time_centroid = time.time() - start_time\n",
    "\n",
    "class_names_list = list(centroids.keys())\n",
    "predicted_class_names = [class_names_list[idx] for idx in y_pred_centroid_indices]\n",
    "predicted_encoded_labels = [df_test['intent'].cat.categories.get_loc(name) for name in predicted_class_names]\n",
    "\n",
    "# Compute evaluation metrics\n",
    "accuracy_centroid = accuracy_score(y_test, predicted_encoded_labels)\n",
    "report_centroid = classification_report(y_test, predicted_encoded_labels, target_names=df_test['intent'].cat.categories)\n",
    "\n",
    "print(\"Centroid-Based Classifier:\")\n",
    "print(f\"Prediction Time: {prediction_time_centroid:.4f} seconds\")\n",
    "print(f\"Accuracy: {accuracy_centroid:.4f}\")\n",
    "print(\"Classification Report:\")\n",
    "print(report_centroid)"
   ]
  },
  {
   "cell_type": "code",
   "execution_count": 51,
   "id": "77cd83cc-c968-4685-942c-c9c072a8e8be",
   "metadata": {
    "ExecuteTime": {
     "end_time": "2024-09-29T15:43:20.036757Z",
     "start_time": "2024-09-29T15:43:20.030493Z"
    }
   },
   "outputs": [],
   "source": [
    "test_data = validation_df[['cleaned_text', 'intent_encoded', 'intent']].to_dict(orient='records')\n",
    "\n",
    "class_name_mapping = df_train['intent'].cat.categories\n",
    "\n",
    "\n",
    "def predict_class_name_centroid(text, centroids, model):\n",
    "    \"\"\" Classifies a sentence based on the closest centroid.\"\"\"\n",
    "    embedding = embed_text(text, model)\n",
    "\n",
    "    # Stack centroids into a matrix\n",
    "    centroid_matrix = np.vstack(list(centroids.values()))\n",
    "    class_names = list(centroids.keys())\n",
    "\n",
    "    # Calculate cosine similarity between the embedding and all centroids\n",
    "    embedding = embedding.reshape(1, -1)  # Reshape embedding to (1, embedding_dim) for matrix multiplication\n",
    "    similarities = cosine_similarity(embedding, centroid_matrix)[0]  # Get similarities for all centroids\n",
    "\n",
    "    # Find the index of the centroid with the highest similarity\n",
    "    best_index = np.argmax(similarities)\n",
    "\n",
    "    # Get the predicted class name\n",
    "    predicted_class = class_names[best_index]\n",
    "    return predicted_class\n",
    "    \n",
    "def predict_class_name_nn(text, model, classifier):\n",
    "    embedding = embed_text(text, model)\n",
    "    predicted_output = classifier.predict(embedding.reshape(1, -1))\n",
    "    predicted_class = np.argmax(predicted_output, axis=1)\n",
    "    predicted_class_name = class_name_mapping[predicted_class[0]]\n",
    "    return predicted_class_name\n",
    "\n",
    "\n",
    "def predict_class_name_rf(text, model, classifier):\n",
    "    embedding = embed_text(text, model)\n",
    "    predicted_class = classifier.predict(embedding.reshape(1, -1))\n",
    "    predicted_class_name = class_name_mapping[predicted_class[0]]\n",
    "    return predicted_class_name\n"
   ]
  },
  {
   "cell_type": "code",
   "execution_count": 52,
   "id": "eb9f5994c120e928",
   "metadata": {
    "ExecuteTime": {
     "end_time": "2024-09-29T15:52:09.456717Z",
     "start_time": "2024-09-29T15:43:21.074246Z"
    }
   },
   "outputs": [
    {
     "name": "stdout",
     "output_type": "stream",
     "text": [
      "\u001b[1m1/1\u001b[0m \u001b[32m━━━━━━━━━━━━━━━━━━━━\u001b[0m\u001b[37m\u001b[0m \u001b[1m0s\u001b[0m 32ms/step\n",
      "\u001b[1m1/1\u001b[0m \u001b[32m━━━━━━━━━━━━━━━━━━━━\u001b[0m\u001b[37m\u001b[0m \u001b[1m0s\u001b[0m 30ms/step\n",
      "\u001b[1m1/1\u001b[0m \u001b[32m━━━━━━━━━━━━━━━━━━━━\u001b[0m\u001b[37m\u001b[0m \u001b[1m0s\u001b[0m 31ms/step\n",
      "\u001b[1m1/1\u001b[0m \u001b[32m━━━━━━━━━━━━━━━━━━━━\u001b[0m\u001b[37m\u001b[0m \u001b[1m0s\u001b[0m 30ms/step\n",
      "\u001b[1m1/1\u001b[0m \u001b[32m━━━━━━━━━━━━━━━━━━━━\u001b[0m\u001b[37m\u001b[0m \u001b[1m0s\u001b[0m 32ms/step\n",
      "\u001b[1m1/1\u001b[0m \u001b[32m━━━━━━━━━━━━━━━━━━━━\u001b[0m\u001b[37m\u001b[0m \u001b[1m0s\u001b[0m 31ms/step\n",
      "\u001b[1m1/1\u001b[0m \u001b[32m━━━━━━━━━━━━━━━━━━━━\u001b[0m\u001b[37m\u001b[0m \u001b[1m0s\u001b[0m 31ms/step\n",
      "\u001b[1m1/1\u001b[0m \u001b[32m━━━━━━━━━━━━━━━━━━━━\u001b[0m\u001b[37m\u001b[0m \u001b[1m0s\u001b[0m 34ms/step\n",
      "\u001b[1m1/1\u001b[0m \u001b[32m━━━━━━━━━━━━━━━━━━━━\u001b[0m\u001b[37m\u001b[0m \u001b[1m0s\u001b[0m 30ms/step\n",
      "\u001b[1m1/1\u001b[0m \u001b[32m━━━━━━━━━━━━━━━━━━━━\u001b[0m\u001b[37m\u001b[0m \u001b[1m0s\u001b[0m 37ms/step\n",
      "\u001b[1m1/1\u001b[0m \u001b[32m━━━━━━━━━━━━━━━━━━━━\u001b[0m\u001b[37m\u001b[0m \u001b[1m0s\u001b[0m 33ms/step\n",
      "\u001b[1m1/1\u001b[0m \u001b[32m━━━━━━━━━━━━━━━━━━━━\u001b[0m\u001b[37m\u001b[0m \u001b[1m0s\u001b[0m 34ms/step\n",
      "\u001b[1m1/1\u001b[0m \u001b[32m━━━━━━━━━━━━━━━━━━━━\u001b[0m\u001b[37m\u001b[0m \u001b[1m0s\u001b[0m 32ms/step\n",
      "\u001b[1m1/1\u001b[0m \u001b[32m━━━━━━━━━━━━━━━━━━━━\u001b[0m\u001b[37m\u001b[0m \u001b[1m0s\u001b[0m 32ms/step\n",
      "\u001b[1m1/1\u001b[0m \u001b[32m━━━━━━━━━━━━━━━━━━━━\u001b[0m\u001b[37m\u001b[0m \u001b[1m0s\u001b[0m 31ms/step\n",
      "\u001b[1m1/1\u001b[0m \u001b[32m━━━━━━━━━━━━━━━━━━━━\u001b[0m\u001b[37m\u001b[0m \u001b[1m0s\u001b[0m 60ms/step\n",
      "\u001b[1m1/1\u001b[0m \u001b[32m━━━━━━━━━━━━━━━━━━━━\u001b[0m\u001b[37m\u001b[0m \u001b[1m0s\u001b[0m 31ms/step\n",
      "\u001b[1m1/1\u001b[0m \u001b[32m━━━━━━━━━━━━━━━━━━━━\u001b[0m\u001b[37m\u001b[0m \u001b[1m0s\u001b[0m 30ms/step\n",
      "\u001b[1m1/1\u001b[0m \u001b[32m━━━━━━━━━━━━━━━━━━━━\u001b[0m\u001b[37m\u001b[0m \u001b[1m0s\u001b[0m 31ms/step\n",
      "\u001b[1m1/1\u001b[0m \u001b[32m━━━━━━━━━━━━━━━━━━━━\u001b[0m\u001b[37m\u001b[0m \u001b[1m0s\u001b[0m 33ms/step\n",
      "\u001b[1m1/1\u001b[0m \u001b[32m━━━━━━━━━━━━━━━━━━━━\u001b[0m\u001b[37m\u001b[0m \u001b[1m0s\u001b[0m 34ms/step\n",
      "\u001b[1m1/1\u001b[0m \u001b[32m━━━━━━━━━━━━━━━━━━━━\u001b[0m\u001b[37m\u001b[0m \u001b[1m0s\u001b[0m 32ms/step\n",
      "\u001b[1m1/1\u001b[0m \u001b[32m━━━━━━━━━━━━━━━━━━━━\u001b[0m\u001b[37m\u001b[0m \u001b[1m0s\u001b[0m 45ms/step\n",
      "\u001b[1m1/1\u001b[0m \u001b[32m━━━━━━━━━━━━━━━━━━━━\u001b[0m\u001b[37m\u001b[0m \u001b[1m0s\u001b[0m 32ms/step\n",
      "\u001b[1m1/1\u001b[0m \u001b[32m━━━━━━━━━━━━━━━━━━━━\u001b[0m\u001b[37m\u001b[0m \u001b[1m0s\u001b[0m 33ms/step\n",
      "\u001b[1m1/1\u001b[0m \u001b[32m━━━━━━━━━━━━━━━━━━━━\u001b[0m\u001b[37m\u001b[0m \u001b[1m0s\u001b[0m 33ms/step\n",
      "\u001b[1m1/1\u001b[0m \u001b[32m━━━━━━━━━━━━━━━━━━━━\u001b[0m\u001b[37m\u001b[0m \u001b[1m0s\u001b[0m 33ms/step\n",
      "\u001b[1m1/1\u001b[0m \u001b[32m━━━━━━━━━━━━━━━━━━━━\u001b[0m\u001b[37m\u001b[0m \u001b[1m0s\u001b[0m 32ms/step\n",
      "\u001b[1m1/1\u001b[0m \u001b[32m━━━━━━━━━━━━━━━━━━━━\u001b[0m\u001b[37m\u001b[0m \u001b[1m0s\u001b[0m 32ms/step\n",
      "\u001b[1m1/1\u001b[0m \u001b[32m━━━━━━━━━━━━━━━━━━━━\u001b[0m\u001b[37m\u001b[0m \u001b[1m0s\u001b[0m 34ms/step\n",
      "\u001b[1m1/1\u001b[0m \u001b[32m━━━━━━━━━━━━━━━━━━━━\u001b[0m\u001b[37m\u001b[0m \u001b[1m0s\u001b[0m 31ms/step\n",
      "\u001b[1m1/1\u001b[0m \u001b[32m━━━━━━━━━━━━━━━━━━━━\u001b[0m\u001b[37m\u001b[0m \u001b[1m0s\u001b[0m 31ms/step\n",
      "\u001b[1m1/1\u001b[0m \u001b[32m━━━━━━━━━━━━━━━━━━━━\u001b[0m\u001b[37m\u001b[0m \u001b[1m0s\u001b[0m 32ms/step\n",
      "\u001b[1m1/1\u001b[0m \u001b[32m━━━━━━━━━━━━━━━━━━━━\u001b[0m\u001b[37m\u001b[0m \u001b[1m0s\u001b[0m 31ms/step\n",
      "\u001b[1m1/1\u001b[0m \u001b[32m━━━━━━━━━━━━━━━━━━━━\u001b[0m\u001b[37m\u001b[0m \u001b[1m0s\u001b[0m 31ms/step\n",
      "\u001b[1m1/1\u001b[0m \u001b[32m━━━━━━━━━━━━━━━━━━━━\u001b[0m\u001b[37m\u001b[0m \u001b[1m0s\u001b[0m 31ms/step\n",
      "\u001b[1m1/1\u001b[0m \u001b[32m━━━━━━━━━━━━━━━━━━━━\u001b[0m\u001b[37m\u001b[0m \u001b[1m0s\u001b[0m 38ms/step\n",
      "\u001b[1m1/1\u001b[0m \u001b[32m━━━━━━━━━━━━━━━━━━━━\u001b[0m\u001b[37m\u001b[0m \u001b[1m0s\u001b[0m 31ms/step\n",
      "\u001b[1m1/1\u001b[0m \u001b[32m━━━━━━━━━━━━━━━━━━━━\u001b[0m\u001b[37m\u001b[0m \u001b[1m0s\u001b[0m 35ms/step\n",
      "\u001b[1m1/1\u001b[0m \u001b[32m━━━━━━━━━━━━━━━━━━━━\u001b[0m\u001b[37m\u001b[0m \u001b[1m0s\u001b[0m 33ms/step\n",
      "\u001b[1m1/1\u001b[0m \u001b[32m━━━━━━━━━━━━━━━━━━━━\u001b[0m\u001b[37m\u001b[0m \u001b[1m0s\u001b[0m 34ms/step\n",
      "\u001b[1m1/1\u001b[0m \u001b[32m━━━━━━━━━━━━━━━━━━━━\u001b[0m\u001b[37m\u001b[0m \u001b[1m0s\u001b[0m 34ms/step\n",
      "\u001b[1m1/1\u001b[0m \u001b[32m━━━━━━━━━━━━━━━━━━━━\u001b[0m\u001b[37m\u001b[0m \u001b[1m0s\u001b[0m 33ms/step\n",
      "\u001b[1m1/1\u001b[0m \u001b[32m━━━━━━━━━━━━━━━━━━━━\u001b[0m\u001b[37m\u001b[0m \u001b[1m0s\u001b[0m 33ms/step\n",
      "\u001b[1m1/1\u001b[0m \u001b[32m━━━━━━━━━━━━━━━━━━━━\u001b[0m\u001b[37m\u001b[0m \u001b[1m0s\u001b[0m 32ms/step\n",
      "\u001b[1m1/1\u001b[0m \u001b[32m━━━━━━━━━━━━━━━━━━━━\u001b[0m\u001b[37m\u001b[0m \u001b[1m0s\u001b[0m 32ms/step\n",
      "\u001b[1m1/1\u001b[0m \u001b[32m━━━━━━━━━━━━━━━━━━━━\u001b[0m\u001b[37m\u001b[0m \u001b[1m0s\u001b[0m 33ms/step\n",
      "\u001b[1m1/1\u001b[0m \u001b[32m━━━━━━━━━━━━━━━━━━━━\u001b[0m\u001b[37m\u001b[0m \u001b[1m0s\u001b[0m 33ms/step\n",
      "\u001b[1m1/1\u001b[0m \u001b[32m━━━━━━━━━━━━━━━━━━━━\u001b[0m\u001b[37m\u001b[0m \u001b[1m0s\u001b[0m 37ms/step\n",
      "\u001b[1m1/1\u001b[0m \u001b[32m━━━━━━━━━━━━━━━━━━━━\u001b[0m\u001b[37m\u001b[0m \u001b[1m0s\u001b[0m 32ms/step\n",
      "\u001b[1m1/1\u001b[0m \u001b[32m━━━━━━━━━━━━━━━━━━━━\u001b[0m\u001b[37m\u001b[0m \u001b[1m0s\u001b[0m 34ms/step\n",
      "\u001b[1m1/1\u001b[0m \u001b[32m━━━━━━━━━━━━━━━━━━━━\u001b[0m\u001b[37m\u001b[0m \u001b[1m0s\u001b[0m 32ms/step\n",
      "\u001b[1m1/1\u001b[0m \u001b[32m━━━━━━━━━━━━━━━━━━━━\u001b[0m\u001b[37m\u001b[0m \u001b[1m0s\u001b[0m 34ms/step\n",
      "\u001b[1m1/1\u001b[0m \u001b[32m━━━━━━━━━━━━━━━━━━━━\u001b[0m\u001b[37m\u001b[0m \u001b[1m0s\u001b[0m 31ms/step\n",
      "\u001b[1m1/1\u001b[0m \u001b[32m━━━━━━━━━━━━━━━━━━━━\u001b[0m\u001b[37m\u001b[0m \u001b[1m0s\u001b[0m 33ms/step\n",
      "\u001b[1m1/1\u001b[0m \u001b[32m━━━━━━━━━━━━━━━━━━━━\u001b[0m\u001b[37m\u001b[0m \u001b[1m0s\u001b[0m 32ms/step\n",
      "\u001b[1m1/1\u001b[0m \u001b[32m━━━━━━━━━━━━━━━━━━━━\u001b[0m\u001b[37m\u001b[0m \u001b[1m0s\u001b[0m 31ms/step\n",
      "\u001b[1m1/1\u001b[0m \u001b[32m━━━━━━━━━━━━━━━━━━━━\u001b[0m\u001b[37m\u001b[0m \u001b[1m0s\u001b[0m 31ms/step\n",
      "\u001b[1m1/1\u001b[0m \u001b[32m━━━━━━━━━━━━━━━━━━━━\u001b[0m\u001b[37m\u001b[0m \u001b[1m0s\u001b[0m 31ms/step\n",
      "\u001b[1m1/1\u001b[0m \u001b[32m━━━━━━━━━━━━━━━━━━━━\u001b[0m\u001b[37m\u001b[0m \u001b[1m0s\u001b[0m 32ms/step\n",
      "\u001b[1m1/1\u001b[0m \u001b[32m━━━━━━━━━━━━━━━━━━━━\u001b[0m\u001b[37m\u001b[0m \u001b[1m0s\u001b[0m 35ms/step\n",
      "\u001b[1m1/1\u001b[0m \u001b[32m━━━━━━━━━━━━━━━━━━━━\u001b[0m\u001b[37m\u001b[0m \u001b[1m0s\u001b[0m 32ms/step\n",
      "\u001b[1m1/1\u001b[0m \u001b[32m━━━━━━━━━━━━━━━━━━━━\u001b[0m\u001b[37m\u001b[0m \u001b[1m0s\u001b[0m 31ms/step\n",
      "\u001b[1m1/1\u001b[0m \u001b[32m━━━━━━━━━━━━━━━━━━━━\u001b[0m\u001b[37m\u001b[0m \u001b[1m0s\u001b[0m 31ms/step\n",
      "\u001b[1m1/1\u001b[0m \u001b[32m━━━━━━━━━━━━━━━━━━━━\u001b[0m\u001b[37m\u001b[0m \u001b[1m0s\u001b[0m 31ms/step\n",
      "\u001b[1m1/1\u001b[0m \u001b[32m━━━━━━━━━━━━━━━━━━━━\u001b[0m\u001b[37m\u001b[0m \u001b[1m0s\u001b[0m 31ms/step\n",
      "\u001b[1m1/1\u001b[0m \u001b[32m━━━━━━━━━━━━━━━━━━━━\u001b[0m\u001b[37m\u001b[0m \u001b[1m0s\u001b[0m 30ms/step\n",
      "\u001b[1m1/1\u001b[0m \u001b[32m━━━━━━━━━━━━━━━━━━━━\u001b[0m\u001b[37m\u001b[0m \u001b[1m0s\u001b[0m 36ms/step\n",
      "\u001b[1m1/1\u001b[0m \u001b[32m━━━━━━━━━━━━━━━━━━━━\u001b[0m\u001b[37m\u001b[0m \u001b[1m0s\u001b[0m 31ms/step\n",
      "\u001b[1m1/1\u001b[0m \u001b[32m━━━━━━━━━━━━━━━━━━━━\u001b[0m\u001b[37m\u001b[0m \u001b[1m0s\u001b[0m 41ms/step\n",
      "\u001b[1m1/1\u001b[0m \u001b[32m━━━━━━━━━━━━━━━━━━━━\u001b[0m\u001b[37m\u001b[0m \u001b[1m0s\u001b[0m 31ms/step\n",
      "\u001b[1m1/1\u001b[0m \u001b[32m━━━━━━━━━━━━━━━━━━━━\u001b[0m\u001b[37m\u001b[0m \u001b[1m0s\u001b[0m 32ms/step\n",
      "\u001b[1m1/1\u001b[0m \u001b[32m━━━━━━━━━━━━━━━━━━━━\u001b[0m\u001b[37m\u001b[0m \u001b[1m0s\u001b[0m 33ms/step\n",
      "\u001b[1m1/1\u001b[0m \u001b[32m━━━━━━━━━━━━━━━━━━━━\u001b[0m\u001b[37m\u001b[0m \u001b[1m0s\u001b[0m 33ms/step\n",
      "\u001b[1m1/1\u001b[0m \u001b[32m━━━━━━━━━━━━━━━━━━━━\u001b[0m\u001b[37m\u001b[0m \u001b[1m0s\u001b[0m 34ms/step\n",
      "\u001b[1m1/1\u001b[0m \u001b[32m━━━━━━━━━━━━━━━━━━━━\u001b[0m\u001b[37m\u001b[0m \u001b[1m0s\u001b[0m 32ms/step\n",
      "\u001b[1m1/1\u001b[0m \u001b[32m━━━━━━━━━━━━━━━━━━━━\u001b[0m\u001b[37m\u001b[0m \u001b[1m0s\u001b[0m 32ms/step\n",
      "\u001b[1m1/1\u001b[0m \u001b[32m━━━━━━━━━━━━━━━━━━━━\u001b[0m\u001b[37m\u001b[0m \u001b[1m0s\u001b[0m 36ms/step\n",
      "\u001b[1m1/1\u001b[0m \u001b[32m━━━━━━━━━━━━━━━━━━━━\u001b[0m\u001b[37m\u001b[0m \u001b[1m0s\u001b[0m 39ms/step\n",
      "\u001b[1m1/1\u001b[0m \u001b[32m━━━━━━━━━━━━━━━━━━━━\u001b[0m\u001b[37m\u001b[0m \u001b[1m0s\u001b[0m 33ms/step\n",
      "\u001b[1m1/1\u001b[0m \u001b[32m━━━━━━━━━━━━━━━━━━━━\u001b[0m\u001b[37m\u001b[0m \u001b[1m0s\u001b[0m 30ms/step\n",
      "\u001b[1m1/1\u001b[0m \u001b[32m━━━━━━━━━━━━━━━━━━━━\u001b[0m\u001b[37m\u001b[0m \u001b[1m0s\u001b[0m 33ms/step\n",
      "\u001b[1m1/1\u001b[0m \u001b[32m━━━━━━━━━━━━━━━━━━━━\u001b[0m\u001b[37m\u001b[0m \u001b[1m0s\u001b[0m 32ms/step\n",
      "\u001b[1m1/1\u001b[0m \u001b[32m━━━━━━━━━━━━━━━━━━━━\u001b[0m\u001b[37m\u001b[0m \u001b[1m0s\u001b[0m 32ms/step\n",
      "\u001b[1m1/1\u001b[0m \u001b[32m━━━━━━━━━━━━━━━━━━━━\u001b[0m\u001b[37m\u001b[0m \u001b[1m0s\u001b[0m 33ms/step\n",
      "\u001b[1m1/1\u001b[0m \u001b[32m━━━━━━━━━━━━━━━━━━━━\u001b[0m\u001b[37m\u001b[0m \u001b[1m0s\u001b[0m 33ms/step\n",
      "\u001b[1m1/1\u001b[0m \u001b[32m━━━━━━━━━━━━━━━━━━━━\u001b[0m\u001b[37m\u001b[0m \u001b[1m0s\u001b[0m 32ms/step\n",
      "\u001b[1m1/1\u001b[0m \u001b[32m━━━━━━━━━━━━━━━━━━━━\u001b[0m\u001b[37m\u001b[0m \u001b[1m0s\u001b[0m 31ms/step\n",
      "\u001b[1m1/1\u001b[0m \u001b[32m━━━━━━━━━━━━━━━━━━━━\u001b[0m\u001b[37m\u001b[0m \u001b[1m0s\u001b[0m 38ms/step\n",
      "\u001b[1m1/1\u001b[0m \u001b[32m━━━━━━━━━━━━━━━━━━━━\u001b[0m\u001b[37m\u001b[0m \u001b[1m0s\u001b[0m 31ms/step\n",
      "\u001b[1m1/1\u001b[0m \u001b[32m━━━━━━━━━━━━━━━━━━━━\u001b[0m\u001b[37m\u001b[0m \u001b[1m0s\u001b[0m 31ms/step\n",
      "\u001b[1m1/1\u001b[0m \u001b[32m━━━━━━━━━━━━━━━━━━━━\u001b[0m\u001b[37m\u001b[0m \u001b[1m0s\u001b[0m 32ms/step\n",
      "\u001b[1m1/1\u001b[0m \u001b[32m━━━━━━━━━━━━━━━━━━━━\u001b[0m\u001b[37m\u001b[0m \u001b[1m0s\u001b[0m 32ms/step\n",
      "\u001b[1m1/1\u001b[0m \u001b[32m━━━━━━━━━━━━━━━━━━━━\u001b[0m\u001b[37m\u001b[0m \u001b[1m0s\u001b[0m 32ms/step\n",
      "\u001b[1m1/1\u001b[0m \u001b[32m━━━━━━━━━━━━━━━━━━━━\u001b[0m\u001b[37m\u001b[0m \u001b[1m0s\u001b[0m 32ms/step\n",
      "\u001b[1m1/1\u001b[0m \u001b[32m━━━━━━━━━━━━━━━━━━━━\u001b[0m\u001b[37m\u001b[0m \u001b[1m0s\u001b[0m 33ms/step\n",
      "\u001b[1m1/1\u001b[0m \u001b[32m━━━━━━━━━━━━━━━━━━━━\u001b[0m\u001b[37m\u001b[0m \u001b[1m0s\u001b[0m 32ms/step\n",
      "\u001b[1m1/1\u001b[0m \u001b[32m━━━━━━━━━━━━━━━━━━━━\u001b[0m\u001b[37m\u001b[0m \u001b[1m0s\u001b[0m 31ms/step\n",
      "\u001b[1m1/1\u001b[0m \u001b[32m━━━━━━━━━━━━━━━━━━━━\u001b[0m\u001b[37m\u001b[0m \u001b[1m0s\u001b[0m 31ms/step\n",
      "\u001b[1m1/1\u001b[0m \u001b[32m━━━━━━━━━━━━━━━━━━━━\u001b[0m\u001b[37m\u001b[0m \u001b[1m0s\u001b[0m 31ms/step\n",
      "\u001b[1m1/1\u001b[0m \u001b[32m━━━━━━━━━━━━━━━━━━━━\u001b[0m\u001b[37m\u001b[0m \u001b[1m0s\u001b[0m 30ms/step\n",
      "\u001b[1m1/1\u001b[0m \u001b[32m━━━━━━━━━━━━━━━━━━━━\u001b[0m\u001b[37m\u001b[0m \u001b[1m0s\u001b[0m 31ms/step\n",
      "\u001b[1m1/1\u001b[0m \u001b[32m━━━━━━━━━━━━━━━━━━━━\u001b[0m\u001b[37m\u001b[0m \u001b[1m0s\u001b[0m 32ms/step\n",
      "\u001b[1m1/1\u001b[0m \u001b[32m━━━━━━━━━━━━━━━━━━━━\u001b[0m\u001b[37m\u001b[0m \u001b[1m0s\u001b[0m 34ms/step\n",
      "\u001b[1m1/1\u001b[0m \u001b[32m━━━━━━━━━━━━━━━━━━━━\u001b[0m\u001b[37m\u001b[0m \u001b[1m0s\u001b[0m 32ms/step\n",
      "\u001b[1m1/1\u001b[0m \u001b[32m━━━━━━━━━━━━━━━━━━━━\u001b[0m\u001b[37m\u001b[0m \u001b[1m0s\u001b[0m 30ms/step\n",
      "\u001b[1m1/1\u001b[0m \u001b[32m━━━━━━━━━━━━━━━━━━━━\u001b[0m\u001b[37m\u001b[0m \u001b[1m0s\u001b[0m 39ms/step\n",
      "\u001b[1m1/1\u001b[0m \u001b[32m━━━━━━━━━━━━━━━━━━━━\u001b[0m\u001b[37m\u001b[0m \u001b[1m0s\u001b[0m 31ms/step\n",
      "\u001b[1m1/1\u001b[0m \u001b[32m━━━━━━━━━━━━━━━━━━━━\u001b[0m\u001b[37m\u001b[0m \u001b[1m0s\u001b[0m 31ms/step\n",
      "\u001b[1m1/1\u001b[0m \u001b[32m━━━━━━━━━━━━━━━━━━━━\u001b[0m\u001b[37m\u001b[0m \u001b[1m0s\u001b[0m 32ms/step\n",
      "\u001b[1m1/1\u001b[0m \u001b[32m━━━━━━━━━━━━━━━━━━━━\u001b[0m\u001b[37m\u001b[0m \u001b[1m0s\u001b[0m 32ms/step\n",
      "\u001b[1m1/1\u001b[0m \u001b[32m━━━━━━━━━━━━━━━━━━━━\u001b[0m\u001b[37m\u001b[0m \u001b[1m0s\u001b[0m 32ms/step\n",
      "\u001b[1m1/1\u001b[0m \u001b[32m━━━━━━━━━━━━━━━━━━━━\u001b[0m\u001b[37m\u001b[0m \u001b[1m0s\u001b[0m 31ms/step\n",
      "\u001b[1m1/1\u001b[0m \u001b[32m━━━━━━━━━━━━━━━━━━━━\u001b[0m\u001b[37m\u001b[0m \u001b[1m0s\u001b[0m 33ms/step\n",
      "\u001b[1m1/1\u001b[0m \u001b[32m━━━━━━━━━━━━━━━━━━━━\u001b[0m\u001b[37m\u001b[0m \u001b[1m0s\u001b[0m 34ms/step\n",
      "\u001b[1m1/1\u001b[0m \u001b[32m━━━━━━━━━━━━━━━━━━━━\u001b[0m\u001b[37m\u001b[0m \u001b[1m0s\u001b[0m 35ms/step\n",
      "\u001b[1m1/1\u001b[0m \u001b[32m━━━━━━━━━━━━━━━━━━━━\u001b[0m\u001b[37m\u001b[0m \u001b[1m0s\u001b[0m 32ms/step\n",
      "\u001b[1m1/1\u001b[0m \u001b[32m━━━━━━━━━━━━━━━━━━━━\u001b[0m\u001b[37m\u001b[0m \u001b[1m0s\u001b[0m 33ms/step\n",
      "\u001b[1m1/1\u001b[0m \u001b[32m━━━━━━━━━━━━━━━━━━━━\u001b[0m\u001b[37m\u001b[0m \u001b[1m0s\u001b[0m 33ms/step\n",
      "\u001b[1m1/1\u001b[0m \u001b[32m━━━━━━━━━━━━━━━━━━━━\u001b[0m\u001b[37m\u001b[0m \u001b[1m0s\u001b[0m 31ms/step\n",
      "\u001b[1m1/1\u001b[0m \u001b[32m━━━━━━━━━━━━━━━━━━━━\u001b[0m\u001b[37m\u001b[0m \u001b[1m0s\u001b[0m 32ms/step\n",
      "\u001b[1m1/1\u001b[0m \u001b[32m━━━━━━━━━━━━━━━━━━━━\u001b[0m\u001b[37m\u001b[0m \u001b[1m0s\u001b[0m 34ms/step\n",
      "\u001b[1m1/1\u001b[0m \u001b[32m━━━━━━━━━━━━━━━━━━━━\u001b[0m\u001b[37m\u001b[0m \u001b[1m0s\u001b[0m 31ms/step\n",
      "\u001b[1m1/1\u001b[0m \u001b[32m━━━━━━━━━━━━━━━━━━━━\u001b[0m\u001b[37m\u001b[0m \u001b[1m0s\u001b[0m 33ms/step\n",
      "\u001b[1m1/1\u001b[0m \u001b[32m━━━━━━━━━━━━━━━━━━━━\u001b[0m\u001b[37m\u001b[0m \u001b[1m0s\u001b[0m 32ms/step\n",
      "\u001b[1m1/1\u001b[0m \u001b[32m━━━━━━━━━━━━━━━━━━━━\u001b[0m\u001b[37m\u001b[0m \u001b[1m0s\u001b[0m 33ms/step\n",
      "\u001b[1m1/1\u001b[0m \u001b[32m━━━━━━━━━━━━━━━━━━━━\u001b[0m\u001b[37m\u001b[0m \u001b[1m0s\u001b[0m 32ms/step\n",
      "\u001b[1m1/1\u001b[0m \u001b[32m━━━━━━━━━━━━━━━━━━━━\u001b[0m\u001b[37m\u001b[0m \u001b[1m0s\u001b[0m 31ms/step\n",
      "\u001b[1m1/1\u001b[0m \u001b[32m━━━━━━━━━━━━━━━━━━━━\u001b[0m\u001b[37m\u001b[0m \u001b[1m0s\u001b[0m 34ms/step\n",
      "\u001b[1m1/1\u001b[0m \u001b[32m━━━━━━━━━━━━━━━━━━━━\u001b[0m\u001b[37m\u001b[0m \u001b[1m0s\u001b[0m 34ms/step\n",
      "                                                                                                    Text                                 Actual Intent                                  Predicted NN                                  Predicted RF                            Predicted Centroid Correct NN Correct RF Correct Centroid\n",
      "  Agent 1: Thank you for calling HealthHarbor. My name is Agent 1. How can I assist you today?\\n\\nCustom               Healthcare Facility Information               Healthcare Facility Information               Healthcare Facility Information               Healthcare Facility Information          ✅          ✅                ✅\n",
      "  [Phone rings]\\n\\nAgent 3: Thank you for calling HealthHarbor, my name is Agent 3. How can I assist you Medication Refills and Prescription Inquiries Medication Refills and Prescription Inquiries Medication Refills and Prescription Inquiries Medication Refills and Prescription Inquiries          ✅          ✅                ✅\n",
      "  [Phone rings]\\n\\nAgent 4: Thank you for calling HealthHarbor. My name is Agent 4. How may I assist you Medication Refills and Prescription Inquiries Medication Refills and Prescription Inquiries Medication Refills and Prescription Inquiries Medication Refills and Prescription Inquiries          ✅          ✅                ✅\n",
      "  Agent 2: Thank you for calling HealthHarbor, my name is Agent 2. How may I assist you today?\\n\\nCustom               Healthcare Facility Information               Healthcare Facility Information               Healthcare Facility Information               Healthcare Facility Information          ✅          ✅                ✅\n",
      "  Agent 2: Thank you for calling HealthHarbor, my name is Agent 2. How can I assist you today?\\n\\nCustom         Referrals and Specialist Appointments         Referrals and Specialist Appointments         Referrals and Specialist Appointments         Referrals and Specialist Appointments          ✅          ✅                ✅\n",
      "  Agent 4: Thank you for calling HealthHarbor, my name is Agent 4. How may I assist you today?\\n\\nCustom                        Appointment Scheduling         Referrals and Specialist Appointments         Referrals and Specialist Appointments         Referrals and Specialist Appointments          ❌          ❌                ❌\n",
      "  [Phone rings]\\n\\nAgent: Thank you for calling HealthHarbor, my name is Agent 2. How can I assist you t         Referrals and Specialist Appointments         Referrals and Specialist Appointments         Referrals and Specialist Appointments         Referrals and Specialist Appointments          ✅          ✅                ✅\n",
      "  Agent 2: Thank you for calling HealthHarbor, my name is Agent 2. How can I assist you today?\\n\\nCustom                      Medical Records Requests                      Medical Records Requests                      Medical Records Requests                      Medical Records Requests          ✅          ✅                ✅\n",
      "  [Phone ringing]\\n\\nAgent 3: Thank you for calling HealthHarbor, my name is Agent 3. How can I assist y Medication Refills and Prescription Inquiries Medication Refills and Prescription Inquiries Medication Refills and Prescription Inquiries Medication Refills and Prescription Inquiries          ✅          ✅                ✅\n",
      "  Agent 2: Thank you for calling HealthHarbor, my name is Agent 2. How can I assist you today?\\n\\nCustom           Follow-up Calls and Care Management                          Lab and Test Results                          Lab and Test Results                          Lab and Test Results          ❌          ❌                ❌\n",
      "  Agent 1: Thank you for calling HealthHarbor, my name is Agent 1. How may I assist you today?\\n\\nCustom         Referrals and Specialist Appointments         Referrals and Specialist Appointments         Referrals and Specialist Appointments         Referrals and Specialist Appointments          ✅          ✅                ✅\n",
      "    Agent 2: Good morning, thank you for calling HealthHarbor. My name is Agent 2. How can I assist you            Follow-up Calls and Care Management           Follow-up Calls and Care Management           Follow-up Calls and Care Management           Follow-up Calls and Care Management          ✅          ✅                ✅\n",
      "  Agent 3: Thank you for calling HealthHarbor, my name is Agent 3. How can I assist you today?\\n\\nCustom                          Lab and Test Results                          Lab and Test Results                          Lab and Test Results                          Lab and Test Results          ✅          ✅                ✅\n",
      "  Agent 2: Thank you for calling HealthHarbor, my name is Agent 2. How can I assist you today?\\n\\nCustom Medication Refills and Prescription Inquiries Medication Refills and Prescription Inquiries Medication Refills and Prescription Inquiries Medication Refills and Prescription Inquiries          ✅          ✅                ✅\n",
      "  Agent 4: Thank you for calling HealthHarbor, my name is Agent 4. How may I assist you today?\\n\\nCustom Medication Refills and Prescription Inquiries Medication Refills and Prescription Inquiries Medication Refills and Prescription Inquiries Medication Refills and Prescription Inquiries          ✅          ✅                ✅\n",
      "  Agent 1: Thank you for calling HealthHarbor, my name is Agent 1. How may I assist you today?\\n\\nCustom          Medical Advice or Symptom Assessment          Medical Advice or Symptom Assessment          Medical Advice or Symptom Assessment          Medical Advice or Symptom Assessment          ✅          ✅                ✅\n",
      "    Agent 4: Good morning, thank you for calling HealthHarbor. My name is Agent 4. How can I assist you          Referrals and Specialist Appointments          Medical Advice or Symptom Assessment         Referrals and Specialist Appointments          Medical Advice or Symptom Assessment          ❌          ✅                ❌\n",
      "  Agent 2: Thank you for calling HealthHarbor, my name is Agent 2. How may I assist you today?\\n\\nCustom               Insurance and Billing Inquiries               Insurance and Billing Inquiries               Insurance and Billing Inquiries               Insurance and Billing Inquiries          ✅          ✅                ✅\n",
      "  Agent 2: Thank you for calling HealthHarbor, my name is Agent 2. How can I assist you today?\\n\\nCustom          Medical Advice or Symptom Assessment          Medical Advice or Symptom Assessment          Medical Advice or Symptom Assessment          Medical Advice or Symptom Assessment          ✅          ✅                ✅\n",
      "  Agent 1: Thank you for calling HealthHarbor, my name is Agent 1. How can I assist you today?\\n\\nCustom                        Appointment Scheduling         Referrals and Specialist Appointments                        Appointment Scheduling                        Appointment Scheduling          ❌          ✅                ✅\n",
      "  Agent 2: Thank you for calling HealthHarbor, my name is Agent 2. How may I assist you today?\\n\\nCustom          Medical Advice or Symptom Assessment          Medical Advice or Symptom Assessment          Medical Advice or Symptom Assessment          Medical Advice or Symptom Assessment          ✅          ✅                ✅\n",
      "  Agent 4: Thank you for calling HealthHarbor. This is Agent 4. How can I assist you today?\\n\\nCustomer:               Insurance and Billing Inquiries               Insurance and Billing Inquiries               Insurance and Billing Inquiries               Insurance and Billing Inquiries          ✅          ✅                ✅\n",
      "  Agent 2: Thank you for calling HealthHarbor, my name is Agent 2. How can I assist you today?\\n\\nCustom               Insurance and Billing Inquiries               Insurance and Billing Inquiries               Insurance and Billing Inquiries               Insurance and Billing Inquiries          ✅          ✅                ✅\n",
      "  Agent 2: Thank you for calling HealthHarbor, my name is Agent 2. How can I assist you today?\\n\\nCustom         Referrals and Specialist Appointments         Referrals and Specialist Appointments                        Appointment Scheduling                        Appointment Scheduling          ✅          ❌                ❌\n",
      "    Agent 1: Good morning, thank you for calling HealthHarbor. My name is Agent 1. How may I assist you          Referrals and Specialist Appointments         Referrals and Specialist Appointments         Referrals and Specialist Appointments          Medical Advice or Symptom Assessment          ✅          ✅                ❌\n",
      "    Agent 3: Good morning, thank you for calling HealthHarbor. My name is Agent 3. How can I assist you           Medical Advice or Symptom Assessment          Medical Advice or Symptom Assessment          Medical Advice or Symptom Assessment          Medical Advice or Symptom Assessment          ✅          ✅                ✅\n",
      "  [Phone ringing]\\n\\nAgent 4: Thank you for calling HealthHarbor's call center. This is Agent 4. How can Medication Refills and Prescription Inquiries Medication Refills and Prescription Inquiries Medication Refills and Prescription Inquiries Medication Refills and Prescription Inquiries          ✅          ✅                ✅\n",
      "  Agent 3: Thank you for calling HealthHarbor, my name is Agent 3. How can I assist you today?\\n\\nCustom         Referrals and Specialist Appointments         Referrals and Specialist Appointments         Referrals and Specialist Appointments         Referrals and Specialist Appointments          ✅          ✅                ✅\n",
      "  Agent: Thank you for calling HealthHarbor, my name is Agent 1. How can I assist you today?\\n\\nCustomer                      Medical Records Requests                      Medical Records Requests                      Medical Records Requests                      Medical Records Requests          ✅          ✅                ✅\n",
      "  [Phone ringing]\\n\\nAgent 2: Thank you for calling HealthHarbor, my name is Agent 2. How may I assist y               Healthcare Facility Information               Healthcare Facility Information               Healthcare Facility Information               Healthcare Facility Information          ✅          ✅                ✅\n",
      "  Agent 1: Thank you for calling HealthHarbor, my name is Agent 1. How can I assist you today?\\n\\nCustom         Referrals and Specialist Appointments         Referrals and Specialist Appointments         Referrals and Specialist Appointments         Referrals and Specialist Appointments          ✅          ✅                ✅\n",
      "  Agent 2: Thank you for calling HealthHarbor, my name is Agent 2. How can I assist you today?\\n\\nCustom               Healthcare Facility Information                             General Inquiries                             General Inquiries                             General Inquiries          ❌          ❌                ❌\n",
      "  Agent 3: Thank you for calling HealthHarbor. This is Agent 3. How can I assist you today?\\n\\nCustomer: Medication Refills and Prescription Inquiries Medication Refills and Prescription Inquiries Medication Refills and Prescription Inquiries Medication Refills and Prescription Inquiries          ✅          ✅                ✅\n",
      "  [Phone ringing]\\n\\nAgent 2: Thank you for calling HealthHarbor, my name is Agent 2. How can I assist y                      Medical Records Requests                      Medical Records Requests                      Medical Records Requests                      Medical Records Requests          ✅          ✅                ✅\n",
      "  [Phone rings]\\n\\nAgent 2: Thank you for calling HealthHarbor. My name is Agent 2. How may I assist you          Medical Advice or Symptom Assessment          Medical Advice or Symptom Assessment          Medical Advice or Symptom Assessment          Medical Advice or Symptom Assessment          ✅          ✅                ✅\n",
      "  [Transcript]\\n\\nAgent 2: Thank you for calling HealthHarbor. This is Agent 2. How can I assist you tod                        Appointment Scheduling         Referrals and Specialist Appointments                        Appointment Scheduling                        Appointment Scheduling          ❌          ✅                ✅\n",
      "  [Phone rings]\\n\\nAgent 3: Thank you for calling HealthHarbor, my name is Agent 3. How can I assist you                             General Inquiries          Medical Advice or Symptom Assessment          Medical Advice or Symptom Assessment          Medical Advice or Symptom Assessment          ❌          ❌                ❌\n",
      "  Agent 3: Thank you for calling HealthHarbor, my name is Agent 3. How may I assist you today?\\n\\nCustom          Medical Advice or Symptom Assessment          Medical Advice or Symptom Assessment          Medical Advice or Symptom Assessment          Medical Advice or Symptom Assessment          ✅          ✅                ✅\n",
      "  Agent 1: Thank you for calling HealthHarbor, my name is Agent 1. How can I assist you today?\\n\\nCustom Medication Refills and Prescription Inquiries Medication Refills and Prescription Inquiries Medication Refills and Prescription Inquiries Medication Refills and Prescription Inquiries          ✅          ✅                ✅\n",
      "  Agent 2: Thank you for calling HealthHarbor, my name is Agent 2. How may I assist you today?\\n\\nCustom                          Lab and Test Results                          Lab and Test Results                          Lab and Test Results                          Lab and Test Results          ✅          ✅                ✅\n",
      "  Agent 3: Thank you for calling HealthHarbor, my name is Agent 3. How can I assist you today?\\n\\nCustom          Medical Advice or Symptom Assessment          Medical Advice or Symptom Assessment          Medical Advice or Symptom Assessment          Medical Advice or Symptom Assessment          ✅          ✅                ✅\n",
      "  Agent 3: Thank you for calling HealthHarbor. My name is Agent 3. How can I assist you today?\\n\\nCustom                        Appointment Scheduling         Referrals and Specialist Appointments                        Appointment Scheduling                        Appointment Scheduling          ❌          ✅                ✅\n",
      "  Agent 2: Thank you for calling HealthHarbor, my name is Agent 2. How can I assist you today?\\n\\nCustom                      Medical Records Requests                      Medical Records Requests                      Medical Records Requests                      Medical Records Requests          ✅          ✅                ✅\n",
      "  Agent 4: Thank you for calling HealthHarbor, my name is Agent 4. How can I assist you today?\\n\\nCustom                        Appointment Scheduling          Medical Advice or Symptom Assessment          Medical Advice or Symptom Assessment          Medical Advice or Symptom Assessment          ❌          ❌                ❌\n",
      "  Agent 2: Thank you for calling HealthHarbor, my name is Agent 2. How can I assist you today?\\n\\nCustom               Healthcare Facility Information               Healthcare Facility Information               Healthcare Facility Information               Healthcare Facility Information          ✅          ✅                ✅\n",
      "  Agent 1: Thank you for calling HealthHarbor, my name is Agent 1. How can I assist you today?\\n\\nCustom                             General Inquiries               Healthcare Facility Information                             General Inquiries               Healthcare Facility Information          ❌          ✅                ❌\n",
      "  Agent 1: Thank you for calling HealthHarbor, my name is Agent 1. How may I assist you today?\\n\\nCustom Medication Refills and Prescription Inquiries Medication Refills and Prescription Inquiries Medication Refills and Prescription Inquiries Medication Refills and Prescription Inquiries          ✅          ✅                ✅\n",
      "  Agent 2: Thank you for calling HealthHarbor, my name is Agent 2. How can I assist you today?\\n\\nCustom               Insurance and Billing Inquiries               Insurance and Billing Inquiries               Insurance and Billing Inquiries               Insurance and Billing Inquiries          ✅          ✅                ✅\n",
      "  Agent 4: Thank you for calling HealthHarbor. My name is Agent 4. How can I assist you today?\\n\\nCustom                          Lab and Test Results                          Lab and Test Results                          Lab and Test Results                          Lab and Test Results          ✅          ✅                ✅\n",
      "  Agent 1: Thank you for calling HealthHarbor. This is Agent 1. How can I assist you today?\\n\\nCustomer:                             General Inquiries               Healthcare Facility Information               Healthcare Facility Information               Healthcare Facility Information          ❌          ❌                ❌\n",
      "  Agent: Thank you for calling HealthHarbor, this is Agent 1. How can I assist you today?\\n\\nCustomer: H               Healthcare Facility Information          Medical Advice or Symptom Assessment         Referrals and Specialist Appointments          Medical Advice or Symptom Assessment          ❌          ❌                ❌\n",
      "  Agent 4: Thank you for calling HealthHarbor. My name is Agent 4. How may I assist you today?\\n\\nCustom                             General Inquiries               Healthcare Facility Information                             General Inquiries                             General Inquiries          ❌          ✅                ✅\n",
      "  Agent: Thank you for calling HealthHarbor, my name is Agent 2. How can I assist you today?\\n\\nCustomer                          Lab and Test Results                          Lab and Test Results                          Lab and Test Results                          Lab and Test Results          ✅          ✅                ✅\n",
      "  Agent 2: Thank you for calling HealthHarbor, my name is Agent 2. How may I assist you today?\\n\\nCustom          Medical Advice or Symptom Assessment          Medical Advice or Symptom Assessment          Medical Advice or Symptom Assessment          Medical Advice or Symptom Assessment          ✅          ✅                ✅\n",
      "  Agent 4: Thank you for calling HealthHarbor. My name is Agent 4. How can I assist you today?\\n\\nCustom               Insurance and Billing Inquiries               Insurance and Billing Inquiries               Insurance and Billing Inquiries               Insurance and Billing Inquiries          ✅          ✅                ✅\n",
      "  Agent 1: Thank you for calling HealthHarbor. My name is Agent 1. How can I assist you today?\\n\\nCustom               Healthcare Facility Information               Healthcare Facility Information               Healthcare Facility Information               Healthcare Facility Information          ✅          ✅                ✅\n",
      "  Agent 3: Thank you for calling HealthHarbor. My name is Agent 3. How can I assist you today?\\n\\nCustom               Insurance and Billing Inquiries               Insurance and Billing Inquiries               Insurance and Billing Inquiries               Insurance and Billing Inquiries          ✅          ✅                ✅\n",
      "  Agent 2: Thank you for calling HealthHarbor, my name is Agent 2. How can I assist you today?\\n\\nCustom         Referrals and Specialist Appointments         Referrals and Specialist Appointments         Referrals and Specialist Appointments         Referrals and Specialist Appointments          ✅          ✅                ✅\n",
      "  [Phone ringing]\\n\\nAgent 4: Thank you for calling HealthHarbor, my name is Agent 4. How can I assist y                             General Inquiries          Medical Advice or Symptom Assessment               Healthcare Facility Information          Medical Advice or Symptom Assessment          ❌          ❌                ❌\n",
      "  Agent 2: Thank you for calling HealthHarbor, my name is Agent 2. How can I assist you today?\\n\\nCustom               Healthcare Facility Information               Healthcare Facility Information                             General Inquiries               Healthcare Facility Information          ✅          ❌                ✅\n",
      "  Agent 4: Thank you for calling HealthHarbor, my name is Agent 4. How can I assist you today?\\n\\nCustom               Insurance and Billing Inquiries               Insurance and Billing Inquiries               Insurance and Billing Inquiries               Insurance and Billing Inquiries          ✅          ✅                ✅\n",
      "  [Transcript: Insurance and Billing Inquiries]\\n\\nAgent 2: Thank you for calling HealthHarbor. My name                Insurance and Billing Inquiries               Insurance and Billing Inquiries               Insurance and Billing Inquiries               Insurance and Billing Inquiries          ✅          ✅                ✅\n",
      "  Agent 1: Thank you for calling HealthHarbor. My name is Agent 1. How can I assist you today?\\n\\nCustom           Follow-up Calls and Care Management         Referrals and Specialist Appointments           Follow-up Calls and Care Management           Follow-up Calls and Care Management          ❌          ✅                ✅\n",
      "  Agent 3: Thank you for calling HealthHarbor. My name is Agent 3. How can I assist you today?\\n\\nCustom               Healthcare Facility Information               Healthcare Facility Information               Healthcare Facility Information               Healthcare Facility Information          ✅          ✅                ✅\n",
      "  Agent 2: Thank you for calling HealthHarbor, my name is Agent 2. How can I assist you today?\\n\\nCustom               Insurance and Billing Inquiries               Insurance and Billing Inquiries               Insurance and Billing Inquiries               Insurance and Billing Inquiries          ✅          ✅                ✅\n",
      "  Agent 1: Thank you for calling HealthHarbor, my name is Agent 1. How can I assist you today?\\n\\nCustom                          Lab and Test Results                          Lab and Test Results                          Lab and Test Results                          Lab and Test Results          ✅          ✅                ✅\n",
      "  [Agent 4]: Thank you for calling HealthHarbor, my name is Agent 4. How may I assist you today?\\n\\n[Cus                          Lab and Test Results                          Lab and Test Results                          Lab and Test Results                          Lab and Test Results          ✅          ✅                ✅\n",
      "  [Phone ringing]\\n\\nAgent 1: Thank you for calling HealthHarbor, my name is Agent 1. How can I assist y           Follow-up Calls and Care Management               Insurance and Billing Inquiries               Insurance and Billing Inquiries           Follow-up Calls and Care Management          ❌          ❌                ✅\n",
      "  Agent 2: Thank you for calling HealthHarbor, my name is Agent 2. How can I assist you today?\\n\\nCustom                          Lab and Test Results         Referrals and Specialist Appointments                        Appointment Scheduling                             General Inquiries          ❌          ❌                ❌\n",
      "  Agent 3: Thank you for calling HealthHarbor. My name is Agent 3. How can I assist you today?\\n\\nCustom Medication Refills and Prescription Inquiries Medication Refills and Prescription Inquiries Medication Refills and Prescription Inquiries Medication Refills and Prescription Inquiries          ✅          ✅                ✅\n",
      "  Agent 3: Thank you for calling HealthHarbor. My name is Agent 3. How can I assist you today?\\n\\nCustom                        Appointment Scheduling         Referrals and Specialist Appointments                        Appointment Scheduling                        Appointment Scheduling          ❌          ✅                ✅\n",
      "  [Phone ringing]\\n\\nAgent 3: Thank you for calling HealthHarbor. My name is Agent 3. How can I assist y                      Medical Records Requests                      Medical Records Requests                      Medical Records Requests                      Medical Records Requests          ✅          ✅                ✅\n",
      "  Agent 1: Thank you for calling HealthHarbor. My name is Agent 1. How can I assist you today?\\n\\nCustom                      Medical Records Requests                      Medical Records Requests                      Medical Records Requests                      Medical Records Requests          ✅          ✅                ✅\n",
      "  Agent 2: Thank you for calling HealthHarbor, my name is Agent 2. How can I assist you today?\\n\\nCustom           Follow-up Calls and Care Management           Follow-up Calls and Care Management           Follow-up Calls and Care Management           Follow-up Calls and Care Management          ✅          ✅                ✅\n",
      "  Agent 1: Thank you for calling HealthHarbor. My name is Agent 1. How may I assist you today?\\n\\nCustom           Follow-up Calls and Care Management                          Lab and Test Results           Follow-up Calls and Care Management                          Lab and Test Results          ❌          ✅                ❌\n",
      "  [Phone rings]\\n\\nAgent 2: Thank you for calling HealthHarbor, my name is Agent 2. How can I assist you                          Lab and Test Results                          Lab and Test Results                          Lab and Test Results                          Lab and Test Results          ✅          ✅                ✅\n",
      "  Agent 3: Thank you for calling HealthHarbor, my name is Agent 3. How can I assist you today?\\n\\nCustom                          Lab and Test Results                          Lab and Test Results                          Lab and Test Results                          Lab and Test Results          ✅          ✅                ✅\n",
      "    Agent 1: Good morning, thank you for calling HealthHarbor. My name is Agent 1. How can I assist you          Referrals and Specialist Appointments         Referrals and Specialist Appointments         Referrals and Specialist Appointments         Referrals and Specialist Appointments          ✅          ✅                ✅\n",
      "  Agent 2: Thank you for calling HealthHarbor, my name is Agent 2. How can I assist you today?\\n\\nCustom               Healthcare Facility Information               Healthcare Facility Information               Healthcare Facility Information                             General Inquiries          ✅          ✅                ❌\n",
      "  Agent 4: Thank you for calling HealthHarbor. My name is Agent 4. How may I assist you today?\\n\\nCustom               Insurance and Billing Inquiries               Insurance and Billing Inquiries               Insurance and Billing Inquiries               Insurance and Billing Inquiries          ✅          ✅                ✅\n",
      "  Agent 1: Thank you for calling HealthHarbor, my name is Agent 1. How can I assist you today?\\n\\nCustom                      Medical Records Requests                      Medical Records Requests                      Medical Records Requests                      Medical Records Requests          ✅          ✅                ✅\n",
      "  Agent 1: Thank you for calling HealthHarbor, my name is Agent 1. How may I assist you today?\\n\\nCustom                             General Inquiries         Referrals and Specialist Appointments                        Appointment Scheduling                        Appointment Scheduling          ❌          ❌                ❌\n",
      "  [Phone rings]\\n\\nAgent 1: Thank you for calling HealthHarbor, my name is Agent 1. How can I assist you                      Medical Records Requests                      Medical Records Requests                      Medical Records Requests                      Medical Records Requests          ✅          ✅                ✅\n",
      "  Agent 2: Thank you for calling HealthHarbor, my name is Agent 2. How can I assist you today?\\n\\nCustom                          Lab and Test Results                          Lab and Test Results                          Lab and Test Results                          Lab and Test Results          ✅          ✅                ✅\n",
      "  Agent 4: Thank you for calling HealthHarbor, my name is Agent 4. How can I assist you today?\\n\\nCustom         Referrals and Specialist Appointments         Referrals and Specialist Appointments         Referrals and Specialist Appointments         Referrals and Specialist Appointments          ✅          ✅                ✅\n",
      "  [Phone ringing]\\n\\nAgent 4: Thank you for calling HealthHarbor customer service. My name is Agent 4. H           Follow-up Calls and Care Management               Insurance and Billing Inquiries           Follow-up Calls and Care Management           Follow-up Calls and Care Management          ❌          ✅                ✅\n",
      "[Phone ringing]\\n\\nAgent 3: Good morning, this is agent 3 speaking. How may I assist you today?\\n\\nCusto           Follow-up Calls and Care Management Medication Refills and Prescription Inquiries           Follow-up Calls and Care Management Medication Refills and Prescription Inquiries          ❌          ✅                ❌\n",
      "  Agent 3: Thank you for calling HealthHarbor, my name is Agent 3. How can I assist you today?\\n\\nCustom          Medical Advice or Symptom Assessment          Medical Advice or Symptom Assessment          Medical Advice or Symptom Assessment          Medical Advice or Symptom Assessment          ✅          ✅                ✅\n",
      "  [Phone rings]\\n\\nAgent 2: Thank you for calling HealthHarbor, my name is Agent 2. How can I assist you                             General Inquiries          Medical Advice or Symptom Assessment                             General Inquiries                             General Inquiries          ❌          ✅                ✅\n",
      "  Agent 1: Thank you for calling HealthHarbor. My name is Agent 1. How can I assist you today?\\n\\nCustom                             General Inquiries         Referrals and Specialist Appointments         Referrals and Specialist Appointments         Referrals and Specialist Appointments          ❌          ❌                ❌\n",
      "  Agent 1: Thank you for calling HealthHarbor, my name is Agent 1. How may I assist you today?\\n\\nCustom                          Lab and Test Results                          Lab and Test Results                          Lab and Test Results                          Lab and Test Results          ✅          ✅                ✅\n",
      "  Agent 2: Thank you for calling HealthHarbor, my name is Agent 2. How can I assist you today?\\n\\nCustom                          Lab and Test Results                          Lab and Test Results                          Lab and Test Results                          Lab and Test Results          ✅          ✅                ✅\n",
      "  Agent 2: Thank you for calling HealthHarbor, my name is Agent 2. How can I assist you today?\\n\\nCustom                      Medical Records Requests                      Medical Records Requests                      Medical Records Requests                      Medical Records Requests          ✅          ✅                ✅\n",
      "  [Phone ringing]\\n\\nAgent 2: Thank you for calling HealthHarbor, my name is Agent 2. How may I assist y                             General Inquiries          Medical Advice or Symptom Assessment          Medical Advice or Symptom Assessment          Medical Advice or Symptom Assessment          ❌          ❌                ❌\n",
      "  [Phone ringing]\\n\\nAgent 3: Thank you for calling HealthHarbor, my name is Agent 3. How may I assist y               Insurance and Billing Inquiries               Insurance and Billing Inquiries               Insurance and Billing Inquiries               Insurance and Billing Inquiries          ✅          ✅                ✅\n",
      "  Agent 3: Thank you for calling HealthHarbor, my name is Agent 3. How can I assist you today?\\n\\nCustom           Follow-up Calls and Care Management               Insurance and Billing Inquiries                             General Inquiries                             General Inquiries          ❌          ❌                ❌\n",
      "    Agent 3: Good morning, thank you for calling HealthHarbor. My name is Agent 3. How can I assist you            Follow-up Calls and Care Management                             General Inquiries           Follow-up Calls and Care Management                             General Inquiries          ❌          ✅                ❌\n",
      "  Transcript:\\n\\nAgent 1: Thank you for calling HealthHarbor. My name is Agent 1. How can I assist you t                        Appointment Scheduling         Referrals and Specialist Appointments                        Appointment Scheduling         Referrals and Specialist Appointments          ❌          ✅                ❌\n",
      "  Agent 1: Thank you for calling HealthHarbor. My name is Agent 1. How may I assist you today?\\n\\nCustom          Medical Advice or Symptom Assessment          Medical Advice or Symptom Assessment          Medical Advice or Symptom Assessment          Medical Advice or Symptom Assessment          ✅          ✅                ✅\n",
      "  Agent 2: Thank you for calling HealthHarbor, my name is Agent 2. How can I assist you today?\\n\\nCustom Medication Refills and Prescription Inquiries Medication Refills and Prescription Inquiries Medication Refills and Prescription Inquiries Medication Refills and Prescription Inquiries          ✅          ✅                ✅\n",
      "  Agent 1: Thank you for calling HealthHarbor, my name is Agent 1. How can I assist you today?\\n\\nCustom           Follow-up Calls and Care Management           Follow-up Calls and Care Management           Follow-up Calls and Care Management           Follow-up Calls and Care Management          ✅          ✅                ✅\n",
      "  Transcript:\\n\\nAgent 1: Thank you for calling HealthHarbor. This is Agent 1. How may I assist you toda Medication Refills and Prescription Inquiries Medication Refills and Prescription Inquiries Medication Refills and Prescription Inquiries Medication Refills and Prescription Inquiries          ✅          ✅                ✅\n",
      "  Agent: Thank you for calling HealthHarbor, my name is Agent 2. How can I assist you today?\\n\\nCustomer                        Appointment Scheduling         Referrals and Specialist Appointments                        Appointment Scheduling                        Appointment Scheduling          ❌          ✅                ✅\n",
      "  [Phone rings]\\n\\nAgent 4: Thank you for calling HealthHarbor. This is Agent 4. How can I assist you to                             General Inquiries               Healthcare Facility Information                             General Inquiries                             General Inquiries          ❌          ✅                ✅\n",
      "  Agent 1: Thank you for calling HealthHarbor. My name is Agent 1. How can I assist you today?\\n\\nCustom                             General Inquiries               Healthcare Facility Information                             General Inquiries               Healthcare Facility Information          ❌          ✅                ❌\n",
      "  Agent 2: Thank you for calling HealthHarbor, my name is Agent 2. How may I assist you today?\\n\\nCustom                          Lab and Test Results                          Lab and Test Results                          Lab and Test Results                          Lab and Test Results          ✅          ✅                ✅\n",
      "  Agent 1: Thank you for calling HealthHarbor. My name is Agent 1. How can I assist you today?\\n\\nCustom                        Appointment Scheduling                        Appointment Scheduling                        Appointment Scheduling                        Appointment Scheduling          ✅          ✅                ✅\n",
      "  Agent 1: Thank you for calling HealthHarbor. My name is Agent 1. How may I assist you today?\\n\\nCustom               Healthcare Facility Information               Healthcare Facility Information               Healthcare Facility Information               Healthcare Facility Information          ✅          ✅                ✅\n",
      "    Agent 2: Good morning, thank you for calling HealthHarbor. My name is Agent 2. How can I assist you          Referrals and Specialist Appointments         Referrals and Specialist Appointments         Referrals and Specialist Appointments                        Appointment Scheduling          ✅          ✅                ❌\n",
      "  Agent 4: Thank you for calling HealthHarbor, my name is Agent 4. How can I assist you today?\\n\\nCustom                        Appointment Scheduling         Referrals and Specialist Appointments                        Appointment Scheduling                        Appointment Scheduling          ❌          ✅                ✅\n",
      "  [Phone rings]\\n\\nAgent 4: Thank you for calling HealthHarbor, my name is Agent 4. How can I assist you               Insurance and Billing Inquiries               Insurance and Billing Inquiries               Insurance and Billing Inquiries               Insurance and Billing Inquiries          ✅          ✅                ✅\n",
      "  [Transcript]\\n\\nAgent 4: Thank you for calling HealthHarbor. My name is Agent 4. How may I assist you  Medication Refills and Prescription Inquiries Medication Refills and Prescription Inquiries Medication Refills and Prescription Inquiries Medication Refills and Prescription Inquiries          ✅          ✅                ✅\n",
      "  Agent 4: Thank you for calling HealthHarbor, my name is Agent 4. How can I assist you today?\\n\\nCustom          Medical Advice or Symptom Assessment          Medical Advice or Symptom Assessment          Medical Advice or Symptom Assessment          Medical Advice or Symptom Assessment          ✅          ✅                ✅\n",
      "  Agent 4: Thank you for calling HealthHarbor, my name is Agent 4. How can I assist you today?\\n\\nCustom           Follow-up Calls and Care Management                          Lab and Test Results                          Lab and Test Results                          Lab and Test Results          ❌          ❌                ❌\n",
      "  Agent 3: Thank you for calling HealthHarbor, my name is Agent 3. How may I assist you today?\\n\\nCustom                        Appointment Scheduling          Medical Advice or Symptom Assessment          Medical Advice or Symptom Assessment          Medical Advice or Symptom Assessment          ❌          ❌                ❌\n",
      "  Agent 3: Thank you for calling HealthHarbor, my name is Agent 3. How may I assist you today?\\n\\nCustom                      Medical Records Requests                      Medical Records Requests                      Medical Records Requests                      Medical Records Requests          ✅          ✅                ✅\n",
      "  Agent 2: Thank you for calling HealthHarbor. My name is Agent 2. How may I assist you today?\\n\\nCustom               Healthcare Facility Information               Healthcare Facility Information                             General Inquiries                             General Inquiries          ✅          ❌                ❌\n",
      "  Agent 3: Thank you for calling HealthHarbor. My name is Agent 3. How may I assist you today?\\n\\nCustom                      Medical Records Requests                      Medical Records Requests                      Medical Records Requests                      Medical Records Requests          ✅          ✅                ✅\n",
      "  [Phone rings]\\n\\nAgent 3: Thank you for calling HealthHarbor, my name is Agent 3. How can I assist you                             General Inquiries               Healthcare Facility Information                             General Inquiries                             General Inquiries          ❌          ✅                ✅\n",
      "  Agent 4: Thank you for calling HealthHarbor. My name is Agent 4. How can I assist you today?\\n\\nCustom           Follow-up Calls and Care Management           Follow-up Calls and Care Management           Follow-up Calls and Care Management           Follow-up Calls and Care Management          ✅          ✅                ✅\n",
      "  [Phone ringing]\\n\\nAgent 1: Thank you for calling HealthHarbor. This is Agent 1. How can I assist you                Healthcare Facility Information               Healthcare Facility Information               Healthcare Facility Information                             General Inquiries          ✅          ✅                ❌\n",
      "    Customer: Hello, I would like to speak with someone regarding some medical advice or symptom assessm          Medical Advice or Symptom Assessment          Medical Advice or Symptom Assessment          Medical Advice or Symptom Assessment          Medical Advice or Symptom Assessment          ✅          ✅                ✅\n",
      "  Agent 1: Thank you for calling HealthHarbor, my name is Agent 1. How can I assist you today?\\n\\nCustom               Insurance and Billing Inquiries               Insurance and Billing Inquiries               Insurance and Billing Inquiries               Insurance and Billing Inquiries          ✅          ✅                ✅\n",
      "  Agent 1: Thank you for calling HealthHarbor, my name is Agent 1. How can I assist you today?\\n\\nCustom                      Medical Records Requests                      Medical Records Requests                      Medical Records Requests                      Medical Records Requests          ✅          ✅                ✅\n",
      "  Agent 4: Thank you for calling HealthHarbor. My name is Agent 4. How may I assist you today?\\n\\nCustom                        Appointment Scheduling         Referrals and Specialist Appointments                        Appointment Scheduling         Referrals and Specialist Appointments          ❌          ✅                ❌\n",
      "  Agent 2: Thank you for calling HealthHarbor, my name is Agent 2. How can I assist you today?\\n\\nCustom                        Appointment Scheduling          Medical Advice or Symptom Assessment          Medical Advice or Symptom Assessment          Medical Advice or Symptom Assessment          ❌          ❌                ❌\n",
      "    Agent 1: Good morning, thank you for calling HealthHarbor. My name is Agent 1. How may I assist you                       Medical Records Requests                      Medical Records Requests                      Medical Records Requests                      Medical Records Requests          ✅          ✅                ✅\n",
      "  Agent 4: Thank you for calling HealthHarbor. My name is Agent 4. How can I assist you today?\\n\\nCustom          Medical Advice or Symptom Assessment          Medical Advice or Symptom Assessment          Medical Advice or Symptom Assessment          Medical Advice or Symptom Assessment          ✅          ✅                ✅\n",
      "    Agent 3: Good morning, thank you for calling HealthHarbor. My name is Agent 3. How can I assist you                              General Inquiries               Healthcare Facility Information                             General Inquiries               Healthcare Facility Information          ❌          ✅                ❌\n",
      "    Agent 4: Good morning, thank you for calling HealthHarbor. My name is Agent 4. How may I assist you          Referrals and Specialist Appointments         Referrals and Specialist Appointments         Referrals and Specialist Appointments         Referrals and Specialist Appointments          ✅          ✅                ✅\n",
      "\n",
      "Summary:\n",
      "Classifier  Total Predictions  Correct Predictions  Accuracy\n",
      "        NN                130                   92  0.707692\n",
      "        RF                130                  110  0.846154\n",
      "  Centroid                130                   99  0.761538\n"
     ]
    }
   ],
   "source": [
    "import pandas as pd\n",
    "from sklearn.metrics.pairwise import cosine_similarity\n",
    "\n",
    "# Initialize an empty list to collect results\n",
    "results = []\n",
    "\n",
    "# Define a DataFrame for the results\n",
    "columns = ['Text', 'Actual Intent', 'Predicted NN', 'Predicted RF', 'Predicted Centroid', 'Correct NN', 'Correct RF',\n",
    "           'Correct Centroid']\n",
    "results_df = pd.DataFrame(columns=columns)\n",
    "\n",
    "# Process each entry in the test data\n",
    "for entry in test_data:\n",
    "    text = entry[\"cleaned_text\"]\n",
    "    actual_intent = entry[\"intent\"]\n",
    "\n",
    "    # Predictions\n",
    "    predicted_class_name_nn = predict_class_name_nn(text, embedding_model, nn_classifier)\n",
    "    predicted_class_name_rf = predict_class_name_rf(text, embedding_model, rf_classifier)\n",
    "    predicted_class_name_centroid = predict_class_name_centroid(text, centroids, embedding_model)\n",
    "\n",
    "    # Determine correctness\n",
    "    correct_nn = '✅' if actual_intent == predicted_class_name_nn else '❌'\n",
    "    correct_rf = '✅' if actual_intent == predicted_class_name_rf else '❌'\n",
    "    correct_centroid = '✅' if actual_intent == predicted_class_name_centroid else '❌'\n",
    "\n",
    "    # Append the result to the list\n",
    "    results.append({\n",
    "        'Text': text[:100],  # Show only first 100 characters\n",
    "        'Actual Intent': actual_intent,\n",
    "        'Predicted NN': predicted_class_name_nn,\n",
    "        'Predicted RF': predicted_class_name_rf,\n",
    "        'Predicted Centroid': predicted_class_name_centroid,\n",
    "        'Correct NN': correct_nn,\n",
    "        'Correct RF': correct_rf,\n",
    "        'Correct Centroid': correct_centroid\n",
    "    })\n",
    "\n",
    "# Convert the list of results into a DataFrame\n",
    "results_df = pd.DataFrame(results, columns=columns)\n",
    "\n",
    "# Print the DataFrame with results\n",
    "print(results_df.to_string(index=False))\n",
    "\n",
    "# Generate a summary\n",
    "summary = {\n",
    "    'Classifier': ['NN', 'RF', 'Centroid'],\n",
    "    'Total Predictions': [len(results_df)] * 3,\n",
    "    'Correct Predictions': [\n",
    "        results_df['Correct NN'].value_counts().get('✅', 0),\n",
    "        results_df['Correct RF'].value_counts().get('✅', 0),\n",
    "        results_df['Correct Centroid'].value_counts().get('✅', 0)\n",
    "    ],\n",
    "    'Accuracy': [\n",
    "        results_df['Correct NN'].value_counts().get('✅', 0) / len(results_df),\n",
    "        results_df['Correct RF'].value_counts().get('✅', 0) / len(results_df),\n",
    "        results_df['Correct Centroid'].value_counts().get('✅', 0) / len(results_df)\n",
    "    ]\n",
    "}\n",
    "\n",
    "summary_df = pd.DataFrame(summary)\n",
    "print(\"\\nSummary:\")\n",
    "print(summary_df.to_string(index=False))"
   ]
  },
  {
   "cell_type": "code",
   "execution_count": 53,
   "id": "74fc797696bd02ca",
   "metadata": {
    "ExecuteTime": {
     "end_time": "2024-09-29T17:26:24.651137Z",
     "start_time": "2024-09-29T17:26:24.648863Z"
    }
   },
   "outputs": [
    {
     "data": {
      "text/plain": [
       "\"Agent 1: Thank you for calling HealthHarbor. My name is Agent 1. How can I assist you today?\\n\\nCustomer: Hi, Agent 1. I'm feeling really worried about my health and I was wondering if you could provide me with some information about your healthcare facility.\\n\\nAgent 1: Of course, I understand how important it is to have the right information. I'll do my best to assist you. Can you please provide me with your name?\\n\\nCustomer: Yes, my name is Emily Johnson.\\n\\nAgent 1: Thank you, Emily. How can I help you specifically? Are you looking for general information about our services or do you have any specific concerns?\\n\\nCustomer: Well, I recently moved to this area and I don't have a primary care physician yet. I would like to know if HealthHarbor offers primary care services.\\n\\nAgent 1: Absolutely, Emily. HealthHarbor does offer primary care services. We have a team of experienced doctors who provide comprehensive primary care to patients. We can schedule an appointment for you to see one of our primary care physicians if you'd like.\\n\\nCustomer: That would be great. Can you also tell me if HealthHarbor has any specialized departments or clinics?\\n\\nAgent 1: Yes, we do. HealthHarbor has various specialized departments and clinics. We have departments like cardiology, orthopedics, gastroenterology, and many more. Each department is staffed with highly skilled specialists who cater to specific medical conditions.\\n\\nCustomer: That's reassuring to know. Can you provide me with some information about the emergency services at HealthHarbor?\\n\\nAgent 1: Certainly, Emily. HealthHarbor has a full-service emergency department that operates 24/7. Our emergency department is equipped to handle all types of medical emergencies and is staffed with experienced emergency physicians and nurses.\\n\\nCustomer: That's a relief. I hope I never have to use it, but it's good to know it's available. What other services does HealthHarbor offer?\\n\\nAgent 1: HealthHarbor offers a wide range of services, including diagnostic imaging, laboratory services, rehabilitation services, and surgical procedures. We strive to provide comprehensive care to our patients under one roof.\\n\\nCustomer: That's impressive. I'm glad I reached out to you. How about insurance coverage? Does HealthHarbor accept insurance?\\n\\nAgent 1: Yes, Emily. HealthHarbor accepts most major insurance plans. However, I would recommend contacting your insurance provider to confirm if HealthHarbor is in-network for your specific plan.\\n\\nCustomer: Thank you for the information. Is there anything else I should know about HealthHarbor?\\n\\nAgent 1: Well, Emily, HealthHarbor is committed to providing high-quality care to all our patients. We prioritize patient satisfaction and strive to create a comfortable and supportive environment for everyone who comes through our doors.\\n\\nCustomer: That's great to hear. I feel a lot better now knowing that HealthHarbor offers such comprehensive services. Thank you for your help, Agent 1.\\n\\nAgent 1: You're welcome, Emily. I'm glad I could assist you. If you have any more questions or if there's anything else I can help you with in the future, please don't hesitate to reach out. Take care of yourself!\\n\\nCustomer: Thank you, Agent 1. I appreciate your assistance. Goodbye!\\n\\nAgent 1: Goodbye, Emily. Have a great day!\""
      ]
     },
     "execution_count": 53,
     "metadata": {},
     "output_type": "execute_result"
    }
   ],
   "source": [
    "test_data[0][\"cleaned_text\"]"
   ]
  },
  {
   "cell_type": "code",
   "execution_count": 54,
   "id": "e5280026-3540-4f84-a4b1-adc8032f7fee",
   "metadata": {
    "ExecuteTime": {
     "end_time": "2024-09-29T15:52:10.936599Z",
     "start_time": "2024-09-29T15:52:09.474329Z"
    }
   },
   "outputs": [
    {
     "name": "stdout",
     "output_type": "stream",
     "text": [
      "\u001b[1m1/1\u001b[0m \u001b[32m━━━━━━━━━━━━━━━━━━━━\u001b[0m\u001b[37m\u001b[0m \u001b[1m0s\u001b[0m 43ms/step\n",
      "Prediction Time: 3.1789 seconds\n",
      "Predicted class name: Healthcare Facility Information\n"
     ]
    }
   ],
   "source": [
    "text = test_data[0][\"cleaned_text\"]\n",
    "\n",
    "start_time = time.time()\n",
    "predicted_class_name_nn = predict_class_name_nn(text, embedding_model, nn_classifier)\n",
    "prediction_time_nn = time.time() - start_time\n",
    "print(f\"Prediction Time: {prediction_time_nn:.4f} seconds\")\n",
    "print(f\"Predicted class name: {predicted_class_name_nn}\")"
   ]
  },
  {
   "cell_type": "code",
   "execution_count": 55,
   "id": "4baa665c-a273-4a08-9315-a13b8dd63c29",
   "metadata": {
    "ExecuteTime": {
     "end_time": "2024-09-29T15:55:30.720550Z",
     "start_time": "2024-09-29T15:55:28.940846Z"
    }
   },
   "outputs": [
    {
     "name": "stdout",
     "output_type": "stream",
     "text": [
      "Predicted class name: Healthcare Facility Information\n",
      "Prediction Time: 3.0465 seconds\n"
     ]
    }
   ],
   "source": [
    "start_time = time.time()\n",
    "predicted_class_name_rf = predict_class_name_rf(text, embedding_model, rf_classifier)\n",
    "prediction_time_rf = time.time() - start_time\n",
    "print(f\"Predicted class name: {predicted_class_name_rf}\")\n",
    "print(f\"Prediction Time: {prediction_time_rf:.4f} seconds\")"
   ]
  },
  {
   "cell_type": "code",
   "execution_count": 56,
   "id": "6a035e2f-4bd2-4748-8863-7b95ecd80592",
   "metadata": {
    "ExecuteTime": {
     "end_time": "2024-09-29T15:55:33.638589Z",
     "start_time": "2024-09-29T15:55:31.630603Z"
    }
   },
   "outputs": [
    {
     "name": "stdout",
     "output_type": "stream",
     "text": [
      "The sentence is classified as: Healthcare Facility Information\n",
      "Prediction Time: 2.9983 seconds\n"
     ]
    }
   ],
   "source": [
    "start_time = time.time()\n",
    "predicted_class_name_centroid = predict_class_name_centroid(text, centroids, embedding_model)\n",
    "prediction_time_centroid = time.time() - start_time\n",
    "print(f\"The sentence is classified as: {predicted_class_name_centroid}\")\n",
    "print(f\"Prediction Time: {prediction_time_centroid:.4f} seconds\")"
   ]
  },
  {
   "cell_type": "code",
   "execution_count": 57,
   "id": "f766d864-140b-4e9f-8403-b48dda92dbdb",
   "metadata": {
    "ExecuteTime": {
     "end_time": "2024-09-29T15:55:33.720214Z",
     "start_time": "2024-09-29T15:55:33.716362Z"
    }
   },
   "outputs": [
    {
     "name": "stdout",
     "output_type": "stream",
     "text": [
      "            Model  Training Time (s)  Prediction Time (s)  Accuracy\n",
      "0  Neural Network           2.031756             3.178895  0.763359\n",
      "1   Random Forest           1.098477             3.046474  0.877863\n",
      "2  Centroid-Based           0.007065             2.998338  0.847328\n"
     ]
    }
   ],
   "source": [
    "comparison_df = pd.DataFrame({\n",
    "    'Model': ['Neural Network', 'Random Forest', 'Centroid-Based'],\n",
    "    'Training Time (s)': [training_time_nn, training_time_rf, centroid_calculation_time],\n",
    "    'Prediction Time (s)': [prediction_time_nn, prediction_time_rf, prediction_time_centroid],\n",
    "    'Accuracy': [accuracy_nn, accuracy_rf, accuracy_centroid]\n",
    "})\n",
    "\n",
    "print(comparison_df)"
   ]
  },
  {
   "cell_type": "code",
   "execution_count": 58,
   "id": "ec860f74-c794-46f7-a2c0-235889030839",
   "metadata": {
    "ExecuteTime": {
     "end_time": "2024-09-29T15:57:47.749595Z",
     "start_time": "2024-09-29T15:57:45.438265Z"
    }
   },
   "outputs": [
    {
     "name": "stderr",
     "output_type": "stream",
     "text": [
      "/Users/patrick/Documents/personal/ucb/oenologist/.venv/lib/python3.11/site-packages/threadpoolctl.py:1214: RuntimeWarning: \n",
      "Found Intel OpenMP ('libiomp') and LLVM OpenMP ('libomp') loaded at\n",
      "the same time. Both libraries are known to be incompatible and this\n",
      "can cause random crashes or deadlocks on Linux when loaded in the\n",
      "same Python program.\n",
      "Using threadpoolctl may cause crashes or deadlocks. For more\n",
      "information and possible workarounds, please see\n",
      "    https://github.com/joblib/threadpoolctl/blob/master/multiple_openmp.md\n",
      "\n",
      "  warnings.warn(msg, RuntimeWarning)\n"
     ]
    },
    {
     "data": {
      "image/png": "[encoded data removed]",
      "text/plain": [
       "<Figure size 1200x800 with 1 Axes>"
      ]
     },
     "metadata": {},
     "output_type": "display_data"
    }
   ],
   "source": [
    "# Extract embeddings and labels\n",
    "embeddings = np.array(df_train['embeddings'].tolist())\n",
    "labels = df_train['intent']\n",
    "\n",
    "# Perform PCA to reduce dimensions to a more manageable number (e.g., 50)\n",
    "pca = PCA(n_components=50, random_state=42)\n",
    "embeddings_pca = pca.fit_transform(embeddings)\n",
    "\n",
    "# Set perplexity to a value less than the number of samples\n",
    "perplexity_value = min(30, len(embeddings_pca) - 1)\n",
    "\n",
    "# Apply t-SNE on the PCA-reduced embeddings\n",
    "tsne = TSNE(n_components=2, random_state=42, perplexity=perplexity_value)\n",
    "embeddings_2d = tsne.fit_transform(embeddings_pca)\n",
    "\n",
    "# Create a color map for the classes\n",
    "class_names = labels.unique()\n",
    "color_map = {class_name: idx for idx, class_name in enumerate(class_names)}\n",
    "colors = np.array([color_map[label] for label in labels])\n",
    "\n",
    "# Plotting\n",
    "plt.figure(figsize=(12, 8))\n",
    "\n",
    "# Plot each class in a different color\n",
    "for class_name in class_names:\n",
    "    indices = np.where(labels == class_name)[0]\n",
    "    plt.scatter(embeddings_2d[indices, 0], embeddings_2d[indices, 1],\n",
    "                label=class_name,\n",
    "                alpha=0.7,\n",
    "                edgecolors='w')\n",
    "\n",
    "plt.title('2D t-SNE Visualization after PCA Reduction')\n",
    "plt.xlabel('t-SNE Dimension 1')\n",
    "plt.ylabel('t-SNE Dimension 2')\n",
    "plt.legend()\n",
    "plt.grid(True)\n",
    "plt.show()"
   ]
  },
  {
   "cell_type": "code",
   "execution_count": null,
   "id": "09aa2e15-c3ec-4db1-9364-5fb88566db3b",
   "metadata": {},
   "outputs": [],
   "source": []
  }
 ],
 "metadata": {
  "kernelspec": {
   "display_name": ".venv",
   "language": "python",
   "name": "python3"
  },
  "language_info": {
   "codemirror_mode": {
    "name": "ipython",
    "version": 3
   },
   "file_extension": ".py",
   "mimetype": "text/x-python",
   "name": "python",
   "nbconvert_exporter": "python",
   "pygments_lexer": "ipython3",
   "version": "3.12.9"
  }
 },
 "nbformat": 4,
 "nbformat_minor": 5
}
