{
 "cells": [
  {
   "cell_type": "code",
   "execution_count": 2,
   "id": "3df59c49-8233-4ab9-9e6c-0d40212317b4",
   "metadata": {},
   "outputs": [],
   "source": [
    "!pip install transformers torch einops --quiet\n",
    "!pip install 'numpy<2' --quiet\n",
    "!pip install tqdm pandas numpy scikit-learn --quiet\n",
    "!pip install keras tensorflow --quiet\n",
    "!pip install pyarrow matplotlib seaborn --quiet"
   ]
  },
  {
   "cell_type": "code",
   "execution_count": 3,
   "id": "b84a7199-6141-40a3-bdca-00cadc38b362",
   "metadata": {
    "ExecuteTime": {
     "end_time": "2024-09-29T15:07:37.065408Z",
     "start_time": "2024-09-29T15:07:37.034518Z"
    }
   },
   "outputs": [
    {
     "name": "stderr",
     "output_type": "stream",
     "text": [
      "2025-03-14 20:11:38.976934: I tensorflow/core/platform/cpu_feature_guard.cc:210] This TensorFlow binary is optimized to use available CPU instructions in performance-critical operations.\n",
      "To enable the following instructions: AVX2 FMA, in other operations, rebuild TensorFlow with the appropriate compiler flags.\n"
     ]
    }
   ],
   "source": [
    "import json\n",
    "import re\n",
    "import time\n",
    "from ast import literal_eval\n",
    "from pathlib import Path\n",
    "\n",
    "import matplotlib.pyplot as plt\n",
    "import numpy as np\n",
    "import pandas as pd\n",
    "from keras import layers, models, optimizers, losses, callbacks\n",
    "from sklearn.decomposition import PCA\n",
    "from sklearn.ensemble import RandomForestClassifier\n",
    "from sklearn.manifold import TSNE\n",
    "from sklearn.metrics import classification_report, accuracy_score\n",
    "from sklearn.model_selection import train_test_split\n",
    "from sklearn.preprocessing import LabelEncoder\n",
    "from sklearn.utils import shuffle\n",
    "from tqdm.auto import tqdm\n",
    "from transformers import AutoModel"
   ]
  },
  {
   "cell_type": "code",
   "execution_count": 4,
   "id": "684a2137-90a2-421f-9958-1cdab278e083",
   "metadata": {
    "ExecuteTime": {
     "end_time": "2024-09-29T15:07:46.325868Z",
     "start_time": "2024-09-29T15:07:43.654929Z"
    }
   },
   "outputs": [
    {
     "data": {
      "text/html": [
       "<div>\n",
       "<style scoped>\n",
       "    .dataframe tbody tr th:only-of-type {\n",
       "        vertical-align: middle;\n",
       "    }\n",
       "\n",
       "    .dataframe tbody tr th {\n",
       "        vertical-align: top;\n",
       "    }\n",
       "\n",
       "    .dataframe thead th {\n",
       "        text-align: right;\n",
       "    }\n",
       "</style>\n",
       "<table border=\"1\" class=\"dataframe\">\n",
       "  <thead>\n",
       "    <tr style=\"text-align: right;\">\n",
       "      <th></th>\n",
       "      <th>text</th>\n",
       "    </tr>\n",
       "  </thead>\n",
       "  <tbody>\n",
       "    <tr>\n",
       "      <th>0</th>\n",
       "      <td>&lt;s&gt;[INST] Classify the following call transcri...</td>\n",
       "    </tr>\n",
       "    <tr>\n",
       "      <th>1</th>\n",
       "      <td>&lt;s&gt;[INST] Classify the following call transcri...</td>\n",
       "    </tr>\n",
       "    <tr>\n",
       "      <th>2</th>\n",
       "      <td>&lt;s&gt;[INST] Classify the following call transcri...</td>\n",
       "    </tr>\n",
       "    <tr>\n",
       "      <th>3</th>\n",
       "      <td>&lt;s&gt;[INST] Classify the following call transcri...</td>\n",
       "    </tr>\n",
       "    <tr>\n",
       "      <th>4</th>\n",
       "      <td>&lt;s&gt;[INST] Classify the following call transcri...</td>\n",
       "    </tr>\n",
       "  </tbody>\n",
       "</table>\n",
       "</div>"
      ],
      "text/plain": [
       "                                                text\n",
       "0  <s>[INST] Classify the following call transcri...\n",
       "1  <s>[INST] Classify the following call transcri...\n",
       "2  <s>[INST] Classify the following call transcri...\n",
       "3  <s>[INST] Classify the following call transcri...\n",
       "4  <s>[INST] Classify the following call transcri..."
      ]
     },
     "execution_count": 4,
     "metadata": {},
     "output_type": "execute_result"
    }
   ],
   "source": [
    "df = pd.read_parquet(\n",
    "    \"hf://datasets/urvog/llama2_transcripts_healthcare_callcenter/data/train-00000-of-00001-643ef6d7d804c522.parquet\")\n",
    "df.head()"
   ]
  },
  {
   "cell_type": "code",
   "execution_count": 5,
   "id": "03b1df3a-f8cf-44b3-af7a-a20757e0303c",
   "metadata": {
    "ExecuteTime": {
     "end_time": "2024-09-29T15:10:09.397663Z",
     "start_time": "2024-09-29T15:10:09.395700Z"
    }
   },
   "outputs": [
    {
     "name": "stdout",
     "output_type": "stream",
     "text": [
      "<s>[INST] Classify the following call transcript:Agent 3: Thank you for calling HealthHarbor, my nam [...] Have a great day!Agent 3: You too, Emma. Goodbye! [/INST] Medical Advice or Symptom Assessment </s>\n"
     ]
    }
   ],
   "source": [
    "text = str(df.iloc[0].text).replace(\"\\n\", \"\")\n",
    "print(f\"{text[:100]} [...]{text[-100:]}\")"
   ]
  },
  {
   "cell_type": "code",
   "execution_count": 6,
   "id": "8ddfb317-01cd-4e7f-8d41-ebf0b2f6b979",
   "metadata": {
    "ExecuteTime": {
     "end_time": "2024-09-29T15:11:31.400073Z",
     "start_time": "2024-09-29T15:11:31.270932Z"
    }
   },
   "outputs": [],
   "source": [
    "def clean_and_extract_text(text):\n",
    "    text = re.sub(r'<s>\\[INST\\] Classify the following call transcript:\\n\\n', '', text)\n",
    "    match = re.search(r'\\[/INST\\] (.+?) </s>', text)\n",
    "    if match:\n",
    "        intent = match.group(1)\n",
    "        text = text[:match.start()].strip()\n",
    "    else:\n",
    "        intent = None\n",
    "    return text, intent\n",
    "\n",
    "\n",
    "df[['cleaned_text', 'intent']] = df['text'].apply(lambda x: pd.Series(clean_and_extract_text(x)))"
   ]
  },
  {
   "cell_type": "code",
   "execution_count": 7,
   "id": "67b8eca4282be7aa",
   "metadata": {
    "ExecuteTime": {
     "end_time": "2024-09-29T15:12:07.431865Z",
     "start_time": "2024-09-29T15:12:07.428880Z"
    }
   },
   "outputs": [
    {
     "name": "stdout",
     "output_type": "stream",
     "text": [
      "Intent mapping: {'Appointment Scheduling': 0, 'Follow-up Calls and Care Management': 1, 'General Inquiries': 2, 'Healthcare Facility Information': 3, 'Insurance and Billing Inquiries': 4, 'Lab and Test Results': 5, 'Medical Advice or Symptom Assessment': 6, 'Medical Records Requests': 7, 'Medication Refills and Prescription Inquiries': 8, 'Referrals and Specialist Appointments': 9}\n"
     ]
    }
   ],
   "source": [
    "# Initialize and apply LabelEncoder\n",
    "label_encoder = LabelEncoder()\n",
    "df['intent_encoded'] = label_encoder.fit_transform(df['intent'])\n",
    "\n",
    "intent_mapping = dict(zip(label_encoder.classes_, label_encoder.transform(label_encoder.classes_)))\n",
    "print(\"Intent mapping:\", intent_mapping)"
   ]
  },
  {
   "cell_type": "code",
   "execution_count": 8,
   "id": "1e9d1950-2043-4217-8165-46be19104ce2",
   "metadata": {
    "ExecuteTime": {
     "end_time": "2024-09-29T15:12:31.215581Z",
     "start_time": "2024-09-29T15:12:31.211442Z"
    }
   },
   "outputs": [
    {
     "name": "stdout",
     "output_type": "stream",
     "text": [
      "Intent Distribution:\n",
      "                                          intent  count\n",
      "0                Insurance and Billing Inquiries    112\n",
      "1                       Medical Records Requests    112\n",
      "2                Healthcare Facility Information    111\n",
      "3           Medical Advice or Symptom Assessment    102\n",
      "4            Follow-up Calls and Care Management    100\n",
      "5                           Lab and Test Results     97\n",
      "6  Medication Refills and Prescription Inquiries     95\n",
      "7          Referrals and Specialist Appointments     95\n",
      "8                              General Inquiries     89\n",
      "9                         Appointment Scheduling     87\n"
     ]
    }
   ],
   "source": [
    "# Check the distribution of intents in the dataset\n",
    "intent_distribution = df['intent'].value_counts().reset_index()\n",
    "\n",
    "print(\"Intent Distribution:\")\n",
    "print(intent_distribution)"
   ]
  },
  {
   "cell_type": "code",
   "execution_count": 9,
   "id": "a0c73b81-a27e-427e-b59b-1f8733ca8a49",
   "metadata": {
    "ExecuteTime": {
     "end_time": "2024-09-29T15:13:10.842025Z",
     "start_time": "2024-09-29T15:13:10.833712Z"
    }
   },
   "outputs": [
    {
     "name": "stderr",
     "output_type": "stream",
     "text": [
      "/var/folders/fg/4670bf9x6q35chxf5pks3th00000gn/T/ipykernel_16397/1926966717.py:3: DeprecationWarning: DataFrameGroupBy.apply operated on the grouping columns. This behavior is deprecated, and in a future version of pandas the grouping columns will be excluded from the operation. Either pass `include_groups=False` to exclude the groupings or explicitly select the grouping columns after groupby to silence this warning.\n",
      "  balanced_df = df.groupby('intent').apply(lambda x: x.sample(min_count)).reset_index(drop=True)\n"
     ]
    }
   ],
   "source": [
    "def balance_dataset(df):\n",
    "    min_count = df['intent'].value_counts().min()\n",
    "    balanced_df = df.groupby('intent').apply(lambda x: x.sample(min_count)).reset_index(drop=True)\n",
    "    return balanced_df\n",
    "\n",
    "\n",
    "balanced_df = balance_dataset(df)\n",
    "\n",
    "# Shuffle the balanced dataset\n",
    "balanced_df = shuffle(balanced_df, random_state=42)"
   ]
  },
  {
   "cell_type": "code",
   "execution_count": 10,
   "id": "7537aae7-df26-4352-9757-cc671ceac345",
   "metadata": {
    "ExecuteTime": {
     "end_time": "2024-09-29T15:13:31.087850Z",
     "start_time": "2024-09-29T15:13:31.081155Z"
    }
   },
   "outputs": [
    {
     "name": "stdout",
     "output_type": "stream",
     "text": [
      "Training set: 609 samples\n",
      "Validation set: 130 samples\n",
      "Test set: 131 samples\n"
     ]
    }
   ],
   "source": [
    "# Split the data into training and temporary (which will be further split into validation and test)\n",
    "train_df, temp_df = train_test_split(balanced_df, test_size=0.3, stratify=balanced_df['intent'], random_state=42)\n",
    "\n",
    "# Further split the temporary dataset into validation and test sets\n",
    "validation_df, test_df = train_test_split(temp_df, test_size=0.5, stratify=temp_df['intent'], random_state=42)\n",
    "\n",
    "print(f\"Training set: {len(train_df)} samples\")\n",
    "print(f\"Validation set: {len(validation_df)} samples\")\n",
    "print(f\"Test set: {len(test_df)} samples\")"
   ]
  },
  {
   "cell_type": "code",
   "execution_count": 11,
   "id": "d768d064-90c6-406a-b7dd-29ff0f2513f8",
   "metadata": {
    "ExecuteTime": {
     "end_time": "2024-09-29T15:13:58.121451Z",
     "start_time": "2024-09-29T15:13:58.090125Z"
    }
   },
   "outputs": [],
   "source": [
    "# save the balanced dataframes\n",
    "train_df.to_parquet('data/balanced_train_dataset.parquet', index=False)\n",
    "validation_df.to_parquet('data/balanced_validation_dataset.parquet', index=False)\n",
    "test_df.to_parquet('data/balanced_test_dataset.parquet', index=False)"
   ]
  },
  {
   "cell_type": "code",
   "execution_count": 12,
   "id": "6e5d3943-71f4-4c96-8e3a-dfd4887e5da3",
   "metadata": {
    "ExecuteTime": {
     "end_time": "2024-09-29T15:15:04.550353Z",
     "start_time": "2024-09-29T15:15:04.544070Z"
    }
   },
   "outputs": [
    {
     "data": {
      "text/html": [
       "<div>\n",
       "<style scoped>\n",
       "    .dataframe tbody tr th:only-of-type {\n",
       "        vertical-align: middle;\n",
       "    }\n",
       "\n",
       "    .dataframe tbody tr th {\n",
       "        vertical-align: top;\n",
       "    }\n",
       "\n",
       "    .dataframe thead th {\n",
       "        text-align: right;\n",
       "    }\n",
       "</style>\n",
       "<table border=\"1\" class=\"dataframe\">\n",
       "  <thead>\n",
       "    <tr style=\"text-align: right;\">\n",
       "      <th></th>\n",
       "      <th>Intent</th>\n",
       "      <th>Training Count</th>\n",
       "      <th>Validation Count</th>\n",
       "      <th>Test Count</th>\n",
       "    </tr>\n",
       "  </thead>\n",
       "  <tbody>\n",
       "    <tr>\n",
       "      <th>0</th>\n",
       "      <td>Medication Refills and Prescription Inquiries</td>\n",
       "      <td>61</td>\n",
       "      <td>13</td>\n",
       "      <td>13</td>\n",
       "    </tr>\n",
       "    <tr>\n",
       "      <th>1</th>\n",
       "      <td>Lab and Test Results</td>\n",
       "      <td>61</td>\n",
       "      <td>13</td>\n",
       "      <td>13</td>\n",
       "    </tr>\n",
       "    <tr>\n",
       "      <th>2</th>\n",
       "      <td>Appointment Scheduling</td>\n",
       "      <td>61</td>\n",
       "      <td>13</td>\n",
       "      <td>13</td>\n",
       "    </tr>\n",
       "    <tr>\n",
       "      <th>3</th>\n",
       "      <td>Healthcare Facility Information</td>\n",
       "      <td>61</td>\n",
       "      <td>13</td>\n",
       "      <td>13</td>\n",
       "    </tr>\n",
       "    <tr>\n",
       "      <th>4</th>\n",
       "      <td>Follow-up Calls and Care Management</td>\n",
       "      <td>61</td>\n",
       "      <td>13</td>\n",
       "      <td>13</td>\n",
       "    </tr>\n",
       "    <tr>\n",
       "      <th>5</th>\n",
       "      <td>Referrals and Specialist Appointments</td>\n",
       "      <td>61</td>\n",
       "      <td>13</td>\n",
       "      <td>13</td>\n",
       "    </tr>\n",
       "    <tr>\n",
       "      <th>6</th>\n",
       "      <td>Insurance and Billing Inquiries</td>\n",
       "      <td>61</td>\n",
       "      <td>13</td>\n",
       "      <td>13</td>\n",
       "    </tr>\n",
       "    <tr>\n",
       "      <th>7</th>\n",
       "      <td>Medical Records Requests</td>\n",
       "      <td>61</td>\n",
       "      <td>13</td>\n",
       "      <td>13</td>\n",
       "    </tr>\n",
       "    <tr>\n",
       "      <th>8</th>\n",
       "      <td>General Inquiries</td>\n",
       "      <td>61</td>\n",
       "      <td>13</td>\n",
       "      <td>13</td>\n",
       "    </tr>\n",
       "    <tr>\n",
       "      <th>9</th>\n",
       "      <td>Medical Advice or Symptom Assessment</td>\n",
       "      <td>60</td>\n",
       "      <td>13</td>\n",
       "      <td>14</td>\n",
       "    </tr>\n",
       "  </tbody>\n",
       "</table>\n",
       "</div>"
      ],
      "text/plain": [
       "                                          Intent  Training Count  \\\n",
       "0  Medication Refills and Prescription Inquiries              61   \n",
       "1                           Lab and Test Results              61   \n",
       "2                         Appointment Scheduling              61   \n",
       "3                Healthcare Facility Information              61   \n",
       "4            Follow-up Calls and Care Management              61   \n",
       "5          Referrals and Specialist Appointments              61   \n",
       "6                Insurance and Billing Inquiries              61   \n",
       "7                       Medical Records Requests              61   \n",
       "8                              General Inquiries              61   \n",
       "9           Medical Advice or Symptom Assessment              60   \n",
       "\n",
       "   Validation Count  Test Count  \n",
       "0                13          13  \n",
       "1                13          13  \n",
       "2                13          13  \n",
       "3                13          13  \n",
       "4                13          13  \n",
       "5                13          13  \n",
       "6                13          13  \n",
       "7                13          13  \n",
       "8                13          13  \n",
       "9                13          14  "
      ]
     },
     "execution_count": 12,
     "metadata": {},
     "output_type": "execute_result"
    }
   ],
   "source": [
    "# Extract intent counts from each dataset\n",
    "train_counts = train_df['intent'].value_counts()\n",
    "validation_counts = validation_df['intent'].value_counts()\n",
    "test_counts = test_df['intent'].value_counts()\n",
    "\n",
    "# Create a DataFrame to print a table with the distribution data\n",
    "distribution_df = pd.DataFrame({\n",
    "    'Intent': train_counts.index,\n",
    "    'Training Count': train_counts.values,\n",
    "    'Validation Count': validation_counts.reindex(train_counts.index, fill_value=0).values,\n",
    "    'Test Count': test_counts.reindex(train_counts.index, fill_value=0).values\n",
    "})\n",
    "distribution_df.head(20)"
   ]
  },
  {
   "cell_type": "code",
   "execution_count": 13,
   "id": "3f7a0863-18bf-4a2c-a050-4c5f67bf255b",
   "metadata": {
    "ExecuteTime": {
     "end_time": "2024-09-29T15:15:35.539458Z",
     "start_time": "2024-09-29T15:15:27.470549Z"
    }
   },
   "outputs": [],
   "source": [
    "# Let's start with embeddings\n",
    "EMBEDDING_MODEL_NAME = \"jinaai/jina-embeddings-v3\"\n",
    "embedding_model = AutoModel.from_pretrained(EMBEDDING_MODEL_NAME, trust_remote_code=True)"
   ]
  },
  {
   "cell_type": "code",
   "execution_count": 14,
   "id": "c597b10a-ff1f-4489-8a29-17cb34db5b9d",
   "metadata": {
    "ExecuteTime": {
     "end_time": "2024-09-29T15:15:48.109646Z",
     "start_time": "2024-09-29T15:15:48.105650Z"
    }
   },
   "outputs": [],
   "source": [
    "tqdm.pandas()\n",
    "\n",
    "\n",
    "def embed_text(text: str, model) -> list[float]:\n",
    "    \"\"\"Generates embeddings for a given text using the provided model.\"\"\"\n",
    "    # You can customize the task as needed: 'retrieval.query', 'retrieval.passage', 'classification', etc.\n",
    "    embeddings = model.encode(text, task=\"classification\")\n",
    "    return embeddings\n",
    "\n",
    "\n",
    "def create_embeddings(model, df):\n",
    "    df['embeddings'] = df['cleaned_text'].progress_apply(lambda text: embed_text(text, model))\n",
    "    return df"
   ]
  },
  {
   "cell_type": "code",
   "execution_count": 15,
   "id": "cad0d51a-4f70-4207-a53d-2bc3349cc493",
   "metadata": {
    "ExecuteTime": {
     "end_time": "2024-09-29T15:17:09.436783Z",
     "start_time": "2024-09-29T15:17:07.777464Z"
    }
   },
   "outputs": [
    {
     "data": {
      "application/vnd.jupyter.widget-view+json": {
       "model_id": "b1bedc9acab9421bb714bb1c82985c88",
       "version_major": 2,
       "version_minor": 0
      },
      "text/plain": [
       "  0%|          | 0/609 [00:00<?, ?it/s]"
      ]
     },
     "metadata": {},
     "output_type": "display_data"
    },
    {
     "data": {
      "application/vnd.jupyter.widget-view+json": {
       "model_id": "23e4145da65e4cccb2449389e41276aa",
       "version_major": 2,
       "version_minor": 0
      },
      "text/plain": [
       "  0%|          | 0/131 [00:00<?, ?it/s]"
      ]
     },
     "metadata": {},
     "output_type": "display_data"
    },
    {
     "data": {
      "text/html": [
       "<div>\n",
       "<style scoped>\n",
       "    .dataframe tbody tr th:only-of-type {\n",
       "        vertical-align: middle;\n",
       "    }\n",
       "\n",
       "    .dataframe tbody tr th {\n",
       "        vertical-align: top;\n",
       "    }\n",
       "\n",
       "    .dataframe thead th {\n",
       "        text-align: right;\n",
       "    }\n",
       "</style>\n",
       "<table border=\"1\" class=\"dataframe\">\n",
       "  <thead>\n",
       "    <tr style=\"text-align: right;\">\n",
       "      <th></th>\n",
       "      <th>text</th>\n",
       "      <th>cleaned_text</th>\n",
       "      <th>intent</th>\n",
       "      <th>intent_encoded</th>\n",
       "      <th>embeddings</th>\n",
       "    </tr>\n",
       "  </thead>\n",
       "  <tbody>\n",
       "    <tr>\n",
       "      <th>0</th>\n",
       "      <td>&lt;s&gt;[INST] Classify the following call transcri...</td>\n",
       "      <td>Agent 1: Thank you for calling HealthHarbor, m...</td>\n",
       "      <td>Medication Refills and Prescription Inquiries</td>\n",
       "      <td>8</td>\n",
       "      <td>[0.02655057981610298, -0.060621410608291626, 0...</td>\n",
       "    </tr>\n",
       "    <tr>\n",
       "      <th>1</th>\n",
       "      <td>&lt;s&gt;[INST] Classify the following call transcri...</td>\n",
       "      <td>Agent 3: Thank you for calling HealthHarbor. M...</td>\n",
       "      <td>Medication Refills and Prescription Inquiries</td>\n",
       "      <td>8</td>\n",
       "      <td>[0.0647379606962204, -0.06422194838523865, 0.0...</td>\n",
       "    </tr>\n",
       "    <tr>\n",
       "      <th>2</th>\n",
       "      <td>&lt;s&gt;[INST] Classify the following call transcri...</td>\n",
       "      <td>Agent 4: Thank you for calling HealthHarbor, m...</td>\n",
       "      <td>Medical Advice or Symptom Assessment</td>\n",
       "      <td>6</td>\n",
       "      <td>[0.06798619776964188, -0.07850642502307892, 0....</td>\n",
       "    </tr>\n",
       "    <tr>\n",
       "      <th>3</th>\n",
       "      <td>&lt;s&gt;[INST] Classify the following call transcri...</td>\n",
       "      <td>[Phone ringing]\\n\\nAgent 3: Thank you for call...</td>\n",
       "      <td>Lab and Test Results</td>\n",
       "      <td>5</td>\n",
       "      <td>[0.08077985048294067, -0.09275665879249573, 0....</td>\n",
       "    </tr>\n",
       "    <tr>\n",
       "      <th>4</th>\n",
       "      <td>&lt;s&gt;[INST] Classify the following call transcri...</td>\n",
       "      <td>Agent 1: Thank you for calling HealthHarbor, m...</td>\n",
       "      <td>Medication Refills and Prescription Inquiries</td>\n",
       "      <td>8</td>\n",
       "      <td>[0.05675521120429039, -0.08665388822555542, 0....</td>\n",
       "    </tr>\n",
       "  </tbody>\n",
       "</table>\n",
       "</div>"
      ],
      "text/plain": [
       "                                                text  \\\n",
       "0  <s>[INST] Classify the following call transcri...   \n",
       "1  <s>[INST] Classify the following call transcri...   \n",
       "2  <s>[INST] Classify the following call transcri...   \n",
       "3  <s>[INST] Classify the following call transcri...   \n",
       "4  <s>[INST] Classify the following call transcri...   \n",
       "\n",
       "                                        cleaned_text  \\\n",
       "0  Agent 1: Thank you for calling HealthHarbor, m...   \n",
       "1  Agent 3: Thank you for calling HealthHarbor. M...   \n",
       "2  Agent 4: Thank you for calling HealthHarbor, m...   \n",
       "3  [Phone ringing]\\n\\nAgent 3: Thank you for call...   \n",
       "4  Agent 1: Thank you for calling HealthHarbor, m...   \n",
       "\n",
       "                                          intent  intent_encoded  \\\n",
       "0  Medication Refills and Prescription Inquiries               8   \n",
       "1  Medication Refills and Prescription Inquiries               8   \n",
       "2           Medical Advice or Symptom Assessment               6   \n",
       "3                           Lab and Test Results               5   \n",
       "4  Medication Refills and Prescription Inquiries               8   \n",
       "\n",
       "                                          embeddings  \n",
       "0  [0.02655057981610298, -0.060621410608291626, 0...  \n",
       "1  [0.0647379606962204, -0.06422194838523865, 0.0...  \n",
       "2  [0.06798619776964188, -0.07850642502307892, 0....  \n",
       "3  [0.08077985048294067, -0.09275665879249573, 0....  \n",
       "4  [0.05675521120429039, -0.08665388822555542, 0....  "
      ]
     },
     "execution_count": 15,
     "metadata": {},
     "output_type": "execute_result"
    }
   ],
   "source": [
    "DATA_PATH = 'data/'\n",
    "\n",
    "train_path = Path(DATA_PATH) / 'call_center_train.csv'\n",
    "test_path = Path(DATA_PATH) / 'call_center_test.csv'\n",
    "\n",
    "if not train_path.exists():\n",
    "    df_train = create_embeddings(embedding_model, train_df)\n",
    "    df_train['embeddings'] = df_train['embeddings'].apply(lambda emb: json.dumps(emb.tolist()))\n",
    "    df_train.to_csv(train_path, index=False)\n",
    "\n",
    "if not test_path.exists():\n",
    "    df_test = create_embeddings(embedding_model, test_df)\n",
    "    df_test['embeddings'] = df_test['embeddings'].apply(lambda emb: json.dumps(emb.tolist()))\n",
    "    df_test.to_csv(test_path, index=False)\n",
    "\n",
    "df_train = pd.read_csv(train_path)\n",
    "df_test = pd.read_csv(test_path)\n",
    "\n",
    "df_train[\"embeddings\"] = df_train.embeddings.apply(literal_eval).apply(np.array)\n",
    "df_test[\"embeddings\"] = df_test.embeddings.apply(literal_eval).apply(np.array)\n",
    "\n",
    "df_train['intent'] = df_train['intent'].astype('category')\n",
    "df_test['intent'] = df_test['intent'].astype('category')\n",
    "\n",
    "df_train.head()"
   ]
  },
  {
   "cell_type": "code",
   "execution_count": 16,
   "id": "019126a9-72ba-4f89-a524-b448cba98200",
   "metadata": {
    "ExecuteTime": {
     "end_time": "2024-09-29T15:19:11.929641Z",
     "start_time": "2024-09-29T15:19:11.914059Z"
    }
   },
   "outputs": [
    {
     "data": {
      "text/html": [
       "<pre style=\"white-space:pre;overflow-x:auto;line-height:normal;font-family:Menlo,'DejaVu Sans Mono',consolas,'Courier New',monospace\"><span style=\"font-weight: bold\">Model: \"functional\"</span>\n",
       "</pre>\n"
      ],
      "text/plain": [
       "\u001b[1mModel: \"functional\"\u001b[0m\n"
      ]
     },
     "metadata": {},
     "output_type": "display_data"
    },
    {
     "data": {
      "text/html": [
       "<pre style=\"white-space:pre;overflow-x:auto;line-height:normal;font-family:Menlo,'DejaVu Sans Mono',consolas,'Courier New',monospace\">┏━━━━━━━━━━━━━━━━━━━━━━━━━━━━━━━━━┳━━━━━━━━━━━━━━━━━━━━━━━━┳━━━━━━━━━━━━━━━┓\n",
       "┃<span style=\"font-weight: bold\"> Layer (type)                    </span>┃<span style=\"font-weight: bold\"> Output Shape           </span>┃<span style=\"font-weight: bold\">       Param # </span>┃\n",
       "┡━━━━━━━━━━━━━━━━━━━━━━━━━━━━━━━━━╇━━━━━━━━━━━━━━━━━━━━━━━━╇━━━━━━━━━━━━━━━┩\n",
       "│ input_layer (<span style=\"color: #0087ff; text-decoration-color: #0087ff\">InputLayer</span>)        │ (<span style=\"color: #00d7ff; text-decoration-color: #00d7ff\">None</span>, <span style=\"color: #00af00; text-decoration-color: #00af00\">1024</span>)           │             <span style=\"color: #00af00; text-decoration-color: #00af00\">0</span> │\n",
       "├─────────────────────────────────┼────────────────────────┼───────────────┤\n",
       "│ dense (<span style=\"color: #0087ff; text-decoration-color: #0087ff\">Dense</span>)                   │ (<span style=\"color: #00d7ff; text-decoration-color: #00d7ff\">None</span>, <span style=\"color: #00af00; text-decoration-color: #00af00\">128</span>)            │       <span style=\"color: #00af00; text-decoration-color: #00af00\">131,200</span> │\n",
       "├─────────────────────────────────┼────────────────────────┼───────────────┤\n",
       "│ dense_1 (<span style=\"color: #0087ff; text-decoration-color: #0087ff\">Dense</span>)                 │ (<span style=\"color: #00d7ff; text-decoration-color: #00d7ff\">None</span>, <span style=\"color: #00af00; text-decoration-color: #00af00\">10</span>)             │         <span style=\"color: #00af00; text-decoration-color: #00af00\">1,290</span> │\n",
       "└─────────────────────────────────┴────────────────────────┴───────────────┘\n",
       "</pre>\n"
      ],
      "text/plain": [
       "┏━━━━━━━━━━━━━━━━━━━━━━━━━━━━━━━━━┳━━━━━━━━━━━━━━━━━━━━━━━━┳━━━━━━━━━━━━━━━┓\n",
       "┃\u001b[1m \u001b[0m\u001b[1mLayer (type)                   \u001b[0m\u001b[1m \u001b[0m┃\u001b[1m \u001b[0m\u001b[1mOutput Shape          \u001b[0m\u001b[1m \u001b[0m┃\u001b[1m \u001b[0m\u001b[1m      Param #\u001b[0m\u001b[1m \u001b[0m┃\n",
       "┡━━━━━━━━━━━━━━━━━━━━━━━━━━━━━━━━━╇━━━━━━━━━━━━━━━━━━━━━━━━╇━━━━━━━━━━━━━━━┩\n",
       "│ input_layer (\u001b[38;5;33mInputLayer\u001b[0m)        │ (\u001b[38;5;45mNone\u001b[0m, \u001b[38;5;34m1024\u001b[0m)           │             \u001b[38;5;34m0\u001b[0m │\n",
       "├─────────────────────────────────┼────────────────────────┼───────────────┤\n",
       "│ dense (\u001b[38;5;33mDense\u001b[0m)                   │ (\u001b[38;5;45mNone\u001b[0m, \u001b[38;5;34m128\u001b[0m)            │       \u001b[38;5;34m131,200\u001b[0m │\n",
       "├─────────────────────────────────┼────────────────────────┼───────────────┤\n",
       "│ dense_1 (\u001b[38;5;33mDense\u001b[0m)                 │ (\u001b[38;5;45mNone\u001b[0m, \u001b[38;5;34m10\u001b[0m)             │         \u001b[38;5;34m1,290\u001b[0m │\n",
       "└─────────────────────────────────┴────────────────────────┴───────────────┘\n"
      ]
     },
     "metadata": {},
     "output_type": "display_data"
    },
    {
     "data": {
      "text/html": [
       "<pre style=\"white-space:pre;overflow-x:auto;line-height:normal;font-family:Menlo,'DejaVu Sans Mono',consolas,'Courier New',monospace\"><span style=\"font-weight: bold\"> Total params: </span><span style=\"color: #00af00; text-decoration-color: #00af00\">132,490</span> (517.54 KB)\n",
       "</pre>\n"
      ],
      "text/plain": [
       "\u001b[1m Total params: \u001b[0m\u001b[38;5;34m132,490\u001b[0m (517.54 KB)\n"
      ]
     },
     "metadata": {},
     "output_type": "display_data"
    },
    {
     "data": {
      "text/html": [
       "<pre style=\"white-space:pre;overflow-x:auto;line-height:normal;font-family:Menlo,'DejaVu Sans Mono',consolas,'Courier New',monospace\"><span style=\"font-weight: bold\"> Trainable params: </span><span style=\"color: #00af00; text-decoration-color: #00af00\">132,490</span> (517.54 KB)\n",
       "</pre>\n"
      ],
      "text/plain": [
       "\u001b[1m Trainable params: \u001b[0m\u001b[38;5;34m132,490\u001b[0m (517.54 KB)\n"
      ]
     },
     "metadata": {},
     "output_type": "display_data"
    },
    {
     "data": {
      "text/html": [
       "<pre style=\"white-space:pre;overflow-x:auto;line-height:normal;font-family:Menlo,'DejaVu Sans Mono',consolas,'Courier New',monospace\"><span style=\"font-weight: bold\"> Non-trainable params: </span><span style=\"color: #00af00; text-decoration-color: #00af00\">0</span> (0.00 B)\n",
       "</pre>\n"
      ],
      "text/plain": [
       "\u001b[1m Non-trainable params: \u001b[0m\u001b[38;5;34m0\u001b[0m (0.00 B)\n"
      ]
     },
     "metadata": {},
     "output_type": "display_data"
    }
   ],
   "source": [
    "def build_and_compile_nn_classification_model(input_size: int, num_classes: int) -> models.Model:\n",
    "    inputs = layers.Input(shape=(input_size,))\n",
    "    x = layers.Dense(128, activation='relu')(inputs)\n",
    "    x = layers.Dense(num_classes, activation='sigmoid')(x)\n",
    "\n",
    "    model = models.Model(inputs, x)\n",
    "    model.compile(\n",
    "        loss=losses.SparseCategoricalCrossentropy(),\n",
    "        optimizer=optimizers.Adam(learning_rate=0.001),\n",
    "        metrics=['accuracy']\n",
    "    )\n",
    "    return model\n",
    "\n",
    "\n",
    "embedding_size = len(df_train['embeddings'].iloc[0])\n",
    "num_classes = len(df_train['intent'].unique())\n",
    "nn_classifier = build_and_compile_nn_classification_model(embedding_size, num_classes)\n",
    "nn_classifier.summary()"
   ]
  },
  {
   "cell_type": "code",
   "execution_count": 17,
   "id": "ee5ed243-f78a-4aac-967a-0bd995304bcd",
   "metadata": {
    "ExecuteTime": {
     "end_time": "2024-09-29T15:19:46.638296Z",
     "start_time": "2024-09-29T15:19:45.721571Z"
    }
   },
   "outputs": [
    {
     "name": "stdout",
     "output_type": "stream",
     "text": [
      "Neural Network Training Time: 3.7461 seconds\n"
     ]
    }
   ],
   "source": [
    "# Train the neural network classifier\n",
    "\n",
    "x_train = np.stack(df_train['embeddings'])\n",
    "y_train = df_train['intent_encoded']\n",
    "\n",
    "x_val = np.stack(df_test['embeddings'])\n",
    "y_val = df_test['intent_encoded']\n",
    "\n",
    "start_time = time.time()\n",
    "callback = callbacks.EarlyStopping(monitor='accuracy', patience=3)\n",
    "history = nn_classifier.fit(\n",
    "    x=x_train,\n",
    "    y=y_train,\n",
    "    validation_data=(x_val, y_val),\n",
    "    batch_size=32,\n",
    "    epochs=20,\n",
    "    callbacks=[callback],\n",
    "    verbose=0\n",
    ")\n",
    "training_time_nn = time.time() - start_time\n",
    "print(f\"Neural Network Training Time: {training_time_nn:.4f} seconds\")"
   ]
  },
  {
   "cell_type": "code",
   "execution_count": 18,
   "id": "42e1673a-60bd-4f2f-89ec-a1c6c5c7a4f6",
   "metadata": {
    "ExecuteTime": {
     "end_time": "2024-09-29T15:23:45.033515Z",
     "start_time": "2024-09-29T15:23:45.003256Z"
    }
   },
   "outputs": [
    {
     "name": "stdout",
     "output_type": "stream",
     "text": [
      "\u001b[1m5/5\u001b[0m \u001b[32m━━━━━━━━━━━━━━━━━━━━\u001b[0m\u001b[37m\u001b[0m \u001b[1m0s\u001b[0m 7ms/step - accuracy: 0.8704 - loss: 0.6369 \n"
     ]
    },
    {
     "data": {
      "text/plain": [
       "{'accuracy': 0.8702290058135986, 'loss': 0.660179615020752}"
      ]
     },
     "execution_count": 18,
     "metadata": {},
     "output_type": "execute_result"
    }
   ],
   "source": [
    "# Evaluate model performance\n",
    "nn_classifier.evaluate(x=x_val, y=y_val, return_dict=True)"
   ]
  },
  {
   "cell_type": "code",
   "execution_count": 19,
   "id": "e080c656-84ef-4f48-b54e-5e24f4b2a43e",
   "metadata": {
    "ExecuteTime": {
     "end_time": "2024-09-29T15:20:12.799881Z",
     "start_time": "2024-09-29T15:20:12.741842Z"
    }
   },
   "outputs": [
    {
     "name": "stdout",
     "output_type": "stream",
     "text": [
      "\u001b[1m5/5\u001b[0m \u001b[32m━━━━━━━━━━━━━━━━━━━━\u001b[0m\u001b[37m\u001b[0m \u001b[1m0s\u001b[0m 14ms/step\n",
      "Neural Network Classifier:\n",
      "Accuracy: 0.8702\n",
      "Classification Report:\n",
      "              precision    recall  f1-score   support\n",
      "\n",
      "           0       0.76      1.00      0.87        13\n",
      "           1       0.92      0.85      0.88        13\n",
      "           2       0.55      0.46      0.50        13\n",
      "           3       0.73      0.62      0.67        13\n",
      "           4       1.00      1.00      1.00        13\n",
      "           5       0.93      1.00      0.96        13\n",
      "           6       0.88      1.00      0.93        14\n",
      "           7       1.00      1.00      1.00        13\n",
      "           8       1.00      1.00      1.00        13\n",
      "           9       0.91      0.77      0.83        13\n",
      "\n",
      "    accuracy                           0.87       131\n",
      "   macro avg       0.87      0.87      0.86       131\n",
      "weighted avg       0.87      0.87      0.86       131\n",
      "\n"
     ]
    }
   ],
   "source": [
    "# Evaluate the model's performance using scikit-learn's classification report and accuracy score\n",
    "\n",
    "# Predict the class probabilities on the validation set\n",
    "y_pred_probs = nn_classifier.predict(x_val)\n",
    "\n",
    "# Use np.argmax to convert the predicted probabilities to class labels (for multi-class classification)\n",
    "y_pred = np.argmax(y_pred_probs, axis=1)\n",
    "\n",
    "accuracy_nn = accuracy_score(y_val, y_pred)\n",
    "report_nn = classification_report(y_val, y_pred)\n",
    "\n",
    "print(\"Neural Network Classifier:\")\n",
    "print(f\"Accuracy: {accuracy_nn:.4f}\")\n",
    "print(\"Classification Report:\")\n",
    "print(report_nn)"
   ]
  },
  {
   "cell_type": "code",
   "execution_count": 20,
   "id": "19cd4e3d-b8d0-4d92-a7ec-888d48dc98fe",
   "metadata": {
    "ExecuteTime": {
     "end_time": "2024-09-29T15:26:11.686128Z",
     "start_time": "2024-09-29T15:26:10.900172Z"
    }
   },
   "outputs": [
    {
     "name": "stdout",
     "output_type": "stream",
     "text": [
      "Random Forest Training Time: 1.5618 seconds\n",
      "Accuracy: 0.8702\n",
      "              precision    recall  f1-score   support\n",
      "\n",
      "           0       0.75      0.92      0.83        13\n",
      "           1       0.91      0.77      0.83        13\n",
      "           2       0.62      0.62      0.62        13\n",
      "           3       0.80      0.62      0.70        13\n",
      "           4       1.00      1.00      1.00        13\n",
      "           5       0.87      1.00      0.93        13\n",
      "           6       0.88      1.00      0.93        14\n",
      "           7       1.00      1.00      1.00        13\n",
      "           8       1.00      1.00      1.00        13\n",
      "           9       0.91      0.77      0.83        13\n",
      "\n",
      "    accuracy                           0.87       131\n",
      "   macro avg       0.87      0.87      0.87       131\n",
      "weighted avg       0.87      0.87      0.87       131\n",
      "\n"
     ]
    }
   ],
   "source": [
    "# Random forest classifier\n",
    "\n",
    "# Set up the training and testing data\n",
    "X_train = df_train[\"embeddings\"].to_list()  # Embeddings as input features\n",
    "y_train = df_train[\"intent_encoded\"].values  # Encoded label as target\n",
    "\n",
    "X_test = df_test[\"embeddings\"].to_list()  # Test embeddings as input features\n",
    "y_test = df_test[\"intent_encoded\"].values  # Test encoded labels as target\n",
    "\n",
    "# Train Random Forest Classifier\n",
    "rf_classifier = RandomForestClassifier(n_estimators=100, random_state=42)\n",
    "\n",
    "start_time = time.time()\n",
    "rf_classifier.fit(X_train, y_train)\n",
    "training_time_rf = time.time() - start_time\n",
    "print(f\"Random Forest Training Time: {training_time_rf:.4f} seconds\")\n",
    "\n",
    "# Generate and print classification report\n",
    "predictions = rf_classifier.predict(X_test)\n",
    "accuracy_rf = accuracy_score(y_test, predictions)\n",
    "report_rf = classification_report(y_test, predictions)\n",
    "\n",
    "print(f\"Accuracy: {accuracy_rf:.4f}\")\n",
    "print(report_rf)"
   ]
  },
  {
   "cell_type": "code",
   "execution_count": 21,
   "id": "266ce414-9083-4bab-9c83-ad5d3ffae6a3",
   "metadata": {
    "ExecuteTime": {
     "end_time": "2024-09-29T15:43:13.900191Z",
     "start_time": "2024-09-29T15:43:13.893179Z"
    }
   },
   "outputs": [
    {
     "name": "stdout",
     "output_type": "stream",
     "text": [
      "Calculation Time: 0.0102 seconds\n",
      "Centroid for class Appointment Scheduling: [ 0.07923799 -0.0905649   0.06176326 ...  0.00396238 -0.04266151\n",
      "  0.01572825]\n",
      "Centroid for class Follow-up Calls and Care Management: [ 0.07604393 -0.09897032  0.05587162 ...  0.00363681 -0.04092639\n",
      "  0.0239544 ]\n",
      "Centroid for class General Inquiries: [ 0.07481919 -0.10421791  0.05958419 ...  0.00064528 -0.04272183\n",
      "  0.01672489]\n",
      "Centroid for class Healthcare Facility Information: [ 0.0745993  -0.10853212  0.06290775 ...  0.00072947 -0.04138453\n",
      "  0.01642577]\n",
      "Centroid for class Insurance and Billing Inquiries: [ 0.05456324 -0.08028025  0.04291892 ...  0.00078011 -0.04024098\n",
      "  0.01736597]\n",
      "Centroid for class Lab and Test Results: [ 0.07288429 -0.09751504  0.05158934 ... -0.0019883  -0.03356001\n",
      "  0.02247676]\n",
      "Centroid for class Medical Advice or Symptom Assessment: [ 0.06783654 -0.10146854  0.04876916 ...  0.00821037 -0.04468104\n",
      "  0.00635389]\n",
      "Centroid for class Medical Records Requests: [ 0.07963754 -0.10953711  0.06198188 ... -0.01163592 -0.05064884\n",
      "  0.02623447]\n",
      "Centroid for class Medication Refills and Prescription Inquiries: [ 0.05999391 -0.06505362  0.04690147 ... -0.00110336 -0.04762387\n",
      "  0.01820984]\n",
      "Centroid for class Referrals and Specialist Appointments: [ 0.07533137 -0.09636801  0.05195144 ...  0.00165374 -0.03680696\n",
      "  0.0187048 ]\n"
     ]
    },
    {
     "name": "stderr",
     "output_type": "stream",
     "text": [
      "/var/folders/fg/4670bf9x6q35chxf5pks3th00000gn/T/ipykernel_16397/4022202418.py:7: FutureWarning: The default of observed=False is deprecated and will be changed to True in a future version of pandas. Pass observed=False to retain current behavior or observed=True to adopt the future default and silence this warning.\n",
      "  for class_name, group in df.groupby('intent'):\n"
     ]
    }
   ],
   "source": [
    "def calculate_centroids(df):\n",
    "    \"\"\"\n",
    "    Calculates the centroid (mean embedding) for each class in the DataFrame.\n",
    "    Returns a dictionary mapping class names to their centroid embeddings.\n",
    "    \"\"\"\n",
    "    centroids = {}\n",
    "    for class_name, group in df.groupby('intent'):\n",
    "        embeddings = np.stack(group['embeddings'].values)\n",
    "        centroid = np.mean(embeddings, axis=0)\n",
    "        centroids[class_name] = centroid\n",
    "    return centroids\n",
    "\n",
    "\n",
    "# Calculate centroids from the training data\n",
    "start_time = time.time()\n",
    "centroids = calculate_centroids(df_train)\n",
    "centroid_calculation_time = time.time() - start_time\n",
    "print(f\"Calculation Time: {centroid_calculation_time:.4f} seconds\")\n",
    "\n",
    "# Print centroids for each category\n",
    "for class_name, centroid in centroids.items():\n",
    "    print(f\"Centroid for class {class_name}: {centroid}\")"
   ]
  },
  {
   "cell_type": "code",
   "execution_count": 23,
   "id": "5fc2e4ea-0b94-4e06-a27d-4401d2aa956d",
   "metadata": {
    "ExecuteTime": {
     "end_time": "2024-09-29T15:43:17.332709Z",
     "start_time": "2024-09-29T15:43:17.300592Z"
    }
   },
   "outputs": [
    {
     "name": "stdout",
     "output_type": "stream",
     "text": [
      "Centroid-Based Classifier:\n",
      "Prediction Time: 0.0786 seconds\n",
      "Accuracy: 0.8702\n",
      "Classification Report:\n",
      "                                               precision    recall  f1-score   support\n",
      "\n",
      "                       Appointment Scheduling       0.86      0.92      0.89        13\n",
      "          Follow-up Calls and Care Management       0.85      0.85      0.85        13\n",
      "                            General Inquiries       0.64      0.54      0.58        13\n",
      "              Healthcare Facility Information       0.75      0.69      0.72        13\n",
      "              Insurance and Billing Inquiries       1.00      1.00      1.00        13\n",
      "                         Lab and Test Results       0.93      1.00      0.96        13\n",
      "         Medical Advice or Symptom Assessment       0.87      0.93      0.90        14\n",
      "                     Medical Records Requests       1.00      1.00      1.00        13\n",
      "Medication Refills and Prescription Inquiries       1.00      1.00      1.00        13\n",
      "        Referrals and Specialist Appointments       0.77      0.77      0.77        13\n",
      "\n",
      "                                     accuracy                           0.87       131\n",
      "                                    macro avg       0.87      0.87      0.87       131\n",
      "                                 weighted avg       0.87      0.87      0.87       131\n",
      "\n"
     ]
    }
   ],
   "source": [
    "from sklearn.metrics.pairwise import cosine_similarity\n",
    "\n",
    "def predict_centroid(X_test, centroids):\n",
    "    \"\"\"\n",
    "    Predicts classes for test samples using centroid-based classification.\n",
    "\n",
    "    Args:\n",
    "        X_test (np.array): Test embeddings.\n",
    "        centroids (dict): Class centroids.\n",
    "\n",
    "    Returns:\n",
    "        np.array: Predicted class indices.\n",
    "    \"\"\"\n",
    "    centroid_matrix = np.vstack(list(centroids.values()))\n",
    "    predictions = []\n",
    "\n",
    "    for embedding in X_test:\n",
    "        embedding = embedding.reshape(1, -1)\n",
    "        similarities = cosine_similarity(embedding, centroid_matrix)[0]\n",
    "        best_index = np.argmax(similarities)\n",
    "        predictions.append(best_index)\n",
    "\n",
    "    return np.array(predictions)\n",
    "\n",
    "\n",
    "start_time = time.time()\n",
    "y_pred_centroid_indices = predict_centroid(X_test, centroids)\n",
    "prediction_time_centroid = time.time() - start_time\n",
    "\n",
    "class_names_list = list(centroids.keys())\n",
    "predicted_class_names = [class_names_list[idx] for idx in y_pred_centroid_indices]\n",
    "predicted_encoded_labels = [df_test['intent'].cat.categories.get_loc(name) for name in predicted_class_names]\n",
    "\n",
    "# Compute evaluation metrics\n",
    "accuracy_centroid = accuracy_score(y_test, predicted_encoded_labels)\n",
    "report_centroid = classification_report(y_test, predicted_encoded_labels, target_names=df_test['intent'].cat.categories)\n",
    "\n",
    "print(\"Centroid-Based Classifier:\")\n",
    "print(f\"Prediction Time: {prediction_time_centroid:.4f} seconds\")\n",
    "print(f\"Accuracy: {accuracy_centroid:.4f}\")\n",
    "print(\"Classification Report:\")\n",
    "print(report_centroid)"
   ]
  },
  {
   "cell_type": "code",
   "execution_count": 24,
   "id": "77cd83cc-c968-4685-942c-c9c072a8e8be",
   "metadata": {
    "ExecuteTime": {
     "end_time": "2024-09-29T15:43:20.036757Z",
     "start_time": "2024-09-29T15:43:20.030493Z"
    }
   },
   "outputs": [],
   "source": [
    "test_data = validation_df[['cleaned_text', 'intent_encoded', 'intent']].to_dict(orient='records')\n",
    "\n",
    "class_name_mapping = df_train['intent'].cat.categories\n",
    "\n",
    "\n",
    "def predict_class_name_centroid(text, centroids, model):\n",
    "    \"\"\" Classifies a sentence based on the closest centroid.\"\"\"\n",
    "    embedding = embed_text(text, model)\n",
    "\n",
    "    # Stack centroids into a matrix\n",
    "    centroid_matrix = np.vstack(list(centroids.values()))\n",
    "    class_names = list(centroids.keys())\n",
    "\n",
    "    # Calculate cosine similarity between the embedding and all centroids\n",
    "    embedding = embedding.reshape(1, -1)  # Reshape embedding to (1, embedding_dim) for matrix multiplication\n",
    "    similarities = cosine_similarity(embedding, centroid_matrix)[0]  # Get similarities for all centroids\n",
    "\n",
    "    # Find the index of the centroid with the highest similarity\n",
    "    best_index = np.argmax(similarities)\n",
    "\n",
    "    # Get the predicted class name\n",
    "    predicted_class = class_names[best_index]\n",
    "    return predicted_class\n",
    "    \n",
    "def predict_class_name_nn(text, model, classifier):\n",
    "    embedding = embed_text(text, model)\n",
    "    predicted_output = classifier.predict(embedding.reshape(1, -1))\n",
    "    predicted_class = np.argmax(predicted_output, axis=1)\n",
    "    predicted_class_name = class_name_mapping[predicted_class[0]]\n",
    "    return predicted_class_name\n",
    "\n",
    "\n",
    "def predict_class_name_rf(text, model, classifier):\n",
    "    embedding = embed_text(text, model)\n",
    "    predicted_class = classifier.predict(embedding.reshape(1, -1))\n",
    "    predicted_class_name = class_name_mapping[predicted_class[0]]\n",
    "    return predicted_class_name\n"
   ]
  },
  {
   "cell_type": "code",
   "execution_count": 25,
   "id": "eb9f5994c120e928",
   "metadata": {
    "ExecuteTime": {
     "end_time": "2024-09-29T15:52:09.456717Z",
     "start_time": "2024-09-29T15:43:21.074246Z"
    }
   },
   "outputs": [
    {
     "name": "stdout",
     "output_type": "stream",
     "text": [
      "\u001b[1m1/1\u001b[0m \u001b[32m━━━━━━━━━━━━━━━━━━━━\u001b[0m\u001b[37m\u001b[0m \u001b[1m0s\u001b[0m 110ms/step\n",
      "\u001b[1m1/1\u001b[0m \u001b[32m━━━━━━━━━━━━━━━━━━━━\u001b[0m\u001b[37m\u001b[0m \u001b[1m0s\u001b[0m 48ms/step\n",
      "\u001b[1m1/1\u001b[0m \u001b[32m━━━━━━━━━━━━━━━━━━━━\u001b[0m\u001b[37m\u001b[0m \u001b[1m0s\u001b[0m 38ms/step\n",
      "\u001b[1m1/1\u001b[0m \u001b[32m━━━━━━━━━━━━━━━━━━━━\u001b[0m\u001b[37m\u001b[0m \u001b[1m0s\u001b[0m 41ms/step\n",
      "\u001b[1m1/1\u001b[0m \u001b[32m━━━━━━━━━━━━━━━━━━━━\u001b[0m\u001b[37m\u001b[0m \u001b[1m0s\u001b[0m 42ms/step\n",
      "\u001b[1m1/1\u001b[0m \u001b[32m━━━━━━━━━━━━━━━━━━━━\u001b[0m\u001b[37m\u001b[0m \u001b[1m0s\u001b[0m 55ms/step\n",
      "\u001b[1m1/1\u001b[0m \u001b[32m━━━━━━━━━━━━━━━━━━━━\u001b[0m\u001b[37m\u001b[0m \u001b[1m0s\u001b[0m 40ms/step\n",
      "\u001b[1m1/1\u001b[0m \u001b[32m━━━━━━━━━━━━━━━━━━━━\u001b[0m\u001b[37m\u001b[0m \u001b[1m0s\u001b[0m 38ms/step\n",
      "\u001b[1m1/1\u001b[0m \u001b[32m━━━━━━━━━━━━━━━━━━━━\u001b[0m\u001b[37m\u001b[0m \u001b[1m0s\u001b[0m 39ms/step\n",
      "\u001b[1m1/1\u001b[0m \u001b[32m━━━━━━━━━━━━━━━━━━━━\u001b[0m\u001b[37m\u001b[0m \u001b[1m0s\u001b[0m 40ms/step\n",
      "\u001b[1m1/1\u001b[0m \u001b[32m━━━━━━━━━━━━━━━━━━━━\u001b[0m\u001b[37m\u001b[0m \u001b[1m0s\u001b[0m 43ms/step\n",
      "\u001b[1m1/1\u001b[0m \u001b[32m━━━━━━━━━━━━━━━━━━━━\u001b[0m\u001b[37m\u001b[0m \u001b[1m0s\u001b[0m 68ms/step\n",
      "\u001b[1m1/1\u001b[0m \u001b[32m━━━━━━━━━━━━━━━━━━━━\u001b[0m\u001b[37m\u001b[0m \u001b[1m0s\u001b[0m 45ms/step\n",
      "\u001b[1m1/1\u001b[0m \u001b[32m━━━━━━━━━━━━━━━━━━━━\u001b[0m\u001b[37m\u001b[0m \u001b[1m0s\u001b[0m 41ms/step\n",
      "\u001b[1m1/1\u001b[0m \u001b[32m━━━━━━━━━━━━━━━━━━━━\u001b[0m\u001b[37m\u001b[0m \u001b[1m0s\u001b[0m 42ms/step\n",
      "\u001b[1m1/1\u001b[0m \u001b[32m━━━━━━━━━━━━━━━━━━━━\u001b[0m\u001b[37m\u001b[0m \u001b[1m0s\u001b[0m 48ms/step\n",
      "\u001b[1m1/1\u001b[0m \u001b[32m━━━━━━━━━━━━━━━━━━━━\u001b[0m\u001b[37m\u001b[0m \u001b[1m0s\u001b[0m 41ms/step\n",
      "\u001b[1m1/1\u001b[0m \u001b[32m━━━━━━━━━━━━━━━━━━━━\u001b[0m\u001b[37m\u001b[0m \u001b[1m0s\u001b[0m 45ms/step\n",
      "\u001b[1m1/1\u001b[0m \u001b[32m━━━━━━━━━━━━━━━━━━━━\u001b[0m\u001b[37m\u001b[0m \u001b[1m0s\u001b[0m 44ms/step\n",
      "\u001b[1m1/1\u001b[0m \u001b[32m━━━━━━━━━━━━━━━━━━━━\u001b[0m\u001b[37m\u001b[0m \u001b[1m0s\u001b[0m 41ms/step\n",
      "\u001b[1m1/1\u001b[0m \u001b[32m━━━━━━━━━━━━━━━━━━━━\u001b[0m\u001b[37m\u001b[0m \u001b[1m0s\u001b[0m 47ms/step\n",
      "\u001b[1m1/1\u001b[0m \u001b[32m━━━━━━━━━━━━━━━━━━━━\u001b[0m\u001b[37m\u001b[0m \u001b[1m0s\u001b[0m 45ms/step\n",
      "\u001b[1m1/1\u001b[0m \u001b[32m━━━━━━━━━━━━━━━━━━━━\u001b[0m\u001b[37m\u001b[0m \u001b[1m0s\u001b[0m 42ms/step\n",
      "\u001b[1m1/1\u001b[0m \u001b[32m━━━━━━━━━━━━━━━━━━━━\u001b[0m\u001b[37m\u001b[0m \u001b[1m0s\u001b[0m 41ms/step\n",
      "\u001b[1m1/1\u001b[0m \u001b[32m━━━━━━━━━━━━━━━━━━━━\u001b[0m\u001b[37m\u001b[0m \u001b[1m0s\u001b[0m 74ms/step\n",
      "\u001b[1m1/1\u001b[0m \u001b[32m━━━━━━━━━━━━━━━━━━━━\u001b[0m\u001b[37m\u001b[0m \u001b[1m0s\u001b[0m 94ms/step\n",
      "\u001b[1m1/1\u001b[0m \u001b[32m━━━━━━━━━━━━━━━━━━━━\u001b[0m\u001b[37m\u001b[0m \u001b[1m0s\u001b[0m 46ms/step\n",
      "\u001b[1m1/1\u001b[0m \u001b[32m━━━━━━━━━━━━━━━━━━━━\u001b[0m\u001b[37m\u001b[0m \u001b[1m0s\u001b[0m 42ms/step\n",
      "\u001b[1m1/1\u001b[0m \u001b[32m━━━━━━━━━━━━━━━━━━━━\u001b[0m\u001b[37m\u001b[0m \u001b[1m0s\u001b[0m 45ms/step\n",
      "\u001b[1m1/1\u001b[0m \u001b[32m━━━━━━━━━━━━━━━━━━━━\u001b[0m\u001b[37m\u001b[0m \u001b[1m0s\u001b[0m 43ms/step\n",
      "\u001b[1m1/1\u001b[0m \u001b[32m━━━━━━━━━━━━━━━━━━━━\u001b[0m\u001b[37m\u001b[0m \u001b[1m0s\u001b[0m 44ms/step\n",
      "\u001b[1m1/1\u001b[0m \u001b[32m━━━━━━━━━━━━━━━━━━━━\u001b[0m\u001b[37m\u001b[0m \u001b[1m0s\u001b[0m 49ms/step\n",
      "\u001b[1m1/1\u001b[0m \u001b[32m━━━━━━━━━━━━━━━━━━━━\u001b[0m\u001b[37m\u001b[0m \u001b[1m0s\u001b[0m 41ms/step\n",
      "\u001b[1m1/1\u001b[0m \u001b[32m━━━━━━━━━━━━━━━━━━━━\u001b[0m\u001b[37m\u001b[0m \u001b[1m0s\u001b[0m 42ms/step\n",
      "\u001b[1m1/1\u001b[0m \u001b[32m━━━━━━━━━━━━━━━━━━━━\u001b[0m\u001b[37m\u001b[0m \u001b[1m0s\u001b[0m 46ms/step\n",
      "\u001b[1m1/1\u001b[0m \u001b[32m━━━━━━━━━━━━━━━━━━━━\u001b[0m\u001b[37m\u001b[0m \u001b[1m0s\u001b[0m 49ms/step\n",
      "\u001b[1m1/1\u001b[0m \u001b[32m━━━━━━━━━━━━━━━━━━━━\u001b[0m\u001b[37m\u001b[0m \u001b[1m0s\u001b[0m 59ms/step\n",
      "\u001b[1m1/1\u001b[0m \u001b[32m━━━━━━━━━━━━━━━━━━━━\u001b[0m\u001b[37m\u001b[0m \u001b[1m0s\u001b[0m 90ms/step\n",
      "\u001b[1m1/1\u001b[0m \u001b[32m━━━━━━━━━━━━━━━━━━━━\u001b[0m\u001b[37m\u001b[0m \u001b[1m0s\u001b[0m 90ms/step\n",
      "\u001b[1m1/1\u001b[0m \u001b[32m━━━━━━━━━━━━━━━━━━━━\u001b[0m\u001b[37m\u001b[0m \u001b[1m0s\u001b[0m 82ms/step\n",
      "\u001b[1m1/1\u001b[0m \u001b[32m━━━━━━━━━━━━━━━━━━━━\u001b[0m\u001b[37m\u001b[0m \u001b[1m0s\u001b[0m 60ms/step\n",
      "\u001b[1m1/1\u001b[0m \u001b[32m━━━━━━━━━━━━━━━━━━━━\u001b[0m\u001b[37m\u001b[0m \u001b[1m0s\u001b[0m 50ms/step\n",
      "\u001b[1m1/1\u001b[0m \u001b[32m━━━━━━━━━━━━━━━━━━━━\u001b[0m\u001b[37m\u001b[0m \u001b[1m0s\u001b[0m 43ms/step\n",
      "\u001b[1m1/1\u001b[0m \u001b[32m━━━━━━━━━━━━━━━━━━━━\u001b[0m\u001b[37m\u001b[0m \u001b[1m0s\u001b[0m 38ms/step\n",
      "\u001b[1m1/1\u001b[0m \u001b[32m━━━━━━━━━━━━━━━━━━━━\u001b[0m\u001b[37m\u001b[0m \u001b[1m0s\u001b[0m 39ms/step\n",
      "\u001b[1m1/1\u001b[0m \u001b[32m━━━━━━━━━━━━━━━━━━━━\u001b[0m\u001b[37m\u001b[0m \u001b[1m0s\u001b[0m 39ms/step\n",
      "\u001b[1m1/1\u001b[0m \u001b[32m━━━━━━━━━━━━━━━━━━━━\u001b[0m\u001b[37m\u001b[0m \u001b[1m0s\u001b[0m 36ms/step\n",
      "\u001b[1m1/1\u001b[0m \u001b[32m━━━━━━━━━━━━━━━━━━━━\u001b[0m\u001b[37m\u001b[0m \u001b[1m0s\u001b[0m 37ms/step\n",
      "\u001b[1m1/1\u001b[0m \u001b[32m━━━━━━━━━━━━━━━━━━━━\u001b[0m\u001b[37m\u001b[0m \u001b[1m0s\u001b[0m 389ms/step\n",
      "\u001b[1m1/1\u001b[0m \u001b[32m━━━━━━━━━━━━━━━━━━━━\u001b[0m\u001b[37m\u001b[0m \u001b[1m0s\u001b[0m 45ms/step\n",
      "\u001b[1m1/1\u001b[0m \u001b[32m━━━━━━━━━━━━━━━━━━━━\u001b[0m\u001b[37m\u001b[0m \u001b[1m0s\u001b[0m 41ms/step\n",
      "\u001b[1m1/1\u001b[0m \u001b[32m━━━━━━━━━━━━━━━━━━━━\u001b[0m\u001b[37m\u001b[0m \u001b[1m0s\u001b[0m 37ms/step\n",
      "\u001b[1m1/1\u001b[0m \u001b[32m━━━━━━━━━━━━━━━━━━━━\u001b[0m\u001b[37m\u001b[0m \u001b[1m0s\u001b[0m 130ms/step\n",
      "\u001b[1m1/1\u001b[0m \u001b[32m━━━━━━━━━━━━━━━━━━━━\u001b[0m\u001b[37m\u001b[0m \u001b[1m0s\u001b[0m 42ms/step\n",
      "\u001b[1m1/1\u001b[0m \u001b[32m━━━━━━━━━━━━━━━━━━━━\u001b[0m\u001b[37m\u001b[0m \u001b[1m0s\u001b[0m 44ms/step\n",
      "\u001b[1m1/1\u001b[0m \u001b[32m━━━━━━━━━━━━━━━━━━━━\u001b[0m\u001b[37m\u001b[0m \u001b[1m0s\u001b[0m 43ms/step\n",
      "\u001b[1m1/1\u001b[0m \u001b[32m━━━━━━━━━━━━━━━━━━━━\u001b[0m\u001b[37m\u001b[0m \u001b[1m0s\u001b[0m 48ms/step\n",
      "\u001b[1m1/1\u001b[0m \u001b[32m━━━━━━━━━━━━━━━━━━━━\u001b[0m\u001b[37m\u001b[0m \u001b[1m0s\u001b[0m 44ms/step\n",
      "\u001b[1m1/1\u001b[0m \u001b[32m━━━━━━━━━━━━━━━━━━━━\u001b[0m\u001b[37m\u001b[0m \u001b[1m0s\u001b[0m 111ms/step\n",
      "\u001b[1m1/1\u001b[0m \u001b[32m━━━━━━━━━━━━━━━━━━━━\u001b[0m\u001b[37m\u001b[0m \u001b[1m0s\u001b[0m 51ms/step\n",
      "\u001b[1m1/1\u001b[0m \u001b[32m━━━━━━━━━━━━━━━━━━━━\u001b[0m\u001b[37m\u001b[0m \u001b[1m0s\u001b[0m 46ms/step\n",
      "\u001b[1m1/1\u001b[0m \u001b[32m━━━━━━━━━━━━━━━━━━━━\u001b[0m\u001b[37m\u001b[0m \u001b[1m0s\u001b[0m 46ms/step\n",
      "\u001b[1m1/1\u001b[0m \u001b[32m━━━━━━━━━━━━━━━━━━━━\u001b[0m\u001b[37m\u001b[0m \u001b[1m0s\u001b[0m 50ms/step\n",
      "\u001b[1m1/1\u001b[0m \u001b[32m━━━━━━━━━━━━━━━━━━━━\u001b[0m\u001b[37m\u001b[0m \u001b[1m0s\u001b[0m 58ms/step\n",
      "\u001b[1m1/1\u001b[0m \u001b[32m━━━━━━━━━━━━━━━━━━━━\u001b[0m\u001b[37m\u001b[0m \u001b[1m0s\u001b[0m 57ms/step\n",
      "\u001b[1m1/1\u001b[0m \u001b[32m━━━━━━━━━━━━━━━━━━━━\u001b[0m\u001b[37m\u001b[0m \u001b[1m0s\u001b[0m 55ms/step\n",
      "\u001b[1m1/1\u001b[0m \u001b[32m━━━━━━━━━━━━━━━━━━━━\u001b[0m\u001b[37m\u001b[0m \u001b[1m0s\u001b[0m 52ms/step\n",
      "\u001b[1m1/1\u001b[0m \u001b[32m━━━━━━━━━━━━━━━━━━━━\u001b[0m\u001b[37m\u001b[0m \u001b[1m0s\u001b[0m 53ms/step\n",
      "\u001b[1m1/1\u001b[0m \u001b[32m━━━━━━━━━━━━━━━━━━━━\u001b[0m\u001b[37m\u001b[0m \u001b[1m0s\u001b[0m 45ms/step\n",
      "\u001b[1m1/1\u001b[0m \u001b[32m━━━━━━━━━━━━━━━━━━━━\u001b[0m\u001b[37m\u001b[0m \u001b[1m0s\u001b[0m 43ms/step\n",
      "\u001b[1m1/1\u001b[0m \u001b[32m━━━━━━━━━━━━━━━━━━━━\u001b[0m\u001b[37m\u001b[0m \u001b[1m0s\u001b[0m 43ms/step\n",
      "\u001b[1m1/1\u001b[0m \u001b[32m━━━━━━━━━━━━━━━━━━━━\u001b[0m\u001b[37m\u001b[0m \u001b[1m0s\u001b[0m 41ms/step\n",
      "\u001b[1m1/1\u001b[0m \u001b[32m━━━━━━━━━━━━━━━━━━━━\u001b[0m\u001b[37m\u001b[0m \u001b[1m0s\u001b[0m 41ms/step\n",
      "\u001b[1m1/1\u001b[0m \u001b[32m━━━━━━━━━━━━━━━━━━━━\u001b[0m\u001b[37m\u001b[0m \u001b[1m0s\u001b[0m 41ms/step\n",
      "\u001b[1m1/1\u001b[0m \u001b[32m━━━━━━━━━━━━━━━━━━━━\u001b[0m\u001b[37m\u001b[0m \u001b[1m0s\u001b[0m 42ms/step\n",
      "\u001b[1m1/1\u001b[0m \u001b[32m━━━━━━━━━━━━━━━━━━━━\u001b[0m\u001b[37m\u001b[0m \u001b[1m0s\u001b[0m 53ms/step\n",
      "\u001b[1m1/1\u001b[0m \u001b[32m━━━━━━━━━━━━━━━━━━━━\u001b[0m\u001b[37m\u001b[0m \u001b[1m0s\u001b[0m 41ms/step\n",
      "\u001b[1m1/1\u001b[0m \u001b[32m━━━━━━━━━━━━━━━━━━━━\u001b[0m\u001b[37m\u001b[0m \u001b[1m0s\u001b[0m 45ms/step\n",
      "\u001b[1m1/1\u001b[0m \u001b[32m━━━━━━━━━━━━━━━━━━━━\u001b[0m\u001b[37m\u001b[0m \u001b[1m0s\u001b[0m 40ms/step\n",
      "\u001b[1m1/1\u001b[0m \u001b[32m━━━━━━━━━━━━━━━━━━━━\u001b[0m\u001b[37m\u001b[0m \u001b[1m0s\u001b[0m 44ms/step\n",
      "\u001b[1m1/1\u001b[0m \u001b[32m━━━━━━━━━━━━━━━━━━━━\u001b[0m\u001b[37m\u001b[0m \u001b[1m0s\u001b[0m 32ms/step\n",
      "\u001b[1m1/1\u001b[0m \u001b[32m━━━━━━━━━━━━━━━━━━━━\u001b[0m\u001b[37m\u001b[0m \u001b[1m0s\u001b[0m 33ms/step\n",
      "\u001b[1m1/1\u001b[0m \u001b[32m━━━━━━━━━━━━━━━━━━━━\u001b[0m\u001b[37m\u001b[0m \u001b[1m0s\u001b[0m 34ms/step\n",
      "\u001b[1m1/1\u001b[0m \u001b[32m━━━━━━━━━━━━━━━━━━━━\u001b[0m\u001b[37m\u001b[0m \u001b[1m0s\u001b[0m 32ms/step\n",
      "\u001b[1m1/1\u001b[0m \u001b[32m━━━━━━━━━━━━━━━━━━━━\u001b[0m\u001b[37m\u001b[0m \u001b[1m0s\u001b[0m 32ms/step\n",
      "\u001b[1m1/1\u001b[0m \u001b[32m━━━━━━━━━━━━━━━━━━━━\u001b[0m\u001b[37m\u001b[0m \u001b[1m0s\u001b[0m 31ms/step\n",
      "\u001b[1m1/1\u001b[0m \u001b[32m━━━━━━━━━━━━━━━━━━━━\u001b[0m\u001b[37m\u001b[0m \u001b[1m0s\u001b[0m 32ms/step\n",
      "\u001b[1m1/1\u001b[0m \u001b[32m━━━━━━━━━━━━━━━━━━━━\u001b[0m\u001b[37m\u001b[0m \u001b[1m0s\u001b[0m 36ms/step\n",
      "\u001b[1m1/1\u001b[0m \u001b[32m━━━━━━━━━━━━━━━━━━━━\u001b[0m\u001b[37m\u001b[0m \u001b[1m0s\u001b[0m 34ms/step\n",
      "\u001b[1m1/1\u001b[0m \u001b[32m━━━━━━━━━━━━━━━━━━━━\u001b[0m\u001b[37m\u001b[0m \u001b[1m0s\u001b[0m 45ms/step\n",
      "\u001b[1m1/1\u001b[0m \u001b[32m━━━━━━━━━━━━━━━━━━━━\u001b[0m\u001b[37m\u001b[0m \u001b[1m0s\u001b[0m 42ms/step\n",
      "\u001b[1m1/1\u001b[0m \u001b[32m━━━━━━━━━━━━━━━━━━━━\u001b[0m\u001b[37m\u001b[0m \u001b[1m0s\u001b[0m 35ms/step\n",
      "\u001b[1m1/1\u001b[0m \u001b[32m━━━━━━━━━━━━━━━━━━━━\u001b[0m\u001b[37m\u001b[0m \u001b[1m0s\u001b[0m 34ms/step\n",
      "\u001b[1m1/1\u001b[0m \u001b[32m━━━━━━━━━━━━━━━━━━━━\u001b[0m\u001b[37m\u001b[0m \u001b[1m0s\u001b[0m 34ms/step\n",
      "\u001b[1m1/1\u001b[0m \u001b[32m━━━━━━━━━━━━━━━━━━━━\u001b[0m\u001b[37m\u001b[0m \u001b[1m0s\u001b[0m 35ms/step\n",
      "\u001b[1m1/1\u001b[0m \u001b[32m━━━━━━━━━━━━━━━━━━━━\u001b[0m\u001b[37m\u001b[0m \u001b[1m0s\u001b[0m 35ms/step\n",
      "\u001b[1m1/1\u001b[0m \u001b[32m━━━━━━━━━━━━━━━━━━━━\u001b[0m\u001b[37m\u001b[0m \u001b[1m0s\u001b[0m 34ms/step\n",
      "\u001b[1m1/1\u001b[0m \u001b[32m━━━━━━━━━━━━━━━━━━━━\u001b[0m\u001b[37m\u001b[0m \u001b[1m0s\u001b[0m 34ms/step\n",
      "\u001b[1m1/1\u001b[0m \u001b[32m━━━━━━━━━━━━━━━━━━━━\u001b[0m\u001b[37m\u001b[0m \u001b[1m0s\u001b[0m 35ms/step\n",
      "\u001b[1m1/1\u001b[0m \u001b[32m━━━━━━━━━━━━━━━━━━━━\u001b[0m\u001b[37m\u001b[0m \u001b[1m0s\u001b[0m 37ms/step\n",
      "\u001b[1m1/1\u001b[0m \u001b[32m━━━━━━━━━━━━━━━━━━━━\u001b[0m\u001b[37m\u001b[0m \u001b[1m0s\u001b[0m 34ms/step\n",
      "\u001b[1m1/1\u001b[0m \u001b[32m━━━━━━━━━━━━━━━━━━━━\u001b[0m\u001b[37m\u001b[0m \u001b[1m0s\u001b[0m 33ms/step\n",
      "\u001b[1m1/1\u001b[0m \u001b[32m━━━━━━━━━━━━━━━━━━━━\u001b[0m\u001b[37m\u001b[0m \u001b[1m0s\u001b[0m 33ms/step\n",
      "\u001b[1m1/1\u001b[0m \u001b[32m━━━━━━━━━━━━━━━━━━━━\u001b[0m\u001b[37m\u001b[0m \u001b[1m0s\u001b[0m 33ms/step\n",
      "\u001b[1m1/1\u001b[0m \u001b[32m━━━━━━━━━━━━━━━━━━━━\u001b[0m\u001b[37m\u001b[0m \u001b[1m0s\u001b[0m 35ms/step\n",
      "\u001b[1m1/1\u001b[0m \u001b[32m━━━━━━━━━━━━━━━━━━━━\u001b[0m\u001b[37m\u001b[0m \u001b[1m0s\u001b[0m 34ms/step\n",
      "\u001b[1m1/1\u001b[0m \u001b[32m━━━━━━━━━━━━━━━━━━━━\u001b[0m\u001b[37m\u001b[0m \u001b[1m0s\u001b[0m 34ms/step\n",
      "\u001b[1m1/1\u001b[0m \u001b[32m━━━━━━━━━━━━━━━━━━━━\u001b[0m\u001b[37m\u001b[0m \u001b[1m0s\u001b[0m 34ms/step\n",
      "\u001b[1m1/1\u001b[0m \u001b[32m━━━━━━━━━━━━━━━━━━━━\u001b[0m\u001b[37m\u001b[0m \u001b[1m0s\u001b[0m 35ms/step\n",
      "\u001b[1m1/1\u001b[0m \u001b[32m━━━━━━━━━━━━━━━━━━━━\u001b[0m\u001b[37m\u001b[0m \u001b[1m0s\u001b[0m 32ms/step\n",
      "\u001b[1m1/1\u001b[0m \u001b[32m━━━━━━━━━━━━━━━━━━━━\u001b[0m\u001b[37m\u001b[0m \u001b[1m0s\u001b[0m 36ms/step\n",
      "\u001b[1m1/1\u001b[0m \u001b[32m━━━━━━━━━━━━━━━━━━━━\u001b[0m\u001b[37m\u001b[0m \u001b[1m0s\u001b[0m 35ms/step\n",
      "\u001b[1m1/1\u001b[0m \u001b[32m━━━━━━━━━━━━━━━━━━━━\u001b[0m\u001b[37m\u001b[0m \u001b[1m0s\u001b[0m 33ms/step\n",
      "\u001b[1m1/1\u001b[0m \u001b[32m━━━━━━━━━━━━━━━━━━━━\u001b[0m\u001b[37m\u001b[0m \u001b[1m0s\u001b[0m 42ms/step\n",
      "\u001b[1m1/1\u001b[0m \u001b[32m━━━━━━━━━━━━━━━━━━━━\u001b[0m\u001b[37m\u001b[0m \u001b[1m0s\u001b[0m 33ms/step\n",
      "\u001b[1m1/1\u001b[0m \u001b[32m━━━━━━━━━━━━━━━━━━━━\u001b[0m\u001b[37m\u001b[0m \u001b[1m0s\u001b[0m 32ms/step\n",
      "\u001b[1m1/1\u001b[0m \u001b[32m━━━━━━━━━━━━━━━━━━━━\u001b[0m\u001b[37m\u001b[0m \u001b[1m0s\u001b[0m 33ms/step\n",
      "\u001b[1m1/1\u001b[0m \u001b[32m━━━━━━━━━━━━━━━━━━━━\u001b[0m\u001b[37m\u001b[0m \u001b[1m0s\u001b[0m 102ms/step\n",
      "\u001b[1m1/1\u001b[0m \u001b[32m━━━━━━━━━━━━━━━━━━━━\u001b[0m\u001b[37m\u001b[0m \u001b[1m0s\u001b[0m 35ms/step\n",
      "\u001b[1m1/1\u001b[0m \u001b[32m━━━━━━━━━━━━━━━━━━━━\u001b[0m\u001b[37m\u001b[0m \u001b[1m0s\u001b[0m 35ms/step\n",
      "\u001b[1m1/1\u001b[0m \u001b[32m━━━━━━━━━━━━━━━━━━━━\u001b[0m\u001b[37m\u001b[0m \u001b[1m0s\u001b[0m 35ms/step\n",
      "\u001b[1m1/1\u001b[0m \u001b[32m━━━━━━━━━━━━━━━━━━━━\u001b[0m\u001b[37m\u001b[0m \u001b[1m0s\u001b[0m 33ms/step\n",
      "\u001b[1m1/1\u001b[0m \u001b[32m━━━━━━━━━━━━━━━━━━━━\u001b[0m\u001b[37m\u001b[0m \u001b[1m0s\u001b[0m 33ms/step\n",
      "\u001b[1m1/1\u001b[0m \u001b[32m━━━━━━━━━━━━━━━━━━━━\u001b[0m\u001b[37m\u001b[0m \u001b[1m0s\u001b[0m 33ms/step\n",
      "\u001b[1m1/1\u001b[0m \u001b[32m━━━━━━━━━━━━━━━━━━━━\u001b[0m\u001b[37m\u001b[0m \u001b[1m0s\u001b[0m 109ms/step\n",
      "\u001b[1m1/1\u001b[0m \u001b[32m━━━━━━━━━━━━━━━━━━━━\u001b[0m\u001b[37m\u001b[0m \u001b[1m0s\u001b[0m 34ms/step\n",
      "\u001b[1m1/1\u001b[0m \u001b[32m━━━━━━━━━━━━━━━━━━━━\u001b[0m\u001b[37m\u001b[0m \u001b[1m0s\u001b[0m 33ms/step\n",
      "\u001b[1m1/1\u001b[0m \u001b[32m━━━━━━━━━━━━━━━━━━━━\u001b[0m\u001b[37m\u001b[0m \u001b[1m0s\u001b[0m 32ms/step\n",
      "\u001b[1m1/1\u001b[0m \u001b[32m━━━━━━━━━━━━━━━━━━━━\u001b[0m\u001b[37m\u001b[0m \u001b[1m0s\u001b[0m 32ms/step\n",
      "\u001b[1m1/1\u001b[0m \u001b[32m━━━━━━━━━━━━━━━━━━━━\u001b[0m\u001b[37m\u001b[0m \u001b[1m0s\u001b[0m 31ms/step\n",
      "                                                                                                  Text                                 Actual Intent                                  Predicted NN                                  Predicted RF                            Predicted Centroid Correct NN Correct RF Correct Centroid\n",
      "[Phone ringing]\\n\\nAgent 3: Thank you for calling HealthHarbor, my name is Agent 3. How can I assist y               Healthcare Facility Information               Healthcare Facility Information               Healthcare Facility Information               Healthcare Facility Information          ✅          ✅                ✅\n",
      "Agent 3: Thank you for calling HealthHarbor, my name is Agent 3. How can I assist you today?\\n\\nCustom Medication Refills and Prescription Inquiries Medication Refills and Prescription Inquiries Medication Refills and Prescription Inquiries Medication Refills and Prescription Inquiries          ✅          ✅                ✅\n",
      "[Phone rings]\\n\\nAgent 1: Thank you for calling HealthHarbor, my name is Agent 1. How may I assist you Medication Refills and Prescription Inquiries Medication Refills and Prescription Inquiries Medication Refills and Prescription Inquiries Medication Refills and Prescription Inquiries          ✅          ✅                ✅\n",
      "Agent 4: Thank you for calling HealthHarbor, my name is Agent 4. How can I assist you today?\\n\\nCustom               Healthcare Facility Information                             General Inquiries               Healthcare Facility Information                             General Inquiries          ❌          ✅                ❌\n",
      "Agent 2: Thank you for calling HealthHarbor, my name is Agent 2. How can I assist you today?\\n\\nCustom         Referrals and Specialist Appointments                        Appointment Scheduling                        Appointment Scheduling                        Appointment Scheduling          ❌          ❌                ❌\n",
      "Agent 3: Thank you for calling HealthHarbor, my name is Agent 3. How may I assist you today?\\n\\nCustom                        Appointment Scheduling                        Appointment Scheduling                        Appointment Scheduling                        Appointment Scheduling          ✅          ✅                ✅\n",
      "[Phone ringing]\\n\\nAgent 3: Good afternoon, thank you for calling HealthHarbor. My name is Agent 3. Ho         Referrals and Specialist Appointments         Referrals and Specialist Appointments         Referrals and Specialist Appointments         Referrals and Specialist Appointments          ✅          ✅                ✅\n",
      "Agent 1: Thank you for calling HealthHarbor, my name is Agent 1. How can I assist you today?\\n\\nCustom                      Medical Records Requests                      Medical Records Requests                      Medical Records Requests                      Medical Records Requests          ✅          ✅                ✅\n",
      "[Phone ringing]\\n\\nAgent 3: Thank you for calling HealthHarbor, my name is Agent 3. How can I assist y Medication Refills and Prescription Inquiries Medication Refills and Prescription Inquiries Medication Refills and Prescription Inquiries Medication Refills and Prescription Inquiries          ✅          ✅                ✅\n",
      "Agent 4: Thank you for calling HealthHarbor, my name is Agent 4. How may I assist you today?\\n\\nCustom           Follow-up Calls and Care Management           Follow-up Calls and Care Management           Follow-up Calls and Care Management           Follow-up Calls and Care Management          ✅          ✅                ✅\n",
      "Agent 4: Thank you for calling HealthHarbor. My name is Agent 4. How can I assist you today?\\n\\nCustom         Referrals and Specialist Appointments         Referrals and Specialist Appointments         Referrals and Specialist Appointments         Referrals and Specialist Appointments          ✅          ✅                ✅\n",
      "  Agent 2: Good morning, thank you for calling HealthHarbor. My name is Agent 2. How can I assist you            Follow-up Calls and Care Management           Follow-up Calls and Care Management           Follow-up Calls and Care Management           Follow-up Calls and Care Management          ✅          ✅                ✅\n",
      "Agent 2: Thank you for calling HealthHarbor, my name is Agent 2. How can I assist you today?\\n\\nCustom                          Lab and Test Results           Follow-up Calls and Care Management                        Appointment Scheduling               Healthcare Facility Information          ❌          ❌                ❌\n",
      "Agent 1: Thank you for calling HealthHarbor, my name is Agent 1. How can I assist you today?\\n\\nCustom Medication Refills and Prescription Inquiries Medication Refills and Prescription Inquiries Medication Refills and Prescription Inquiries Medication Refills and Prescription Inquiries          ✅          ✅                ✅\n",
      "Agent 2: Thank you for calling HealthHarbor, my name is Agent 2. How can I assist you today?\\n\\nCustom Medication Refills and Prescription Inquiries Medication Refills and Prescription Inquiries Medication Refills and Prescription Inquiries Medication Refills and Prescription Inquiries          ✅          ✅                ✅\n",
      "[Phone ringing]\\n\\nAgent 1: Thank you for calling HealthHarbor, my name is Agent 1. How can I assist y          Medical Advice or Symptom Assessment          Medical Advice or Symptom Assessment          Medical Advice or Symptom Assessment          Medical Advice or Symptom Assessment          ✅          ✅                ✅\n",
      "[Phone rings]\\n\\nAgent 4: Thank you for calling HealthHarbor, my name is Agent 4. How can I assist you         Referrals and Specialist Appointments         Referrals and Specialist Appointments         Referrals and Specialist Appointments         Referrals and Specialist Appointments          ✅          ✅                ✅\n",
      "Agent 2: Thank you for calling HealthHarbor, my name is Agent 2. How can I assist you today?\\n\\nCustom               Insurance and Billing Inquiries               Insurance and Billing Inquiries               Insurance and Billing Inquiries               Insurance and Billing Inquiries          ✅          ✅                ✅\n",
      "Agent 4: Thank you for calling HealthHarbor, my name is Agent 4. How can I assist you today?\\n\\nCustom          Medical Advice or Symptom Assessment          Medical Advice or Symptom Assessment          Medical Advice or Symptom Assessment          Medical Advice or Symptom Assessment          ✅          ✅                ✅\n",
      "[Phone rings]\\n\\nAgent 1: Thank you for calling HealthHarbor, my name is Agent 1. How can I assist you                        Appointment Scheduling                        Appointment Scheduling                        Appointment Scheduling                        Appointment Scheduling          ✅          ✅                ✅\n",
      "Agent 1: Thank you for calling HealthHarbor, my name is Agent 1. How can I assist you today?\\n\\nCustom          Medical Advice or Symptom Assessment          Medical Advice or Symptom Assessment          Medical Advice or Symptom Assessment          Medical Advice or Symptom Assessment          ✅          ✅                ✅\n",
      "Agent 1: Thank you for calling HealthHarbor, my name is Agent 1. How can I assist you today?\\n\\nCustom               Insurance and Billing Inquiries               Insurance and Billing Inquiries               Insurance and Billing Inquiries               Insurance and Billing Inquiries          ✅          ✅                ✅\n",
      "  Agent 4: Good morning, thank you for calling HealthHarbor. My name is Agent 4. How can I assist you                Insurance and Billing Inquiries               Insurance and Billing Inquiries               Insurance and Billing Inquiries               Insurance and Billing Inquiries          ✅          ✅                ✅\n",
      "[Phone rings]\\n\\nAgent 1: Thank you for calling HealthHarbor. My name is Agent 1. How may I assist you         Referrals and Specialist Appointments         Referrals and Specialist Appointments         Referrals and Specialist Appointments         Referrals and Specialist Appointments          ✅          ✅                ✅\n",
      "Agent 4: Thank you for calling HealthHarbor, my name is Agent 4. How can I assist you today?\\n\\nCustom         Referrals and Specialist Appointments          Medical Advice or Symptom Assessment          Medical Advice or Symptom Assessment          Medical Advice or Symptom Assessment          ❌          ❌                ❌\n",
      "Agent 3: Thank you for calling HealthHarbor. My name is Agent 3. How can I assist you today?\\n\\nCustom          Medical Advice or Symptom Assessment          Medical Advice or Symptom Assessment          Medical Advice or Symptom Assessment          Medical Advice or Symptom Assessment          ✅          ✅                ✅\n",
      "Agent 1: Thank you for calling HealthHarbor, my name is Agent 1. How may I assist you today?\\n\\nCustom Medication Refills and Prescription Inquiries Medication Refills and Prescription Inquiries Medication Refills and Prescription Inquiries Medication Refills and Prescription Inquiries          ✅          ✅                ✅\n",
      "Agent 4: Thank you for calling HealthHarbor, my name is Agent 4. How can I assist you today?\\n\\nCustom         Referrals and Specialist Appointments          Medical Advice or Symptom Assessment          Medical Advice or Symptom Assessment          Medical Advice or Symptom Assessment          ❌          ❌                ❌\n",
      "Agent 2: Thank you for calling HealthHarbor, my name is Agent 2. How can I assist you today?\\n\\nCustom                      Medical Records Requests                      Medical Records Requests                      Medical Records Requests                      Medical Records Requests          ✅          ✅                ✅\n",
      "Agent 3: Thank you for calling HealthHarbor, my name is Agent 3. How can I assist you today?\\n\\nCustom               Healthcare Facility Information               Healthcare Facility Information               Healthcare Facility Information               Healthcare Facility Information          ✅          ✅                ✅\n",
      "  Agent 1: Good morning, thank you for calling HealthHarbor. My name is Agent 1. How may I assist you          Referrals and Specialist Appointments                        Appointment Scheduling         Referrals and Specialist Appointments          Medical Advice or Symptom Assessment          ❌          ✅                ❌\n",
      "Agent 3: Thank you for calling HealthHarbor, my name is Agent 3. How may I assist you today?\\n\\nCustom               Healthcare Facility Information                             General Inquiries               Healthcare Facility Information               Healthcare Facility Information          ❌          ✅                ✅\n",
      "[Phone ringing]\\n\\nAgent 4: Good afternoon, thank you for calling HealthHarbor. My name is Agent 4. Ho Medication Refills and Prescription Inquiries Medication Refills and Prescription Inquiries Medication Refills and Prescription Inquiries Medication Refills and Prescription Inquiries          ✅          ✅                ✅\n",
      "Agent 3: Thank you for calling HealthHarbor, my name is Agent 3. How can I assist you today?\\n\\nCustom                      Medical Records Requests                      Medical Records Requests                      Medical Records Requests                      Medical Records Requests          ✅          ✅                ✅\n",
      "Agent 1: Thank you for calling HealthHarbor, my name is Agent 1. How can I assist you today?\\n\\nCustom          Medical Advice or Symptom Assessment          Medical Advice or Symptom Assessment          Medical Advice or Symptom Assessment          Medical Advice or Symptom Assessment          ✅          ✅                ✅\n",
      "Agent 2: Thank you for calling HealthHarbor, my name is Agent 2. How can I assist you today?\\n\\nCustom                        Appointment Scheduling                        Appointment Scheduling                        Appointment Scheduling                        Appointment Scheduling          ✅          ✅                ✅\n",
      "Agent 2: Thank you for calling HealthHarbor, my name is Agent 2. How can I assist you today?\\n\\nCustom                             General Inquiries                        Appointment Scheduling                        Appointment Scheduling                        Appointment Scheduling          ❌          ❌                ❌\n",
      "Agent 4: Thank you for calling HealthHarbor, my name is Agent 4. How can I assist you today?\\n\\nCustom          Medical Advice or Symptom Assessment          Medical Advice or Symptom Assessment          Medical Advice or Symptom Assessment          Medical Advice or Symptom Assessment          ✅          ✅                ✅\n",
      "[Phone ringing]\\n\\nAgent 3: Thank you for calling HealthHarbor, my name is Agent 3. How can I assist y Medication Refills and Prescription Inquiries Medication Refills and Prescription Inquiries Medication Refills and Prescription Inquiries Medication Refills and Prescription Inquiries          ✅          ✅                ✅\n",
      "[Phone ringing]\\n\\nAgent 4: Thank you for calling HealthHarbor, my name is Agent 4. How can I assist y                          Lab and Test Results                          Lab and Test Results                          Lab and Test Results                          Lab and Test Results          ✅          ✅                ✅\n",
      "Agent 4: Thank you for calling HealthHarbor, my name is Agent 4. How can I assist you today?\\n\\nCustom          Medical Advice or Symptom Assessment          Medical Advice or Symptom Assessment          Medical Advice or Symptom Assessment          Medical Advice or Symptom Assessment          ✅          ✅                ✅\n",
      "Agent 1: Thank you for calling HealthHarbor, my name is Agent 1. How can I assist you today?\\n\\nCustom                        Appointment Scheduling                        Appointment Scheduling                        Appointment Scheduling                        Appointment Scheduling          ✅          ✅                ✅\n",
      "Agent 2: Thank you for calling HealthHarbor, my name is Agent 2. How may I assist you today?\\n\\nCustom                      Medical Records Requests                      Medical Records Requests                      Medical Records Requests                      Medical Records Requests          ✅          ✅                ✅\n",
      "Agent 1: Thank you for calling HealthHarbor. My name is Agent 1. How can I assist you today?\\n\\nCustom                        Appointment Scheduling                        Appointment Scheduling                        Appointment Scheduling                        Appointment Scheduling          ✅          ✅                ✅\n",
      "Agent 2: Thank you for calling HealthHarbor, my name is Agent 2. How can I assist you today?\\n\\nCustom               Healthcare Facility Information               Healthcare Facility Information               Healthcare Facility Information               Healthcare Facility Information          ✅          ✅                ✅\n",
      "Agent 2: Thank you for calling HealthHarbor, my name is Agent 2. How may I assist you today?\\n\\nCustom                             General Inquiries               Healthcare Facility Information                             General Inquiries               Healthcare Facility Information          ❌          ✅                ❌\n",
      "Agent: Thank you for calling HealthHarbor, my name is Agent 2. How can I assist you today?\\n\\nCustomer Medication Refills and Prescription Inquiries Medication Refills and Prescription Inquiries Medication Refills and Prescription Inquiries Medication Refills and Prescription Inquiries          ✅          ✅                ✅\n",
      "Agent 1: Thank you for calling HealthHarbor, my name is Agent 1. How may I assist you today?\\n\\nCustom               Insurance and Billing Inquiries               Insurance and Billing Inquiries               Insurance and Billing Inquiries               Insurance and Billing Inquiries          ✅          ✅                ✅\n",
      "Agent 3: Thank you for calling HealthHarbor, my name is Agent 3. How can I assist you today?\\n\\nCustom                          Lab and Test Results                          Lab and Test Results           Follow-up Calls and Care Management               Insurance and Billing Inquiries          ✅          ❌                ❌\n",
      "  Call Center Agent: Thank you for calling HealthHarbor, my name is Agent 2. How may I assist you toda                             General Inquiries         Referrals and Specialist Appointments         Referrals and Specialist Appointments         Referrals and Specialist Appointments          ❌          ❌                ❌\n",
      "Agent 4: Thank you for calling HealthHarbor, my name is Agent 4. How can I assist you today?\\n\\nCustom               Healthcare Facility Information                             General Inquiries               Healthcare Facility Information                             General Inquiries          ❌          ✅                ❌\n",
      "Agent 1: Thank you for calling HealthHarbor. My name is Agent 1. How can I assist you today?\\n\\nCustom                             General Inquiries                        Appointment Scheduling         Referrals and Specialist Appointments         Referrals and Specialist Appointments          ❌          ❌                ❌\n",
      "Agent 3: Thank you for calling HealthHarbor, my name is Agent 3. How may I assist you today?\\n\\nCustom                          Lab and Test Results                          Lab and Test Results                          Lab and Test Results                          Lab and Test Results          ✅          ✅                ✅\n",
      "Agent 1: Thank you for calling HealthHarbor, my name is Agent 1. How may I assist you today?\\n\\nCustom          Medical Advice or Symptom Assessment          Medical Advice or Symptom Assessment          Medical Advice or Symptom Assessment          Medical Advice or Symptom Assessment          ✅          ✅                ✅\n",
      "Agent 4: Thank you for calling HealthHarbor, my name is Agent 4. How can I assist you today?\\n\\nCustom               Insurance and Billing Inquiries               Insurance and Billing Inquiries               Insurance and Billing Inquiries               Insurance and Billing Inquiries          ✅          ✅                ✅\n",
      "Agent 4: Thank you for calling HealthHarbor. My name is Agent 4. How can I assist you today?\\n\\nCustom               Healthcare Facility Information                             General Inquiries               Healthcare Facility Information                             General Inquiries          ❌          ✅                ❌\n",
      "[Phone rings]\\n\\nAgent 3: Thank you for calling HealthHarbor, my name is Agent 3. How can I assist you               Insurance and Billing Inquiries               Insurance and Billing Inquiries               Insurance and Billing Inquiries               Insurance and Billing Inquiries          ✅          ✅                ✅\n",
      "Agent 1: Thank you for calling HealthHarbor, my name is Agent 1. How may I assist you today?\\n\\nCustom         Referrals and Specialist Appointments         Referrals and Specialist Appointments         Referrals and Specialist Appointments         Referrals and Specialist Appointments          ✅          ✅                ✅\n",
      "[Phone ringing]\\n\\nAgent 2: Thank you for calling HealthHarbor, my name is Agent 2. How may I assist y                             General Inquiries          Medical Advice or Symptom Assessment          Medical Advice or Symptom Assessment         Referrals and Specialist Appointments          ❌          ❌                ❌\n",
      "Agent 3: Thank you for calling HealthHarbor. My name is Agent 3. How may I assist you today?\\n\\nCustom               Healthcare Facility Information               Healthcare Facility Information               Healthcare Facility Information               Healthcare Facility Information          ✅          ✅                ✅\n",
      "Agent 1: Thank you for calling HealthHarbor, my name is Agent 1. How can I assist you today?\\n\\nCustom               Insurance and Billing Inquiries               Insurance and Billing Inquiries               Insurance and Billing Inquiries               Insurance and Billing Inquiries          ✅          ✅                ✅\n",
      "[Phone rings]\\n\\nAgent 1: Thank you for calling HealthHarbor, my name is Agent 1. How can I assist you               Insurance and Billing Inquiries               Insurance and Billing Inquiries               Insurance and Billing Inquiries               Insurance and Billing Inquiries          ✅          ✅                ✅\n",
      "Agent 2: Thank you for calling HealthHarbor. My name is Agent 2. How can I assist you today?\\n\\nCustom           Follow-up Calls and Care Management Medication Refills and Prescription Inquiries Medication Refills and Prescription Inquiries Medication Refills and Prescription Inquiries          ❌          ❌                ❌\n",
      "Agent 4: Thank you for calling HealthHarbor, my name is Agent 4. How may I assist you today?\\n\\nCustom               Healthcare Facility Information                             General Inquiries               Healthcare Facility Information                             General Inquiries          ❌          ✅                ❌\n",
      "Agent 4: Thank you for calling HealthHarbor. My name is Agent 4. How may I assist you today?\\n\\nCustom               Insurance and Billing Inquiries               Insurance and Billing Inquiries               Insurance and Billing Inquiries               Insurance and Billing Inquiries          ✅          ✅                ✅\n",
      "Agent 2: Thank you for calling HealthHarbor. My name is Agent 2. How can I assist you today?\\n\\nCustom                          Lab and Test Results                          Lab and Test Results                          Lab and Test Results                          Lab and Test Results          ✅          ✅                ✅\n",
      "[Phone ringing]\\n\\nAgent 3: Thank you for calling HealthHarbor, my name is Agent 3. How can I assist y                          Lab and Test Results           Follow-up Calls and Care Management           Follow-up Calls and Care Management           Follow-up Calls and Care Management          ❌          ❌                ❌\n",
      "  Agent 2: Good morning, thank you for calling HealthHarbor. My name is Agent 2. How can I assist you            Follow-up Calls and Care Management           Follow-up Calls and Care Management           Follow-up Calls and Care Management           Follow-up Calls and Care Management          ✅          ✅                ✅\n",
      "Agent 4: Thank you for calling HealthHarbor. My name is Agent 4. How can I assist you today?\\n\\nCustom                          Lab and Test Results                          Lab and Test Results                          Lab and Test Results                          Lab and Test Results          ✅          ✅                ✅\n",
      "[Phone ringing]\\n\\nAgent 1: Thank you for calling HealthHarbor, my name is Agent 1. How can I assist y Medication Refills and Prescription Inquiries Medication Refills and Prescription Inquiries Medication Refills and Prescription Inquiries Medication Refills and Prescription Inquiries          ✅          ✅                ✅\n",
      "Agent 1: Thank you for calling HealthHarbor, my name is Agent 1. How can I assist you today?\\n\\nCustom                        Appointment Scheduling                        Appointment Scheduling                        Appointment Scheduling                        Appointment Scheduling          ✅          ✅                ✅\n",
      "Agent 3: Thank you for calling HealthHarbor. My name is Agent 3. How can I assist you today?\\n\\nCustom                      Medical Records Requests                      Medical Records Requests                      Medical Records Requests                      Medical Records Requests          ✅          ✅                ✅\n",
      "Agent 4: Thank you for calling HealthHarbor, my name is Agent 4. How can I assist you today?\\n\\nCustom                      Medical Records Requests                      Medical Records Requests                      Medical Records Requests                      Medical Records Requests          ✅          ✅                ✅\n",
      "[Phone ringing]\\n\\nAgent 2: Thank you for calling HealthHarbor, my name is Agent 2. How can I assist y           Follow-up Calls and Care Management           Follow-up Calls and Care Management           Follow-up Calls and Care Management           Follow-up Calls and Care Management          ✅          ✅                ✅\n",
      "  Agent 4: Good morning, thank you for calling HealthHarbor. My name is Agent 4. How can I assist you            Follow-up Calls and Care Management                        Appointment Scheduling           Follow-up Calls and Care Management           Follow-up Calls and Care Management          ❌          ✅                ✅\n",
      "[Phone rings]\\n\\nAgent 4: Thank you for calling HealthHarbor, my name is Agent 4. How can I assist you                          Lab and Test Results                          Lab and Test Results           Follow-up Calls and Care Management                          Lab and Test Results          ✅          ❌                ✅\n",
      "Agent 3: Thank you for calling HealthHarbor, my name is Agent 3. How may I assist you today?\\n\\nCustom                          Lab and Test Results                          Lab and Test Results                          Lab and Test Results                          Lab and Test Results          ✅          ✅                ✅\n",
      "[Phone ringing]\\n\\nAgent 3: Thank you for calling HealthHarbor, my name is Agent 3. How can I assist y         Referrals and Specialist Appointments         Referrals and Specialist Appointments         Referrals and Specialist Appointments         Referrals and Specialist Appointments          ✅          ✅                ✅\n",
      "Agent 4: Thank you for calling HealthHarbor. My name is Agent 4. How can I assist you today?\\n\\nCustom               Healthcare Facility Information                             General Inquiries               Healthcare Facility Information                             General Inquiries          ❌          ✅                ❌\n",
      "Agent: Thank you for calling HealthHarbor, my name is Agent 2. How can I assist you today?\\n\\nCustomer               Insurance and Billing Inquiries               Insurance and Billing Inquiries               Insurance and Billing Inquiries               Insurance and Billing Inquiries          ✅          ✅                ✅\n",
      "[Phone rings]\\n\\nAgent 1: Thank you for calling HealthHarbor, my name is Agent 1. How can I assist you                      Medical Records Requests                      Medical Records Requests                      Medical Records Requests                      Medical Records Requests          ✅          ✅                ✅\n",
      "Agent 4: Thank you for calling HealthHarbor, my name is Agent 4. How can I assist you today?\\n\\nCustom                             General Inquiries                             General Inquiries                             General Inquiries                             General Inquiries          ✅          ✅                ✅\n",
      "Agent 4: Thank you for calling HealthHarbor, my name is Agent 4. How can I assist you today?\\n\\nCustom                      Medical Records Requests                      Medical Records Requests                      Medical Records Requests                      Medical Records Requests          ✅          ✅                ✅\n",
      "Agent 2: Thank you for calling HealthHarbor, my name is Agent 2. How may I assist you today?\\n\\nCustom                          Lab and Test Results                          Lab and Test Results                          Lab and Test Results                          Lab and Test Results          ✅          ✅                ✅\n",
      "Agent 3: Thank you for calling HealthHarbor, my name is Agent 3. How may I assist you today?\\n\\nCustom         Referrals and Specialist Appointments         Referrals and Specialist Appointments         Referrals and Specialist Appointments         Referrals and Specialist Appointments          ✅          ✅                ✅\n",
      "Agent 2: Thank you for calling HealthHarbor, my name is Agent 2. How may I assist you today?\\n\\nCustom           Follow-up Calls and Care Management           Follow-up Calls and Care Management           Follow-up Calls and Care Management           Follow-up Calls and Care Management          ✅          ✅                ✅\n",
      "Agent 4: Thank you for calling HealthHarbor, my name is Agent 4. How may I assist you today?\\n\\nCustom           Follow-up Calls and Care Management           Follow-up Calls and Care Management           Follow-up Calls and Care Management           Follow-up Calls and Care Management          ✅          ✅                ✅\n",
      "[Phone ringing]\\n\\nAgent 1: Thank you for calling HealthHarbor, my name is Agent 1. How may I assist y          Medical Advice or Symptom Assessment          Medical Advice or Symptom Assessment          Medical Advice or Symptom Assessment          Medical Advice or Symptom Assessment          ✅          ✅                ✅\n",
      "  Agent 4: Good morning, thank you for calling HealthHarbor. My name is Agent 4. How may I assist you                              General Inquiries                             General Inquiries               Healthcare Facility Information                             General Inquiries          ✅          ❌                ✅\n",
      "Agent 1: Thank you for calling HealthHarbor. My name is Agent 1. How can I assist you today?\\n\\nCustom                             General Inquiries               Healthcare Facility Information                             General Inquiries               Healthcare Facility Information          ❌          ✅                ❌\n",
      "Agent 4: Thank you for calling HealthHarbor. My name is Agent 4. How can I assist you today?\\n\\nCustom                          Lab and Test Results                          Lab and Test Results                          Lab and Test Results                          Lab and Test Results          ✅          ✅                ✅\n",
      "Agent 3: Thank you for calling HealthHarbor, my name is Agent 3. How may I assist you today?\\n\\nCustom                          Lab and Test Results                          Lab and Test Results                          Lab and Test Results                          Lab and Test Results          ✅          ✅                ✅\n",
      "Agent 3: Thank you for calling HealthHarbor, my name is Agent 3. How can I assist you today?\\n\\nCustom                      Medical Records Requests                      Medical Records Requests                      Medical Records Requests                      Medical Records Requests          ✅          ✅                ✅\n",
      "Agent 3: Thank you for calling HealthHarbor, my name is Agent 3. How can I assist you today?\\n\\nCustom                             General Inquiries          Medical Advice or Symptom Assessment                             General Inquiries                             General Inquiries          ❌          ✅                ✅\n",
      "Agent 2: Thank you for calling HealthHarbor, my name is Agent 2. How may I assist you today?\\n\\nCustom               Insurance and Billing Inquiries               Insurance and Billing Inquiries               Insurance and Billing Inquiries               Insurance and Billing Inquiries          ✅          ✅                ✅\n",
      "Agent 4: Thank you for calling HealthHarbor, my name is Agent 4. How can I assist you today?\\n\\nCustom           Follow-up Calls and Care Management                          Lab and Test Results                          Lab and Test Results                          Lab and Test Results          ❌          ❌                ❌\n",
      "Agent 1: Thank you for calling HealthHarbor, my name is Agent 1. How can I assist you today?\\n\\nCustom           Follow-up Calls and Care Management           Follow-up Calls and Care Management           Follow-up Calls and Care Management           Follow-up Calls and Care Management          ✅          ✅                ✅\n",
      "Agent 1: Thank you for calling HealthHarbor, my name is Agent 1. How may I assist you today?\\n\\nCustom                        Appointment Scheduling                        Appointment Scheduling                        Appointment Scheduling                        Appointment Scheduling          ✅          ✅                ✅\n",
      "[Phone rings]\\n\\nAgent 4: Thank you for calling HealthHarbor. My name is Agent 4. How may I assist you          Medical Advice or Symptom Assessment          Medical Advice or Symptom Assessment          Medical Advice or Symptom Assessment          Medical Advice or Symptom Assessment          ✅          ✅                ✅\n",
      "[Phone ringing]\\n\\nAgent 3: Thank you for calling HealthHarbor. This is Agent 3. How can I assist you  Medication Refills and Prescription Inquiries Medication Refills and Prescription Inquiries Medication Refills and Prescription Inquiries Medication Refills and Prescription Inquiries          ✅          ✅                ✅\n",
      "Agent 4: Thank you for calling HealthHarbor, my name is Agent 4. How can I assist you today?\\n\\nCustom           Follow-up Calls and Care Management           Follow-up Calls and Care Management           Follow-up Calls and Care Management           Follow-up Calls and Care Management          ✅          ✅                ✅\n",
      "Agent 3: Thank you for calling HealthHarbor. My name is Agent 3. How may I assist you today?\\n\\nCustom Medication Refills and Prescription Inquiries Medication Refills and Prescription Inquiries Medication Refills and Prescription Inquiries Medication Refills and Prescription Inquiries          ✅          ✅                ✅\n",
      "Agent 4: Thank you for calling HealthHarbor, my name is Agent 4. How can I assist you today?\\n\\nCustom                        Appointment Scheduling                        Appointment Scheduling                        Appointment Scheduling          Medical Advice or Symptom Assessment          ✅          ✅                ❌\n",
      "Agent 1: Thank you for calling HealthHarbor, my name is Agent 1. How can I assist you today?\\n\\nCustom                             General Inquiries                             General Inquiries                             General Inquiries                             General Inquiries          ✅          ✅                ✅\n",
      "[Phone rings]\\n\\nAgent 3: Thank you for calling HealthHarbor, my name is Agent 3. How may I assist you                             General Inquiries               Healthcare Facility Information                             General Inquiries                             General Inquiries          ❌          ✅                ✅\n",
      "[Agent 4]: Thank you for calling HealthHarbor, my name is Agent 4. How may I assist you today?\\n\\n[Cus                          Lab and Test Results                          Lab and Test Results                          Lab and Test Results                          Lab and Test Results          ✅          ✅                ✅\n",
      "Agent 1: Thank you for calling HealthHarbor. My name is Agent 1. How can I assist you today?\\n\\nCustom                        Appointment Scheduling                        Appointment Scheduling                        Appointment Scheduling                        Appointment Scheduling          ✅          ✅                ✅\n",
      "Agent 3: Thank you for calling HealthHarbor, my name is Agent 3. How may I assist you today?\\n\\nCustom               Healthcare Facility Information               Healthcare Facility Information               Healthcare Facility Information               Healthcare Facility Information          ✅          ✅                ✅\n",
      "Agent 3: Thank you for calling HealthHarbor, my name is Agent 3. How can I assist you today?\\n\\nCustom         Referrals and Specialist Appointments         Referrals and Specialist Appointments         Referrals and Specialist Appointments         Referrals and Specialist Appointments          ✅          ✅                ✅\n",
      "Agent 2: Thank you for calling HealthHarbor. My name is Agent 2. How can I assist you today?\\n\\nCustom                        Appointment Scheduling          Medical Advice or Symptom Assessment                             General Inquiries          Medical Advice or Symptom Assessment          ❌          ❌                ❌\n",
      " Agent 2: Hello, thank you for calling HealthHarbor. My name is Agent 2. How can I assist you today?\\n               Insurance and Billing Inquiries               Insurance and Billing Inquiries               Insurance and Billing Inquiries               Insurance and Billing Inquiries          ✅          ✅                ✅\n",
      "Agent 3: Thank you for calling HealthHarbor. My name is Agent 3. How may I assist you today?\\n\\nCustom Medication Refills and Prescription Inquiries Medication Refills and Prescription Inquiries Medication Refills and Prescription Inquiries Medication Refills and Prescription Inquiries          ✅          ✅                ✅\n",
      "Agent 2: Thank you for calling HealthHarbor, my name is Agent 2. How may I assist you today?\\n\\nCustom          Medical Advice or Symptom Assessment          Medical Advice or Symptom Assessment          Medical Advice or Symptom Assessment          Medical Advice or Symptom Assessment          ✅          ✅                ✅\n",
      "Agent 1: Thank you for calling HealthHarbor, my name is Agent 1. How can I assist you today?\\n\\nCustom           Follow-up Calls and Care Management           Follow-up Calls and Care Management           Follow-up Calls and Care Management           Follow-up Calls and Care Management          ✅          ✅                ✅\n",
      "  Agent 3: Good morning, thank you for calling HealthHarbor. My name is Agent 3. How may I assist you                         Appointment Scheduling                        Appointment Scheduling                        Appointment Scheduling                        Appointment Scheduling          ✅          ✅                ✅\n",
      "Agent 1: Thank you for calling HealthHarbor, my name is Agent 1. How can I assist you today?\\n\\nCustom                      Medical Records Requests                      Medical Records Requests                      Medical Records Requests                      Medical Records Requests          ✅          ✅                ✅\n",
      "Agent 3: Thank you for calling HealthHarbor, my name is Agent 3. How may I assist you today?\\n\\nCustom               Healthcare Facility Information                             General Inquiries               Healthcare Facility Information               Healthcare Facility Information          ❌          ✅                ✅\n",
      "Agent 3: Thank you for calling HealthHarbor, my name is Agent 3. How can I assist you today?\\n\\nCustom                      Medical Records Requests                      Medical Records Requests                      Medical Records Requests                      Medical Records Requests          ✅          ✅                ✅\n",
      "Agent 2: Thank you for calling HealthHarbor, my name is Agent 2. How can I assist you today?\\n\\nCustom                             General Inquiries                             General Inquiries               Healthcare Facility Information               Healthcare Facility Information          ✅          ❌                ❌\n",
      "Agent 4: Thank you for calling HealthHarbor, my name is Agent 4. How can I assist you today?\\n\\nCustom           Follow-up Calls and Care Management           Follow-up Calls and Care Management           Follow-up Calls and Care Management           Follow-up Calls and Care Management          ✅          ✅                ✅\n",
      "Agent 1: Thank you for calling HealthHarbor, my name is Agent 1. How can I assist you today?\\n\\nCustom               Healthcare Facility Information               Healthcare Facility Information                             General Inquiries               Healthcare Facility Information          ✅          ❌                ✅\n",
      "  Call Center Agent: Thank you for calling HealthHarbor, my name is Agent 1. How can I assist you toda          Medical Advice or Symptom Assessment          Medical Advice or Symptom Assessment          Medical Advice or Symptom Assessment          Medical Advice or Symptom Assessment          ✅          ✅                ✅\n",
      "[Phone rings]\\n\\nAgent 3: Thank you for calling HealthHarbor customer support. My name is Agent 3. How               Insurance and Billing Inquiries               Insurance and Billing Inquiries               Insurance and Billing Inquiries               Insurance and Billing Inquiries          ✅          ✅                ✅\n",
      "Agent 3: Thank you for calling HealthHarbor. My name is Agent 3. How can I assist you today?\\n\\nCustom                      Medical Records Requests           Follow-up Calls and Care Management           Follow-up Calls and Care Management           Follow-up Calls and Care Management          ❌          ❌                ❌\n",
      "Agent 3: Thank you for calling HealthHarbor, my name is Agent 3. How may I assist you today?\\n\\nCustom                        Appointment Scheduling                        Appointment Scheduling         Referrals and Specialist Appointments                        Appointment Scheduling          ✅          ❌                ✅\n",
      "Agent 4: Thank you for calling HealthHarbor. My name is Agent 4. How can I assist you today?\\n\\nCustom                        Appointment Scheduling                        Appointment Scheduling                        Appointment Scheduling                        Appointment Scheduling          ✅          ✅                ✅\n",
      "Agent 3: Thank you for calling HealthHarbor, my name is Agent 3. How can I assist you today?\\n\\nCustom                      Medical Records Requests                      Medical Records Requests                      Medical Records Requests                      Medical Records Requests          ✅          ✅                ✅\n",
      "Agent 1: Thank you for calling HealthHarbor. My name is Agent 1. How can I assist you today?\\n\\nCustom          Medical Advice or Symptom Assessment          Medical Advice or Symptom Assessment          Medical Advice or Symptom Assessment          Medical Advice or Symptom Assessment          ✅          ✅                ✅\n",
      "Agent 1: Thank you for calling HealthHarbor, my name is Agent 1. How can I assist you today?\\n\\nCustom                             General Inquiries               Healthcare Facility Information                             General Inquiries               Healthcare Facility Information          ❌          ✅                ❌\n",
      "Agent 4: Thank you for calling HealthHarbor, my name is Agent 4. How can I assist you today?\\n\\nCustom         Referrals and Specialist Appointments         Referrals and Specialist Appointments         Referrals and Specialist Appointments         Referrals and Specialist Appointments          ✅          ✅                ✅\n",
      "\n",
      "Summary:\n",
      "Classifier  Total Predictions  Correct Predictions  Accuracy\n",
      "        NN                130                  103  0.792308\n",
      "        RF                130                  111  0.853846\n",
      "  Centroid                130                  105  0.807692\n"
     ]
    }
   ],
   "source": [
    "import pandas as pd\n",
    "from sklearn.metrics.pairwise import cosine_similarity\n",
    "\n",
    "# Initialize an empty list to collect results\n",
    "results = []\n",
    "\n",
    "# Define a DataFrame for the results\n",
    "columns = ['Text', 'Actual Intent', 'Predicted NN', 'Predicted RF', 'Predicted Centroid', 'Correct NN', 'Correct RF',\n",
    "           'Correct Centroid']\n",
    "results_df = pd.DataFrame(columns=columns)\n",
    "\n",
    "# Process each entry in the test data\n",
    "for entry in test_data:\n",
    "    text = entry[\"cleaned_text\"]\n",
    "    actual_intent = entry[\"intent\"]\n",
    "\n",
    "    # Predictions\n",
    "    predicted_class_name_nn = predict_class_name_nn(text, embedding_model, nn_classifier)\n",
    "    predicted_class_name_rf = predict_class_name_rf(text, embedding_model, rf_classifier)\n",
    "    predicted_class_name_centroid = predict_class_name_centroid(text, centroids, embedding_model)\n",
    "\n",
    "    # Determine correctness\n",
    "    correct_nn = '✅' if actual_intent == predicted_class_name_nn else '❌'\n",
    "    correct_rf = '✅' if actual_intent == predicted_class_name_rf else '❌'\n",
    "    correct_centroid = '✅' if actual_intent == predicted_class_name_centroid else '❌'\n",
    "\n",
    "    # Append the result to the list\n",
    "    results.append({\n",
    "        'Text': text[:100],  # Show only first 100 characters\n",
    "        'Actual Intent': actual_intent,\n",
    "        'Predicted NN': predicted_class_name_nn,\n",
    "        'Predicted RF': predicted_class_name_rf,\n",
    "        'Predicted Centroid': predicted_class_name_centroid,\n",
    "        'Correct NN': correct_nn,\n",
    "        'Correct RF': correct_rf,\n",
    "        'Correct Centroid': correct_centroid\n",
    "    })\n",
    "\n",
    "# Convert the list of results into a DataFrame\n",
    "results_df = pd.DataFrame(results, columns=columns)\n",
    "\n",
    "# Print the DataFrame with results\n",
    "print(results_df.to_string(index=False))\n",
    "\n",
    "# Generate a summary\n",
    "summary = {\n",
    "    'Classifier': ['NN', 'RF', 'Centroid'],\n",
    "    'Total Predictions': [len(results_df)] * 3,\n",
    "    'Correct Predictions': [\n",
    "        results_df['Correct NN'].value_counts().get('✅', 0),\n",
    "        results_df['Correct RF'].value_counts().get('✅', 0),\n",
    "        results_df['Correct Centroid'].value_counts().get('✅', 0)\n",
    "    ],\n",
    "    'Accuracy': [\n",
    "        results_df['Correct NN'].value_counts().get('✅', 0) / len(results_df),\n",
    "        results_df['Correct RF'].value_counts().get('✅', 0) / len(results_df),\n",
    "        results_df['Correct Centroid'].value_counts().get('✅', 0) / len(results_df)\n",
    "    ]\n",
    "}\n",
    "\n",
    "summary_df = pd.DataFrame(summary)\n",
    "print(\"\\nSummary:\")\n",
    "print(summary_df.to_string(index=False))"
   ]
  },
  {
   "cell_type": "code",
   "execution_count": 26,
   "id": "74fc797696bd02ca",
   "metadata": {
    "ExecuteTime": {
     "end_time": "2024-09-29T17:26:24.651137Z",
     "start_time": "2024-09-29T17:26:24.648863Z"
    }
   },
   "outputs": [
    {
     "data": {
      "text/plain": [
       "\"[Phone ringing]\\n\\nAgent 3: Thank you for calling HealthHarbor, my name is Agent 3. How can I assist you today?\\n\\nCustomer (angry): Finally! I've been on hold for ages! I need some information about your healthcare facility.\\n\\nAgent 3: I apologize for the wait, sir. I'll do my best to assist you. Could I please have your name?\\n\\nCustomer: It's John Smith.\\n\\nAgent 3: Thank you, Mr. Smith. How can I help you today?\\n\\nCustomer: I want to know what kind of medical services your hospital offers.\\n\\nAgent 3: HealthHarbor is a comprehensive healthcare facility that offers a wide range of medical services. We provide emergency care, surgeries, diagnostic imaging, laboratory services, and specialized treatments for various medical conditions.\\n\\nCustomer: Well, that's all fine and dandy, but what about the quality of your services? Are you guys any good?\\n\\nAgent 3: Absolutely, Mr. Smith. HealthHarbor is renowned for its high-quality care and patient satisfaction. We have a team of highly skilled doctors, nurses, and medical professionals who are dedicated to providing excellent healthcare services.\\n\\nCustomer: How do I know I can trust you? What are your accreditations?\\n\\nAgent 3: HealthHarbor is fully accredited by the Joint Commission, which is a recognized symbol of quality in the healthcare industry. We have also received several awards for our exceptional patient care and safety protocols.\\n\\nCustomer: Okay, that sounds impressive. But what about wait times? I've heard horror stories about hospitals with long waiting times.\\n\\nAgent 3: I understand your concern, Mr. Smith. At HealthHarbor, we strive to minimize wait times as much as possible. We have implemented efficient scheduling systems and continuously monitor and improve our processes to ensure timely and prompt care for our patients.\\n\\nCustomer: Well, I hope that's true. Now, what about insurance coverage? Do you accept all insurance plans?\\n\\nAgent 3: HealthHarbor works with a wide range of insurance providers, but I would recommend contacting your insurance company directly to confirm if we are in-network for your specific plan. Our billing department can also assist you in understanding your coverage and any potential out-of-pocket expenses.\\n\\nCustomer: Fine, I'll check with my insurance. But what if I don't have insurance? Can I still receive treatment?\\n\\nAgent 3: HealthHarbor is committed to providing care to all individuals, regardless of their insurance status. We have financial assistance programs in place to help uninsured or underinsured patients access the care they need. Our billing department can provide you with more information and guide you through the process.\\n\\nCustomer: Alright, that's good to know. Is there anything else I should be aware of before considering HealthHarbor?\\n\\nAgent 3: One important thing to note, Mr. Smith, is that HealthHarbor operates 24/7, so you can access our services at any time. Additionally, we have a patient portal where you can conveniently manage your appointments, access medical records, and communicate with your healthcare team.\\n\\nCustomer: That's useful information. Thank you for your assistance, Agent 3.\\n\\nAgent 3: You're welcome, Mr. Smith. If you have any further questions or if there's anything else I can assist you with, please don't hesitate to reach out. Have a great day!\\n\\nCustomer: You too. Goodbye.\\n\\n[Call ends]\""
      ]
     },
     "execution_count": 26,
     "metadata": {},
     "output_type": "execute_result"
    }
   ],
   "source": [
    "test_data[0][\"cleaned_text\"]"
   ]
  },
  {
   "cell_type": "code",
   "execution_count": 27,
   "id": "e5280026-3540-4f84-a4b1-adc8032f7fee",
   "metadata": {
    "ExecuteTime": {
     "end_time": "2024-09-29T15:52:10.936599Z",
     "start_time": "2024-09-29T15:52:09.474329Z"
    }
   },
   "outputs": [
    {
     "name": "stdout",
     "output_type": "stream",
     "text": [
      "\u001b[1m1/1\u001b[0m \u001b[32m━━━━━━━━━━━━━━━━━━━━\u001b[0m\u001b[37m\u001b[0m \u001b[1m0s\u001b[0m 32ms/step\n",
      "Prediction Time: 4.3578 seconds\n",
      "Predicted class name: Healthcare Facility Information\n"
     ]
    }
   ],
   "source": [
    "text = test_data[0][\"cleaned_text\"]\n",
    "\n",
    "start_time = time.time()\n",
    "predicted_class_name_nn = predict_class_name_nn(text, embedding_model, nn_classifier)\n",
    "prediction_time_nn = time.time() - start_time\n",
    "print(f\"Prediction Time: {prediction_time_nn:.4f} seconds\")\n",
    "print(f\"Predicted class name: {predicted_class_name_nn}\")"
   ]
  },
  {
   "cell_type": "code",
   "execution_count": 28,
   "id": "4baa665c-a273-4a08-9315-a13b8dd63c29",
   "metadata": {
    "ExecuteTime": {
     "end_time": "2024-09-29T15:55:30.720550Z",
     "start_time": "2024-09-29T15:55:28.940846Z"
    }
   },
   "outputs": [
    {
     "name": "stdout",
     "output_type": "stream",
     "text": [
      "Predicted class name: Healthcare Facility Information\n",
      "Prediction Time: 4.7152 seconds\n"
     ]
    }
   ],
   "source": [
    "start_time = time.time()\n",
    "predicted_class_name_rf = predict_class_name_rf(text, embedding_model, rf_classifier)\n",
    "prediction_time_rf = time.time() - start_time\n",
    "print(f\"Predicted class name: {predicted_class_name_rf}\")\n",
    "print(f\"Prediction Time: {prediction_time_rf:.4f} seconds\")"
   ]
  },
  {
   "cell_type": "code",
   "execution_count": 29,
   "id": "6a035e2f-4bd2-4748-8863-7b95ecd80592",
   "metadata": {
    "ExecuteTime": {
     "end_time": "2024-09-29T15:55:33.638589Z",
     "start_time": "2024-09-29T15:55:31.630603Z"
    }
   },
   "outputs": [
    {
     "name": "stdout",
     "output_type": "stream",
     "text": [
      "The sentence is classified as: Healthcare Facility Information\n",
      "Prediction Time: 4.2274 seconds\n"
     ]
    }
   ],
   "source": [
    "start_time = time.time()\n",
    "predicted_class_name_centroid = predict_class_name_centroid(text, centroids, embedding_model)\n",
    "prediction_time_centroid = time.time() - start_time\n",
    "print(f\"The sentence is classified as: {predicted_class_name_centroid}\")\n",
    "print(f\"Prediction Time: {prediction_time_centroid:.4f} seconds\")"
   ]
  },
  {
   "cell_type": "code",
   "execution_count": 30,
   "id": "f766d864-140b-4e9f-8403-b48dda92dbdb",
   "metadata": {
    "ExecuteTime": {
     "end_time": "2024-09-29T15:55:33.720214Z",
     "start_time": "2024-09-29T15:55:33.716362Z"
    }
   },
   "outputs": [
    {
     "name": "stdout",
     "output_type": "stream",
     "text": [
      "            Model  Training Time (s)  Prediction Time (s)  Accuracy\n",
      "0  Neural Network           3.746068             4.357800  0.870229\n",
      "1   Random Forest           1.561775             4.715214  0.870229\n",
      "2  Centroid-Based           0.010195             4.227444  0.870229\n"
     ]
    }
   ],
   "source": [
    "comparison_df = pd.DataFrame({\n",
    "    'Model': ['Neural Network', 'Random Forest', 'Centroid-Based'],\n",
    "    'Training Time (s)': [training_time_nn, training_time_rf, centroid_calculation_time],\n",
    "    'Prediction Time (s)': [prediction_time_nn, prediction_time_rf, prediction_time_centroid],\n",
    "    'Accuracy': [accuracy_nn, accuracy_rf, accuracy_centroid]\n",
    "})\n",
    "\n",
    "print(comparison_df)"
   ]
  },
  {
   "cell_type": "code",
   "execution_count": 31,
   "id": "ec860f74-c794-46f7-a2c0-235889030839",
   "metadata": {
    "ExecuteTime": {
     "end_time": "2024-09-29T15:57:47.749595Z",
     "start_time": "2024-09-29T15:57:45.438265Z"
    }
   },
   "outputs": [
    {
     "name": "stderr",
     "output_type": "stream",
     "text": [
      "/Users/patrick/Documents/ucb/wine_reviews/.venv/lib/python3.12/site-packages/threadpoolctl.py:1214: RuntimeWarning: \n",
      "Found Intel OpenMP ('libiomp') and LLVM OpenMP ('libomp') loaded at\n",
      "the same time. Both libraries are known to be incompatible and this\n",
      "can cause random crashes or deadlocks on Linux when loaded in the\n",
      "same Python program.\n",
      "Using threadpoolctl may cause crashes or deadlocks. For more\n",
      "information and possible workarounds, please see\n",
      "    https://github.com/joblib/threadpoolctl/blob/master/multiple_openmp.md\n",
      "\n",
      "  warnings.warn(msg, RuntimeWarning)\n"
     ]
    },
    {
     "data": {
      "image/png": "[encoded data removed]",
      "text/plain": [
       "<Figure size 1200x800 with 1 Axes>"
      ]
     },
     "metadata": {},
     "output_type": "display_data"
    }
   ],
   "source": [
    "# Extract embeddings and labels\n",
    "embeddings = np.array(df_train['embeddings'].tolist())\n",
    "labels = df_train['intent']\n",
    "\n",
    "# Perform PCA to reduce dimensions to a more manageable number (e.g., 50)\n",
    "pca = PCA(n_components=50, random_state=42)\n",
    "embeddings_pca = pca.fit_transform(embeddings)\n",
    "\n",
    "# Set perplexity to a value less than the number of samples\n",
    "perplexity_value = min(30, len(embeddings_pca) - 1)\n",
    "\n",
    "# Apply t-SNE on the PCA-reduced embeddings\n",
    "tsne = TSNE(n_components=2, random_state=42, perplexity=perplexity_value)\n",
    "embeddings_2d = tsne.fit_transform(embeddings_pca)\n",
    "\n",
    "# Create a color map for the classes\n",
    "class_names = labels.unique()\n",
    "color_map = {class_name: idx for idx, class_name in enumerate(class_names)}\n",
    "colors = np.array([color_map[label] for label in labels])\n",
    "\n",
    "# Plotting\n",
    "plt.figure(figsize=(12, 8))\n",
    "\n",
    "# Plot each class in a different color\n",
    "for class_name in class_names:\n",
    "    indices = np.where(labels == class_name)[0]\n",
    "    plt.scatter(embeddings_2d[indices, 0], embeddings_2d[indices, 1],\n",
    "                label=class_name,\n",
    "                alpha=0.7,\n",
    "                edgecolors='w')\n",
    "\n",
    "plt.title('2D t-SNE Visualization after PCA Reduction')\n",
    "plt.xlabel('t-SNE Dimension 1')\n",
    "plt.ylabel('t-SNE Dimension 2')\n",
    "plt.legend()\n",
    "plt.grid(True)\n",
    "plt.show()"
   ]
  },
  {
   "cell_type": "code",
   "execution_count": null,
   "id": "09aa2e15-c3ec-4db1-9364-5fb88566db3b",
   "metadata": {},
   "outputs": [],
   "source": []
  }
 ],
 "metadata": {
  "kernelspec": {
   "display_name": ".venv",
   "language": "python",
   "name": "python3"
  },
  "language_info": {
   "codemirror_mode": {
    "name": "ipython",
    "version": 3
   },
   "file_extension": ".py",
   "mimetype": "text/x-python",
   "name": "python",
   "nbconvert_exporter": "python",
   "pygments_lexer": "ipython3",
   "version": "3.12.8"
  }
 },
 "nbformat": 4,
 "nbformat_minor": 5
}
