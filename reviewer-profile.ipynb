{
 "cells": [
  {
   "cell_type": "markdown",
   "metadata": {},
   "source": [
    "**Reviewer Bios**"
   ]
  },
  {
   "cell_type": "markdown",
   "metadata": {},
   "source": [
    "# Paul Gregutt\n",
    "\n",
    "[substack](https://substack.com/@paulgregutt?utm_source=about-page)\n",
    "- 35 years as a professional wine reviewer/writer\n",
    "- focused on Pacific Northwest CA wines"
   ]
  }
 ],
 "metadata": {
  "kernelspec": {
   "display_name": ".venv",
   "language": "python",
   "name": "python3"
  },
  "language_info": {
   "name": "python",
   "version": "3.12.8"
  }
 },
 "nbformat": 4,
 "nbformat_minor": 2
}
