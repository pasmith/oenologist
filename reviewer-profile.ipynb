{
 "cells": [
  {
   "cell_type": "markdown",
   "metadata": {},
   "source": [
    "**Reviewer Bios**"
   ]
  },
  {
   "cell_type": "markdown",
   "metadata": {},
   "source": [
    "# Paul Gregutt\n",
    "\n",
    "[substack](https://substack.com/@paulgregutt?utm_source=about-page)\n",
    "- 35 years as a professional wine reviewer/writer\n",
    "- focused on Pacific Northwest CA wines"
   ]
  }
 ],
 "metadata": {
  "language_info": {
   "name": "python"
  }
 },
 "nbformat": 4,
 "nbformat_minor": 2
}
