{
 "cells": [
  {
   "cell_type": "code",
   "execution_count": 1,
   "metadata": {},
   "outputs": [],
   "source": [
    "import numpy as np\n",
    "import pandas as pd\n",
    "import swifter\n",
    "import geopandas\n",
    "from geodatasets import get_path\n",
    "from ratelimit import limits, sleep_and_retry\n",
    "\n",
    "from utils.geocode_utils import LOCATION\n",
    "\n",
    "from random_address import real_random_address, real_random_address_by_state\n",
    "from faker import Faker\n",
    "\n",
    "from time import perf_counter_ns as timer\n",
    "\n",
    "import plotly.express as px"
   ]
  },
  {
   "cell_type": "code",
   "execution_count": null,
   "metadata": {},
   "outputs": [],
   "source": [
    "# load reviews\n",
    "import kagglehub\n",
    "import os\n",
    "\n",
    "path = kagglehub.dataset_download(\"christopheiv/winemagdata130k\")\n",
    "fname = \"winemag-data-130k-v2.csv\"\n",
    "reviews = pd.read_csv(os.path.join(path, fname), index_col=0)\n",
    "reviews.info()\n",
    "\n",
    "reviews"
   ]
  },
  {
   "cell_type": "code",
   "execution_count": null,
   "metadata": {},
   "outputs": [],
   "source": [
    "# determine the top 5 countries\n",
    "locales = reviews.groupby('country').count()[['winery']].rename(columns={'winery':'count'}).sort_values('count', ascending=False).head(5).copy().reset_index()\n",
    "locales"
   ]
  },
  {
   "cell_type": "code",
   "execution_count": null,
   "metadata": {},
   "outputs": [],
   "source": [
    "us_reviews = reviews[(reviews.country == 'US')&(reviews.province != 'America')&(reviews.province != 'Washington-Oregon')]\n",
    "us_reviews.info()"
   ]
  },
  {
   "cell_type": "code",
   "execution_count": 5,
   "metadata": {},
   "outputs": [],
   "source": [
    "s1 = set(us_reviews.sample(500).index)"
   ]
  },
  {
   "cell_type": "code",
   "execution_count": 6,
   "metadata": {},
   "outputs": [],
   "source": [
    "s2 = set(us_reviews.sample(500).index)\n",
    "\n",
    "while np.sum([s in s2 for s in s1]) < 10:\n",
    "  s2 = set(us_reviews.sample(500).index)"
   ]
  },
  {
   "cell_type": "code",
   "execution_count": null,
   "metadata": {},
   "outputs": [],
   "source": [
    "print(np.sum([s in s2 for s in s1]), 'items in common to test caching')"
   ]
  },
  {
   "cell_type": "code",
   "execution_count": null,
   "metadata": {},
   "outputs": [],
   "source": [
    "us_reviews.loc[list(s1)].head()"
   ]
  },
  {
   "cell_type": "code",
   "execution_count": 9,
   "metadata": {},
   "outputs": [],
   "source": [
    "# map of US state names to 2 letter state code\n",
    "us_state_to_abbrev = {\n",
    "    \"Alabama\": \"AL\",\n",
    "    \"Alaska\": \"AK\",\n",
    "    \"Arizona\": \"AZ\",\n",
    "    \"Arkansas\": \"AR\",\n",
    "    \"California\": \"CA\",\n",
    "    \"Colorado\": \"CO\",\n",
    "    \"Connecticut\": \"CT\",\n",
    "    \"Delaware\": \"DE\",\n",
    "    \"Florida\": \"FL\",\n",
    "    \"Georgia\": \"GA\",\n",
    "    \"Hawaii\": \"HI\",\n",
    "    \"Idaho\": \"ID\",\n",
    "    \"Illinois\": \"IL\",\n",
    "    \"Indiana\": \"IN\",\n",
    "    \"Iowa\": \"IA\",\n",
    "    \"Kansas\": \"KS\",\n",
    "    \"Kentucky\": \"KY\",\n",
    "    \"Louisiana\": \"LA\",\n",
    "    \"Maine\": \"ME\",\n",
    "    \"Maryland\": \"MD\",\n",
    "    \"Massachusetts\": \"MA\",\n",
    "    \"Michigan\": \"MI\",\n",
    "    \"Minnesota\": \"MN\",\n",
    "    \"Mississippi\": \"MS\",\n",
    "    \"Missouri\": \"MO\",\n",
    "    \"Montana\": \"MT\",\n",
    "    \"Nebraska\": \"NE\",\n",
    "    \"Nevada\": \"NV\",\n",
    "    \"New Hampshire\": \"NH\",\n",
    "    \"New Jersey\": \"NJ\",\n",
    "    \"New Mexico\": \"NM\",\n",
    "    \"New York\": \"NY\",\n",
    "    \"North Carolina\": \"NC\",\n",
    "    \"North Dakota\": \"ND\",\n",
    "    \"Ohio\": \"OH\",\n",
    "    \"Oklahoma\": \"OK\",\n",
    "    \"Oregon\": \"OR\",\n",
    "    \"Pennsylvania\": \"PA\",\n",
    "    \"Rhode Island\": \"RI\",\n",
    "    \"South Carolina\": \"SC\",\n",
    "    \"South Dakota\": \"SD\",\n",
    "    \"Tennessee\": \"TN\",\n",
    "    \"Texas\": \"TX\",\n",
    "    \"Utah\": \"UT\",\n",
    "    \"Vermont\": \"VT\",\n",
    "    \"Virginia\": \"VA\",\n",
    "    \"Washington\": \"WA\",\n",
    "    \"West Virginia\": \"WV\",\n",
    "    \"Wisconsin\": \"WI\",\n",
    "    \"Wyoming\": \"WY\",\n",
    "    \"District of Columbia\": \"DC\",\n",
    "    \"American Samoa\": \"AS\",\n",
    "    \"Guam\": \"GU\",\n",
    "    \"Northern Mariana Islands\": \"MP\",\n",
    "    \"Puerto Rico\": \"PR\",\n",
    "    \"United States Minor Outlying Islands\": \"UM\",\n",
    "    \"Virgin Islands, U.S.\": \"VI\",\n",
    "}"
   ]
  },
  {
   "cell_type": "code",
   "execution_count": 10,
   "metadata": {},
   "outputs": [],
   "source": [
    "no_address = []\n",
    "found = []\n",
    "\n",
    "\n",
    "def geocode(row):\n",
    "  state = us_state_to_abbrev[row['province']]\n",
    "  address = real_random_address_by_state(state)\n",
    "  (no_address if len(address) == 0 else found).append(state)\n",
    "\n",
    "  "
   ]
  },
  {
   "cell_type": "code",
   "execution_count": null,
   "metadata": {},
   "outputs": [],
   "source": [
    "us_reviews.loc[list(s1)].swifter.apply(geocode, axis=1)"
   ]
  },
  {
   "cell_type": "code",
   "execution_count": null,
   "metadata": {},
   "outputs": [],
   "source": [
    "np.unique(no_address)"
   ]
  },
  {
   "cell_type": "code",
   "execution_count": null,
   "metadata": {},
   "outputs": [],
   "source": [
    "any([s in found for s in np.unique(no_address)])"
   ]
  },
  {
   "cell_type": "code",
   "execution_count": null,
   "metadata": {},
   "outputs": [],
   "source": [
    "[real_random_address_by_state(s) for s in np.unique(no_address)]"
   ]
  },
  {
   "cell_type": "code",
   "execution_count": 15,
   "metadata": {},
   "outputs": [],
   "source": [
    "location_cols = ['winery', 'region_1', 'region_2', 'province', 'country']"
   ]
  },
  {
   "cell_type": "code",
   "execution_count": null,
   "metadata": {},
   "outputs": [],
   "source": [
    "# no location information\n",
    "mask = (reviews.region_1.isna())&(reviews.region_2.isna())&(reviews.province.isna())&(reviews.country.isna())\n",
    "reviews[location_cols][mask]"
   ]
  },
  {
   "cell_type": "code",
   "execution_count": null,
   "metadata": {},
   "outputs": [],
   "source": [
    "# only country information\n",
    "mask = (reviews.country.notna())&(reviews.region_1.isna())&(reviews.region_2.isna())&(reviews.province.isna())\n",
    "reviews[location_cols][mask]"
   ]
  },
  {
   "cell_type": "code",
   "execution_count": null,
   "metadata": {},
   "outputs": [],
   "source": [
    "# only province information\n",
    "mask = (reviews.country.notna())&(reviews.province.notna()&(reviews.region_1.isna())&(reviews.region_2.isna()))\n",
    "reviews[location_cols][mask]"
   ]
  },
  {
   "cell_type": "code",
   "execution_count": null,
   "metadata": {},
   "outputs": [],
   "source": [
    "# location only contains country information, in redundant forms\n",
    "def test(row):\n",
    "  return (str(row.country) in str(row.province)) or (str(row.country) in str(row.region_1)) or (str(row.country) in str(row.region_2))\n",
    "\n",
    "mask = reviews[location_cols].swifter.apply(test, axis=1)\n",
    "reviews.loc[mask,['region_1','region_2','province']] = None\n",
    "reviews.loc[mask,location_cols]"
   ]
  },
  {
   "cell_type": "code",
   "execution_count": null,
   "metadata": {},
   "outputs": [],
   "source": [
    "def test(row):\n",
    "  return (row.region_2 == row.region_1) or ('Other' in str(row.region_2))\n",
    "\n",
    "mask = reviews.swifter.apply(test, axis=1)\n",
    "reviews.loc[mask, 'region_2'] = None\n",
    "reviews[mask]"
   ]
  },
  {
   "cell_type": "code",
   "execution_count": null,
   "metadata": {},
   "outputs": [],
   "source": [
    "def test(row):\n",
    "  return (row.province is not None) and (row.region_1 == row.province) or ('Other' in str(row.region_1))\n",
    "\n",
    "mask = (reviews.swifter.apply(test, axis=1))\n",
    "reviews.loc[mask, 'region_1'] = None\n",
    "reviews.loc[mask,location_cols]"
   ]
  },
  {
   "cell_type": "code",
   "execution_count": null,
   "metadata": {},
   "outputs": [],
   "source": [
    "mask = (reviews.region_1.notna())&((reviews.region_1.str.contains('Vin Santo'))|(reviews.region_1.str.contains('Vin Doux')))\n",
    "reviews.loc[mask, 'region_1'] = None\n",
    "reviews.loc[mask, location_cols]"
   ]
  },
  {
   "cell_type": "code",
   "execution_count": null,
   "metadata": {},
   "outputs": [],
   "source": [
    "np.unique(reviews[(reviews.region_1.notna())&(reviews.region_1.str.contains('Vin'))].region_1)"
   ]
  },
  {
   "cell_type": "code",
   "execution_count": null,
   "metadata": {},
   "outputs": [],
   "source": [
    "np.unique(reviews[((reviews.region_1).notna())&(not all(reviews.region_1.str.contains('Vin')))].region_1)"
   ]
  },
  {
   "cell_type": "code",
   "execution_count": null,
   "metadata": {},
   "outputs": [],
   "source": [
    "np.unique(reviews[(reviews.region_2.notna())].region_2)"
   ]
  },
  {
   "cell_type": "code",
   "execution_count": null,
   "metadata": {},
   "outputs": [],
   "source": [
    "mask = reviews[(reviews.region_1.notna())|(reviews.region_2.notna())|reviews.province.notna()].groupby(['winery', 'country']).count()[['title']].rename(columns={'title': 'count'}).query('count == 1').index.to_list()\n",
    "expected = len(mask)\n",
    "mask"
   ]
  },
  {
   "cell_type": "code",
   "execution_count": null,
   "metadata": {},
   "outputs": [],
   "source": [
    "mask = reviews.swifter.apply(lambda row: (row.region_1 is not None or row.region_2 is not None or row.province is not None) and ((row.winery, row.country) in mask), axis=1)\n",
    "reviews.loc[mask, 'q'] = reviews.loc[mask].winery"
   ]
  },
  {
   "cell_type": "code",
   "execution_count": 28,
   "metadata": {},
   "outputs": [],
   "source": [
    "assert reviews[reviews.q.notna()].shape[0] == expected"
   ]
  },
  {
   "cell_type": "code",
   "execution_count": null,
   "metadata": {},
   "outputs": [],
   "source": [
    "mask = (reviews.q.isna())&(reviews.region_1.isna())&(reviews.region_2.isna())&(reviews.province.isna())\n",
    "expected += reviews[mask].shape[0]\n",
    "reviews.loc[mask,'q'] = reviews.loc[mask].winery\n",
    "assert reviews[reviews.q.notna()].shape[0] == expected\n",
    "reviews[reviews.q.notna()]"
   ]
  },
  {
   "cell_type": "code",
   "execution_count": null,
   "metadata": {},
   "outputs": [],
   "source": [
    "reviews[(reviews.q.notna())&(reviews.country == 'US')]"
   ]
  },
  {
   "cell_type": "code",
   "execution_count": null,
   "metadata": {},
   "outputs": [],
   "source": [
    "mask = (reviews.q.isna()) & (reviews.province.notna()) & (reviews.region_1.isna())& (reviews.region_2.isna())\n",
    "expected += reviews[mask].shape[0]\n",
    "reviews.loc[mask,'q'] = reviews.loc[mask].winery + ', ' + reviews.loc[mask].province\n",
    "assert reviews[reviews.q.notna()].shape[0] == expected\n",
    "reviews.loc[mask]"
   ]
  },
  {
   "cell_type": "code",
   "execution_count": null,
   "metadata": {},
   "outputs": [],
   "source": [
    "reviews[reviews.q.notna()]"
   ]
  },
  {
   "cell_type": "code",
   "execution_count": null,
   "metadata": {},
   "outputs": [],
   "source": [
    "mask = (reviews.q.isna())&(reviews.region_1.notna()|reviews.region_2.notna()|reviews.province.notna())&(reviews.country == 'US')\n",
    "expected += reviews[mask].shape[0]\n",
    "reviews.loc[mask,'q'] = reviews.loc[mask].apply(lambda row: ', '.join([row.winery, row.region_1 if row.region_1 is not None else row.region_2]), axis=1)\n",
    "assert reviews[reviews.q.notna()].shape[0] == expected\n",
    "reviews.loc[mask]"
   ]
  },
  {
   "cell_type": "code",
   "execution_count": null,
   "metadata": {},
   "outputs": [],
   "source": [
    "mask = (reviews.q.isna())&(reviews.region_1.notna()|reviews.region_2.notna()|reviews.province.notna())&(reviews.country != 'US')\n",
    "expected += reviews[mask].shape[0]\n",
    "reviews.loc[mask,'q'] = reviews.loc[mask].apply(lambda row: ', '.join([row.winery, row.region_1 if row.region_1 is not None else row.region_2]), axis=1)\n",
    "assert reviews[reviews.q.notna()].shape[0] == expected\n",
    "reviews.loc[mask]"
   ]
  },
  {
   "cell_type": "code",
   "execution_count": null,
   "metadata": {},
   "outputs": [],
   "source": [
    "reviews.loc[reviews.designation.isna(), 'designation'] = reviews.loc[reviews.designation.isna()].variety\n",
    "reviews.loc[reviews.designation.isna()]"
   ]
  },
  {
   "cell_type": "code",
   "execution_count": null,
   "metadata": {},
   "outputs": [],
   "source": [
    "reviews[(reviews.country == 'US') & (~reviews.province.isin(['America','Washington-Oregon']))]"
   ]
  },
  {
   "cell_type": "code",
   "execution_count": 37,
   "metadata": {},
   "outputs": [],
   "source": [
    "def geocode_winery(row):\n",
    "  # Implement your mock logic here\n",
    "  location = real_random_address_by_state(us_state_to_abbrev[row.province])\n",
    "  if 'coordinates' in location:            \n",
    "    lat, lon = location['coordinates'].values()\n",
    "    # del location['coordinates']\n",
    "    loc = LOCATION(lat, lon, location)\n",
    "    # print(loc)\n",
    "    return loc\n",
    "  return LOCATION()\n"
   ]
  },
  {
   "cell_type": "code",
   "execution_count": null,
   "metadata": {},
   "outputs": [],
   "source": [
    "\n",
    "tmp = reviews[(reviews.country == 'US') & (~reviews.province.isin(['America','Washington-Oregon']))].sample(100)\n",
    "tmp.info()\n",
    "tmp"
   ]
  },
  {
   "cell_type": "code",
   "execution_count": null,
   "metadata": {},
   "outputs": [],
   "source": [
    "geoloc = pd.DataFrame(tmp.swifter.apply(geocode_winery, axis=1).to_list(), index=tmp.index)\n",
    "geoloc.info()\n",
    "geoloc"
   ]
  },
  {
   "cell_type": "code",
   "execution_count": null,
   "metadata": {},
   "outputs": [],
   "source": [
    "pd.concat([tmp, geoloc], axis=1)"
   ]
  },
  {
   "cell_type": "code",
   "execution_count": null,
   "metadata": {},
   "outputs": [],
   "source": [
    "addresses = pd.DataFrame(\n",
    "  reviews[(reviews.country == 'US') & (~reviews.province.isin(['America','Washington-Oregon']))].swifter.apply(geocode_winery, axis=1).to_list(), \n",
    "  index=reviews[(reviews.country == 'US') & (~reviews.province.isin(['America','Washington-Oregon']))].index\n",
    ")\n",
    "addresses"
   ]
  },
  {
   "cell_type": "code",
   "execution_count": null,
   "metadata": {},
   "outputs": [],
   "source": [
    "pd.concat([reviews, addresses], axis=1)"
   ]
  },
  {
   "cell_type": "code",
   "execution_count": null,
   "metadata": {},
   "outputs": [],
   "source": [
    "reviews[(reviews.country == 'US') & (~reviews.province.isin(['America','Washington-Oregon']))].info()"
   ]
  },
  {
   "cell_type": "code",
   "execution_count": 44,
   "metadata": {},
   "outputs": [],
   "source": [
    "from ratelimit import limits, sleep_and_retry\n",
    "from runstats import Statistics\n",
    "\n",
    "stats = Statistics()\n",
    "\n",
    "# throttle search on geocode service\n",
    "@sleep_and_retry\n",
    "@limits(calls=10, period=1)  # Adjust rate limits as needed\n",
    "def geocode(name:str, country:str, province:str = None):\n",
    "  last = None\n",
    "  if last is not None:\n",
    "    stats.push(timer()-last)\n",
    "  # Implement mock logic\n",
    "  location = real_random_address_by_state(us_state_to_abbrev[province])\n",
    "  last = timer()\n",
    "  if 'coordinates' in location:            \n",
    "    lat, lon = location['coordinates'].values()\n",
    "    # del location['coordinates']\n",
    "    loc = LOCATION(lat, lon, location)\n",
    "    # print(loc)\n",
    "    return loc\n",
    "  return LOCATION()"
   ]
  },
  {
   "cell_type": "code",
   "execution_count": 45,
   "metadata": {},
   "outputs": [],
   "source": [
    "from cachetools import LFUCache, cached\n",
    "from shelved_cache import PersistentCache\n",
    "from shelved_cache.keys import autotuple_hashkey\n",
    "\n",
    "filename = 'winery-geolocation-cache'\n",
    "pc = PersistentCache(LFUCache, filename, maxsize=1024*32)\n",
    "\n",
    "@cached(cache=pc, key=autotuple_hashkey, info=True)\n",
    "def get_geocode(name:str, country:str, province:str = None):\n",
    "  return geocode(name, country, province)"
   ]
  },
  {
   "cell_type": "code",
   "execution_count": null,
   "metadata": {},
   "outputs": [],
   "source": [
    "def geocode_winery(row):\n",
    "  return get_geocode(row.winery, row.country, row.province)"
   ]
  },
  {
   "cell_type": "code",
   "execution_count": null,
   "metadata": {},
   "outputs": [],
   "source": [
    "addresses = pd.DataFrame(\n",
    "  reviews[(reviews.country == 'US') & (~reviews.province.isin(['America','Washington-Oregon']))].swifter.apply(geocode_winery, axis=1).to_list(), \n",
    "  index=reviews[(reviews.country == 'US') & (~reviews.province.isin(['America','Washington-Oregon']))].index\n",
    ")\n",
    "addresses"
   ]
  },
  {
   "cell_type": "code",
   "execution_count": null,
   "metadata": {},
   "outputs": [],
   "source": [
    "get_geocode.cache_info()"
   ]
  },
  {
   "cell_type": "code",
   "execution_count": null,
   "metadata": {},
   "outputs": [],
   "source": [
    "import geopandas as gpd\n",
    "\n",
    "reviews = pd.concat([reviews,addresses], axis=1)\n",
    "gdf = gpd.GeoDataFrame(\n",
    "  reviews, \n",
    "  geometry=gpd.points_from_xy(reviews.lon, reviews.lat)\n",
    ")\n",
    "gdf.info()\n",
    "gdf"
   ]
  }
 ],
 "metadata": {
  "kernelspec": {
   "display_name": ".venv",
   "language": "python",
   "name": "python3"
  },
  "language_info": {
   "codemirror_mode": {
    "name": "ipython",
    "version": 3
   },
   "file_extension": ".py",
   "mimetype": "text/x-python",
   "name": "python",
   "nbconvert_exporter": "python",
   "pygments_lexer": "ipython3",
   "version": "3.12.8"
  }
 },
 "nbformat": 4,
 "nbformat_minor": 2
}
