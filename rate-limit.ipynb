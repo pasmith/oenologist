{
 "cells": [
  {
   "cell_type": "markdown",
   "metadata": {},
   "source": [
    "**Load Data**"
   ]
  },
  {
   "cell_type": "code",
   "execution_count": 1,
   "metadata": {},
   "outputs": [
    {
     "name": "stdout",
     "output_type": "stream",
     "text": [
      "<class 'pandas.core.frame.DataFrame'>\n",
      "RangeIndex: 129971 entries, 0 to 129970\n",
      "Data columns (total 14 columns):\n",
      " #   Column                 Non-Null Count   Dtype  \n",
      "---  ------                 --------------   -----  \n",
      " 0   Unnamed: 0             129971 non-null  int64  \n",
      " 1   country                129908 non-null  object \n",
      " 2   description            129971 non-null  object \n",
      " 3   designation            92506 non-null   object \n",
      " 4   points                 129971 non-null  int64  \n",
      " 5   price                  120975 non-null  float64\n",
      " 6   province               129908 non-null  object \n",
      " 7   region_1               108724 non-null  object \n",
      " 8   region_2               50511 non-null   object \n",
      " 9   taster_name            103727 non-null  object \n",
      " 10  taster_twitter_handle  98758 non-null   object \n",
      " 11  title                  129971 non-null  object \n",
      " 12  variety                129970 non-null  object \n",
      " 13  winery                 129971 non-null  object \n",
      "dtypes: float64(1), int64(2), object(11)\n",
      "memory usage: 13.9+ MB\n"
     ]
    }
   ],
   "source": [
    "# load reviews\n",
    "import kagglehub\n",
    "import pandas as pd\n",
    "import numpy as np\n",
    "import os\n",
    "import swifter\n",
    "\n",
    "path = kagglehub.dataset_download(\"christopheiv/winemagdata130k\")\n",
    "fname = \"winemag-data-130k-v2.csv\"\n",
    "reviews = pd.read_csv(os.path.join(path, fname))\n",
    "reviews.info()"
   ]
  },
  {
   "cell_type": "code",
   "execution_count": 2,
   "metadata": {},
   "outputs": [
    {
     "name": "stdout",
     "output_type": "stream",
     "text": [
      "13,659 duplicate winery names in different locations\n"
     ]
    },
    {
     "data": {
      "text/html": [
       "<div>\n",
       "<style scoped>\n",
       "    .dataframe tbody tr th:only-of-type {\n",
       "        vertical-align: middle;\n",
       "    }\n",
       "\n",
       "    .dataframe tbody tr th {\n",
       "        vertical-align: top;\n",
       "    }\n",
       "\n",
       "    .dataframe thead th {\n",
       "        text-align: right;\n",
       "    }\n",
       "</style>\n",
       "<table border=\"1\" class=\"dataframe\">\n",
       "  <thead>\n",
       "    <tr style=\"text-align: right;\">\n",
       "      <th></th>\n",
       "      <th>winery</th>\n",
       "      <th>region_1</th>\n",
       "      <th>region_2</th>\n",
       "      <th>province</th>\n",
       "      <th>country</th>\n",
       "    </tr>\n",
       "  </thead>\n",
       "  <tbody>\n",
       "    <tr>\n",
       "      <th>0</th>\n",
       "      <td>Nicosia</td>\n",
       "      <td>Etna</td>\n",
       "      <td>NaN</td>\n",
       "      <td>Sicily &amp; Sardinia</td>\n",
       "      <td>Italy</td>\n",
       "    </tr>\n",
       "    <tr>\n",
       "      <th>1</th>\n",
       "      <td>Quinta dos Avidagos</td>\n",
       "      <td>NaN</td>\n",
       "      <td>NaN</td>\n",
       "      <td>Douro</td>\n",
       "      <td>Portugal</td>\n",
       "    </tr>\n",
       "    <tr>\n",
       "      <th>2</th>\n",
       "      <td>Rainstorm</td>\n",
       "      <td>Willamette Valley</td>\n",
       "      <td>Willamette Valley</td>\n",
       "      <td>Oregon</td>\n",
       "      <td>US</td>\n",
       "    </tr>\n",
       "    <tr>\n",
       "      <th>3</th>\n",
       "      <td>St. Julian</td>\n",
       "      <td>Lake Michigan Shore</td>\n",
       "      <td>NaN</td>\n",
       "      <td>Michigan</td>\n",
       "      <td>US</td>\n",
       "    </tr>\n",
       "    <tr>\n",
       "      <th>4</th>\n",
       "      <td>Sweet Cheeks</td>\n",
       "      <td>Willamette Valley</td>\n",
       "      <td>Willamette Valley</td>\n",
       "      <td>Oregon</td>\n",
       "      <td>US</td>\n",
       "    </tr>\n",
       "    <tr>\n",
       "      <th>...</th>\n",
       "      <td>...</td>\n",
       "      <td>...</td>\n",
       "      <td>...</td>\n",
       "      <td>...</td>\n",
       "      <td>...</td>\n",
       "    </tr>\n",
       "    <tr>\n",
       "      <th>129940</th>\n",
       "      <td>Standish</td>\n",
       "      <td>Mendocino</td>\n",
       "      <td>NaN</td>\n",
       "      <td>California</td>\n",
       "      <td>US</td>\n",
       "    </tr>\n",
       "    <tr>\n",
       "      <th>129941</th>\n",
       "      <td>Apriori</td>\n",
       "      <td>Mendocino County</td>\n",
       "      <td>NaN</td>\n",
       "      <td>California</td>\n",
       "      <td>US</td>\n",
       "    </tr>\n",
       "    <tr>\n",
       "      <th>129945</th>\n",
       "      <td>Birichino</td>\n",
       "      <td>Santa Ynez Valley</td>\n",
       "      <td>Central Coast</td>\n",
       "      <td>California</td>\n",
       "      <td>US</td>\n",
       "    </tr>\n",
       "    <tr>\n",
       "      <th>129947</th>\n",
       "      <td>Feudo Principi di Butera</td>\n",
       "      <td>Terre Siciliane</td>\n",
       "      <td>NaN</td>\n",
       "      <td>Sicily &amp; Sardinia</td>\n",
       "      <td>Italy</td>\n",
       "    </tr>\n",
       "    <tr>\n",
       "      <th>129952</th>\n",
       "      <td>Houdini</td>\n",
       "      <td>Chiles Valley</td>\n",
       "      <td>Napa</td>\n",
       "      <td>California</td>\n",
       "      <td>US</td>\n",
       "    </tr>\n",
       "  </tbody>\n",
       "</table>\n",
       "<p>30416 rows × 5 columns</p>\n",
       "</div>"
      ],
      "text/plain": [
       "                          winery             region_1           region_2  \\\n",
       "0                        Nicosia                 Etna                NaN   \n",
       "1            Quinta dos Avidagos                  NaN                NaN   \n",
       "2                      Rainstorm    Willamette Valley  Willamette Valley   \n",
       "3                     St. Julian  Lake Michigan Shore                NaN   \n",
       "4                   Sweet Cheeks    Willamette Valley  Willamette Valley   \n",
       "...                          ...                  ...                ...   \n",
       "129940                  Standish            Mendocino                NaN   \n",
       "129941                   Apriori     Mendocino County                NaN   \n",
       "129945                 Birichino    Santa Ynez Valley      Central Coast   \n",
       "129947  Feudo Principi di Butera      Terre Siciliane                NaN   \n",
       "129952                   Houdini        Chiles Valley               Napa   \n",
       "\n",
       "                 province   country  \n",
       "0       Sicily & Sardinia     Italy  \n",
       "1                   Douro  Portugal  \n",
       "2                  Oregon        US  \n",
       "3                Michigan        US  \n",
       "4                  Oregon        US  \n",
       "...                   ...       ...  \n",
       "129940         California        US  \n",
       "129941         California        US  \n",
       "129945         California        US  \n",
       "129947  Sicily & Sardinia     Italy  \n",
       "129952         California        US  \n",
       "\n",
       "[30416 rows x 5 columns]"
      ]
     },
     "execution_count": 2,
     "metadata": {},
     "output_type": "execute_result"
    }
   ],
   "source": [
    "# extract the locations to augment\n",
    "location_cols = [\"winery\", \"region_1\", \"region_2\", \"province\", \"country\"]\n",
    "wineries = np.unique(reviews.winery.dropna())\n",
    "locations = reviews.query(\"winery in @wineries\")[location_cols].copy().drop_duplicates()\n",
    "print(\n",
    "    f\"{locations.shape[0] - len(wineries):,d}\",\n",
    "    \"duplicate winery names in different locations\",\n",
    ")\n",
    "locations"
   ]
  },
  {
   "cell_type": "markdown",
   "metadata": {},
   "source": [
    "**Method to throttle**"
   ]
  },
  {
   "cell_type": "code",
   "execution_count": 3,
   "metadata": {},
   "outputs": [],
   "source": [
    "# load the country codes\n",
    "from utils.geocode_utils import get_country_code"
   ]
  },
  {
   "cell_type": "markdown",
   "metadata": {},
   "source": [
    "**Make it blazingly fast**"
   ]
  },
  {
   "cell_type": "code",
   "execution_count": 4,
   "metadata": {},
   "outputs": [
    {
     "data": {
      "application/vnd.jupyter.widget-view+json": {
       "model_id": "54dbbfe4f6614c8b88b7d29a75d8db80",
       "version_major": 2,
       "version_minor": 0
      },
      "text/plain": [
       "Pandas Apply:   0%|          | 0/129971 [00:00<?, ?it/s]"
      ]
     },
     "metadata": {},
     "output_type": "display_data"
    },
    {
     "name": "stdout",
     "output_type": "stream",
     "text": [
      "129,971 rows augmented in 0.252 seconds. 0.00194 ms per row.\n"
     ]
    }
   ],
   "source": [
    "from timeit import default_timer as timer\n",
    "\n",
    "start = timer()\n",
    "reviews[\"code\"] = reviews[\"country\"].swifter.apply(get_country_code)\n",
    "elapsed = timer() - start\n",
    "print(\n",
    "    f\"{reviews.shape[0]:,d}\",\n",
    "    \"rows augmented in\",\n",
    "    f\"{elapsed:.3f}\",\n",
    "    \"seconds.\",\n",
    "    f\"{elapsed/reviews.shape[0]*1_000:.5f}\",\n",
    "    \"ms per row.\",\n",
    ")"
   ]
  },
  {
   "cell_type": "markdown",
   "metadata": {},
   "source": [
    "### Throttling Logic"
   ]
  },
  {
   "cell_type": "code",
   "execution_count": 5,
   "metadata": {},
   "outputs": [
    {
     "name": "stdout",
     "output_type": "stream",
     "text": [
      "processing time for 1,000 records is expected to take 1.67 minutes\n"
     ]
    }
   ],
   "source": [
    "rate = 10  # 10 calls per second\n",
    "\n",
    "expected = 1000 / (60 * rate)  # time to process 1000 rows, in minutes\n",
    "\n",
    "print(\n",
    "    f\"processing time for {1000:,d} records is expected to take {expected:.2f} minutes\"\n",
    ")"
   ]
  },
  {
   "cell_type": "code",
   "execution_count": 6,
   "metadata": {},
   "outputs": [],
   "source": [
    "from ratelimit import limits, sleep_and_retry\n",
    "\n",
    "\n",
    "# throttled variant of fast operation\n",
    "@sleep_and_retry\n",
    "@limits(calls=10, period=1)  # Adjust rate limits as needed\n",
    "def throttled(name):\n",
    "    return get_country_code(name)"
   ]
  },
  {
   "cell_type": "code",
   "execution_count": 7,
   "metadata": {},
   "outputs": [
    {
     "data": {
      "application/vnd.jupyter.widget-view+json": {
       "model_id": "a1574dbe7b884d11a91952fa48916a39",
       "version_major": 2,
       "version_minor": 0
      },
      "text/plain": [
       "Pandas Apply:   0%|          | 0/1000 [00:00<?, ?it/s]"
      ]
     },
     "metadata": {},
     "output_type": "display_data"
    },
    {
     "name": "stdout",
     "output_type": "stream",
     "text": [
      "1,000 rows augmented in 1.87 minutes. 112.24976 ms per row.\n"
     ]
    }
   ],
   "source": [
    "n = 1000\n",
    "samples = reviews.sample(1000)\n",
    "start = timer()\n",
    "samples[\"code\"] = samples[\"country\"].swifter.apply(throttled)\n",
    "elapsed = timer() - start\n",
    "print(\n",
    "    f\"{samples.shape[0]:,d}\",\n",
    "    \"rows augmented in\",\n",
    "    f\"{elapsed/60:.2f}\",\n",
    "    \"minutes.\",\n",
    "    f\"{elapsed/samples.shape[0]*1_000:.5f}\",\n",
    "    \"ms per row.\",\n",
    ")"
   ]
  },
  {
   "cell_type": "code",
   "execution_count": 8,
   "metadata": {},
   "outputs": [
    {
     "data": {
      "text/plain": [
       "50.7"
      ]
     },
     "execution_count": 8,
     "metadata": {},
     "output_type": "execute_result"
    }
   ],
   "source": [
    "# optimal while still complying with limit\n",
    "optimal = round(locations.shape[0] / (60 * rate), 1)\n",
    "optimal"
   ]
  },
  {
   "cell_type": "code",
   "execution_count": 9,
   "metadata": {},
   "outputs": [
    {
     "name": "stdout",
     "output_type": "stream",
     "text": [
      "56.9 \n",
      "\n",
      "89.1% efficiency relative to rate limit\n"
     ]
    }
   ],
   "source": [
    "# realized throttling\n",
    "realized = round((elapsed / n * locations.shape[0]) / 60, 1)\n",
    "print(realized, \"\\n\")\n",
    "\n",
    "efficiency = optimal / realized\n",
    "\n",
    "assert efficiency < 1.0\n",
    "\n",
    "print(f\"{efficiency:.1%}\", \"efficiency relative to rate limit\")"
   ]
  },
  {
   "cell_type": "code",
   "execution_count": 10,
   "metadata": {},
   "outputs": [
    {
     "data": {
      "text/html": [
       "<div>\n",
       "<style scoped>\n",
       "    .dataframe tbody tr th:only-of-type {\n",
       "        vertical-align: middle;\n",
       "    }\n",
       "\n",
       "    .dataframe tbody tr th {\n",
       "        vertical-align: top;\n",
       "    }\n",
       "\n",
       "    .dataframe thead th {\n",
       "        text-align: right;\n",
       "    }\n",
       "</style>\n",
       "<table border=\"1\" class=\"dataframe\">\n",
       "  <thead>\n",
       "    <tr style=\"text-align: right;\">\n",
       "      <th></th>\n",
       "      <th>winery</th>\n",
       "      <th>region_1</th>\n",
       "      <th>region_2</th>\n",
       "      <th>province</th>\n",
       "      <th>country</th>\n",
       "      <th>code</th>\n",
       "    </tr>\n",
       "  </thead>\n",
       "  <tbody>\n",
       "    <tr>\n",
       "      <th>61366</th>\n",
       "      <td>Girasole</td>\n",
       "      <td>Mendocino</td>\n",
       "      <td>NaN</td>\n",
       "      <td>California</td>\n",
       "      <td>US</td>\n",
       "      <td>US</td>\n",
       "    </tr>\n",
       "    <tr>\n",
       "      <th>97961</th>\n",
       "      <td>Francis Ford Coppola</td>\n",
       "      <td>Sonoma Coast</td>\n",
       "      <td>Sonoma</td>\n",
       "      <td>California</td>\n",
       "      <td>US</td>\n",
       "      <td>US</td>\n",
       "    </tr>\n",
       "    <tr>\n",
       "      <th>38724</th>\n",
       "      <td>Domaine Ostertag</td>\n",
       "      <td>Alsace</td>\n",
       "      <td>NaN</td>\n",
       "      <td>Alsace</td>\n",
       "      <td>France</td>\n",
       "      <td>FR</td>\n",
       "    </tr>\n",
       "    <tr>\n",
       "      <th>62414</th>\n",
       "      <td>Hedgeline</td>\n",
       "      <td>Washington</td>\n",
       "      <td>Washington Other</td>\n",
       "      <td>Washington</td>\n",
       "      <td>US</td>\n",
       "      <td>US</td>\n",
       "    </tr>\n",
       "    <tr>\n",
       "      <th>93542</th>\n",
       "      <td>Offley</td>\n",
       "      <td>NaN</td>\n",
       "      <td>NaN</td>\n",
       "      <td>Port</td>\n",
       "      <td>Portugal</td>\n",
       "      <td>PT</td>\n",
       "    </tr>\n",
       "  </tbody>\n",
       "</table>\n",
       "</div>"
      ],
      "text/plain": [
       "                     winery      region_1          region_2    province  \\\n",
       "61366              Girasole     Mendocino               NaN  California   \n",
       "97961  Francis Ford Coppola  Sonoma Coast            Sonoma  California   \n",
       "38724      Domaine Ostertag        Alsace               NaN      Alsace   \n",
       "62414             Hedgeline    Washington  Washington Other  Washington   \n",
       "93542                Offley           NaN               NaN        Port   \n",
       "\n",
       "        country code  \n",
       "61366        US   US  \n",
       "97961        US   US  \n",
       "38724    France   FR  \n",
       "62414        US   US  \n",
       "93542  Portugal   PT  "
      ]
     },
     "execution_count": 10,
     "metadata": {},
     "output_type": "execute_result"
    }
   ],
   "source": [
    "samples[location_cols + [\"code\"]].head()"
   ]
  },
  {
   "cell_type": "markdown",
   "metadata": {},
   "source": [
    "### Example of getting rate limit exceptions\n",
    "\n",
    "``` python\n",
    "import requests\n",
    "from ratelimit import limits, RateLimitException\n",
    "from backoff import on_exception, expo\n",
    "from datetime import datetime, timedelta\n",
    "\n",
    "@on_exception(expo, RateLimitException, max_tries=8)\n",
    "@limits(calls=1000, period=timedelta(days=1))\n",
    "def make_api_call():\n",
    "    response = requests.get(\"https://api.example.com/data\")\n",
    "    if response.status_code != 200:\n",
    "        raise Exception(\"API call failed\")\n",
    "    return response.json()\n",
    "\n",
    "# Example usage\n",
    "for i in range(100):\n",
    "    try:\n",
    "        data = make_api_call()\n",
    "        # Process the data\n",
    "    except RateLimitException:\n",
    "        print(\"Rate limit exceeded. Retrying...\")\n",
    "```"
   ]
  },
  {
   "cell_type": "markdown",
   "metadata": {},
   "source": [
    "## Tests"
   ]
  },
  {
   "cell_type": "code",
   "execution_count": 11,
   "metadata": {},
   "outputs": [],
   "source": [
    "import unittest\n",
    "\n",
    "\n",
    "class CountryCodeLookupTest(unittest.TestCase):\n",
    "    def test_lookup_valid_country(self):\n",
    "        self.assertEqual(get_country_code(\"France\"), \"FR\")\n",
    "        self.assertEqual(get_country_code(\"United States Of America\"), \"US\")\n",
    "\n",
    "    def test_lookup_unknown_country(self):\n",
    "        self.assertIsNone(get_country_code(\"United States\"))\n",
    "\n",
    "    def test_overrides(self):\n",
    "        self.assertEqual(get_country_code(\"US\"), \"US\")"
   ]
  },
  {
   "cell_type": "code",
   "execution_count": 12,
   "metadata": {},
   "outputs": [],
   "source": [
    "class CountryCodeAugmentationTest(unittest.TestCase):\n",
    "    def test_codes_exist(self):\n",
    "        self.assertTrue(\"code\" in samples.columns)\n",
    "        self.assertEqual(\n",
    "            samples[\"country\"].dropna().count(), samples[\"code\"].dropna().count()\n",
    "        )\n",
    "        self.assertTrue(\n",
    "            np.all(\n",
    "                np.vectorize(get_country_code)(samples[\"country\"].dropna())\n",
    "                == samples[\"code\"].dropna().to_numpy()\n",
    "            )\n",
    "        )"
   ]
  },
  {
   "cell_type": "code",
   "execution_count": 13,
   "metadata": {},
   "outputs": [
    {
     "name": "stderr",
     "output_type": "stream",
     "text": [
      "test_codes_exist (__main__.CountryCodeAugmentationTest.test_codes_exist) ... ok\n",
      "test_lookup_unknown_country (__main__.CountryCodeLookupTest.test_lookup_unknown_country) ... ok\n",
      "test_lookup_valid_country (__main__.CountryCodeLookupTest.test_lookup_valid_country) ... ok\n",
      "test_overrides (__main__.CountryCodeLookupTest.test_overrides) ... ok\n",
      "\n",
      "----------------------------------------------------------------------\n",
      "Ran 4 tests in 0.007s\n",
      "\n",
      "OK\n"
     ]
    }
   ],
   "source": [
    "if __name__ == \"__main__\":\n",
    "    unittest.main(argv=[\"\"], verbosity=2, exit=False)\n",
    "\n",
    "# https://hamatti.org/posts/unit-test-your-python-code-in-jupyter-notebooks/\n",
    "# https://medium.com/@rajeshpillai/api-rate-limiting-2542c2a90b38"
   ]
  }
 ],
 "metadata": {
  "kernelspec": {
   "display_name": ".venv",
   "language": "python",
   "name": "python3"
  },
  "language_info": {
   "codemirror_mode": {
    "name": "ipython",
    "version": 3
   },
   "file_extension": ".py",
   "mimetype": "text/x-python",
   "name": "python",
   "nbconvert_exporter": "python",
   "pygments_lexer": "ipython3",
   "version": "3.12.8"
  }
 },
 "nbformat": 4,
 "nbformat_minor": 2
}
