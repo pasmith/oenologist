{
 "cells": [
  {
   "cell_type": "markdown",
   "metadata": {},
   "source": [
    "**Load Data**"
   ]
  },
  {
   "cell_type": "code",
   "execution_count": 1,
   "metadata": {},
   "outputs": [],
   "source": [
    "# load the country codes\n",
    "from utils.geocode_utils import get_country_code_lookup\n",
    "\n",
    "codes = get_country_code_lookup()"
   ]
  },
  {
   "cell_type": "code",
   "execution_count": 2,
   "metadata": {},
   "outputs": [
    {
     "name": "stdout",
     "output_type": "stream",
     "text": [
      "<class 'pandas.core.frame.DataFrame'>\n",
      "RangeIndex: 129971 entries, 0 to 129970\n",
      "Data columns (total 14 columns):\n",
      " #   Column                 Non-Null Count   Dtype  \n",
      "---  ------                 --------------   -----  \n",
      " 0   Unnamed: 0             129971 non-null  int64  \n",
      " 1   country                129908 non-null  object \n",
      " 2   description            129971 non-null  object \n",
      " 3   designation            92506 non-null   object \n",
      " 4   points                 129971 non-null  int64  \n",
      " 5   price                  120975 non-null  float64\n",
      " 6   province               129908 non-null  object \n",
      " 7   region_1               108724 non-null  object \n",
      " 8   region_2               50511 non-null   object \n",
      " 9   taster_name            103727 non-null  object \n",
      " 10  taster_twitter_handle  98758 non-null   object \n",
      " 11  title                  129971 non-null  object \n",
      " 12  variety                129970 non-null  object \n",
      " 13  winery                 129971 non-null  object \n",
      "dtypes: float64(1), int64(2), object(11)\n",
      "memory usage: 13.9+ MB\n"
     ]
    }
   ],
   "source": [
    "# load reviews\n",
    "import kagglehub\n",
    "import pandas as pd\n",
    "import numpy as np\n",
    "import swifter\n",
    "from timeit import timeit\n",
    "import os\n",
    "\n",
    "path = kagglehub.dataset_download(\"christopheiv/winemagdata130k\")\n",
    "fname = 'winemag-data-130k-v2.csv'\n",
    "reviews = pd.read_csv(os.path.join(path, fname))\n",
    "reviews.info()"
   ]
  },
  {
   "cell_type": "code",
   "execution_count": 3,
   "metadata": {},
   "outputs": [
    {
     "name": "stdout",
     "output_type": "stream",
     "text": [
      "13,659 duplicate winery names in different locations\n"
     ]
    },
    {
     "data": {
      "text/html": [
       "<div>\n",
       "<style scoped>\n",
       "    .dataframe tbody tr th:only-of-type {\n",
       "        vertical-align: middle;\n",
       "    }\n",
       "\n",
       "    .dataframe tbody tr th {\n",
       "        vertical-align: top;\n",
       "    }\n",
       "\n",
       "    .dataframe thead th {\n",
       "        text-align: right;\n",
       "    }\n",
       "</style>\n",
       "<table border=\"1\" class=\"dataframe\">\n",
       "  <thead>\n",
       "    <tr style=\"text-align: right;\">\n",
       "      <th></th>\n",
       "      <th>winery</th>\n",
       "      <th>region_1</th>\n",
       "      <th>region_2</th>\n",
       "      <th>province</th>\n",
       "      <th>country</th>\n",
       "    </tr>\n",
       "  </thead>\n",
       "  <tbody>\n",
       "    <tr>\n",
       "      <th>0</th>\n",
       "      <td>Nicosia</td>\n",
       "      <td>Etna</td>\n",
       "      <td>NaN</td>\n",
       "      <td>Sicily &amp; Sardinia</td>\n",
       "      <td>Italy</td>\n",
       "    </tr>\n",
       "    <tr>\n",
       "      <th>1</th>\n",
       "      <td>Quinta dos Avidagos</td>\n",
       "      <td>NaN</td>\n",
       "      <td>NaN</td>\n",
       "      <td>Douro</td>\n",
       "      <td>Portugal</td>\n",
       "    </tr>\n",
       "    <tr>\n",
       "      <th>2</th>\n",
       "      <td>Rainstorm</td>\n",
       "      <td>Willamette Valley</td>\n",
       "      <td>Willamette Valley</td>\n",
       "      <td>Oregon</td>\n",
       "      <td>US</td>\n",
       "    </tr>\n",
       "    <tr>\n",
       "      <th>3</th>\n",
       "      <td>St. Julian</td>\n",
       "      <td>Lake Michigan Shore</td>\n",
       "      <td>NaN</td>\n",
       "      <td>Michigan</td>\n",
       "      <td>US</td>\n",
       "    </tr>\n",
       "    <tr>\n",
       "      <th>4</th>\n",
       "      <td>Sweet Cheeks</td>\n",
       "      <td>Willamette Valley</td>\n",
       "      <td>Willamette Valley</td>\n",
       "      <td>Oregon</td>\n",
       "      <td>US</td>\n",
       "    </tr>\n",
       "    <tr>\n",
       "      <th>...</th>\n",
       "      <td>...</td>\n",
       "      <td>...</td>\n",
       "      <td>...</td>\n",
       "      <td>...</td>\n",
       "      <td>...</td>\n",
       "    </tr>\n",
       "    <tr>\n",
       "      <th>129940</th>\n",
       "      <td>Standish</td>\n",
       "      <td>Mendocino</td>\n",
       "      <td>NaN</td>\n",
       "      <td>California</td>\n",
       "      <td>US</td>\n",
       "    </tr>\n",
       "    <tr>\n",
       "      <th>129941</th>\n",
       "      <td>Apriori</td>\n",
       "      <td>Mendocino County</td>\n",
       "      <td>NaN</td>\n",
       "      <td>California</td>\n",
       "      <td>US</td>\n",
       "    </tr>\n",
       "    <tr>\n",
       "      <th>129945</th>\n",
       "      <td>Birichino</td>\n",
       "      <td>Santa Ynez Valley</td>\n",
       "      <td>Central Coast</td>\n",
       "      <td>California</td>\n",
       "      <td>US</td>\n",
       "    </tr>\n",
       "    <tr>\n",
       "      <th>129947</th>\n",
       "      <td>Feudo Principi di Butera</td>\n",
       "      <td>Terre Siciliane</td>\n",
       "      <td>NaN</td>\n",
       "      <td>Sicily &amp; Sardinia</td>\n",
       "      <td>Italy</td>\n",
       "    </tr>\n",
       "    <tr>\n",
       "      <th>129952</th>\n",
       "      <td>Houdini</td>\n",
       "      <td>Chiles Valley</td>\n",
       "      <td>Napa</td>\n",
       "      <td>California</td>\n",
       "      <td>US</td>\n",
       "    </tr>\n",
       "  </tbody>\n",
       "</table>\n",
       "<p>30416 rows × 5 columns</p>\n",
       "</div>"
      ],
      "text/plain": [
       "                          winery             region_1           region_2  \\\n",
       "0                        Nicosia                 Etna                NaN   \n",
       "1            Quinta dos Avidagos                  NaN                NaN   \n",
       "2                      Rainstorm    Willamette Valley  Willamette Valley   \n",
       "3                     St. Julian  Lake Michigan Shore                NaN   \n",
       "4                   Sweet Cheeks    Willamette Valley  Willamette Valley   \n",
       "...                          ...                  ...                ...   \n",
       "129940                  Standish            Mendocino                NaN   \n",
       "129941                   Apriori     Mendocino County                NaN   \n",
       "129945                 Birichino    Santa Ynez Valley      Central Coast   \n",
       "129947  Feudo Principi di Butera      Terre Siciliane                NaN   \n",
       "129952                   Houdini        Chiles Valley               Napa   \n",
       "\n",
       "                 province   country  \n",
       "0       Sicily & Sardinia     Italy  \n",
       "1                   Douro  Portugal  \n",
       "2                  Oregon        US  \n",
       "3                Michigan        US  \n",
       "4                  Oregon        US  \n",
       "...                   ...       ...  \n",
       "129940         California        US  \n",
       "129941         California        US  \n",
       "129945         California        US  \n",
       "129947  Sicily & Sardinia     Italy  \n",
       "129952         California        US  \n",
       "\n",
       "[30416 rows x 5 columns]"
      ]
     },
     "execution_count": 3,
     "metadata": {},
     "output_type": "execute_result"
    }
   ],
   "source": [
    "# extract the locations to augment\n",
    "location_cols = ['winery', 'region_1', 'region_2', 'province', 'country']\n",
    "wineries = np.unique(reviews.winery.dropna())\n",
    "locations = reviews.query('winery in @wineries')[location_cols].copy().drop_duplicates()\n",
    "print(f'{locations.shape[0] - len(wineries):,d}', 'duplicate winery names in different locations' )\n",
    "locations"
   ]
  },
  {
   "cell_type": "markdown",
   "metadata": {},
   "source": [
    "**Method to throttle**"
   ]
  },
  {
   "cell_type": "code",
   "execution_count": 4,
   "metadata": {},
   "outputs": [],
   "source": [
    "def lookup(name):\n",
    "  return codes[name] if name in codes else None"
   ]
  },
  {
   "cell_type": "markdown",
   "metadata": {},
   "source": [
    "**Make it fast**"
   ]
  },
  {
   "cell_type": "code",
   "execution_count": 5,
   "metadata": {},
   "outputs": [
    {
     "data": {
      "application/vnd.jupyter.widget-view+json": {
       "model_id": "9f32e3d376644e94acb781c4e2225d42",
       "version_major": 2,
       "version_minor": 0
      },
      "text/plain": [
       "Pandas Apply:   0%|          | 0/129971 [00:00<?, ?it/s]"
      ]
     },
     "metadata": {},
     "output_type": "display_data"
    },
    {
     "name": "stdout",
     "output_type": "stream",
     "text": [
      "129,971 rows augmented in 0.213 seconds. 0.00164 ms per row.\n"
     ]
    }
   ],
   "source": [
    "from timeit import default_timer as timer\n",
    "start = timer()\n",
    "reviews['code'] = reviews['country'].swifter.apply(lookup)\n",
    "elapsed = timer() - start\n",
    "print(f'{reviews.shape[0]:,d}', 'rows augmented in', f'{elapsed:.3f}', 'seconds.', f'{elapsed/reviews.shape[0]*1_000:.5f}', 'ms per row.')"
   ]
  },
  {
   "cell_type": "markdown",
   "metadata": {},
   "source": [
    "### Throttling Logic"
   ]
  },
  {
   "cell_type": "code",
   "execution_count": 6,
   "metadata": {},
   "outputs": [
    {
     "name": "stdout",
     "output_type": "stream",
     "text": [
      "processing time for 1,000 records is expected to take 1.67 minutes\n"
     ]
    }
   ],
   "source": [
    "rate = 10                       # 10 calls per second\n",
    "\n",
    "expected = 1000 / (60*rate)     # time to process 1000 rows, in minutes\n",
    "\n",
    "print(f'processing time for {1000:,d} records is expected to take {expected:.2f} minutes')"
   ]
  },
  {
   "cell_type": "code",
   "execution_count": 7,
   "metadata": {},
   "outputs": [],
   "source": [
    "from ratelimit import limits, sleep_and_retry\n",
    "\n",
    "# throttled variant of fast operation\n",
    "@sleep_and_retry\n",
    "@limits(calls=10, period=1)  # Adjust rate limits as needed\n",
    "def throttled(name):\n",
    "  return lookup(name)"
   ]
  },
  {
   "cell_type": "code",
   "execution_count": 8,
   "metadata": {},
   "outputs": [
    {
     "data": {
      "application/vnd.jupyter.widget-view+json": {
       "model_id": "f3543c3b00104f9e8c21b65c2bb283fe",
       "version_major": 2,
       "version_minor": 0
      },
      "text/plain": [
       "Pandas Apply:   0%|          | 0/1000 [00:00<?, ?it/s]"
      ]
     },
     "metadata": {},
     "output_type": "display_data"
    },
    {
     "name": "stdout",
     "output_type": "stream",
     "text": [
      "1,000 rows augmented in 1.87 minutes. 112.31971 ms per row.\n"
     ]
    }
   ],
   "source": [
    "n = 1000\n",
    "samples = reviews.sample(1000)\n",
    "start = timer()\n",
    "samples['code'] = samples['country'].swifter.apply(throttled)\n",
    "elapsed = timer() - start\n",
    "print(f'{samples.shape[0]:,d}', 'rows augmented in', f'{elapsed/60:.2f}', 'minutes.', f'{elapsed/samples.shape[0]*1_000:.5f}', 'ms per row.')"
   ]
  },
  {
   "cell_type": "code",
   "execution_count": 9,
   "metadata": {},
   "outputs": [
    {
     "data": {
      "text/plain": [
       "50.7"
      ]
     },
     "execution_count": 9,
     "metadata": {},
     "output_type": "execute_result"
    }
   ],
   "source": [
    "# optimal use of throttling\n",
    "round(locations.shape[0] / (60*rate), 1)"
   ]
  },
  {
   "cell_type": "code",
   "execution_count": 10,
   "metadata": {},
   "outputs": [
    {
     "data": {
      "text/plain": [
       "56.9"
      ]
     },
     "execution_count": 10,
     "metadata": {},
     "output_type": "execute_result"
    }
   ],
   "source": [
    "# realized throttling\n",
    "round((elapsed / n * locations.shape[0]) / 60, 1)"
   ]
  },
  {
   "cell_type": "code",
   "execution_count": 11,
   "metadata": {},
   "outputs": [
    {
     "data": {
      "text/html": [
       "<div>\n",
       "<style scoped>\n",
       "    .dataframe tbody tr th:only-of-type {\n",
       "        vertical-align: middle;\n",
       "    }\n",
       "\n",
       "    .dataframe tbody tr th {\n",
       "        vertical-align: top;\n",
       "    }\n",
       "\n",
       "    .dataframe thead th {\n",
       "        text-align: right;\n",
       "    }\n",
       "</style>\n",
       "<table border=\"1\" class=\"dataframe\">\n",
       "  <thead>\n",
       "    <tr style=\"text-align: right;\">\n",
       "      <th></th>\n",
       "      <th>Unnamed: 0</th>\n",
       "      <th>country</th>\n",
       "      <th>description</th>\n",
       "      <th>designation</th>\n",
       "      <th>points</th>\n",
       "      <th>price</th>\n",
       "      <th>province</th>\n",
       "      <th>region_1</th>\n",
       "      <th>region_2</th>\n",
       "      <th>taster_name</th>\n",
       "      <th>taster_twitter_handle</th>\n",
       "      <th>title</th>\n",
       "      <th>variety</th>\n",
       "      <th>winery</th>\n",
       "      <th>code</th>\n",
       "    </tr>\n",
       "  </thead>\n",
       "  <tbody>\n",
       "    <tr>\n",
       "      <th>56563</th>\n",
       "      <td>56563</td>\n",
       "      <td>US</td>\n",
       "      <td>This is the richest and most satisfying of the...</td>\n",
       "      <td>NaN</td>\n",
       "      <td>88</td>\n",
       "      <td>30.0</td>\n",
       "      <td>California</td>\n",
       "      <td>Russian River Valley</td>\n",
       "      <td>Sonoma</td>\n",
       "      <td>NaN</td>\n",
       "      <td>NaN</td>\n",
       "      <td>Sebastiani 2010 Pinot Noir (Russian River Valley)</td>\n",
       "      <td>Pinot Noir</td>\n",
       "      <td>Sebastiani</td>\n",
       "      <td>US</td>\n",
       "    </tr>\n",
       "    <tr>\n",
       "      <th>31455</th>\n",
       "      <td>31455</td>\n",
       "      <td>France</td>\n",
       "      <td>This is a spicy, ripe wine that has fine acidi...</td>\n",
       "      <td>NaN</td>\n",
       "      <td>88</td>\n",
       "      <td>19.0</td>\n",
       "      <td>Bordeaux</td>\n",
       "      <td>Cadillac Côtes de Bordeaux</td>\n",
       "      <td>NaN</td>\n",
       "      <td>Roger Voss</td>\n",
       "      <td>@vossroger</td>\n",
       "      <td>Château Bel-Air 2014  Cadillac Côtes de Bordeaux</td>\n",
       "      <td>Bordeaux-style Red Blend</td>\n",
       "      <td>Château Bel-Air</td>\n",
       "      <td>FR</td>\n",
       "    </tr>\n",
       "    <tr>\n",
       "      <th>21565</th>\n",
       "      <td>21565</td>\n",
       "      <td>Italy</td>\n",
       "      <td>Here is a distinctive interpretation of Barber...</td>\n",
       "      <td>Solneri</td>\n",
       "      <td>87</td>\n",
       "      <td>35.0</td>\n",
       "      <td>Piedmont</td>\n",
       "      <td>Barbera d'Asti Superiore Nizza</td>\n",
       "      <td>NaN</td>\n",
       "      <td>NaN</td>\n",
       "      <td>NaN</td>\n",
       "      <td>Pescaja 2007 Solneri  (Barbera d'Asti Superior...</td>\n",
       "      <td>Barbera</td>\n",
       "      <td>Pescaja</td>\n",
       "      <td>IT</td>\n",
       "    </tr>\n",
       "    <tr>\n",
       "      <th>118066</th>\n",
       "      <td>118066</td>\n",
       "      <td>US</td>\n",
       "      <td>The blend is mainly Cabernet Sauvignon, with t...</td>\n",
       "      <td>La Joie</td>\n",
       "      <td>96</td>\n",
       "      <td>450.0</td>\n",
       "      <td>California</td>\n",
       "      <td>Sonoma County</td>\n",
       "      <td>Sonoma</td>\n",
       "      <td>NaN</td>\n",
       "      <td>NaN</td>\n",
       "      <td>Verité 2007 La Joie Red (Sonoma County)</td>\n",
       "      <td>Bordeaux-style Red Blend</td>\n",
       "      <td>Verité</td>\n",
       "      <td>US</td>\n",
       "    </tr>\n",
       "    <tr>\n",
       "      <th>60748</th>\n",
       "      <td>60748</td>\n",
       "      <td>Italy</td>\n",
       "      <td>From an excellent vintage, this bright Rosso o...</td>\n",
       "      <td>NaN</td>\n",
       "      <td>89</td>\n",
       "      <td>25.0</td>\n",
       "      <td>Tuscany</td>\n",
       "      <td>Rosso di Montalcino</td>\n",
       "      <td>NaN</td>\n",
       "      <td>NaN</td>\n",
       "      <td>NaN</td>\n",
       "      <td>Castiglion del Bosco 2010  Rosso di Montalcino</td>\n",
       "      <td>Sangiovese Grosso</td>\n",
       "      <td>Castiglion del Bosco</td>\n",
       "      <td>IT</td>\n",
       "    </tr>\n",
       "  </tbody>\n",
       "</table>\n",
       "</div>"
      ],
      "text/plain": [
       "        Unnamed: 0 country                                        description  \\\n",
       "56563        56563      US  This is the richest and most satisfying of the...   \n",
       "31455        31455  France  This is a spicy, ripe wine that has fine acidi...   \n",
       "21565        21565   Italy  Here is a distinctive interpretation of Barber...   \n",
       "118066      118066      US  The blend is mainly Cabernet Sauvignon, with t...   \n",
       "60748        60748   Italy  From an excellent vintage, this bright Rosso o...   \n",
       "\n",
       "       designation  points  price    province                        region_1  \\\n",
       "56563          NaN      88   30.0  California            Russian River Valley   \n",
       "31455          NaN      88   19.0    Bordeaux      Cadillac Côtes de Bordeaux   \n",
       "21565      Solneri      87   35.0    Piedmont  Barbera d'Asti Superiore Nizza   \n",
       "118066     La Joie      96  450.0  California                   Sonoma County   \n",
       "60748          NaN      89   25.0     Tuscany             Rosso di Montalcino   \n",
       "\n",
       "       region_2 taster_name taster_twitter_handle  \\\n",
       "56563    Sonoma         NaN                   NaN   \n",
       "31455       NaN  Roger Voss            @vossroger   \n",
       "21565       NaN         NaN                   NaN   \n",
       "118066   Sonoma         NaN                   NaN   \n",
       "60748       NaN         NaN                   NaN   \n",
       "\n",
       "                                                    title  \\\n",
       "56563   Sebastiani 2010 Pinot Noir (Russian River Valley)   \n",
       "31455    Château Bel-Air 2014  Cadillac Côtes de Bordeaux   \n",
       "21565   Pescaja 2007 Solneri  (Barbera d'Asti Superior...   \n",
       "118066            Verité 2007 La Joie Red (Sonoma County)   \n",
       "60748      Castiglion del Bosco 2010  Rosso di Montalcino   \n",
       "\n",
       "                         variety                winery code  \n",
       "56563                 Pinot Noir            Sebastiani   US  \n",
       "31455   Bordeaux-style Red Blend       Château Bel-Air   FR  \n",
       "21565                    Barbera               Pescaja   IT  \n",
       "118066  Bordeaux-style Red Blend                Verité   US  \n",
       "60748          Sangiovese Grosso  Castiglion del Bosco   IT  "
      ]
     },
     "execution_count": 11,
     "metadata": {},
     "output_type": "execute_result"
    }
   ],
   "source": [
    "samples.head()"
   ]
  },
  {
   "cell_type": "markdown",
   "metadata": {},
   "source": [
    "## Tests"
   ]
  },
  {
   "cell_type": "code",
   "execution_count": 12,
   "metadata": {},
   "outputs": [],
   "source": [
    "import unittest\n",
    "\n",
    "class CountryCodeLookupTest(unittest.TestCase):\n",
    "\n",
    "  def test_lookup_valid_country(self):\n",
    "    self.assertEqual(lookup('France'), 'FR')\n",
    "    self.assertEqual(lookup('United States Of America'), 'US')\n",
    "\n",
    "  def test_lookup_unknown_country(self):\n",
    "    self.assertIsNone(lookup('United States'))\n",
    "\n",
    "  def test_overrides(self):\n",
    "    self.assertEqual(lookup('US'), 'US')\n",
    "\n"
   ]
  },
  {
   "cell_type": "code",
   "execution_count": 13,
   "metadata": {},
   "outputs": [],
   "source": [
    "class CountryCodeAugmentationTest(unittest.TestCase):\n",
    "\n",
    "  def test_codes_exist(self):\n",
    "    self.assertTrue('code' in samples.columns)\n",
    "    self.assertEqual(samples['country'].dropna().count(), samples['code'].dropna().count())\n",
    "    self.assertTrue(np.all(np.vectorize(lookup)(samples['country'].dropna()) == samples['code'].dropna().to_numpy()))\n"
   ]
  },
  {
   "cell_type": "code",
   "execution_count": 14,
   "metadata": {},
   "outputs": [
    {
     "name": "stderr",
     "output_type": "stream",
     "text": [
      "test_codes_exist (__main__.CountryCodeAugmentationTest.test_codes_exist) ... ok\n",
      "test_lookup_unknown_country (__main__.CountryCodeLookupTest.test_lookup_unknown_country) ... ok\n",
      "test_lookup_valid_country (__main__.CountryCodeLookupTest.test_lookup_valid_country) ... ok\n",
      "test_overrides (__main__.CountryCodeLookupTest.test_overrides) ... ok\n",
      "\n",
      "----------------------------------------------------------------------\n",
      "Ran 4 tests in 0.006s\n",
      "\n",
      "OK\n"
     ]
    }
   ],
   "source": [
    "if __name__ == '__main__':\n",
    "    unittest.main(argv=[''], verbosity=2, exit=False)\n",
    "\n",
    "# https://hamatti.org/posts/unit-test-your-python-code-in-jupyter-notebooks/\n",
    "# https://medium.com/@rajeshpillai/api-rate-limiting-2542c2a90b38"
   ]
  }
 ],
 "metadata": {
  "kernelspec": {
   "display_name": ".venv",
   "language": "python",
   "name": "python3"
  },
  "language_info": {
   "codemirror_mode": {
    "name": "ipython",
    "version": 3
   },
   "file_extension": ".py",
   "mimetype": "text/x-python",
   "name": "python",
   "nbconvert_exporter": "python",
   "pygments_lexer": "ipython3",
   "version": "3.12.8"
  }
 },
 "nbformat": 4,
 "nbformat_minor": 2
}
