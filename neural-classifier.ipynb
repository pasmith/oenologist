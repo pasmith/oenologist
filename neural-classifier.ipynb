{
 "cells": [
  {
   "cell_type": "markdown",
   "metadata": {},
   "source": [
    "# Model Training"
   ]
  },
  {
   "cell_type": "code",
   "execution_count": 2,
   "metadata": {},
   "outputs": [],
   "source": [
    "# data manipulation libraries\n",
    "import pandas as pd\n",
    "import numpy as np\n",
    "\n",
    "# custom project libraries\n",
    "from utils.wine_review_utils import load_augmented_data, RATINGS\n",
    "\n",
    "# plotting libraries\n",
    "import matplotlib.pyplot as plt\n",
    "import seaborn as sns\n",
    "sns.set_theme()"
   ]
  },
  {
   "cell_type": "markdown",
   "metadata": {},
   "source": [
    "## Load Augmented data"
   ]
  },
  {
   "cell_type": "code",
   "execution_count": 3,
   "metadata": {},
   "outputs": [
    {
     "name": "stdout",
     "output_type": "stream",
     "text": [
      "<class 'pandas.core.frame.DataFrame'>\n",
      "Index: 98460 entries, 0 to 129970\n",
      "Data columns (total 10 columns):\n",
      " #   Column              Non-Null Count  Dtype  \n",
      "---  ------              --------------  -----  \n",
      " 0   winery              98460 non-null  object \n",
      " 1   variety             98460 non-null  object \n",
      " 2   year                98460 non-null  int64  \n",
      " 3   country             98460 non-null  object \n",
      " 4   price               91633 non-null  float64\n",
      " 5   taster_name         98460 non-null  object \n",
      " 6   description         98460 non-null  object \n",
      " 7   points              98460 non-null  int64  \n",
      " 8   rating              98460 non-null  object \n",
      " 9   description_length  98460 non-null  int64  \n",
      "dtypes: float64(1), int64(3), object(6)\n",
      "memory usage: 8.3+ MB\n"
     ]
    },
    {
     "data": {
      "text/html": [
       "<div>\n",
       "<style scoped>\n",
       "    .dataframe tbody tr th:only-of-type {\n",
       "        vertical-align: middle;\n",
       "    }\n",
       "\n",
       "    .dataframe tbody tr th {\n",
       "        vertical-align: top;\n",
       "    }\n",
       "\n",
       "    .dataframe thead th {\n",
       "        text-align: right;\n",
       "    }\n",
       "</style>\n",
       "<table border=\"1\" class=\"dataframe\">\n",
       "  <thead>\n",
       "    <tr style=\"text-align: right;\">\n",
       "      <th></th>\n",
       "      <th>winery</th>\n",
       "      <th>variety</th>\n",
       "      <th>year</th>\n",
       "      <th>country</th>\n",
       "      <th>price</th>\n",
       "      <th>taster_name</th>\n",
       "      <th>description</th>\n",
       "      <th>points</th>\n",
       "      <th>rating</th>\n",
       "      <th>description_length</th>\n",
       "    </tr>\n",
       "  </thead>\n",
       "  <tbody>\n",
       "    <tr>\n",
       "      <th>0</th>\n",
       "      <td>Nicosia</td>\n",
       "      <td>White Blend</td>\n",
       "      <td>2013</td>\n",
       "      <td>Italy</td>\n",
       "      <td>NaN</td>\n",
       "      <td>Kerin O’Keefe</td>\n",
       "      <td>Aromas include tropical fruit, broom, brimston...</td>\n",
       "      <td>87</td>\n",
       "      <td>very good</td>\n",
       "      <td>172</td>\n",
       "    </tr>\n",
       "    <tr>\n",
       "      <th>1</th>\n",
       "      <td>Quinta dos Avidagos</td>\n",
       "      <td>Portuguese Red</td>\n",
       "      <td>2011</td>\n",
       "      <td>Portugal</td>\n",
       "      <td>15.0</td>\n",
       "      <td>Roger Voss</td>\n",
       "      <td>This is ripe and fruity, a wine that is smooth...</td>\n",
       "      <td>87</td>\n",
       "      <td>very good</td>\n",
       "      <td>227</td>\n",
       "    </tr>\n",
       "    <tr>\n",
       "      <th>2</th>\n",
       "      <td>Rainstorm</td>\n",
       "      <td>Pinot Gris</td>\n",
       "      <td>2013</td>\n",
       "      <td>US</td>\n",
       "      <td>14.0</td>\n",
       "      <td>Paul Gregutt</td>\n",
       "      <td>Tart and snappy, the flavors of lime flesh and...</td>\n",
       "      <td>87</td>\n",
       "      <td>very good</td>\n",
       "      <td>186</td>\n",
       "    </tr>\n",
       "    <tr>\n",
       "      <th>3</th>\n",
       "      <td>St. Julian</td>\n",
       "      <td>Riesling</td>\n",
       "      <td>2013</td>\n",
       "      <td>US</td>\n",
       "      <td>13.0</td>\n",
       "      <td>Alexander Peartree</td>\n",
       "      <td>Pineapple rind, lemon pith and orange blossom ...</td>\n",
       "      <td>87</td>\n",
       "      <td>very good</td>\n",
       "      <td>199</td>\n",
       "    </tr>\n",
       "    <tr>\n",
       "      <th>4</th>\n",
       "      <td>Sweet Cheeks</td>\n",
       "      <td>Pinot Noir</td>\n",
       "      <td>2012</td>\n",
       "      <td>US</td>\n",
       "      <td>65.0</td>\n",
       "      <td>Paul Gregutt</td>\n",
       "      <td>Much like the regular bottling from 2012, this...</td>\n",
       "      <td>87</td>\n",
       "      <td>very good</td>\n",
       "      <td>249</td>\n",
       "    </tr>\n",
       "  </tbody>\n",
       "</table>\n",
       "</div>"
      ],
      "text/plain": [
       "                winery         variety  year   country  price  \\\n",
       "0              Nicosia     White Blend  2013     Italy    NaN   \n",
       "1  Quinta dos Avidagos  Portuguese Red  2011  Portugal   15.0   \n",
       "2            Rainstorm      Pinot Gris  2013        US   14.0   \n",
       "3           St. Julian        Riesling  2013        US   13.0   \n",
       "4         Sweet Cheeks      Pinot Noir  2012        US   65.0   \n",
       "\n",
       "          taster_name                                        description  \\\n",
       "0       Kerin O’Keefe  Aromas include tropical fruit, broom, brimston...   \n",
       "1          Roger Voss  This is ripe and fruity, a wine that is smooth...   \n",
       "2        Paul Gregutt  Tart and snappy, the flavors of lime flesh and...   \n",
       "3  Alexander Peartree  Pineapple rind, lemon pith and orange blossom ...   \n",
       "4        Paul Gregutt  Much like the regular bottling from 2012, this...   \n",
       "\n",
       "   points     rating  description_length  \n",
       "0      87  very good                 172  \n",
       "1      87  very good                 227  \n",
       "2      87  very good                 186  \n",
       "3      87  very good                 199  \n",
       "4      87  very good                 249  "
      ]
     },
     "execution_count": 3,
     "metadata": {},
     "output_type": "execute_result"
    }
   ],
   "source": [
    "reviews = load_augmented_data()\n",
    "reviews.info()\n",
    "reviews.head()"
   ]
  },
  {
   "cell_type": "markdown",
   "metadata": {},
   "source": [
    "## Training/Test Data Split"
   ]
  },
  {
   "cell_type": "code",
   "execution_count": 4,
   "metadata": {},
   "outputs": [],
   "source": [
    "from sklearn.model_selection import train_test_split\n",
    "from sklearn.preprocessing import OneHotEncoder\n",
    "\n",
    "# features\n",
    "X = reviews[['variety', 'country', 'year', 'description_length', 'description']]\n",
    "\n",
    "# target\n",
    "ohe = OneHotEncoder()\n",
    "y = ohe.fit_transform(reviews.rating.to_frame())\n",
    "Y = pd.DataFrame(y.todense(), index=reviews.index, columns=ohe.categories_)\n",
    "\n",
    "X_train, X_test, y_train, y_test = train_test_split(X,Y, test_size=0.2, stratify=Y, random_state=42)"
   ]
  },
  {
   "cell_type": "code",
   "execution_count": 5,
   "metadata": {},
   "outputs": [
    {
     "data": {
      "text/html": [
       "<div>\n",
       "<style scoped>\n",
       "    .dataframe tbody tr th:only-of-type {\n",
       "        vertical-align: middle;\n",
       "    }\n",
       "\n",
       "    .dataframe tbody tr th {\n",
       "        vertical-align: top;\n",
       "    }\n",
       "\n",
       "    .dataframe thead tr th {\n",
       "        text-align: left;\n",
       "    }\n",
       "</style>\n",
       "<table border=\"1\" class=\"dataframe\">\n",
       "  <thead>\n",
       "    <tr>\n",
       "      <th></th>\n",
       "      <th>acceptable</th>\n",
       "      <th>classic</th>\n",
       "      <th>excellent</th>\n",
       "      <th>good</th>\n",
       "      <th>superb</th>\n",
       "      <th>very good</th>\n",
       "    </tr>\n",
       "  </thead>\n",
       "  <tbody>\n",
       "    <tr>\n",
       "      <th>0</th>\n",
       "      <td>0.0</td>\n",
       "      <td>0.0</td>\n",
       "      <td>0.0</td>\n",
       "      <td>0.0</td>\n",
       "      <td>0.0</td>\n",
       "      <td>1.0</td>\n",
       "    </tr>\n",
       "    <tr>\n",
       "      <th>1</th>\n",
       "      <td>0.0</td>\n",
       "      <td>0.0</td>\n",
       "      <td>0.0</td>\n",
       "      <td>0.0</td>\n",
       "      <td>0.0</td>\n",
       "      <td>1.0</td>\n",
       "    </tr>\n",
       "    <tr>\n",
       "      <th>2</th>\n",
       "      <td>0.0</td>\n",
       "      <td>0.0</td>\n",
       "      <td>0.0</td>\n",
       "      <td>0.0</td>\n",
       "      <td>0.0</td>\n",
       "      <td>1.0</td>\n",
       "    </tr>\n",
       "    <tr>\n",
       "      <th>3</th>\n",
       "      <td>0.0</td>\n",
       "      <td>0.0</td>\n",
       "      <td>0.0</td>\n",
       "      <td>0.0</td>\n",
       "      <td>0.0</td>\n",
       "      <td>1.0</td>\n",
       "    </tr>\n",
       "    <tr>\n",
       "      <th>4</th>\n",
       "      <td>0.0</td>\n",
       "      <td>0.0</td>\n",
       "      <td>0.0</td>\n",
       "      <td>0.0</td>\n",
       "      <td>0.0</td>\n",
       "      <td>1.0</td>\n",
       "    </tr>\n",
       "  </tbody>\n",
       "</table>\n",
       "</div>"
      ],
      "text/plain": [
       "  acceptable classic excellent good superb very good\n",
       "0        0.0     0.0       0.0  0.0    0.0       1.0\n",
       "1        0.0     0.0       0.0  0.0    0.0       1.0\n",
       "2        0.0     0.0       0.0  0.0    0.0       1.0\n",
       "3        0.0     0.0       0.0  0.0    0.0       1.0\n",
       "4        0.0     0.0       0.0  0.0    0.0       1.0"
      ]
     },
     "execution_count": 5,
     "metadata": {},
     "output_type": "execute_result"
    }
   ],
   "source": [
    "# inspect encoded target\n",
    "Y.head()"
   ]
  },
  {
   "cell_type": "code",
   "execution_count": 6,
   "metadata": {},
   "outputs": [
    {
     "data": {
      "image/png": "[encoded data removed]",
      "text/plain": [
       "<Figure size 600x300 with 1 Axes>"
      ]
     },
     "metadata": {},
     "output_type": "display_data"
    }
   ],
   "source": [
    "# check the distribution of the target variable\n",
    "__y_train = reviews.loc[X_train.index, 'rating']\n",
    "__y_test = reviews.loc[X_test.index, 'rating']\n",
    "\n",
    "fig = plt.figure(figsize=(6,3))\n",
    "pd.Series(__y_train).value_counts(normalize=False).sort_index().plot(kind='bar', color='mediumpurple', alpha=0.7, label='training')\n",
    "pd.Series(__y_test).value_counts(normalize=False).sort_index().plot(kind='bar', color='purple', alpha=0.7, label='test')\n",
    "plt.title(\"Distribution of Rating in the Training and Test Data Sets\")\n",
    "plt.xlabel(\"Rating\")\n",
    "plt.ylabel(\"Count of Reviews\")\n",
    "plt.xticks(plt.xticks()[0], labels=['acceptable', 'classic', 'excellent', 'good', 'superb', 'very good'], fontsize=8, rotation=0)\n",
    "plt.yticks(fontsize=8)\n",
    "plt.legend()\n",
    "plt.grid()\n",
    "plt.tight_layout()\n",
    "plt.show()"
   ]
  },
  {
   "cell_type": "markdown",
   "metadata": {},
   "source": [
    "## Baseline Model"
   ]
  },
  {
   "cell_type": "code",
   "execution_count": 7,
   "metadata": {},
   "outputs": [
    {
     "name": "stdout",
     "output_type": "stream",
     "text": [
      "Accuracy on training data: 52.5%\n",
      "Accuracy on test data: 52.1%\n"
     ]
    }
   ],
   "source": [
    "from sklearn.compose import ColumnTransformer\n",
    "from sklearn.pipeline import Pipeline\n",
    "from sklearn.preprocessing import MinMaxScaler, OneHotEncoder, PolynomialFeatures\n",
    "from sklearn.linear_model import LogisticRegression\n",
    "import time\n",
    "\n",
    "# define the baseline model\n",
    "lr_pipe = Pipeline([\n",
    "  ('preprocess', ColumnTransformer([('ohe', OneHotEncoder(drop='first', handle_unknown='infrequent_if_exist'), ['variety', 'country']),\n",
    "                                    ('scaler', Pipeline([('poly', PolynomialFeatures(degree=2)), ('scaler', MinMaxScaler())]), ['year', 'description_length']),      \n",
    "                                  ])\n",
    "  ),\n",
    "  ('lr', LogisticRegression(max_iter=500, C=.5, solver='saga')),\n",
    "])\n",
    "\n",
    "# fit the baseline model\n",
    "start = time.perf_counter()\n",
    "lr_pipe.fit(X_train.drop('description', axis=1), __y_train)\n",
    "duration = time.perf_counter()-start\n",
    "\n",
    "# evaluate performance\n",
    "accuracy_train = lr_pipe.score(X_train.drop('description', axis=1), __y_train)\n",
    "accuracy_test = lr_pipe.score(X_test.drop('description', axis=1), __y_test)\n",
    "\n",
    "print(f'Accuracy on training data: {accuracy_train:.1%}')\n",
    "print(f'Accuracy on test data: {accuracy_test:.1%}')"
   ]
  },
  {
   "cell_type": "code",
   "execution_count": 8,
   "metadata": {},
   "outputs": [
    {
     "name": "stdout",
     "output_type": "stream",
     "text": [
      "              precision    recall  f1-score   support\n",
      "\n",
      "  acceptable       0.81      0.06      0.11       438\n",
      "        good       0.54      0.54      0.54      4719\n",
      "   very good       0.47      0.46      0.46      6668\n",
      "   excellent       0.56      0.67      0.61      6779\n",
      "      superb       0.53      0.08      0.14      1065\n",
      "     classic       0.00      0.00      0.00        23\n",
      "\n",
      "    accuracy                           0.52     19692\n",
      "   macro avg       0.48      0.30      0.31     19692\n",
      "weighted avg       0.52      0.52      0.50     19692\n",
      "\n"
     ]
    }
   ],
   "source": [
    "from sklearn.metrics import confusion_matrix, classification_report, ConfusionMatrixDisplay\n",
    "\n",
    "# the target classes\n",
    "ratings = ['acceptable', 'good', 'very good', 'excellent', 'superb', 'classic']\n",
    "\n",
    "# predictions on test data\n",
    "y_preds = lr_pipe.predict(X_test)\n",
    "\n",
    "# confusion matrix\n",
    "conf_matrix = confusion_matrix(ohe.inverse_transform(y_test), y_preds, normalize='pred', labels=ratings)\n",
    "\n",
    "# classification report\n",
    "print(classification_report(ohe.inverse_transform(y_test), y_preds, labels=ratings, zero_division=0))"
   ]
  },
  {
   "cell_type": "code",
   "execution_count": 9,
   "metadata": {},
   "outputs": [],
   "source": [
    "result_baseline = (duration, accuracy_train, accuracy_test, conf_matrix)"
   ]
  },
  {
   "cell_type": "markdown",
   "metadata": {},
   "source": [
    "## Feature Engineering"
   ]
  },
  {
   "cell_type": "code",
   "execution_count": 10,
   "metadata": {},
   "outputs": [
    {
     "data": {
      "text/html": [
       "<style>#sk-container-id-1 {\n",
       "  /* Definition of color scheme common for light and dark mode */\n",
       "  --sklearn-color-text: #000;\n",
       "  --sklearn-color-text-muted: #666;\n",
       "  --sklearn-color-line: gray;\n",
       "  /* Definition of color scheme for unfitted estimators */\n",
       "  --sklearn-color-unfitted-level-0: #fff5e6;\n",
       "  --sklearn-color-unfitted-level-1: #f6e4d2;\n",
       "  --sklearn-color-unfitted-level-2: #ffe0b3;\n",
       "  --sklearn-color-unfitted-level-3: chocolate;\n",
       "  /* Definition of color scheme for fitted estimators */\n",
       "  --sklearn-color-fitted-level-0: #f0f8ff;\n",
       "  --sklearn-color-fitted-level-1: #d4ebff;\n",
       "  --sklearn-color-fitted-level-2: #b3dbfd;\n",
       "  --sklearn-color-fitted-level-3: cornflowerblue;\n",
       "\n",
       "  /* Specific color for light theme */\n",
       "  --sklearn-color-text-on-default-background: var(--sg-text-color, var(--theme-code-foreground, var(--jp-content-font-color1, black)));\n",
       "  --sklearn-color-background: var(--sg-background-color, var(--theme-background, var(--jp-layout-color0, white)));\n",
       "  --sklearn-color-border-box: var(--sg-text-color, var(--theme-code-foreground, var(--jp-content-font-color1, black)));\n",
       "  --sklearn-color-icon: #696969;\n",
       "\n",
       "  @media (prefers-color-scheme: dark) {\n",
       "    /* Redefinition of color scheme for dark theme */\n",
       "    --sklearn-color-text-on-default-background: var(--sg-text-color, var(--theme-code-foreground, var(--jp-content-font-color1, white)));\n",
       "    --sklearn-color-background: var(--sg-background-color, var(--theme-background, var(--jp-layout-color0, #111)));\n",
       "    --sklearn-color-border-box: var(--sg-text-color, var(--theme-code-foreground, var(--jp-content-font-color1, white)));\n",
       "    --sklearn-color-icon: #878787;\n",
       "  }\n",
       "}\n",
       "\n",
       "#sk-container-id-1 {\n",
       "  color: var(--sklearn-color-text);\n",
       "}\n",
       "\n",
       "#sk-container-id-1 pre {\n",
       "  padding: 0;\n",
       "}\n",
       "\n",
       "#sk-container-id-1 input.sk-hidden--visually {\n",
       "  border: 0;\n",
       "  clip: rect(1px 1px 1px 1px);\n",
       "  clip: rect(1px, 1px, 1px, 1px);\n",
       "  height: 1px;\n",
       "  margin: -1px;\n",
       "  overflow: hidden;\n",
       "  padding: 0;\n",
       "  position: absolute;\n",
       "  width: 1px;\n",
       "}\n",
       "\n",
       "#sk-container-id-1 div.sk-dashed-wrapped {\n",
       "  border: 1px dashed var(--sklearn-color-line);\n",
       "  margin: 0 0.4em 0.5em 0.4em;\n",
       "  box-sizing: border-box;\n",
       "  padding-bottom: 0.4em;\n",
       "  background-color: var(--sklearn-color-background);\n",
       "}\n",
       "\n",
       "#sk-container-id-1 div.sk-container {\n",
       "  /* jupyter's `normalize.less` sets `[hidden] { display: none; }`\n",
       "     but bootstrap.min.css set `[hidden] { display: none !important; }`\n",
       "     so we also need the `!important` here to be able to override the\n",
       "     default hidden behavior on the sphinx rendered scikit-learn.org.\n",
       "     See: https://github.com/scikit-learn/scikit-learn/issues/21755 */\n",
       "  display: inline-block !important;\n",
       "  position: relative;\n",
       "}\n",
       "\n",
       "#sk-container-id-1 div.sk-text-repr-fallback {\n",
       "  display: none;\n",
       "}\n",
       "\n",
       "div.sk-parallel-item,\n",
       "div.sk-serial,\n",
       "div.sk-item {\n",
       "  /* draw centered vertical line to link estimators */\n",
       "  background-image: linear-gradient(var(--sklearn-color-text-on-default-background), var(--sklearn-color-text-on-default-background));\n",
       "  background-size: 2px 100%;\n",
       "  background-repeat: no-repeat;\n",
       "  background-position: center center;\n",
       "}\n",
       "\n",
       "/* Parallel-specific style estimator block */\n",
       "\n",
       "#sk-container-id-1 div.sk-parallel-item::after {\n",
       "  content: \"\";\n",
       "  width: 100%;\n",
       "  border-bottom: 2px solid var(--sklearn-color-text-on-default-background);\n",
       "  flex-grow: 1;\n",
       "}\n",
       "\n",
       "#sk-container-id-1 div.sk-parallel {\n",
       "  display: flex;\n",
       "  align-items: stretch;\n",
       "  justify-content: center;\n",
       "  background-color: var(--sklearn-color-background);\n",
       "  position: relative;\n",
       "}\n",
       "\n",
       "#sk-container-id-1 div.sk-parallel-item {\n",
       "  display: flex;\n",
       "  flex-direction: column;\n",
       "}\n",
       "\n",
       "#sk-container-id-1 div.sk-parallel-item:first-child::after {\n",
       "  align-self: flex-end;\n",
       "  width: 50%;\n",
       "}\n",
       "\n",
       "#sk-container-id-1 div.sk-parallel-item:last-child::after {\n",
       "  align-self: flex-start;\n",
       "  width: 50%;\n",
       "}\n",
       "\n",
       "#sk-container-id-1 div.sk-parallel-item:only-child::after {\n",
       "  width: 0;\n",
       "}\n",
       "\n",
       "/* Serial-specific style estimator block */\n",
       "\n",
       "#sk-container-id-1 div.sk-serial {\n",
       "  display: flex;\n",
       "  flex-direction: column;\n",
       "  align-items: center;\n",
       "  background-color: var(--sklearn-color-background);\n",
       "  padding-right: 1em;\n",
       "  padding-left: 1em;\n",
       "}\n",
       "\n",
       "\n",
       "/* Toggleable style: style used for estimator/Pipeline/ColumnTransformer box that is\n",
       "clickable and can be expanded/collapsed.\n",
       "- Pipeline and ColumnTransformer use this feature and define the default style\n",
       "- Estimators will overwrite some part of the style using the `sk-estimator` class\n",
       "*/\n",
       "\n",
       "/* Pipeline and ColumnTransformer style (default) */\n",
       "\n",
       "#sk-container-id-1 div.sk-toggleable {\n",
       "  /* Default theme specific background. It is overwritten whether we have a\n",
       "  specific estimator or a Pipeline/ColumnTransformer */\n",
       "  background-color: var(--sklearn-color-background);\n",
       "}\n",
       "\n",
       "/* Toggleable label */\n",
       "#sk-container-id-1 label.sk-toggleable__label {\n",
       "  cursor: pointer;\n",
       "  display: flex;\n",
       "  width: 100%;\n",
       "  margin-bottom: 0;\n",
       "  padding: 0.5em;\n",
       "  box-sizing: border-box;\n",
       "  text-align: center;\n",
       "  align-items: start;\n",
       "  justify-content: space-between;\n",
       "  gap: 0.5em;\n",
       "}\n",
       "\n",
       "#sk-container-id-1 label.sk-toggleable__label .caption {\n",
       "  font-size: 0.6rem;\n",
       "  font-weight: lighter;\n",
       "  color: var(--sklearn-color-text-muted);\n",
       "}\n",
       "\n",
       "#sk-container-id-1 label.sk-toggleable__label-arrow:before {\n",
       "  /* Arrow on the left of the label */\n",
       "  content: \"▸\";\n",
       "  float: left;\n",
       "  margin-right: 0.25em;\n",
       "  color: var(--sklearn-color-icon);\n",
       "}\n",
       "\n",
       "#sk-container-id-1 label.sk-toggleable__label-arrow:hover:before {\n",
       "  color: var(--sklearn-color-text);\n",
       "}\n",
       "\n",
       "/* Toggleable content - dropdown */\n",
       "\n",
       "#sk-container-id-1 div.sk-toggleable__content {\n",
       "  max-height: 0;\n",
       "  max-width: 0;\n",
       "  overflow: hidden;\n",
       "  text-align: left;\n",
       "  /* unfitted */\n",
       "  background-color: var(--sklearn-color-unfitted-level-0);\n",
       "}\n",
       "\n",
       "#sk-container-id-1 div.sk-toggleable__content.fitted {\n",
       "  /* fitted */\n",
       "  background-color: var(--sklearn-color-fitted-level-0);\n",
       "}\n",
       "\n",
       "#sk-container-id-1 div.sk-toggleable__content pre {\n",
       "  margin: 0.2em;\n",
       "  border-radius: 0.25em;\n",
       "  color: var(--sklearn-color-text);\n",
       "  /* unfitted */\n",
       "  background-color: var(--sklearn-color-unfitted-level-0);\n",
       "}\n",
       "\n",
       "#sk-container-id-1 div.sk-toggleable__content.fitted pre {\n",
       "  /* unfitted */\n",
       "  background-color: var(--sklearn-color-fitted-level-0);\n",
       "}\n",
       "\n",
       "#sk-container-id-1 input.sk-toggleable__control:checked~div.sk-toggleable__content {\n",
       "  /* Expand drop-down */\n",
       "  max-height: 200px;\n",
       "  max-width: 100%;\n",
       "  overflow: auto;\n",
       "}\n",
       "\n",
       "#sk-container-id-1 input.sk-toggleable__control:checked~label.sk-toggleable__label-arrow:before {\n",
       "  content: \"▾\";\n",
       "}\n",
       "\n",
       "/* Pipeline/ColumnTransformer-specific style */\n",
       "\n",
       "#sk-container-id-1 div.sk-label input.sk-toggleable__control:checked~label.sk-toggleable__label {\n",
       "  color: var(--sklearn-color-text);\n",
       "  background-color: var(--sklearn-color-unfitted-level-2);\n",
       "}\n",
       "\n",
       "#sk-container-id-1 div.sk-label.fitted input.sk-toggleable__control:checked~label.sk-toggleable__label {\n",
       "  background-color: var(--sklearn-color-fitted-level-2);\n",
       "}\n",
       "\n",
       "/* Estimator-specific style */\n",
       "\n",
       "/* Colorize estimator box */\n",
       "#sk-container-id-1 div.sk-estimator input.sk-toggleable__control:checked~label.sk-toggleable__label {\n",
       "  /* unfitted */\n",
       "  background-color: var(--sklearn-color-unfitted-level-2);\n",
       "}\n",
       "\n",
       "#sk-container-id-1 div.sk-estimator.fitted input.sk-toggleable__control:checked~label.sk-toggleable__label {\n",
       "  /* fitted */\n",
       "  background-color: var(--sklearn-color-fitted-level-2);\n",
       "}\n",
       "\n",
       "#sk-container-id-1 div.sk-label label.sk-toggleable__label,\n",
       "#sk-container-id-1 div.sk-label label {\n",
       "  /* The background is the default theme color */\n",
       "  color: var(--sklearn-color-text-on-default-background);\n",
       "}\n",
       "\n",
       "/* On hover, darken the color of the background */\n",
       "#sk-container-id-1 div.sk-label:hover label.sk-toggleable__label {\n",
       "  color: var(--sklearn-color-text);\n",
       "  background-color: var(--sklearn-color-unfitted-level-2);\n",
       "}\n",
       "\n",
       "/* Label box, darken color on hover, fitted */\n",
       "#sk-container-id-1 div.sk-label.fitted:hover label.sk-toggleable__label.fitted {\n",
       "  color: var(--sklearn-color-text);\n",
       "  background-color: var(--sklearn-color-fitted-level-2);\n",
       "}\n",
       "\n",
       "/* Estimator label */\n",
       "\n",
       "#sk-container-id-1 div.sk-label label {\n",
       "  font-family: monospace;\n",
       "  font-weight: bold;\n",
       "  display: inline-block;\n",
       "  line-height: 1.2em;\n",
       "}\n",
       "\n",
       "#sk-container-id-1 div.sk-label-container {\n",
       "  text-align: center;\n",
       "}\n",
       "\n",
       "/* Estimator-specific */\n",
       "#sk-container-id-1 div.sk-estimator {\n",
       "  font-family: monospace;\n",
       "  border: 1px dotted var(--sklearn-color-border-box);\n",
       "  border-radius: 0.25em;\n",
       "  box-sizing: border-box;\n",
       "  margin-bottom: 0.5em;\n",
       "  /* unfitted */\n",
       "  background-color: var(--sklearn-color-unfitted-level-0);\n",
       "}\n",
       "\n",
       "#sk-container-id-1 div.sk-estimator.fitted {\n",
       "  /* fitted */\n",
       "  background-color: var(--sklearn-color-fitted-level-0);\n",
       "}\n",
       "\n",
       "/* on hover */\n",
       "#sk-container-id-1 div.sk-estimator:hover {\n",
       "  /* unfitted */\n",
       "  background-color: var(--sklearn-color-unfitted-level-2);\n",
       "}\n",
       "\n",
       "#sk-container-id-1 div.sk-estimator.fitted:hover {\n",
       "  /* fitted */\n",
       "  background-color: var(--sklearn-color-fitted-level-2);\n",
       "}\n",
       "\n",
       "/* Specification for estimator info (e.g. \"i\" and \"?\") */\n",
       "\n",
       "/* Common style for \"i\" and \"?\" */\n",
       "\n",
       ".sk-estimator-doc-link,\n",
       "a:link.sk-estimator-doc-link,\n",
       "a:visited.sk-estimator-doc-link {\n",
       "  float: right;\n",
       "  font-size: smaller;\n",
       "  line-height: 1em;\n",
       "  font-family: monospace;\n",
       "  background-color: var(--sklearn-color-background);\n",
       "  border-radius: 1em;\n",
       "  height: 1em;\n",
       "  width: 1em;\n",
       "  text-decoration: none !important;\n",
       "  margin-left: 0.5em;\n",
       "  text-align: center;\n",
       "  /* unfitted */\n",
       "  border: var(--sklearn-color-unfitted-level-1) 1pt solid;\n",
       "  color: var(--sklearn-color-unfitted-level-1);\n",
       "}\n",
       "\n",
       ".sk-estimator-doc-link.fitted,\n",
       "a:link.sk-estimator-doc-link.fitted,\n",
       "a:visited.sk-estimator-doc-link.fitted {\n",
       "  /* fitted */\n",
       "  border: var(--sklearn-color-fitted-level-1) 1pt solid;\n",
       "  color: var(--sklearn-color-fitted-level-1);\n",
       "}\n",
       "\n",
       "/* On hover */\n",
       "div.sk-estimator:hover .sk-estimator-doc-link:hover,\n",
       ".sk-estimator-doc-link:hover,\n",
       "div.sk-label-container:hover .sk-estimator-doc-link:hover,\n",
       ".sk-estimator-doc-link:hover {\n",
       "  /* unfitted */\n",
       "  background-color: var(--sklearn-color-unfitted-level-3);\n",
       "  color: var(--sklearn-color-background);\n",
       "  text-decoration: none;\n",
       "}\n",
       "\n",
       "div.sk-estimator.fitted:hover .sk-estimator-doc-link.fitted:hover,\n",
       ".sk-estimator-doc-link.fitted:hover,\n",
       "div.sk-label-container:hover .sk-estimator-doc-link.fitted:hover,\n",
       ".sk-estimator-doc-link.fitted:hover {\n",
       "  /* fitted */\n",
       "  background-color: var(--sklearn-color-fitted-level-3);\n",
       "  color: var(--sklearn-color-background);\n",
       "  text-decoration: none;\n",
       "}\n",
       "\n",
       "/* Span, style for the box shown on hovering the info icon */\n",
       ".sk-estimator-doc-link span {\n",
       "  display: none;\n",
       "  z-index: 9999;\n",
       "  position: relative;\n",
       "  font-weight: normal;\n",
       "  right: .2ex;\n",
       "  padding: .5ex;\n",
       "  margin: .5ex;\n",
       "  width: min-content;\n",
       "  min-width: 20ex;\n",
       "  max-width: 50ex;\n",
       "  color: var(--sklearn-color-text);\n",
       "  box-shadow: 2pt 2pt 4pt #999;\n",
       "  /* unfitted */\n",
       "  background: var(--sklearn-color-unfitted-level-0);\n",
       "  border: .5pt solid var(--sklearn-color-unfitted-level-3);\n",
       "}\n",
       "\n",
       ".sk-estimator-doc-link.fitted span {\n",
       "  /* fitted */\n",
       "  background: var(--sklearn-color-fitted-level-0);\n",
       "  border: var(--sklearn-color-fitted-level-3);\n",
       "}\n",
       "\n",
       ".sk-estimator-doc-link:hover span {\n",
       "  display: block;\n",
       "}\n",
       "\n",
       "/* \"?\"-specific style due to the `<a>` HTML tag */\n",
       "\n",
       "#sk-container-id-1 a.estimator_doc_link {\n",
       "  float: right;\n",
       "  font-size: 1rem;\n",
       "  line-height: 1em;\n",
       "  font-family: monospace;\n",
       "  background-color: var(--sklearn-color-background);\n",
       "  border-radius: 1rem;\n",
       "  height: 1rem;\n",
       "  width: 1rem;\n",
       "  text-decoration: none;\n",
       "  /* unfitted */\n",
       "  color: var(--sklearn-color-unfitted-level-1);\n",
       "  border: var(--sklearn-color-unfitted-level-1) 1pt solid;\n",
       "}\n",
       "\n",
       "#sk-container-id-1 a.estimator_doc_link.fitted {\n",
       "  /* fitted */\n",
       "  border: var(--sklearn-color-fitted-level-1) 1pt solid;\n",
       "  color: var(--sklearn-color-fitted-level-1);\n",
       "}\n",
       "\n",
       "/* On hover */\n",
       "#sk-container-id-1 a.estimator_doc_link:hover {\n",
       "  /* unfitted */\n",
       "  background-color: var(--sklearn-color-unfitted-level-3);\n",
       "  color: var(--sklearn-color-background);\n",
       "  text-decoration: none;\n",
       "}\n",
       "\n",
       "#sk-container-id-1 a.estimator_doc_link.fitted:hover {\n",
       "  /* fitted */\n",
       "  background-color: var(--sklearn-color-fitted-level-3);\n",
       "}\n",
       "</style><div id=\"sk-container-id-1\" class=\"sk-top-container\"><div class=\"sk-text-repr-fallback\"><pre>ColumnTransformer(transformers=[(&#x27;ohe&#x27;,\n",
       "                                 OneHotEncoder(drop=&#x27;first&#x27;,\n",
       "                                               handle_unknown=&#x27;infrequent_if_exist&#x27;),\n",
       "                                 [&#x27;variety&#x27;, &#x27;country&#x27;]),\n",
       "                                (&#x27;scaler&#x27;,\n",
       "                                 Pipeline(steps=[(&#x27;poly&#x27;, PolynomialFeatures()),\n",
       "                                                 (&#x27;scaler&#x27;, MinMaxScaler())]),\n",
       "                                 [&#x27;year&#x27;, &#x27;description_length&#x27;]),\n",
       "                                (&#x27;embeds&#x27;,\n",
       "                                 Pipeline(steps=[(&#x27;encode&#x27;,\n",
       "                                                  FunctionTransformer(feature_names_out=&lt;function &lt;lambda&gt; at 0x419613e20&gt;,\n",
       "                                                                      func=&lt;function &lt;lambda&gt; at 0x1091d5da0&gt;)),\n",
       "                                                 (&#x27;scaler&#x27;, MinMaxScaler())]),\n",
       "                                 &#x27;description&#x27;)])</pre><b>In a Jupyter environment, please rerun this cell to show the HTML representation or trust the notebook. <br />On GitHub, the HTML representation is unable to render, please try loading this page with nbviewer.org.</b></div><div class=\"sk-container\" hidden><div class=\"sk-item sk-dashed-wrapped\"><div class=\"sk-label-container\"><div class=\"sk-label  sk-toggleable\"><input class=\"sk-toggleable__control sk-hidden--visually\" id=\"sk-estimator-id-1\" type=\"checkbox\" ><label for=\"sk-estimator-id-1\" class=\"sk-toggleable__label  sk-toggleable__label-arrow\"><div><div>ColumnTransformer</div></div><div><a class=\"sk-estimator-doc-link \" rel=\"noreferrer\" target=\"_blank\" href=\"https://scikit-learn.org/1.6/modules/generated/sklearn.compose.ColumnTransformer.html\">?<span>Documentation for ColumnTransformer</span></a><span class=\"sk-estimator-doc-link \">i<span>Not fitted</span></span></div></label><div class=\"sk-toggleable__content \"><pre>ColumnTransformer(transformers=[(&#x27;ohe&#x27;,\n",
       "                                 OneHotEncoder(drop=&#x27;first&#x27;,\n",
       "                                               handle_unknown=&#x27;infrequent_if_exist&#x27;),\n",
       "                                 [&#x27;variety&#x27;, &#x27;country&#x27;]),\n",
       "                                (&#x27;scaler&#x27;,\n",
       "                                 Pipeline(steps=[(&#x27;poly&#x27;, PolynomialFeatures()),\n",
       "                                                 (&#x27;scaler&#x27;, MinMaxScaler())]),\n",
       "                                 [&#x27;year&#x27;, &#x27;description_length&#x27;]),\n",
       "                                (&#x27;embeds&#x27;,\n",
       "                                 Pipeline(steps=[(&#x27;encode&#x27;,\n",
       "                                                  FunctionTransformer(feature_names_out=&lt;function &lt;lambda&gt; at 0x419613e20&gt;,\n",
       "                                                                      func=&lt;function &lt;lambda&gt; at 0x1091d5da0&gt;)),\n",
       "                                                 (&#x27;scaler&#x27;, MinMaxScaler())]),\n",
       "                                 &#x27;description&#x27;)])</pre></div> </div></div><div class=\"sk-parallel\"><div class=\"sk-parallel-item\"><div class=\"sk-item\"><div class=\"sk-label-container\"><div class=\"sk-label  sk-toggleable\"><input class=\"sk-toggleable__control sk-hidden--visually\" id=\"sk-estimator-id-2\" type=\"checkbox\" ><label for=\"sk-estimator-id-2\" class=\"sk-toggleable__label  sk-toggleable__label-arrow\"><div><div>ohe</div></div></label><div class=\"sk-toggleable__content \"><pre>[&#x27;variety&#x27;, &#x27;country&#x27;]</pre></div> </div></div><div class=\"sk-serial\"><div class=\"sk-item\"><div class=\"sk-estimator  sk-toggleable\"><input class=\"sk-toggleable__control sk-hidden--visually\" id=\"sk-estimator-id-3\" type=\"checkbox\" ><label for=\"sk-estimator-id-3\" class=\"sk-toggleable__label  sk-toggleable__label-arrow\"><div><div>OneHotEncoder</div></div><div><a class=\"sk-estimator-doc-link \" rel=\"noreferrer\" target=\"_blank\" href=\"https://scikit-learn.org/1.6/modules/generated/sklearn.preprocessing.OneHotEncoder.html\">?<span>Documentation for OneHotEncoder</span></a></div></label><div class=\"sk-toggleable__content \"><pre>OneHotEncoder(drop=&#x27;first&#x27;, handle_unknown=&#x27;infrequent_if_exist&#x27;)</pre></div> </div></div></div></div></div><div class=\"sk-parallel-item\"><div class=\"sk-item\"><div class=\"sk-label-container\"><div class=\"sk-label  sk-toggleable\"><input class=\"sk-toggleable__control sk-hidden--visually\" id=\"sk-estimator-id-4\" type=\"checkbox\" ><label for=\"sk-estimator-id-4\" class=\"sk-toggleable__label  sk-toggleable__label-arrow\"><div><div>scaler</div></div></label><div class=\"sk-toggleable__content \"><pre>[&#x27;year&#x27;, &#x27;description_length&#x27;]</pre></div> </div></div><div class=\"sk-serial\"><div class=\"sk-item\"><div class=\"sk-serial\"><div class=\"sk-item\"><div class=\"sk-estimator  sk-toggleable\"><input class=\"sk-toggleable__control sk-hidden--visually\" id=\"sk-estimator-id-5\" type=\"checkbox\" ><label for=\"sk-estimator-id-5\" class=\"sk-toggleable__label  sk-toggleable__label-arrow\"><div><div>PolynomialFeatures</div></div><div><a class=\"sk-estimator-doc-link \" rel=\"noreferrer\" target=\"_blank\" href=\"https://scikit-learn.org/1.6/modules/generated/sklearn.preprocessing.PolynomialFeatures.html\">?<span>Documentation for PolynomialFeatures</span></a></div></label><div class=\"sk-toggleable__content \"><pre>PolynomialFeatures()</pre></div> </div></div><div class=\"sk-item\"><div class=\"sk-estimator  sk-toggleable\"><input class=\"sk-toggleable__control sk-hidden--visually\" id=\"sk-estimator-id-6\" type=\"checkbox\" ><label for=\"sk-estimator-id-6\" class=\"sk-toggleable__label  sk-toggleable__label-arrow\"><div><div>MinMaxScaler</div></div><div><a class=\"sk-estimator-doc-link \" rel=\"noreferrer\" target=\"_blank\" href=\"https://scikit-learn.org/1.6/modules/generated/sklearn.preprocessing.MinMaxScaler.html\">?<span>Documentation for MinMaxScaler</span></a></div></label><div class=\"sk-toggleable__content \"><pre>MinMaxScaler()</pre></div> </div></div></div></div></div></div></div><div class=\"sk-parallel-item\"><div class=\"sk-item\"><div class=\"sk-label-container\"><div class=\"sk-label  sk-toggleable\"><input class=\"sk-toggleable__control sk-hidden--visually\" id=\"sk-estimator-id-7\" type=\"checkbox\" ><label for=\"sk-estimator-id-7\" class=\"sk-toggleable__label  sk-toggleable__label-arrow\"><div><div>embeds</div></div></label><div class=\"sk-toggleable__content \"><pre>description</pre></div> </div></div><div class=\"sk-serial\"><div class=\"sk-item\"><div class=\"sk-serial\"><div class=\"sk-item\"><div class=\"sk-estimator  sk-toggleable\"><input class=\"sk-toggleable__control sk-hidden--visually\" id=\"sk-estimator-id-8\" type=\"checkbox\" ><label for=\"sk-estimator-id-8\" class=\"sk-toggleable__label  sk-toggleable__label-arrow\"><div><div>&lt;lambda&gt;</div><div class=\"caption\">FunctionTransformer</div></div><div><a class=\"sk-estimator-doc-link \" rel=\"noreferrer\" target=\"_blank\" href=\"https://scikit-learn.org/1.6/modules/generated/sklearn.preprocessing.FunctionTransformer.html\">?<span>Documentation for FunctionTransformer</span></a></div></label><div class=\"sk-toggleable__content \"><pre>FunctionTransformer(feature_names_out=&lt;function &lt;lambda&gt; at 0x419613e20&gt;,\n",
       "                    func=&lt;function &lt;lambda&gt; at 0x1091d5da0&gt;)</pre></div> </div></div><div class=\"sk-item\"><div class=\"sk-estimator  sk-toggleable\"><input class=\"sk-toggleable__control sk-hidden--visually\" id=\"sk-estimator-id-9\" type=\"checkbox\" ><label for=\"sk-estimator-id-9\" class=\"sk-toggleable__label  sk-toggleable__label-arrow\"><div><div>MinMaxScaler</div></div><div><a class=\"sk-estimator-doc-link \" rel=\"noreferrer\" target=\"_blank\" href=\"https://scikit-learn.org/1.6/modules/generated/sklearn.preprocessing.MinMaxScaler.html\">?<span>Documentation for MinMaxScaler</span></a></div></label><div class=\"sk-toggleable__content \"><pre>MinMaxScaler()</pre></div> </div></div></div></div></div></div></div></div></div></div></div>"
      ],
      "text/plain": [
       "ColumnTransformer(transformers=[('ohe',\n",
       "                                 OneHotEncoder(drop='first',\n",
       "                                               handle_unknown='infrequent_if_exist'),\n",
       "                                 ['variety', 'country']),\n",
       "                                ('scaler',\n",
       "                                 Pipeline(steps=[('poly', PolynomialFeatures()),\n",
       "                                                 ('scaler', MinMaxScaler())]),\n",
       "                                 ['year', 'description_length']),\n",
       "                                ('embeds',\n",
       "                                 Pipeline(steps=[('encode',\n",
       "                                                  FunctionTransformer(feature_names_out=<function <lambda> at 0x419613e20>,\n",
       "                                                                      func=<function <lambda> at 0x1091d5da0>)),\n",
       "                                                 ('scaler', MinMaxScaler())]),\n",
       "                                 'description')])"
      ]
     },
     "execution_count": 10,
     "metadata": {},
     "output_type": "execute_result"
    }
   ],
   "source": [
    "from sklearn.preprocessing import FunctionTransformer\n",
    "from sentence_transformers import SentenceTransformer\n",
    "from sklearn.compose import ColumnTransformer\n",
    "from sklearn.pipeline import Pipeline\n",
    "from sklearn.preprocessing import MinMaxScaler, OneHotEncoder, PolynomialFeatures\n",
    "\n",
    "model = SentenceTransformer('all-mpnet-base-v2')\n",
    "to_embeddings = lambda series: model.encode(series.to_list(), normalize_embeddings=False, show_progress_bar=True, device='mps')\n",
    "\n",
    "to_features_out = lambda self, cols: [f'{i}' for i in range(768)]\n",
    "\n",
    "transformer = ColumnTransformer([('ohe', OneHotEncoder(drop='first', handle_unknown='infrequent_if_exist'), ['variety', 'country']),\n",
    "                                 ('scaler', Pipeline([('poly', PolynomialFeatures(degree=2)), ('scaler', MinMaxScaler())]), ['year', 'description_length']),\n",
    "                                 ('embeds', Pipeline([('encode', FunctionTransformer(to_embeddings, feature_names_out=to_features_out)),\n",
    "                                                      ('scaler', MinMaxScaler()),\n",
    "                                                    ]), 'description'),\n",
    "                                ])\n",
    "transformer"
   ]
  },
  {
   "cell_type": "markdown",
   "metadata": {},
   "source": [
    "## Preprocess the Data\n",
    "\n",
    "Because of the size of the data set and how long it takes to preprocess, we will transform the features once, and then fit and tune the classifiers."
   ]
  },
  {
   "cell_type": "code",
   "execution_count": 11,
   "metadata": {},
   "outputs": [
    {
     "data": {
      "application/vnd.jupyter.widget-view+json": {
       "model_id": "04ed4b62616d4246ac4455a43d963f76",
       "version_major": 2,
       "version_minor": 0
      },
      "text/plain": [
       "Batches:   0%|          | 0/2462 [00:00<?, ?it/s]"
      ]
     },
     "metadata": {},
     "output_type": "display_data"
    },
    {
     "name": "stdout",
     "output_type": "stream",
     "text": [
      "training features (78768, 837)\n"
     ]
    },
    {
     "data": {
      "application/vnd.jupyter.widget-view+json": {
       "model_id": "d61be72633d5412ab2dec3b92b25a5de",
       "version_major": 2,
       "version_minor": 0
      },
      "text/plain": [
       "Batches:   0%|          | 0/616 [00:00<?, ?it/s]"
      ]
     },
     "metadata": {},
     "output_type": "display_data"
    },
    {
     "name": "stdout",
     "output_type": "stream",
     "text": [
      "test features (19692, 837)\n"
     ]
    },
    {
     "data": {
      "text/html": [
       "<div>\n",
       "<style scoped>\n",
       "    .dataframe tbody tr th:only-of-type {\n",
       "        vertical-align: middle;\n",
       "    }\n",
       "\n",
       "    .dataframe tbody tr th {\n",
       "        vertical-align: top;\n",
       "    }\n",
       "\n",
       "    .dataframe thead th {\n",
       "        text-align: right;\n",
       "    }\n",
       "</style>\n",
       "<table border=\"1\" class=\"dataframe\">\n",
       "  <thead>\n",
       "    <tr style=\"text-align: right;\">\n",
       "      <th></th>\n",
       "      <th>ohe__variety_Albariño</th>\n",
       "      <th>ohe__variety_Barbera</th>\n",
       "      <th>ohe__variety_Bordeaux-style Red Blend</th>\n",
       "      <th>ohe__variety_Bordeaux-style White Blend</th>\n",
       "      <th>ohe__variety_Cabernet Franc</th>\n",
       "      <th>ohe__variety_Cabernet Sauvignon</th>\n",
       "      <th>ohe__variety_Carmenère</th>\n",
       "      <th>ohe__variety_Champagne Blend</th>\n",
       "      <th>ohe__variety_Chardonnay</th>\n",
       "      <th>ohe__variety_Chenin Blanc</th>\n",
       "      <th>...</th>\n",
       "      <th>embeds__758</th>\n",
       "      <th>embeds__759</th>\n",
       "      <th>embeds__760</th>\n",
       "      <th>embeds__761</th>\n",
       "      <th>embeds__762</th>\n",
       "      <th>embeds__763</th>\n",
       "      <th>embeds__764</th>\n",
       "      <th>embeds__765</th>\n",
       "      <th>embeds__766</th>\n",
       "      <th>embeds__767</th>\n",
       "    </tr>\n",
       "  </thead>\n",
       "  <tbody>\n",
       "    <tr>\n",
       "      <th>94510</th>\n",
       "      <td>0.0</td>\n",
       "      <td>0.0</td>\n",
       "      <td>0.0</td>\n",
       "      <td>0.0</td>\n",
       "      <td>0.0</td>\n",
       "      <td>0.0</td>\n",
       "      <td>0.0</td>\n",
       "      <td>0.0</td>\n",
       "      <td>0.0</td>\n",
       "      <td>0.0</td>\n",
       "      <td>...</td>\n",
       "      <td>0.340517</td>\n",
       "      <td>0.610281</td>\n",
       "      <td>0.532095</td>\n",
       "      <td>0.317333</td>\n",
       "      <td>0.730589</td>\n",
       "      <td>0.404157</td>\n",
       "      <td>0.431403</td>\n",
       "      <td>0.491911</td>\n",
       "      <td>0.521209</td>\n",
       "      <td>0.535674</td>\n",
       "    </tr>\n",
       "    <tr>\n",
       "      <th>79419</th>\n",
       "      <td>0.0</td>\n",
       "      <td>0.0</td>\n",
       "      <td>0.0</td>\n",
       "      <td>0.0</td>\n",
       "      <td>0.0</td>\n",
       "      <td>0.0</td>\n",
       "      <td>0.0</td>\n",
       "      <td>0.0</td>\n",
       "      <td>0.0</td>\n",
       "      <td>0.0</td>\n",
       "      <td>...</td>\n",
       "      <td>0.592357</td>\n",
       "      <td>0.479321</td>\n",
       "      <td>0.434214</td>\n",
       "      <td>0.210388</td>\n",
       "      <td>0.457484</td>\n",
       "      <td>0.348371</td>\n",
       "      <td>0.491605</td>\n",
       "      <td>0.603886</td>\n",
       "      <td>0.363283</td>\n",
       "      <td>0.525615</td>\n",
       "    </tr>\n",
       "    <tr>\n",
       "      <th>122892</th>\n",
       "      <td>0.0</td>\n",
       "      <td>0.0</td>\n",
       "      <td>0.0</td>\n",
       "      <td>0.0</td>\n",
       "      <td>0.0</td>\n",
       "      <td>0.0</td>\n",
       "      <td>0.0</td>\n",
       "      <td>0.0</td>\n",
       "      <td>0.0</td>\n",
       "      <td>0.0</td>\n",
       "      <td>...</td>\n",
       "      <td>0.668307</td>\n",
       "      <td>0.415319</td>\n",
       "      <td>0.595717</td>\n",
       "      <td>0.597334</td>\n",
       "      <td>0.470710</td>\n",
       "      <td>0.508631</td>\n",
       "      <td>0.466345</td>\n",
       "      <td>0.579676</td>\n",
       "      <td>0.439602</td>\n",
       "      <td>0.358229</td>\n",
       "    </tr>\n",
       "    <tr>\n",
       "      <th>45902</th>\n",
       "      <td>0.0</td>\n",
       "      <td>0.0</td>\n",
       "      <td>0.0</td>\n",
       "      <td>0.0</td>\n",
       "      <td>0.0</td>\n",
       "      <td>0.0</td>\n",
       "      <td>0.0</td>\n",
       "      <td>0.0</td>\n",
       "      <td>0.0</td>\n",
       "      <td>0.0</td>\n",
       "      <td>...</td>\n",
       "      <td>0.443654</td>\n",
       "      <td>0.500460</td>\n",
       "      <td>0.481269</td>\n",
       "      <td>0.564452</td>\n",
       "      <td>0.556642</td>\n",
       "      <td>0.475039</td>\n",
       "      <td>0.479017</td>\n",
       "      <td>0.600085</td>\n",
       "      <td>0.406183</td>\n",
       "      <td>0.618107</td>\n",
       "    </tr>\n",
       "    <tr>\n",
       "      <th>24213</th>\n",
       "      <td>0.0</td>\n",
       "      <td>0.0</td>\n",
       "      <td>0.0</td>\n",
       "      <td>0.0</td>\n",
       "      <td>0.0</td>\n",
       "      <td>0.0</td>\n",
       "      <td>0.0</td>\n",
       "      <td>0.0</td>\n",
       "      <td>0.0</td>\n",
       "      <td>0.0</td>\n",
       "      <td>...</td>\n",
       "      <td>0.333611</td>\n",
       "      <td>0.408166</td>\n",
       "      <td>0.476922</td>\n",
       "      <td>0.517590</td>\n",
       "      <td>0.532128</td>\n",
       "      <td>0.368484</td>\n",
       "      <td>0.511218</td>\n",
       "      <td>0.574513</td>\n",
       "      <td>0.427325</td>\n",
       "      <td>0.603493</td>\n",
       "    </tr>\n",
       "  </tbody>\n",
       "</table>\n",
       "<p>5 rows × 837 columns</p>\n",
       "</div>"
      ],
      "text/plain": [
       "        ohe__variety_Albariño  ohe__variety_Barbera  \\\n",
       "94510                     0.0                   0.0   \n",
       "79419                     0.0                   0.0   \n",
       "122892                    0.0                   0.0   \n",
       "45902                     0.0                   0.0   \n",
       "24213                     0.0                   0.0   \n",
       "\n",
       "        ohe__variety_Bordeaux-style Red Blend  \\\n",
       "94510                                     0.0   \n",
       "79419                                     0.0   \n",
       "122892                                    0.0   \n",
       "45902                                     0.0   \n",
       "24213                                     0.0   \n",
       "\n",
       "        ohe__variety_Bordeaux-style White Blend  ohe__variety_Cabernet Franc  \\\n",
       "94510                                       0.0                          0.0   \n",
       "79419                                       0.0                          0.0   \n",
       "122892                                      0.0                          0.0   \n",
       "45902                                       0.0                          0.0   \n",
       "24213                                       0.0                          0.0   \n",
       "\n",
       "        ohe__variety_Cabernet Sauvignon  ohe__variety_Carmenère  \\\n",
       "94510                               0.0                     0.0   \n",
       "79419                               0.0                     0.0   \n",
       "122892                              0.0                     0.0   \n",
       "45902                               0.0                     0.0   \n",
       "24213                               0.0                     0.0   \n",
       "\n",
       "        ohe__variety_Champagne Blend  ohe__variety_Chardonnay  \\\n",
       "94510                            0.0                      0.0   \n",
       "79419                            0.0                      0.0   \n",
       "122892                           0.0                      0.0   \n",
       "45902                            0.0                      0.0   \n",
       "24213                            0.0                      0.0   \n",
       "\n",
       "        ohe__variety_Chenin Blanc  ...  embeds__758  embeds__759  embeds__760  \\\n",
       "94510                         0.0  ...     0.340517     0.610281     0.532095   \n",
       "79419                         0.0  ...     0.592357     0.479321     0.434214   \n",
       "122892                        0.0  ...     0.668307     0.415319     0.595717   \n",
       "45902                         0.0  ...     0.443654     0.500460     0.481269   \n",
       "24213                         0.0  ...     0.333611     0.408166     0.476922   \n",
       "\n",
       "        embeds__761  embeds__762  embeds__763  embeds__764  embeds__765  \\\n",
       "94510      0.317333     0.730589     0.404157     0.431403     0.491911   \n",
       "79419      0.210388     0.457484     0.348371     0.491605     0.603886   \n",
       "122892     0.597334     0.470710     0.508631     0.466345     0.579676   \n",
       "45902      0.564452     0.556642     0.475039     0.479017     0.600085   \n",
       "24213      0.517590     0.532128     0.368484     0.511218     0.574513   \n",
       "\n",
       "        embeds__766  embeds__767  \n",
       "94510      0.521209     0.535674  \n",
       "79419      0.363283     0.525615  \n",
       "122892     0.439602     0.358229  \n",
       "45902      0.406183     0.618107  \n",
       "24213      0.427325     0.603493  \n",
       "\n",
       "[5 rows x 837 columns]"
      ]
     },
     "execution_count": 11,
     "metadata": {},
     "output_type": "execute_result"
    }
   ],
   "source": [
    "# fit the transform on the training data\n",
    "X_train_transformed = transformer.fit_transform(X_train)\n",
    "print('training features', X_train_transformed.shape)\n",
    "\n",
    "# transform the test data using the transform fitted to the training data\n",
    "X_test_transformed = transformer.transform(X_test)\n",
    "print('test features', X_test_transformed.shape)\n",
    "\n",
    "# inspect the transformed data\n",
    "pd.DataFrame(X_train_transformed, columns=transformer.get_feature_names_out(), index=X_train.index).head()"
   ]
  },
  {
   "cell_type": "markdown",
   "metadata": {},
   "source": [
    "## Neural Network Classifier"
   ]
  },
  {
   "cell_type": "code",
   "execution_count": 12,
   "metadata": {},
   "outputs": [],
   "source": [
    "from tensorflow.keras.models import Model\n",
    "from tensorflow.keras import optimizers, layers\n",
    "from tensorflow.keras.callbacks import EarlyStopping\n",
    "\n",
    "def make_neural_classifier(n=1, n_input=X_train_transformed.shape[1], n_classes=len(ohe.categories_[0])):\n",
    "  inputs = layers.Input(shape=(n_input,))\n",
    "  for i in range(n):\n",
    "    x = layers.Dense(128, activation='relu')(inputs if i == 0 else x)\n",
    "  x = layers.Dense(n_classes, activation='softmax')(x)\n",
    "\n",
    "  model = Model(inputs, x)\n",
    "  model.compile(\n",
    "      loss='categorical_crossentropy',\n",
    "      optimizer=optimizers.Adam(learning_rate=0.01),\n",
    "      metrics=['accuracy']\n",
    "  )\n",
    "  return model\n"
   ]
  },
  {
   "cell_type": "code",
   "execution_count": 13,
   "metadata": {},
   "outputs": [
    {
     "data": {
      "text/html": [
       "<pre style=\"white-space:pre;overflow-x:auto;line-height:normal;font-family:Menlo,'DejaVu Sans Mono',consolas,'Courier New',monospace\"><span style=\"font-weight: bold\">Model: \"functional\"</span>\n",
       "</pre>\n"
      ],
      "text/plain": [
       "\u001b[1mModel: \"functional\"\u001b[0m\n"
      ]
     },
     "metadata": {},
     "output_type": "display_data"
    },
    {
     "data": {
      "text/html": [
       "<pre style=\"white-space:pre;overflow-x:auto;line-height:normal;font-family:Menlo,'DejaVu Sans Mono',consolas,'Courier New',monospace\">┏━━━━━━━━━━━━━━━━━━━━━━━━━━━━━━━━━┳━━━━━━━━━━━━━━━━━━━━━━━━┳━━━━━━━━━━━━━━━┓\n",
       "┃<span style=\"font-weight: bold\"> Layer (type)                    </span>┃<span style=\"font-weight: bold\"> Output Shape           </span>┃<span style=\"font-weight: bold\">       Param # </span>┃\n",
       "┡━━━━━━━━━━━━━━━━━━━━━━━━━━━━━━━━━╇━━━━━━━━━━━━━━━━━━━━━━━━╇━━━━━━━━━━━━━━━┩\n",
       "│ input_layer (<span style=\"color: #0087ff; text-decoration-color: #0087ff\">InputLayer</span>)        │ (<span style=\"color: #00d7ff; text-decoration-color: #00d7ff\">None</span>, <span style=\"color: #00af00; text-decoration-color: #00af00\">837</span>)            │             <span style=\"color: #00af00; text-decoration-color: #00af00\">0</span> │\n",
       "├─────────────────────────────────┼────────────────────────┼───────────────┤\n",
       "│ dense (<span style=\"color: #0087ff; text-decoration-color: #0087ff\">Dense</span>)                   │ (<span style=\"color: #00d7ff; text-decoration-color: #00d7ff\">None</span>, <span style=\"color: #00af00; text-decoration-color: #00af00\">128</span>)            │       <span style=\"color: #00af00; text-decoration-color: #00af00\">107,264</span> │\n",
       "├─────────────────────────────────┼────────────────────────┼───────────────┤\n",
       "│ dense_1 (<span style=\"color: #0087ff; text-decoration-color: #0087ff\">Dense</span>)                 │ (<span style=\"color: #00d7ff; text-decoration-color: #00d7ff\">None</span>, <span style=\"color: #00af00; text-decoration-color: #00af00\">6</span>)              │           <span style=\"color: #00af00; text-decoration-color: #00af00\">774</span> │\n",
       "└─────────────────────────────────┴────────────────────────┴───────────────┘\n",
       "</pre>\n"
      ],
      "text/plain": [
       "┏━━━━━━━━━━━━━━━━━━━━━━━━━━━━━━━━━┳━━━━━━━━━━━━━━━━━━━━━━━━┳━━━━━━━━━━━━━━━┓\n",
       "┃\u001b[1m \u001b[0m\u001b[1mLayer (type)                   \u001b[0m\u001b[1m \u001b[0m┃\u001b[1m \u001b[0m\u001b[1mOutput Shape          \u001b[0m\u001b[1m \u001b[0m┃\u001b[1m \u001b[0m\u001b[1m      Param #\u001b[0m\u001b[1m \u001b[0m┃\n",
       "┡━━━━━━━━━━━━━━━━━━━━━━━━━━━━━━━━━╇━━━━━━━━━━━━━━━━━━━━━━━━╇━━━━━━━━━━━━━━━┩\n",
       "│ input_layer (\u001b[38;5;33mInputLayer\u001b[0m)        │ (\u001b[38;5;45mNone\u001b[0m, \u001b[38;5;34m837\u001b[0m)            │             \u001b[38;5;34m0\u001b[0m │\n",
       "├─────────────────────────────────┼────────────────────────┼───────────────┤\n",
       "│ dense (\u001b[38;5;33mDense\u001b[0m)                   │ (\u001b[38;5;45mNone\u001b[0m, \u001b[38;5;34m128\u001b[0m)            │       \u001b[38;5;34m107,264\u001b[0m │\n",
       "├─────────────────────────────────┼────────────────────────┼───────────────┤\n",
       "│ dense_1 (\u001b[38;5;33mDense\u001b[0m)                 │ (\u001b[38;5;45mNone\u001b[0m, \u001b[38;5;34m6\u001b[0m)              │           \u001b[38;5;34m774\u001b[0m │\n",
       "└─────────────────────────────────┴────────────────────────┴───────────────┘\n"
      ]
     },
     "metadata": {},
     "output_type": "display_data"
    },
    {
     "data": {
      "text/html": [
       "<pre style=\"white-space:pre;overflow-x:auto;line-height:normal;font-family:Menlo,'DejaVu Sans Mono',consolas,'Courier New',monospace\"><span style=\"font-weight: bold\"> Total params: </span><span style=\"color: #00af00; text-decoration-color: #00af00\">108,038</span> (422.02 KB)\n",
       "</pre>\n"
      ],
      "text/plain": [
       "\u001b[1m Total params: \u001b[0m\u001b[38;5;34m108,038\u001b[0m (422.02 KB)\n"
      ]
     },
     "metadata": {},
     "output_type": "display_data"
    },
    {
     "data": {
      "text/html": [
       "<pre style=\"white-space:pre;overflow-x:auto;line-height:normal;font-family:Menlo,'DejaVu Sans Mono',consolas,'Courier New',monospace\"><span style=\"font-weight: bold\"> Trainable params: </span><span style=\"color: #00af00; text-decoration-color: #00af00\">108,038</span> (422.02 KB)\n",
       "</pre>\n"
      ],
      "text/plain": [
       "\u001b[1m Trainable params: \u001b[0m\u001b[38;5;34m108,038\u001b[0m (422.02 KB)\n"
      ]
     },
     "metadata": {},
     "output_type": "display_data"
    },
    {
     "data": {
      "text/html": [
       "<pre style=\"white-space:pre;overflow-x:auto;line-height:normal;font-family:Menlo,'DejaVu Sans Mono',consolas,'Courier New',monospace\"><span style=\"font-weight: bold\"> Non-trainable params: </span><span style=\"color: #00af00; text-decoration-color: #00af00\">0</span> (0.00 B)\n",
       "</pre>\n"
      ],
      "text/plain": [
       "\u001b[1m Non-trainable params: \u001b[0m\u001b[38;5;34m0\u001b[0m (0.00 B)\n"
      ]
     },
     "metadata": {},
     "output_type": "display_data"
    }
   ],
   "source": [
    "model = make_neural_classifier()\n",
    "model.summary()"
   ]
  },
  {
   "cell_type": "code",
   "execution_count": 14,
   "metadata": {},
   "outputs": [
    {
     "name": "stdout",
     "output_type": "stream",
     "text": [
      "Epoch 1/100\n",
      "\u001b[1m1231/1231\u001b[0m \u001b[32m━━━━━━━━━━━━━━━━━━━━\u001b[0m\u001b[37m\u001b[0m \u001b[1m1s\u001b[0m 872us/step - accuracy: 0.4588 - loss: 1.3513 - val_accuracy: 0.5491 - val_loss: 0.9875\n",
      "Epoch 2/100\n",
      "\u001b[1m1231/1231\u001b[0m \u001b[32m━━━━━━━━━━━━━━━━━━━━\u001b[0m\u001b[37m\u001b[0m \u001b[1m1s\u001b[0m 810us/step - accuracy: 0.5655 - loss: 0.9629 - val_accuracy: 0.5916 - val_loss: 0.9017\n",
      "Epoch 3/100\n",
      "\u001b[1m1231/1231\u001b[0m \u001b[32m━━━━━━━━━━━━━━━━━━━━\u001b[0m\u001b[37m\u001b[0m \u001b[1m1s\u001b[0m 799us/step - accuracy: 0.5798 - loss: 0.9306 - val_accuracy: 0.5851 - val_loss: 0.9440\n",
      "Epoch 4/100\n",
      "\u001b[1m1231/1231\u001b[0m \u001b[32m━━━━━━━━━━━━━━━━━━━━\u001b[0m\u001b[37m\u001b[0m \u001b[1m1s\u001b[0m 818us/step - accuracy: 0.5844 - loss: 0.9202 - val_accuracy: 0.5767 - val_loss: 0.9127\n",
      "Epoch 5/100\n",
      "\u001b[1m1231/1231\u001b[0m \u001b[32m━━━━━━━━━━━━━━━━━━━━\u001b[0m\u001b[37m\u001b[0m \u001b[1m1s\u001b[0m 803us/step - accuracy: 0.5844 - loss: 0.9191 - val_accuracy: 0.5976 - val_loss: 0.8937\n",
      "Epoch 6/100\n",
      "\u001b[1m1231/1231\u001b[0m \u001b[32m━━━━━━━━━━━━━━━━━━━━\u001b[0m\u001b[37m\u001b[0m \u001b[1m1s\u001b[0m 807us/step - accuracy: 0.5889 - loss: 0.9137 - val_accuracy: 0.5961 - val_loss: 0.8960\n",
      "Epoch 7/100\n",
      "\u001b[1m1231/1231\u001b[0m \u001b[32m━━━━━━━━━━━━━━━━━━━━\u001b[0m\u001b[37m\u001b[0m \u001b[1m1s\u001b[0m 805us/step - accuracy: 0.5903 - loss: 0.9072 - val_accuracy: 0.5674 - val_loss: 0.9277\n",
      "Epoch 8/100\n",
      "\u001b[1m1231/1231\u001b[0m \u001b[32m━━━━━━━━━━━━━━━━━━━━\u001b[0m\u001b[37m\u001b[0m \u001b[1m1s\u001b[0m 797us/step - accuracy: 0.5888 - loss: 0.9105 - val_accuracy: 0.5832 - val_loss: 0.9088\n",
      "Epoch 9/100\n",
      "\u001b[1m1231/1231\u001b[0m \u001b[32m━━━━━━━━━━━━━━━━━━━━\u001b[0m\u001b[37m\u001b[0m \u001b[1m1s\u001b[0m 798us/step - accuracy: 0.5957 - loss: 0.9036 - val_accuracy: 0.5982 - val_loss: 0.8904\n",
      "Epoch 10/100\n",
      "\u001b[1m1231/1231\u001b[0m \u001b[32m━━━━━━━━━━━━━━━━━━━━\u001b[0m\u001b[37m\u001b[0m \u001b[1m1s\u001b[0m 799us/step - accuracy: 0.5923 - loss: 0.8971 - val_accuracy: 0.5941 - val_loss: 0.8927\n",
      "Epoch 11/100\n",
      "\u001b[1m1231/1231\u001b[0m \u001b[32m━━━━━━━━━━━━━━━━━━━━\u001b[0m\u001b[37m\u001b[0m \u001b[1m1s\u001b[0m 796us/step - accuracy: 0.5896 - loss: 0.9005 - val_accuracy: 0.6076 - val_loss: 0.8764\n",
      "Epoch 12/100\n",
      "\u001b[1m1231/1231\u001b[0m \u001b[32m━━━━━━━━━━━━━━━━━━━━\u001b[0m\u001b[37m\u001b[0m \u001b[1m1s\u001b[0m 792us/step - accuracy: 0.5950 - loss: 0.8960 - val_accuracy: 0.6004 - val_loss: 0.8822\n",
      "Epoch 13/100\n",
      "\u001b[1m1231/1231\u001b[0m \u001b[32m━━━━━━━━━━━━━━━━━━━━\u001b[0m\u001b[37m\u001b[0m \u001b[1m1s\u001b[0m 796us/step - accuracy: 0.5950 - loss: 0.8974 - val_accuracy: 0.6034 - val_loss: 0.8814\n",
      "Epoch 14/100\n",
      "\u001b[1m1231/1231\u001b[0m \u001b[32m━━━━━━━━━━━━━━━━━━━━\u001b[0m\u001b[37m\u001b[0m \u001b[1m1s\u001b[0m 788us/step - accuracy: 0.5967 - loss: 0.8935 - val_accuracy: 0.6113 - val_loss: 0.8707\n",
      "Epoch 15/100\n",
      "\u001b[1m1231/1231\u001b[0m \u001b[32m━━━━━━━━━━━━━━━━━━━━\u001b[0m\u001b[37m\u001b[0m \u001b[1m1s\u001b[0m 801us/step - accuracy: 0.5959 - loss: 0.8915 - val_accuracy: 0.5574 - val_loss: 0.9614\n",
      "Epoch 16/100\n",
      "\u001b[1m1231/1231\u001b[0m \u001b[32m━━━━━━━━━━━━━━━━━━━━\u001b[0m\u001b[37m\u001b[0m \u001b[1m1s\u001b[0m 803us/step - accuracy: 0.5919 - loss: 0.9014 - val_accuracy: 0.5943 - val_loss: 0.8915\n",
      "Epoch 17/100\n",
      "\u001b[1m1231/1231\u001b[0m \u001b[32m━━━━━━━━━━━━━━━━━━━━\u001b[0m\u001b[37m\u001b[0m \u001b[1m1s\u001b[0m 805us/step - accuracy: 0.5992 - loss: 0.8912 - val_accuracy: 0.6046 - val_loss: 0.8742\n",
      "Epoch 18/100\n",
      "\u001b[1m1231/1231\u001b[0m \u001b[32m━━━━━━━━━━━━━━━━━━━━\u001b[0m\u001b[37m\u001b[0m \u001b[1m1s\u001b[0m 804us/step - accuracy: 0.5990 - loss: 0.8830 - val_accuracy: 0.6125 - val_loss: 0.8692\n",
      "Epoch 19/100\n",
      "\u001b[1m1231/1231\u001b[0m \u001b[32m━━━━━━━━━━━━━━━━━━━━\u001b[0m\u001b[37m\u001b[0m \u001b[1m1s\u001b[0m 814us/step - accuracy: 0.5959 - loss: 0.8919 - val_accuracy: 0.6000 - val_loss: 0.8945\n",
      "Epoch 20/100\n",
      "\u001b[1m1231/1231\u001b[0m \u001b[32m━━━━━━━━━━━━━━━━━━━━\u001b[0m\u001b[37m\u001b[0m \u001b[1m1s\u001b[0m 804us/step - accuracy: 0.5968 - loss: 0.8912 - val_accuracy: 0.5900 - val_loss: 0.9089\n",
      "neural network training time: 0.34 min.\n"
     ]
    }
   ],
   "source": [
    "callback = EarlyStopping(monitor='accuracy', patience=3)\n",
    "\n",
    "start = time.perf_counter()\n",
    "history = model.fit(x=X_train_transformed, y=y_train, validation_data=(X_test_transformed, y_test), epochs=100, batch_size=64, callbacks=[callback])\n",
    "training_time = time.perf_counter() - start\n",
    "\n",
    "print(f'neural network training time: {training_time/60:.2f} min.')"
   ]
  },
  {
   "cell_type": "code",
   "execution_count": 15,
   "metadata": {},
   "outputs": [
    {
     "name": "stdout",
     "output_type": "stream",
     "text": [
      "\u001b[1m2462/2462\u001b[0m \u001b[32m━━━━━━━━━━━━━━━━━━━━\u001b[0m\u001b[37m\u001b[0m \u001b[1m1s\u001b[0m 307us/step - accuracy: 0.5946 - loss: 0.8975\n",
      "\u001b[1m616/616\u001b[0m \u001b[32m━━━━━━━━━━━━━━━━━━━━\u001b[0m\u001b[37m\u001b[0m \u001b[1m0s\u001b[0m 322us/step - accuracy: 0.5961 - loss: 0.9046\n"
     ]
    },
    {
     "data": {
      "text/plain": [
       "{'accuracy': 0.5900365710258484, 'loss': 0.9088984727859497}"
      ]
     },
     "execution_count": 15,
     "metadata": {},
     "output_type": "execute_result"
    }
   ],
   "source": [
    "accuracy_train = model.evaluate(x=X_train_transformed, y=y_train, return_dict=True)\n",
    "accuracy_test = model.evaluate(x=X_test_transformed, y=y_test, return_dict=True)\n",
    "accuracy_test"
   ]
  },
  {
   "cell_type": "code",
   "execution_count": 16,
   "metadata": {},
   "outputs": [
    {
     "name": "stdout",
     "output_type": "stream",
     "text": [
      "\u001b[1m616/616\u001b[0m \u001b[32m━━━━━━━━━━━━━━━━━━━━\u001b[0m\u001b[37m\u001b[0m \u001b[1m0s\u001b[0m 249us/step\n",
      "Accuracy on test data: 59.0%\n",
      "              precision    recall  f1-score   support\n",
      "\n",
      "  acceptable       0.00      0.00      0.00       438\n",
      "        good       0.67      0.56      0.61      4719\n",
      "   very good       0.55      0.54      0.54      6668\n",
      "   excellent       0.61      0.72      0.66      6779\n",
      "      superb       0.40      0.51      0.45      1065\n",
      "     classic       0.00      0.00      0.00        23\n",
      "\n",
      "    accuracy                           0.59     19692\n",
      "   macro avg       0.37      0.39      0.38     19692\n",
      "weighted avg       0.58      0.59      0.58     19692\n",
      "\n"
     ]
    }
   ],
   "source": [
    "from sklearn.metrics import accuracy_score\n",
    "\n",
    "# predictions on test data\n",
    "y_pred_prob = model.predict(X_test_transformed)\n",
    "y_pred = np.argmax(y_pred_prob, axis=1)\n",
    "\n",
    "# reverse coded predictions\n",
    "y_preds = np.apply_along_axis(lambda v: ohe.categories_[0][v], axis=0, arr=y_pred)\n",
    "print(f'Accuracy on test data: {accuracy_score(ohe.inverse_transform(y_test), y_preds):.1%}')\n",
    "\n",
    "# confusion matrix\n",
    "conf_matrix = confusion_matrix(ohe.inverse_transform(y_test), y_preds, normalize='pred', labels=ratings)\n",
    "\n",
    "# classification report\n",
    "print(classification_report(ohe.inverse_transform(y_test), y_preds, labels=ratings, zero_division=0))"
   ]
  },
  {
   "cell_type": "code",
   "execution_count": 26,
   "metadata": {},
   "outputs": [
    {
     "data": {
      "image/png": "[encoded data removed]",
      "text/plain": [
       "<Figure size 600x300 with 2 Axes>"
      ]
     },
     "metadata": {},
     "output_type": "display_data"
    }
   ],
   "source": [
    "fig = plt.figure(figsize=(6, 3))\n",
    "ax = sns.heatmap(conf_matrix, xticklabels=ratings, yticklabels=ratings, annot=True, cmap=\"Purples\", fmt=\",.2f\", annot_kws={\"size\": 8}, )\n",
    "ax.set_xticklabels(ax.get_xticklabels(), fontsize=9, rotation=45)\n",
    "ax.set_yticklabels(ax.get_yticklabels(), fontsize=9)\n",
    "ax.set_ylabel('True Labels', fontdict={'size': 10})\n",
    "ax.set_xlabel('Predictions', fontdict={'size': 10})\n",
    "cbar = ax.collections[0].colorbar\n",
    "cbar.ax.tick_params(labelsize=9)\n",
    "plt.tight_layout()\n",
    "plt.title('Confusion Matrix for 1 Hidden Layer Neural Network Classifier')\n",
    "plt.show()"
   ]
  },
  {
   "cell_type": "code",
   "execution_count": null,
   "metadata": {},
   "outputs": [],
   "source": [
    "result_nn_1_layer = (training_time, accuracy_train['accuracy'], accuracy_test['accuracy'], conf_matrix, y_preds, y_pred_prob)"
   ]
  },
  {
   "cell_type": "markdown",
   "metadata": {},
   "source": [
    "## Try Neural Network With More Hidden Layers"
   ]
  },
  {
   "cell_type": "code",
   "execution_count": 19,
   "metadata": {},
   "outputs": [
    {
     "data": {
      "text/html": [
       "<pre style=\"white-space:pre;overflow-x:auto;line-height:normal;font-family:Menlo,'DejaVu Sans Mono',consolas,'Courier New',monospace\"><span style=\"font-weight: bold\">Model: \"functional_1\"</span>\n",
       "</pre>\n"
      ],
      "text/plain": [
       "\u001b[1mModel: \"functional_1\"\u001b[0m\n"
      ]
     },
     "metadata": {},
     "output_type": "display_data"
    },
    {
     "data": {
      "text/html": [
       "<pre style=\"white-space:pre;overflow-x:auto;line-height:normal;font-family:Menlo,'DejaVu Sans Mono',consolas,'Courier New',monospace\">┏━━━━━━━━━━━━━━━━━━━━━━━━━━━━━━━━━┳━━━━━━━━━━━━━━━━━━━━━━━━┳━━━━━━━━━━━━━━━┓\n",
       "┃<span style=\"font-weight: bold\"> Layer (type)                    </span>┃<span style=\"font-weight: bold\"> Output Shape           </span>┃<span style=\"font-weight: bold\">       Param # </span>┃\n",
       "┡━━━━━━━━━━━━━━━━━━━━━━━━━━━━━━━━━╇━━━━━━━━━━━━━━━━━━━━━━━━╇━━━━━━━━━━━━━━━┩\n",
       "│ input_layer_1 (<span style=\"color: #0087ff; text-decoration-color: #0087ff\">InputLayer</span>)      │ (<span style=\"color: #00d7ff; text-decoration-color: #00d7ff\">None</span>, <span style=\"color: #00af00; text-decoration-color: #00af00\">837</span>)            │             <span style=\"color: #00af00; text-decoration-color: #00af00\">0</span> │\n",
       "├─────────────────────────────────┼────────────────────────┼───────────────┤\n",
       "│ dense_2 (<span style=\"color: #0087ff; text-decoration-color: #0087ff\">Dense</span>)                 │ (<span style=\"color: #00d7ff; text-decoration-color: #00d7ff\">None</span>, <span style=\"color: #00af00; text-decoration-color: #00af00\">128</span>)            │       <span style=\"color: #00af00; text-decoration-color: #00af00\">107,264</span> │\n",
       "├─────────────────────────────────┼────────────────────────┼───────────────┤\n",
       "│ dense_3 (<span style=\"color: #0087ff; text-decoration-color: #0087ff\">Dense</span>)                 │ (<span style=\"color: #00d7ff; text-decoration-color: #00d7ff\">None</span>, <span style=\"color: #00af00; text-decoration-color: #00af00\">128</span>)            │        <span style=\"color: #00af00; text-decoration-color: #00af00\">16,512</span> │\n",
       "├─────────────────────────────────┼────────────────────────┼───────────────┤\n",
       "│ dense_4 (<span style=\"color: #0087ff; text-decoration-color: #0087ff\">Dense</span>)                 │ (<span style=\"color: #00d7ff; text-decoration-color: #00d7ff\">None</span>, <span style=\"color: #00af00; text-decoration-color: #00af00\">6</span>)              │           <span style=\"color: #00af00; text-decoration-color: #00af00\">774</span> │\n",
       "└─────────────────────────────────┴────────────────────────┴───────────────┘\n",
       "</pre>\n"
      ],
      "text/plain": [
       "┏━━━━━━━━━━━━━━━━━━━━━━━━━━━━━━━━━┳━━━━━━━━━━━━━━━━━━━━━━━━┳━━━━━━━━━━━━━━━┓\n",
       "┃\u001b[1m \u001b[0m\u001b[1mLayer (type)                   \u001b[0m\u001b[1m \u001b[0m┃\u001b[1m \u001b[0m\u001b[1mOutput Shape          \u001b[0m\u001b[1m \u001b[0m┃\u001b[1m \u001b[0m\u001b[1m      Param #\u001b[0m\u001b[1m \u001b[0m┃\n",
       "┡━━━━━━━━━━━━━━━━━━━━━━━━━━━━━━━━━╇━━━━━━━━━━━━━━━━━━━━━━━━╇━━━━━━━━━━━━━━━┩\n",
       "│ input_layer_1 (\u001b[38;5;33mInputLayer\u001b[0m)      │ (\u001b[38;5;45mNone\u001b[0m, \u001b[38;5;34m837\u001b[0m)            │             \u001b[38;5;34m0\u001b[0m │\n",
       "├─────────────────────────────────┼────────────────────────┼───────────────┤\n",
       "│ dense_2 (\u001b[38;5;33mDense\u001b[0m)                 │ (\u001b[38;5;45mNone\u001b[0m, \u001b[38;5;34m128\u001b[0m)            │       \u001b[38;5;34m107,264\u001b[0m │\n",
       "├─────────────────────────────────┼────────────────────────┼───────────────┤\n",
       "│ dense_3 (\u001b[38;5;33mDense\u001b[0m)                 │ (\u001b[38;5;45mNone\u001b[0m, \u001b[38;5;34m128\u001b[0m)            │        \u001b[38;5;34m16,512\u001b[0m │\n",
       "├─────────────────────────────────┼────────────────────────┼───────────────┤\n",
       "│ dense_4 (\u001b[38;5;33mDense\u001b[0m)                 │ (\u001b[38;5;45mNone\u001b[0m, \u001b[38;5;34m6\u001b[0m)              │           \u001b[38;5;34m774\u001b[0m │\n",
       "└─────────────────────────────────┴────────────────────────┴───────────────┘\n"
      ]
     },
     "metadata": {},
     "output_type": "display_data"
    },
    {
     "data": {
      "text/html": [
       "<pre style=\"white-space:pre;overflow-x:auto;line-height:normal;font-family:Menlo,'DejaVu Sans Mono',consolas,'Courier New',monospace\"><span style=\"font-weight: bold\"> Total params: </span><span style=\"color: #00af00; text-decoration-color: #00af00\">124,550</span> (486.52 KB)\n",
       "</pre>\n"
      ],
      "text/plain": [
       "\u001b[1m Total params: \u001b[0m\u001b[38;5;34m124,550\u001b[0m (486.52 KB)\n"
      ]
     },
     "metadata": {},
     "output_type": "display_data"
    },
    {
     "data": {
      "text/html": [
       "<pre style=\"white-space:pre;overflow-x:auto;line-height:normal;font-family:Menlo,'DejaVu Sans Mono',consolas,'Courier New',monospace\"><span style=\"font-weight: bold\"> Trainable params: </span><span style=\"color: #00af00; text-decoration-color: #00af00\">124,550</span> (486.52 KB)\n",
       "</pre>\n"
      ],
      "text/plain": [
       "\u001b[1m Trainable params: \u001b[0m\u001b[38;5;34m124,550\u001b[0m (486.52 KB)\n"
      ]
     },
     "metadata": {},
     "output_type": "display_data"
    },
    {
     "data": {
      "text/html": [
       "<pre style=\"white-space:pre;overflow-x:auto;line-height:normal;font-family:Menlo,'DejaVu Sans Mono',consolas,'Courier New',monospace\"><span style=\"font-weight: bold\"> Non-trainable params: </span><span style=\"color: #00af00; text-decoration-color: #00af00\">0</span> (0.00 B)\n",
       "</pre>\n"
      ],
      "text/plain": [
       "\u001b[1m Non-trainable params: \u001b[0m\u001b[38;5;34m0\u001b[0m (0.00 B)\n"
      ]
     },
     "metadata": {},
     "output_type": "display_data"
    }
   ],
   "source": [
    "model = make_neural_classifier(2)\n",
    "model.summary()"
   ]
  },
  {
   "cell_type": "code",
   "execution_count": 20,
   "metadata": {},
   "outputs": [
    {
     "name": "stdout",
     "output_type": "stream",
     "text": [
      "Epoch 1/100\n",
      "\u001b[1m1231/1231\u001b[0m \u001b[32m━━━━━━━━━━━━━━━━━━━━\u001b[0m\u001b[37m\u001b[0m \u001b[1m2s\u001b[0m 958us/step - accuracy: 0.4754 - loss: 1.2106 - val_accuracy: 0.5177 - val_loss: 1.0415\n",
      "Epoch 2/100\n",
      "\u001b[1m1231/1231\u001b[0m \u001b[32m━━━━━━━━━━━━━━━━━━━━\u001b[0m\u001b[37m\u001b[0m \u001b[1m1s\u001b[0m 889us/step - accuracy: 0.5683 - loss: 0.9569 - val_accuracy: 0.5882 - val_loss: 0.9158\n",
      "Epoch 3/100\n",
      "\u001b[1m1231/1231\u001b[0m \u001b[32m━━━━━━━━━━━━━━━━━━━━\u001b[0m\u001b[37m\u001b[0m \u001b[1m1s\u001b[0m 886us/step - accuracy: 0.5773 - loss: 0.9387 - val_accuracy: 0.5758 - val_loss: 0.9302\n",
      "Epoch 4/100\n",
      "\u001b[1m1231/1231\u001b[0m \u001b[32m━━━━━━━━━━━━━━━━━━━━\u001b[0m\u001b[37m\u001b[0m \u001b[1m1s\u001b[0m 891us/step - accuracy: 0.5849 - loss: 0.9210 - val_accuracy: 0.5910 - val_loss: 0.9101\n",
      "Epoch 5/100\n",
      "\u001b[1m1231/1231\u001b[0m \u001b[32m━━━━━━━━━━━━━━━━━━━━\u001b[0m\u001b[37m\u001b[0m \u001b[1m1s\u001b[0m 883us/step - accuracy: 0.5928 - loss: 0.9046 - val_accuracy: 0.5597 - val_loss: 0.9685\n",
      "Epoch 6/100\n",
      "\u001b[1m1231/1231\u001b[0m \u001b[32m━━━━━━━━━━━━━━━━━━━━\u001b[0m\u001b[37m\u001b[0m \u001b[1m1s\u001b[0m 880us/step - accuracy: 0.5880 - loss: 0.9125 - val_accuracy: 0.5931 - val_loss: 0.8958\n",
      "Epoch 7/100\n",
      "\u001b[1m1231/1231\u001b[0m \u001b[32m━━━━━━━━━━━━━━━━━━━━\u001b[0m\u001b[37m\u001b[0m \u001b[1m1s\u001b[0m 878us/step - accuracy: 0.5917 - loss: 0.9081 - val_accuracy: 0.6009 - val_loss: 0.8930\n",
      "Epoch 8/100\n",
      "\u001b[1m1231/1231\u001b[0m \u001b[32m━━━━━━━━━━━━━━━━━━━━\u001b[0m\u001b[37m\u001b[0m \u001b[1m1s\u001b[0m 870us/step - accuracy: 0.5918 - loss: 0.9056 - val_accuracy: 0.5698 - val_loss: 0.9645\n",
      "Epoch 9/100\n",
      "\u001b[1m1231/1231\u001b[0m \u001b[32m━━━━━━━━━━━━━━━━━━━━\u001b[0m\u001b[37m\u001b[0m \u001b[1m1s\u001b[0m 872us/step - accuracy: 0.5963 - loss: 0.8982 - val_accuracy: 0.5788 - val_loss: 0.9303\n",
      "Epoch 10/100\n",
      "\u001b[1m1231/1231\u001b[0m \u001b[32m━━━━━━━━━━━━━━━━━━━━\u001b[0m\u001b[37m\u001b[0m \u001b[1m1s\u001b[0m 896us/step - accuracy: 0.5956 - loss: 0.8995 - val_accuracy: 0.5868 - val_loss: 0.8922\n",
      "Epoch 11/100\n",
      "\u001b[1m1231/1231\u001b[0m \u001b[32m━━━━━━━━━━━━━━━━━━━━\u001b[0m\u001b[37m\u001b[0m \u001b[1m1s\u001b[0m 880us/step - accuracy: 0.5985 - loss: 0.8963 - val_accuracy: 0.6100 - val_loss: 0.8719\n",
      "Epoch 12/100\n",
      "\u001b[1m1231/1231\u001b[0m \u001b[32m━━━━━━━━━━━━━━━━━━━━\u001b[0m\u001b[37m\u001b[0m \u001b[1m1s\u001b[0m 878us/step - accuracy: 0.6041 - loss: 0.8855 - val_accuracy: 0.6074 - val_loss: 0.8724\n",
      "Epoch 13/100\n",
      "\u001b[1m1231/1231\u001b[0m \u001b[32m━━━━━━━━━━━━━━━━━━━━\u001b[0m\u001b[37m\u001b[0m \u001b[1m1s\u001b[0m 906us/step - accuracy: 0.6028 - loss: 0.8804 - val_accuracy: 0.5922 - val_loss: 0.9101\n",
      "Epoch 14/100\n",
      "\u001b[1m1231/1231\u001b[0m \u001b[32m━━━━━━━━━━━━━━━━━━━━\u001b[0m\u001b[37m\u001b[0m \u001b[1m1s\u001b[0m 887us/step - accuracy: 0.5986 - loss: 0.8885 - val_accuracy: 0.6073 - val_loss: 0.8734\n",
      "Epoch 15/100\n",
      "\u001b[1m1231/1231\u001b[0m \u001b[32m━━━━━━━━━━━━━━━━━━━━\u001b[0m\u001b[37m\u001b[0m \u001b[1m1s\u001b[0m 894us/step - accuracy: 0.6046 - loss: 0.8771 - val_accuracy: 0.5591 - val_loss: 0.9762\n",
      "Epoch 16/100\n",
      "\u001b[1m1231/1231\u001b[0m \u001b[32m━━━━━━━━━━━━━━━━━━━━\u001b[0m\u001b[37m\u001b[0m \u001b[1m1s\u001b[0m 918us/step - accuracy: 0.6082 - loss: 0.8779 - val_accuracy: 0.6037 - val_loss: 0.8878\n",
      "Epoch 17/100\n",
      "\u001b[1m1231/1231\u001b[0m \u001b[32m━━━━━━━━━━━━━━━━━━━━\u001b[0m\u001b[37m\u001b[0m \u001b[1m1s\u001b[0m 892us/step - accuracy: 0.6061 - loss: 0.8778 - val_accuracy: 0.6063 - val_loss: 0.8708\n",
      "Epoch 18/100\n",
      "\u001b[1m1231/1231\u001b[0m \u001b[32m━━━━━━━━━━━━━━━━━━━━\u001b[0m\u001b[37m\u001b[0m \u001b[1m1s\u001b[0m 890us/step - accuracy: 0.6088 - loss: 0.8802 - val_accuracy: 0.6064 - val_loss: 0.8753\n",
      "Epoch 19/100\n",
      "\u001b[1m1231/1231\u001b[0m \u001b[32m━━━━━━━━━━━━━━━━━━━━\u001b[0m\u001b[37m\u001b[0m \u001b[1m1s\u001b[0m 892us/step - accuracy: 0.6094 - loss: 0.8729 - val_accuracy: 0.5852 - val_loss: 0.9302\n",
      "Epoch 20/100\n",
      "\u001b[1m1231/1231\u001b[0m \u001b[32m━━━━━━━━━━━━━━━━━━━━\u001b[0m\u001b[37m\u001b[0m \u001b[1m1s\u001b[0m 880us/step - accuracy: 0.6077 - loss: 0.8717 - val_accuracy: 0.6172 - val_loss: 0.8606\n",
      "Epoch 21/100\n",
      "\u001b[1m1231/1231\u001b[0m \u001b[32m━━━━━━━━━━━━━━━━━━━━\u001b[0m\u001b[37m\u001b[0m \u001b[1m1s\u001b[0m 875us/step - accuracy: 0.6076 - loss: 0.8726 - val_accuracy: 0.6013 - val_loss: 0.8947\n",
      "neural network training time: 0.40 min.\n"
     ]
    }
   ],
   "source": [
    "callback = EarlyStopping(monitor='accuracy', patience=3)\n",
    "\n",
    "start = time.perf_counter()\n",
    "history = model.fit(x=X_train_transformed, y=y_train, validation_data=(X_test_transformed, y_test), epochs=100, batch_size=64, callbacks=[callback])\n",
    "training_time = time.perf_counter() - start\n",
    "\n",
    "print(f'neural network training time: {training_time/60:.2f} min.')"
   ]
  },
  {
   "cell_type": "code",
   "execution_count": 21,
   "metadata": {},
   "outputs": [
    {
     "name": "stdout",
     "output_type": "stream",
     "text": [
      "\u001b[1m2462/2462\u001b[0m \u001b[32m━━━━━━━━━━━━━━━━━━━━\u001b[0m\u001b[37m\u001b[0m \u001b[1m1s\u001b[0m 325us/step - accuracy: 0.6049 - loss: 0.8832\n",
      "\u001b[1m616/616\u001b[0m \u001b[32m━━━━━━━━━━━━━━━━━━━━\u001b[0m\u001b[37m\u001b[0m \u001b[1m0s\u001b[0m 331us/step - accuracy: 0.5996 - loss: 0.8881\n"
     ]
    },
    {
     "data": {
      "text/plain": [
       "{'accuracy': 0.6013101935386658, 'loss': 0.8947121500968933}"
      ]
     },
     "execution_count": 21,
     "metadata": {},
     "output_type": "execute_result"
    }
   ],
   "source": [
    "accuracy_train = model.evaluate(x=X_train_transformed, y=y_train, return_dict=True)\n",
    "accuracy_test = model.evaluate(x=X_test_transformed, y=y_test, return_dict=True)\n",
    "accuracy_test"
   ]
  },
  {
   "cell_type": "code",
   "execution_count": 22,
   "metadata": {},
   "outputs": [
    {
     "name": "stdout",
     "output_type": "stream",
     "text": [
      "\u001b[1m616/616\u001b[0m \u001b[32m━━━━━━━━━━━━━━━━━━━━\u001b[0m\u001b[37m\u001b[0m \u001b[1m0s\u001b[0m 272us/step\n",
      "Accuracy on test data: 60.1%\n",
      "              precision    recall  f1-score   support\n",
      "\n",
      "  acceptable       0.60      0.44      0.51       438\n",
      "        good       0.65      0.65      0.65      4719\n",
      "   very good       0.52      0.68      0.59      6668\n",
      "   excellent       0.70      0.57      0.62      6779\n",
      "      superb       0.61      0.20      0.30      1065\n",
      "     classic       0.00      0.00      0.00        23\n",
      "\n",
      "    accuracy                           0.60     19692\n",
      "   macro avg       0.51      0.42      0.44     19692\n",
      "weighted avg       0.62      0.60      0.60     19692\n",
      "\n"
     ]
    }
   ],
   "source": [
    "# the target classes\n",
    "ratings = ['acceptable', 'good', 'very good', 'excellent', 'superb', 'classic']\n",
    "\n",
    "# predictions on test data\n",
    "y_pred_prob = model.predict(X_test_transformed)\n",
    "y_pred = np.argmax(y_pred_prob, axis=1)\n",
    "\n",
    "# reverse coded predictions\n",
    "y_preds = np.apply_along_axis(lambda v: ohe.categories_[0][v], axis=0, arr=y_pred)\n",
    "print(f'Accuracy on test data: {accuracy_score(ohe.inverse_transform(y_test), y_preds):.1%}')\n",
    "\n",
    "# confusion matrix\n",
    "conf_matrix = confusion_matrix(ohe.inverse_transform(y_test), y_preds, normalize='pred', labels=ratings)\n",
    "\n",
    "# classification report\n",
    "print(classification_report(ohe.inverse_transform(y_test), y_preds, labels=ratings, zero_division=0))"
   ]
  },
  {
   "cell_type": "code",
   "execution_count": 27,
   "metadata": {},
   "outputs": [
    {
     "data": {
      "image/png": "[encoded data removed]",
      "text/plain": [
       "<Figure size 600x300 with 2 Axes>"
      ]
     },
     "metadata": {},
     "output_type": "display_data"
    }
   ],
   "source": [
    "fig = plt.figure(figsize=(6, 3))\n",
    "ax = sns.heatmap(conf_matrix, xticklabels=ratings, yticklabels=ratings, annot=True, cmap=\"Purples\", fmt=\",.2f\", annot_kws={\"size\": 8}, )\n",
    "ax.set_xticklabels(ax.get_xticklabels(), fontsize=9, rotation=45)\n",
    "ax.set_yticklabels(ax.get_yticklabels(), fontsize=9)\n",
    "ax.set_ylabel('True Labels', fontdict={'size': 10})\n",
    "ax.set_xlabel('Predictions', fontdict={'size': 10})\n",
    "cbar = ax.collections[0].colorbar\n",
    "cbar.ax.tick_params(labelsize=9)\n",
    "plt.title('Confusion Matrix for 2 Hidden Layer Neural Network Classifier')\n",
    "plt.tight_layout()\n",
    "plt.show()"
   ]
  },
  {
   "cell_type": "code",
   "execution_count": null,
   "metadata": {},
   "outputs": [],
   "source": [
    "result_nn_2_layer = (training_time, accuracy_train['accuracy'], accuracy_test['accuracy'], conf_matrix, y_preds, y_pred_prob)"
   ]
  },
  {
   "cell_type": "code",
   "execution_count": null,
   "metadata": {},
   "outputs": [
    {
     "data": {
      "text/html": [
       "<div>\n",
       "<style scoped>\n",
       "    .dataframe tbody tr th:only-of-type {\n",
       "        vertical-align: middle;\n",
       "    }\n",
       "\n",
       "    .dataframe tbody tr th {\n",
       "        vertical-align: top;\n",
       "    }\n",
       "\n",
       "    .dataframe thead th {\n",
       "        text-align: right;\n",
       "    }\n",
       "</style>\n",
       "<table border=\"1\" class=\"dataframe\">\n",
       "  <thead>\n",
       "    <tr style=\"text-align: right;\">\n",
       "      <th></th>\n",
       "      <th>train time</th>\n",
       "      <th>accuracy_train</th>\n",
       "      <th>accuracy_test</th>\n",
       "      <th>conf_matrix</th>\n",
       "    </tr>\n",
       "  </thead>\n",
       "  <tbody>\n",
       "    <tr>\n",
       "      <th>0</th>\n",
       "      <td>5.030114</td>\n",
       "      <td>0.525340</td>\n",
       "      <td>0.521328</td>\n",
       "      <td>[[0.8125, 0.07708553326293559, 0.0061840120663...</td>\n",
       "    </tr>\n",
       "    <tr>\n",
       "      <th>1</th>\n",
       "      <td>20.329023</td>\n",
       "      <td>0.596169</td>\n",
       "      <td>0.590037</td>\n",
       "      <td>[[0.0, 0.10529005877843087, 0.0033846153846153...</td>\n",
       "    </tr>\n",
       "    <tr>\n",
       "      <th>2</th>\n",
       "      <td>23.702138</td>\n",
       "      <td>0.605944</td>\n",
       "      <td>0.601310</td>\n",
       "      <td>[[0.5987654320987654, 0.04881154499151104, 0.0...</td>\n",
       "    </tr>\n",
       "  </tbody>\n",
       "</table>\n",
       "</div>"
      ],
      "text/plain": [
       "   train time  accuracy_train  accuracy_test  \\\n",
       "0    5.030114        0.525340       0.521328   \n",
       "1   20.329023        0.596169       0.590037   \n",
       "2   23.702138        0.605944       0.601310   \n",
       "\n",
       "                                         conf_matrix  \n",
       "0  [[0.8125, 0.07708553326293559, 0.0061840120663...  \n",
       "1  [[0.0, 0.10529005877843087, 0.0033846153846153...  \n",
       "2  [[0.5987654320987654, 0.04881154499151104, 0.0...  "
      ]
     },
     "execution_count": 25,
     "metadata": {},
     "output_type": "execute_result"
    }
   ],
   "source": [
    "perf_results = pd.DataFrame([result_baseline, result_nn_1_layer, result_nn_2_layer], columns=['train time', 'accuracy_train', 'accuracy_test', 'conf_matrix', 'y_preds', 'y_pred_prob'])\n",
    "perf_results.to_json('data/nn_perf_result.json')\n",
    "perf_results"
   ]
  },
  {
   "cell_type": "markdown",
   "metadata": {},
   "source": [
    "## Conclusion\n",
    "\n",
    "- The baseline model using LogisticRegression had an accuracy on the test dataset of $52.1\\%$.\n",
    "- The neural classifier with $1$ hidden layers and $124,550$ trainnable parameters achieved an accuracy on the test dataset of $59.0\\%$.\n",
    "- The neural classifier with $2$ hidden layers and $124,550$ trainnable parameters achieved an accuracy on the test dataset of $60.1\\%$."
   ]
  },
  {
   "cell_type": "markdown",
   "metadata": {},
   "source": [
    "## Next\n",
    " - [Summary](summary.ipynb)"
   ]
  }
 ],
 "metadata": {
  "kernelspec": {
   "display_name": ".venv",
   "language": "python",
   "name": "python3"
  },
  "language_info": {
   "codemirror_mode": {
    "name": "ipython",
    "version": 3
   },
   "file_extension": ".py",
   "mimetype": "text/x-python",
   "name": "python",
   "nbconvert_exporter": "python",
   "pygments_lexer": "ipython3",
   "version": "3.12.9"
  }
 },
 "nbformat": 4,
 "nbformat_minor": 2
}
