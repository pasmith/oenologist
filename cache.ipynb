{
 "cells": [
  {
   "cell_type": "markdown",
   "metadata": {},
   "source": [
    "**Shelved Cache Persistence**"
   ]
  },
  {
   "cell_type": "code",
   "execution_count": 1,
   "metadata": {},
   "outputs": [
    {
     "name": "stdout",
     "output_type": "stream",
     "text": [
      "called\n"
     ]
    }
   ],
   "source": [
    "import tempfile\n",
    "import cachetools\n",
    "from shelved_cache import PersistentCache\n",
    "from cachetools import LRUCache\n",
    "\n",
    "file = tempfile.NamedTemporaryFile()\n",
    "pc = PersistentCache(LRUCache, file.name, maxsize=2)\n",
    "\n",
    "@cachetools.cached(pc)\n",
    "def square(x):\n",
    "    print(\"called\")\n",
    "    return x * x\n",
    "\n",
    "assert square(3) == 9\n",
    "# outputs \"called\"\n",
    "assert square(3) == 9\n",
    "# no output because the cache is used"
   ]
  },
  {
   "cell_type": "markdown",
   "metadata": {},
   "source": [
    "**Geocode data persistence**"
   ]
  },
  {
   "cell_type": "code",
   "execution_count": 2,
   "metadata": {},
   "outputs": [],
   "source": [
    "#1.a. Import the `duckdb` library for querying and managing data.\n",
    "import duckdb\n",
    "\n",
    "#1.b. Import the `geopandas` library for working with geospatial data.\n",
    "import geopandas\n",
    "\n",
    "#1.c. Import the `pyarrow` library for handling data in Apache Arrow format.\n",
    "import pyarrow\n",
    "\n",
    "#2. Installing DuckDB extensions\n",
    "\n",
    "#2.a. Install the `httpfs` extension for handling HTTP file systems.\n",
    "duckdb.sql('INSTALL httpfs')\n",
    "\n",
    "#2.b. Load the `httpfs` extension.\n",
    "duckdb.sql('LOAD httpfs')\n",
    "\n",
    "#2.c. Force install the `spatial` extension from the specified URL.\n",
    "duckdb.sql(\"FORCE INSTALL spatial FROM 'http://nightly-extensions.duckdb.org';\")\n",
    "\n",
    "#2.d. Load the `spatial` extension for geospatial data processing.\n",
    "duckdb.sql('LOAD spatial')\n",
    "\n",
    "#5. S3 file address in the AWS cloud\n",
    "prefix = \"s3://us-west-2.opendata.source.coop/vida/google-microsoft-open-buildings/geoparquet\"\n",
    "\n",
    "#3. Initializing DuckDB for in-memory processing\n",
    "con = duckdb.connect(database=\":memory:\")\n"
   ]
  },
  {
   "cell_type": "markdown",
   "metadata": {},
   "source": [
    "**Two Level Cache**"
   ]
  },
  {
   "cell_type": "code",
   "execution_count": null,
   "metadata": {},
   "outputs": [],
   "source": [
    "from CacheToolsUtils import TwoLevelCache\n",
    "from cachetools import LFUCache, Cache"
   ]
  },
  {
   "cell_type": "markdown",
   "metadata": {},
   "source": [
    "### Services\n",
    "- [geocodio](https://www.geocod.io/pricing/)\n",
    "- [mapbox](https://www.mapbox.com/insights/poi-database)\n",
    "- [positionstack](https://positionstack.com/documentation)\n",
    "- [geocoder](https://geocoder.readthedocs.io/index.html) SDK\n",
    "- [geoapify](https://www.geoapify.com/tutorial/geocoding-python/)\n",
    "- [google places api](https://developers.google.com/maps/documentation/places/web-service/text-search)\n",
    "- [other geocoders](https://geoservices.tamu.edu/Services/Geocode/OtherGeocoders/) from Texas A&M\n",
    "- [other geocode services](https://gisgeography.com/geocoders/)\n",
    "\n",
    "### Stock Data\n",
    "- [polygon](https://polygon.io/pricing)\n",
    "- [free stock apis](https://medium.com/coinmonks/free-stock-apis-de8f13619911)\n",
    "- [2024 stock market apis](https://www.columbia.edu/~tmd2142/best-6-stock-market-apis-for-2020.html)"
   ]
  }
 ],
 "metadata": {
  "kernelspec": {
   "display_name": ".venv",
   "language": "python",
   "name": "python3"
  },
  "language_info": {
   "codemirror_mode": {
    "name": "ipython",
    "version": 3
   },
   "file_extension": ".py",
   "mimetype": "text/x-python",
   "name": "python",
   "nbconvert_exporter": "python",
   "pygments_lexer": "ipython3",
   "version": "3.12.8"
  }
 },
 "nbformat": 4,
 "nbformat_minor": 2
}
