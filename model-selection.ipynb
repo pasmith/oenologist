{
 "cells": [
  {
   "cell_type": "markdown",
   "metadata": {},
   "source": [
    "# Model Selection"
   ]
  },
  {
   "cell_type": "code",
   "execution_count": 1,
   "metadata": {},
   "outputs": [],
   "source": [
    "# data manipulation libraries\n",
    "import pandas as pd\n",
    "import numpy as np\n",
    "\n",
    "# custom project libraries\n",
    "from utils.wine_review_utils import load_augmented_data, RATINGS\n",
    "from utils.timer_utils import timeit\n",
    "\n",
    "# plotting libraries\n",
    "import matplotlib.pyplot as plt\n",
    "from matplotlib.gridspec import GridSpec\n",
    "import seaborn as sns\n",
    "sns.set_theme()"
   ]
  },
  {
   "cell_type": "markdown",
   "metadata": {},
   "source": [
    "## Load Augmented Data"
   ]
  },
  {
   "cell_type": "code",
   "execution_count": 2,
   "metadata": {},
   "outputs": [
    {
     "name": "stdout",
     "output_type": "stream",
     "text": [
      "<class 'pandas.core.frame.DataFrame'>\n",
      "Index: 8886 entries, 4 to 129967\n",
      "Data columns (total 10 columns):\n",
      " #   Column              Non-Null Count  Dtype  \n",
      "---  ------              --------------  -----  \n",
      " 0   winery              8886 non-null   object \n",
      " 1   variety             8886 non-null   object \n",
      " 2   year                8886 non-null   int64  \n",
      " 3   country             8886 non-null   object \n",
      " 4   price               8860 non-null   float64\n",
      " 5   taster_name         8886 non-null   object \n",
      " 6   description         8886 non-null   object \n",
      " 7   points              8886 non-null   int64  \n",
      " 8   rating              8886 non-null   object \n",
      " 9   description_length  8886 non-null   int64  \n",
      "dtypes: float64(1), int64(3), object(6)\n",
      "memory usage: 763.6+ KB\n"
     ]
    },
    {
     "data": {
      "text/html": [
       "<div>\n",
       "<style scoped>\n",
       "    .dataframe tbody tr th:only-of-type {\n",
       "        vertical-align: middle;\n",
       "    }\n",
       "\n",
       "    .dataframe tbody tr th {\n",
       "        vertical-align: top;\n",
       "    }\n",
       "\n",
       "    .dataframe thead th {\n",
       "        text-align: right;\n",
       "    }\n",
       "</style>\n",
       "<table border=\"1\" class=\"dataframe\">\n",
       "  <thead>\n",
       "    <tr style=\"text-align: right;\">\n",
       "      <th></th>\n",
       "      <th>winery</th>\n",
       "      <th>variety</th>\n",
       "      <th>year</th>\n",
       "      <th>country</th>\n",
       "      <th>price</th>\n",
       "      <th>taster_name</th>\n",
       "      <th>description</th>\n",
       "      <th>points</th>\n",
       "      <th>rating</th>\n",
       "      <th>description_length</th>\n",
       "    </tr>\n",
       "  </thead>\n",
       "  <tbody>\n",
       "    <tr>\n",
       "      <th>4</th>\n",
       "      <td>Sweet Cheeks</td>\n",
       "      <td>Pinot Noir</td>\n",
       "      <td>2012</td>\n",
       "      <td>US</td>\n",
       "      <td>65.0</td>\n",
       "      <td>Paul Gregutt</td>\n",
       "      <td>Much like the regular bottling from 2012, this...</td>\n",
       "      <td>87</td>\n",
       "      <td>very good</td>\n",
       "      <td>249</td>\n",
       "    </tr>\n",
       "    <tr>\n",
       "      <th>21</th>\n",
       "      <td>Acrobat</td>\n",
       "      <td>Pinot Noir</td>\n",
       "      <td>2013</td>\n",
       "      <td>US</td>\n",
       "      <td>20.0</td>\n",
       "      <td>Paul Gregutt</td>\n",
       "      <td>A sleek mix of tart berry, stem and herb, alon...</td>\n",
       "      <td>87</td>\n",
       "      <td>very good</td>\n",
       "      <td>233</td>\n",
       "    </tr>\n",
       "    <tr>\n",
       "      <th>25</th>\n",
       "      <td>Castello di Amorosa</td>\n",
       "      <td>Pinot Noir</td>\n",
       "      <td>2011</td>\n",
       "      <td>US</td>\n",
       "      <td>69.0</td>\n",
       "      <td>Virginie Boone</td>\n",
       "      <td>Oak and earth intermingle around robust aromas...</td>\n",
       "      <td>87</td>\n",
       "      <td>very good</td>\n",
       "      <td>259</td>\n",
       "    </tr>\n",
       "    <tr>\n",
       "      <th>35</th>\n",
       "      <td>Erath</td>\n",
       "      <td>Pinot Noir</td>\n",
       "      <td>2010</td>\n",
       "      <td>US</td>\n",
       "      <td>50.0</td>\n",
       "      <td>Paul Gregutt</td>\n",
       "      <td>As with many of the Erath 2010 vineyard design...</td>\n",
       "      <td>86</td>\n",
       "      <td>good</td>\n",
       "      <td>242</td>\n",
       "    </tr>\n",
       "    <tr>\n",
       "      <th>78</th>\n",
       "      <td>Z'IVO</td>\n",
       "      <td>Pinot Noir</td>\n",
       "      <td>2015</td>\n",
       "      <td>US</td>\n",
       "      <td>25.0</td>\n",
       "      <td>Paul Gregutt</td>\n",
       "      <td>Some rosés are made simply by bleeding the jui...</td>\n",
       "      <td>86</td>\n",
       "      <td>good</td>\n",
       "      <td>288</td>\n",
       "    </tr>\n",
       "  </tbody>\n",
       "</table>\n",
       "</div>"
      ],
      "text/plain": [
       "                 winery     variety  year country  price     taster_name  \\\n",
       "4          Sweet Cheeks  Pinot Noir  2012      US   65.0    Paul Gregutt   \n",
       "21              Acrobat  Pinot Noir  2013      US   20.0    Paul Gregutt   \n",
       "25  Castello di Amorosa  Pinot Noir  2011      US   69.0  Virginie Boone   \n",
       "35                Erath  Pinot Noir  2010      US   50.0    Paul Gregutt   \n",
       "78                Z'IVO  Pinot Noir  2015      US   25.0    Paul Gregutt   \n",
       "\n",
       "                                          description  points     rating  \\\n",
       "4   Much like the regular bottling from 2012, this...      87  very good   \n",
       "21  A sleek mix of tart berry, stem and herb, alon...      87  very good   \n",
       "25  Oak and earth intermingle around robust aromas...      87  very good   \n",
       "35  As with many of the Erath 2010 vineyard design...      86       good   \n",
       "78  Some rosés are made simply by bleeding the jui...      86       good   \n",
       "\n",
       "    description_length  \n",
       "4                  249  \n",
       "21                 233  \n",
       "25                 259  \n",
       "35                 242  \n",
       "78                 288  "
      ]
     },
     "execution_count": 2,
     "metadata": {},
     "output_type": "execute_result"
    }
   ],
   "source": [
    "# focus on most reviewed variety from most reviewed country to accelerate the feature selection process\n",
    "reviews = load_augmented_data()\n",
    "pinot = reviews.query('variety == \"Pinot Noir\" and country == \"US\"') \n",
    "pinot.info()\n",
    "pinot.head()"
   ]
  },
  {
   "cell_type": "code",
   "execution_count": 3,
   "metadata": {},
   "outputs": [
    {
     "data": {
      "image/png": "[encoded data removed]",
      "text/plain": [
       "<Figure size 800x400 with 1 Axes>"
      ]
     },
     "metadata": {},
     "output_type": "display_data"
    }
   ],
   "source": [
    "rating_order = ['acceptable', 'good', 'very good', 'excellent', 'superb', 'classic']\n",
    "plt.figure(figsize=(8,4))\n",
    "sns.boxplot(x = 'points', y = 'description_length', palette = 'Purples', hue='points', data = pinot, native_scale=False, legend=None)\n",
    "plt.title(\"Distribution of Review Length by Points Category for Pinot Noir Reviews\", fontsize=12)\n",
    "plt.xlabel(\"Points\",fontsize=10)\n",
    "plt.ylabel(\"Review Length\",fontsize=10)\n",
    "plt.xticks(fontsize=8)\n",
    "plt.yticks(fontsize=8)\n",
    "plt.grid()\n",
    "plt.show()"
   ]
  },
  {
   "cell_type": "code",
   "execution_count": null,
   "metadata": {},
   "outputs": [],
   "source": [
    "plt.figure(figsize=(8,4))\n",
    "sns.boxplot(x = 'taster_name', y = 'points', palette = 'Purples', hue='taster_name', data = pinot, native_scale=False, legend=None)\n",
    "plt.title(\"Distribution of Points by Taster for Pinot Noir Reviews\", fontsize=12)\n",
    "plt.xlabel(\"Taster\",fontsize=10)\n",
    "plt.ylabel(\"Points\",fontsize=10)\n",
    "plt.xticks(fontsize=8)\n",
    "plt.yticks(fontsize=8)\n",
    "plt.grid()\n",
    "plt.show()"
   ]
  },
  {
   "cell_type": "markdown",
   "metadata": {},
   "source": [
    "**Timing Helper**"
   ]
  },
  {
   "cell_type": "code",
   "execution_count": 4,
   "metadata": {},
   "outputs": [],
   "source": [
    "# function to time the execution of a function\n",
    "timings = []\n",
    "_time = lambda algo, purpose, func, count=reviews.shape[0], items='reviews': timeit(algo, purpose, func, count, items, observer=timings)"
   ]
  },
  {
   "cell_type": "markdown",
   "metadata": {},
   "source": [
    "## Model Selection\n",
    "\n",
    "**Given** the training/test dataset below, determine which classifier to use."
   ]
  },
  {
   "cell_type": "markdown",
   "metadata": {},
   "source": [
    "### Training/Test Data Split"
   ]
  },
  {
   "cell_type": "code",
   "execution_count": 5,
   "metadata": {},
   "outputs": [
    {
     "data": {
      "image/png": "[encoded data removed]",
      "text/plain": [
       "<Figure size 600x300 with 1 Axes>"
      ]
     },
     "metadata": {},
     "output_type": "display_data"
    }
   ],
   "source": [
    "from sklearn.model_selection import train_test_split\n",
    "from sklearn.preprocessing import LabelEncoder\n",
    "\n",
    "# features\n",
    "X = pinot[['variety', 'country', 'year', 'description_length', 'description']]\n",
    "# target\n",
    "le = LabelEncoder()\n",
    "y = le.fit_transform(pinot.points)\n",
    "\n",
    "# train/test split\n",
    "X_train, X_test, y_train, y_test = train_test_split(X,y, test_size=0.2, random_state=42, stratify=y)\n",
    "\n",
    "# check the distribution of the target variable\n",
    "fig = plt.figure(figsize=(6,3))\n",
    "pd.Series(y_train).value_counts(normalize=False).sort_index().plot(kind='bar', color='mediumpurple', alpha=0.7, label='training')\n",
    "pd.Series(y_test).value_counts(normalize=False).sort_index().plot(kind='bar', color='purple', alpha=0.7, label='test')\n",
    "plt.title(\"Distribution of Points in the  Training and Test Data Sets\")\n",
    "plt.xlabel(\"Points\")\n",
    "plt.ylabel(\"Count of Reviews\")\n",
    "plt.xticks(plt.xticks()[0], labels=le.inverse_transform(plt.xticks()[0]), fontsize=8, rotation=0)\n",
    "plt.yticks(fontsize=8)\n",
    "plt.legend()\n",
    "plt.grid()\n",
    "plt.tight_layout()\n",
    "plt.show()"
   ]
  },
  {
   "cell_type": "markdown",
   "metadata": {},
   "source": [
    "### Feature Engineering"
   ]
  },
  {
   "cell_type": "code",
   "execution_count": 6,
   "metadata": {},
   "outputs": [
    {
     "data": {
      "text/html": [
       "<style>#sk-container-id-1 {\n",
       "  /* Definition of color scheme common for light and dark mode */\n",
       "  --sklearn-color-text: #000;\n",
       "  --sklearn-color-text-muted: #666;\n",
       "  --sklearn-color-line: gray;\n",
       "  /* Definition of color scheme for unfitted estimators */\n",
       "  --sklearn-color-unfitted-level-0: #fff5e6;\n",
       "  --sklearn-color-unfitted-level-1: #f6e4d2;\n",
       "  --sklearn-color-unfitted-level-2: #ffe0b3;\n",
       "  --sklearn-color-unfitted-level-3: chocolate;\n",
       "  /* Definition of color scheme for fitted estimators */\n",
       "  --sklearn-color-fitted-level-0: #f0f8ff;\n",
       "  --sklearn-color-fitted-level-1: #d4ebff;\n",
       "  --sklearn-color-fitted-level-2: #b3dbfd;\n",
       "  --sklearn-color-fitted-level-3: cornflowerblue;\n",
       "\n",
       "  /* Specific color for light theme */\n",
       "  --sklearn-color-text-on-default-background: var(--sg-text-color, var(--theme-code-foreground, var(--jp-content-font-color1, black)));\n",
       "  --sklearn-color-background: var(--sg-background-color, var(--theme-background, var(--jp-layout-color0, white)));\n",
       "  --sklearn-color-border-box: var(--sg-text-color, var(--theme-code-foreground, var(--jp-content-font-color1, black)));\n",
       "  --sklearn-color-icon: #696969;\n",
       "\n",
       "  @media (prefers-color-scheme: dark) {\n",
       "    /* Redefinition of color scheme for dark theme */\n",
       "    --sklearn-color-text-on-default-background: var(--sg-text-color, var(--theme-code-foreground, var(--jp-content-font-color1, white)));\n",
       "    --sklearn-color-background: var(--sg-background-color, var(--theme-background, var(--jp-layout-color0, #111)));\n",
       "    --sklearn-color-border-box: var(--sg-text-color, var(--theme-code-foreground, var(--jp-content-font-color1, white)));\n",
       "    --sklearn-color-icon: #878787;\n",
       "  }\n",
       "}\n",
       "\n",
       "#sk-container-id-1 {\n",
       "  color: var(--sklearn-color-text);\n",
       "}\n",
       "\n",
       "#sk-container-id-1 pre {\n",
       "  padding: 0;\n",
       "}\n",
       "\n",
       "#sk-container-id-1 input.sk-hidden--visually {\n",
       "  border: 0;\n",
       "  clip: rect(1px 1px 1px 1px);\n",
       "  clip: rect(1px, 1px, 1px, 1px);\n",
       "  height: 1px;\n",
       "  margin: -1px;\n",
       "  overflow: hidden;\n",
       "  padding: 0;\n",
       "  position: absolute;\n",
       "  width: 1px;\n",
       "}\n",
       "\n",
       "#sk-container-id-1 div.sk-dashed-wrapped {\n",
       "  border: 1px dashed var(--sklearn-color-line);\n",
       "  margin: 0 0.4em 0.5em 0.4em;\n",
       "  box-sizing: border-box;\n",
       "  padding-bottom: 0.4em;\n",
       "  background-color: var(--sklearn-color-background);\n",
       "}\n",
       "\n",
       "#sk-container-id-1 div.sk-container {\n",
       "  /* jupyter's `normalize.less` sets `[hidden] { display: none; }`\n",
       "     but bootstrap.min.css set `[hidden] { display: none !important; }`\n",
       "     so we also need the `!important` here to be able to override the\n",
       "     default hidden behavior on the sphinx rendered scikit-learn.org.\n",
       "     See: https://github.com/scikit-learn/scikit-learn/issues/21755 */\n",
       "  display: inline-block !important;\n",
       "  position: relative;\n",
       "}\n",
       "\n",
       "#sk-container-id-1 div.sk-text-repr-fallback {\n",
       "  display: none;\n",
       "}\n",
       "\n",
       "div.sk-parallel-item,\n",
       "div.sk-serial,\n",
       "div.sk-item {\n",
       "  /* draw centered vertical line to link estimators */\n",
       "  background-image: linear-gradient(var(--sklearn-color-text-on-default-background), var(--sklearn-color-text-on-default-background));\n",
       "  background-size: 2px 100%;\n",
       "  background-repeat: no-repeat;\n",
       "  background-position: center center;\n",
       "}\n",
       "\n",
       "/* Parallel-specific style estimator block */\n",
       "\n",
       "#sk-container-id-1 div.sk-parallel-item::after {\n",
       "  content: \"\";\n",
       "  width: 100%;\n",
       "  border-bottom: 2px solid var(--sklearn-color-text-on-default-background);\n",
       "  flex-grow: 1;\n",
       "}\n",
       "\n",
       "#sk-container-id-1 div.sk-parallel {\n",
       "  display: flex;\n",
       "  align-items: stretch;\n",
       "  justify-content: center;\n",
       "  background-color: var(--sklearn-color-background);\n",
       "  position: relative;\n",
       "}\n",
       "\n",
       "#sk-container-id-1 div.sk-parallel-item {\n",
       "  display: flex;\n",
       "  flex-direction: column;\n",
       "}\n",
       "\n",
       "#sk-container-id-1 div.sk-parallel-item:first-child::after {\n",
       "  align-self: flex-end;\n",
       "  width: 50%;\n",
       "}\n",
       "\n",
       "#sk-container-id-1 div.sk-parallel-item:last-child::after {\n",
       "  align-self: flex-start;\n",
       "  width: 50%;\n",
       "}\n",
       "\n",
       "#sk-container-id-1 div.sk-parallel-item:only-child::after {\n",
       "  width: 0;\n",
       "}\n",
       "\n",
       "/* Serial-specific style estimator block */\n",
       "\n",
       "#sk-container-id-1 div.sk-serial {\n",
       "  display: flex;\n",
       "  flex-direction: column;\n",
       "  align-items: center;\n",
       "  background-color: var(--sklearn-color-background);\n",
       "  padding-right: 1em;\n",
       "  padding-left: 1em;\n",
       "}\n",
       "\n",
       "\n",
       "/* Toggleable style: style used for estimator/Pipeline/ColumnTransformer box that is\n",
       "clickable and can be expanded/collapsed.\n",
       "- Pipeline and ColumnTransformer use this feature and define the default style\n",
       "- Estimators will overwrite some part of the style using the `sk-estimator` class\n",
       "*/\n",
       "\n",
       "/* Pipeline and ColumnTransformer style (default) */\n",
       "\n",
       "#sk-container-id-1 div.sk-toggleable {\n",
       "  /* Default theme specific background. It is overwritten whether we have a\n",
       "  specific estimator or a Pipeline/ColumnTransformer */\n",
       "  background-color: var(--sklearn-color-background);\n",
       "}\n",
       "\n",
       "/* Toggleable label */\n",
       "#sk-container-id-1 label.sk-toggleable__label {\n",
       "  cursor: pointer;\n",
       "  display: flex;\n",
       "  width: 100%;\n",
       "  margin-bottom: 0;\n",
       "  padding: 0.5em;\n",
       "  box-sizing: border-box;\n",
       "  text-align: center;\n",
       "  align-items: start;\n",
       "  justify-content: space-between;\n",
       "  gap: 0.5em;\n",
       "}\n",
       "\n",
       "#sk-container-id-1 label.sk-toggleable__label .caption {\n",
       "  font-size: 0.6rem;\n",
       "  font-weight: lighter;\n",
       "  color: var(--sklearn-color-text-muted);\n",
       "}\n",
       "\n",
       "#sk-container-id-1 label.sk-toggleable__label-arrow:before {\n",
       "  /* Arrow on the left of the label */\n",
       "  content: \"▸\";\n",
       "  float: left;\n",
       "  margin-right: 0.25em;\n",
       "  color: var(--sklearn-color-icon);\n",
       "}\n",
       "\n",
       "#sk-container-id-1 label.sk-toggleable__label-arrow:hover:before {\n",
       "  color: var(--sklearn-color-text);\n",
       "}\n",
       "\n",
       "/* Toggleable content - dropdown */\n",
       "\n",
       "#sk-container-id-1 div.sk-toggleable__content {\n",
       "  max-height: 0;\n",
       "  max-width: 0;\n",
       "  overflow: hidden;\n",
       "  text-align: left;\n",
       "  /* unfitted */\n",
       "  background-color: var(--sklearn-color-unfitted-level-0);\n",
       "}\n",
       "\n",
       "#sk-container-id-1 div.sk-toggleable__content.fitted {\n",
       "  /* fitted */\n",
       "  background-color: var(--sklearn-color-fitted-level-0);\n",
       "}\n",
       "\n",
       "#sk-container-id-1 div.sk-toggleable__content pre {\n",
       "  margin: 0.2em;\n",
       "  border-radius: 0.25em;\n",
       "  color: var(--sklearn-color-text);\n",
       "  /* unfitted */\n",
       "  background-color: var(--sklearn-color-unfitted-level-0);\n",
       "}\n",
       "\n",
       "#sk-container-id-1 div.sk-toggleable__content.fitted pre {\n",
       "  /* unfitted */\n",
       "  background-color: var(--sklearn-color-fitted-level-0);\n",
       "}\n",
       "\n",
       "#sk-container-id-1 input.sk-toggleable__control:checked~div.sk-toggleable__content {\n",
       "  /* Expand drop-down */\n",
       "  max-height: 200px;\n",
       "  max-width: 100%;\n",
       "  overflow: auto;\n",
       "}\n",
       "\n",
       "#sk-container-id-1 input.sk-toggleable__control:checked~label.sk-toggleable__label-arrow:before {\n",
       "  content: \"▾\";\n",
       "}\n",
       "\n",
       "/* Pipeline/ColumnTransformer-specific style */\n",
       "\n",
       "#sk-container-id-1 div.sk-label input.sk-toggleable__control:checked~label.sk-toggleable__label {\n",
       "  color: var(--sklearn-color-text);\n",
       "  background-color: var(--sklearn-color-unfitted-level-2);\n",
       "}\n",
       "\n",
       "#sk-container-id-1 div.sk-label.fitted input.sk-toggleable__control:checked~label.sk-toggleable__label {\n",
       "  background-color: var(--sklearn-color-fitted-level-2);\n",
       "}\n",
       "\n",
       "/* Estimator-specific style */\n",
       "\n",
       "/* Colorize estimator box */\n",
       "#sk-container-id-1 div.sk-estimator input.sk-toggleable__control:checked~label.sk-toggleable__label {\n",
       "  /* unfitted */\n",
       "  background-color: var(--sklearn-color-unfitted-level-2);\n",
       "}\n",
       "\n",
       "#sk-container-id-1 div.sk-estimator.fitted input.sk-toggleable__control:checked~label.sk-toggleable__label {\n",
       "  /* fitted */\n",
       "  background-color: var(--sklearn-color-fitted-level-2);\n",
       "}\n",
       "\n",
       "#sk-container-id-1 div.sk-label label.sk-toggleable__label,\n",
       "#sk-container-id-1 div.sk-label label {\n",
       "  /* The background is the default theme color */\n",
       "  color: var(--sklearn-color-text-on-default-background);\n",
       "}\n",
       "\n",
       "/* On hover, darken the color of the background */\n",
       "#sk-container-id-1 div.sk-label:hover label.sk-toggleable__label {\n",
       "  color: var(--sklearn-color-text);\n",
       "  background-color: var(--sklearn-color-unfitted-level-2);\n",
       "}\n",
       "\n",
       "/* Label box, darken color on hover, fitted */\n",
       "#sk-container-id-1 div.sk-label.fitted:hover label.sk-toggleable__label.fitted {\n",
       "  color: var(--sklearn-color-text);\n",
       "  background-color: var(--sklearn-color-fitted-level-2);\n",
       "}\n",
       "\n",
       "/* Estimator label */\n",
       "\n",
       "#sk-container-id-1 div.sk-label label {\n",
       "  font-family: monospace;\n",
       "  font-weight: bold;\n",
       "  display: inline-block;\n",
       "  line-height: 1.2em;\n",
       "}\n",
       "\n",
       "#sk-container-id-1 div.sk-label-container {\n",
       "  text-align: center;\n",
       "}\n",
       "\n",
       "/* Estimator-specific */\n",
       "#sk-container-id-1 div.sk-estimator {\n",
       "  font-family: monospace;\n",
       "  border: 1px dotted var(--sklearn-color-border-box);\n",
       "  border-radius: 0.25em;\n",
       "  box-sizing: border-box;\n",
       "  margin-bottom: 0.5em;\n",
       "  /* unfitted */\n",
       "  background-color: var(--sklearn-color-unfitted-level-0);\n",
       "}\n",
       "\n",
       "#sk-container-id-1 div.sk-estimator.fitted {\n",
       "  /* fitted */\n",
       "  background-color: var(--sklearn-color-fitted-level-0);\n",
       "}\n",
       "\n",
       "/* on hover */\n",
       "#sk-container-id-1 div.sk-estimator:hover {\n",
       "  /* unfitted */\n",
       "  background-color: var(--sklearn-color-unfitted-level-2);\n",
       "}\n",
       "\n",
       "#sk-container-id-1 div.sk-estimator.fitted:hover {\n",
       "  /* fitted */\n",
       "  background-color: var(--sklearn-color-fitted-level-2);\n",
       "}\n",
       "\n",
       "/* Specification for estimator info (e.g. \"i\" and \"?\") */\n",
       "\n",
       "/* Common style for \"i\" and \"?\" */\n",
       "\n",
       ".sk-estimator-doc-link,\n",
       "a:link.sk-estimator-doc-link,\n",
       "a:visited.sk-estimator-doc-link {\n",
       "  float: right;\n",
       "  font-size: smaller;\n",
       "  line-height: 1em;\n",
       "  font-family: monospace;\n",
       "  background-color: var(--sklearn-color-background);\n",
       "  border-radius: 1em;\n",
       "  height: 1em;\n",
       "  width: 1em;\n",
       "  text-decoration: none !important;\n",
       "  margin-left: 0.5em;\n",
       "  text-align: center;\n",
       "  /* unfitted */\n",
       "  border: var(--sklearn-color-unfitted-level-1) 1pt solid;\n",
       "  color: var(--sklearn-color-unfitted-level-1);\n",
       "}\n",
       "\n",
       ".sk-estimator-doc-link.fitted,\n",
       "a:link.sk-estimator-doc-link.fitted,\n",
       "a:visited.sk-estimator-doc-link.fitted {\n",
       "  /* fitted */\n",
       "  border: var(--sklearn-color-fitted-level-1) 1pt solid;\n",
       "  color: var(--sklearn-color-fitted-level-1);\n",
       "}\n",
       "\n",
       "/* On hover */\n",
       "div.sk-estimator:hover .sk-estimator-doc-link:hover,\n",
       ".sk-estimator-doc-link:hover,\n",
       "div.sk-label-container:hover .sk-estimator-doc-link:hover,\n",
       ".sk-estimator-doc-link:hover {\n",
       "  /* unfitted */\n",
       "  background-color: var(--sklearn-color-unfitted-level-3);\n",
       "  color: var(--sklearn-color-background);\n",
       "  text-decoration: none;\n",
       "}\n",
       "\n",
       "div.sk-estimator.fitted:hover .sk-estimator-doc-link.fitted:hover,\n",
       ".sk-estimator-doc-link.fitted:hover,\n",
       "div.sk-label-container:hover .sk-estimator-doc-link.fitted:hover,\n",
       ".sk-estimator-doc-link.fitted:hover {\n",
       "  /* fitted */\n",
       "  background-color: var(--sklearn-color-fitted-level-3);\n",
       "  color: var(--sklearn-color-background);\n",
       "  text-decoration: none;\n",
       "}\n",
       "\n",
       "/* Span, style for the box shown on hovering the info icon */\n",
       ".sk-estimator-doc-link span {\n",
       "  display: none;\n",
       "  z-index: 9999;\n",
       "  position: relative;\n",
       "  font-weight: normal;\n",
       "  right: .2ex;\n",
       "  padding: .5ex;\n",
       "  margin: .5ex;\n",
       "  width: min-content;\n",
       "  min-width: 20ex;\n",
       "  max-width: 50ex;\n",
       "  color: var(--sklearn-color-text);\n",
       "  box-shadow: 2pt 2pt 4pt #999;\n",
       "  /* unfitted */\n",
       "  background: var(--sklearn-color-unfitted-level-0);\n",
       "  border: .5pt solid var(--sklearn-color-unfitted-level-3);\n",
       "}\n",
       "\n",
       ".sk-estimator-doc-link.fitted span {\n",
       "  /* fitted */\n",
       "  background: var(--sklearn-color-fitted-level-0);\n",
       "  border: var(--sklearn-color-fitted-level-3);\n",
       "}\n",
       "\n",
       ".sk-estimator-doc-link:hover span {\n",
       "  display: block;\n",
       "}\n",
       "\n",
       "/* \"?\"-specific style due to the `<a>` HTML tag */\n",
       "\n",
       "#sk-container-id-1 a.estimator_doc_link {\n",
       "  float: right;\n",
       "  font-size: 1rem;\n",
       "  line-height: 1em;\n",
       "  font-family: monospace;\n",
       "  background-color: var(--sklearn-color-background);\n",
       "  border-radius: 1rem;\n",
       "  height: 1rem;\n",
       "  width: 1rem;\n",
       "  text-decoration: none;\n",
       "  /* unfitted */\n",
       "  color: var(--sklearn-color-unfitted-level-1);\n",
       "  border: var(--sklearn-color-unfitted-level-1) 1pt solid;\n",
       "}\n",
       "\n",
       "#sk-container-id-1 a.estimator_doc_link.fitted {\n",
       "  /* fitted */\n",
       "  border: var(--sklearn-color-fitted-level-1) 1pt solid;\n",
       "  color: var(--sklearn-color-fitted-level-1);\n",
       "}\n",
       "\n",
       "/* On hover */\n",
       "#sk-container-id-1 a.estimator_doc_link:hover {\n",
       "  /* unfitted */\n",
       "  background-color: var(--sklearn-color-unfitted-level-3);\n",
       "  color: var(--sklearn-color-background);\n",
       "  text-decoration: none;\n",
       "}\n",
       "\n",
       "#sk-container-id-1 a.estimator_doc_link.fitted:hover {\n",
       "  /* fitted */\n",
       "  background-color: var(--sklearn-color-fitted-level-3);\n",
       "}\n",
       "</style><div id=\"sk-container-id-1\" class=\"sk-top-container\"><div class=\"sk-text-repr-fallback\"><pre>ColumnTransformer(transformers=[(&#x27;ohe&#x27;,\n",
       "                                 OneHotEncoder(drop=&#x27;first&#x27;,\n",
       "                                               handle_unknown=&#x27;infrequent_if_exist&#x27;),\n",
       "                                 [&#x27;variety&#x27;, &#x27;country&#x27;]),\n",
       "                                (&#x27;scaler&#x27;,\n",
       "                                 Pipeline(steps=[(&#x27;poly&#x27;, PolynomialFeatures()),\n",
       "                                                 (&#x27;scaler&#x27;, MinMaxScaler())]),\n",
       "                                 [&#x27;year&#x27;, &#x27;description_length&#x27;]),\n",
       "                                (&#x27;embeds&#x27;,\n",
       "                                 Pipeline(steps=[(&#x27;encode&#x27;,\n",
       "                                                  FunctionTransformer(feature_names_out=&lt;function &lt;lambda&gt; at 0x38fc72b60&gt;,\n",
       "                                                                      func=&lt;function &lt;lambda&gt; at 0x38fc73ce0&gt;)),\n",
       "                                                 (&#x27;scaler&#x27;, MinMaxScaler())]),\n",
       "                                 &#x27;description&#x27;)])</pre><b>In a Jupyter environment, please rerun this cell to show the HTML representation or trust the notebook. <br />On GitHub, the HTML representation is unable to render, please try loading this page with nbviewer.org.</b></div><div class=\"sk-container\" hidden><div class=\"sk-item sk-dashed-wrapped\"><div class=\"sk-label-container\"><div class=\"sk-label  sk-toggleable\"><input class=\"sk-toggleable__control sk-hidden--visually\" id=\"sk-estimator-id-1\" type=\"checkbox\" ><label for=\"sk-estimator-id-1\" class=\"sk-toggleable__label  sk-toggleable__label-arrow\"><div><div>ColumnTransformer</div></div><div><a class=\"sk-estimator-doc-link \" rel=\"noreferrer\" target=\"_blank\" href=\"https://scikit-learn.org/1.6/modules/generated/sklearn.compose.ColumnTransformer.html\">?<span>Documentation for ColumnTransformer</span></a><span class=\"sk-estimator-doc-link \">i<span>Not fitted</span></span></div></label><div class=\"sk-toggleable__content \"><pre>ColumnTransformer(transformers=[(&#x27;ohe&#x27;,\n",
       "                                 OneHotEncoder(drop=&#x27;first&#x27;,\n",
       "                                               handle_unknown=&#x27;infrequent_if_exist&#x27;),\n",
       "                                 [&#x27;variety&#x27;, &#x27;country&#x27;]),\n",
       "                                (&#x27;scaler&#x27;,\n",
       "                                 Pipeline(steps=[(&#x27;poly&#x27;, PolynomialFeatures()),\n",
       "                                                 (&#x27;scaler&#x27;, MinMaxScaler())]),\n",
       "                                 [&#x27;year&#x27;, &#x27;description_length&#x27;]),\n",
       "                                (&#x27;embeds&#x27;,\n",
       "                                 Pipeline(steps=[(&#x27;encode&#x27;,\n",
       "                                                  FunctionTransformer(feature_names_out=&lt;function &lt;lambda&gt; at 0x38fc72b60&gt;,\n",
       "                                                                      func=&lt;function &lt;lambda&gt; at 0x38fc73ce0&gt;)),\n",
       "                                                 (&#x27;scaler&#x27;, MinMaxScaler())]),\n",
       "                                 &#x27;description&#x27;)])</pre></div> </div></div><div class=\"sk-parallel\"><div class=\"sk-parallel-item\"><div class=\"sk-item\"><div class=\"sk-label-container\"><div class=\"sk-label  sk-toggleable\"><input class=\"sk-toggleable__control sk-hidden--visually\" id=\"sk-estimator-id-2\" type=\"checkbox\" ><label for=\"sk-estimator-id-2\" class=\"sk-toggleable__label  sk-toggleable__label-arrow\"><div><div>ohe</div></div></label><div class=\"sk-toggleable__content \"><pre>[&#x27;variety&#x27;, &#x27;country&#x27;]</pre></div> </div></div><div class=\"sk-serial\"><div class=\"sk-item\"><div class=\"sk-estimator  sk-toggleable\"><input class=\"sk-toggleable__control sk-hidden--visually\" id=\"sk-estimator-id-3\" type=\"checkbox\" ><label for=\"sk-estimator-id-3\" class=\"sk-toggleable__label  sk-toggleable__label-arrow\"><div><div>OneHotEncoder</div></div><div><a class=\"sk-estimator-doc-link \" rel=\"noreferrer\" target=\"_blank\" href=\"https://scikit-learn.org/1.6/modules/generated/sklearn.preprocessing.OneHotEncoder.html\">?<span>Documentation for OneHotEncoder</span></a></div></label><div class=\"sk-toggleable__content \"><pre>OneHotEncoder(drop=&#x27;first&#x27;, handle_unknown=&#x27;infrequent_if_exist&#x27;)</pre></div> </div></div></div></div></div><div class=\"sk-parallel-item\"><div class=\"sk-item\"><div class=\"sk-label-container\"><div class=\"sk-label  sk-toggleable\"><input class=\"sk-toggleable__control sk-hidden--visually\" id=\"sk-estimator-id-4\" type=\"checkbox\" ><label for=\"sk-estimator-id-4\" class=\"sk-toggleable__label  sk-toggleable__label-arrow\"><div><div>scaler</div></div></label><div class=\"sk-toggleable__content \"><pre>[&#x27;year&#x27;, &#x27;description_length&#x27;]</pre></div> </div></div><div class=\"sk-serial\"><div class=\"sk-item\"><div class=\"sk-serial\"><div class=\"sk-item\"><div class=\"sk-estimator  sk-toggleable\"><input class=\"sk-toggleable__control sk-hidden--visually\" id=\"sk-estimator-id-5\" type=\"checkbox\" ><label for=\"sk-estimator-id-5\" class=\"sk-toggleable__label  sk-toggleable__label-arrow\"><div><div>PolynomialFeatures</div></div><div><a class=\"sk-estimator-doc-link \" rel=\"noreferrer\" target=\"_blank\" href=\"https://scikit-learn.org/1.6/modules/generated/sklearn.preprocessing.PolynomialFeatures.html\">?<span>Documentation for PolynomialFeatures</span></a></div></label><div class=\"sk-toggleable__content \"><pre>PolynomialFeatures()</pre></div> </div></div><div class=\"sk-item\"><div class=\"sk-estimator  sk-toggleable\"><input class=\"sk-toggleable__control sk-hidden--visually\" id=\"sk-estimator-id-6\" type=\"checkbox\" ><label for=\"sk-estimator-id-6\" class=\"sk-toggleable__label  sk-toggleable__label-arrow\"><div><div>MinMaxScaler</div></div><div><a class=\"sk-estimator-doc-link \" rel=\"noreferrer\" target=\"_blank\" href=\"https://scikit-learn.org/1.6/modules/generated/sklearn.preprocessing.MinMaxScaler.html\">?<span>Documentation for MinMaxScaler</span></a></div></label><div class=\"sk-toggleable__content \"><pre>MinMaxScaler()</pre></div> </div></div></div></div></div></div></div><div class=\"sk-parallel-item\"><div class=\"sk-item\"><div class=\"sk-label-container\"><div class=\"sk-label  sk-toggleable\"><input class=\"sk-toggleable__control sk-hidden--visually\" id=\"sk-estimator-id-7\" type=\"checkbox\" ><label for=\"sk-estimator-id-7\" class=\"sk-toggleable__label  sk-toggleable__label-arrow\"><div><div>embeds</div></div></label><div class=\"sk-toggleable__content \"><pre>description</pre></div> </div></div><div class=\"sk-serial\"><div class=\"sk-item\"><div class=\"sk-serial\"><div class=\"sk-item\"><div class=\"sk-estimator  sk-toggleable\"><input class=\"sk-toggleable__control sk-hidden--visually\" id=\"sk-estimator-id-8\" type=\"checkbox\" ><label for=\"sk-estimator-id-8\" class=\"sk-toggleable__label  sk-toggleable__label-arrow\"><div><div>&lt;lambda&gt;</div><div class=\"caption\">FunctionTransformer</div></div><div><a class=\"sk-estimator-doc-link \" rel=\"noreferrer\" target=\"_blank\" href=\"https://scikit-learn.org/1.6/modules/generated/sklearn.preprocessing.FunctionTransformer.html\">?<span>Documentation for FunctionTransformer</span></a></div></label><div class=\"sk-toggleable__content \"><pre>FunctionTransformer(feature_names_out=&lt;function &lt;lambda&gt; at 0x38fc72b60&gt;,\n",
       "                    func=&lt;function &lt;lambda&gt; at 0x38fc73ce0&gt;)</pre></div> </div></div><div class=\"sk-item\"><div class=\"sk-estimator  sk-toggleable\"><input class=\"sk-toggleable__control sk-hidden--visually\" id=\"sk-estimator-id-9\" type=\"checkbox\" ><label for=\"sk-estimator-id-9\" class=\"sk-toggleable__label  sk-toggleable__label-arrow\"><div><div>MinMaxScaler</div></div><div><a class=\"sk-estimator-doc-link \" rel=\"noreferrer\" target=\"_blank\" href=\"https://scikit-learn.org/1.6/modules/generated/sklearn.preprocessing.MinMaxScaler.html\">?<span>Documentation for MinMaxScaler</span></a></div></label><div class=\"sk-toggleable__content \"><pre>MinMaxScaler()</pre></div> </div></div></div></div></div></div></div></div></div></div></div>"
      ],
      "text/plain": [
       "ColumnTransformer(transformers=[('ohe',\n",
       "                                 OneHotEncoder(drop='first',\n",
       "                                               handle_unknown='infrequent_if_exist'),\n",
       "                                 ['variety', 'country']),\n",
       "                                ('scaler',\n",
       "                                 Pipeline(steps=[('poly', PolynomialFeatures()),\n",
       "                                                 ('scaler', MinMaxScaler())]),\n",
       "                                 ['year', 'description_length']),\n",
       "                                ('embeds',\n",
       "                                 Pipeline(steps=[('encode',\n",
       "                                                  FunctionTransformer(feature_names_out=<function <lambda> at 0x38fc72b60>,\n",
       "                                                                      func=<function <lambda> at 0x38fc73ce0>)),\n",
       "                                                 ('scaler', MinMaxScaler())]),\n",
       "                                 'description')])"
      ]
     },
     "execution_count": 6,
     "metadata": {},
     "output_type": "execute_result"
    }
   ],
   "source": [
    "from sklearn.preprocessing import FunctionTransformer\n",
    "from sentence_transformers import SentenceTransformer\n",
    "from sklearn.compose import ColumnTransformer\n",
    "from sklearn.pipeline import Pipeline\n",
    "from sklearn.preprocessing import MinMaxScaler, OneHotEncoder, PolynomialFeatures\n",
    "\n",
    "model = SentenceTransformer('all-mpnet-base-v2')\n",
    "to_embeddings = lambda series: model.encode(series.to_list(), normalize_embeddings=False, show_progress_bar=True, device='mps')\n",
    "\n",
    "to_features_out = lambda self, cols: [f'{i}' for i in range(768)]\n",
    "\n",
    "transformer = ColumnTransformer([('ohe', OneHotEncoder(drop='first', handle_unknown='infrequent_if_exist'), ['variety', 'country']),\n",
    "                                 ('scaler', Pipeline([('poly', PolynomialFeatures(degree=2)), ('scaler', MinMaxScaler())]), ['year', 'description_length']),\n",
    "                                 ('embeds', Pipeline([('encode', FunctionTransformer(to_embeddings, feature_names_out=to_features_out)),\n",
    "                                                      ('scaler', MinMaxScaler()),\n",
    "                                                    ]), 'description'),\n",
    "                                ])\n",
    "transformer"
   ]
  },
  {
   "cell_type": "code",
   "execution_count": 7,
   "metadata": {},
   "outputs": [
    {
     "data": {
      "text/html": [
       "<div>\n",
       "<style scoped>\n",
       "    .dataframe tbody tr th:only-of-type {\n",
       "        vertical-align: middle;\n",
       "    }\n",
       "\n",
       "    .dataframe tbody tr th {\n",
       "        vertical-align: top;\n",
       "    }\n",
       "\n",
       "    .dataframe thead th {\n",
       "        text-align: right;\n",
       "    }\n",
       "</style>\n",
       "<table border=\"1\" class=\"dataframe\">\n",
       "  <thead>\n",
       "    <tr style=\"text-align: right;\">\n",
       "      <th></th>\n",
       "      <th>variety</th>\n",
       "      <th>country</th>\n",
       "      <th>year</th>\n",
       "      <th>description_length</th>\n",
       "      <th>description</th>\n",
       "    </tr>\n",
       "  </thead>\n",
       "  <tbody>\n",
       "    <tr>\n",
       "      <th>117646</th>\n",
       "      <td>Pinot Noir</td>\n",
       "      <td>US</td>\n",
       "      <td>2009</td>\n",
       "      <td>291</td>\n",
       "      <td>This Pinot has an admirable delicacy, with fai...</td>\n",
       "    </tr>\n",
       "    <tr>\n",
       "      <th>65227</th>\n",
       "      <td>Pinot Noir</td>\n",
       "      <td>US</td>\n",
       "      <td>2011</td>\n",
       "      <td>290</td>\n",
       "      <td>This bottling is curiously at odds with the wi...</td>\n",
       "    </tr>\n",
       "    <tr>\n",
       "      <th>84395</th>\n",
       "      <td>Pinot Noir</td>\n",
       "      <td>US</td>\n",
       "      <td>2007</td>\n",
       "      <td>175</td>\n",
       "      <td>Rich flavors of cherries, red currants and lic...</td>\n",
       "    </tr>\n",
       "    <tr>\n",
       "      <th>109928</th>\n",
       "      <td>Pinot Noir</td>\n",
       "      <td>US</td>\n",
       "      <td>2012</td>\n",
       "      <td>389</td>\n",
       "      <td>As befits this ripe and forward vintage, this ...</td>\n",
       "    </tr>\n",
       "    <tr>\n",
       "      <th>65961</th>\n",
       "      <td>Pinot Noir</td>\n",
       "      <td>US</td>\n",
       "      <td>2015</td>\n",
       "      <td>406</td>\n",
       "      <td>The nose on this bottling from the iconic vine...</td>\n",
       "    </tr>\n",
       "  </tbody>\n",
       "</table>\n",
       "</div>"
      ],
      "text/plain": [
       "           variety country  year  description_length  \\\n",
       "117646  Pinot Noir      US  2009                 291   \n",
       "65227   Pinot Noir      US  2011                 290   \n",
       "84395   Pinot Noir      US  2007                 175   \n",
       "109928  Pinot Noir      US  2012                 389   \n",
       "65961   Pinot Noir      US  2015                 406   \n",
       "\n",
       "                                              description  \n",
       "117646  This Pinot has an admirable delicacy, with fai...  \n",
       "65227   This bottling is curiously at odds with the wi...  \n",
       "84395   Rich flavors of cherries, red currants and lic...  \n",
       "109928  As befits this ripe and forward vintage, this ...  \n",
       "65961   The nose on this bottling from the iconic vine...  "
      ]
     },
     "execution_count": 7,
     "metadata": {},
     "output_type": "execute_result"
    }
   ],
   "source": [
    "X_train.head()"
   ]
  },
  {
   "cell_type": "code",
   "execution_count": 8,
   "metadata": {},
   "outputs": [
    {
     "data": {
      "application/vnd.jupyter.widget-view+json": {
       "model_id": "435360cc9bb54fefabc35de685a0b0b2",
       "version_major": 2,
       "version_minor": 0
      },
      "text/plain": [
       "Batches:   0%|          | 0/223 [00:00<?, ?it/s]"
      ]
     },
     "metadata": {},
     "output_type": "display_data"
    },
    {
     "data": {
      "text/html": [
       "<div>\n",
       "<style scoped>\n",
       "    .dataframe tbody tr th:only-of-type {\n",
       "        vertical-align: middle;\n",
       "    }\n",
       "\n",
       "    .dataframe tbody tr th {\n",
       "        vertical-align: top;\n",
       "    }\n",
       "\n",
       "    .dataframe thead th {\n",
       "        text-align: right;\n",
       "    }\n",
       "</style>\n",
       "<table border=\"1\" class=\"dataframe\">\n",
       "  <thead>\n",
       "    <tr style=\"text-align: right;\">\n",
       "      <th></th>\n",
       "      <th>scaler__1</th>\n",
       "      <th>scaler__year</th>\n",
       "      <th>scaler__description_length</th>\n",
       "      <th>scaler__year^2</th>\n",
       "      <th>scaler__year description_length</th>\n",
       "      <th>scaler__description_length^2</th>\n",
       "      <th>embeds__0</th>\n",
       "      <th>embeds__1</th>\n",
       "      <th>embeds__2</th>\n",
       "      <th>embeds__3</th>\n",
       "      <th>...</th>\n",
       "      <th>embeds__758</th>\n",
       "      <th>embeds__759</th>\n",
       "      <th>embeds__760</th>\n",
       "      <th>embeds__761</th>\n",
       "      <th>embeds__762</th>\n",
       "      <th>embeds__763</th>\n",
       "      <th>embeds__764</th>\n",
       "      <th>embeds__765</th>\n",
       "      <th>embeds__766</th>\n",
       "      <th>embeds__767</th>\n",
       "    </tr>\n",
       "  </thead>\n",
       "  <tbody>\n",
       "    <tr>\n",
       "      <th>117646</th>\n",
       "      <td>0.0</td>\n",
       "      <td>0.416667</td>\n",
       "      <td>0.379205</td>\n",
       "      <td>0.415941</td>\n",
       "      <td>0.379004</td>\n",
       "      <td>0.171155</td>\n",
       "      <td>0.339404</td>\n",
       "      <td>0.527719</td>\n",
       "      <td>0.519406</td>\n",
       "      <td>0.474151</td>\n",
       "      <td>...</td>\n",
       "      <td>0.207808</td>\n",
       "      <td>0.482249</td>\n",
       "      <td>0.524469</td>\n",
       "      <td>0.487453</td>\n",
       "      <td>0.550072</td>\n",
       "      <td>0.514840</td>\n",
       "      <td>0.479691</td>\n",
       "      <td>0.547927</td>\n",
       "      <td>0.676926</td>\n",
       "      <td>0.657930</td>\n",
       "    </tr>\n",
       "    <tr>\n",
       "      <th>65227</th>\n",
       "      <td>0.0</td>\n",
       "      <td>0.583333</td>\n",
       "      <td>0.377676</td>\n",
       "      <td>0.582608</td>\n",
       "      <td>0.377917</td>\n",
       "      <td>0.169954</td>\n",
       "      <td>0.562656</td>\n",
       "      <td>0.508355</td>\n",
       "      <td>0.539919</td>\n",
       "      <td>0.591471</td>\n",
       "      <td>...</td>\n",
       "      <td>0.237926</td>\n",
       "      <td>0.723456</td>\n",
       "      <td>0.274678</td>\n",
       "      <td>0.524613</td>\n",
       "      <td>0.588948</td>\n",
       "      <td>0.675193</td>\n",
       "      <td>0.539257</td>\n",
       "      <td>0.235068</td>\n",
       "      <td>0.680361</td>\n",
       "      <td>0.707518</td>\n",
       "    </tr>\n",
       "    <tr>\n",
       "      <th>84395</th>\n",
       "      <td>0.0</td>\n",
       "      <td>0.250000</td>\n",
       "      <td>0.201835</td>\n",
       "      <td>0.249440</td>\n",
       "      <td>0.201462</td>\n",
       "      <td>0.059459</td>\n",
       "      <td>0.422796</td>\n",
       "      <td>0.493749</td>\n",
       "      <td>0.403964</td>\n",
       "      <td>0.466702</td>\n",
       "      <td>...</td>\n",
       "      <td>0.410819</td>\n",
       "      <td>0.466257</td>\n",
       "      <td>0.642340</td>\n",
       "      <td>0.484201</td>\n",
       "      <td>0.623798</td>\n",
       "      <td>0.533863</td>\n",
       "      <td>0.497896</td>\n",
       "      <td>0.597968</td>\n",
       "      <td>0.476370</td>\n",
       "      <td>0.387403</td>\n",
       "    </tr>\n",
       "    <tr>\n",
       "      <th>109928</th>\n",
       "      <td>0.0</td>\n",
       "      <td>0.666667</td>\n",
       "      <td>0.529052</td>\n",
       "      <td>0.666003</td>\n",
       "      <td>0.529659</td>\n",
       "      <td>0.308852</td>\n",
       "      <td>0.606307</td>\n",
       "      <td>0.572353</td>\n",
       "      <td>0.649820</td>\n",
       "      <td>0.617821</td>\n",
       "      <td>...</td>\n",
       "      <td>0.345612</td>\n",
       "      <td>0.362249</td>\n",
       "      <td>0.582393</td>\n",
       "      <td>0.481394</td>\n",
       "      <td>0.245924</td>\n",
       "      <td>0.622616</td>\n",
       "      <td>0.287556</td>\n",
       "      <td>0.461726</td>\n",
       "      <td>0.632499</td>\n",
       "      <td>0.314962</td>\n",
       "    </tr>\n",
       "    <tr>\n",
       "      <th>65961</th>\n",
       "      <td>0.0</td>\n",
       "      <td>0.916667</td>\n",
       "      <td>0.555046</td>\n",
       "      <td>0.916439</td>\n",
       "      <td>0.556605</td>\n",
       "      <td>0.336778</td>\n",
       "      <td>0.490715</td>\n",
       "      <td>0.682861</td>\n",
       "      <td>0.276484</td>\n",
       "      <td>0.668397</td>\n",
       "      <td>...</td>\n",
       "      <td>0.345257</td>\n",
       "      <td>0.378527</td>\n",
       "      <td>0.445615</td>\n",
       "      <td>0.603316</td>\n",
       "      <td>0.345958</td>\n",
       "      <td>0.237392</td>\n",
       "      <td>0.496793</td>\n",
       "      <td>0.377797</td>\n",
       "      <td>0.737340</td>\n",
       "      <td>0.362185</td>\n",
       "    </tr>\n",
       "  </tbody>\n",
       "</table>\n",
       "<p>5 rows × 774 columns</p>\n",
       "</div>"
      ],
      "text/plain": [
       "        scaler__1  scaler__year  scaler__description_length  scaler__year^2  \\\n",
       "117646        0.0      0.416667                    0.379205        0.415941   \n",
       "65227         0.0      0.583333                    0.377676        0.582608   \n",
       "84395         0.0      0.250000                    0.201835        0.249440   \n",
       "109928        0.0      0.666667                    0.529052        0.666003   \n",
       "65961         0.0      0.916667                    0.555046        0.916439   \n",
       "\n",
       "        scaler__year description_length  scaler__description_length^2  \\\n",
       "117646                         0.379004                      0.171155   \n",
       "65227                          0.377917                      0.169954   \n",
       "84395                          0.201462                      0.059459   \n",
       "109928                         0.529659                      0.308852   \n",
       "65961                          0.556605                      0.336778   \n",
       "\n",
       "        embeds__0  embeds__1  embeds__2  embeds__3  ...  embeds__758  \\\n",
       "117646   0.339404   0.527719   0.519406   0.474151  ...     0.207808   \n",
       "65227    0.562656   0.508355   0.539919   0.591471  ...     0.237926   \n",
       "84395    0.422796   0.493749   0.403964   0.466702  ...     0.410819   \n",
       "109928   0.606307   0.572353   0.649820   0.617821  ...     0.345612   \n",
       "65961    0.490715   0.682861   0.276484   0.668397  ...     0.345257   \n",
       "\n",
       "        embeds__759  embeds__760  embeds__761  embeds__762  embeds__763  \\\n",
       "117646     0.482249     0.524469     0.487453     0.550072     0.514840   \n",
       "65227      0.723456     0.274678     0.524613     0.588948     0.675193   \n",
       "84395      0.466257     0.642340     0.484201     0.623798     0.533863   \n",
       "109928     0.362249     0.582393     0.481394     0.245924     0.622616   \n",
       "65961      0.378527     0.445615     0.603316     0.345958     0.237392   \n",
       "\n",
       "        embeds__764  embeds__765  embeds__766  embeds__767  \n",
       "117646     0.479691     0.547927     0.676926     0.657930  \n",
       "65227      0.539257     0.235068     0.680361     0.707518  \n",
       "84395      0.497896     0.597968     0.476370     0.387403  \n",
       "109928     0.287556     0.461726     0.632499     0.314962  \n",
       "65961      0.496793     0.377797     0.737340     0.362185  \n",
       "\n",
       "[5 rows x 774 columns]"
      ]
     },
     "execution_count": 8,
     "metadata": {},
     "output_type": "execute_result"
    }
   ],
   "source": [
    "# inspect the transformer\n",
    "pd.DataFrame(transformer.fit_transform(X_train), columns=transformer.get_feature_names_out(), index=X_train.index).head()"
   ]
  },
  {
   "cell_type": "markdown",
   "metadata": {},
   "source": [
    "**Note**: Since the data set is filtered to only include Pinot Noir varieties from the US, and the `ohe` is configured with `drop='first'`, there are no `ohe` features in the transformed feature matrix. Since we are only tyring to select the classifier we want to use for the fuller analysis, this is OK."
   ]
  },
  {
   "cell_type": "markdown",
   "metadata": {},
   "source": [
    "### Model Training"
   ]
  },
  {
   "cell_type": "code",
   "execution_count": 9,
   "metadata": {},
   "outputs": [],
   "source": [
    "def create_pipeline(classifier):\n",
    "    return Pipeline([('preprocessor', transformer),\n",
    "                     ('classifier', classifier)])"
   ]
  },
  {
   "cell_type": "markdown",
   "metadata": {},
   "source": [
    "**Determine Which Classifiers to use**"
   ]
  },
  {
   "cell_type": "code",
   "execution_count": 10,
   "metadata": {},
   "outputs": [],
   "source": [
    "import warnings\n",
    "import time\n",
    "\n",
    "def evaluate_classifier(name, classifier, X_train,y_train, X_test,y_test, target):\n",
    "  # define a simple classifier\n",
    "  pipe = create_pipeline(classifier)\n",
    "  \n",
    "  # fit the classifier\n",
    "  with warnings.catch_warnings():\n",
    "    warnings.simplefilter(\"ignore\")\n",
    "    start = time.perf_counter()\n",
    "    pipe.fit(X_train, y_train)\n",
    "    duration = time.perf_counter() - start\n",
    "  return name, target, duration, pipe.score(X_train, y_train), pipe.score(X_test, y_test)\n",
    "\n",
    "evaluate = lambda classifier, X_train,y_train, X_test,y_test, target='points': evaluate_classifier(classifier.__class__.__name__, classifier, X_train,y_train, X_test,y_test, target)\n"
   ]
  },
  {
   "cell_type": "markdown",
   "metadata": {},
   "source": [
    "**The set of Classifiers to Evaluate**"
   ]
  },
  {
   "cell_type": "code",
   "execution_count": 11,
   "metadata": {},
   "outputs": [],
   "source": [
    "from sklearn.linear_model import LogisticRegression\n",
    "from sklearn.tree import DecisionTreeClassifier\n",
    "from sklearn.naive_bayes import MultinomialNB\n",
    "from sklearn.svm import SVC\n",
    "from sklearn.ensemble import GradientBoostingClassifier, AdaBoostClassifier, RandomForestClassifier\n",
    "from sklearn.model_selection import GridSearchCV\n",
    "from sklearn.calibration import CalibratedClassifierCV\n",
    "from xgboost import XGBClassifier\n",
    "from catboost import CatBoostClassifier\n",
    "\n",
    "classifiers = [\n",
    "  # Logistic Regression\n",
    "  LogisticRegression(max_iter=500, C=0.5, random_state=42, solver='newton-cholesky'),\n",
    "  # Decision Tree Classifier\n",
    "  DecisionTreeClassifier(max_depth=50, min_samples_split=5, random_state=42),\n",
    "  # Multinomial Naive Bayes Classifier\n",
    "  MultinomialNB(),\n",
    "  # Support Vector Classifier\n",
    "  SVC(random_state = 42, probability=True),\n",
    "  # Gradient Boost Classifier\n",
    "  GradientBoostingClassifier(random_state=42),\n",
    "  # Ada Boost Classifier\n",
    "  AdaBoostClassifier(random_state=42),\n",
    "  # Random Forest Classifier\n",
    "  RandomForestClassifier(max_depth=5, random_state=42),\n",
    "  # Calibrated Classifier\n",
    "  CalibratedClassifierCV(),\n",
    "  # XGBClassifier\n",
    "  XGBClassifier(n_estimators=2, max_depth=2, learning_rate=1, multi_strategy='one_output_per_tree'),\n",
    "  # CatBoost Classifier\n",
    "  CatBoostClassifier(verbose=False),\n",
    "]"
   ]
  },
  {
   "cell_type": "markdown",
   "metadata": {},
   "source": [
    "**Evaluate the Classifiers**"
   ]
  },
  {
   "cell_type": "code",
   "execution_count": 12,
   "metadata": {},
   "outputs": [
    {
     "name": "stderr",
     "output_type": "stream",
     "text": [
      "  0%|          | 0/10 [00:00<?, ?it/s]"
     ]
    },
    {
     "data": {
      "application/vnd.jupyter.widget-view+json": {
       "model_id": "2b7f52c9f6494fe8a45a7e8f47c92a23",
       "version_major": 2,
       "version_minor": 0
      },
      "text/plain": [
       "Batches:   0%|          | 0/223 [00:00<?, ?it/s]"
      ]
     },
     "metadata": {},
     "output_type": "display_data"
    },
    {
     "data": {
      "application/vnd.jupyter.widget-view+json": {
       "model_id": "06acdc3553594ab597edb8f15ec23706",
       "version_major": 2,
       "version_minor": 0
      },
      "text/plain": [
       "Batches:   0%|          | 0/223 [00:00<?, ?it/s]"
      ]
     },
     "metadata": {},
     "output_type": "display_data"
    },
    {
     "data": {
      "application/vnd.jupyter.widget-view+json": {
       "model_id": "955dac2b3104400d80674f0680d4ee1f",
       "version_major": 2,
       "version_minor": 0
      },
      "text/plain": [
       "Batches:   0%|          | 0/56 [00:00<?, ?it/s]"
      ]
     },
     "metadata": {},
     "output_type": "display_data"
    },
    {
     "name": "stderr",
     "output_type": "stream",
     "text": [
      " 10%|█         | 1/10 [02:02<18:25, 122.81s/it]"
     ]
    },
    {
     "data": {
      "application/vnd.jupyter.widget-view+json": {
       "model_id": "1a62456722ba4d44b4c20c52565eea20",
       "version_major": 2,
       "version_minor": 0
      },
      "text/plain": [
       "Batches:   0%|          | 0/223 [00:00<?, ?it/s]"
      ]
     },
     "metadata": {},
     "output_type": "display_data"
    },
    {
     "data": {
      "application/vnd.jupyter.widget-view+json": {
       "model_id": "dc1ac9e7a2404b648850742959e0934a",
       "version_major": 2,
       "version_minor": 0
      },
      "text/plain": [
       "Batches:   0%|          | 0/223 [00:00<?, ?it/s]"
      ]
     },
     "metadata": {},
     "output_type": "display_data"
    },
    {
     "data": {
      "application/vnd.jupyter.widget-view+json": {
       "model_id": "a83fcaf2e6f04925a3aff6111fe3f880",
       "version_major": 2,
       "version_minor": 0
      },
      "text/plain": [
       "Batches:   0%|          | 0/56 [00:00<?, ?it/s]"
      ]
     },
     "metadata": {},
     "output_type": "display_data"
    },
    {
     "name": "stderr",
     "output_type": "stream",
     "text": [
      " 20%|██        | 2/10 [02:27<08:41, 65.13s/it] "
     ]
    },
    {
     "data": {
      "application/vnd.jupyter.widget-view+json": {
       "model_id": "e30b673c2b8f4d5a92219126c8582597",
       "version_major": 2,
       "version_minor": 0
      },
      "text/plain": [
       "Batches:   0%|          | 0/223 [00:00<?, ?it/s]"
      ]
     },
     "metadata": {},
     "output_type": "display_data"
    },
    {
     "data": {
      "application/vnd.jupyter.widget-view+json": {
       "model_id": "fd08d7b99ec9400cba83236129f37960",
       "version_major": 2,
       "version_minor": 0
      },
      "text/plain": [
       "Batches:   0%|          | 0/223 [00:00<?, ?it/s]"
      ]
     },
     "metadata": {},
     "output_type": "display_data"
    },
    {
     "data": {
      "application/vnd.jupyter.widget-view+json": {
       "model_id": "c5bbc9ad27c744b29f83c8640cc60019",
       "version_major": 2,
       "version_minor": 0
      },
      "text/plain": [
       "Batches:   0%|          | 0/56 [00:00<?, ?it/s]"
      ]
     },
     "metadata": {},
     "output_type": "display_data"
    },
    {
     "name": "stderr",
     "output_type": "stream",
     "text": [
      " 30%|███       | 3/10 [02:47<05:11, 44.45s/it]"
     ]
    },
    {
     "data": {
      "application/vnd.jupyter.widget-view+json": {
       "model_id": "a040bcd6aea541709bda58a7cf320c63",
       "version_major": 2,
       "version_minor": 0
      },
      "text/plain": [
       "Batches:   0%|          | 0/223 [00:00<?, ?it/s]"
      ]
     },
     "metadata": {},
     "output_type": "display_data"
    },
    {
     "data": {
      "application/vnd.jupyter.widget-view+json": {
       "model_id": "22e12faed2ba4a18b14046a06c228450",
       "version_major": 2,
       "version_minor": 0
      },
      "text/plain": [
       "Batches:   0%|          | 0/223 [00:00<?, ?it/s]"
      ]
     },
     "metadata": {},
     "output_type": "display_data"
    },
    {
     "data": {
      "application/vnd.jupyter.widget-view+json": {
       "model_id": "b9ffe40fd43d4874b8714ad7338414c7",
       "version_major": 2,
       "version_minor": 0
      },
      "text/plain": [
       "Batches:   0%|          | 0/56 [00:00<?, ?it/s]"
      ]
     },
     "metadata": {},
     "output_type": "display_data"
    },
    {
     "name": "stderr",
     "output_type": "stream",
     "text": [
      " 40%|████      | 4/10 [04:24<06:31, 65.31s/it]"
     ]
    },
    {
     "data": {
      "application/vnd.jupyter.widget-view+json": {
       "model_id": "2def117ebc8244f38c3485104a385a7d",
       "version_major": 2,
       "version_minor": 0
      },
      "text/plain": [
       "Batches:   0%|          | 0/223 [00:00<?, ?it/s]"
      ]
     },
     "metadata": {},
     "output_type": "display_data"
    },
    {
     "data": {
      "application/vnd.jupyter.widget-view+json": {
       "model_id": "e4d977db22ee483f85734a510b17cc1e",
       "version_major": 2,
       "version_minor": 0
      },
      "text/plain": [
       "Batches:   0%|          | 0/223 [00:00<?, ?it/s]"
      ]
     },
     "metadata": {},
     "output_type": "display_data"
    },
    {
     "data": {
      "application/vnd.jupyter.widget-view+json": {
       "model_id": "09e200da3f0244d48f0df8e345229ca0",
       "version_major": 2,
       "version_minor": 0
      },
      "text/plain": [
       "Batches:   0%|          | 0/56 [00:00<?, ?it/s]"
      ]
     },
     "metadata": {},
     "output_type": "display_data"
    },
    {
     "name": "stderr",
     "output_type": "stream",
     "text": [
      " 50%|█████     | 5/10 [40:29<1:08:31, 822.31s/it]"
     ]
    },
    {
     "data": {
      "application/vnd.jupyter.widget-view+json": {
       "model_id": "0433ae4ac4dd45b0b18d2f7c59b617a3",
       "version_major": 2,
       "version_minor": 0
      },
      "text/plain": [
       "Batches:   0%|          | 0/223 [00:00<?, ?it/s]"
      ]
     },
     "metadata": {},
     "output_type": "display_data"
    },
    {
     "data": {
      "application/vnd.jupyter.widget-view+json": {
       "model_id": "b55247c9520845448415b6cbeb61a5f1",
       "version_major": 2,
       "version_minor": 0
      },
      "text/plain": [
       "Batches:   0%|          | 0/223 [00:00<?, ?it/s]"
      ]
     },
     "metadata": {},
     "output_type": "display_data"
    },
    {
     "data": {
      "application/vnd.jupyter.widget-view+json": {
       "model_id": "dc62f1a8fff2411a99247a87b1061b95",
       "version_major": 2,
       "version_minor": 0
      },
      "text/plain": [
       "Batches:   0%|          | 0/56 [00:00<?, ?it/s]"
      ]
     },
     "metadata": {},
     "output_type": "display_data"
    },
    {
     "name": "stderr",
     "output_type": "stream",
     "text": [
      " 60%|██████    | 6/10 [41:13<37:11, 557.77s/it]  "
     ]
    },
    {
     "data": {
      "application/vnd.jupyter.widget-view+json": {
       "model_id": "54be65f458cb4c68814215eb36cc9966",
       "version_major": 2,
       "version_minor": 0
      },
      "text/plain": [
       "Batches:   0%|          | 0/223 [00:00<?, ?it/s]"
      ]
     },
     "metadata": {},
     "output_type": "display_data"
    },
    {
     "data": {
      "application/vnd.jupyter.widget-view+json": {
       "model_id": "dc6ce66809e944278ab6298aee32a4ed",
       "version_major": 2,
       "version_minor": 0
      },
      "text/plain": [
       "Batches:   0%|          | 0/223 [00:00<?, ?it/s]"
      ]
     },
     "metadata": {},
     "output_type": "display_data"
    },
    {
     "data": {
      "application/vnd.jupyter.widget-view+json": {
       "model_id": "56ae05dd82b24a89ab1d7d63cb2c44e4",
       "version_major": 2,
       "version_minor": 0
      },
      "text/plain": [
       "Batches:   0%|          | 0/56 [00:00<?, ?it/s]"
      ]
     },
     "metadata": {},
     "output_type": "display_data"
    },
    {
     "name": "stderr",
     "output_type": "stream",
     "text": [
      " 70%|███████   | 7/10 [41:38<19:10, 383.52s/it]"
     ]
    },
    {
     "data": {
      "application/vnd.jupyter.widget-view+json": {
       "model_id": "9f4c6998f02f4e10a5a049fc313c681a",
       "version_major": 2,
       "version_minor": 0
      },
      "text/plain": [
       "Batches:   0%|          | 0/223 [00:00<?, ?it/s]"
      ]
     },
     "metadata": {},
     "output_type": "display_data"
    },
    {
     "data": {
      "application/vnd.jupyter.widget-view+json": {
       "model_id": "b7790fb527d04a17828cb6ea5eef5988",
       "version_major": 2,
       "version_minor": 0
      },
      "text/plain": [
       "Batches:   0%|          | 0/223 [00:00<?, ?it/s]"
      ]
     },
     "metadata": {},
     "output_type": "display_data"
    },
    {
     "data": {
      "application/vnd.jupyter.widget-view+json": {
       "model_id": "c5192bb4fc284776a82104092ba76543",
       "version_major": 2,
       "version_minor": 0
      },
      "text/plain": [
       "Batches:   0%|          | 0/56 [00:00<?, ?it/s]"
      ]
     },
     "metadata": {},
     "output_type": "display_data"
    },
    {
     "name": "stderr",
     "output_type": "stream",
     "text": [
      " 80%|████████  | 8/10 [43:15<09:44, 292.28s/it]"
     ]
    },
    {
     "data": {
      "application/vnd.jupyter.widget-view+json": {
       "model_id": "23e6e7517d304899ba6481e3243754a5",
       "version_major": 2,
       "version_minor": 0
      },
      "text/plain": [
       "Batches:   0%|          | 0/223 [00:00<?, ?it/s]"
      ]
     },
     "metadata": {},
     "output_type": "display_data"
    },
    {
     "data": {
      "application/vnd.jupyter.widget-view+json": {
       "model_id": "91354db42fd84e77900d08be02141d2d",
       "version_major": 2,
       "version_minor": 0
      },
      "text/plain": [
       "Batches:   0%|          | 0/223 [00:00<?, ?it/s]"
      ]
     },
     "metadata": {},
     "output_type": "display_data"
    },
    {
     "data": {
      "application/vnd.jupyter.widget-view+json": {
       "model_id": "317371f2839d422fbd15f8a86a052828",
       "version_major": 2,
       "version_minor": 0
      },
      "text/plain": [
       "Batches:   0%|          | 0/56 [00:00<?, ?it/s]"
      ]
     },
     "metadata": {},
     "output_type": "display_data"
    },
    {
     "name": "stderr",
     "output_type": "stream",
     "text": [
      " 90%|█████████ | 9/10 [43:35<03:27, 207.14s/it]"
     ]
    },
    {
     "data": {
      "application/vnd.jupyter.widget-view+json": {
       "model_id": "defc84f64f6e41e08415435aa94b16e0",
       "version_major": 2,
       "version_minor": 0
      },
      "text/plain": [
       "Batches:   0%|          | 0/223 [00:00<?, ?it/s]"
      ]
     },
     "metadata": {},
     "output_type": "display_data"
    },
    {
     "data": {
      "application/vnd.jupyter.widget-view+json": {
       "model_id": "5a002298986f435a87762c032df4833e",
       "version_major": 2,
       "version_minor": 0
      },
      "text/plain": [
       "Batches:   0%|          | 0/223 [00:00<?, ?it/s]"
      ]
     },
     "metadata": {},
     "output_type": "display_data"
    },
    {
     "data": {
      "application/vnd.jupyter.widget-view+json": {
       "model_id": "5560c3fc9a19493e83be8f09e5cbbda2",
       "version_major": 2,
       "version_minor": 0
      },
      "text/plain": [
       "Batches:   0%|          | 0/56 [00:00<?, ?it/s]"
      ]
     },
     "metadata": {},
     "output_type": "display_data"
    },
    {
     "name": "stderr",
     "output_type": "stream",
     "text": [
      "100%|██████████| 10/10 [45:20<00:00, 272.08s/it]\n"
     ]
    },
    {
     "data": {
      "text/html": [
       "<div>\n",
       "<style scoped>\n",
       "    .dataframe tbody tr th:only-of-type {\n",
       "        vertical-align: middle;\n",
       "    }\n",
       "\n",
       "    .dataframe tbody tr th {\n",
       "        vertical-align: top;\n",
       "    }\n",
       "\n",
       "    .dataframe thead th {\n",
       "        text-align: right;\n",
       "    }\n",
       "</style>\n",
       "<table border=\"1\" class=\"dataframe\">\n",
       "  <thead>\n",
       "    <tr style=\"text-align: right;\">\n",
       "      <th></th>\n",
       "      <th>classifier</th>\n",
       "      <th>target</th>\n",
       "      <th>duration</th>\n",
       "      <th>accuracy_train</th>\n",
       "      <th>accuracy_test</th>\n",
       "    </tr>\n",
       "  </thead>\n",
       "  <tbody>\n",
       "    <tr>\n",
       "      <th>0</th>\n",
       "      <td>LogisticRegression</td>\n",
       "      <td>points</td>\n",
       "      <td>111.272546</td>\n",
       "      <td>0.425295</td>\n",
       "      <td>0.215411</td>\n",
       "    </tr>\n",
       "    <tr>\n",
       "      <th>1</th>\n",
       "      <td>DecisionTreeClassifier</td>\n",
       "      <td>points</td>\n",
       "      <td>13.667994</td>\n",
       "      <td>0.895751</td>\n",
       "      <td>0.148481</td>\n",
       "    </tr>\n",
       "    <tr>\n",
       "      <th>2</th>\n",
       "      <td>MultinomialNB</td>\n",
       "      <td>points</td>\n",
       "      <td>8.664246</td>\n",
       "      <td>0.193585</td>\n",
       "      <td>0.173791</td>\n",
       "    </tr>\n",
       "    <tr>\n",
       "      <th>3</th>\n",
       "      <td>SVC</td>\n",
       "      <td>points</td>\n",
       "      <td>70.976901</td>\n",
       "      <td>0.582302</td>\n",
       "      <td>0.212036</td>\n",
       "    </tr>\n",
       "    <tr>\n",
       "      <th>4</th>\n",
       "      <td>GradientBoostingClassifier</td>\n",
       "      <td>points</td>\n",
       "      <td>2153.120865</td>\n",
       "      <td>0.792909</td>\n",
       "      <td>0.203600</td>\n",
       "    </tr>\n",
       "    <tr>\n",
       "      <th>5</th>\n",
       "      <td>AdaBoostClassifier</td>\n",
       "      <td>points</td>\n",
       "      <td>32.836815</td>\n",
       "      <td>0.171075</td>\n",
       "      <td>0.163105</td>\n",
       "    </tr>\n",
       "    <tr>\n",
       "      <th>6</th>\n",
       "      <td>RandomForestClassifier</td>\n",
       "      <td>points</td>\n",
       "      <td>13.636378</td>\n",
       "      <td>0.325549</td>\n",
       "      <td>0.196288</td>\n",
       "    </tr>\n",
       "    <tr>\n",
       "      <th>7</th>\n",
       "      <td>CalibratedClassifierCV</td>\n",
       "      <td>points</td>\n",
       "      <td>85.544163</td>\n",
       "      <td>0.487198</td>\n",
       "      <td>0.209224</td>\n",
       "    </tr>\n",
       "    <tr>\n",
       "      <th>8</th>\n",
       "      <td>XGBClassifier</td>\n",
       "      <td>points</td>\n",
       "      <td>8.897127</td>\n",
       "      <td>0.236916</td>\n",
       "      <td>0.182790</td>\n",
       "    </tr>\n",
       "    <tr>\n",
       "      <th>9</th>\n",
       "      <td>CatBoostClassifier</td>\n",
       "      <td>points</td>\n",
       "      <td>93.533253</td>\n",
       "      <td>0.999297</td>\n",
       "      <td>0.224972</td>\n",
       "    </tr>\n",
       "  </tbody>\n",
       "</table>\n",
       "</div>"
      ],
      "text/plain": [
       "                   classifier  target     duration  accuracy_train  \\\n",
       "0          LogisticRegression  points   111.272546        0.425295   \n",
       "1      DecisionTreeClassifier  points    13.667994        0.895751   \n",
       "2               MultinomialNB  points     8.664246        0.193585   \n",
       "3                         SVC  points    70.976901        0.582302   \n",
       "4  GradientBoostingClassifier  points  2153.120865        0.792909   \n",
       "5          AdaBoostClassifier  points    32.836815        0.171075   \n",
       "6      RandomForestClassifier  points    13.636378        0.325549   \n",
       "7      CalibratedClassifierCV  points    85.544163        0.487198   \n",
       "8               XGBClassifier  points     8.897127        0.236916   \n",
       "9          CatBoostClassifier  points    93.533253        0.999297   \n",
       "\n",
       "   accuracy_test  \n",
       "0       0.215411  \n",
       "1       0.148481  \n",
       "2       0.173791  \n",
       "3       0.212036  \n",
       "4       0.203600  \n",
       "5       0.163105  \n",
       "6       0.196288  \n",
       "7       0.209224  \n",
       "8       0.182790  \n",
       "9       0.224972  "
      ]
     },
     "execution_count": 12,
     "metadata": {},
     "output_type": "execute_result"
    }
   ],
   "source": [
    "from tqdm import tqdm\n",
    "\n",
    "results_points = pd.DataFrame([evaluate(classifier, X_train, y_train, X_test, y_test) for classifier in tqdm(classifiers)], columns=['classifier','target','duration','accuracy_train','accuracy_test'])\n",
    "results_points"
   ]
  },
  {
   "cell_type": "markdown",
   "metadata": {},
   "source": [
    "**Repeat for Rating**"
   ]
  },
  {
   "cell_type": "code",
   "execution_count": 13,
   "metadata": {},
   "outputs": [
    {
     "name": "stdout",
     "output_type": "stream",
     "text": [
      "(8886,)\n",
      "(7108,) (1778,)\n"
     ]
    },
    {
     "data": {
      "image/png": "[encoded data removed]",
      "text/plain": [
       "<Figure size 600x300 with 1 Axes>"
      ]
     },
     "metadata": {},
     "output_type": "display_data"
    }
   ],
   "source": [
    "le = LabelEncoder()\n",
    "y = le.fit_transform(pinot.rating)\n",
    "\n",
    "print(y.shape)\n",
    "\n",
    "# Split the data into training and testing sets\n",
    "X_train, X_test, y_train, y_test = train_test_split(X,y, test_size=0.2, random_state=42, stratify=y)\n",
    "\n",
    "print(y_train.shape, y_test.shape)\n",
    "\n",
    "# check the distribution of the target variable\n",
    "fig = plt.figure(figsize=(6,3))\n",
    "pd.Series(y_train).value_counts(normalize=False).sort_index().plot(kind='bar', color='mediumpurple', alpha=0.7, label='training')\n",
    "pd.Series(y_test).value_counts(normalize=False).sort_index().plot(kind='bar', color='purple', alpha=0.7, label='test')\n",
    "plt.title(\"Distribution of Rating in the Training and Test Data Sets\")\n",
    "plt.xlabel(\"Rating\")\n",
    "plt.ylabel(\"Count of Reviews\")\n",
    "plt.xticks([0,3,5,2,4,1], labels=le.inverse_transform([0,3,5,2,4,1]), fontsize=8, rotation=0)\n",
    "plt.yticks(fontsize=8)\n",
    "plt.legend()\n",
    "plt.grid()\n",
    "plt.tight_layout()\n",
    "plt.show()"
   ]
  },
  {
   "cell_type": "code",
   "execution_count": 14,
   "metadata": {},
   "outputs": [
    {
     "name": "stderr",
     "output_type": "stream",
     "text": [
      "  0%|          | 0/10 [00:00<?, ?it/s]"
     ]
    },
    {
     "data": {
      "application/vnd.jupyter.widget-view+json": {
       "model_id": "f1db6ed7b7774b6a9985e3dfcc15f816",
       "version_major": 2,
       "version_minor": 0
      },
      "text/plain": [
       "Batches:   0%|          | 0/223 [00:00<?, ?it/s]"
      ]
     },
     "metadata": {},
     "output_type": "display_data"
    },
    {
     "data": {
      "application/vnd.jupyter.widget-view+json": {
       "model_id": "8ec89b42395547a095e4fe4d150ad6ee",
       "version_major": 2,
       "version_minor": 0
      },
      "text/plain": [
       "Batches:   0%|          | 0/223 [00:00<?, ?it/s]"
      ]
     },
     "metadata": {},
     "output_type": "display_data"
    },
    {
     "data": {
      "application/vnd.jupyter.widget-view+json": {
       "model_id": "c5c346e9906a42a0b3cb172d0a32aa79",
       "version_major": 2,
       "version_minor": 0
      },
      "text/plain": [
       "Batches:   0%|          | 0/56 [00:00<?, ?it/s]"
      ]
     },
     "metadata": {},
     "output_type": "display_data"
    },
    {
     "name": "stderr",
     "output_type": "stream",
     "text": [
      " 10%|█         | 1/10 [00:28<04:17, 28.64s/it]"
     ]
    },
    {
     "data": {
      "application/vnd.jupyter.widget-view+json": {
       "model_id": "1769cfa740534c5e90d26f7eb1b34baf",
       "version_major": 2,
       "version_minor": 0
      },
      "text/plain": [
       "Batches:   0%|          | 0/223 [00:00<?, ?it/s]"
      ]
     },
     "metadata": {},
     "output_type": "display_data"
    },
    {
     "data": {
      "application/vnd.jupyter.widget-view+json": {
       "model_id": "760654bc6c5d4e7182aba0bee20bac54",
       "version_major": 2,
       "version_minor": 0
      },
      "text/plain": [
       "Batches:   0%|          | 0/223 [00:00<?, ?it/s]"
      ]
     },
     "metadata": {},
     "output_type": "display_data"
    },
    {
     "data": {
      "application/vnd.jupyter.widget-view+json": {
       "model_id": "30ccd1376e66403aa49e2375e96e24f2",
       "version_major": 2,
       "version_minor": 0
      },
      "text/plain": [
       "Batches:   0%|          | 0/56 [00:00<?, ?it/s]"
      ]
     },
     "metadata": {},
     "output_type": "display_data"
    },
    {
     "name": "stderr",
     "output_type": "stream",
     "text": [
      " 20%|██        | 2/10 [00:53<03:32, 26.53s/it]"
     ]
    },
    {
     "data": {
      "application/vnd.jupyter.widget-view+json": {
       "model_id": "119a7e74f0a140c596967d36e137bcdf",
       "version_major": 2,
       "version_minor": 0
      },
      "text/plain": [
       "Batches:   0%|          | 0/223 [00:00<?, ?it/s]"
      ]
     },
     "metadata": {},
     "output_type": "display_data"
    },
    {
     "data": {
      "application/vnd.jupyter.widget-view+json": {
       "model_id": "ace176c59aef4aa582e861971ce12e0e",
       "version_major": 2,
       "version_minor": 0
      },
      "text/plain": [
       "Batches:   0%|          | 0/223 [00:00<?, ?it/s]"
      ]
     },
     "metadata": {},
     "output_type": "display_data"
    },
    {
     "data": {
      "application/vnd.jupyter.widget-view+json": {
       "model_id": "f3bbd0d45e494d7482c999722053e8b4",
       "version_major": 2,
       "version_minor": 0
      },
      "text/plain": [
       "Batches:   0%|          | 0/56 [00:00<?, ?it/s]"
      ]
     },
     "metadata": {},
     "output_type": "display_data"
    },
    {
     "name": "stderr",
     "output_type": "stream",
     "text": [
      " 30%|███       | 3/10 [01:13<02:45, 23.57s/it]"
     ]
    },
    {
     "data": {
      "application/vnd.jupyter.widget-view+json": {
       "model_id": "74b545c848ea47dba880d735ba47e1e9",
       "version_major": 2,
       "version_minor": 0
      },
      "text/plain": [
       "Batches:   0%|          | 0/223 [00:00<?, ?it/s]"
      ]
     },
     "metadata": {},
     "output_type": "display_data"
    },
    {
     "data": {
      "application/vnd.jupyter.widget-view+json": {
       "model_id": "1b372690d7354ca2acb7109a6db8b7ba",
       "version_major": 2,
       "version_minor": 0
      },
      "text/plain": [
       "Batches:   0%|          | 0/223 [00:00<?, ?it/s]"
      ]
     },
     "metadata": {},
     "output_type": "display_data"
    },
    {
     "data": {
      "application/vnd.jupyter.widget-view+json": {
       "model_id": "f397c9d2562e47e38b28533b4e68f2fd",
       "version_major": 2,
       "version_minor": 0
      },
      "text/plain": [
       "Batches:   0%|          | 0/56 [00:00<?, ?it/s]"
      ]
     },
     "metadata": {},
     "output_type": "display_data"
    },
    {
     "name": "stderr",
     "output_type": "stream",
     "text": [
      " 40%|████      | 4/10 [02:40<04:52, 48.71s/it]"
     ]
    },
    {
     "data": {
      "application/vnd.jupyter.widget-view+json": {
       "model_id": "a0308d49c85c4231a2655c7adcaa22ab",
       "version_major": 2,
       "version_minor": 0
      },
      "text/plain": [
       "Batches:   0%|          | 0/223 [00:00<?, ?it/s]"
      ]
     },
     "metadata": {},
     "output_type": "display_data"
    },
    {
     "data": {
      "application/vnd.jupyter.widget-view+json": {
       "model_id": "61ee1921cf4b4c16b1439dea0d44f948",
       "version_major": 2,
       "version_minor": 0
      },
      "text/plain": [
       "Batches:   0%|          | 0/223 [00:00<?, ?it/s]"
      ]
     },
     "metadata": {},
     "output_type": "display_data"
    },
    {
     "data": {
      "application/vnd.jupyter.widget-view+json": {
       "model_id": "7137c9d1c13b441194c6774fb9be1fe1",
       "version_major": 2,
       "version_minor": 0
      },
      "text/plain": [
       "Batches:   0%|          | 0/56 [00:00<?, ?it/s]"
      ]
     },
     "metadata": {},
     "output_type": "display_data"
    },
    {
     "name": "stderr",
     "output_type": "stream",
     "text": [
      " 50%|█████     | 5/10 [13:51<22:45, 273.03s/it]"
     ]
    },
    {
     "data": {
      "application/vnd.jupyter.widget-view+json": {
       "model_id": "6096335d62ea436783021bbe6710cc5e",
       "version_major": 2,
       "version_minor": 0
      },
      "text/plain": [
       "Batches:   0%|          | 0/223 [00:00<?, ?it/s]"
      ]
     },
     "metadata": {},
     "output_type": "display_data"
    },
    {
     "data": {
      "application/vnd.jupyter.widget-view+json": {
       "model_id": "a242b79288ed4a67996db9ef8b3779a2",
       "version_major": 2,
       "version_minor": 0
      },
      "text/plain": [
       "Batches:   0%|          | 0/223 [00:00<?, ?it/s]"
      ]
     },
     "metadata": {},
     "output_type": "display_data"
    },
    {
     "data": {
      "application/vnd.jupyter.widget-view+json": {
       "model_id": "98727495d3fd4e73af5f8f9edcf6a1f1",
       "version_major": 2,
       "version_minor": 0
      },
      "text/plain": [
       "Batches:   0%|          | 0/56 [00:00<?, ?it/s]"
      ]
     },
     "metadata": {},
     "output_type": "display_data"
    },
    {
     "name": "stderr",
     "output_type": "stream",
     "text": [
      " 60%|██████    | 6/10 [14:33<12:57, 194.46s/it]"
     ]
    },
    {
     "data": {
      "application/vnd.jupyter.widget-view+json": {
       "model_id": "62517c05ad5544a0856515017b693cbd",
       "version_major": 2,
       "version_minor": 0
      },
      "text/plain": [
       "Batches:   0%|          | 0/223 [00:00<?, ?it/s]"
      ]
     },
     "metadata": {},
     "output_type": "display_data"
    },
    {
     "data": {
      "application/vnd.jupyter.widget-view+json": {
       "model_id": "cb200ed7b27e4be983dcfe0ad608cd33",
       "version_major": 2,
       "version_minor": 0
      },
      "text/plain": [
       "Batches:   0%|          | 0/223 [00:00<?, ?it/s]"
      ]
     },
     "metadata": {},
     "output_type": "display_data"
    },
    {
     "data": {
      "application/vnd.jupyter.widget-view+json": {
       "model_id": "df715104838040389ce696b27167bdff",
       "version_major": 2,
       "version_minor": 0
      },
      "text/plain": [
       "Batches:   0%|          | 0/56 [00:00<?, ?it/s]"
      ]
     },
     "metadata": {},
     "output_type": "display_data"
    },
    {
     "name": "stderr",
     "output_type": "stream",
     "text": [
      " 70%|███████   | 7/10 [14:58<06:56, 138.91s/it]"
     ]
    },
    {
     "data": {
      "application/vnd.jupyter.widget-view+json": {
       "model_id": "473f06105a104a48abc1decad706ed3b",
       "version_major": 2,
       "version_minor": 0
      },
      "text/plain": [
       "Batches:   0%|          | 0/223 [00:00<?, ?it/s]"
      ]
     },
     "metadata": {},
     "output_type": "display_data"
    },
    {
     "data": {
      "application/vnd.jupyter.widget-view+json": {
       "model_id": "c354da2b75cd4e82acd9a346ffb37bc5",
       "version_major": 2,
       "version_minor": 0
      },
      "text/plain": [
       "Batches:   0%|          | 0/223 [00:00<?, ?it/s]"
      ]
     },
     "metadata": {},
     "output_type": "display_data"
    },
    {
     "data": {
      "application/vnd.jupyter.widget-view+json": {
       "model_id": "3d37102aa48741559abcb58a6f5061bb",
       "version_major": 2,
       "version_minor": 0
      },
      "text/plain": [
       "Batches:   0%|          | 0/56 [00:00<?, ?it/s]"
      ]
     },
     "metadata": {},
     "output_type": "display_data"
    },
    {
     "name": "stderr",
     "output_type": "stream",
     "text": [
      " 80%|████████  | 8/10 [15:46<03:40, 110.16s/it]"
     ]
    },
    {
     "data": {
      "application/vnd.jupyter.widget-view+json": {
       "model_id": "2a2ee7e937174358b8730ed40dac1683",
       "version_major": 2,
       "version_minor": 0
      },
      "text/plain": [
       "Batches:   0%|          | 0/223 [00:00<?, ?it/s]"
      ]
     },
     "metadata": {},
     "output_type": "display_data"
    },
    {
     "data": {
      "application/vnd.jupyter.widget-view+json": {
       "model_id": "1625d2b9c786494188eaea8c1af9c659",
       "version_major": 2,
       "version_minor": 0
      },
      "text/plain": [
       "Batches:   0%|          | 0/223 [00:00<?, ?it/s]"
      ]
     },
     "metadata": {},
     "output_type": "display_data"
    },
    {
     "data": {
      "application/vnd.jupyter.widget-view+json": {
       "model_id": "2fb8a071bb3e4344bc31cee4f6577751",
       "version_major": 2,
       "version_minor": 0
      },
      "text/plain": [
       "Batches:   0%|          | 0/56 [00:00<?, ?it/s]"
      ]
     },
     "metadata": {},
     "output_type": "display_data"
    },
    {
     "name": "stderr",
     "output_type": "stream",
     "text": [
      " 90%|█████████ | 9/10 [16:11<01:23, 83.41s/it] "
     ]
    },
    {
     "data": {
      "application/vnd.jupyter.widget-view+json": {
       "model_id": "18e6748be85f4d3185e41156d79aa4a7",
       "version_major": 2,
       "version_minor": 0
      },
      "text/plain": [
       "Batches:   0%|          | 0/223 [00:00<?, ?it/s]"
      ]
     },
     "metadata": {},
     "output_type": "display_data"
    },
    {
     "data": {
      "application/vnd.jupyter.widget-view+json": {
       "model_id": "c24d4f4d15794cb2ae900afd8471ddd9",
       "version_major": 2,
       "version_minor": 0
      },
      "text/plain": [
       "Batches:   0%|          | 0/223 [00:00<?, ?it/s]"
      ]
     },
     "metadata": {},
     "output_type": "display_data"
    },
    {
     "data": {
      "application/vnd.jupyter.widget-view+json": {
       "model_id": "2b21e2e0818f4185a081d2736b135236",
       "version_major": 2,
       "version_minor": 0
      },
      "text/plain": [
       "Batches:   0%|          | 0/56 [00:00<?, ?it/s]"
      ]
     },
     "metadata": {},
     "output_type": "display_data"
    },
    {
     "name": "stderr",
     "output_type": "stream",
     "text": [
      "100%|██████████| 10/10 [17:03<00:00, 102.37s/it]\n"
     ]
    },
    {
     "data": {
      "text/html": [
       "<div>\n",
       "<style scoped>\n",
       "    .dataframe tbody tr th:only-of-type {\n",
       "        vertical-align: middle;\n",
       "    }\n",
       "\n",
       "    .dataframe tbody tr th {\n",
       "        vertical-align: top;\n",
       "    }\n",
       "\n",
       "    .dataframe thead th {\n",
       "        text-align: right;\n",
       "    }\n",
       "</style>\n",
       "<table border=\"1\" class=\"dataframe\">\n",
       "  <thead>\n",
       "    <tr style=\"text-align: right;\">\n",
       "      <th></th>\n",
       "      <th>classifier</th>\n",
       "      <th>target</th>\n",
       "      <th>duration</th>\n",
       "      <th>accuracy_train</th>\n",
       "      <th>accuracy_test</th>\n",
       "    </tr>\n",
       "  </thead>\n",
       "  <tbody>\n",
       "    <tr>\n",
       "      <th>0</th>\n",
       "      <td>LogisticRegression</td>\n",
       "      <td>rating</td>\n",
       "      <td>17.280445</td>\n",
       "      <td>0.708216</td>\n",
       "      <td>0.622610</td>\n",
       "    </tr>\n",
       "    <tr>\n",
       "      <th>1</th>\n",
       "      <td>DecisionTreeClassifier</td>\n",
       "      <td>rating</td>\n",
       "      <td>13.961972</td>\n",
       "      <td>0.965532</td>\n",
       "      <td>0.465129</td>\n",
       "    </tr>\n",
       "    <tr>\n",
       "      <th>2</th>\n",
       "      <td>MultinomialNB</td>\n",
       "      <td>rating</td>\n",
       "      <td>8.720209</td>\n",
       "      <td>0.513225</td>\n",
       "      <td>0.517998</td>\n",
       "    </tr>\n",
       "    <tr>\n",
       "      <th>3</th>\n",
       "      <td>SVC</td>\n",
       "      <td>rating</td>\n",
       "      <td>62.262442</td>\n",
       "      <td>0.771384</td>\n",
       "      <td>0.625422</td>\n",
       "    </tr>\n",
       "    <tr>\n",
       "      <th>4</th>\n",
       "      <td>GradientBoostingClassifier</td>\n",
       "      <td>rating</td>\n",
       "      <td>659.566703</td>\n",
       "      <td>0.819218</td>\n",
       "      <td>0.600675</td>\n",
       "    </tr>\n",
       "    <tr>\n",
       "      <th>5</th>\n",
       "      <td>AdaBoostClassifier</td>\n",
       "      <td>rating</td>\n",
       "      <td>30.619391</td>\n",
       "      <td>0.514772</td>\n",
       "      <td>0.522497</td>\n",
       "    </tr>\n",
       "    <tr>\n",
       "      <th>6</th>\n",
       "      <td>RandomForestClassifier</td>\n",
       "      <td>rating</td>\n",
       "      <td>13.415132</td>\n",
       "      <td>0.592853</td>\n",
       "      <td>0.538245</td>\n",
       "    </tr>\n",
       "    <tr>\n",
       "      <th>7</th>\n",
       "      <td>CalibratedClassifierCV</td>\n",
       "      <td>rating</td>\n",
       "      <td>37.308449</td>\n",
       "      <td>0.701885</td>\n",
       "      <td>0.607424</td>\n",
       "    </tr>\n",
       "    <tr>\n",
       "      <th>8</th>\n",
       "      <td>XGBClassifier</td>\n",
       "      <td>rating</td>\n",
       "      <td>8.816952</td>\n",
       "      <td>0.574705</td>\n",
       "      <td>0.555681</td>\n",
       "    </tr>\n",
       "    <tr>\n",
       "      <th>9</th>\n",
       "      <td>CatBoostClassifier</td>\n",
       "      <td>rating</td>\n",
       "      <td>40.102187</td>\n",
       "      <td>0.999297</td>\n",
       "      <td>0.618110</td>\n",
       "    </tr>\n",
       "  </tbody>\n",
       "</table>\n",
       "</div>"
      ],
      "text/plain": [
       "                   classifier  target    duration  accuracy_train  \\\n",
       "0          LogisticRegression  rating   17.280445        0.708216   \n",
       "1      DecisionTreeClassifier  rating   13.961972        0.965532   \n",
       "2               MultinomialNB  rating    8.720209        0.513225   \n",
       "3                         SVC  rating   62.262442        0.771384   \n",
       "4  GradientBoostingClassifier  rating  659.566703        0.819218   \n",
       "5          AdaBoostClassifier  rating   30.619391        0.514772   \n",
       "6      RandomForestClassifier  rating   13.415132        0.592853   \n",
       "7      CalibratedClassifierCV  rating   37.308449        0.701885   \n",
       "8               XGBClassifier  rating    8.816952        0.574705   \n",
       "9          CatBoostClassifier  rating   40.102187        0.999297   \n",
       "\n",
       "   accuracy_test  \n",
       "0       0.622610  \n",
       "1       0.465129  \n",
       "2       0.517998  \n",
       "3       0.625422  \n",
       "4       0.600675  \n",
       "5       0.522497  \n",
       "6       0.538245  \n",
       "7       0.607424  \n",
       "8       0.555681  \n",
       "9       0.618110  "
      ]
     },
     "execution_count": 14,
     "metadata": {},
     "output_type": "execute_result"
    }
   ],
   "source": [
    "results_rating = pd.DataFrame([evaluate(classifier, X_train,y_train, X_test,y_test, target='rating') for classifier in tqdm(classifiers)], columns=['classifier','target','duration','accuracy_train','accuracy_test'])\n",
    "results_rating"
   ]
  },
  {
   "cell_type": "markdown",
   "metadata": {},
   "source": [
    "**Combine the Results**"
   ]
  },
  {
   "cell_type": "code",
   "execution_count": 15,
   "metadata": {},
   "outputs": [
    {
     "data": {
      "text/html": [
       "<div>\n",
       "<style scoped>\n",
       "    .dataframe tbody tr th:only-of-type {\n",
       "        vertical-align: middle;\n",
       "    }\n",
       "\n",
       "    .dataframe tbody tr th {\n",
       "        vertical-align: top;\n",
       "    }\n",
       "\n",
       "    .dataframe thead th {\n",
       "        text-align: right;\n",
       "    }\n",
       "</style>\n",
       "<table border=\"1\" class=\"dataframe\">\n",
       "  <thead>\n",
       "    <tr style=\"text-align: right;\">\n",
       "      <th></th>\n",
       "      <th>classifier</th>\n",
       "      <th>target</th>\n",
       "      <th>duration</th>\n",
       "      <th>accuracy_train</th>\n",
       "      <th>accuracy_test</th>\n",
       "    </tr>\n",
       "  </thead>\n",
       "  <tbody>\n",
       "    <tr>\n",
       "      <th>0</th>\n",
       "      <td>LogisticRegression</td>\n",
       "      <td>points</td>\n",
       "      <td>111.272546</td>\n",
       "      <td>0.425295</td>\n",
       "      <td>0.215411</td>\n",
       "    </tr>\n",
       "    <tr>\n",
       "      <th>1</th>\n",
       "      <td>DecisionTreeClassifier</td>\n",
       "      <td>points</td>\n",
       "      <td>13.667994</td>\n",
       "      <td>0.895751</td>\n",
       "      <td>0.148481</td>\n",
       "    </tr>\n",
       "    <tr>\n",
       "      <th>2</th>\n",
       "      <td>MultinomialNB</td>\n",
       "      <td>points</td>\n",
       "      <td>8.664246</td>\n",
       "      <td>0.193585</td>\n",
       "      <td>0.173791</td>\n",
       "    </tr>\n",
       "    <tr>\n",
       "      <th>3</th>\n",
       "      <td>SVC</td>\n",
       "      <td>points</td>\n",
       "      <td>70.976901</td>\n",
       "      <td>0.582302</td>\n",
       "      <td>0.212036</td>\n",
       "    </tr>\n",
       "    <tr>\n",
       "      <th>4</th>\n",
       "      <td>GradientBoostingClassifier</td>\n",
       "      <td>points</td>\n",
       "      <td>2153.120865</td>\n",
       "      <td>0.792909</td>\n",
       "      <td>0.203600</td>\n",
       "    </tr>\n",
       "    <tr>\n",
       "      <th>5</th>\n",
       "      <td>AdaBoostClassifier</td>\n",
       "      <td>points</td>\n",
       "      <td>32.836815</td>\n",
       "      <td>0.171075</td>\n",
       "      <td>0.163105</td>\n",
       "    </tr>\n",
       "    <tr>\n",
       "      <th>6</th>\n",
       "      <td>RandomForestClassifier</td>\n",
       "      <td>points</td>\n",
       "      <td>13.636378</td>\n",
       "      <td>0.325549</td>\n",
       "      <td>0.196288</td>\n",
       "    </tr>\n",
       "    <tr>\n",
       "      <th>7</th>\n",
       "      <td>CalibratedClassifierCV</td>\n",
       "      <td>points</td>\n",
       "      <td>85.544163</td>\n",
       "      <td>0.487198</td>\n",
       "      <td>0.209224</td>\n",
       "    </tr>\n",
       "    <tr>\n",
       "      <th>8</th>\n",
       "      <td>XGBClassifier</td>\n",
       "      <td>points</td>\n",
       "      <td>8.897127</td>\n",
       "      <td>0.236916</td>\n",
       "      <td>0.182790</td>\n",
       "    </tr>\n",
       "    <tr>\n",
       "      <th>9</th>\n",
       "      <td>CatBoostClassifier</td>\n",
       "      <td>points</td>\n",
       "      <td>93.533253</td>\n",
       "      <td>0.999297</td>\n",
       "      <td>0.224972</td>\n",
       "    </tr>\n",
       "    <tr>\n",
       "      <th>0</th>\n",
       "      <td>LogisticRegression</td>\n",
       "      <td>rating</td>\n",
       "      <td>17.280445</td>\n",
       "      <td>0.708216</td>\n",
       "      <td>0.622610</td>\n",
       "    </tr>\n",
       "    <tr>\n",
       "      <th>1</th>\n",
       "      <td>DecisionTreeClassifier</td>\n",
       "      <td>rating</td>\n",
       "      <td>13.961972</td>\n",
       "      <td>0.965532</td>\n",
       "      <td>0.465129</td>\n",
       "    </tr>\n",
       "    <tr>\n",
       "      <th>2</th>\n",
       "      <td>MultinomialNB</td>\n",
       "      <td>rating</td>\n",
       "      <td>8.720209</td>\n",
       "      <td>0.513225</td>\n",
       "      <td>0.517998</td>\n",
       "    </tr>\n",
       "    <tr>\n",
       "      <th>3</th>\n",
       "      <td>SVC</td>\n",
       "      <td>rating</td>\n",
       "      <td>62.262442</td>\n",
       "      <td>0.771384</td>\n",
       "      <td>0.625422</td>\n",
       "    </tr>\n",
       "    <tr>\n",
       "      <th>4</th>\n",
       "      <td>GradientBoostingClassifier</td>\n",
       "      <td>rating</td>\n",
       "      <td>659.566703</td>\n",
       "      <td>0.819218</td>\n",
       "      <td>0.600675</td>\n",
       "    </tr>\n",
       "    <tr>\n",
       "      <th>5</th>\n",
       "      <td>AdaBoostClassifier</td>\n",
       "      <td>rating</td>\n",
       "      <td>30.619391</td>\n",
       "      <td>0.514772</td>\n",
       "      <td>0.522497</td>\n",
       "    </tr>\n",
       "    <tr>\n",
       "      <th>6</th>\n",
       "      <td>RandomForestClassifier</td>\n",
       "      <td>rating</td>\n",
       "      <td>13.415132</td>\n",
       "      <td>0.592853</td>\n",
       "      <td>0.538245</td>\n",
       "    </tr>\n",
       "    <tr>\n",
       "      <th>7</th>\n",
       "      <td>CalibratedClassifierCV</td>\n",
       "      <td>rating</td>\n",
       "      <td>37.308449</td>\n",
       "      <td>0.701885</td>\n",
       "      <td>0.607424</td>\n",
       "    </tr>\n",
       "    <tr>\n",
       "      <th>8</th>\n",
       "      <td>XGBClassifier</td>\n",
       "      <td>rating</td>\n",
       "      <td>8.816952</td>\n",
       "      <td>0.574705</td>\n",
       "      <td>0.555681</td>\n",
       "    </tr>\n",
       "    <tr>\n",
       "      <th>9</th>\n",
       "      <td>CatBoostClassifier</td>\n",
       "      <td>rating</td>\n",
       "      <td>40.102187</td>\n",
       "      <td>0.999297</td>\n",
       "      <td>0.618110</td>\n",
       "    </tr>\n",
       "  </tbody>\n",
       "</table>\n",
       "</div>"
      ],
      "text/plain": [
       "                   classifier  target     duration  accuracy_train  \\\n",
       "0          LogisticRegression  points   111.272546        0.425295   \n",
       "1      DecisionTreeClassifier  points    13.667994        0.895751   \n",
       "2               MultinomialNB  points     8.664246        0.193585   \n",
       "3                         SVC  points    70.976901        0.582302   \n",
       "4  GradientBoostingClassifier  points  2153.120865        0.792909   \n",
       "5          AdaBoostClassifier  points    32.836815        0.171075   \n",
       "6      RandomForestClassifier  points    13.636378        0.325549   \n",
       "7      CalibratedClassifierCV  points    85.544163        0.487198   \n",
       "8               XGBClassifier  points     8.897127        0.236916   \n",
       "9          CatBoostClassifier  points    93.533253        0.999297   \n",
       "0          LogisticRegression  rating    17.280445        0.708216   \n",
       "1      DecisionTreeClassifier  rating    13.961972        0.965532   \n",
       "2               MultinomialNB  rating     8.720209        0.513225   \n",
       "3                         SVC  rating    62.262442        0.771384   \n",
       "4  GradientBoostingClassifier  rating   659.566703        0.819218   \n",
       "5          AdaBoostClassifier  rating    30.619391        0.514772   \n",
       "6      RandomForestClassifier  rating    13.415132        0.592853   \n",
       "7      CalibratedClassifierCV  rating    37.308449        0.701885   \n",
       "8               XGBClassifier  rating     8.816952        0.574705   \n",
       "9          CatBoostClassifier  rating    40.102187        0.999297   \n",
       "\n",
       "   accuracy_test  \n",
       "0       0.215411  \n",
       "1       0.148481  \n",
       "2       0.173791  \n",
       "3       0.212036  \n",
       "4       0.203600  \n",
       "5       0.163105  \n",
       "6       0.196288  \n",
       "7       0.209224  \n",
       "8       0.182790  \n",
       "9       0.224972  \n",
       "0       0.622610  \n",
       "1       0.465129  \n",
       "2       0.517998  \n",
       "3       0.625422  \n",
       "4       0.600675  \n",
       "5       0.522497  \n",
       "6       0.538245  \n",
       "7       0.607424  \n",
       "8       0.555681  \n",
       "9       0.618110  "
      ]
     },
     "execution_count": 15,
     "metadata": {},
     "output_type": "execute_result"
    }
   ],
   "source": [
    "# combine results\n",
    "results = pd.concat([results_points,results_rating], axis=0)\n",
    "results"
   ]
  },
  {
   "cell_type": "code",
   "execution_count": 16,
   "metadata": {},
   "outputs": [
    {
     "data": {
      "image/png": "[encoded data removed]",
      "text/plain": [
       "<Figure size 1000x300 with 2 Axes>"
      ]
     },
     "metadata": {},
     "output_type": "display_data"
    }
   ],
   "source": [
    "import warnings\n",
    "\n",
    "fig, axes = plt.subplots(2, 1, figsize=(10,3))\n",
    "\n",
    "ax = sns.boxplot(data = results, x='duration', y='target', hue='target', palette='Purples', ax=axes[0], flierprops={'markerfacecolor': 'purple'})\n",
    "ax.set_xlabel('Duration (s)')\n",
    "ax.set_ylabel('Target')\n",
    "ax.set_yticks(ax.get_yticks())\n",
    "ax.set_yticklabels(['Points', 'Rating'])\n",
    "\n",
    "# Iterate through fliers and add annotations\n",
    "for i, flier in enumerate(ax.findobj(match=lambda x: type(x) == plt.Line2D and x.get_marker() == 'o')):\n",
    "    x_data, y_data = flier.get_data()\n",
    "    for x, y in zip(x_data, y_data):\n",
    "        classifier=results.query(f'duration == {x}').classifier.values[0]\n",
    "        ax.text(x, y-0.3, f'{classifier}', ha='center', va='bottom', bbox=dict(facecolor='white', alpha=0.75, edgecolor='black', boxstyle='round,pad=0.2'))\n",
    "\n",
    "ax = sns.boxplot(results, x='accuracy_test', y='target', ax=axes[1], hue='target', palette='Purples')\n",
    "ax.set_xlabel('Accuracy on Test Data')\n",
    "ax.set_ylabel('Target')\n",
    "ax.set_yticks(ax.get_yticks())\n",
    "ax.set_yticklabels(['Points', 'Rating'])\n",
    "with warnings.catch_warnings():\n",
    "  warnings.filterwarnings(action='ignore', category=UserWarning)\n",
    "  ax.set_xticklabels([f'{float(v):.0%}' for v in ax.get_xticks()])\n",
    "\n",
    "plt.tight_layout()\n",
    "plt.show()"
   ]
  },
  {
   "cell_type": "code",
   "execution_count": 22,
   "metadata": {},
   "outputs": [
    {
     "data": {
      "image/png": "[encoded data removed]",
      "text/plain": [
       "<Figure size 640x480 with 1 Axes>"
      ]
     },
     "metadata": {},
     "output_type": "display_data"
    }
   ],
   "source": [
    "ax = sns.scatterplot(data=results, x='duration', y='accuracy_test', hue='target', palette='Purples', s=75)\n",
    "# Annotate each point with its label\n",
    "for i, row in results.iterrows():\n",
    "    # ax.set_ylim(.0, .20)\n",
    "    ax.text(row['duration']+50, row['accuracy_test']+.002, row['classifier'], fontsize=10,\n",
    "            bbox=dict(facecolor='white', edgecolor='black', boxstyle='round,pad=0.2'), \n",
    "            horizontalalignment='left', verticalalignment='bottom')"
   ]
  },
  {
   "cell_type": "markdown",
   "metadata": {},
   "source": [
    "## Conclusion\n",
    "\n",
    "Although not tuned, some classifiers show signs of overfitting like `LogisticRegression` and `DecisionTreeClassifier`, while othersm like `GradientBoostingClassifier` are computationally costly. $2$ specialized 3rd party classifiers were also evaluated, `XGBoost` and `CatBoost`. For this project, we will focus on the following three classifiers:\n",
    "- traditional `MultinomialNB` classifier\n",
    "- ensemble: `RandomForestClassifier`\n",
    "- specialized 3rd party: `XGBoost`"
   ]
  },
  {
   "cell_type": "markdown",
   "metadata": {},
   "source": [
    "## Next\n",
    "\n",
    "- [Target Selection](target-selection.ipynb)"
   ]
  }
 ],
 "metadata": {
  "kernelspec": {
   "display_name": ".venv",
   "language": "python",
   "name": "python3"
  },
  "language_info": {
   "codemirror_mode": {
    "name": "ipython",
    "version": 3
   },
   "file_extension": ".py",
   "mimetype": "text/x-python",
   "name": "python",
   "nbconvert_exporter": "python",
   "pygments_lexer": "ipython3",
   "version": "3.12.9"
  }
 },
 "nbformat": 4,
 "nbformat_minor": 2
}
