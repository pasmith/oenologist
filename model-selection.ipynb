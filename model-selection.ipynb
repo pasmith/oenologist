{
 "cells": [
  {
   "cell_type": "markdown",
   "metadata": {},
   "source": [
    "# Model Selection"
   ]
  },
  {
   "cell_type": "code",
   "execution_count": 2,
   "metadata": {},
   "outputs": [],
   "source": [
    "# data manipulation libraries\n",
    "import pandas as pd\n",
    "import numpy as np\n",
    "\n",
    "# custom project libraries\n",
    "from utils.wine_review_utils import load_augmented_data, RATINGS\n",
    "from utils.timer_utils import timeit\n",
    "\n",
    "# plotting libraries\n",
    "import matplotlib.pyplot as plt\n",
    "from matplotlib.gridspec import GridSpec\n",
    "import seaborn as sns\n",
    "sns.set_theme()"
   ]
  },
  {
   "cell_type": "markdown",
   "metadata": {},
   "source": [
    "## Load Augmented Data"
   ]
  },
  {
   "cell_type": "code",
   "execution_count": 3,
   "metadata": {},
   "outputs": [
    {
     "name": "stdout",
     "output_type": "stream",
     "text": [
      "<class 'pandas.core.frame.DataFrame'>\n",
      "Index: 8886 entries, 4 to 129967\n",
      "Data columns (total 10 columns):\n",
      " #   Column              Non-Null Count  Dtype  \n",
      "---  ------              --------------  -----  \n",
      " 0   winery              8886 non-null   object \n",
      " 1   variety             8886 non-null   object \n",
      " 2   year                8886 non-null   int64  \n",
      " 3   country             8886 non-null   object \n",
      " 4   price               8860 non-null   float64\n",
      " 5   taster_name         8886 non-null   object \n",
      " 6   description         8886 non-null   object \n",
      " 7   points              8886 non-null   int64  \n",
      " 8   rating              8886 non-null   object \n",
      " 9   description_length  8886 non-null   int64  \n",
      "dtypes: float64(1), int64(3), object(6)\n",
      "memory usage: 763.6+ KB\n"
     ]
    },
    {
     "data": {
      "text/html": [
       "<div>\n",
       "<style scoped>\n",
       "    .dataframe tbody tr th:only-of-type {\n",
       "        vertical-align: middle;\n",
       "    }\n",
       "\n",
       "    .dataframe tbody tr th {\n",
       "        vertical-align: top;\n",
       "    }\n",
       "\n",
       "    .dataframe thead th {\n",
       "        text-align: right;\n",
       "    }\n",
       "</style>\n",
       "<table border=\"1\" class=\"dataframe\">\n",
       "  <thead>\n",
       "    <tr style=\"text-align: right;\">\n",
       "      <th></th>\n",
       "      <th>winery</th>\n",
       "      <th>variety</th>\n",
       "      <th>year</th>\n",
       "      <th>country</th>\n",
       "      <th>price</th>\n",
       "      <th>taster_name</th>\n",
       "      <th>description</th>\n",
       "      <th>points</th>\n",
       "      <th>rating</th>\n",
       "      <th>description_length</th>\n",
       "    </tr>\n",
       "  </thead>\n",
       "  <tbody>\n",
       "    <tr>\n",
       "      <th>4</th>\n",
       "      <td>Sweet Cheeks</td>\n",
       "      <td>Pinot Noir</td>\n",
       "      <td>2012</td>\n",
       "      <td>US</td>\n",
       "      <td>65.0</td>\n",
       "      <td>Paul Gregutt</td>\n",
       "      <td>Much like the regular bottling from 2012, this...</td>\n",
       "      <td>87</td>\n",
       "      <td>very good</td>\n",
       "      <td>249</td>\n",
       "    </tr>\n",
       "    <tr>\n",
       "      <th>21</th>\n",
       "      <td>Acrobat</td>\n",
       "      <td>Pinot Noir</td>\n",
       "      <td>2013</td>\n",
       "      <td>US</td>\n",
       "      <td>20.0</td>\n",
       "      <td>Paul Gregutt</td>\n",
       "      <td>A sleek mix of tart berry, stem and herb, alon...</td>\n",
       "      <td>87</td>\n",
       "      <td>very good</td>\n",
       "      <td>233</td>\n",
       "    </tr>\n",
       "    <tr>\n",
       "      <th>25</th>\n",
       "      <td>Castello di Amorosa</td>\n",
       "      <td>Pinot Noir</td>\n",
       "      <td>2011</td>\n",
       "      <td>US</td>\n",
       "      <td>69.0</td>\n",
       "      <td>Virginie Boone</td>\n",
       "      <td>Oak and earth intermingle around robust aromas...</td>\n",
       "      <td>87</td>\n",
       "      <td>very good</td>\n",
       "      <td>259</td>\n",
       "    </tr>\n",
       "    <tr>\n",
       "      <th>35</th>\n",
       "      <td>Erath</td>\n",
       "      <td>Pinot Noir</td>\n",
       "      <td>2010</td>\n",
       "      <td>US</td>\n",
       "      <td>50.0</td>\n",
       "      <td>Paul Gregutt</td>\n",
       "      <td>As with many of the Erath 2010 vineyard design...</td>\n",
       "      <td>86</td>\n",
       "      <td>good</td>\n",
       "      <td>242</td>\n",
       "    </tr>\n",
       "    <tr>\n",
       "      <th>78</th>\n",
       "      <td>Z'IVO</td>\n",
       "      <td>Pinot Noir</td>\n",
       "      <td>2015</td>\n",
       "      <td>US</td>\n",
       "      <td>25.0</td>\n",
       "      <td>Paul Gregutt</td>\n",
       "      <td>Some rosés are made simply by bleeding the jui...</td>\n",
       "      <td>86</td>\n",
       "      <td>good</td>\n",
       "      <td>288</td>\n",
       "    </tr>\n",
       "  </tbody>\n",
       "</table>\n",
       "</div>"
      ],
      "text/plain": [
       "                 winery     variety  year country  price     taster_name  \\\n",
       "4          Sweet Cheeks  Pinot Noir  2012      US   65.0    Paul Gregutt   \n",
       "21              Acrobat  Pinot Noir  2013      US   20.0    Paul Gregutt   \n",
       "25  Castello di Amorosa  Pinot Noir  2011      US   69.0  Virginie Boone   \n",
       "35                Erath  Pinot Noir  2010      US   50.0    Paul Gregutt   \n",
       "78                Z'IVO  Pinot Noir  2015      US   25.0    Paul Gregutt   \n",
       "\n",
       "                                          description  points     rating  \\\n",
       "4   Much like the regular bottling from 2012, this...      87  very good   \n",
       "21  A sleek mix of tart berry, stem and herb, alon...      87  very good   \n",
       "25  Oak and earth intermingle around robust aromas...      87  very good   \n",
       "35  As with many of the Erath 2010 vineyard design...      86       good   \n",
       "78  Some rosés are made simply by bleeding the jui...      86       good   \n",
       "\n",
       "    description_length  \n",
       "4                  249  \n",
       "21                 233  \n",
       "25                 259  \n",
       "35                 242  \n",
       "78                 288  "
      ]
     },
     "execution_count": 3,
     "metadata": {},
     "output_type": "execute_result"
    }
   ],
   "source": [
    "# focus on most reviewed variety from most reviewed country to accelerate the feature selection process\n",
    "reviews = load_augmented_data()\n",
    "pinot = reviews.query('variety == \"Pinot Noir\" and country == \"US\"') \n",
    "pinot.info()\n",
    "pinot.head()"
   ]
  },
  {
   "cell_type": "code",
   "execution_count": 4,
   "metadata": {},
   "outputs": [
    {
     "data": {
      "image/png": "[encoded data removed]",
      "text/plain": [
       "<Figure size 800x400 with 1 Axes>"
      ]
     },
     "metadata": {},
     "output_type": "display_data"
    }
   ],
   "source": [
    "rating_order = ['acceptable', 'good', 'very good', 'excellent', 'superb', 'classic']\n",
    "plt.figure(figsize=(8,4))\n",
    "sns.boxplot(x = 'points', y = 'description_length', palette = 'Purples', hue='points', data = pinot, native_scale=False, legend=None)\n",
    "plt.title(\"Distribution of Review Length by Points Category for Pinot Noir Reviews\", fontsize=12)\n",
    "plt.xlabel(\"Points\",fontsize=10)\n",
    "plt.ylabel(\"Review Length\",fontsize=10)\n",
    "plt.xticks(fontsize=8)\n",
    "plt.yticks(fontsize=8)\n",
    "plt.grid()\n",
    "plt.show()"
   ]
  },
  {
   "cell_type": "code",
   "execution_count": 5,
   "metadata": {},
   "outputs": [
    {
     "data": {
      "image/png": "[encoded data removed]",
      "text/plain": [
       "<Figure size 800x400 with 1 Axes>"
      ]
     },
     "metadata": {},
     "output_type": "display_data"
    }
   ],
   "source": [
    "plt.figure(figsize=(8,4))\n",
    "sns.boxplot(x = 'taster_name', y = 'points', palette = 'Purples', hue='taster_name', data = pinot, native_scale=False, legend=None)\n",
    "plt.title(\"Distribution of Points by Taster for Pinot Noir Reviews\", fontsize=12)\n",
    "plt.xlabel(\"Taster\",fontsize=10)\n",
    "plt.ylabel(\"Points\",fontsize=10)\n",
    "plt.xticks(fontsize=8)\n",
    "plt.yticks(fontsize=8)\n",
    "plt.grid()\n",
    "plt.show()"
   ]
  },
  {
   "cell_type": "markdown",
   "metadata": {},
   "source": [
    "**Timing Helper**"
   ]
  },
  {
   "cell_type": "code",
   "execution_count": 6,
   "metadata": {},
   "outputs": [],
   "source": [
    "# function to time the execution of a function\n",
    "timings = []\n",
    "_time = lambda algo, purpose, func, count=reviews.shape[0], items='reviews': timeit(algo, purpose, func, count, items, observer=timings)"
   ]
  },
  {
   "cell_type": "markdown",
   "metadata": {},
   "source": [
    "## Model Selection\n",
    "\n",
    "**Given** the training/test dataset below, determine which classifier to use."
   ]
  },
  {
   "cell_type": "markdown",
   "metadata": {},
   "source": [
    "### Training/Test Data Split"
   ]
  },
  {
   "cell_type": "code",
   "execution_count": 7,
   "metadata": {},
   "outputs": [
    {
     "data": {
      "image/png": "[encoded data removed]",
      "text/plain": [
       "<Figure size 600x300 with 1 Axes>"
      ]
     },
     "metadata": {},
     "output_type": "display_data"
    }
   ],
   "source": [
    "from sklearn.model_selection import train_test_split\n",
    "from sklearn.preprocessing import LabelEncoder\n",
    "\n",
    "# features\n",
    "X = pinot[['variety', 'country', 'year', 'description_length', 'description']]\n",
    "# target\n",
    "le = LabelEncoder()\n",
    "y = le.fit_transform(pinot.points)\n",
    "\n",
    "# train/test split\n",
    "X_train, X_test, y_train, y_test = train_test_split(X,y, test_size=0.2, random_state=42, stratify=y)\n",
    "\n",
    "# check the distribution of the target variable\n",
    "fig = plt.figure(figsize=(6,3))\n",
    "pd.Series(y_train).value_counts(normalize=False).sort_index().plot(kind='bar', color='mediumpurple', alpha=0.7, label='training')\n",
    "pd.Series(y_test).value_counts(normalize=False).sort_index().plot(kind='bar', color='purple', alpha=0.7, label='test')\n",
    "plt.title(\"Distribution of Points in the  Training and Test Data Sets\")\n",
    "plt.xlabel(\"Points\")\n",
    "plt.ylabel(\"Count of Reviews\")\n",
    "plt.xticks(plt.xticks()[0], labels=le.inverse_transform(plt.xticks()[0]), fontsize=8, rotation=0)\n",
    "plt.yticks(fontsize=8)\n",
    "plt.legend()\n",
    "plt.grid()\n",
    "plt.tight_layout()\n",
    "plt.show()"
   ]
  },
  {
   "cell_type": "markdown",
   "metadata": {},
   "source": [
    "### Feature Engineering"
   ]
  },
  {
   "cell_type": "code",
   "execution_count": 8,
   "metadata": {},
   "outputs": [
    {
     "data": {
      "text/html": [
       "<style>#sk-container-id-1 {\n",
       "  /* Definition of color scheme common for light and dark mode */\n",
       "  --sklearn-color-text: #000;\n",
       "  --sklearn-color-text-muted: #666;\n",
       "  --sklearn-color-line: gray;\n",
       "  /* Definition of color scheme for unfitted estimators */\n",
       "  --sklearn-color-unfitted-level-0: #fff5e6;\n",
       "  --sklearn-color-unfitted-level-1: #f6e4d2;\n",
       "  --sklearn-color-unfitted-level-2: #ffe0b3;\n",
       "  --sklearn-color-unfitted-level-3: chocolate;\n",
       "  /* Definition of color scheme for fitted estimators */\n",
       "  --sklearn-color-fitted-level-0: #f0f8ff;\n",
       "  --sklearn-color-fitted-level-1: #d4ebff;\n",
       "  --sklearn-color-fitted-level-2: #b3dbfd;\n",
       "  --sklearn-color-fitted-level-3: cornflowerblue;\n",
       "\n",
       "  /* Specific color for light theme */\n",
       "  --sklearn-color-text-on-default-background: var(--sg-text-color, var(--theme-code-foreground, var(--jp-content-font-color1, black)));\n",
       "  --sklearn-color-background: var(--sg-background-color, var(--theme-background, var(--jp-layout-color0, white)));\n",
       "  --sklearn-color-border-box: var(--sg-text-color, var(--theme-code-foreground, var(--jp-content-font-color1, black)));\n",
       "  --sklearn-color-icon: #696969;\n",
       "\n",
       "  @media (prefers-color-scheme: dark) {\n",
       "    /* Redefinition of color scheme for dark theme */\n",
       "    --sklearn-color-text-on-default-background: var(--sg-text-color, var(--theme-code-foreground, var(--jp-content-font-color1, white)));\n",
       "    --sklearn-color-background: var(--sg-background-color, var(--theme-background, var(--jp-layout-color0, #111)));\n",
       "    --sklearn-color-border-box: var(--sg-text-color, var(--theme-code-foreground, var(--jp-content-font-color1, white)));\n",
       "    --sklearn-color-icon: #878787;\n",
       "  }\n",
       "}\n",
       "\n",
       "#sk-container-id-1 {\n",
       "  color: var(--sklearn-color-text);\n",
       "}\n",
       "\n",
       "#sk-container-id-1 pre {\n",
       "  padding: 0;\n",
       "}\n",
       "\n",
       "#sk-container-id-1 input.sk-hidden--visually {\n",
       "  border: 0;\n",
       "  clip: rect(1px 1px 1px 1px);\n",
       "  clip: rect(1px, 1px, 1px, 1px);\n",
       "  height: 1px;\n",
       "  margin: -1px;\n",
       "  overflow: hidden;\n",
       "  padding: 0;\n",
       "  position: absolute;\n",
       "  width: 1px;\n",
       "}\n",
       "\n",
       "#sk-container-id-1 div.sk-dashed-wrapped {\n",
       "  border: 1px dashed var(--sklearn-color-line);\n",
       "  margin: 0 0.4em 0.5em 0.4em;\n",
       "  box-sizing: border-box;\n",
       "  padding-bottom: 0.4em;\n",
       "  background-color: var(--sklearn-color-background);\n",
       "}\n",
       "\n",
       "#sk-container-id-1 div.sk-container {\n",
       "  /* jupyter's `normalize.less` sets `[hidden] { display: none; }`\n",
       "     but bootstrap.min.css set `[hidden] { display: none !important; }`\n",
       "     so we also need the `!important` here to be able to override the\n",
       "     default hidden behavior on the sphinx rendered scikit-learn.org.\n",
       "     See: https://github.com/scikit-learn/scikit-learn/issues/21755 */\n",
       "  display: inline-block !important;\n",
       "  position: relative;\n",
       "}\n",
       "\n",
       "#sk-container-id-1 div.sk-text-repr-fallback {\n",
       "  display: none;\n",
       "}\n",
       "\n",
       "div.sk-parallel-item,\n",
       "div.sk-serial,\n",
       "div.sk-item {\n",
       "  /* draw centered vertical line to link estimators */\n",
       "  background-image: linear-gradient(var(--sklearn-color-text-on-default-background), var(--sklearn-color-text-on-default-background));\n",
       "  background-size: 2px 100%;\n",
       "  background-repeat: no-repeat;\n",
       "  background-position: center center;\n",
       "}\n",
       "\n",
       "/* Parallel-specific style estimator block */\n",
       "\n",
       "#sk-container-id-1 div.sk-parallel-item::after {\n",
       "  content: \"\";\n",
       "  width: 100%;\n",
       "  border-bottom: 2px solid var(--sklearn-color-text-on-default-background);\n",
       "  flex-grow: 1;\n",
       "}\n",
       "\n",
       "#sk-container-id-1 div.sk-parallel {\n",
       "  display: flex;\n",
       "  align-items: stretch;\n",
       "  justify-content: center;\n",
       "  background-color: var(--sklearn-color-background);\n",
       "  position: relative;\n",
       "}\n",
       "\n",
       "#sk-container-id-1 div.sk-parallel-item {\n",
       "  display: flex;\n",
       "  flex-direction: column;\n",
       "}\n",
       "\n",
       "#sk-container-id-1 div.sk-parallel-item:first-child::after {\n",
       "  align-self: flex-end;\n",
       "  width: 50%;\n",
       "}\n",
       "\n",
       "#sk-container-id-1 div.sk-parallel-item:last-child::after {\n",
       "  align-self: flex-start;\n",
       "  width: 50%;\n",
       "}\n",
       "\n",
       "#sk-container-id-1 div.sk-parallel-item:only-child::after {\n",
       "  width: 0;\n",
       "}\n",
       "\n",
       "/* Serial-specific style estimator block */\n",
       "\n",
       "#sk-container-id-1 div.sk-serial {\n",
       "  display: flex;\n",
       "  flex-direction: column;\n",
       "  align-items: center;\n",
       "  background-color: var(--sklearn-color-background);\n",
       "  padding-right: 1em;\n",
       "  padding-left: 1em;\n",
       "}\n",
       "\n",
       "\n",
       "/* Toggleable style: style used for estimator/Pipeline/ColumnTransformer box that is\n",
       "clickable and can be expanded/collapsed.\n",
       "- Pipeline and ColumnTransformer use this feature and define the default style\n",
       "- Estimators will overwrite some part of the style using the `sk-estimator` class\n",
       "*/\n",
       "\n",
       "/* Pipeline and ColumnTransformer style (default) */\n",
       "\n",
       "#sk-container-id-1 div.sk-toggleable {\n",
       "  /* Default theme specific background. It is overwritten whether we have a\n",
       "  specific estimator or a Pipeline/ColumnTransformer */\n",
       "  background-color: var(--sklearn-color-background);\n",
       "}\n",
       "\n",
       "/* Toggleable label */\n",
       "#sk-container-id-1 label.sk-toggleable__label {\n",
       "  cursor: pointer;\n",
       "  display: flex;\n",
       "  width: 100%;\n",
       "  margin-bottom: 0;\n",
       "  padding: 0.5em;\n",
       "  box-sizing: border-box;\n",
       "  text-align: center;\n",
       "  align-items: start;\n",
       "  justify-content: space-between;\n",
       "  gap: 0.5em;\n",
       "}\n",
       "\n",
       "#sk-container-id-1 label.sk-toggleable__label .caption {\n",
       "  font-size: 0.6rem;\n",
       "  font-weight: lighter;\n",
       "  color: var(--sklearn-color-text-muted);\n",
       "}\n",
       "\n",
       "#sk-container-id-1 label.sk-toggleable__label-arrow:before {\n",
       "  /* Arrow on the left of the label */\n",
       "  content: \"▸\";\n",
       "  float: left;\n",
       "  margin-right: 0.25em;\n",
       "  color: var(--sklearn-color-icon);\n",
       "}\n",
       "\n",
       "#sk-container-id-1 label.sk-toggleable__label-arrow:hover:before {\n",
       "  color: var(--sklearn-color-text);\n",
       "}\n",
       "\n",
       "/* Toggleable content - dropdown */\n",
       "\n",
       "#sk-container-id-1 div.sk-toggleable__content {\n",
       "  max-height: 0;\n",
       "  max-width: 0;\n",
       "  overflow: hidden;\n",
       "  text-align: left;\n",
       "  /* unfitted */\n",
       "  background-color: var(--sklearn-color-unfitted-level-0);\n",
       "}\n",
       "\n",
       "#sk-container-id-1 div.sk-toggleable__content.fitted {\n",
       "  /* fitted */\n",
       "  background-color: var(--sklearn-color-fitted-level-0);\n",
       "}\n",
       "\n",
       "#sk-container-id-1 div.sk-toggleable__content pre {\n",
       "  margin: 0.2em;\n",
       "  border-radius: 0.25em;\n",
       "  color: var(--sklearn-color-text);\n",
       "  /* unfitted */\n",
       "  background-color: var(--sklearn-color-unfitted-level-0);\n",
       "}\n",
       "\n",
       "#sk-container-id-1 div.sk-toggleable__content.fitted pre {\n",
       "  /* unfitted */\n",
       "  background-color: var(--sklearn-color-fitted-level-0);\n",
       "}\n",
       "\n",
       "#sk-container-id-1 input.sk-toggleable__control:checked~div.sk-toggleable__content {\n",
       "  /* Expand drop-down */\n",
       "  max-height: 200px;\n",
       "  max-width: 100%;\n",
       "  overflow: auto;\n",
       "}\n",
       "\n",
       "#sk-container-id-1 input.sk-toggleable__control:checked~label.sk-toggleable__label-arrow:before {\n",
       "  content: \"▾\";\n",
       "}\n",
       "\n",
       "/* Pipeline/ColumnTransformer-specific style */\n",
       "\n",
       "#sk-container-id-1 div.sk-label input.sk-toggleable__control:checked~label.sk-toggleable__label {\n",
       "  color: var(--sklearn-color-text);\n",
       "  background-color: var(--sklearn-color-unfitted-level-2);\n",
       "}\n",
       "\n",
       "#sk-container-id-1 div.sk-label.fitted input.sk-toggleable__control:checked~label.sk-toggleable__label {\n",
       "  background-color: var(--sklearn-color-fitted-level-2);\n",
       "}\n",
       "\n",
       "/* Estimator-specific style */\n",
       "\n",
       "/* Colorize estimator box */\n",
       "#sk-container-id-1 div.sk-estimator input.sk-toggleable__control:checked~label.sk-toggleable__label {\n",
       "  /* unfitted */\n",
       "  background-color: var(--sklearn-color-unfitted-level-2);\n",
       "}\n",
       "\n",
       "#sk-container-id-1 div.sk-estimator.fitted input.sk-toggleable__control:checked~label.sk-toggleable__label {\n",
       "  /* fitted */\n",
       "  background-color: var(--sklearn-color-fitted-level-2);\n",
       "}\n",
       "\n",
       "#sk-container-id-1 div.sk-label label.sk-toggleable__label,\n",
       "#sk-container-id-1 div.sk-label label {\n",
       "  /* The background is the default theme color */\n",
       "  color: var(--sklearn-color-text-on-default-background);\n",
       "}\n",
       "\n",
       "/* On hover, darken the color of the background */\n",
       "#sk-container-id-1 div.sk-label:hover label.sk-toggleable__label {\n",
       "  color: var(--sklearn-color-text);\n",
       "  background-color: var(--sklearn-color-unfitted-level-2);\n",
       "}\n",
       "\n",
       "/* Label box, darken color on hover, fitted */\n",
       "#sk-container-id-1 div.sk-label.fitted:hover label.sk-toggleable__label.fitted {\n",
       "  color: var(--sklearn-color-text);\n",
       "  background-color: var(--sklearn-color-fitted-level-2);\n",
       "}\n",
       "\n",
       "/* Estimator label */\n",
       "\n",
       "#sk-container-id-1 div.sk-label label {\n",
       "  font-family: monospace;\n",
       "  font-weight: bold;\n",
       "  display: inline-block;\n",
       "  line-height: 1.2em;\n",
       "}\n",
       "\n",
       "#sk-container-id-1 div.sk-label-container {\n",
       "  text-align: center;\n",
       "}\n",
       "\n",
       "/* Estimator-specific */\n",
       "#sk-container-id-1 div.sk-estimator {\n",
       "  font-family: monospace;\n",
       "  border: 1px dotted var(--sklearn-color-border-box);\n",
       "  border-radius: 0.25em;\n",
       "  box-sizing: border-box;\n",
       "  margin-bottom: 0.5em;\n",
       "  /* unfitted */\n",
       "  background-color: var(--sklearn-color-unfitted-level-0);\n",
       "}\n",
       "\n",
       "#sk-container-id-1 div.sk-estimator.fitted {\n",
       "  /* fitted */\n",
       "  background-color: var(--sklearn-color-fitted-level-0);\n",
       "}\n",
       "\n",
       "/* on hover */\n",
       "#sk-container-id-1 div.sk-estimator:hover {\n",
       "  /* unfitted */\n",
       "  background-color: var(--sklearn-color-unfitted-level-2);\n",
       "}\n",
       "\n",
       "#sk-container-id-1 div.sk-estimator.fitted:hover {\n",
       "  /* fitted */\n",
       "  background-color: var(--sklearn-color-fitted-level-2);\n",
       "}\n",
       "\n",
       "/* Specification for estimator info (e.g. \"i\" and \"?\") */\n",
       "\n",
       "/* Common style for \"i\" and \"?\" */\n",
       "\n",
       ".sk-estimator-doc-link,\n",
       "a:link.sk-estimator-doc-link,\n",
       "a:visited.sk-estimator-doc-link {\n",
       "  float: right;\n",
       "  font-size: smaller;\n",
       "  line-height: 1em;\n",
       "  font-family: monospace;\n",
       "  background-color: var(--sklearn-color-background);\n",
       "  border-radius: 1em;\n",
       "  height: 1em;\n",
       "  width: 1em;\n",
       "  text-decoration: none !important;\n",
       "  margin-left: 0.5em;\n",
       "  text-align: center;\n",
       "  /* unfitted */\n",
       "  border: var(--sklearn-color-unfitted-level-1) 1pt solid;\n",
       "  color: var(--sklearn-color-unfitted-level-1);\n",
       "}\n",
       "\n",
       ".sk-estimator-doc-link.fitted,\n",
       "a:link.sk-estimator-doc-link.fitted,\n",
       "a:visited.sk-estimator-doc-link.fitted {\n",
       "  /* fitted */\n",
       "  border: var(--sklearn-color-fitted-level-1) 1pt solid;\n",
       "  color: var(--sklearn-color-fitted-level-1);\n",
       "}\n",
       "\n",
       "/* On hover */\n",
       "div.sk-estimator:hover .sk-estimator-doc-link:hover,\n",
       ".sk-estimator-doc-link:hover,\n",
       "div.sk-label-container:hover .sk-estimator-doc-link:hover,\n",
       ".sk-estimator-doc-link:hover {\n",
       "  /* unfitted */\n",
       "  background-color: var(--sklearn-color-unfitted-level-3);\n",
       "  color: var(--sklearn-color-background);\n",
       "  text-decoration: none;\n",
       "}\n",
       "\n",
       "div.sk-estimator.fitted:hover .sk-estimator-doc-link.fitted:hover,\n",
       ".sk-estimator-doc-link.fitted:hover,\n",
       "div.sk-label-container:hover .sk-estimator-doc-link.fitted:hover,\n",
       ".sk-estimator-doc-link.fitted:hover {\n",
       "  /* fitted */\n",
       "  background-color: var(--sklearn-color-fitted-level-3);\n",
       "  color: var(--sklearn-color-background);\n",
       "  text-decoration: none;\n",
       "}\n",
       "\n",
       "/* Span, style for the box shown on hovering the info icon */\n",
       ".sk-estimator-doc-link span {\n",
       "  display: none;\n",
       "  z-index: 9999;\n",
       "  position: relative;\n",
       "  font-weight: normal;\n",
       "  right: .2ex;\n",
       "  padding: .5ex;\n",
       "  margin: .5ex;\n",
       "  width: min-content;\n",
       "  min-width: 20ex;\n",
       "  max-width: 50ex;\n",
       "  color: var(--sklearn-color-text);\n",
       "  box-shadow: 2pt 2pt 4pt #999;\n",
       "  /* unfitted */\n",
       "  background: var(--sklearn-color-unfitted-level-0);\n",
       "  border: .5pt solid var(--sklearn-color-unfitted-level-3);\n",
       "}\n",
       "\n",
       ".sk-estimator-doc-link.fitted span {\n",
       "  /* fitted */\n",
       "  background: var(--sklearn-color-fitted-level-0);\n",
       "  border: var(--sklearn-color-fitted-level-3);\n",
       "}\n",
       "\n",
       ".sk-estimator-doc-link:hover span {\n",
       "  display: block;\n",
       "}\n",
       "\n",
       "/* \"?\"-specific style due to the `<a>` HTML tag */\n",
       "\n",
       "#sk-container-id-1 a.estimator_doc_link {\n",
       "  float: right;\n",
       "  font-size: 1rem;\n",
       "  line-height: 1em;\n",
       "  font-family: monospace;\n",
       "  background-color: var(--sklearn-color-background);\n",
       "  border-radius: 1rem;\n",
       "  height: 1rem;\n",
       "  width: 1rem;\n",
       "  text-decoration: none;\n",
       "  /* unfitted */\n",
       "  color: var(--sklearn-color-unfitted-level-1);\n",
       "  border: var(--sklearn-color-unfitted-level-1) 1pt solid;\n",
       "}\n",
       "\n",
       "#sk-container-id-1 a.estimator_doc_link.fitted {\n",
       "  /* fitted */\n",
       "  border: var(--sklearn-color-fitted-level-1) 1pt solid;\n",
       "  color: var(--sklearn-color-fitted-level-1);\n",
       "}\n",
       "\n",
       "/* On hover */\n",
       "#sk-container-id-1 a.estimator_doc_link:hover {\n",
       "  /* unfitted */\n",
       "  background-color: var(--sklearn-color-unfitted-level-3);\n",
       "  color: var(--sklearn-color-background);\n",
       "  text-decoration: none;\n",
       "}\n",
       "\n",
       "#sk-container-id-1 a.estimator_doc_link.fitted:hover {\n",
       "  /* fitted */\n",
       "  background-color: var(--sklearn-color-fitted-level-3);\n",
       "}\n",
       "</style><div id=\"sk-container-id-1\" class=\"sk-top-container\"><div class=\"sk-text-repr-fallback\"><pre>ColumnTransformer(transformers=[(&#x27;ohe&#x27;,\n",
       "                                 OneHotEncoder(drop=&#x27;first&#x27;,\n",
       "                                               handle_unknown=&#x27;infrequent_if_exist&#x27;),\n",
       "                                 [&#x27;variety&#x27;, &#x27;country&#x27;]),\n",
       "                                (&#x27;scaler&#x27;,\n",
       "                                 Pipeline(steps=[(&#x27;poly&#x27;, PolynomialFeatures()),\n",
       "                                                 (&#x27;scaler&#x27;, MinMaxScaler())]),\n",
       "                                 [&#x27;year&#x27;, &#x27;description_length&#x27;]),\n",
       "                                (&#x27;embeds&#x27;,\n",
       "                                 Pipeline(steps=[(&#x27;encode&#x27;,\n",
       "                                                  FunctionTransformer(feature_names_out=&lt;function &lt;lambda&gt; at 0x3d05a1300&gt;,\n",
       "                                                                      func=&lt;function &lt;lambda&gt; at 0x3d05a2480&gt;)),\n",
       "                                                 (&#x27;scaler&#x27;, MinMaxScaler())]),\n",
       "                                 &#x27;description&#x27;)])</pre><b>In a Jupyter environment, please rerun this cell to show the HTML representation or trust the notebook. <br />On GitHub, the HTML representation is unable to render, please try loading this page with nbviewer.org.</b></div><div class=\"sk-container\" hidden><div class=\"sk-item sk-dashed-wrapped\"><div class=\"sk-label-container\"><div class=\"sk-label  sk-toggleable\"><input class=\"sk-toggleable__control sk-hidden--visually\" id=\"sk-estimator-id-1\" type=\"checkbox\" ><label for=\"sk-estimator-id-1\" class=\"sk-toggleable__label  sk-toggleable__label-arrow\"><div><div>ColumnTransformer</div></div><div><a class=\"sk-estimator-doc-link \" rel=\"noreferrer\" target=\"_blank\" href=\"https://scikit-learn.org/1.6/modules/generated/sklearn.compose.ColumnTransformer.html\">?<span>Documentation for ColumnTransformer</span></a><span class=\"sk-estimator-doc-link \">i<span>Not fitted</span></span></div></label><div class=\"sk-toggleable__content \"><pre>ColumnTransformer(transformers=[(&#x27;ohe&#x27;,\n",
       "                                 OneHotEncoder(drop=&#x27;first&#x27;,\n",
       "                                               handle_unknown=&#x27;infrequent_if_exist&#x27;),\n",
       "                                 [&#x27;variety&#x27;, &#x27;country&#x27;]),\n",
       "                                (&#x27;scaler&#x27;,\n",
       "                                 Pipeline(steps=[(&#x27;poly&#x27;, PolynomialFeatures()),\n",
       "                                                 (&#x27;scaler&#x27;, MinMaxScaler())]),\n",
       "                                 [&#x27;year&#x27;, &#x27;description_length&#x27;]),\n",
       "                                (&#x27;embeds&#x27;,\n",
       "                                 Pipeline(steps=[(&#x27;encode&#x27;,\n",
       "                                                  FunctionTransformer(feature_names_out=&lt;function &lt;lambda&gt; at 0x3d05a1300&gt;,\n",
       "                                                                      func=&lt;function &lt;lambda&gt; at 0x3d05a2480&gt;)),\n",
       "                                                 (&#x27;scaler&#x27;, MinMaxScaler())]),\n",
       "                                 &#x27;description&#x27;)])</pre></div> </div></div><div class=\"sk-parallel\"><div class=\"sk-parallel-item\"><div class=\"sk-item\"><div class=\"sk-label-container\"><div class=\"sk-label  sk-toggleable\"><input class=\"sk-toggleable__control sk-hidden--visually\" id=\"sk-estimator-id-2\" type=\"checkbox\" ><label for=\"sk-estimator-id-2\" class=\"sk-toggleable__label  sk-toggleable__label-arrow\"><div><div>ohe</div></div></label><div class=\"sk-toggleable__content \"><pre>[&#x27;variety&#x27;, &#x27;country&#x27;]</pre></div> </div></div><div class=\"sk-serial\"><div class=\"sk-item\"><div class=\"sk-estimator  sk-toggleable\"><input class=\"sk-toggleable__control sk-hidden--visually\" id=\"sk-estimator-id-3\" type=\"checkbox\" ><label for=\"sk-estimator-id-3\" class=\"sk-toggleable__label  sk-toggleable__label-arrow\"><div><div>OneHotEncoder</div></div><div><a class=\"sk-estimator-doc-link \" rel=\"noreferrer\" target=\"_blank\" href=\"https://scikit-learn.org/1.6/modules/generated/sklearn.preprocessing.OneHotEncoder.html\">?<span>Documentation for OneHotEncoder</span></a></div></label><div class=\"sk-toggleable__content \"><pre>OneHotEncoder(drop=&#x27;first&#x27;, handle_unknown=&#x27;infrequent_if_exist&#x27;)</pre></div> </div></div></div></div></div><div class=\"sk-parallel-item\"><div class=\"sk-item\"><div class=\"sk-label-container\"><div class=\"sk-label  sk-toggleable\"><input class=\"sk-toggleable__control sk-hidden--visually\" id=\"sk-estimator-id-4\" type=\"checkbox\" ><label for=\"sk-estimator-id-4\" class=\"sk-toggleable__label  sk-toggleable__label-arrow\"><div><div>scaler</div></div></label><div class=\"sk-toggleable__content \"><pre>[&#x27;year&#x27;, &#x27;description_length&#x27;]</pre></div> </div></div><div class=\"sk-serial\"><div class=\"sk-item\"><div class=\"sk-serial\"><div class=\"sk-item\"><div class=\"sk-estimator  sk-toggleable\"><input class=\"sk-toggleable__control sk-hidden--visually\" id=\"sk-estimator-id-5\" type=\"checkbox\" ><label for=\"sk-estimator-id-5\" class=\"sk-toggleable__label  sk-toggleable__label-arrow\"><div><div>PolynomialFeatures</div></div><div><a class=\"sk-estimator-doc-link \" rel=\"noreferrer\" target=\"_blank\" href=\"https://scikit-learn.org/1.6/modules/generated/sklearn.preprocessing.PolynomialFeatures.html\">?<span>Documentation for PolynomialFeatures</span></a></div></label><div class=\"sk-toggleable__content \"><pre>PolynomialFeatures()</pre></div> </div></div><div class=\"sk-item\"><div class=\"sk-estimator  sk-toggleable\"><input class=\"sk-toggleable__control sk-hidden--visually\" id=\"sk-estimator-id-6\" type=\"checkbox\" ><label for=\"sk-estimator-id-6\" class=\"sk-toggleable__label  sk-toggleable__label-arrow\"><div><div>MinMaxScaler</div></div><div><a class=\"sk-estimator-doc-link \" rel=\"noreferrer\" target=\"_blank\" href=\"https://scikit-learn.org/1.6/modules/generated/sklearn.preprocessing.MinMaxScaler.html\">?<span>Documentation for MinMaxScaler</span></a></div></label><div class=\"sk-toggleable__content \"><pre>MinMaxScaler()</pre></div> </div></div></div></div></div></div></div><div class=\"sk-parallel-item\"><div class=\"sk-item\"><div class=\"sk-label-container\"><div class=\"sk-label  sk-toggleable\"><input class=\"sk-toggleable__control sk-hidden--visually\" id=\"sk-estimator-id-7\" type=\"checkbox\" ><label for=\"sk-estimator-id-7\" class=\"sk-toggleable__label  sk-toggleable__label-arrow\"><div><div>embeds</div></div></label><div class=\"sk-toggleable__content \"><pre>description</pre></div> </div></div><div class=\"sk-serial\"><div class=\"sk-item\"><div class=\"sk-serial\"><div class=\"sk-item\"><div class=\"sk-estimator  sk-toggleable\"><input class=\"sk-toggleable__control sk-hidden--visually\" id=\"sk-estimator-id-8\" type=\"checkbox\" ><label for=\"sk-estimator-id-8\" class=\"sk-toggleable__label  sk-toggleable__label-arrow\"><div><div>&lt;lambda&gt;</div><div class=\"caption\">FunctionTransformer</div></div><div><a class=\"sk-estimator-doc-link \" rel=\"noreferrer\" target=\"_blank\" href=\"https://scikit-learn.org/1.6/modules/generated/sklearn.preprocessing.FunctionTransformer.html\">?<span>Documentation for FunctionTransformer</span></a></div></label><div class=\"sk-toggleable__content \"><pre>FunctionTransformer(feature_names_out=&lt;function &lt;lambda&gt; at 0x3d05a1300&gt;,\n",
       "                    func=&lt;function &lt;lambda&gt; at 0x3d05a2480&gt;)</pre></div> </div></div><div class=\"sk-item\"><div class=\"sk-estimator  sk-toggleable\"><input class=\"sk-toggleable__control sk-hidden--visually\" id=\"sk-estimator-id-9\" type=\"checkbox\" ><label for=\"sk-estimator-id-9\" class=\"sk-toggleable__label  sk-toggleable__label-arrow\"><div><div>MinMaxScaler</div></div><div><a class=\"sk-estimator-doc-link \" rel=\"noreferrer\" target=\"_blank\" href=\"https://scikit-learn.org/1.6/modules/generated/sklearn.preprocessing.MinMaxScaler.html\">?<span>Documentation for MinMaxScaler</span></a></div></label><div class=\"sk-toggleable__content \"><pre>MinMaxScaler()</pre></div> </div></div></div></div></div></div></div></div></div></div></div>"
      ],
      "text/plain": [
       "ColumnTransformer(transformers=[('ohe',\n",
       "                                 OneHotEncoder(drop='first',\n",
       "                                               handle_unknown='infrequent_if_exist'),\n",
       "                                 ['variety', 'country']),\n",
       "                                ('scaler',\n",
       "                                 Pipeline(steps=[('poly', PolynomialFeatures()),\n",
       "                                                 ('scaler', MinMaxScaler())]),\n",
       "                                 ['year', 'description_length']),\n",
       "                                ('embeds',\n",
       "                                 Pipeline(steps=[('encode',\n",
       "                                                  FunctionTransformer(feature_names_out=<function <lambda> at 0x3d05a1300>,\n",
       "                                                                      func=<function <lambda> at 0x3d05a2480>)),\n",
       "                                                 ('scaler', MinMaxScaler())]),\n",
       "                                 'description')])"
      ]
     },
     "execution_count": 8,
     "metadata": {},
     "output_type": "execute_result"
    }
   ],
   "source": [
    "from sklearn.preprocessing import FunctionTransformer\n",
    "from sentence_transformers import SentenceTransformer\n",
    "from sklearn.compose import ColumnTransformer\n",
    "from sklearn.pipeline import Pipeline\n",
    "from sklearn.preprocessing import MinMaxScaler, OneHotEncoder, PolynomialFeatures\n",
    "\n",
    "model = SentenceTransformer('all-mpnet-base-v2')\n",
    "to_embeddings = lambda series: model.encode(series.to_list(), normalize_embeddings=False, show_progress_bar=True, device='mps')\n",
    "\n",
    "to_features_out = lambda self, cols: [f'{i}' for i in range(768)]\n",
    "\n",
    "transformer = ColumnTransformer([('ohe', OneHotEncoder(drop='first', handle_unknown='infrequent_if_exist'), ['variety', 'country']),\n",
    "                                 ('scaler', Pipeline([('poly', PolynomialFeatures(degree=2)), ('scaler', MinMaxScaler())]), ['year', 'description_length']),\n",
    "                                 ('embeds', Pipeline([('encode', FunctionTransformer(to_embeddings, feature_names_out=to_features_out)),\n",
    "                                                      ('scaler', MinMaxScaler()),\n",
    "                                                    ]), 'description'),\n",
    "                                ])\n",
    "transformer"
   ]
  },
  {
   "cell_type": "code",
   "execution_count": 9,
   "metadata": {},
   "outputs": [
    {
     "data": {
      "text/html": [
       "<div>\n",
       "<style scoped>\n",
       "    .dataframe tbody tr th:only-of-type {\n",
       "        vertical-align: middle;\n",
       "    }\n",
       "\n",
       "    .dataframe tbody tr th {\n",
       "        vertical-align: top;\n",
       "    }\n",
       "\n",
       "    .dataframe thead th {\n",
       "        text-align: right;\n",
       "    }\n",
       "</style>\n",
       "<table border=\"1\" class=\"dataframe\">\n",
       "  <thead>\n",
       "    <tr style=\"text-align: right;\">\n",
       "      <th></th>\n",
       "      <th>variety</th>\n",
       "      <th>country</th>\n",
       "      <th>year</th>\n",
       "      <th>description_length</th>\n",
       "      <th>description</th>\n",
       "    </tr>\n",
       "  </thead>\n",
       "  <tbody>\n",
       "    <tr>\n",
       "      <th>117646</th>\n",
       "      <td>Pinot Noir</td>\n",
       "      <td>US</td>\n",
       "      <td>2009</td>\n",
       "      <td>291</td>\n",
       "      <td>This Pinot has an admirable delicacy, with fai...</td>\n",
       "    </tr>\n",
       "    <tr>\n",
       "      <th>65227</th>\n",
       "      <td>Pinot Noir</td>\n",
       "      <td>US</td>\n",
       "      <td>2011</td>\n",
       "      <td>290</td>\n",
       "      <td>This bottling is curiously at odds with the wi...</td>\n",
       "    </tr>\n",
       "    <tr>\n",
       "      <th>84395</th>\n",
       "      <td>Pinot Noir</td>\n",
       "      <td>US</td>\n",
       "      <td>2007</td>\n",
       "      <td>175</td>\n",
       "      <td>Rich flavors of cherries, red currants and lic...</td>\n",
       "    </tr>\n",
       "    <tr>\n",
       "      <th>109928</th>\n",
       "      <td>Pinot Noir</td>\n",
       "      <td>US</td>\n",
       "      <td>2012</td>\n",
       "      <td>389</td>\n",
       "      <td>As befits this ripe and forward vintage, this ...</td>\n",
       "    </tr>\n",
       "    <tr>\n",
       "      <th>65961</th>\n",
       "      <td>Pinot Noir</td>\n",
       "      <td>US</td>\n",
       "      <td>2015</td>\n",
       "      <td>406</td>\n",
       "      <td>The nose on this bottling from the iconic vine...</td>\n",
       "    </tr>\n",
       "  </tbody>\n",
       "</table>\n",
       "</div>"
      ],
      "text/plain": [
       "           variety country  year  description_length  \\\n",
       "117646  Pinot Noir      US  2009                 291   \n",
       "65227   Pinot Noir      US  2011                 290   \n",
       "84395   Pinot Noir      US  2007                 175   \n",
       "109928  Pinot Noir      US  2012                 389   \n",
       "65961   Pinot Noir      US  2015                 406   \n",
       "\n",
       "                                              description  \n",
       "117646  This Pinot has an admirable delicacy, with fai...  \n",
       "65227   This bottling is curiously at odds with the wi...  \n",
       "84395   Rich flavors of cherries, red currants and lic...  \n",
       "109928  As befits this ripe and forward vintage, this ...  \n",
       "65961   The nose on this bottling from the iconic vine...  "
      ]
     },
     "execution_count": 9,
     "metadata": {},
     "output_type": "execute_result"
    }
   ],
   "source": [
    "X_train.head()"
   ]
  },
  {
   "cell_type": "code",
   "execution_count": 10,
   "metadata": {},
   "outputs": [
    {
     "data": {
      "application/vnd.jupyter.widget-view+json": {
       "model_id": "cc933162fd7844908e67a6e6e4c8b498",
       "version_major": 2,
       "version_minor": 0
      },
      "text/plain": [
       "Batches:   0%|          | 0/223 [00:00<?, ?it/s]"
      ]
     },
     "metadata": {},
     "output_type": "display_data"
    },
    {
     "data": {
      "text/html": [
       "<div>\n",
       "<style scoped>\n",
       "    .dataframe tbody tr th:only-of-type {\n",
       "        vertical-align: middle;\n",
       "    }\n",
       "\n",
       "    .dataframe tbody tr th {\n",
       "        vertical-align: top;\n",
       "    }\n",
       "\n",
       "    .dataframe thead th {\n",
       "        text-align: right;\n",
       "    }\n",
       "</style>\n",
       "<table border=\"1\" class=\"dataframe\">\n",
       "  <thead>\n",
       "    <tr style=\"text-align: right;\">\n",
       "      <th></th>\n",
       "      <th>scaler__1</th>\n",
       "      <th>scaler__year</th>\n",
       "      <th>scaler__description_length</th>\n",
       "      <th>scaler__year^2</th>\n",
       "      <th>scaler__year description_length</th>\n",
       "      <th>scaler__description_length^2</th>\n",
       "      <th>embeds__0</th>\n",
       "      <th>embeds__1</th>\n",
       "      <th>embeds__2</th>\n",
       "      <th>embeds__3</th>\n",
       "      <th>...</th>\n",
       "      <th>embeds__758</th>\n",
       "      <th>embeds__759</th>\n",
       "      <th>embeds__760</th>\n",
       "      <th>embeds__761</th>\n",
       "      <th>embeds__762</th>\n",
       "      <th>embeds__763</th>\n",
       "      <th>embeds__764</th>\n",
       "      <th>embeds__765</th>\n",
       "      <th>embeds__766</th>\n",
       "      <th>embeds__767</th>\n",
       "    </tr>\n",
       "  </thead>\n",
       "  <tbody>\n",
       "    <tr>\n",
       "      <th>117646</th>\n",
       "      <td>0.0</td>\n",
       "      <td>0.416667</td>\n",
       "      <td>0.379205</td>\n",
       "      <td>0.415941</td>\n",
       "      <td>0.379004</td>\n",
       "      <td>0.171155</td>\n",
       "      <td>0.339404</td>\n",
       "      <td>0.527719</td>\n",
       "      <td>0.519406</td>\n",
       "      <td>0.474151</td>\n",
       "      <td>...</td>\n",
       "      <td>0.207808</td>\n",
       "      <td>0.482249</td>\n",
       "      <td>0.524469</td>\n",
       "      <td>0.487453</td>\n",
       "      <td>0.550072</td>\n",
       "      <td>0.514840</td>\n",
       "      <td>0.479691</td>\n",
       "      <td>0.547927</td>\n",
       "      <td>0.676926</td>\n",
       "      <td>0.657930</td>\n",
       "    </tr>\n",
       "    <tr>\n",
       "      <th>65227</th>\n",
       "      <td>0.0</td>\n",
       "      <td>0.583333</td>\n",
       "      <td>0.377676</td>\n",
       "      <td>0.582608</td>\n",
       "      <td>0.377917</td>\n",
       "      <td>0.169954</td>\n",
       "      <td>0.562656</td>\n",
       "      <td>0.508355</td>\n",
       "      <td>0.539919</td>\n",
       "      <td>0.591471</td>\n",
       "      <td>...</td>\n",
       "      <td>0.237926</td>\n",
       "      <td>0.723456</td>\n",
       "      <td>0.274678</td>\n",
       "      <td>0.524613</td>\n",
       "      <td>0.588948</td>\n",
       "      <td>0.675193</td>\n",
       "      <td>0.539257</td>\n",
       "      <td>0.235068</td>\n",
       "      <td>0.680361</td>\n",
       "      <td>0.707518</td>\n",
       "    </tr>\n",
       "    <tr>\n",
       "      <th>84395</th>\n",
       "      <td>0.0</td>\n",
       "      <td>0.250000</td>\n",
       "      <td>0.201835</td>\n",
       "      <td>0.249440</td>\n",
       "      <td>0.201462</td>\n",
       "      <td>0.059459</td>\n",
       "      <td>0.422796</td>\n",
       "      <td>0.493749</td>\n",
       "      <td>0.403964</td>\n",
       "      <td>0.466702</td>\n",
       "      <td>...</td>\n",
       "      <td>0.410819</td>\n",
       "      <td>0.466257</td>\n",
       "      <td>0.642340</td>\n",
       "      <td>0.484201</td>\n",
       "      <td>0.623798</td>\n",
       "      <td>0.533863</td>\n",
       "      <td>0.497896</td>\n",
       "      <td>0.597968</td>\n",
       "      <td>0.476370</td>\n",
       "      <td>0.387403</td>\n",
       "    </tr>\n",
       "    <tr>\n",
       "      <th>109928</th>\n",
       "      <td>0.0</td>\n",
       "      <td>0.666667</td>\n",
       "      <td>0.529052</td>\n",
       "      <td>0.666003</td>\n",
       "      <td>0.529659</td>\n",
       "      <td>0.308852</td>\n",
       "      <td>0.606307</td>\n",
       "      <td>0.572353</td>\n",
       "      <td>0.649820</td>\n",
       "      <td>0.617821</td>\n",
       "      <td>...</td>\n",
       "      <td>0.345612</td>\n",
       "      <td>0.362249</td>\n",
       "      <td>0.582393</td>\n",
       "      <td>0.481394</td>\n",
       "      <td>0.245924</td>\n",
       "      <td>0.622616</td>\n",
       "      <td>0.287556</td>\n",
       "      <td>0.461726</td>\n",
       "      <td>0.632499</td>\n",
       "      <td>0.314962</td>\n",
       "    </tr>\n",
       "    <tr>\n",
       "      <th>65961</th>\n",
       "      <td>0.0</td>\n",
       "      <td>0.916667</td>\n",
       "      <td>0.555046</td>\n",
       "      <td>0.916439</td>\n",
       "      <td>0.556605</td>\n",
       "      <td>0.336778</td>\n",
       "      <td>0.490715</td>\n",
       "      <td>0.682861</td>\n",
       "      <td>0.276484</td>\n",
       "      <td>0.668397</td>\n",
       "      <td>...</td>\n",
       "      <td>0.345257</td>\n",
       "      <td>0.378527</td>\n",
       "      <td>0.445615</td>\n",
       "      <td>0.603316</td>\n",
       "      <td>0.345958</td>\n",
       "      <td>0.237392</td>\n",
       "      <td>0.496793</td>\n",
       "      <td>0.377797</td>\n",
       "      <td>0.737340</td>\n",
       "      <td>0.362185</td>\n",
       "    </tr>\n",
       "  </tbody>\n",
       "</table>\n",
       "<p>5 rows × 774 columns</p>\n",
       "</div>"
      ],
      "text/plain": [
       "        scaler__1  scaler__year  scaler__description_length  scaler__year^2  \\\n",
       "117646        0.0      0.416667                    0.379205        0.415941   \n",
       "65227         0.0      0.583333                    0.377676        0.582608   \n",
       "84395         0.0      0.250000                    0.201835        0.249440   \n",
       "109928        0.0      0.666667                    0.529052        0.666003   \n",
       "65961         0.0      0.916667                    0.555046        0.916439   \n",
       "\n",
       "        scaler__year description_length  scaler__description_length^2  \\\n",
       "117646                         0.379004                      0.171155   \n",
       "65227                          0.377917                      0.169954   \n",
       "84395                          0.201462                      0.059459   \n",
       "109928                         0.529659                      0.308852   \n",
       "65961                          0.556605                      0.336778   \n",
       "\n",
       "        embeds__0  embeds__1  embeds__2  embeds__3  ...  embeds__758  \\\n",
       "117646   0.339404   0.527719   0.519406   0.474151  ...     0.207808   \n",
       "65227    0.562656   0.508355   0.539919   0.591471  ...     0.237926   \n",
       "84395    0.422796   0.493749   0.403964   0.466702  ...     0.410819   \n",
       "109928   0.606307   0.572353   0.649820   0.617821  ...     0.345612   \n",
       "65961    0.490715   0.682861   0.276484   0.668397  ...     0.345257   \n",
       "\n",
       "        embeds__759  embeds__760  embeds__761  embeds__762  embeds__763  \\\n",
       "117646     0.482249     0.524469     0.487453     0.550072     0.514840   \n",
       "65227      0.723456     0.274678     0.524613     0.588948     0.675193   \n",
       "84395      0.466257     0.642340     0.484201     0.623798     0.533863   \n",
       "109928     0.362249     0.582393     0.481394     0.245924     0.622616   \n",
       "65961      0.378527     0.445615     0.603316     0.345958     0.237392   \n",
       "\n",
       "        embeds__764  embeds__765  embeds__766  embeds__767  \n",
       "117646     0.479691     0.547927     0.676926     0.657930  \n",
       "65227      0.539257     0.235068     0.680361     0.707518  \n",
       "84395      0.497896     0.597968     0.476370     0.387403  \n",
       "109928     0.287556     0.461726     0.632499     0.314962  \n",
       "65961      0.496793     0.377797     0.737340     0.362185  \n",
       "\n",
       "[5 rows x 774 columns]"
      ]
     },
     "execution_count": 10,
     "metadata": {},
     "output_type": "execute_result"
    }
   ],
   "source": [
    "# inspect the transformer\n",
    "pd.DataFrame(transformer.fit_transform(X_train), columns=transformer.get_feature_names_out(), index=X_train.index).head()"
   ]
  },
  {
   "cell_type": "markdown",
   "metadata": {},
   "source": [
    "**Note**: Since the data set is filtered to only include Pinot Noir varieties from the US, and the `ohe` is configured with `drop='first'`, there are no `ohe` features in the transformed feature matrix. Since we are only tyring to select the classifier we want to use for the fuller analysis, this is OK."
   ]
  },
  {
   "cell_type": "markdown",
   "metadata": {},
   "source": [
    "### Model Training"
   ]
  },
  {
   "cell_type": "code",
   "execution_count": 11,
   "metadata": {},
   "outputs": [],
   "source": [
    "def create_pipeline(classifier):\n",
    "    return Pipeline([('preprocessor', transformer),\n",
    "                     ('classifier', classifier)])"
   ]
  },
  {
   "cell_type": "markdown",
   "metadata": {},
   "source": [
    "**Determine Which Classifiers to use**"
   ]
  },
  {
   "cell_type": "code",
   "execution_count": 12,
   "metadata": {},
   "outputs": [],
   "source": [
    "import warnings\n",
    "import time\n",
    "\n",
    "def evaluate_classifier(name, classifier, X_train,y_train, X_test,y_test, target):\n",
    "  # define a simple classifier\n",
    "  pipe = create_pipeline(classifier)\n",
    "  \n",
    "  # fit the classifier\n",
    "  with warnings.catch_warnings():\n",
    "    warnings.simplefilter(\"ignore\")\n",
    "    start = time.perf_counter()\n",
    "    pipe.fit(X_train, y_train)\n",
    "    duration = time.perf_counter() - start\n",
    "  return name, target, duration, pipe.score(X_train, y_train), pipe.score(X_test, y_test)\n",
    "\n",
    "evaluate = lambda classifier, X_train,y_train, X_test,y_test, target='points': evaluate_classifier(classifier.__class__.__name__, classifier, X_train,y_train, X_test,y_test, target)\n"
   ]
  },
  {
   "cell_type": "markdown",
   "metadata": {},
   "source": [
    "**The set of Classifiers to Evaluate**"
   ]
  },
  {
   "cell_type": "code",
   "execution_count": 13,
   "metadata": {},
   "outputs": [],
   "source": [
    "from sklearn.linear_model import LogisticRegression\n",
    "from sklearn.tree import DecisionTreeClassifier\n",
    "from sklearn.naive_bayes import MultinomialNB\n",
    "from sklearn.svm import SVC\n",
    "from sklearn.ensemble import GradientBoostingClassifier, AdaBoostClassifier, RandomForestClassifier\n",
    "from sklearn.model_selection import GridSearchCV\n",
    "from sklearn.calibration import CalibratedClassifierCV\n",
    "from xgboost import XGBClassifier\n",
    "from catboost import CatBoostClassifier\n",
    "\n",
    "classifiers = [\n",
    "  # Logistic Regression\n",
    "  LogisticRegression(max_iter=500, C=0.5, random_state=42, solver='newton-cholesky'),\n",
    "  # Decision Tree Classifier\n",
    "  DecisionTreeClassifier(max_depth=50, min_samples_split=5, random_state=42),\n",
    "  # Multinomial Naive Bayes Classifier\n",
    "  MultinomialNB(),\n",
    "  # Support Vector Classifier\n",
    "  SVC(random_state = 42, probability=True),\n",
    "  # Gradient Boost Classifier\n",
    "  GradientBoostingClassifier(random_state=42),\n",
    "  # Ada Boost Classifier\n",
    "  AdaBoostClassifier(random_state=42),\n",
    "  # Random Forest Classifier\n",
    "  RandomForestClassifier(max_depth=5, random_state=42),\n",
    "  # Calibrated Classifier\n",
    "  CalibratedClassifierCV(),\n",
    "  # XGBClassifier\n",
    "  XGBClassifier(n_estimators=2, max_depth=2, learning_rate=1, multi_strategy='one_output_per_tree'),\n",
    "  # CatBoost Classifier\n",
    "  CatBoostClassifier(verbose=False),\n",
    "]"
   ]
  },
  {
   "cell_type": "markdown",
   "metadata": {},
   "source": [
    "**Evaluate the Classifiers**"
   ]
  },
  {
   "cell_type": "code",
   "execution_count": 14,
   "metadata": {},
   "outputs": [
    {
     "name": "stderr",
     "output_type": "stream",
     "text": [
      "  0%|          | 0/10 [00:00<?, ?it/s]"
     ]
    },
    {
     "data": {
      "application/vnd.jupyter.widget-view+json": {
       "model_id": "62e266ab0d2843f1b4f3feecef83cccb",
       "version_major": 2,
       "version_minor": 0
      },
      "text/plain": [
       "Batches:   0%|          | 0/223 [00:00<?, ?it/s]"
      ]
     },
     "metadata": {},
     "output_type": "display_data"
    },
    {
     "data": {
      "application/vnd.jupyter.widget-view+json": {
       "model_id": "f0515e1d16eb4779bd32c3a49433d2f1",
       "version_major": 2,
       "version_minor": 0
      },
      "text/plain": [
       "Batches:   0%|          | 0/223 [00:00<?, ?it/s]"
      ]
     },
     "metadata": {},
     "output_type": "display_data"
    },
    {
     "data": {
      "application/vnd.jupyter.widget-view+json": {
       "model_id": "f5923dc821d34fcdbf3ef6649c0e9aab",
       "version_major": 2,
       "version_minor": 0
      },
      "text/plain": [
       "Batches:   0%|          | 0/56 [00:00<?, ?it/s]"
      ]
     },
     "metadata": {},
     "output_type": "display_data"
    },
    {
     "name": "stderr",
     "output_type": "stream",
     "text": [
      " 10%|█         | 1/10 [02:06<18:56, 126.29s/it]"
     ]
    },
    {
     "data": {
      "application/vnd.jupyter.widget-view+json": {
       "model_id": "129a3d07752b45d491005f5f3f51446c",
       "version_major": 2,
       "version_minor": 0
      },
      "text/plain": [
       "Batches:   0%|          | 0/223 [00:00<?, ?it/s]"
      ]
     },
     "metadata": {},
     "output_type": "display_data"
    },
    {
     "data": {
      "application/vnd.jupyter.widget-view+json": {
       "model_id": "1f13883b3de1400d9a78ac622a1f601a",
       "version_major": 2,
       "version_minor": 0
      },
      "text/plain": [
       "Batches:   0%|          | 0/223 [00:00<?, ?it/s]"
      ]
     },
     "metadata": {},
     "output_type": "display_data"
    },
    {
     "data": {
      "application/vnd.jupyter.widget-view+json": {
       "model_id": "4ea11b73e6354e79a1c8d82afa6fed94",
       "version_major": 2,
       "version_minor": 0
      },
      "text/plain": [
       "Batches:   0%|          | 0/56 [00:00<?, ?it/s]"
      ]
     },
     "metadata": {},
     "output_type": "display_data"
    },
    {
     "name": "stderr",
     "output_type": "stream",
     "text": [
      " 20%|██        | 2/10 [02:31<08:52, 66.61s/it] "
     ]
    },
    {
     "data": {
      "application/vnd.jupyter.widget-view+json": {
       "model_id": "cd1768e9439a43ce9099467f509df696",
       "version_major": 2,
       "version_minor": 0
      },
      "text/plain": [
       "Batches:   0%|          | 0/223 [00:00<?, ?it/s]"
      ]
     },
     "metadata": {},
     "output_type": "display_data"
    },
    {
     "data": {
      "application/vnd.jupyter.widget-view+json": {
       "model_id": "a3339984f9564b4ca93e4eed5af574c6",
       "version_major": 2,
       "version_minor": 0
      },
      "text/plain": [
       "Batches:   0%|          | 0/223 [00:00<?, ?it/s]"
      ]
     },
     "metadata": {},
     "output_type": "display_data"
    },
    {
     "data": {
      "application/vnd.jupyter.widget-view+json": {
       "model_id": "93b524cf713747ca8f9eb0334d9479f3",
       "version_major": 2,
       "version_minor": 0
      },
      "text/plain": [
       "Batches:   0%|          | 0/56 [00:00<?, ?it/s]"
      ]
     },
     "metadata": {},
     "output_type": "display_data"
    },
    {
     "name": "stderr",
     "output_type": "stream",
     "text": [
      " 30%|███       | 3/10 [02:51<05:17, 45.32s/it]"
     ]
    },
    {
     "data": {
      "application/vnd.jupyter.widget-view+json": {
       "model_id": "0667202fe1214323a563ac3164d6c9e9",
       "version_major": 2,
       "version_minor": 0
      },
      "text/plain": [
       "Batches:   0%|          | 0/223 [00:00<?, ?it/s]"
      ]
     },
     "metadata": {},
     "output_type": "display_data"
    },
    {
     "data": {
      "application/vnd.jupyter.widget-view+json": {
       "model_id": "2e1381d9ce4544da8a14bc36cf6bf779",
       "version_major": 2,
       "version_minor": 0
      },
      "text/plain": [
       "Batches:   0%|          | 0/223 [00:00<?, ?it/s]"
      ]
     },
     "metadata": {},
     "output_type": "display_data"
    },
    {
     "data": {
      "application/vnd.jupyter.widget-view+json": {
       "model_id": "8a1585a287894a6aa009ed0a340448f2",
       "version_major": 2,
       "version_minor": 0
      },
      "text/plain": [
       "Batches:   0%|          | 0/56 [00:00<?, ?it/s]"
      ]
     },
     "metadata": {},
     "output_type": "display_data"
    },
    {
     "name": "stderr",
     "output_type": "stream",
     "text": [
      " 40%|████      | 4/10 [04:26<06:30, 65.16s/it]"
     ]
    },
    {
     "data": {
      "application/vnd.jupyter.widget-view+json": {
       "model_id": "7d89fb6a4da749d3b42c83e63e262f7b",
       "version_major": 2,
       "version_minor": 0
      },
      "text/plain": [
       "Batches:   0%|          | 0/223 [00:00<?, ?it/s]"
      ]
     },
     "metadata": {},
     "output_type": "display_data"
    },
    {
     "data": {
      "application/vnd.jupyter.widget-view+json": {
       "model_id": "2e1bae322973488e83d15bc391f49097",
       "version_major": 2,
       "version_minor": 0
      },
      "text/plain": [
       "Batches:   0%|          | 0/223 [00:00<?, ?it/s]"
      ]
     },
     "metadata": {},
     "output_type": "display_data"
    },
    {
     "data": {
      "application/vnd.jupyter.widget-view+json": {
       "model_id": "87b26cb417e0414a882a9e5c0a24608c",
       "version_major": 2,
       "version_minor": 0
      },
      "text/plain": [
       "Batches:   0%|          | 0/56 [00:00<?, ?it/s]"
      ]
     },
     "metadata": {},
     "output_type": "display_data"
    },
    {
     "name": "stderr",
     "output_type": "stream",
     "text": [
      " 50%|█████     | 5/10 [40:08<1:07:49, 813.93s/it]"
     ]
    },
    {
     "data": {
      "application/vnd.jupyter.widget-view+json": {
       "model_id": "33a4a8e14eee4d9f9fc041b094f51f6d",
       "version_major": 2,
       "version_minor": 0
      },
      "text/plain": [
       "Batches:   0%|          | 0/223 [00:00<?, ?it/s]"
      ]
     },
     "metadata": {},
     "output_type": "display_data"
    },
    {
     "data": {
      "application/vnd.jupyter.widget-view+json": {
       "model_id": "ae8ba2c8b3b2432db3d8fc9a4a8422af",
       "version_major": 2,
       "version_minor": 0
      },
      "text/plain": [
       "Batches:   0%|          | 0/223 [00:00<?, ?it/s]"
      ]
     },
     "metadata": {},
     "output_type": "display_data"
    },
    {
     "data": {
      "application/vnd.jupyter.widget-view+json": {
       "model_id": "adb6bc972cc644faa403ec60ff81515c",
       "version_major": 2,
       "version_minor": 0
      },
      "text/plain": [
       "Batches:   0%|          | 0/56 [00:00<?, ?it/s]"
      ]
     },
     "metadata": {},
     "output_type": "display_data"
    },
    {
     "name": "stderr",
     "output_type": "stream",
     "text": [
      " 60%|██████    | 6/10 [40:51<36:47, 551.88s/it]  "
     ]
    },
    {
     "data": {
      "application/vnd.jupyter.widget-view+json": {
       "model_id": "5e86a90a25284868879abbe59ce3fcea",
       "version_major": 2,
       "version_minor": 0
      },
      "text/plain": [
       "Batches:   0%|          | 0/223 [00:00<?, ?it/s]"
      ]
     },
     "metadata": {},
     "output_type": "display_data"
    },
    {
     "data": {
      "application/vnd.jupyter.widget-view+json": {
       "model_id": "38bbdf3d140f4935818d6dc9bc6203b4",
       "version_major": 2,
       "version_minor": 0
      },
      "text/plain": [
       "Batches:   0%|          | 0/223 [00:00<?, ?it/s]"
      ]
     },
     "metadata": {},
     "output_type": "display_data"
    },
    {
     "data": {
      "application/vnd.jupyter.widget-view+json": {
       "model_id": "7932a349cfb24f2da2eae8f28cb17c6f",
       "version_major": 2,
       "version_minor": 0
      },
      "text/plain": [
       "Batches:   0%|          | 0/56 [00:00<?, ?it/s]"
      ]
     },
     "metadata": {},
     "output_type": "display_data"
    },
    {
     "name": "stderr",
     "output_type": "stream",
     "text": [
      " 70%|███████   | 7/10 [41:15<18:58, 379.39s/it]"
     ]
    },
    {
     "data": {
      "application/vnd.jupyter.widget-view+json": {
       "model_id": "f2b0fe84ff7b4569ab2f36a050c53e44",
       "version_major": 2,
       "version_minor": 0
      },
      "text/plain": [
       "Batches:   0%|          | 0/223 [00:00<?, ?it/s]"
      ]
     },
     "metadata": {},
     "output_type": "display_data"
    },
    {
     "data": {
      "application/vnd.jupyter.widget-view+json": {
       "model_id": "05fb6fe2a3c547c7a9bacfffd3450270",
       "version_major": 2,
       "version_minor": 0
      },
      "text/plain": [
       "Batches:   0%|          | 0/223 [00:00<?, ?it/s]"
      ]
     },
     "metadata": {},
     "output_type": "display_data"
    },
    {
     "data": {
      "application/vnd.jupyter.widget-view+json": {
       "model_id": "1d0033a6adc24a6daebfbb452e25e438",
       "version_major": 2,
       "version_minor": 0
      },
      "text/plain": [
       "Batches:   0%|          | 0/56 [00:00<?, ?it/s]"
      ]
     },
     "metadata": {},
     "output_type": "display_data"
    },
    {
     "name": "stderr",
     "output_type": "stream",
     "text": [
      " 80%|████████  | 8/10 [42:49<09:36, 288.34s/it]"
     ]
    },
    {
     "data": {
      "application/vnd.jupyter.widget-view+json": {
       "model_id": "db31386f006a4a769ca36ea480b01b39",
       "version_major": 2,
       "version_minor": 0
      },
      "text/plain": [
       "Batches:   0%|          | 0/223 [00:00<?, ?it/s]"
      ]
     },
     "metadata": {},
     "output_type": "display_data"
    },
    {
     "data": {
      "application/vnd.jupyter.widget-view+json": {
       "model_id": "3bc55787d1314a04a9ef4e584a3ac384",
       "version_major": 2,
       "version_minor": 0
      },
      "text/plain": [
       "Batches:   0%|          | 0/223 [00:00<?, ?it/s]"
      ]
     },
     "metadata": {},
     "output_type": "display_data"
    },
    {
     "data": {
      "application/vnd.jupyter.widget-view+json": {
       "model_id": "954337214108432db3955a8d02cdacc8",
       "version_major": 2,
       "version_minor": 0
      },
      "text/plain": [
       "Batches:   0%|          | 0/56 [00:00<?, ?it/s]"
      ]
     },
     "metadata": {},
     "output_type": "display_data"
    },
    {
     "name": "stderr",
     "output_type": "stream",
     "text": [
      " 90%|█████████ | 9/10 [43:08<03:24, 204.31s/it]"
     ]
    },
    {
     "data": {
      "application/vnd.jupyter.widget-view+json": {
       "model_id": "173354b3b23c42d3b21ce4c2482b5071",
       "version_major": 2,
       "version_minor": 0
      },
      "text/plain": [
       "Batches:   0%|          | 0/223 [00:00<?, ?it/s]"
      ]
     },
     "metadata": {},
     "output_type": "display_data"
    },
    {
     "data": {
      "application/vnd.jupyter.widget-view+json": {
       "model_id": "681fb13dcd2244ad92da6479fe89c9f9",
       "version_major": 2,
       "version_minor": 0
      },
      "text/plain": [
       "Batches:   0%|          | 0/223 [00:00<?, ?it/s]"
      ]
     },
     "metadata": {},
     "output_type": "display_data"
    },
    {
     "data": {
      "application/vnd.jupyter.widget-view+json": {
       "model_id": "7b859790a8b141f3939d7d96a69b6a85",
       "version_major": 2,
       "version_minor": 0
      },
      "text/plain": [
       "Batches:   0%|          | 0/56 [00:00<?, ?it/s]"
      ]
     },
     "metadata": {},
     "output_type": "display_data"
    },
    {
     "name": "stderr",
     "output_type": "stream",
     "text": [
      "100%|██████████| 10/10 [44:54<00:00, 269.41s/it]\n"
     ]
    },
    {
     "data": {
      "text/html": [
       "<div>\n",
       "<style scoped>\n",
       "    .dataframe tbody tr th:only-of-type {\n",
       "        vertical-align: middle;\n",
       "    }\n",
       "\n",
       "    .dataframe tbody tr th {\n",
       "        vertical-align: top;\n",
       "    }\n",
       "\n",
       "    .dataframe thead th {\n",
       "        text-align: right;\n",
       "    }\n",
       "</style>\n",
       "<table border=\"1\" class=\"dataframe\">\n",
       "  <thead>\n",
       "    <tr style=\"text-align: right;\">\n",
       "      <th></th>\n",
       "      <th>classifier</th>\n",
       "      <th>target</th>\n",
       "      <th>duration</th>\n",
       "      <th>accuracy_train</th>\n",
       "      <th>accuracy_test</th>\n",
       "    </tr>\n",
       "  </thead>\n",
       "  <tbody>\n",
       "    <tr>\n",
       "      <th>0</th>\n",
       "      <td>LogisticRegression</td>\n",
       "      <td>points</td>\n",
       "      <td>114.603644</td>\n",
       "      <td>0.425295</td>\n",
       "      <td>0.215411</td>\n",
       "    </tr>\n",
       "    <tr>\n",
       "      <th>1</th>\n",
       "      <td>DecisionTreeClassifier</td>\n",
       "      <td>points</td>\n",
       "      <td>13.716048</td>\n",
       "      <td>0.895751</td>\n",
       "      <td>0.148481</td>\n",
       "    </tr>\n",
       "    <tr>\n",
       "      <th>2</th>\n",
       "      <td>MultinomialNB</td>\n",
       "      <td>points</td>\n",
       "      <td>8.723494</td>\n",
       "      <td>0.193585</td>\n",
       "      <td>0.173791</td>\n",
       "    </tr>\n",
       "    <tr>\n",
       "      <th>3</th>\n",
       "      <td>SVC</td>\n",
       "      <td>points</td>\n",
       "      <td>69.655128</td>\n",
       "      <td>0.582302</td>\n",
       "      <td>0.212036</td>\n",
       "    </tr>\n",
       "    <tr>\n",
       "      <th>4</th>\n",
       "      <td>GradientBoostingClassifier</td>\n",
       "      <td>points</td>\n",
       "      <td>2130.606063</td>\n",
       "      <td>0.792909</td>\n",
       "      <td>0.203600</td>\n",
       "    </tr>\n",
       "    <tr>\n",
       "      <th>5</th>\n",
       "      <td>AdaBoostClassifier</td>\n",
       "      <td>points</td>\n",
       "      <td>32.216420</td>\n",
       "      <td>0.171075</td>\n",
       "      <td>0.163105</td>\n",
       "    </tr>\n",
       "    <tr>\n",
       "      <th>6</th>\n",
       "      <td>RandomForestClassifier</td>\n",
       "      <td>points</td>\n",
       "      <td>13.382544</td>\n",
       "      <td>0.325549</td>\n",
       "      <td>0.196288</td>\n",
       "    </tr>\n",
       "    <tr>\n",
       "      <th>7</th>\n",
       "      <td>CalibratedClassifierCV</td>\n",
       "      <td>points</td>\n",
       "      <td>82.305178</td>\n",
       "      <td>0.487198</td>\n",
       "      <td>0.209224</td>\n",
       "    </tr>\n",
       "    <tr>\n",
       "      <th>8</th>\n",
       "      <td>XGBClassifier</td>\n",
       "      <td>points</td>\n",
       "      <td>8.710187</td>\n",
       "      <td>0.236916</td>\n",
       "      <td>0.182790</td>\n",
       "    </tr>\n",
       "    <tr>\n",
       "      <th>9</th>\n",
       "      <td>CatBoostClassifier</td>\n",
       "      <td>points</td>\n",
       "      <td>93.679606</td>\n",
       "      <td>0.999297</td>\n",
       "      <td>0.224972</td>\n",
       "    </tr>\n",
       "  </tbody>\n",
       "</table>\n",
       "</div>"
      ],
      "text/plain": [
       "                   classifier  target     duration  accuracy_train  \\\n",
       "0          LogisticRegression  points   114.603644        0.425295   \n",
       "1      DecisionTreeClassifier  points    13.716048        0.895751   \n",
       "2               MultinomialNB  points     8.723494        0.193585   \n",
       "3                         SVC  points    69.655128        0.582302   \n",
       "4  GradientBoostingClassifier  points  2130.606063        0.792909   \n",
       "5          AdaBoostClassifier  points    32.216420        0.171075   \n",
       "6      RandomForestClassifier  points    13.382544        0.325549   \n",
       "7      CalibratedClassifierCV  points    82.305178        0.487198   \n",
       "8               XGBClassifier  points     8.710187        0.236916   \n",
       "9          CatBoostClassifier  points    93.679606        0.999297   \n",
       "\n",
       "   accuracy_test  \n",
       "0       0.215411  \n",
       "1       0.148481  \n",
       "2       0.173791  \n",
       "3       0.212036  \n",
       "4       0.203600  \n",
       "5       0.163105  \n",
       "6       0.196288  \n",
       "7       0.209224  \n",
       "8       0.182790  \n",
       "9       0.224972  "
      ]
     },
     "execution_count": 14,
     "metadata": {},
     "output_type": "execute_result"
    }
   ],
   "source": [
    "from tqdm import tqdm\n",
    "\n",
    "results_points = pd.DataFrame([evaluate(classifier, X_train, y_train, X_test, y_test) for classifier in tqdm(classifiers)], columns=['classifier','target','duration','accuracy_train','accuracy_test'])\n",
    "results_points"
   ]
  },
  {
   "cell_type": "markdown",
   "metadata": {},
   "source": [
    "**Repeat for Rating**"
   ]
  },
  {
   "cell_type": "code",
   "execution_count": 15,
   "metadata": {},
   "outputs": [
    {
     "name": "stdout",
     "output_type": "stream",
     "text": [
      "(8886,)\n",
      "(7108,) (1778,)\n"
     ]
    },
    {
     "data": {
      "image/png": "[encoded data removed]",
      "text/plain": [
       "<Figure size 600x300 with 1 Axes>"
      ]
     },
     "metadata": {},
     "output_type": "display_data"
    }
   ],
   "source": [
    "le = LabelEncoder()\n",
    "y = le.fit_transform(pinot.rating)\n",
    "\n",
    "print(y.shape)\n",
    "\n",
    "# Split the data into training and testing sets\n",
    "X_train, X_test, y_train, y_test = train_test_split(X,y, test_size=0.2, random_state=42, stratify=y)\n",
    "\n",
    "print(y_train.shape, y_test.shape)\n",
    "\n",
    "# check the distribution of the target variable\n",
    "fig = plt.figure(figsize=(6,3))\n",
    "pd.Series(y_train).value_counts(normalize=False).sort_index().plot(kind='bar', color='mediumpurple', alpha=0.7, label='training')\n",
    "pd.Series(y_test).value_counts(normalize=False).sort_index().plot(kind='bar', color='purple', alpha=0.7, label='test')\n",
    "plt.title(\"Distribution of Rating in the Training and Test Data Sets\")\n",
    "plt.xlabel(\"Rating\")\n",
    "plt.ylabel(\"Count of Reviews\")\n",
    "plt.xticks([0,3,5,2,4,1], labels=le.inverse_transform([0,3,5,2,4,1]), fontsize=8, rotation=0)\n",
    "plt.yticks(fontsize=8)\n",
    "plt.legend()\n",
    "plt.grid()\n",
    "plt.tight_layout()\n",
    "plt.show()"
   ]
  },
  {
   "cell_type": "code",
   "execution_count": 16,
   "metadata": {},
   "outputs": [
    {
     "name": "stderr",
     "output_type": "stream",
     "text": [
      "  0%|          | 0/10 [00:00<?, ?it/s]"
     ]
    },
    {
     "data": {
      "application/vnd.jupyter.widget-view+json": {
       "model_id": "e8e6ff78d1654f0fad0b237d4fdabf9d",
       "version_major": 2,
       "version_minor": 0
      },
      "text/plain": [
       "Batches:   0%|          | 0/223 [00:00<?, ?it/s]"
      ]
     },
     "metadata": {},
     "output_type": "display_data"
    },
    {
     "data": {
      "application/vnd.jupyter.widget-view+json": {
       "model_id": "6652f180a88d4ab6beefb38247aeb05c",
       "version_major": 2,
       "version_minor": 0
      },
      "text/plain": [
       "Batches:   0%|          | 0/223 [00:00<?, ?it/s]"
      ]
     },
     "metadata": {},
     "output_type": "display_data"
    },
    {
     "data": {
      "application/vnd.jupyter.widget-view+json": {
       "model_id": "7712883cc58e49cda36f7d0eaa5981a7",
       "version_major": 2,
       "version_minor": 0
      },
      "text/plain": [
       "Batches:   0%|          | 0/56 [00:00<?, ?it/s]"
      ]
     },
     "metadata": {},
     "output_type": "display_data"
    },
    {
     "name": "stderr",
     "output_type": "stream",
     "text": [
      " 10%|█         | 1/10 [00:27<04:05, 27.30s/it]"
     ]
    },
    {
     "data": {
      "application/vnd.jupyter.widget-view+json": {
       "model_id": "36832f3be18a4f62bef1663b7cc1769a",
       "version_major": 2,
       "version_minor": 0
      },
      "text/plain": [
       "Batches:   0%|          | 0/223 [00:00<?, ?it/s]"
      ]
     },
     "metadata": {},
     "output_type": "display_data"
    },
    {
     "data": {
      "application/vnd.jupyter.widget-view+json": {
       "model_id": "382a5a51a30148fab1b10edb5ce47708",
       "version_major": 2,
       "version_minor": 0
      },
      "text/plain": [
       "Batches:   0%|          | 0/223 [00:00<?, ?it/s]"
      ]
     },
     "metadata": {},
     "output_type": "display_data"
    },
    {
     "data": {
      "application/vnd.jupyter.widget-view+json": {
       "model_id": "74c31084a27e4339b00e4db8d6ccc76a",
       "version_major": 2,
       "version_minor": 0
      },
      "text/plain": [
       "Batches:   0%|          | 0/56 [00:00<?, ?it/s]"
      ]
     },
     "metadata": {},
     "output_type": "display_data"
    },
    {
     "name": "stderr",
     "output_type": "stream",
     "text": [
      " 20%|██        | 2/10 [00:51<03:24, 25.59s/it]"
     ]
    },
    {
     "data": {
      "application/vnd.jupyter.widget-view+json": {
       "model_id": "e99b53f91e204774a2d897bf8ceda0b5",
       "version_major": 2,
       "version_minor": 0
      },
      "text/plain": [
       "Batches:   0%|          | 0/223 [00:00<?, ?it/s]"
      ]
     },
     "metadata": {},
     "output_type": "display_data"
    },
    {
     "data": {
      "application/vnd.jupyter.widget-view+json": {
       "model_id": "27f7107569d54adc9334ae8a5bf02b71",
       "version_major": 2,
       "version_minor": 0
      },
      "text/plain": [
       "Batches:   0%|          | 0/223 [00:00<?, ?it/s]"
      ]
     },
     "metadata": {},
     "output_type": "display_data"
    },
    {
     "data": {
      "application/vnd.jupyter.widget-view+json": {
       "model_id": "862f642f56ce43e4bba0f7502e9a40c3",
       "version_major": 2,
       "version_minor": 0
      },
      "text/plain": [
       "Batches:   0%|          | 0/56 [00:00<?, ?it/s]"
      ]
     },
     "metadata": {},
     "output_type": "display_data"
    },
    {
     "name": "stderr",
     "output_type": "stream",
     "text": [
      " 30%|███       | 3/10 [01:11<02:39, 22.78s/it]"
     ]
    },
    {
     "data": {
      "application/vnd.jupyter.widget-view+json": {
       "model_id": "fa99cfed8f2743e4ad942a1f4108a994",
       "version_major": 2,
       "version_minor": 0
      },
      "text/plain": [
       "Batches:   0%|          | 0/223 [00:00<?, ?it/s]"
      ]
     },
     "metadata": {},
     "output_type": "display_data"
    },
    {
     "data": {
      "application/vnd.jupyter.widget-view+json": {
       "model_id": "5b3aea2549cc49989b44ace0616be7d6",
       "version_major": 2,
       "version_minor": 0
      },
      "text/plain": [
       "Batches:   0%|          | 0/223 [00:00<?, ?it/s]"
      ]
     },
     "metadata": {},
     "output_type": "display_data"
    },
    {
     "data": {
      "application/vnd.jupyter.widget-view+json": {
       "model_id": "c71e8ffa19884d9498559d89a815c1d5",
       "version_major": 2,
       "version_minor": 0
      },
      "text/plain": [
       "Batches:   0%|          | 0/56 [00:00<?, ?it/s]"
      ]
     },
     "metadata": {},
     "output_type": "display_data"
    },
    {
     "name": "stderr",
     "output_type": "stream",
     "text": [
      " 40%|████      | 4/10 [02:36<04:44, 47.38s/it]"
     ]
    },
    {
     "data": {
      "application/vnd.jupyter.widget-view+json": {
       "model_id": "a8cce1ad48d940f69722efcaa7c6e1ca",
       "version_major": 2,
       "version_minor": 0
      },
      "text/plain": [
       "Batches:   0%|          | 0/223 [00:00<?, ?it/s]"
      ]
     },
     "metadata": {},
     "output_type": "display_data"
    },
    {
     "data": {
      "application/vnd.jupyter.widget-view+json": {
       "model_id": "ffae3fa1c1324dc68597ef0c143dd7a1",
       "version_major": 2,
       "version_minor": 0
      },
      "text/plain": [
       "Batches:   0%|          | 0/223 [00:00<?, ?it/s]"
      ]
     },
     "metadata": {},
     "output_type": "display_data"
    },
    {
     "data": {
      "application/vnd.jupyter.widget-view+json": {
       "model_id": "3ebf3c1008674430b1dd9436ca20c366",
       "version_major": 2,
       "version_minor": 0
      },
      "text/plain": [
       "Batches:   0%|          | 0/56 [00:00<?, ?it/s]"
      ]
     },
     "metadata": {},
     "output_type": "display_data"
    },
    {
     "name": "stderr",
     "output_type": "stream",
     "text": [
      " 50%|█████     | 5/10 [13:37<22:23, 268.61s/it]"
     ]
    },
    {
     "data": {
      "application/vnd.jupyter.widget-view+json": {
       "model_id": "daf63a031ac64840b1ca178564e6f1f9",
       "version_major": 2,
       "version_minor": 0
      },
      "text/plain": [
       "Batches:   0%|          | 0/223 [00:00<?, ?it/s]"
      ]
     },
     "metadata": {},
     "output_type": "display_data"
    },
    {
     "data": {
      "application/vnd.jupyter.widget-view+json": {
       "model_id": "e59fafa458b3401199960f8e76b7e9b0",
       "version_major": 2,
       "version_minor": 0
      },
      "text/plain": [
       "Batches:   0%|          | 0/223 [00:00<?, ?it/s]"
      ]
     },
     "metadata": {},
     "output_type": "display_data"
    },
    {
     "data": {
      "application/vnd.jupyter.widget-view+json": {
       "model_id": "c43645799e10430eab3fd662d334f61b",
       "version_major": 2,
       "version_minor": 0
      },
      "text/plain": [
       "Batches:   0%|          | 0/56 [00:00<?, ?it/s]"
      ]
     },
     "metadata": {},
     "output_type": "display_data"
    },
    {
     "name": "stderr",
     "output_type": "stream",
     "text": [
      " 60%|██████    | 6/10 [14:17<12:44, 191.07s/it]"
     ]
    },
    {
     "data": {
      "application/vnd.jupyter.widget-view+json": {
       "model_id": "018deb0f3dee4e51b351e81304f349c5",
       "version_major": 2,
       "version_minor": 0
      },
      "text/plain": [
       "Batches:   0%|          | 0/223 [00:00<?, ?it/s]"
      ]
     },
     "metadata": {},
     "output_type": "display_data"
    },
    {
     "data": {
      "application/vnd.jupyter.widget-view+json": {
       "model_id": "0cdb95bf3c07421f8e6df98b289b1f84",
       "version_major": 2,
       "version_minor": 0
      },
      "text/plain": [
       "Batches:   0%|          | 0/223 [00:00<?, ?it/s]"
      ]
     },
     "metadata": {},
     "output_type": "display_data"
    },
    {
     "data": {
      "application/vnd.jupyter.widget-view+json": {
       "model_id": "91cb9b27f3e34e46880bd3523e24fdde",
       "version_major": 2,
       "version_minor": 0
      },
      "text/plain": [
       "Batches:   0%|          | 0/56 [00:00<?, ?it/s]"
      ]
     },
     "metadata": {},
     "output_type": "display_data"
    },
    {
     "name": "stderr",
     "output_type": "stream",
     "text": [
      " 70%|███████   | 7/10 [14:41<06:48, 136.32s/it]"
     ]
    },
    {
     "data": {
      "application/vnd.jupyter.widget-view+json": {
       "model_id": "3fd677b1dba744eca1e2e9460bfc1973",
       "version_major": 2,
       "version_minor": 0
      },
      "text/plain": [
       "Batches:   0%|          | 0/223 [00:00<?, ?it/s]"
      ]
     },
     "metadata": {},
     "output_type": "display_data"
    },
    {
     "data": {
      "application/vnd.jupyter.widget-view+json": {
       "model_id": "a6ba8dd31c7944d481f46a4647a77832",
       "version_major": 2,
       "version_minor": 0
      },
      "text/plain": [
       "Batches:   0%|          | 0/223 [00:00<?, ?it/s]"
      ]
     },
     "metadata": {},
     "output_type": "display_data"
    },
    {
     "data": {
      "application/vnd.jupyter.widget-view+json": {
       "model_id": "f4d4d2e789044e25a3aaad9d9171900f",
       "version_major": 2,
       "version_minor": 0
      },
      "text/plain": [
       "Batches:   0%|          | 0/56 [00:00<?, ?it/s]"
      ]
     },
     "metadata": {},
     "output_type": "display_data"
    },
    {
     "name": "stderr",
     "output_type": "stream",
     "text": [
      " 80%|████████  | 8/10 [15:28<03:35, 107.83s/it]"
     ]
    },
    {
     "data": {
      "application/vnd.jupyter.widget-view+json": {
       "model_id": "c91f69279d95400ebec1a172b751e804",
       "version_major": 2,
       "version_minor": 0
      },
      "text/plain": [
       "Batches:   0%|          | 0/223 [00:00<?, ?it/s]"
      ]
     },
     "metadata": {},
     "output_type": "display_data"
    },
    {
     "data": {
      "application/vnd.jupyter.widget-view+json": {
       "model_id": "5bcdd191ff5549cb817bdb3fc48103a6",
       "version_major": 2,
       "version_minor": 0
      },
      "text/plain": [
       "Batches:   0%|          | 0/223 [00:00<?, ?it/s]"
      ]
     },
     "metadata": {},
     "output_type": "display_data"
    },
    {
     "data": {
      "application/vnd.jupyter.widget-view+json": {
       "model_id": "0c722476412140ab987a023e56403168",
       "version_major": 2,
       "version_minor": 0
      },
      "text/plain": [
       "Batches:   0%|          | 0/56 [00:00<?, ?it/s]"
      ]
     },
     "metadata": {},
     "output_type": "display_data"
    },
    {
     "name": "stderr",
     "output_type": "stream",
     "text": [
      " 90%|█████████ | 9/10 [15:47<01:20, 80.18s/it] "
     ]
    },
    {
     "data": {
      "application/vnd.jupyter.widget-view+json": {
       "model_id": "7c7b910bde0146cbb76d982499833590",
       "version_major": 2,
       "version_minor": 0
      },
      "text/plain": [
       "Batches:   0%|          | 0/223 [00:00<?, ?it/s]"
      ]
     },
     "metadata": {},
     "output_type": "display_data"
    },
    {
     "data": {
      "application/vnd.jupyter.widget-view+json": {
       "model_id": "ccf54a3f45594006afbccedb129e9068",
       "version_major": 2,
       "version_minor": 0
      },
      "text/plain": [
       "Batches:   0%|          | 0/223 [00:00<?, ?it/s]"
      ]
     },
     "metadata": {},
     "output_type": "display_data"
    },
    {
     "data": {
      "application/vnd.jupyter.widget-view+json": {
       "model_id": "bb3c32d4cd72422ab602110aa20295aa",
       "version_major": 2,
       "version_minor": 0
      },
      "text/plain": [
       "Batches:   0%|          | 0/56 [00:00<?, ?it/s]"
      ]
     },
     "metadata": {},
     "output_type": "display_data"
    },
    {
     "name": "stderr",
     "output_type": "stream",
     "text": [
      "100%|██████████| 10/10 [16:35<00:00, 99.51s/it]\n"
     ]
    },
    {
     "data": {
      "text/html": [
       "<div>\n",
       "<style scoped>\n",
       "    .dataframe tbody tr th:only-of-type {\n",
       "        vertical-align: middle;\n",
       "    }\n",
       "\n",
       "    .dataframe tbody tr th {\n",
       "        vertical-align: top;\n",
       "    }\n",
       "\n",
       "    .dataframe thead th {\n",
       "        text-align: right;\n",
       "    }\n",
       "</style>\n",
       "<table border=\"1\" class=\"dataframe\">\n",
       "  <thead>\n",
       "    <tr style=\"text-align: right;\">\n",
       "      <th></th>\n",
       "      <th>classifier</th>\n",
       "      <th>target</th>\n",
       "      <th>duration</th>\n",
       "      <th>accuracy_train</th>\n",
       "      <th>accuracy_test</th>\n",
       "    </tr>\n",
       "  </thead>\n",
       "  <tbody>\n",
       "    <tr>\n",
       "      <th>0</th>\n",
       "      <td>LogisticRegression</td>\n",
       "      <td>rating</td>\n",
       "      <td>16.169177</td>\n",
       "      <td>0.708216</td>\n",
       "      <td>0.622610</td>\n",
       "    </tr>\n",
       "    <tr>\n",
       "      <th>1</th>\n",
       "      <td>DecisionTreeClassifier</td>\n",
       "      <td>rating</td>\n",
       "      <td>13.610608</td>\n",
       "      <td>0.965532</td>\n",
       "      <td>0.465129</td>\n",
       "    </tr>\n",
       "    <tr>\n",
       "      <th>2</th>\n",
       "      <td>MultinomialNB</td>\n",
       "      <td>rating</td>\n",
       "      <td>8.490552</td>\n",
       "      <td>0.513225</td>\n",
       "      <td>0.517998</td>\n",
       "    </tr>\n",
       "    <tr>\n",
       "      <th>3</th>\n",
       "      <td>SVC</td>\n",
       "      <td>rating</td>\n",
       "      <td>60.535139</td>\n",
       "      <td>0.771384</td>\n",
       "      <td>0.625422</td>\n",
       "    </tr>\n",
       "    <tr>\n",
       "      <th>4</th>\n",
       "      <td>GradientBoostingClassifier</td>\n",
       "      <td>rating</td>\n",
       "      <td>650.039825</td>\n",
       "      <td>0.819218</td>\n",
       "      <td>0.600675</td>\n",
       "    </tr>\n",
       "    <tr>\n",
       "      <th>5</th>\n",
       "      <td>AdaBoostClassifier</td>\n",
       "      <td>rating</td>\n",
       "      <td>29.651939</td>\n",
       "      <td>0.514772</td>\n",
       "      <td>0.522497</td>\n",
       "    </tr>\n",
       "    <tr>\n",
       "      <th>6</th>\n",
       "      <td>RandomForestClassifier</td>\n",
       "      <td>rating</td>\n",
       "      <td>12.787930</td>\n",
       "      <td>0.592853</td>\n",
       "      <td>0.538245</td>\n",
       "    </tr>\n",
       "    <tr>\n",
       "      <th>7</th>\n",
       "      <td>CalibratedClassifierCV</td>\n",
       "      <td>rating</td>\n",
       "      <td>35.846133</td>\n",
       "      <td>0.701885</td>\n",
       "      <td>0.607424</td>\n",
       "    </tr>\n",
       "    <tr>\n",
       "      <th>8</th>\n",
       "      <td>XGBClassifier</td>\n",
       "      <td>rating</td>\n",
       "      <td>8.618574</td>\n",
       "      <td>0.574705</td>\n",
       "      <td>0.555681</td>\n",
       "    </tr>\n",
       "    <tr>\n",
       "      <th>9</th>\n",
       "      <td>CatBoostClassifier</td>\n",
       "      <td>rating</td>\n",
       "      <td>35.978800</td>\n",
       "      <td>0.999297</td>\n",
       "      <td>0.618110</td>\n",
       "    </tr>\n",
       "  </tbody>\n",
       "</table>\n",
       "</div>"
      ],
      "text/plain": [
       "                   classifier  target    duration  accuracy_train  \\\n",
       "0          LogisticRegression  rating   16.169177        0.708216   \n",
       "1      DecisionTreeClassifier  rating   13.610608        0.965532   \n",
       "2               MultinomialNB  rating    8.490552        0.513225   \n",
       "3                         SVC  rating   60.535139        0.771384   \n",
       "4  GradientBoostingClassifier  rating  650.039825        0.819218   \n",
       "5          AdaBoostClassifier  rating   29.651939        0.514772   \n",
       "6      RandomForestClassifier  rating   12.787930        0.592853   \n",
       "7      CalibratedClassifierCV  rating   35.846133        0.701885   \n",
       "8               XGBClassifier  rating    8.618574        0.574705   \n",
       "9          CatBoostClassifier  rating   35.978800        0.999297   \n",
       "\n",
       "   accuracy_test  \n",
       "0       0.622610  \n",
       "1       0.465129  \n",
       "2       0.517998  \n",
       "3       0.625422  \n",
       "4       0.600675  \n",
       "5       0.522497  \n",
       "6       0.538245  \n",
       "7       0.607424  \n",
       "8       0.555681  \n",
       "9       0.618110  "
      ]
     },
     "execution_count": 16,
     "metadata": {},
     "output_type": "execute_result"
    }
   ],
   "source": [
    "results_rating = pd.DataFrame([evaluate(classifier, X_train,y_train, X_test,y_test, target='rating') for classifier in tqdm(classifiers)], columns=['classifier','target','duration','accuracy_train','accuracy_test'])\n",
    "results_rating"
   ]
  },
  {
   "cell_type": "markdown",
   "metadata": {},
   "source": [
    "**Combine the Results**"
   ]
  },
  {
   "cell_type": "code",
   "execution_count": 17,
   "metadata": {},
   "outputs": [
    {
     "data": {
      "text/html": [
       "<div>\n",
       "<style scoped>\n",
       "    .dataframe tbody tr th:only-of-type {\n",
       "        vertical-align: middle;\n",
       "    }\n",
       "\n",
       "    .dataframe tbody tr th {\n",
       "        vertical-align: top;\n",
       "    }\n",
       "\n",
       "    .dataframe thead th {\n",
       "        text-align: right;\n",
       "    }\n",
       "</style>\n",
       "<table border=\"1\" class=\"dataframe\">\n",
       "  <thead>\n",
       "    <tr style=\"text-align: right;\">\n",
       "      <th></th>\n",
       "      <th>classifier</th>\n",
       "      <th>target</th>\n",
       "      <th>duration</th>\n",
       "      <th>accuracy_train</th>\n",
       "      <th>accuracy_test</th>\n",
       "    </tr>\n",
       "  </thead>\n",
       "  <tbody>\n",
       "    <tr>\n",
       "      <th>0</th>\n",
       "      <td>LogisticRegression</td>\n",
       "      <td>points</td>\n",
       "      <td>114.603644</td>\n",
       "      <td>0.425295</td>\n",
       "      <td>0.215411</td>\n",
       "    </tr>\n",
       "    <tr>\n",
       "      <th>1</th>\n",
       "      <td>DecisionTreeClassifier</td>\n",
       "      <td>points</td>\n",
       "      <td>13.716048</td>\n",
       "      <td>0.895751</td>\n",
       "      <td>0.148481</td>\n",
       "    </tr>\n",
       "    <tr>\n",
       "      <th>2</th>\n",
       "      <td>MultinomialNB</td>\n",
       "      <td>points</td>\n",
       "      <td>8.723494</td>\n",
       "      <td>0.193585</td>\n",
       "      <td>0.173791</td>\n",
       "    </tr>\n",
       "    <tr>\n",
       "      <th>3</th>\n",
       "      <td>SVC</td>\n",
       "      <td>points</td>\n",
       "      <td>69.655128</td>\n",
       "      <td>0.582302</td>\n",
       "      <td>0.212036</td>\n",
       "    </tr>\n",
       "    <tr>\n",
       "      <th>4</th>\n",
       "      <td>GradientBoostingClassifier</td>\n",
       "      <td>points</td>\n",
       "      <td>2130.606063</td>\n",
       "      <td>0.792909</td>\n",
       "      <td>0.203600</td>\n",
       "    </tr>\n",
       "    <tr>\n",
       "      <th>5</th>\n",
       "      <td>AdaBoostClassifier</td>\n",
       "      <td>points</td>\n",
       "      <td>32.216420</td>\n",
       "      <td>0.171075</td>\n",
       "      <td>0.163105</td>\n",
       "    </tr>\n",
       "    <tr>\n",
       "      <th>6</th>\n",
       "      <td>RandomForestClassifier</td>\n",
       "      <td>points</td>\n",
       "      <td>13.382544</td>\n",
       "      <td>0.325549</td>\n",
       "      <td>0.196288</td>\n",
       "    </tr>\n",
       "    <tr>\n",
       "      <th>7</th>\n",
       "      <td>CalibratedClassifierCV</td>\n",
       "      <td>points</td>\n",
       "      <td>82.305178</td>\n",
       "      <td>0.487198</td>\n",
       "      <td>0.209224</td>\n",
       "    </tr>\n",
       "    <tr>\n",
       "      <th>8</th>\n",
       "      <td>XGBClassifier</td>\n",
       "      <td>points</td>\n",
       "      <td>8.710187</td>\n",
       "      <td>0.236916</td>\n",
       "      <td>0.182790</td>\n",
       "    </tr>\n",
       "    <tr>\n",
       "      <th>9</th>\n",
       "      <td>CatBoostClassifier</td>\n",
       "      <td>points</td>\n",
       "      <td>93.679606</td>\n",
       "      <td>0.999297</td>\n",
       "      <td>0.224972</td>\n",
       "    </tr>\n",
       "    <tr>\n",
       "      <th>0</th>\n",
       "      <td>LogisticRegression</td>\n",
       "      <td>rating</td>\n",
       "      <td>16.169177</td>\n",
       "      <td>0.708216</td>\n",
       "      <td>0.622610</td>\n",
       "    </tr>\n",
       "    <tr>\n",
       "      <th>1</th>\n",
       "      <td>DecisionTreeClassifier</td>\n",
       "      <td>rating</td>\n",
       "      <td>13.610608</td>\n",
       "      <td>0.965532</td>\n",
       "      <td>0.465129</td>\n",
       "    </tr>\n",
       "    <tr>\n",
       "      <th>2</th>\n",
       "      <td>MultinomialNB</td>\n",
       "      <td>rating</td>\n",
       "      <td>8.490552</td>\n",
       "      <td>0.513225</td>\n",
       "      <td>0.517998</td>\n",
       "    </tr>\n",
       "    <tr>\n",
       "      <th>3</th>\n",
       "      <td>SVC</td>\n",
       "      <td>rating</td>\n",
       "      <td>60.535139</td>\n",
       "      <td>0.771384</td>\n",
       "      <td>0.625422</td>\n",
       "    </tr>\n",
       "    <tr>\n",
       "      <th>4</th>\n",
       "      <td>GradientBoostingClassifier</td>\n",
       "      <td>rating</td>\n",
       "      <td>650.039825</td>\n",
       "      <td>0.819218</td>\n",
       "      <td>0.600675</td>\n",
       "    </tr>\n",
       "    <tr>\n",
       "      <th>5</th>\n",
       "      <td>AdaBoostClassifier</td>\n",
       "      <td>rating</td>\n",
       "      <td>29.651939</td>\n",
       "      <td>0.514772</td>\n",
       "      <td>0.522497</td>\n",
       "    </tr>\n",
       "    <tr>\n",
       "      <th>6</th>\n",
       "      <td>RandomForestClassifier</td>\n",
       "      <td>rating</td>\n",
       "      <td>12.787930</td>\n",
       "      <td>0.592853</td>\n",
       "      <td>0.538245</td>\n",
       "    </tr>\n",
       "    <tr>\n",
       "      <th>7</th>\n",
       "      <td>CalibratedClassifierCV</td>\n",
       "      <td>rating</td>\n",
       "      <td>35.846133</td>\n",
       "      <td>0.701885</td>\n",
       "      <td>0.607424</td>\n",
       "    </tr>\n",
       "    <tr>\n",
       "      <th>8</th>\n",
       "      <td>XGBClassifier</td>\n",
       "      <td>rating</td>\n",
       "      <td>8.618574</td>\n",
       "      <td>0.574705</td>\n",
       "      <td>0.555681</td>\n",
       "    </tr>\n",
       "    <tr>\n",
       "      <th>9</th>\n",
       "      <td>CatBoostClassifier</td>\n",
       "      <td>rating</td>\n",
       "      <td>35.978800</td>\n",
       "      <td>0.999297</td>\n",
       "      <td>0.618110</td>\n",
       "    </tr>\n",
       "  </tbody>\n",
       "</table>\n",
       "</div>"
      ],
      "text/plain": [
       "                   classifier  target     duration  accuracy_train  \\\n",
       "0          LogisticRegression  points   114.603644        0.425295   \n",
       "1      DecisionTreeClassifier  points    13.716048        0.895751   \n",
       "2               MultinomialNB  points     8.723494        0.193585   \n",
       "3                         SVC  points    69.655128        0.582302   \n",
       "4  GradientBoostingClassifier  points  2130.606063        0.792909   \n",
       "5          AdaBoostClassifier  points    32.216420        0.171075   \n",
       "6      RandomForestClassifier  points    13.382544        0.325549   \n",
       "7      CalibratedClassifierCV  points    82.305178        0.487198   \n",
       "8               XGBClassifier  points     8.710187        0.236916   \n",
       "9          CatBoostClassifier  points    93.679606        0.999297   \n",
       "0          LogisticRegression  rating    16.169177        0.708216   \n",
       "1      DecisionTreeClassifier  rating    13.610608        0.965532   \n",
       "2               MultinomialNB  rating     8.490552        0.513225   \n",
       "3                         SVC  rating    60.535139        0.771384   \n",
       "4  GradientBoostingClassifier  rating   650.039825        0.819218   \n",
       "5          AdaBoostClassifier  rating    29.651939        0.514772   \n",
       "6      RandomForestClassifier  rating    12.787930        0.592853   \n",
       "7      CalibratedClassifierCV  rating    35.846133        0.701885   \n",
       "8               XGBClassifier  rating     8.618574        0.574705   \n",
       "9          CatBoostClassifier  rating    35.978800        0.999297   \n",
       "\n",
       "   accuracy_test  \n",
       "0       0.215411  \n",
       "1       0.148481  \n",
       "2       0.173791  \n",
       "3       0.212036  \n",
       "4       0.203600  \n",
       "5       0.163105  \n",
       "6       0.196288  \n",
       "7       0.209224  \n",
       "8       0.182790  \n",
       "9       0.224972  \n",
       "0       0.622610  \n",
       "1       0.465129  \n",
       "2       0.517998  \n",
       "3       0.625422  \n",
       "4       0.600675  \n",
       "5       0.522497  \n",
       "6       0.538245  \n",
       "7       0.607424  \n",
       "8       0.555681  \n",
       "9       0.618110  "
      ]
     },
     "execution_count": 17,
     "metadata": {},
     "output_type": "execute_result"
    }
   ],
   "source": [
    "# combine results\n",
    "results = pd.concat([results_points,results_rating], axis=0)\n",
    "results"
   ]
  },
  {
   "cell_type": "code",
   "execution_count": 18,
   "metadata": {},
   "outputs": [
    {
     "data": {
      "image/png": "[encoded data removed]",
      "text/plain": [
       "<Figure size 1000x300 with 2 Axes>"
      ]
     },
     "metadata": {},
     "output_type": "display_data"
    }
   ],
   "source": [
    "import warnings\n",
    "\n",
    "fig, axes = plt.subplots(2, 1, figsize=(10,3))\n",
    "\n",
    "ax = sns.boxplot(data = results, x='duration', y='target', hue='target', palette='Purples', ax=axes[0], flierprops={'markerfacecolor': 'purple'})\n",
    "ax.set_xlabel('Duration (s)')\n",
    "ax.set_ylabel('Target')\n",
    "ax.set_yticks(ax.get_yticks())\n",
    "ax.set_yticklabels(['Points', 'Rating'])\n",
    "\n",
    "# Iterate through fliers and add annotations\n",
    "for i, flier in enumerate(ax.findobj(match=lambda x: type(x) == plt.Line2D and x.get_marker() == 'o')):\n",
    "    x_data, y_data = flier.get_data()\n",
    "    for x, y in zip(x_data, y_data):\n",
    "        classifier=results.query(f'duration == {x}').classifier.values[0]\n",
    "        ax.text(x, y-0.3, f'{classifier}', ha='center', va='bottom', bbox=dict(facecolor='white', alpha=0.75, edgecolor='black', boxstyle='round,pad=0.2'))\n",
    "\n",
    "ax = sns.boxplot(results, x='accuracy_test', y='target', ax=axes[1], hue='target', palette='Purples')\n",
    "ax.set_xlabel('Accuracy on Test Data')\n",
    "ax.set_ylabel('Target')\n",
    "ax.set_yticks(ax.get_yticks())\n",
    "ax.set_yticklabels(['Points', 'Rating'])\n",
    "with warnings.catch_warnings():\n",
    "  warnings.filterwarnings(action='ignore', category=UserWarning)\n",
    "  ax.set_xticklabels([f'{float(v):.0%}' for v in ax.get_xticks()])\n",
    "\n",
    "plt.tight_layout()\n",
    "plt.suptitle('Distribution of Duration and Accuracy for various Classifiers')\n",
    "plt.show()"
   ]
  },
  {
   "cell_type": "code",
   "execution_count": 19,
   "metadata": {},
   "outputs": [
    {
     "data": {
      "image/png": "[encoded data removed]",
      "text/plain": [
       "<Figure size 640x480 with 1 Axes>"
      ]
     },
     "metadata": {},
     "output_type": "display_data"
    }
   ],
   "source": [
    "ax = sns.scatterplot(data=results, x='duration', y='accuracy_test', hue='target', palette='Purples', s=75)\n",
    "# Annotate each point with its label\n",
    "for i, row in results.iterrows():\n",
    "    # ax.set_ylim(.0, .20)\n",
    "    ax.text(row['duration']+50, row['accuracy_test']+.002, row['classifier'], fontsize=10,\n",
    "            bbox=dict(facecolor='white', edgecolor='black', boxstyle='round,pad=0.2'), \n",
    "            horizontalalignment='left', verticalalignment='bottom')\n",
    "plt.title('Performance of Various Classifiers')\n",
    "plt.xlabel('Duration (s)')\n",
    "plt.ylabel('Accuracy on Test Data')\n",
    "plt.show()"
   ]
  },
  {
   "cell_type": "markdown",
   "metadata": {},
   "source": [
    "## Conclusion\n",
    "\n",
    "Although not tuned, some classifiers show signs of overfitting like `LogisticRegression` and `DecisionTreeClassifier`, while othersm like `GradientBoostingClassifier` are computationally costly. $2$ specialized 3rd party classifiers were also evaluated, `XGBoost` and `CatBoost`. For this project, we will focus on the following three classifiers:\n",
    "- traditional `MultinomialNB` classifier\n",
    "- ensemble: `RandomForestClassifier`\n",
    "- specialized 3rd party: `XGBoost`"
   ]
  },
  {
   "cell_type": "markdown",
   "metadata": {},
   "source": [
    "## Next\n",
    "\n",
    "- [Target Selection](target-selection.ipynb)"
   ]
  }
 ],
 "metadata": {
  "kernelspec": {
   "display_name": ".venv",
   "language": "python",
   "name": "python3"
  },
  "language_info": {
   "codemirror_mode": {
    "name": "ipython",
    "version": 3
   },
   "file_extension": ".py",
   "mimetype": "text/x-python",
   "name": "python",
   "nbconvert_exporter": "python",
   "pygments_lexer": "ipython3",
   "version": "3.12.9"
  }
 },
 "nbformat": 4,
 "nbformat_minor": 2
}
