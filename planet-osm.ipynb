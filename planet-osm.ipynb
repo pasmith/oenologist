{
 "cells": [
  {
   "cell_type": "code",
   "execution_count": 1,
   "metadata": {},
   "outputs": [],
   "source": [
    "import pandas as pd\n",
    "import numpy as np\n",
    "import geopandas as gpd\n",
    "import os\n",
    "import kagglehub\n",
    "import quackosm as qosm\n",
    "import random\n",
    "import osmium as osm"
   ]
  },
  {
   "cell_type": "code",
   "execution_count": 2,
   "metadata": {},
   "outputs": [],
   "source": [
    "# location of full planet download\n",
    "planet_pbf_path = 'osm/planet-241230.osm.pbf'"
   ]
  },
  {
   "cell_type": "code",
   "execution_count": null,
   "metadata": {},
   "outputs": [],
   "source": []
  },
  {
   "cell_type": "code",
   "execution_count": null,
   "metadata": {},
   "outputs": [],
   "source": [
    "filters = [\n",
    "  ('craft', 'winery'),\n",
    "  ('craft', 'distillery'),\n",
    "  ('landuse', 'vineyard'),\n",
    "  ('shop', 'wine'),\n",
    "]\n",
    "\n",
    "fp = osm.FileProcessor(planet_pbf_path)\\\n",
    "           .with_locations()\\\n",
    "           .with_filter(osm.filter.EntityFilter(osm.osm.NODE))\\\n",
    "           .with_filter(osm.filter.KeyFilter('name'))\\\n",
    "           .with_filter(osm.filter.TagFilter(*filters))\\\n",
    "           .with_filter(osm.filter.GeoInterfaceFilter())\n",
    "\n",
    "wineries = gpd.GeoDataFrame.from_features(fp)"
   ]
  },
  {
   "cell_type": "code",
   "execution_count": null,
   "metadata": {},
   "outputs": [],
   "source": [
    "wineries.head()"
   ]
  }
 ],
 "metadata": {
  "kernelspec": {
   "display_name": ".venv",
   "language": "python",
   "name": "python3"
  },
  "language_info": {
   "codemirror_mode": {
    "name": "ipython",
    "version": 3
   },
   "file_extension": ".py",
   "mimetype": "text/x-python",
   "name": "python",
   "nbconvert_exporter": "python",
   "pygments_lexer": "ipython3",
   "version": "3.12.8"
  }
 },
 "nbformat": 4,
 "nbformat_minor": 2
}
