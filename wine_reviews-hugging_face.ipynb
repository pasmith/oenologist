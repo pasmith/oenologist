{
 "cells": [
  {
   "cell_type": "markdown",
   "metadata": {},
   "source": [
    "## Hugging Face Model"
   ]
  },
  {
   "cell_type": "code",
   "execution_count": 2,
   "metadata": {},
   "outputs": [],
   "source": [
    "import pandas as pd\n",
    "import numpy as np\n",
    "import time\n",
    "\n",
    "from IPython.display import Markdown, display\n",
    "\n",
    "import matplotlib.pyplot as plt\n",
    "import seaborn as sns\n",
    "sns.set_theme()"
   ]
  },
  {
   "cell_type": "markdown",
   "metadata": {},
   "source": [
    "**Load the data set**\n",
    "\n",
    "See [Datasets](https://huggingface.co/docs/datasets/index) documentation on HuggingFace"
   ]
  },
  {
   "cell_type": "code",
   "execution_count": 6,
   "metadata": {},
   "outputs": [
    {
     "name": "stdout",
     "output_type": "stream",
     "text": [
      "(100538, 16)\n"
     ]
    },
    {
     "data": {
      "text/html": [
       "<div>\n",
       "<style scoped>\n",
       "    .dataframe tbody tr th:only-of-type {\n",
       "        vertical-align: middle;\n",
       "    }\n",
       "\n",
       "    .dataframe tbody tr th {\n",
       "        vertical-align: top;\n",
       "    }\n",
       "\n",
       "    .dataframe thead th {\n",
       "        text-align: right;\n",
       "    }\n",
       "</style>\n",
       "<table border=\"1\" class=\"dataframe\">\n",
       "  <thead>\n",
       "    <tr style=\"text-align: right;\">\n",
       "      <th></th>\n",
       "      <th>country</th>\n",
       "      <th>description</th>\n",
       "      <th>points</th>\n",
       "      <th>price</th>\n",
       "      <th>taster_name</th>\n",
       "      <th>title</th>\n",
       "      <th>variety</th>\n",
       "      <th>winery</th>\n",
       "      <th>year</th>\n",
       "      <th>wine_style</th>\n",
       "      <th>type</th>\n",
       "      <th>quality</th>\n",
       "      <th>classification</th>\n",
       "      <th>location</th>\n",
       "      <th>band</th>\n",
       "      <th>preprocessed_description</th>\n",
       "    </tr>\n",
       "  </thead>\n",
       "  <tbody>\n",
       "    <tr>\n",
       "      <th>0</th>\n",
       "      <td>Italy</td>\n",
       "      <td>Aromas include tropical fruit, broom, brimston...</td>\n",
       "      <td>87</td>\n",
       "      <td>NaN</td>\n",
       "      <td>Kerin O’Keefe</td>\n",
       "      <td>Nicosia 2013 Vulkà Bianco  (Etna)</td>\n",
       "      <td>White Blend</td>\n",
       "      <td>Nicosia</td>\n",
       "      <td>2013</td>\n",
       "      <td>light_white</td>\n",
       "      <td>white</td>\n",
       "      <td>medium</td>\n",
       "      <td>Old World</td>\n",
       "      <td>Etna</td>\n",
       "      <td>None</td>\n",
       "      <td>aroma include tropical fruit broom brimstone...</td>\n",
       "    </tr>\n",
       "    <tr>\n",
       "      <th>1</th>\n",
       "      <td>Portugal</td>\n",
       "      <td>This is ripe and fruity, a wine that is smooth...</td>\n",
       "      <td>87</td>\n",
       "      <td>15.0</td>\n",
       "      <td>Roger Voss</td>\n",
       "      <td>Quinta dos Avidagos 2011 Avidagos Red (Douro)</td>\n",
       "      <td>Portuguese Red</td>\n",
       "      <td>Quinta dos Avidagos</td>\n",
       "      <td>2011</td>\n",
       "      <td>medium_red</td>\n",
       "      <td>red</td>\n",
       "      <td>medium</td>\n",
       "      <td>Old World</td>\n",
       "      <td>Douro</td>\n",
       "      <td>popular</td>\n",
       "      <td>do ripe fruity wine smooth structure firm tann...</td>\n",
       "    </tr>\n",
       "    <tr>\n",
       "      <th>2</th>\n",
       "      <td>US</td>\n",
       "      <td>Tart and snappy, the flavors of lime flesh and...</td>\n",
       "      <td>87</td>\n",
       "      <td>14.0</td>\n",
       "      <td>Paul Gregutt</td>\n",
       "      <td>Rainstorm 2013 Pinot Gris (Willamette Valley)</td>\n",
       "      <td>Pinot Gris</td>\n",
       "      <td>Rainstorm</td>\n",
       "      <td>2013</td>\n",
       "      <td>light_white</td>\n",
       "      <td>white</td>\n",
       "      <td>medium</td>\n",
       "      <td>New World</td>\n",
       "      <td>Oregon</td>\n",
       "      <td>popular</td>\n",
       "      <td>rainstorm tart snappy flavor lime flesh rind d...</td>\n",
       "    </tr>\n",
       "    <tr>\n",
       "      <th>3</th>\n",
       "      <td>US</td>\n",
       "      <td>Pineapple rind, lemon pith and orange blossom ...</td>\n",
       "      <td>87</td>\n",
       "      <td>13.0</td>\n",
       "      <td>Alexander Peartree</td>\n",
       "      <td>St. Julian 2013 Reserve Late Harvest Riesling ...</td>\n",
       "      <td>Riesling</td>\n",
       "      <td>St. Julian</td>\n",
       "      <td>2013</td>\n",
       "      <td>aromatic_white</td>\n",
       "      <td>white</td>\n",
       "      <td>medium</td>\n",
       "      <td>New World</td>\n",
       "      <td>Michigan</td>\n",
       "      <td>popular</td>\n",
       "      <td>pineapple rind lemon pith orange blossom start...</td>\n",
       "    </tr>\n",
       "    <tr>\n",
       "      <th>4</th>\n",
       "      <td>US</td>\n",
       "      <td>Much like the regular bottling from 2012, this...</td>\n",
       "      <td>87</td>\n",
       "      <td>65.0</td>\n",
       "      <td>Paul Gregutt</td>\n",
       "      <td>Sweet Cheeks 2012 Vintner's Reserve Wild Child...</td>\n",
       "      <td>Pinot Noir</td>\n",
       "      <td>Sweet Cheeks</td>\n",
       "      <td>2012</td>\n",
       "      <td>light_red</td>\n",
       "      <td>red</td>\n",
       "      <td>medium</td>\n",
       "      <td>New World</td>\n",
       "      <td>Oregon</td>\n",
       "      <td>luxury</td>\n",
       "      <td>vintner like regular bottling come rough tanni...</td>\n",
       "    </tr>\n",
       "  </tbody>\n",
       "</table>\n",
       "</div>"
      ],
      "text/plain": [
       "    country                                        description  points  price  \\\n",
       "0     Italy  Aromas include tropical fruit, broom, brimston...      87    NaN   \n",
       "1  Portugal  This is ripe and fruity, a wine that is smooth...      87   15.0   \n",
       "2        US  Tart and snappy, the flavors of lime flesh and...      87   14.0   \n",
       "3        US  Pineapple rind, lemon pith and orange blossom ...      87   13.0   \n",
       "4        US  Much like the regular bottling from 2012, this...      87   65.0   \n",
       "\n",
       "          taster_name                                              title  \\\n",
       "0       Kerin O’Keefe                  Nicosia 2013 Vulkà Bianco  (Etna)   \n",
       "1          Roger Voss      Quinta dos Avidagos 2011 Avidagos Red (Douro)   \n",
       "2        Paul Gregutt      Rainstorm 2013 Pinot Gris (Willamette Valley)   \n",
       "3  Alexander Peartree  St. Julian 2013 Reserve Late Harvest Riesling ...   \n",
       "4        Paul Gregutt  Sweet Cheeks 2012 Vintner's Reserve Wild Child...   \n",
       "\n",
       "          variety               winery  year      wine_style   type quality  \\\n",
       "0     White Blend              Nicosia  2013     light_white  white  medium   \n",
       "1  Portuguese Red  Quinta dos Avidagos  2011      medium_red    red  medium   \n",
       "2      Pinot Gris            Rainstorm  2013     light_white  white  medium   \n",
       "3        Riesling           St. Julian  2013  aromatic_white  white  medium   \n",
       "4      Pinot Noir         Sweet Cheeks  2012       light_red    red  medium   \n",
       "\n",
       "  classification  location     band  \\\n",
       "0      Old World      Etna     None   \n",
       "1      Old World     Douro  popular   \n",
       "2      New World    Oregon  popular   \n",
       "3      New World  Michigan  popular   \n",
       "4      New World    Oregon   luxury   \n",
       "\n",
       "                            preprocessed_description  \n",
       "0    aroma include tropical fruit broom brimstone...  \n",
       "1  do ripe fruity wine smooth structure firm tann...  \n",
       "2  rainstorm tart snappy flavor lime flesh rind d...  \n",
       "3  pineapple rind lemon pith orange blossom start...  \n",
       "4  vintner like regular bottling come rough tanni...  "
      ]
     },
     "execution_count": 6,
     "metadata": {},
     "output_type": "execute_result"
    }
   ],
   "source": [
    "df = pd.read_parquet('files/wine_review.parquet.gzip')\n",
    "print(df.shape)\n",
    "df.head()"
   ]
  },
  {
   "cell_type": "code",
   "execution_count": 7,
   "metadata": {},
   "outputs": [
    {
     "data": {
      "text/plain": [
       "(1000, 16)"
      ]
     },
     "execution_count": 7,
     "metadata": {},
     "output_type": "execute_result"
    }
   ],
   "source": [
    "n = 1000\n",
    "s = df.sample(n, random_state=42)\n",
    "s.shape"
   ]
  },
  {
   "cell_type": "code",
   "execution_count": 9,
   "metadata": {},
   "outputs": [
    {
     "data": {
      "text/plain": [
       "Dataset({\n",
       "    features: ['country', 'description', 'points', 'price', 'taster_name', 'title', 'variety', 'winery', 'year', 'wine_style', 'type', 'quality', 'classification', 'location', 'band', 'preprocessed_description', '__index_level_0__'],\n",
       "    num_rows: 1000\n",
       "})"
      ]
     },
     "execution_count": 9,
     "metadata": {},
     "output_type": "execute_result"
    }
   ],
   "source": [
    "from datasets import Dataset\n",
    "wine_dataset = Dataset.from_pandas(s, preserve_index=True)\n",
    "wine_dataset"
   ]
  },
  {
   "cell_type": "markdown",
   "metadata": {},
   "source": [
    "**Create HuggingFace Model**"
   ]
  },
  {
   "cell_type": "code",
   "execution_count": 10,
   "metadata": {},
   "outputs": [
    {
     "name": "stdout",
     "output_type": "stream",
     "text": [
      "CUDA is not available. Using CPU.\n",
      "Using device: cpu\n"
     ]
    },
    {
     "data": {
      "text/plain": [
       "MPNetModel(\n",
       "  (embeddings): MPNetEmbeddings(\n",
       "    (word_embeddings): Embedding(30527, 768, padding_idx=1)\n",
       "    (position_embeddings): Embedding(514, 768, padding_idx=1)\n",
       "    (LayerNorm): LayerNorm((768,), eps=1e-05, elementwise_affine=True)\n",
       "    (dropout): Dropout(p=0.1, inplace=False)\n",
       "  )\n",
       "  (encoder): MPNetEncoder(\n",
       "    (layer): ModuleList(\n",
       "      (0-11): 12 x MPNetLayer(\n",
       "        (attention): MPNetAttention(\n",
       "          (attn): MPNetSelfAttention(\n",
       "            (q): Linear(in_features=768, out_features=768, bias=True)\n",
       "            (k): Linear(in_features=768, out_features=768, bias=True)\n",
       "            (v): Linear(in_features=768, out_features=768, bias=True)\n",
       "            (o): Linear(in_features=768, out_features=768, bias=True)\n",
       "            (dropout): Dropout(p=0.1, inplace=False)\n",
       "          )\n",
       "          (LayerNorm): LayerNorm((768,), eps=1e-05, elementwise_affine=True)\n",
       "          (dropout): Dropout(p=0.1, inplace=False)\n",
       "        )\n",
       "        (intermediate): MPNetIntermediate(\n",
       "          (dense): Linear(in_features=768, out_features=3072, bias=True)\n",
       "          (intermediate_act_fn): GELUActivation()\n",
       "        )\n",
       "        (output): MPNetOutput(\n",
       "          (dense): Linear(in_features=3072, out_features=768, bias=True)\n",
       "          (LayerNorm): LayerNorm((768,), eps=1e-05, elementwise_affine=True)\n",
       "          (dropout): Dropout(p=0.1, inplace=False)\n",
       "        )\n",
       "      )\n",
       "    )\n",
       "    (relative_attention_bias): Embedding(32, 12)\n",
       "  )\n",
       "  (pooler): MPNetPooler(\n",
       "    (dense): Linear(in_features=768, out_features=768, bias=True)\n",
       "    (activation): Tanh()\n",
       "  )\n",
       ")"
      ]
     },
     "execution_count": 10,
     "metadata": {},
     "output_type": "execute_result"
    }
   ],
   "source": [
    "from transformers import AutoTokenizer, AutoModel\n",
    "import torch\n",
    "import torch.nn.functional as F\n",
    "\n",
    "# Load model from HuggingFace Hub\n",
    "model_ckpt = 'sentence-transformers/all-mpnet-base-v2'\n",
    "tokenizer = AutoTokenizer.from_pretrained(model_ckpt)\n",
    "model = AutoModel.from_pretrained(model_ckpt)\n",
    "model\n",
    "\n",
    "# Use GPU to speed up embedding process\n",
    "if torch.cuda.is_available():\n",
    "    num_devices = torch.cuda.device_count()\n",
    "    print(f\"Number of CUDA devices: {num_devices}\")\n",
    "    for i in range(num_devices):\n",
    "        print(f\"Device {i}: {torch.cuda.get_device_name(i)}\")\n",
    "else:\n",
    "    print(\"CUDA is not available. Using CPU.\")\n",
    "\n",
    "device = torch.device(\"cuda\" if torch.cuda.is_available() else \"cpu\")\n",
    "print(f\"Using device: {device}\")\n",
    "model.to(device)"
   ]
  },
  {
   "cell_type": "markdown",
   "metadata": {},
   "source": [
    "**Helper Functions to create Text Embeddings using the HiggingFace Model**"
   ]
  },
  {
   "cell_type": "code",
   "execution_count": 11,
   "metadata": {},
   "outputs": [],
   "source": [
    "# Pool token embeddings \n",
    "\n",
    "#Mean Pooling - Take attention mask into account for correct averaging\n",
    "def mean_pooling(model_output, attention_mask):\n",
    "  token_embeddings = model_output[0] #First element of model_output contains all token embeddings\n",
    "  input_mask_expanded = attention_mask.unsqueeze(-1).expand(token_embeddings.size()).float()\n",
    "  return torch.sum(token_embeddings * input_mask_expanded, 1) / torch.clamp(input_mask_expanded.sum(1), min=1e-9)\n",
    "\n",
    "\n",
    "# Function to get the embeddings from wine description input \n",
    "def get_embeddings(text_input):\n",
    "  # Tokenize sentences\n",
    "  encoded_input = tokenizer(text_input, padding=True, truncation=True, return_tensors='pt')\n",
    "  # Compute token embeddings\n",
    "  encoded_input = {k: v.to(device) for k, v in encoded_input.items()}\n",
    "  with torch.no_grad():\n",
    "    model_output = model(**encoded_input)\n",
    "  # Perform pooling\n",
    "  text_embeddings = mean_pooling(model_output, encoded_input['attention_mask'])\n",
    "  # Normalize embeddings\n",
    "  text_embeddings = F.normalize(text_embeddings, p=2, dim=1)\n",
    "  return text_embeddings "
   ]
  },
  {
   "cell_type": "markdown",
   "metadata": {},
   "source": [
    "**Select a review to try out the Embedding Logic**"
   ]
  },
  {
   "cell_type": "code",
   "execution_count": 12,
   "metadata": {},
   "outputs": [
    {
     "data": {
      "text/markdown": [
       "(198, 32): This uber-informal wine has faint aromas that recall pressed wildflower and a whiff of pear. The simple, diluted palate shows hints of apple skin and a bitter medicinal note alongside brisk acidity."
      ],
      "text/plain": [
       "<IPython.core.display.Markdown object>"
      ]
     },
     "metadata": {},
     "output_type": "display_data"
    },
    {
     "data": {
      "text/markdown": [
       "(168, 25): lechthaler di uber informal wine faint aroma recall press wildflower whiff pear simple diluted palate show hint apple skin bitter medicinal note alongside brisk acidity"
      ],
      "text/plain": [
       "<IPython.core.display.Markdown object>"
      ]
     },
     "metadata": {},
     "output_type": "display_data"
    }
   ],
   "source": [
    "review = wine_dataset[2]\n",
    "description = review['description']\n",
    "tokens = review['preprocessed_description']\n",
    "display(Markdown(f'({len(description)}, {len(description.split(' '))}): ' + description))\n",
    "display(Markdown(f'({len(tokens)}, {len(tokens.split(' '))}): ' + tokens))"
   ]
  },
  {
   "cell_type": "markdown",
   "metadata": {},
   "source": [
    "**Try the Embedding Logic**"
   ]
  },
  {
   "cell_type": "code",
   "execution_count": 13,
   "metadata": {},
   "outputs": [
    {
     "name": "stdout",
     "output_type": "stream",
     "text": [
      "(1, 768) (1, 768)\n"
     ]
    }
   ],
   "source": [
    "print(get_embeddings(description).detach().cpu().numpy().shape, get_embeddings(tokens).detach().cpu().numpy().shape)"
   ]
  },
  {
   "cell_type": "markdown",
   "metadata": {},
   "source": [
    "**Apply Embeddings on Vector of Descriptions**"
   ]
  },
  {
   "cell_type": "code",
   "execution_count": 14,
   "metadata": {},
   "outputs": [
    {
     "name": "stderr",
     "output_type": "stream",
     "text": [
      "huggingface/tokenizers: The current process just got forked, after parallelism has already been used. Disabling parallelism to avoid deadlocks...\n",
      "To disable this warning, you can either:\n",
      "\t- Avoid using `tokenizers` before the fork if possible\n",
      "\t- Explicitly set the environment variable TOKENIZERS_PARALLELISM=(true | false)\n"
     ]
    },
    {
     "data": {
      "application/vnd.jupyter.widget-view+json": {
       "model_id": "a4f0402a9e8c4176bc525bfc9b7cc013",
       "version_major": 2,
       "version_minor": 0
      },
      "text/plain": [
       "Map:   0%|          | 0/1000 [00:00<?, ? examples/s]"
      ]
     },
     "metadata": {},
     "output_type": "display_data"
    },
    {
     "data": {
      "text/markdown": [
       "It took 1 minutes to compute embeddings for 1,000 samples.  It will take 150 minutes to compute embeddings for 100,538 reviews."
      ],
      "text/plain": [
       "<IPython.core.display.Markdown object>"
      ]
     },
     "metadata": {},
     "output_type": "display_data"
    }
   ],
   "source": [
    "import time\n",
    "\n",
    "start = time.perf_counter()\n",
    "# Now create new embeddings column for entire dataset\n",
    "embeddings_dataset = wine_dataset.map(\n",
    "    lambda x: {'embeddings': get_embeddings(x['description'])\n",
    "    .detach().cpu().numpy()})\n",
    "elapsed = time.perf_counter() - start\n",
    "display(Markdown(f'It took {elapsed/60:.0f} minutes to compute embeddings for {wine_dataset.num_rows:,d} samples.  It will take {df.shape[0]/s.shape[0]*elapsed/60:.0f} minutes to compute embeddings for {df.shape[0]:,d} reviews.'))\n",
    "embeddings_dataset\n"
   ]
  },
  {
   "cell_type": "code",
   "execution_count": 15,
   "metadata": {},
   "outputs": [
    {
     "data": {
      "text/plain": [
       "Dataset({\n",
       "    features: ['country', 'description', 'points', 'price', 'taster_name', 'title', 'variety', 'winery', 'year', 'wine_style', 'type', 'quality', 'classification', 'location', 'band', 'preprocessed_description', '__index_level_0__', 'embeddings'],\n",
       "    num_rows: 1000\n",
       "})"
      ]
     },
     "execution_count": 15,
     "metadata": {},
     "output_type": "execute_result"
    }
   ],
   "source": [
    "embeddings_dataset"
   ]
  },
  {
   "cell_type": "code",
   "execution_count": 17,
   "metadata": {},
   "outputs": [
    {
     "data": {
      "text/plain": [
       "(1, 768)"
      ]
     },
     "execution_count": 17,
     "metadata": {},
     "output_type": "execute_result"
    }
   ],
   "source": [
    "## TODO determine what this does\n",
    "embeddings_dataset = embeddings_dataset.with_format(\"np\")\n",
    "embeddings_dataset[1]['embeddings'].shape"
   ]
  },
  {
   "cell_type": "code",
   "execution_count": 18,
   "metadata": {},
   "outputs": [
    {
     "data": {
      "application/vnd.jupyter.widget-view+json": {
       "model_id": "e7b51051a1744b76ab96c6b0281f1eb2",
       "version_major": 2,
       "version_minor": 0
      },
      "text/plain": [
       "Map:   0%|          | 0/1000 [00:00<?, ? examples/s]"
      ]
     },
     "metadata": {},
     "output_type": "display_data"
    },
    {
     "data": {
      "text/plain": [
       "(768,)"
      ]
     },
     "execution_count": 18,
     "metadata": {},
     "output_type": "execute_result"
    }
   ],
   "source": [
    "# Reformat so can work with FAISS\n",
    "def process_embeddings(example):\n",
    "    example['embeddings'] = np.squeeze(example['embeddings']).astype(np.float32)\n",
    "    return example\n",
    "\n",
    "embeddings_dataset = embeddings_dataset.map(process_embeddings)\n",
    "\n",
    "embeddings_dataset[1]['embeddings'].shape"
   ]
  },
  {
   "cell_type": "code",
   "execution_count": 20,
   "metadata": {},
   "outputs": [
    {
     "data": {
      "text/plain": [
       "Dataset({\n",
       "    features: ['country', 'description', 'points', 'price', 'taster_name', 'title', 'variety', 'winery', 'year', 'wine_style', 'type', 'quality', 'classification', 'location', 'band', 'preprocessed_description', 'embeddings'],\n",
       "    num_rows: 1000\n",
       "})"
      ]
     },
     "execution_count": 20,
     "metadata": {},
     "output_type": "execute_result"
    }
   ],
   "source": [
    "columns_to_remove = ['__index_level_0__']\n",
    "embeddings_dataset = embeddings_dataset.remove_columns(columns_to_remove)\n",
    "embeddings_dataset"
   ]
  },
  {
   "cell_type": "code",
   "execution_count": 22,
   "metadata": {},
   "outputs": [
    {
     "data": {
      "application/vnd.jupyter.widget-view+json": {
       "model_id": "ce6adbf4968a46bda2971e5626329e5f",
       "version_major": 2,
       "version_minor": 0
      },
      "text/plain": [
       "Saving the dataset (0/1 shards):   0%|          | 0/1000 [00:00<?, ? examples/s]"
      ]
     },
     "metadata": {},
     "output_type": "display_data"
    }
   ],
   "source": [
    "# embeddings_dataset = embeddings_dataset.drop_index(\"embeddings\")\n",
    "# ds_path = \"files/wine_embeddings.hf\"\n",
    "new_ds_path = \"files/wine_ds.hf\"\n",
    "embeddings_dataset.save_to_disk(new_ds_path)"
   ]
  },
  {
   "cell_type": "markdown",
   "metadata": {},
   "source": [
    "**Similarity Search with FAISS**"
   ]
  },
  {
   "cell_type": "code",
   "execution_count": 23,
   "metadata": {},
   "outputs": [
    {
     "name": "stdout",
     "output_type": "stream",
     "text": [
      "(768,)\n",
      "1000\n"
     ]
    }
   ],
   "source": [
    "print(embeddings_dataset['embeddings'][0].shape)  # shape of an individual sentence embedding\n",
    "print(len(embeddings_dataset['embeddings']))  # number of sentence embeddings in the \"embeddings\" column"
   ]
  },
  {
   "cell_type": "code",
   "execution_count": 24,
   "metadata": {},
   "outputs": [
    {
     "data": {
      "application/vnd.jupyter.widget-view+json": {
       "model_id": "0e761de07fed4b6c875be54b97370dfb",
       "version_major": 2,
       "version_minor": 0
      },
      "text/plain": [
       "  0%|          | 0/1 [00:00<?, ?it/s]"
      ]
     },
     "metadata": {},
     "output_type": "display_data"
    },
    {
     "data": {
      "text/plain": [
       "Dataset({\n",
       "    features: ['country', 'description', 'points', 'price', 'taster_name', 'title', 'variety', 'winery', 'year', 'wine_style', 'type', 'quality', 'classification', 'location', 'band', 'preprocessed_description', 'embeddings'],\n",
       "    num_rows: 1000\n",
       "})"
      ]
     },
     "execution_count": 24,
     "metadata": {},
     "output_type": "execute_result"
    }
   ],
   "source": [
    "embeddings_dataset.add_faiss_index(column=\"embeddings\")"
   ]
  },
  {
   "cell_type": "code",
   "execution_count": 25,
   "metadata": {},
   "outputs": [],
   "source": [
    "test_embedding = embeddings_dataset['embeddings'][132]\n",
    "\n",
    "scores, samples = embeddings_dataset.get_nearest_examples(\n",
    "    \"embeddings\", test_embedding, k=10)"
   ]
  },
  {
   "cell_type": "code",
   "execution_count": 26,
   "metadata": {},
   "outputs": [
    {
     "data": {
      "text/plain": [
       "array(['Seifried 2007 Sauvignon Blanc (Nelson)',\n",
       "       'Cascina Adelaide 2013 Pernanno  (Barolo)',\n",
       "       'Errazuriz 2009 Estate Carmenère (Central Valley)',\n",
       "       'Cave de Kientzheim-Kaysersberg 2010 The Furst Pinot Blanc (Alsace)',\n",
       "       'Tenuta Carretta 2008 Bordino  (Barbaresco)',\n",
       "       'Henri de Villamont 2009 Clos St-Jean Premier Cru  (Chassagne-Montrachet)',\n",
       "       'Galadino 2010 Riserva  (Chianti Classico)',\n",
       "       'Jardin 2007 Syrah (Stellenbosch)',\n",
       "       'Marchesi Antinori 2012 Riserva  (Chianti Classico)',\n",
       "       'Kerloo 2013 Les Collines Limited Release Syrah (Walla Walla Valley (WA))'],\n",
       "      dtype='<U72')"
      ]
     },
     "execution_count": 26,
     "metadata": {},
     "output_type": "execute_result"
    }
   ],
   "source": [
    "samples['title']"
   ]
  },
  {
   "cell_type": "code",
   "execution_count": 27,
   "metadata": {},
   "outputs": [
    {
     "name": "stdout",
     "output_type": "stream",
     "text": [
      "Intensely perfumed, this is herbal but ripe, too, with fig and melon fruit aromas. It's boldly flavored in the same vein, with the only quibble being that it finishes a little short. A solid effort.\n",
      "This has subdued aromas suggesting aromatic herb, forest floor, truffle and a whiff of leather. It's assertive and rather lean in terms of fruit richness, displaying sour cherry, pomegranate, espresso, clove and a note of powdered sage. Tight, grainy tannins leave a firm finish.\n",
      "Herbal, brambly aromas mix with dark berry, mocha and vanilla aromas, while the palate is creamy and soft, with herbal, almost vegetal flavors and not much defined fruit or clarity. Finishes as herbal as it starts, with coffee and green tobacco flavors.\n",
      "This is fruity, fragrant and fresh. It has creamed pear and tangy orange flavors that are laced with bright acidity. The crisp lime note gives a final refreshing burst.\n",
      "Simple and linear, this has a mixed berry aroma, with notes of licorice, leather and dried tobacco. It's plush, fresh and shows power on the finish.\n",
      "This is aromatic, with ripeness that balances the bright green and white fruits. Wood and spice notes are followed by a touch of lemon jelly and minerally acidity. It's a wine that is still developing, waiting for the ripe fruit of the vintage to surface.\n",
      "This opens with an unusual aroma that recalls floral air freshener, roasted coffee bean and a medicinal note. The palate is diluted with jumbled flavors of red apple skin, small berries and toasted walnuts. It has a green, bitter finish.\n",
      "A good amount of earthy spice, tea leaves and forrest floor lead the way on the nose, but the black cherry and berry fruit aromas follow shortly after with an additional accent of sweet cured meat. Medium weight and lush, the creamy mouth transitions into a finish loaded with sweet spice and bittersweet cocoa.\n",
      "A blend of 90% Sangiovese and 10% Cabernet Sauvignon, this has enticing scents of fragrant blue flower, wild berry, anise and a whiff of exotic spice. The palate boasts structure and finesse, offering black cherry, cinnamon, white pepper and a hint of tobacco backed up by lithe tannins and bright acidity.\n",
      "The dried herb and violet aromas are high toned, seeming locked up still. The floral and smoked meat flavors are elegant in style, backed by lightly grainy tannins and a flower filled finish. The focus is on delicacy and nuance, and it brings plenty of both.\n"
     ]
    }
   ],
   "source": [
    "for d in samples['description']:\n",
    "    print(d)"
   ]
  },
  {
   "cell_type": "code",
   "execution_count": 28,
   "metadata": {},
   "outputs": [
    {
     "data": {
      "text/plain": [
       "array([0.        , 0.40508103, 0.4902803 , 0.49871844, 0.51951927,\n",
       "       0.5293214 , 0.537715  , 0.5437931 , 0.5476136 , 0.5484359 ],\n",
       "      dtype=float32)"
      ]
     },
     "execution_count": 28,
     "metadata": {},
     "output_type": "execute_result"
    }
   ],
   "source": [
    "scores"
   ]
  },
  {
   "cell_type": "code",
   "execution_count": 43,
   "metadata": {},
   "outputs": [
    {
     "data": {
      "text/html": [
       "<div>\n",
       "<style scoped>\n",
       "    .dataframe tbody tr th:only-of-type {\n",
       "        vertical-align: middle;\n",
       "    }\n",
       "\n",
       "    .dataframe tbody tr th {\n",
       "        vertical-align: top;\n",
       "    }\n",
       "\n",
       "    .dataframe thead th {\n",
       "        text-align: right;\n",
       "    }\n",
       "</style>\n",
       "<table border=\"1\" class=\"dataframe\">\n",
       "  <thead>\n",
       "    <tr style=\"text-align: right;\">\n",
       "      <th></th>\n",
       "      <th>country</th>\n",
       "      <th>description</th>\n",
       "      <th>points</th>\n",
       "      <th>price</th>\n",
       "      <th>taster_name</th>\n",
       "      <th>title</th>\n",
       "      <th>variety</th>\n",
       "      <th>winery</th>\n",
       "      <th>year</th>\n",
       "      <th>wine_style</th>\n",
       "      <th>type</th>\n",
       "      <th>quality</th>\n",
       "      <th>classification</th>\n",
       "      <th>location</th>\n",
       "      <th>band</th>\n",
       "      <th>preprocessed_description</th>\n",
       "      <th>embeddings</th>\n",
       "      <th>scores</th>\n",
       "    </tr>\n",
       "  </thead>\n",
       "  <tbody>\n",
       "    <tr>\n",
       "      <th>9</th>\n",
       "      <td>US</td>\n",
       "      <td>The dried herb and violet aromas are high tone...</td>\n",
       "      <td>91</td>\n",
       "      <td>48.0</td>\n",
       "      <td>Sean P. Sullivan</td>\n",
       "      <td>Kerloo 2013 Les Collines Limited Release Syrah...</td>\n",
       "      <td>Syrah</td>\n",
       "      <td>Kerloo</td>\n",
       "      <td>2013</td>\n",
       "      <td>full_red</td>\n",
       "      <td>red</td>\n",
       "      <td>high</td>\n",
       "      <td>New World</td>\n",
       "      <td>Washington</td>\n",
       "      <td>ultra</td>\n",
       "      <td>dry herb violet aroma high toned lock floral s...</td>\n",
       "      <td>[0.034957066, 0.049313437, -0.031035056, -0.00...</td>\n",
       "      <td>0.548436</td>\n",
       "    </tr>\n",
       "    <tr>\n",
       "      <th>8</th>\n",
       "      <td>Italy</td>\n",
       "      <td>A blend of 90% Sangiovese and 10% Cabernet Sau...</td>\n",
       "      <td>92</td>\n",
       "      <td>45.0</td>\n",
       "      <td>Kerin O’Keefe</td>\n",
       "      <td>Marchesi Antinori 2012 Riserva  (Chianti Class...</td>\n",
       "      <td>Red Blend</td>\n",
       "      <td>Marchesi Antinori</td>\n",
       "      <td>2012</td>\n",
       "      <td>medium_red</td>\n",
       "      <td>red</td>\n",
       "      <td>high</td>\n",
       "      <td>Old World</td>\n",
       "      <td>Tuscany</td>\n",
       "      <td>ultra</td>\n",
       "      <td>blend % % enticing scent fragrant blue flowe...</td>\n",
       "      <td>[0.017769974, 0.019162761, -0.033497773, 0.001...</td>\n",
       "      <td>0.547614</td>\n",
       "    </tr>\n",
       "    <tr>\n",
       "      <th>7</th>\n",
       "      <td>South Africa</td>\n",
       "      <td>A good amount of earthy spice, tea leaves and ...</td>\n",
       "      <td>89</td>\n",
       "      <td>19.0</td>\n",
       "      <td>Lauren Buzzeo</td>\n",
       "      <td>Jardin 2007 Syrah (Stellenbosch)</td>\n",
       "      <td>Syrah</td>\n",
       "      <td>Jardin</td>\n",
       "      <td>2007</td>\n",
       "      <td>full_red</td>\n",
       "      <td>red</td>\n",
       "      <td>medium</td>\n",
       "      <td>New World</td>\n",
       "      <td>Stellenbosch</td>\n",
       "      <td>premium</td>\n",
       "      <td>good earthy spice tea leave lead way nose blac...</td>\n",
       "      <td>[0.055925604, 0.045839585, -0.031539824, -0.03...</td>\n",
       "      <td>0.543793</td>\n",
       "    </tr>\n",
       "    <tr>\n",
       "      <th>6</th>\n",
       "      <td>Italy</td>\n",
       "      <td>This opens with an unusual aroma that recalls ...</td>\n",
       "      <td>83</td>\n",
       "      <td>7.0</td>\n",
       "      <td>Kerin O’Keefe</td>\n",
       "      <td>Galadino 2010 Riserva  (Chianti Classico)</td>\n",
       "      <td>Red Blend</td>\n",
       "      <td>Galadino</td>\n",
       "      <td>2010</td>\n",
       "      <td>medium_red</td>\n",
       "      <td>red</td>\n",
       "      <td>medium</td>\n",
       "      <td>Old World</td>\n",
       "      <td>Tuscany</td>\n",
       "      <td>value</td>\n",
       "      <td>open unusual aroma recall floral air freshen...</td>\n",
       "      <td>[0.0673587, 0.04662612, -0.023410415, -0.02665...</td>\n",
       "      <td>0.537715</td>\n",
       "    </tr>\n",
       "    <tr>\n",
       "      <th>5</th>\n",
       "      <td>France</td>\n",
       "      <td>This is aromatic, with ripeness that balances ...</td>\n",
       "      <td>91</td>\n",
       "      <td>65.0</td>\n",
       "      <td>Roger Voss</td>\n",
       "      <td>Henri de Villamont 2009 Clos St-Jean Premier C...</td>\n",
       "      <td>Chardonnay</td>\n",
       "      <td>Henri de Villamont</td>\n",
       "      <td>2009</td>\n",
       "      <td>full_white</td>\n",
       "      <td>white</td>\n",
       "      <td>high</td>\n",
       "      <td>Old World</td>\n",
       "      <td>Burgundy</td>\n",
       "      <td>luxury</td>\n",
       "      <td>aromatic ripeness balance bright green white...</td>\n",
       "      <td>[0.031131092, 0.053116564, -0.010044775, 0.001...</td>\n",
       "      <td>0.529321</td>\n",
       "    </tr>\n",
       "    <tr>\n",
       "      <th>4</th>\n",
       "      <td>Italy</td>\n",
       "      <td>Simple and linear, this has a mixed berry arom...</td>\n",
       "      <td>87</td>\n",
       "      <td>45.0</td>\n",
       "      <td>Unknown</td>\n",
       "      <td>Tenuta Carretta 2008 Bordino  (Barbaresco)</td>\n",
       "      <td>Nebbiolo</td>\n",
       "      <td>Tenuta Carretta</td>\n",
       "      <td>2008</td>\n",
       "      <td>full_red</td>\n",
       "      <td>red</td>\n",
       "      <td>medium</td>\n",
       "      <td>Old World</td>\n",
       "      <td>Piedmont</td>\n",
       "      <td>ultra</td>\n",
       "      <td>simple linear mixed berry aroma note licoric...</td>\n",
       "      <td>[0.049561225, 0.03669533, -0.01353773, 0.01468...</td>\n",
       "      <td>0.519519</td>\n",
       "    </tr>\n",
       "    <tr>\n",
       "      <th>3</th>\n",
       "      <td>France</td>\n",
       "      <td>This is fruity, fragrant and fresh. It has cre...</td>\n",
       "      <td>85</td>\n",
       "      <td>NaN</td>\n",
       "      <td>Roger Voss</td>\n",
       "      <td>Cave de Kientzheim-Kaysersberg 2010 The Furst ...</td>\n",
       "      <td>Pinot Blanc</td>\n",
       "      <td>Cave de Kientzheim-Kaysersberg</td>\n",
       "      <td>2010</td>\n",
       "      <td>light_white</td>\n",
       "      <td>white</td>\n",
       "      <td>medium</td>\n",
       "      <td>Old World</td>\n",
       "      <td>Alsace</td>\n",
       "      <td>None</td>\n",
       "      <td>de fruity fragrant fresh cream pear tangy oran...</td>\n",
       "      <td>[0.03936654, 0.025942875, -0.014210853, -0.030...</td>\n",
       "      <td>0.498718</td>\n",
       "    </tr>\n",
       "    <tr>\n",
       "      <th>2</th>\n",
       "      <td>Chile</td>\n",
       "      <td>Herbal, brambly aromas mix with dark berry, mo...</td>\n",
       "      <td>84</td>\n",
       "      <td>12.0</td>\n",
       "      <td>Michael Schachner</td>\n",
       "      <td>Errazuriz 2009 Estate Carmenère (Central Valley)</td>\n",
       "      <td>Carmenère</td>\n",
       "      <td>Errazuriz</td>\n",
       "      <td>2009</td>\n",
       "      <td>medium_red</td>\n",
       "      <td>red</td>\n",
       "      <td>medium</td>\n",
       "      <td>New World</td>\n",
       "      <td>Central Valley</td>\n",
       "      <td>value</td>\n",
       "      <td>brambly aroma mix dark berry mocha vanilla aro...</td>\n",
       "      <td>[0.052927148, 0.029348643, -0.02238213, -0.022...</td>\n",
       "      <td>0.490280</td>\n",
       "    </tr>\n",
       "    <tr>\n",
       "      <th>1</th>\n",
       "      <td>Italy</td>\n",
       "      <td>This has subdued aromas suggesting aromatic he...</td>\n",
       "      <td>88</td>\n",
       "      <td>70.0</td>\n",
       "      <td>Kerin O’Keefe</td>\n",
       "      <td>Cascina Adelaide 2013 Pernanno  (Barolo)</td>\n",
       "      <td>Nebbiolo</td>\n",
       "      <td>Cascina Adelaide</td>\n",
       "      <td>2013</td>\n",
       "      <td>full_red</td>\n",
       "      <td>red</td>\n",
       "      <td>medium</td>\n",
       "      <td>Old World</td>\n",
       "      <td>Piedmont</td>\n",
       "      <td>luxury</td>\n",
       "      <td>subdue aroma suggest aromatic herb forest fl...</td>\n",
       "      <td>[0.048809845, 0.06395473, -0.019677524, 0.0070...</td>\n",
       "      <td>0.405081</td>\n",
       "    </tr>\n",
       "    <tr>\n",
       "      <th>0</th>\n",
       "      <td>New Zealand</td>\n",
       "      <td>Intensely perfumed, this is herbal but ripe, t...</td>\n",
       "      <td>87</td>\n",
       "      <td>18.0</td>\n",
       "      <td>Joe Czerwinski</td>\n",
       "      <td>Seifried 2007 Sauvignon Blanc (Nelson)</td>\n",
       "      <td>Sauvignon Blanc</td>\n",
       "      <td>Seifried</td>\n",
       "      <td>2007</td>\n",
       "      <td>light_white</td>\n",
       "      <td>white</td>\n",
       "      <td>medium</td>\n",
       "      <td>New World</td>\n",
       "      <td>Nelson</td>\n",
       "      <td>premium</td>\n",
       "      <td>intensely perfumed herbal ripe fig melon fruit...</td>\n",
       "      <td>[0.059339624, 0.0740464, -0.016037049, 0.00760...</td>\n",
       "      <td>0.000000</td>\n",
       "    </tr>\n",
       "  </tbody>\n",
       "</table>\n",
       "</div>"
      ],
      "text/plain": [
       "        country                                        description  points  \\\n",
       "9            US  The dried herb and violet aromas are high tone...      91   \n",
       "8         Italy  A blend of 90% Sangiovese and 10% Cabernet Sau...      92   \n",
       "7  South Africa  A good amount of earthy spice, tea leaves and ...      89   \n",
       "6         Italy  This opens with an unusual aroma that recalls ...      83   \n",
       "5        France  This is aromatic, with ripeness that balances ...      91   \n",
       "4         Italy  Simple and linear, this has a mixed berry arom...      87   \n",
       "3        France  This is fruity, fragrant and fresh. It has cre...      85   \n",
       "2         Chile  Herbal, brambly aromas mix with dark berry, mo...      84   \n",
       "1         Italy  This has subdued aromas suggesting aromatic he...      88   \n",
       "0   New Zealand  Intensely perfumed, this is herbal but ripe, t...      87   \n",
       "\n",
       "   price        taster_name  \\\n",
       "9   48.0   Sean P. Sullivan   \n",
       "8   45.0      Kerin O’Keefe   \n",
       "7   19.0      Lauren Buzzeo   \n",
       "6    7.0      Kerin O’Keefe   \n",
       "5   65.0         Roger Voss   \n",
       "4   45.0            Unknown   \n",
       "3    NaN         Roger Voss   \n",
       "2   12.0  Michael Schachner   \n",
       "1   70.0      Kerin O’Keefe   \n",
       "0   18.0     Joe Czerwinski   \n",
       "\n",
       "                                               title          variety  \\\n",
       "9  Kerloo 2013 Les Collines Limited Release Syrah...            Syrah   \n",
       "8  Marchesi Antinori 2012 Riserva  (Chianti Class...        Red Blend   \n",
       "7                   Jardin 2007 Syrah (Stellenbosch)            Syrah   \n",
       "6          Galadino 2010 Riserva  (Chianti Classico)        Red Blend   \n",
       "5  Henri de Villamont 2009 Clos St-Jean Premier C...       Chardonnay   \n",
       "4         Tenuta Carretta 2008 Bordino  (Barbaresco)         Nebbiolo   \n",
       "3  Cave de Kientzheim-Kaysersberg 2010 The Furst ...      Pinot Blanc   \n",
       "2   Errazuriz 2009 Estate Carmenère (Central Valley)        Carmenère   \n",
       "1           Cascina Adelaide 2013 Pernanno  (Barolo)         Nebbiolo   \n",
       "0             Seifried 2007 Sauvignon Blanc (Nelson)  Sauvignon Blanc   \n",
       "\n",
       "                           winery  year   wine_style   type quality  \\\n",
       "9                          Kerloo  2013     full_red    red    high   \n",
       "8               Marchesi Antinori  2012   medium_red    red    high   \n",
       "7                          Jardin  2007     full_red    red  medium   \n",
       "6                        Galadino  2010   medium_red    red  medium   \n",
       "5              Henri de Villamont  2009   full_white  white    high   \n",
       "4                 Tenuta Carretta  2008     full_red    red  medium   \n",
       "3  Cave de Kientzheim-Kaysersberg  2010  light_white  white  medium   \n",
       "2                       Errazuriz  2009   medium_red    red  medium   \n",
       "1                Cascina Adelaide  2013     full_red    red  medium   \n",
       "0                        Seifried  2007  light_white  white  medium   \n",
       "\n",
       "  classification        location     band  \\\n",
       "9      New World      Washington    ultra   \n",
       "8      Old World         Tuscany    ultra   \n",
       "7      New World    Stellenbosch  premium   \n",
       "6      Old World         Tuscany    value   \n",
       "5      Old World        Burgundy   luxury   \n",
       "4      Old World        Piedmont    ultra   \n",
       "3      Old World          Alsace     None   \n",
       "2      New World  Central Valley    value   \n",
       "1      Old World        Piedmont   luxury   \n",
       "0      New World          Nelson  premium   \n",
       "\n",
       "                            preprocessed_description  \\\n",
       "9  dry herb violet aroma high toned lock floral s...   \n",
       "8    blend % % enticing scent fragrant blue flowe...   \n",
       "7  good earthy spice tea leave lead way nose blac...   \n",
       "6    open unusual aroma recall floral air freshen...   \n",
       "5    aromatic ripeness balance bright green white...   \n",
       "4    simple linear mixed berry aroma note licoric...   \n",
       "3  de fruity fragrant fresh cream pear tangy oran...   \n",
       "2  brambly aroma mix dark berry mocha vanilla aro...   \n",
       "1    subdue aroma suggest aromatic herb forest fl...   \n",
       "0  intensely perfumed herbal ripe fig melon fruit...   \n",
       "\n",
       "                                          embeddings    scores  \n",
       "9  [0.034957066, 0.049313437, -0.031035056, -0.00...  0.548436  \n",
       "8  [0.017769974, 0.019162761, -0.033497773, 0.001...  0.547614  \n",
       "7  [0.055925604, 0.045839585, -0.031539824, -0.03...  0.543793  \n",
       "6  [0.0673587, 0.04662612, -0.023410415, -0.02665...  0.537715  \n",
       "5  [0.031131092, 0.053116564, -0.010044775, 0.001...  0.529321  \n",
       "4  [0.049561225, 0.03669533, -0.01353773, 0.01468...  0.519519  \n",
       "3  [0.03936654, 0.025942875, -0.014210853, -0.030...  0.498718  \n",
       "2  [0.052927148, 0.029348643, -0.02238213, -0.022...  0.490280  \n",
       "1  [0.048809845, 0.06395473, -0.019677524, 0.0070...  0.405081  \n",
       "0  [0.059339624, 0.0740464, -0.016037049, 0.00760...  0.000000  "
      ]
     },
     "execution_count": 43,
     "metadata": {},
     "output_type": "execute_result"
    }
   ],
   "source": [
    "samples_df = pd.DataFrame({c: list(samples[c]) for c in samples})\n",
    "samples_df['scores'] = scores\n",
    "samples_df.sort_values('scores', ascending=False, inplace=True)\n",
    "samples_df"
   ]
  },
  {
   "cell_type": "code",
   "execution_count": 29,
   "metadata": {},
   "outputs": [],
   "source": [
    "faiss_index_path = \"files/wine_faiss_index.faiss\" \n",
    "embeddings_dataset.save_faiss_index('embeddings', faiss_index_path)"
   ]
  },
  {
   "cell_type": "code",
   "execution_count": 31,
   "metadata": {},
   "outputs": [],
   "source": [
    "# When reloading\n",
    "from datasets import load_dataset, load_from_disk\n",
    "ds_path = \"files/wine_embeddings.hf\"\n",
    "faiss_index_path = \"files/wine_faiss_index.faiss\" \n",
    "\n",
    "ds = load_from_disk(new_ds_path)\n",
    "ds.load_faiss_index('embeddings', faiss_index_path)"
   ]
  },
  {
   "cell_type": "markdown",
   "metadata": {},
   "source": [
    "**Compute Embeddings on Entire Dataset**"
   ]
  },
  {
   "cell_type": "code",
   "execution_count": 44,
   "metadata": {},
   "outputs": [
    {
     "name": "stdout",
     "output_type": "stream",
     "text": [
      "<class 'pandas.core.frame.DataFrame'>\n",
      "Index: 100538 entries, 0 to 129970\n",
      "Data columns (total 16 columns):\n",
      " #   Column                    Non-Null Count   Dtype  \n",
      "---  ------                    --------------   -----  \n",
      " 0   country                   100538 non-null  object \n",
      " 1   description               100538 non-null  object \n",
      " 2   points                    100538 non-null  int64  \n",
      " 3   price                     93522 non-null   float64\n",
      " 4   taster_name               100538 non-null  object \n",
      " 5   title                     100538 non-null  object \n",
      " 6   variety                   100538 non-null  object \n",
      " 7   winery                    100538 non-null  object \n",
      " 8   year                      100538 non-null  int64  \n",
      " 9   wine_style                100538 non-null  object \n",
      " 10  type                      100538 non-null  object \n",
      " 11  quality                   100538 non-null  object \n",
      " 12  classification            100538 non-null  object \n",
      " 13  location                  100538 non-null  object \n",
      " 14  band                      93522 non-null   object \n",
      " 15  preprocessed_description  100538 non-null  object \n",
      "dtypes: float64(1), int64(2), object(13)\n",
      "memory usage: 13.0+ MB\n"
     ]
    }
   ],
   "source": [
    "df.info()"
   ]
  },
  {
   "cell_type": "code",
   "execution_count": 45,
   "metadata": {},
   "outputs": [
    {
     "data": {
      "application/vnd.jupyter.widget-view+json": {
       "model_id": "40d9d286d7f842b18b25990c24e24fba",
       "version_major": 2,
       "version_minor": 0
      },
      "text/plain": [
       "Map:   0%|          | 0/100538 [00:00<?, ? examples/s]"
      ]
     },
     "metadata": {},
     "output_type": "display_data"
    },
    {
     "data": {
      "text/markdown": [
       "It took 128 minutes to compute embeddings for 100,538 reviews."
      ],
      "text/plain": [
       "<IPython.core.display.Markdown object>"
      ]
     },
     "metadata": {},
     "output_type": "display_data"
    },
    {
     "data": {
      "application/vnd.jupyter.widget-view+json": {
       "model_id": "7d44931bdeb643a6ad340854d04a57bb",
       "version_major": 2,
       "version_minor": 0
      },
      "text/plain": [
       "Map:   0%|          | 0/100538 [00:00<?, ? examples/s]"
      ]
     },
     "metadata": {},
     "output_type": "display_data"
    },
    {
     "data": {
      "application/vnd.jupyter.widget-view+json": {
       "model_id": "21776e0d873e4696a2ec8dcc3efcdb29",
       "version_major": 2,
       "version_minor": 0
      },
      "text/plain": [
       "Saving the dataset (0/1 shards):   0%|          | 0/100538 [00:00<?, ? examples/s]"
      ]
     },
     "metadata": {},
     "output_type": "display_data"
    },
    {
     "data": {
      "application/vnd.jupyter.widget-view+json": {
       "model_id": "4163f8c422d9421b988b979b81e20e61",
       "version_major": 2,
       "version_minor": 0
      },
      "text/plain": [
       "  0%|          | 0/101 [00:00<?, ?it/s]"
      ]
     },
     "metadata": {},
     "output_type": "display_data"
    }
   ],
   "source": [
    "wine_dataset = Dataset.from_pandas(df)\n",
    "\n",
    "start = time.perf_counter()\n",
    "# Now create new embeddings column for entire dataset\n",
    "embeddings_dataset = wine_dataset.map(\n",
    "    lambda x: {'embeddings': get_embeddings(x['description'])\n",
    "    .detach().cpu().numpy()})\n",
    "elapsed = time.perf_counter() - start\n",
    "display(Markdown(f'It took {elapsed/60:.0f} minutes to compute embeddings for {df.shape[0]:,d} reviews.'))\n",
    "\n",
    "# reshape for FAISS index\n",
    "embeddings_dataset = embeddings_dataset.with_format(\"np\")\n",
    "embeddings_dataset = embeddings_dataset.map(process_embeddings)\n",
    "\n",
    "# save embeddings to disk\n",
    "ds_path = \"files/wine_ds.hf\"\n",
    "embeddings_dataset.save_to_disk(ds_path)\n",
    "\n",
    "# add similarity index\n",
    "embeddings_dataset.add_faiss_index(column=\"embeddings\")\n",
    "faiss_index_path = \"files/wine_faiss_index.faiss\"\n",
    "embeddings_dataset.save_faiss_index('embeddings', faiss_index_path)\n"
   ]
  },
  {
   "cell_type": "markdown",
   "metadata": {},
   "source": [
    "**Visualize the Results**"
   ]
  },
  {
   "cell_type": "code",
   "execution_count": 46,
   "metadata": {},
   "outputs": [
    {
     "data": {
      "text/plain": [
       "Dataset({\n",
       "    features: ['country', 'description', 'points', 'price', 'taster_name', 'title', 'variety', 'winery', 'year', 'wine_style', 'type', 'quality', 'classification', 'location', 'band', 'preprocessed_description', '__index_level_0__', 'embeddings'],\n",
       "    num_rows: 100538\n",
       "})"
      ]
     },
     "execution_count": 46,
     "metadata": {},
     "output_type": "execute_result"
    }
   ],
   "source": [
    "ds_path = \"files/wine_ds.hf\"\n",
    "embeddings_dataset = load_from_disk(ds_path)\n",
    "embeddings_dataset"
   ]
  },
  {
   "cell_type": "code",
   "execution_count": 47,
   "metadata": {},
   "outputs": [
    {
     "name": "stdout",
     "output_type": "stream",
     "text": [
      "(768,)\n",
      "100538\n"
     ]
    }
   ],
   "source": [
    "print(embeddings_dataset['embeddings'][0].shape)  # shape of an individual sentence embedding\n",
    "print(len(embeddings_dataset['embeddings']))  # number of sentence embeddings in the \"embeddings\" column"
   ]
  },
  {
   "cell_type": "code",
   "execution_count": 48,
   "metadata": {},
   "outputs": [
    {
     "name": "stdout",
     "output_type": "stream",
     "text": [
      "df shape with duplicates: (100538, 18)\n",
      "df shape without duplicates: (100517, 18)\n"
     ]
    }
   ],
   "source": [
    "# Switching to pandas \n",
    "embeddings_dataset.set_format(\"pandas\")\n",
    "df = embeddings_dataset[:]\n",
    "print(f\"df shape with duplicates: {df.shape}\")\n",
    "df = df.drop_duplicates(subset='description', keep=\"first\")\n",
    "print(f\"df shape without duplicates: {df.shape}\")"
   ]
  },
  {
   "cell_type": "markdown",
   "metadata": {},
   "source": [
    "**Similarity Search with FAISS**"
   ]
  },
  {
   "cell_type": "code",
   "execution_count": 49,
   "metadata": {},
   "outputs": [
    {
     "data": {
      "application/vnd.jupyter.widget-view+json": {
       "model_id": "9e306824761d4c909c7c64d1662e5c7e",
       "version_major": 2,
       "version_minor": 0
      },
      "text/plain": [
       "  0%|          | 0/101 [00:00<?, ?it/s]"
      ]
     },
     "metadata": {},
     "output_type": "display_data"
    },
    {
     "data": {
      "text/plain": [
       "Dataset({\n",
       "    features: ['country', 'description', 'points', 'price', 'taster_name', 'title', 'variety', 'winery', 'year', 'wine_style', 'type', 'quality', 'classification', 'location', 'band', 'preprocessed_description', '__index_level_0__', 'embeddings'],\n",
       "    num_rows: 100538\n",
       "})"
      ]
     },
     "execution_count": 49,
     "metadata": {},
     "output_type": "execute_result"
    }
   ],
   "source": [
    "embeddings_dataset.add_faiss_index(column=\"embeddings\")"
   ]
  },
  {
   "cell_type": "code",
   "execution_count": 50,
   "metadata": {},
   "outputs": [
    {
     "data": {
      "text/plain": [
       "0    Carl Graff 2014 Graacher Himmelreich Spätlese ...\n",
       "1                Leonard Kreusch 2016 Riesling (Mosel)\n",
       "2    Dr. Loosen 2015 Wehlener Sonnenuhr Spätlese Ri...\n",
       "3    Landshut 2013 Late Harvest Spätlese Riesling (...\n",
       "4     Covenant 2014 Lavan Chardonnay (Sonoma Mountain)\n",
       "5    Brander 2006 Purisima Mountain Vineyard Sauvig...\n",
       "Name: title, dtype: object"
      ]
     },
     "execution_count": 50,
     "metadata": {},
     "output_type": "execute_result"
    }
   ],
   "source": [
    "# Test query\n",
    "test_embedding = embeddings_dataset['embeddings'][132]\n",
    "scores, samples = embeddings_dataset.get_nearest_examples(\n",
    "    \"embeddings\", test_embedding, k=6)\n",
    "samples['title']"
   ]
  },
  {
   "cell_type": "code",
   "execution_count": 51,
   "metadata": {},
   "outputs": [
    {
     "data": {
      "text/plain": [
       "Index(['country', 'description', 'points', 'price', 'taster_name', 'title',\n",
       "       'variety', 'winery', 'year', 'wine_style', 'type', 'quality',\n",
       "       'classification', 'location', 'band', 'preprocessed_description'],\n",
       "      dtype='object')"
      ]
     },
     "execution_count": 51,
     "metadata": {},
     "output_type": "execute_result"
    }
   ],
   "source": [
    "samples.pop('embeddings')\n",
    "samples.pop('__index_level_0__')\n",
    "samples.keys()"
   ]
  },
  {
   "cell_type": "code",
   "execution_count": 52,
   "metadata": {},
   "outputs": [
    {
     "data": {
      "text/html": [
       "<div>\n",
       "<style scoped>\n",
       "    .dataframe tbody tr th:only-of-type {\n",
       "        vertical-align: middle;\n",
       "    }\n",
       "\n",
       "    .dataframe tbody tr th {\n",
       "        vertical-align: top;\n",
       "    }\n",
       "\n",
       "    .dataframe thead th {\n",
       "        text-align: right;\n",
       "    }\n",
       "</style>\n",
       "<table border=\"1\" class=\"dataframe\">\n",
       "  <thead>\n",
       "    <tr style=\"text-align: right;\">\n",
       "      <th></th>\n",
       "      <th>country</th>\n",
       "      <th>description</th>\n",
       "      <th>points</th>\n",
       "      <th>price</th>\n",
       "      <th>taster_name</th>\n",
       "      <th>title</th>\n",
       "      <th>variety</th>\n",
       "      <th>winery</th>\n",
       "      <th>year</th>\n",
       "      <th>wine_style</th>\n",
       "      <th>type</th>\n",
       "      <th>quality</th>\n",
       "      <th>classification</th>\n",
       "      <th>location</th>\n",
       "      <th>band</th>\n",
       "      <th>preprocessed_description</th>\n",
       "    </tr>\n",
       "  </thead>\n",
       "  <tbody>\n",
       "    <tr>\n",
       "      <th>0</th>\n",
       "      <td>Germany</td>\n",
       "      <td>Approachably fruity yet nuanced and electrifyi...</td>\n",
       "      <td>91</td>\n",
       "      <td>14.0</td>\n",
       "      <td>Anna Lee C. Iijima</td>\n",
       "      <td>Carl Graff 2014 Graacher Himmelreich Spätlese ...</td>\n",
       "      <td>Riesling</td>\n",
       "      <td>Carl Graff</td>\n",
       "      <td>2014</td>\n",
       "      <td>aromatic_white</td>\n",
       "      <td>white</td>\n",
       "      <td>high</td>\n",
       "      <td>Old World</td>\n",
       "      <td>Mosel</td>\n",
       "      <td>popular</td>\n",
       "      <td>approachably fruity nuanced electrifying excep...</td>\n",
       "    </tr>\n",
       "    <tr>\n",
       "      <th>1</th>\n",
       "      <td>Germany</td>\n",
       "      <td>Juicy, sun-kissed citrus and stone fruit flavo...</td>\n",
       "      <td>87</td>\n",
       "      <td>12.0</td>\n",
       "      <td>Anna Lee C. Iijima</td>\n",
       "      <td>Leonard Kreusch 2016 Riesling (Mosel)</td>\n",
       "      <td>Riesling</td>\n",
       "      <td>Leonard Kreusch</td>\n",
       "      <td>2016</td>\n",
       "      <td>aromatic_white</td>\n",
       "      <td>white</td>\n",
       "      <td>medium</td>\n",
       "      <td>Old World</td>\n",
       "      <td>Mosel</td>\n",
       "      <td>value</td>\n",
       "      <td>juicy sun kiss citrus stone fruit flavor strai...</td>\n",
       "    </tr>\n",
       "    <tr>\n",
       "      <th>2</th>\n",
       "      <td>Germany</td>\n",
       "      <td>Veins of crushed slate and spice lend complexi...</td>\n",
       "      <td>92</td>\n",
       "      <td>34.0</td>\n",
       "      <td>Anna Lee C. Iijima</td>\n",
       "      <td>Dr. Loosen 2015 Wehlener Sonnenuhr Spätlese Ri...</td>\n",
       "      <td>Riesling</td>\n",
       "      <td>Dr. Loosen</td>\n",
       "      <td>2015</td>\n",
       "      <td>aromatic_white</td>\n",
       "      <td>white</td>\n",
       "      <td>high</td>\n",
       "      <td>Old World</td>\n",
       "      <td>Mosel</td>\n",
       "      <td>ultra</td>\n",
       "      <td>vein crushed slate spice lend complexity spine...</td>\n",
       "    </tr>\n",
       "    <tr>\n",
       "      <th>3</th>\n",
       "      <td>Germany</td>\n",
       "      <td>Stone fruit and grapefruit flavors are plump a...</td>\n",
       "      <td>88</td>\n",
       "      <td>6.0</td>\n",
       "      <td>Anna Lee C. Iijima</td>\n",
       "      <td>Landshut 2013 Late Harvest Spätlese Riesling (...</td>\n",
       "      <td>Riesling</td>\n",
       "      <td>Landshut</td>\n",
       "      <td>2013</td>\n",
       "      <td>aromatic_white</td>\n",
       "      <td>white</td>\n",
       "      <td>medium</td>\n",
       "      <td>Old World</td>\n",
       "      <td>Rheinhessen</td>\n",
       "      <td>value</td>\n",
       "      <td>late stone fruit grapefruit flavor plump conce...</td>\n",
       "    </tr>\n",
       "    <tr>\n",
       "      <th>4</th>\n",
       "      <td>US</td>\n",
       "      <td>Voluptuous and expansive in texture, this wine...</td>\n",
       "      <td>92</td>\n",
       "      <td>38.0</td>\n",
       "      <td>Virginie Boone</td>\n",
       "      <td>Covenant 2014 Lavan Chardonnay (Sonoma Mountain)</td>\n",
       "      <td>Chardonnay</td>\n",
       "      <td>Covenant</td>\n",
       "      <td>2014</td>\n",
       "      <td>full_white</td>\n",
       "      <td>white</td>\n",
       "      <td>high</td>\n",
       "      <td>New World</td>\n",
       "      <td>California</td>\n",
       "      <td>ultra</td>\n",
       "      <td>covenant voluptuous expansive texture wine off...</td>\n",
       "    </tr>\n",
       "    <tr>\n",
       "      <th>5</th>\n",
       "      <td>US</td>\n",
       "      <td>Rich and layered, this wine expresses the esse...</td>\n",
       "      <td>91</td>\n",
       "      <td>25.0</td>\n",
       "      <td>Unknown</td>\n",
       "      <td>Brander 2006 Purisima Mountain Vineyard Sauvig...</td>\n",
       "      <td>Sauvignon Blanc</td>\n",
       "      <td>Brander</td>\n",
       "      <td>2006</td>\n",
       "      <td>light_white</td>\n",
       "      <td>white</td>\n",
       "      <td>high</td>\n",
       "      <td>New World</td>\n",
       "      <td>California</td>\n",
       "      <td>super</td>\n",
       "      <td>brander rich layered wine express essence vine...</td>\n",
       "    </tr>\n",
       "  </tbody>\n",
       "</table>\n",
       "</div>"
      ],
      "text/plain": [
       "   country                                        description  points  price  \\\n",
       "0  Germany  Approachably fruity yet nuanced and electrifyi...      91   14.0   \n",
       "1  Germany  Juicy, sun-kissed citrus and stone fruit flavo...      87   12.0   \n",
       "2  Germany  Veins of crushed slate and spice lend complexi...      92   34.0   \n",
       "3  Germany  Stone fruit and grapefruit flavors are plump a...      88    6.0   \n",
       "4       US  Voluptuous and expansive in texture, this wine...      92   38.0   \n",
       "5       US  Rich and layered, this wine expresses the esse...      91   25.0   \n",
       "\n",
       "          taster_name                                              title  \\\n",
       "0  Anna Lee C. Iijima  Carl Graff 2014 Graacher Himmelreich Spätlese ...   \n",
       "1  Anna Lee C. Iijima              Leonard Kreusch 2016 Riesling (Mosel)   \n",
       "2  Anna Lee C. Iijima  Dr. Loosen 2015 Wehlener Sonnenuhr Spätlese Ri...   \n",
       "3  Anna Lee C. Iijima  Landshut 2013 Late Harvest Spätlese Riesling (...   \n",
       "4      Virginie Boone   Covenant 2014 Lavan Chardonnay (Sonoma Mountain)   \n",
       "5             Unknown  Brander 2006 Purisima Mountain Vineyard Sauvig...   \n",
       "\n",
       "           variety           winery  year      wine_style   type quality  \\\n",
       "0         Riesling       Carl Graff  2014  aromatic_white  white    high   \n",
       "1         Riesling  Leonard Kreusch  2016  aromatic_white  white  medium   \n",
       "2         Riesling       Dr. Loosen  2015  aromatic_white  white    high   \n",
       "3         Riesling         Landshut  2013  aromatic_white  white  medium   \n",
       "4       Chardonnay         Covenant  2014      full_white  white    high   \n",
       "5  Sauvignon Blanc          Brander  2006     light_white  white    high   \n",
       "\n",
       "  classification     location     band  \\\n",
       "0      Old World        Mosel  popular   \n",
       "1      Old World        Mosel    value   \n",
       "2      Old World        Mosel    ultra   \n",
       "3      Old World  Rheinhessen    value   \n",
       "4      New World   California    ultra   \n",
       "5      New World   California    super   \n",
       "\n",
       "                            preprocessed_description  \n",
       "0  approachably fruity nuanced electrifying excep...  \n",
       "1  juicy sun kiss citrus stone fruit flavor strai...  \n",
       "2  vein crushed slate spice lend complexity spine...  \n",
       "3  late stone fruit grapefruit flavor plump conce...  \n",
       "4  covenant voluptuous expansive texture wine off...  \n",
       "5  brander rich layered wine express essence vine...  "
      ]
     },
     "execution_count": 52,
     "metadata": {},
     "output_type": "execute_result"
    }
   ],
   "source": [
    "samples"
   ]
  },
  {
   "cell_type": "code",
   "execution_count": 53,
   "metadata": {},
   "outputs": [
    {
     "name": "stdout",
     "output_type": "stream",
     "text": [
      "df shape with duplicates: (100538, 18)\n",
      "df shape without duplicates: (100517, 18)\n"
     ]
    }
   ],
   "source": [
    "# Switching to pandas \n",
    "embeddings_dataset.set_format(\"pandas\")\n",
    "df = embeddings_dataset[:]\n",
    "print(f\"df shape with duplicates: {df.shape}\")\n",
    "df = df.drop_duplicates(subset='description', keep=\"first\")\n",
    "print(f\"df shape without duplicates: {df.shape}\")"
   ]
  },
  {
   "cell_type": "code",
   "execution_count": 54,
   "metadata": {},
   "outputs": [
    {
     "data": {
      "text/plain": [
       "(45833, 18)"
      ]
     },
     "execution_count": 54,
     "metadata": {},
     "output_type": "execute_result"
    }
   ],
   "source": [
    "# Subset pandas df\n",
    "subset_df = df.loc[df['country']=='US', :]\n",
    "subset_df.shape"
   ]
  },
  {
   "cell_type": "code",
   "execution_count": 56,
   "metadata": {},
   "outputs": [],
   "source": [
    "# Convert pandas df tof hf ds\n",
    "subset = Dataset.from_pandas(subset_df.drop('__index_level_0__', axis=1))"
   ]
  },
  {
   "cell_type": "code",
   "execution_count": 57,
   "metadata": {},
   "outputs": [
    {
     "data": {
      "application/vnd.jupyter.widget-view+json": {
       "model_id": "8b41c3405e004d8f8a0d089afd39f282",
       "version_major": 2,
       "version_minor": 0
      },
      "text/plain": [
       "  0%|          | 0/46 [00:00<?, ?it/s]"
      ]
     },
     "metadata": {},
     "output_type": "display_data"
    },
    {
     "name": "stdout",
     "output_type": "stream",
     "text": [
      "(768,)\n"
     ]
    },
    {
     "data": {
      "text/plain": [
       "array(['Vino V 2005 White Hawk Vineyard Syrah (Santa Barbara County)',\n",
       "       'Paul Dolan 2013 Cabernet Sauvignon (Mendocino County)',\n",
       "       'Miner 2004 Cabernet Sauvignon (Oakville)',\n",
       "       'Penner-Ash 2014 Palmer Creek Vineyard Pinot Noir (Eola-Amity Hills)',\n",
       "       'Robert Renzoni 2011 VIneyard Riserva Sangiovese (Temecula Valley)',\n",
       "       'Peirano 2013 The Heritage Collection Syrah (Lodi)'], dtype='<U67')"
      ]
     },
     "execution_count": 57,
     "metadata": {},
     "output_type": "execute_result"
    }
   ],
   "source": [
    "# Try and to NN on new subset\n",
    "subset.reset_format()\n",
    "subset = subset.with_format(\"np\")\n",
    "subset.add_faiss_index(column=\"embeddings\")\n",
    "test_embedding = subset['embeddings'][132]\n",
    "print(test_embedding.shape)\n",
    "scores, samples = subset.get_nearest_examples(\n",
    "    \"embeddings\", test_embedding, k=6)\n",
    "samples['title']"
   ]
  },
  {
   "cell_type": "code",
   "execution_count": 58,
   "metadata": {},
   "outputs": [
    {
     "name": "stdout",
     "output_type": "stream",
     "text": [
      "Smells funky, with sweaty leather aromas, although you'll also find varietal notes of the grape. Tastes all right, with blackberries, currants, leather and mocha that are wrapped into firm tannins.\n",
      "The smell of new leather and cigar box continues right into the flavors of this deep-colored, densely textured, quite tannic and full-bodied wine. That funky vein meets deep fruit flavors like black currants, so those who like a little adventure in their wine will love it.\n",
      "The opening scent of funky, sweaty leather is not promising, and indeed, it tastes overly soft and muted. You can sense some good fruit in there, but it's tamped down. The tannins stick out, making the wine awkward and common.\n",
      "The wine from this vineyard has a lightly smoky scent, more of the characteristic tobacco aromas, and a flavorful fruit mix of mulberry, blueberry and blackberry. It's spicy and chunky and generous, ready for near-term drinking.\n",
      "Leather and cooked meats open the nose of this wine from Southern California that also shows aromas of blackberry extract. Once sipped, it offers dark and dense flavors of sweet tar, concentrated violets and a pinch of lavender, all held together by grippy tannins.\n",
      "Aromas and flavors range from charred wood to black cherry to white pepper to wild herbs. The complexity and diversity of tastes is fascinating, a reminder of how wild this grape variety can be. It's full bodied, smooth textured and firmly tannic.\n"
     ]
    }
   ],
   "source": [
    "for d in samples['description']:\n",
    "    print(d)"
   ]
  },
  {
   "cell_type": "code",
   "execution_count": 59,
   "metadata": {},
   "outputs": [],
   "source": [
    "# To reset from pandas to arrow\n",
    "embeddings_dataset.reset_format()"
   ]
  },
  {
   "cell_type": "markdown",
   "metadata": {},
   "source": [
    "**Varieties**"
   ]
  },
  {
   "cell_type": "code",
   "execution_count": 60,
   "metadata": {},
   "outputs": [
    {
     "name": "stdout",
     "output_type": "stream",
     "text": [
      "['White Blend', 'Portuguese Red', 'Pinot Gris', 'Riesling', 'Pinot Noir', 'Gewürztraminer']\n",
      "['Cabernet Sauvignon', 'Chardonnay', 'Malbec', 'Tempranillo Blend', 'Red Blend', 'Merlot']\n",
      "[\"Nero d'Avola\", 'Chenin Blanc', 'Gamay', 'Sauvignon Blanc', 'Bordeaux-style White Blend', 'Sangiovese']\n",
      "['Cabernet Franc', 'Bordeaux-style Red Blend', 'Aglianico', 'Petite Sirah', 'Carmenère', 'Albariño']\n",
      "['Rosé', 'Zinfandel', 'Grüner Veltliner', 'Viognier', 'Syrah', 'Nebbiolo']\n",
      "['Pinot Blanc', 'Barbera', 'Rhône-style Red Blend', 'Portuguese White', 'Sauvignon', 'Sangiovese Grosso']\n",
      "['Verdejo', 'Shiraz', 'Grenache', 'Pinot Grigio', 'Tempranillo', 'Sparkling Blend']\n",
      "['Melon', 'Rhône-style White Blend', 'Champagne Blend', 'Glera', 'Corvina, Rondinella, Molinara', 'Port']\n",
      "['Garnacha', 'Moscato']\n"
     ]
    }
   ],
   "source": [
    "# Create chunks for analysis\n",
    "\n",
    "varieties = list(df.variety.unique())\n",
    "# Determine the chunk size\n",
    "chunk_size = len(varieties) // 8\n",
    "# Split the list into chunks\n",
    "chunks = [varieties[i:i+chunk_size] for i in range(0, len(varieties), chunk_size)]\n",
    "# Handle any remaining elements\n",
    "if len(chunks) < 8:\n",
    "    chunks[-1].extend(varieties[len(chunks)*chunk_size:])\n",
    "\n",
    "#print chunks\n",
    "for i in range(len(chunks)):\n",
    "    print(chunks[i])"
   ]
  },
  {
   "cell_type": "code",
   "execution_count": 61,
   "metadata": {},
   "outputs": [],
   "source": [
    "white = ['White Blend', 'Pinot Gris', 'Riesling', 'Chardonnay', 'Chenin Blanc', 'Sauvignon Blanc', \n",
    "         'Viognier-Chardonnay', 'Catarratto', 'Inzolia', 'Bordeaux-style White Blend', 'Grillo', \n",
    "         'Albariño', 'Petit Manseng', 'Vernaccia', 'Grüner Veltliner', 'Viognier', 'Vermentino', \n",
    "         'Grenache Blanc', 'Pinot Blanc', 'Alsace white blend', 'Portuguese White', 'Verdejo', \n",
    "         'Fumé Blanc', 'Pinot Bianco', 'Ugni Blanc-Colombard', 'Friulano', 'Assyrtico', 'Vignoles', \n",
    "         'Muscat', 'Muscadelle', 'Garganega', 'Pinot Grigio','Cortese', 'Melon', 'Vidal', 'Verdelho', \n",
    "         'Marsanne', 'Vilana', 'Viura', 'Verduzzo', 'Verdicchio', 'Colombard', 'Sylvaner', 'Sémillon', \n",
    "         'Antão Vaz', 'Verdejo-Viura', 'Chenin Blanc-Chardonnay', 'Insolia', 'Ribolla Gialla', \n",
    "         'Weissburgunder', 'Traminer', 'Prié Blanc', 'Müller-Thurgau', 'Pansa Blanca', 'Muskat Ottonel',\n",
    "        'Sauvignon Blanc-Semillon', 'Semillon-Sauvignon Blanc', 'Bical', 'Viura-Chardonnay', 'Malvasia Bianca',\n",
    "         'Rhône-style White Blend', 'Scheurebe', 'Kerner', 'Carricante', 'Fiano', 'Früburgunder', 'Roussanne', \n",
    "         'Avesso', 'Chinuri', 'Muscat Blanc à Petits Grains', 'Xarel-lo', 'Greco', 'Trebbiano', 'Prié Blanc',\n",
    "        'Falanghina', 'Bical', 'Gelber Muskateller', 'Turbiana', 'Refosco', 'Alvarinho', 'Manzoni', 'Assyrtiko', \n",
    "        'Welschriesling', 'Rieslaner', 'Traminette', 'Marsanne-Viognier', 'Gewürztraminer-Riesling', \n",
    "        'Austrian white blend', 'Tocai', 'Chardonnay-Viognier', 'Fernão Pires', 'Seyval Blanc', 'Muscat Canelli', \n",
    "        'Arinto', 'Arneis', 'Malvasia', 'Altesse', 'Blanc du Bois', 'Provence white blend', 'Nosiola', \n",
    "        'Roussanne-Viognier', 'Godello', 'Auxerrois', 'Albana', 'Muskat',  'Grechetto', 'Encruzado', \n",
    "        'Garnacha Blanca', 'Pallagrello', 'Morava', 'Aleatico', 'Nascetta', 'Siria', 'Asprinio', 'Feteascǎ Regalǎ', \n",
    "        'Tocai Friulano', 'Schiava', 'Chardonnay-Semillon', 'Palomino', 'Norton', \n",
    "        'Loureiro-Arinto', 'Symphony', 'Edelzwicker', 'Madeira Blend', 'Gros and Petit Manseng', 'Jacquère', \n",
    "        'Chenin Blanc-Sauvignon Blanc', 'Marzemino', 'Chardonnay-Sauvignon Blanc', 'Trebbiano Spoletino',\n",
    "        'Chasselas', 'Hárslevelü', 'Siegerrebe','Colombard-Sauvignon Blanc', 'Diamond',\n",
    "        'Gros Manseng', 'Muskateller', 'Aligoté', 'Muscat Blanc', 'Viognier-Roussanne', 'Pallagrello Bianco', \n",
    "        'Veltliner', 'Chardonnay-Sauvignon', 'Chenin Blanc-Viognier', 'Vitovska', 'Grauburgunder', 'Macabeo', \n",
    "        'Verdil', 'Treixadura', 'Coda di Volpe', 'Viura-Verdejo', 'Bombino Bianco', 'Pinot-Chardonnay', \n",
    "        \"Muscat d'Alexandrie\", 'Chardonnay-Pinot Gris', 'Chardonnay-Pinot Blanc','Piquepoul Blanc', 'Orange Muscat',\n",
    "        'Ugni Blanc', 'Semillon-Chardonnay', 'Irsai Oliver', 'Greco Bianco', 'Viognier-Grenache Blanc', 'Pignoletto', \n",
    "        'Muscatel', 'White Riesling', 'Hondarrabi Zuri', 'Nuragus', 'Xynisteri', 'Sauvignon Musqué', 'Roussanne-Marsanne', \n",
    "        'Incrocio Manzoni', 'Terrantez', 'Bual', 'Verdejo-Sauvignon Blanc', 'Malvasia-Viura', 'Savatiano', \n",
    "        'Macabeo-Chardonnay', 'Tamjanika', 'Macabeo-Moscatel', 'Códega do Larinho','Pinot Gris-Gewürztraminer',\n",
    "         'Viosinho', 'Paralleda', 'Malvar', 'Airen', 'Erbaluce', 'Verdosilla', 'Aidani', 'Vinhão', 'Rolle', 'Orangetraube', \n",
    "         'Žilavka', 'Portuguiser', 'Gouveio', 'Bombino Nero', 'Malagouzia-Chardonnay', 'Elbling', 'Gragnano', \n",
    "         'Pinot Blanc-Chardonnay', 'Petit Meslier', 'Chardonnay Weissburgunder', 'Robola', 'Folle Blanche', 'Malagouzia', \n",
    "         'Rabigato', 'Sauvignonasse', 'Meseguera', 'Alvarinho-Chardonnay', 'Pinot Blanc-Viognier', 'Biancu Gentile', \n",
    "         'Xinisteri','Moschofilero-Chardonnay','Sauvignon Blanc-Sauvignon Gris', 'Trebbiano di Lugana', 'Verdeca', \n",
    "         'Chardonel', 'Silvaner-Traminer', 'Uvalino', 'Merseguera-Sauvignon Blanc', 'Cayuga', \n",
    "         'Nasco', 'Vital', 'Apple', 'Pinot Grigio-Sauvignon Blanc', 'Valvin Muscat', 'Malvasia Fina', \n",
    "         'Roditis-Moschofilero', 'Premsal', 'Jampal', 'Tokay Pinot Gris', 'Trajadura', 'Roscetto', 'Torontel', \n",
    "         'Viognier-Valdiguié',\n",
    "         'Zierfandler', 'Marsanne-Roussanne', 'Pinot Meunier', 'Muskat Ottonel', 'Moscatel', 'Moschofilero', 'White Port', \n",
    "         'Kisi', 'Kangoun', 'Posip', 'Uva di Troia', 'Zierfandler-Rotgipfler', 'Mauzac', 'Pinot Auxerrois', 'Neuburger', \n",
    "         'Sämling', 'Rkatsiteli', 'Trousseau Gris', 'Malvasia Istriana', 'Morillon', 'Tokay', 'Gros Plant', 'Muscat Hamburg', \n",
    "         'Emir', 'Tsolikouri', 'Narince', 'Grecanico', 'Madeleine Angevine', 'Doña Blanca', 'Graševina', 'Thrapsathiri', \n",
    "         'Cococciola', 'Plyto', 'Azal', 'Moscatel Graúdo', 'Malvasia di Candia', 'Maria Gomes', 'Muscat of Alexandria', \n",
    "         'Moscatel de Alejandría', 'Misket', 'Tamianka', 'Morio Muskat', 'Sauvignonasse', \n",
    "         'Viognier-Marsanne', 'Ryzlink Rýnský', 'Muscadel', 'Roussanne-Grenache Blanc', 'Chancellor', 'Picapoll', \n",
    "         'Blauburger', 'Athiri', 'Ondenc','Gewürztraminer', 'Torrontés', 'Furmint', 'Savagnin', 'Glera', \n",
    "         'Roter Veltliner', 'Silvaner', 'Ruché', 'Pecorino', 'Sauvignon Gris', 'Vidal Blanc', 'Albanello', \n",
    "         'Loureiro', 'Clairette', 'Verduzzo Friulano ', \"Loin de l'Oeil\", 'Timorasso', 'Pigato', 'Viognier-Gewürztraminer', \n",
    "         'Sauvignon Blanc-Chenin Blanc', 'Colombard-Ugni Blanc', 'Mtsvane', 'Rivaner', 'Vespaiolo', 'Biancolella', \n",
    "         'Riesling-Chardonnay', 'Maria Gomes-Bical', 'Gelber Traminer', 'Sercial', 'Grenache Gris', 'Chardonnay-Albariño',\n",
    "          'Roditis', 'Papaskarasi', 'Zibibbo', 'Malagousia', 'Rotgipfler', 'Durella', 'Cercial', 'Johannisberg Riesling', \n",
    "          'Teran', 'Mantonico', 'Timorasso', 'Zlahtina', 'Shiraz-Roussanne', 'Tămâioasă Românească', 'Ansonica', 'Feteasca',\n",
    "        'Catalanesca', 'Moscato di Noto', 'Moscato Giallo','Sauvignon Blanc-Chardonnay', 'Sauvignon-Sémillon', \"Cesanese d'Affile\", \n",
    "        'Sauvignon Blanc-Verdejo', 'Chardonnay-Riesling', 'Sauvignon Blanc-Assyrtiko','Zelen', 'Tempranillo Blanco', 'Roter Traminer'\n",
    "]\n",
    "red = ['Portuguese Red', 'Pinot Noir', 'Tempranillo-Merlot', 'Frappato', 'Cabernet Sauvignon',\n",
    "        'Nerello Mascalese', 'Malbec', 'Tempranillo Blend', 'Meritage', 'Red Blend', 'Merlot', \n",
    "        \"Nero d'Avola\", 'Gamay', 'Primitivo', 'Sangiovese', 'Cabernet Franc', 'Bordeaux-style Red Blend', \n",
    "        'Aglianico', 'Petite Sirah', 'Touriga Nacional', 'Carmenère', 'Rosso', 'Shiraz-Cabernet Sauvignon', \n",
    "        'Barbera', 'Rhône-style Red Blend', 'Graciano', 'Tannat-Cabernet', 'Sauvignon', 'Sangiovese Grosso', \n",
    "        'Bonarda', 'Shiraz', 'Montepulciano', 'Grenache', 'Syrah', 'Nebbiolo', 'Blaufränkisch', 'Carignan-Grenache', \n",
    "        'Sagrantino', 'Cabernet Sauvignon-Syrah', 'Tempranillo','Mencía', 'Zweigelt', 'Cannonau', 'Dolcetto', \n",
    "        'Garnacha Tintorera', 'Pinot Nero', 'Pinotage', 'Syrah-Grenache', 'Antão Vaz', 'Cabernet Sauvignon-Carmenère', \n",
    "        'Tinta Miúda', 'Monastrell', 'Merlot-Malbec', 'Cabernet Sauvignon-Merlot', 'Merlot-Argaman', 'Garnacha', \n",
    "        'Negroamaro', 'Mourvèdre', 'Syrah-Cabernet', 'Tannat', 'Cabernet Sauvignon-Sangiovese', 'Austrian Red Blend', \n",
    "        'Teroldego', 'Baga','Pinot Noir-Gamay', 'Cinsault', 'Corvina, Rondinella, Molinara', 'Tannat-Syrah', 'Charbono', \n",
    "        'Provence red blend', 'Claret','Malbec-Merlot', 'Monastrell-Syrah', 'Malbec-Tannat', 'Malbec-Cabernet Franc', \n",
    "        'Tinta de Toro', 'Cabernet Moravia', 'Chambourcin', 'Nero di Troia', 'Cesanese', 'Lagrein', 'Tinta Fina', 'St. Laurent', \n",
    "        'Cabernet Sauvignon-Shiraz', 'Syrah-Cabernet Sauvignon', 'Pugnitello', 'Touriga Nacional Blend', 'Tinta Roriz', \n",
    "        'Cabernet Franc-Cabernet Sauvignon', 'Grenache-Syrah', 'Tempranillo-Cabernet Sauvignon', 'Merlot-Cabernet Franc', \n",
    "        'Syrah-Petite Sirah', 'Cabernet Blend', 'Maturana', 'Magliocco', 'Gamay Noir', 'Spätburgunder', 'Plavac Mali',\n",
    "        'Lemberger', 'Saperavi', 'Dornfelder', 'Ojaleshi', 'Mondeuse', 'Perricone', 'Syrah-Merlot', 'Cabernet Sauvignon-Malbec',\n",
    "        'Tinto Fino', 'Malbec-Cabernet Sauvignon','Picpoul','Carignano', 'Cabernet Franc-Merlot', \n",
    "        'Syrah-Petit Verdot', 'Syrah-Mourvèdre', 'Shiraz-Grenache', 'Grenache-Carignan', 'Malbec-Syrah', \n",
    "        'Cabernet Sauvignon-Tempranillo', 'Carignan', 'Cabernet-Syrah', 'Merlot-Cabernet Sauvignon', \n",
    "        'Mourvèdre-Syrah', 'Negrette', 'Tinta Barroca', 'Merlot-Tannat','Castelão', \n",
    "         'Grenache Blend', 'Sangiovese Cabernet', 'Touriga Nacional-Cabernet Sauvignon', 'Cabernet Sauvignon-Cabernet Franc', \n",
    "         'Baco Noir', 'Tempranillo-Tannat', 'Touriga Franca', 'Barbera-Nebbiolo', 'Prieto Picudo', 'Gaglioppo', 'Carignane', \n",
    "         'Tannat-Merlot', 'Nerello Cappuccio', 'Counoise', 'Mazuelo', 'Tinta del Pais', 'Vranec', 'Mavrud', 'Cabernet', \n",
    "         'Grenache-Mourvèdre', 'Forcallà', 'Syrah-Tempranillo', 'Cabernet Sauvignon-Barbera', 'Merlot-Cabernet', 'Jaen', \n",
    "         'Tinta del Toro', 'Prunelard', 'Garnacha-Syrah', 'Rufete', 'Tempranillo-Shiraz','Mansois',\n",
    "         'Mataro', 'Tinta Cao', 'Blauer Portugieser', 'Groppello', 'Poulsard', 'Grenache-Shiraz', 'Baga-Touriga Nacional', \n",
    "         'Carineña', 'Ciliegiolo', 'Cabernet Sauvignon-Merlot-Shiraz', 'Sciaccerellu', 'Alicante', 'Rosenmuskateller', \n",
    "         'Malbec-Cabernet', 'Touriga', 'Carmenère-Syrah', 'Mavroudi', 'Pinot Blanc-Pinot Noir', 'Tinto Velasco', 'Kadarka', \n",
    "         'Sangiovese-Syrah', 'Tannat-Cabernet Franc', 'Fer Servadou', 'Mission', 'Kekfrankos', 'Blauburgunder', 'Marquette', \n",
    "         'Romorantin', 'Braucol', 'Cabernet Franc-Malbec', 'Pallagrello Nero', 'Rebula', 'Vespolina', 'Shiraz-Malbec', \n",
    "         'Rebo', 'Tempranillo-Malbec', 'Trousseau', 'Bacchus', 'Syrah-Malbec', 'Syrah-Cabernet Franc', 'Cariñena-Garnacha', \n",
    "         'Sideritis','Rara Neagra', 'Molinara', 'Abouriou', 'Nielluciu', 'Malbec-Bonarda', 'Garnacha-Monastrell', 'Souzao', \n",
    "         'Tinta Francisca', 'Malvasia Nera', 'Listán Negro', 'Pinotage-Merlot', 'Jacquez', 'Carignan-Syrah', 'Mavrotragano', \n",
    "         'Bovale', 'Frankovka', 'Garnacha Blend', 'Merlot-Shiraz', 'Malbec Blend', 'Merlot-Syrah', 'Babić', 'Yapincak', \n",
    "         'Mandilaria', 'Saperavi-Merlot', 'Teroldego Rotaliano', 'Garnacha-Tempranillo','Vermentino Nero',\n",
    "          'Albarossa', 'Cabernet Sauvignon Grenache', 'Black Monukka', 'Merlot-Grenache', 'Vranac', 'Tempranillo-Syrah', \n",
    "          'Boğazkere', 'Tinta Amarela', 'Tinta Negra Mole', 'Chelois', 'Shiraz-Tempranillo', 'Biancale', 'Syrah-Bonarda', \n",
    "          'Durif', 'Franconia', 'Malbec-Tempranillo', 'Monastrell-Petit Verdot', 'Sirica', 'Espadeiro', 'Blatina', 'Karalahna', \n",
    "          'Garnacha-Cabernet', 'Garnacha-Cariñena', 'Cabernet Franc-Lemberger', 'Shiraz-Mourvèdre', 'Mavrokalavryta', 'Favorita', \n",
    "          'Babosa Negro', 'Dafni', 'Petit Courbu', 'Kotsifali', 'Parraleta', 'Otskhanuri Sapere', 'Trollinger', \n",
    "          'Tsapournakos', 'Francisa', 'Kuntra', 'Pignolo', 'Schwartzriesling','Sousão', 'Feteasca Neagra', 'Kinali Yapincak',\n",
    "          'Kalecik Karasi', 'Karasakiz', 'Raboso', 'Trepat', 'Freisa', 'Trincadeira', 'Melnik', 'Argaman', 'Piedirosso', \n",
    "          'Marawi', 'Çalkarası', 'Tinta Francisca', 'Vidadillo', 'Other', 'Cabernet Pfeffer', 'Roviello', 'Colorino', \n",
    "          'Tinta Madeira', 'Centesimino', 'Ramisco', 'Gamza', 'Bobal-Cabernet Sauvignon',\n",
    "          'Petit Verdot', 'Zinfandel', 'G-S-M', 'Monica', 'Cabernet Merlot', 'Cabernet Franc-Carmenère', \n",
    "          'Grenache Noir', 'Xinomavro', 'Petite Verdot', 'Tempranillo-Garnacha', 'Carmenère-Cabernet Sauvignon', \n",
    "          'Sangiovese-Cabernet Sauvignon', 'Shiraz-Cabernet', 'Syrah-Grenache-Viognier', 'Cabernet-Shiraz', 'Syrah-Carignan', \n",
    "          'Cabernet-Malbec', 'Merlot-Petite Verdot', 'Duras', 'Aragonês', 'Agiorgitiko', 'Aragonez', 'Alfrocheiro', 'Corvina', \n",
    "          'Alicante Bouschet', 'Tinto del Pais', 'Bobal', 'Susumaniello', 'Grolleau', 'Canaiolo', 'Bastardo', 'Tintilia', \n",
    "          'St. Vincent', 'Caprettone','Black Muscat','Muscadine','Syrah-Viognier', 'Shiraz-Viognier', 'Carcajolu', \n",
    "          'Marselan', 'Malbec-Petit Verdot', 'Grignolino', 'Pinot Noir-Syrah', 'Malbec-Carménère','País', 'Alvarelhão', \n",
    "          'Okuzgozu', 'Tintilia','Mavrodaphne','Tintilia ', \n",
    "] \n",
    "rose = ['Rosé', 'Rosato', 'Rosado','Portuguese Rosé', 'Prugnolo Gentile'] \n",
    "sparkling = ['Champagne Blend', 'Prosecco', 'Sparkling Blend','Portuguese Sparkling',\n",
    "             'Cerceal', 'Lambrusco','Lambrusco di Sorbara','Lambrusco Grasparossa',\n",
    "              'Torbato', 'Moscadello', 'Passerina', 'Brachetto', 'Ekigaïna', 'Picolit', \n",
    "              'Sacy', 'Moscatel Roxo', 'Debit','Moscato', 'Valdiguié', 'Casavecchia', \n",
    "              'Lambrusco Salamino', 'Moscato Rosa'] \n",
    "fortified = ['Sherry', 'Pedro Ximénez', 'White Port', 'Tokaji','Port']"
   ]
  },
  {
   "cell_type": "code",
   "execution_count": 62,
   "metadata": {},
   "outputs": [],
   "source": [
    "red_dict = {variety: 'red' for variety in red}\n",
    "white_dict = {variety: 'white' for variety in white}\n",
    "rose_dict = {variety: 'rose' for variety in rose}\n",
    "sparkling_dict = {variety: 'sparkling' for variety in sparkling}\n",
    "fortified_dict = {variety: 'fortified' for variety in fortified}\n",
    "wine_dict = {**red_dict, **white_dict, **rose_dict, **sparkling_dict, **fortified_dict}"
   ]
  },
  {
   "cell_type": "code",
   "execution_count": 63,
   "metadata": {},
   "outputs": [],
   "source": [
    "df['type_faiss'] = df['variety'].map(wine_dict)"
   ]
  },
  {
   "cell_type": "code",
   "execution_count": 64,
   "metadata": {},
   "outputs": [
    {
     "name": "stdout",
     "output_type": "stream",
     "text": [
      "[]\n"
     ]
    }
   ],
   "source": [
    "print(list(df.loc[df.type.isnull(), 'variety'].unique()))"
   ]
  },
  {
   "cell_type": "code",
   "execution_count": 65,
   "metadata": {},
   "outputs": [
    {
     "data": {
      "text/plain": [
       "type\n",
       "red          64063\n",
       "white        31828\n",
       "rose          3143\n",
       "sparkling     1138\n",
       "dessert        345\n",
       "Name: count, dtype: int64"
      ]
     },
     "execution_count": 65,
     "metadata": {},
     "output_type": "execute_result"
    }
   ],
   "source": [
    "df.type.value_counts()"
   ]
  },
  {
   "cell_type": "code",
   "execution_count": 66,
   "metadata": {},
   "outputs": [
    {
     "data": {
      "text/plain": [
       "type_faiss\n",
       "red          64338\n",
       "white        31289\n",
       "rose          3143\n",
       "sparkling     1402\n",
       "fortified      345\n",
       "Name: count, dtype: int64"
      ]
     },
     "execution_count": 66,
     "metadata": {},
     "output_type": "execute_result"
    }
   ],
   "source": [
    "df.type_faiss.value_counts()"
   ]
  },
  {
   "cell_type": "markdown",
   "metadata": {},
   "source": [
    "**Create TSNE Plot**"
   ]
  },
  {
   "cell_type": "code",
   "execution_count": 67,
   "metadata": {},
   "outputs": [],
   "source": [
    "from sklearn.manifold import TSNE\n",
    "import matplotlib.pyplot as plt\n",
    "from tqdm import tqdm"
   ]
  },
  {
   "cell_type": "code",
   "execution_count": 68,
   "metadata": {},
   "outputs": [
    {
     "name": "stderr",
     "output_type": "stream",
     "text": [
      "Running t-SNE:   0%|          | 0/100517 [00:00<?, ?it/s]/Users/patrick/Documents/ucb/wine_reviews/.venv/lib/python3.12/site-packages/threadpoolctl.py:1214: RuntimeWarning: \n",
      "Found Intel OpenMP ('libiomp') and LLVM OpenMP ('libomp') loaded at\n",
      "the same time. Both libraries are known to be incompatible and this\n",
      "can cause random crashes or deadlocks on Linux when loaded in the\n",
      "same Python program.\n",
      "Using threadpoolctl may cause crashes or deadlocks. For more\n",
      "information and possible workarounds, please see\n",
      "    https://github.com/joblib/threadpoolctl/blob/master/multiple_openmp.md\n",
      "\n",
      "  warnings.warn(msg, RuntimeWarning)\n",
      "huggingface/tokenizers: The current process just got forked, after parallelism has already been used. Disabling parallelism to avoid deadlocks...\n",
      "To disable this warning, you can either:\n",
      "\t- Avoid using `tokenizers` before the fork if possible\n",
      "\t- Explicitly set the environment variable TOKENIZERS_PARALLELISM=(true | false)\n",
      "Running t-SNE: 100%|██████████| 100517/100517 [13:42<00:00, 122.20it/s]\n"
     ]
    }
   ],
   "source": [
    "# Assuming df is your pandas DataFrame\n",
    "embeddings = np.array(df['embeddings'].tolist())  # Convert embeddings column to a numpy array\n",
    "variety = df['variety']\n",
    "\n",
    "# Perform t-SNE with tqdm progress bar\n",
    "tsne = TSNE(n_components=2, random_state=42)\n",
    "with tqdm(total=len(embeddings), desc=\"Running t-SNE\") as pbar:\n",
    "    tsne_results = tsne.fit_transform(embeddings)\n",
    "    pbar.update(len(embeddings))"
   ]
  },
  {
   "cell_type": "code",
   "execution_count": 69,
   "metadata": {},
   "outputs": [
    {
     "data": {
      "image/png": "[encoded data removed]",
      "text/plain": [
       "<Figure size 640x480 with 1 Axes>"
      ]
     },
     "metadata": {},
     "output_type": "display_data"
    }
   ],
   "source": [
    "# Create a scatter plot with colors based on variet\n",
    "plt.scatter(tsne_results[:, 0], tsne_results[:, 1], s=0.005) #, c='type', cmap='viridis')\n",
    "plt.title('Wine t-SNE')\n",
    "#plt.colorbar()\n",
    "plt.axis(\"off\")\n",
    "plt.show()"
   ]
  }
 ],
 "metadata": {
  "kernelspec": {
   "display_name": ".venv",
   "language": "python",
   "name": "python3"
  },
  "language_info": {
   "codemirror_mode": {
    "name": "ipython",
    "version": 3
   },
   "file_extension": ".py",
   "mimetype": "text/x-python",
   "name": "python",
   "nbconvert_exporter": "python",
   "pygments_lexer": "ipython3",
   "version": "3.12.8"
  }
 },
 "nbformat": 4,
 "nbformat_minor": 2
}
