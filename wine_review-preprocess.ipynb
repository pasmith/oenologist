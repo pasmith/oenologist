{
 "cells": [
  {
   "cell_type": "markdown",
   "metadata": {},
   "source": [
    "# NLP Preprocess"
   ]
  },
  {
   "cell_type": "markdown",
   "metadata": {},
   "source": [
    "### Load Cleansed Wine Reviews\n",
    "\n",
    "See [data preparation](wine_review-data_preparation.ipynb) for details on the prepared dataset."
   ]
  },
  {
   "cell_type": "markdown",
   "metadata": {},
   "source": [
    "Libraries"
   ]
  },
  {
   "cell_type": "code",
   "execution_count": 1,
   "metadata": {},
   "outputs": [],
   "source": [
    "import pandas as pd\n",
    "import numpy as np\n",
    "\n",
    "from IPython.display import Markdown, display\n",
    "\n",
    "import matplotlib.pyplot as plt"
   ]
  },
  {
   "cell_type": "code",
   "execution_count": 2,
   "metadata": {},
   "outputs": [
    {
     "name": "stdout",
     "output_type": "stream",
     "text": [
      "<class 'pandas.core.frame.DataFrame'>\n",
      "Index: 100538 entries, 0 to 129970\n",
      "Data columns (total 15 columns):\n",
      " #   Column          Non-Null Count   Dtype  \n",
      "---  ------          --------------   -----  \n",
      " 0   country         100538 non-null  object \n",
      " 1   description     100538 non-null  object \n",
      " 2   points          100538 non-null  int64  \n",
      " 3   price           93522 non-null   float64\n",
      " 4   taster_name     100538 non-null  object \n",
      " 5   title           100538 non-null  object \n",
      " 6   variety         100538 non-null  object \n",
      " 7   winery          100538 non-null  object \n",
      " 8   year            100538 non-null  int64  \n",
      " 9   wine_style      100538 non-null  object \n",
      " 10  type            100538 non-null  object \n",
      " 11  quality         100538 non-null  object \n",
      " 12  classification  100538 non-null  object \n",
      " 13  location        100538 non-null  object \n",
      " 14  band            93522 non-null   object \n",
      "dtypes: float64(1), int64(2), object(12)\n",
      "memory usage: 12.3+ MB\n"
     ]
    },
    {
     "data": {
      "application/vnd.microsoft.datawrangler.viewer.v0+json": {
       "columns": [
        {
         "name": "index",
         "rawType": "int64",
         "type": "integer"
        },
        {
         "name": "country",
         "rawType": "object",
         "type": "string"
        },
        {
         "name": "description",
         "rawType": "object",
         "type": "string"
        },
        {
         "name": "points",
         "rawType": "int64",
         "type": "integer"
        },
        {
         "name": "price",
         "rawType": "float64",
         "type": "float"
        },
        {
         "name": "taster_name",
         "rawType": "object",
         "type": "string"
        },
        {
         "name": "title",
         "rawType": "object",
         "type": "string"
        },
        {
         "name": "variety",
         "rawType": "object",
         "type": "string"
        },
        {
         "name": "winery",
         "rawType": "object",
         "type": "string"
        },
        {
         "name": "year",
         "rawType": "int64",
         "type": "integer"
        },
        {
         "name": "wine_style",
         "rawType": "object",
         "type": "string"
        },
        {
         "name": "type",
         "rawType": "object",
         "type": "string"
        },
        {
         "name": "quality",
         "rawType": "object",
         "type": "string"
        },
        {
         "name": "classification",
         "rawType": "object",
         "type": "string"
        },
        {
         "name": "location",
         "rawType": "object",
         "type": "string"
        },
        {
         "name": "band",
         "rawType": "object",
         "type": "unknown"
        }
       ],
       "conversionMethod": "pd.DataFrame",
       "ref": "1d39ecd0-e21f-49d5-b354-4ccc6e8aa562",
       "rows": [
        [
         "0",
         "Italy",
         "Aromas include tropical fruit, broom, brimstone and dried herb. The palate isn't overly expressive, offering unripened apple, citrus and dried sage alongside brisk acidity.",
         "87",
         null,
         "Kerin O’Keefe",
         "Nicosia 2013 Vulkà Bianco  (Etna)",
         "White Blend",
         "Nicosia",
         "2013",
         "light_white",
         "white",
         "medium",
         "Old World",
         "Etna",
         null
        ],
        [
         "1",
         "Portugal",
         "This is ripe and fruity, a wine that is smooth while still structured. Firm tannins are filled out with juicy red berry fruits and freshened with acidity. It's  already drinkable, although it will certainly be better from 2016.",
         "87",
         "15.0",
         "Roger Voss",
         "Quinta dos Avidagos 2011 Avidagos Red (Douro)",
         "Portuguese Red",
         "Quinta dos Avidagos",
         "2011",
         "medium_red",
         "red",
         "medium",
         "Old World",
         "Douro",
         "popular"
        ],
        [
         "2",
         "US",
         "Tart and snappy, the flavors of lime flesh and rind dominate. Some green pineapple pokes through, with crisp acidity underscoring the flavors. The wine was all stainless-steel fermented.",
         "87",
         "14.0",
         "Paul Gregutt",
         "Rainstorm 2013 Pinot Gris (Willamette Valley)",
         "Pinot Gris",
         "Rainstorm",
         "2013",
         "light_white",
         "white",
         "medium",
         "New World",
         "Oregon",
         "popular"
        ],
        [
         "3",
         "US",
         "Pineapple rind, lemon pith and orange blossom start off the aromas. The palate is a bit more opulent, with notes of honey-drizzled guava and mango giving way to a slightly astringent, semidry finish.",
         "87",
         "13.0",
         "Alexander Peartree",
         "St. Julian 2013 Reserve Late Harvest Riesling (Lake Michigan Shore)",
         "Riesling",
         "St. Julian",
         "2013",
         "aromatic_white",
         "white",
         "medium",
         "New World",
         "Michigan",
         "popular"
        ],
        [
         "4",
         "US",
         "Much like the regular bottling from 2012, this comes across as rather rough and tannic, with rustic, earthy, herbal characteristics. Nonetheless, if you think of it as a pleasantly unfussy country wine, it's a good companion to a hearty winter stew.",
         "87",
         "65.0",
         "Paul Gregutt",
         "Sweet Cheeks 2012 Vintner's Reserve Wild Child Block Pinot Noir (Willamette Valley)",
         "Pinot Noir",
         "Sweet Cheeks",
         "2012",
         "light_red",
         "red",
         "medium",
         "New World",
         "Oregon",
         "luxury"
        ]
       ],
       "shape": {
        "columns": 15,
        "rows": 5
       }
      },
      "text/html": [
       "<div>\n",
       "<style scoped>\n",
       "    .dataframe tbody tr th:only-of-type {\n",
       "        vertical-align: middle;\n",
       "    }\n",
       "\n",
       "    .dataframe tbody tr th {\n",
       "        vertical-align: top;\n",
       "    }\n",
       "\n",
       "    .dataframe thead th {\n",
       "        text-align: right;\n",
       "    }\n",
       "</style>\n",
       "<table border=\"1\" class=\"dataframe\">\n",
       "  <thead>\n",
       "    <tr style=\"text-align: right;\">\n",
       "      <th></th>\n",
       "      <th>country</th>\n",
       "      <th>description</th>\n",
       "      <th>points</th>\n",
       "      <th>price</th>\n",
       "      <th>taster_name</th>\n",
       "      <th>title</th>\n",
       "      <th>variety</th>\n",
       "      <th>winery</th>\n",
       "      <th>year</th>\n",
       "      <th>wine_style</th>\n",
       "      <th>type</th>\n",
       "      <th>quality</th>\n",
       "      <th>classification</th>\n",
       "      <th>location</th>\n",
       "      <th>band</th>\n",
       "    </tr>\n",
       "  </thead>\n",
       "  <tbody>\n",
       "    <tr>\n",
       "      <th>0</th>\n",
       "      <td>Italy</td>\n",
       "      <td>Aromas include tropical fruit, broom, brimston...</td>\n",
       "      <td>87</td>\n",
       "      <td>NaN</td>\n",
       "      <td>Kerin O’Keefe</td>\n",
       "      <td>Nicosia 2013 Vulkà Bianco  (Etna)</td>\n",
       "      <td>White Blend</td>\n",
       "      <td>Nicosia</td>\n",
       "      <td>2013</td>\n",
       "      <td>light_white</td>\n",
       "      <td>white</td>\n",
       "      <td>medium</td>\n",
       "      <td>Old World</td>\n",
       "      <td>Etna</td>\n",
       "      <td>None</td>\n",
       "    </tr>\n",
       "    <tr>\n",
       "      <th>1</th>\n",
       "      <td>Portugal</td>\n",
       "      <td>This is ripe and fruity, a wine that is smooth...</td>\n",
       "      <td>87</td>\n",
       "      <td>15.0</td>\n",
       "      <td>Roger Voss</td>\n",
       "      <td>Quinta dos Avidagos 2011 Avidagos Red (Douro)</td>\n",
       "      <td>Portuguese Red</td>\n",
       "      <td>Quinta dos Avidagos</td>\n",
       "      <td>2011</td>\n",
       "      <td>medium_red</td>\n",
       "      <td>red</td>\n",
       "      <td>medium</td>\n",
       "      <td>Old World</td>\n",
       "      <td>Douro</td>\n",
       "      <td>popular</td>\n",
       "    </tr>\n",
       "    <tr>\n",
       "      <th>2</th>\n",
       "      <td>US</td>\n",
       "      <td>Tart and snappy, the flavors of lime flesh and...</td>\n",
       "      <td>87</td>\n",
       "      <td>14.0</td>\n",
       "      <td>Paul Gregutt</td>\n",
       "      <td>Rainstorm 2013 Pinot Gris (Willamette Valley)</td>\n",
       "      <td>Pinot Gris</td>\n",
       "      <td>Rainstorm</td>\n",
       "      <td>2013</td>\n",
       "      <td>light_white</td>\n",
       "      <td>white</td>\n",
       "      <td>medium</td>\n",
       "      <td>New World</td>\n",
       "      <td>Oregon</td>\n",
       "      <td>popular</td>\n",
       "    </tr>\n",
       "    <tr>\n",
       "      <th>3</th>\n",
       "      <td>US</td>\n",
       "      <td>Pineapple rind, lemon pith and orange blossom ...</td>\n",
       "      <td>87</td>\n",
       "      <td>13.0</td>\n",
       "      <td>Alexander Peartree</td>\n",
       "      <td>St. Julian 2013 Reserve Late Harvest Riesling ...</td>\n",
       "      <td>Riesling</td>\n",
       "      <td>St. Julian</td>\n",
       "      <td>2013</td>\n",
       "      <td>aromatic_white</td>\n",
       "      <td>white</td>\n",
       "      <td>medium</td>\n",
       "      <td>New World</td>\n",
       "      <td>Michigan</td>\n",
       "      <td>popular</td>\n",
       "    </tr>\n",
       "    <tr>\n",
       "      <th>4</th>\n",
       "      <td>US</td>\n",
       "      <td>Much like the regular bottling from 2012, this...</td>\n",
       "      <td>87</td>\n",
       "      <td>65.0</td>\n",
       "      <td>Paul Gregutt</td>\n",
       "      <td>Sweet Cheeks 2012 Vintner's Reserve Wild Child...</td>\n",
       "      <td>Pinot Noir</td>\n",
       "      <td>Sweet Cheeks</td>\n",
       "      <td>2012</td>\n",
       "      <td>light_red</td>\n",
       "      <td>red</td>\n",
       "      <td>medium</td>\n",
       "      <td>New World</td>\n",
       "      <td>Oregon</td>\n",
       "      <td>luxury</td>\n",
       "    </tr>\n",
       "  </tbody>\n",
       "</table>\n",
       "</div>"
      ],
      "text/plain": [
       "    country                                        description  points  price  \\\n",
       "0     Italy  Aromas include tropical fruit, broom, brimston...      87    NaN   \n",
       "1  Portugal  This is ripe and fruity, a wine that is smooth...      87   15.0   \n",
       "2        US  Tart and snappy, the flavors of lime flesh and...      87   14.0   \n",
       "3        US  Pineapple rind, lemon pith and orange blossom ...      87   13.0   \n",
       "4        US  Much like the regular bottling from 2012, this...      87   65.0   \n",
       "\n",
       "          taster_name                                              title  \\\n",
       "0       Kerin O’Keefe                  Nicosia 2013 Vulkà Bianco  (Etna)   \n",
       "1          Roger Voss      Quinta dos Avidagos 2011 Avidagos Red (Douro)   \n",
       "2        Paul Gregutt      Rainstorm 2013 Pinot Gris (Willamette Valley)   \n",
       "3  Alexander Peartree  St. Julian 2013 Reserve Late Harvest Riesling ...   \n",
       "4        Paul Gregutt  Sweet Cheeks 2012 Vintner's Reserve Wild Child...   \n",
       "\n",
       "          variety               winery  year      wine_style   type quality  \\\n",
       "0     White Blend              Nicosia  2013     light_white  white  medium   \n",
       "1  Portuguese Red  Quinta dos Avidagos  2011      medium_red    red  medium   \n",
       "2      Pinot Gris            Rainstorm  2013     light_white  white  medium   \n",
       "3        Riesling           St. Julian  2013  aromatic_white  white  medium   \n",
       "4      Pinot Noir         Sweet Cheeks  2012       light_red    red  medium   \n",
       "\n",
       "  classification  location     band  \n",
       "0      Old World      Etna     None  \n",
       "1      Old World     Douro  popular  \n",
       "2      New World    Oregon  popular  \n",
       "3      New World  Michigan  popular  \n",
       "4      New World    Oregon   luxury  "
      ]
     },
     "execution_count": 2,
     "metadata": {},
     "output_type": "execute_result"
    }
   ],
   "source": [
    "wine_df = pd.read_parquet('files/wine_review.parquet.gzip')\n",
    "wine_df.info()\n",
    "wine_df.head()"
   ]
  },
  {
   "cell_type": "markdown",
   "metadata": {},
   "source": [
    "**Load NLP toolkit**"
   ]
  },
  {
   "cell_type": "markdown",
   "metadata": {},
   "source": [
    "**Pick a review**"
   ]
  },
  {
   "cell_type": "code",
   "execution_count": 3,
   "metadata": {},
   "outputs": [
    {
     "name": "stdout",
     "output_type": "stream",
     "text": [
      "VJB 2005 Syrah (El Dorado County)\n"
     ]
    },
    {
     "data": {
      "text/markdown": [
       "Too sweet and Porty. This mountain-grown Syrah has rich cherry-berry flavors and smooth tannins, but seems to have some residual sugar that makes it taste more like a dessert wine than a table wine."
      ],
      "text/plain": [
       "<IPython.core.display.Markdown object>"
      ]
     },
     "metadata": {},
     "output_type": "display_data"
    }
   ],
   "source": [
    "# pick a review at random\n",
    "review = next(wine_df[['title','description']].sample(1, random_state=925).itertuples())\n",
    "print(review.title)\n",
    "display(Markdown(review.description))\n"
   ]
  },
  {
   "cell_type": "markdown",
   "metadata": {},
   "source": [
    "**Helper function to create a word cloud from the description**"
   ]
  },
  {
   "cell_type": "code",
   "execution_count": 4,
   "metadata": {},
   "outputs": [],
   "source": [
    "import wordcloud as wc\n",
    "\n",
    "# Function for display frquency of words\n",
    "def freq_words(words, title=''):\n",
    "  '''\n",
    "  Show frequency of words as an image\n",
    "  '''\n",
    "\n",
    "  stopwords = set(wc.STOPWORDS)\n",
    "  stopwords.update([\"drink\", \"now\", \"wine\", \"flavor\", \"flavors\"])\n",
    "\n",
    "  # Generate frequency of words as an image\n",
    "  freq_words_img = wc.WordCloud(stopwords=stopwords, background_color='white', width=2048,height=1024, max_words=1000).generate(words)\n",
    "\n",
    "  # print the vector of words extracted from the description\n",
    "  print(freq_words_img.words_)\n",
    "\n",
    "  # Display the image\n",
    "  plt.figure(figsize=(10, 10))\n",
    "  if title is not None:\n",
    "    plt.title(title)\n",
    "  plt.imshow(freq_words_img, interpolation=\"bilinear\")\n",
    "  plt.axis(\"off\")\n",
    "  plt.show()"
   ]
  },
  {
   "cell_type": "code",
   "execution_count": 5,
   "metadata": {},
   "outputs": [
    {
     "name": "stdout",
     "output_type": "stream",
     "text": [
      "{'sweet': 1.0, 'Porty': 1.0, 'mountain': 1.0, 'grown': 1.0, 'Syrah': 1.0, 'rich': 1.0, 'cherry': 1.0, 'berry': 1.0, 'smooth': 1.0, 'tannins': 1.0, 'seems': 1.0, 'residual': 1.0, 'sugar': 1.0, 'makes': 1.0, 'taste': 1.0, 'dessert': 1.0, 'table': 1.0}\n"
     ]
    },
    {
     "data": {
      "image/png": "[encoded data removed]",
      "text/plain": [
       "<Figure size 1000x1000 with 1 Axes>"
      ]
     },
     "metadata": {},
     "output_type": "display_data"
    }
   ],
   "source": [
    "# create a word cloud from the description\n",
    "freq_words(review.description, review.title)"
   ]
  },
  {
   "cell_type": "markdown",
   "metadata": {},
   "source": [
    "### NLP Workflow\n",
    "1. Split train/test data\n",
    "1. Preprocess\n",
    "    - Tokenization: `text -> tokens`\n",
    "    - Normalization (improve quality of tokens): `tokens -> tokens`\n",
    "      - Lower casing\n",
    "      - converting numbers into words, or removing them\n",
    "      - removing punctuation and other special characters\n",
    "      - removing white space\n",
    "      - expanding abbreviations\n",
    "      - Stop words removal, sparse terms and particular words\n",
    "      - canonical text representation\n",
    "          - part of speech\n",
    "          - named entities\n",
    "          - Stemming\n",
    "          - Lemmatization\n",
    "1. Feature `tokens -> numbers (vectors)`\n",
    "    - Bag-of-words model\n",
    "    - TF-IDF"
   ]
  },
  {
   "cell_type": "markdown",
   "metadata": {},
   "source": [
    "### Tokenize"
   ]
  },
  {
   "cell_type": "code",
   "execution_count": 6,
   "metadata": {},
   "outputs": [
    {
     "name": "stderr",
     "output_type": "stream",
     "text": [
      "[nltk_data] Downloading collection 'all'\n",
      "[nltk_data]    | \n",
      "[nltk_data]    | Downloading package abc to\n",
      "[nltk_data]    |     /Users/patrick/nltk_data...\n",
      "[nltk_data]    |   Package abc is already up-to-date!\n",
      "[nltk_data]    | Downloading package alpino to\n",
      "[nltk_data]    |     /Users/patrick/nltk_data...\n",
      "[nltk_data]    |   Package alpino is already up-to-date!\n",
      "[nltk_data]    | Downloading package averaged_perceptron_tagger to\n",
      "[nltk_data]    |     /Users/patrick/nltk_data...\n",
      "[nltk_data]    |   Package averaged_perceptron_tagger is already up-\n",
      "[nltk_data]    |       to-date!\n",
      "[nltk_data]    | Downloading package averaged_perceptron_tagger_eng to\n",
      "[nltk_data]    |     /Users/patrick/nltk_data...\n",
      "[nltk_data]    |   Package averaged_perceptron_tagger_eng is already\n",
      "[nltk_data]    |       up-to-date!\n",
      "[nltk_data]    | Downloading package averaged_perceptron_tagger_ru to\n",
      "[nltk_data]    |     /Users/patrick/nltk_data...\n",
      "[nltk_data]    |   Package averaged_perceptron_tagger_ru is already\n",
      "[nltk_data]    |       up-to-date!\n",
      "[nltk_data]    | Downloading package averaged_perceptron_tagger_rus to\n",
      "[nltk_data]    |     /Users/patrick/nltk_data...\n",
      "[nltk_data]    |   Package averaged_perceptron_tagger_rus is already\n",
      "[nltk_data]    |       up-to-date!\n",
      "[nltk_data]    | Downloading package basque_grammars to\n",
      "[nltk_data]    |     /Users/patrick/nltk_data...\n",
      "[nltk_data]    |   Package basque_grammars is already up-to-date!\n",
      "[nltk_data]    | Downloading package bcp47 to\n",
      "[nltk_data]    |     /Users/patrick/nltk_data...\n",
      "[nltk_data]    |   Package bcp47 is already up-to-date!\n",
      "[nltk_data]    | Downloading package biocreative_ppi to\n",
      "[nltk_data]    |     /Users/patrick/nltk_data...\n",
      "[nltk_data]    |   Package biocreative_ppi is already up-to-date!\n",
      "[nltk_data]    | Downloading package bllip_wsj_no_aux to\n",
      "[nltk_data]    |     /Users/patrick/nltk_data...\n",
      "[nltk_data]    |   Package bllip_wsj_no_aux is already up-to-date!\n",
      "[nltk_data]    | Downloading package book_grammars to\n",
      "[nltk_data]    |     /Users/patrick/nltk_data...\n",
      "[nltk_data]    |   Package book_grammars is already up-to-date!\n",
      "[nltk_data]    | Downloading package brown to\n",
      "[nltk_data]    |     /Users/patrick/nltk_data...\n",
      "[nltk_data]    |   Package brown is already up-to-date!\n",
      "[nltk_data]    | Downloading package brown_tei to\n",
      "[nltk_data]    |     /Users/patrick/nltk_data...\n",
      "[nltk_data]    |   Package brown_tei is already up-to-date!\n",
      "[nltk_data]    | Downloading package cess_cat to\n",
      "[nltk_data]    |     /Users/patrick/nltk_data...\n",
      "[nltk_data]    |   Package cess_cat is already up-to-date!\n",
      "[nltk_data]    | Downloading package cess_esp to\n",
      "[nltk_data]    |     /Users/patrick/nltk_data...\n",
      "[nltk_data]    |   Package cess_esp is already up-to-date!\n",
      "[nltk_data]    | Downloading package chat80 to\n",
      "[nltk_data]    |     /Users/patrick/nltk_data...\n",
      "[nltk_data]    |   Package chat80 is already up-to-date!\n",
      "[nltk_data]    | Downloading package city_database to\n",
      "[nltk_data]    |     /Users/patrick/nltk_data...\n",
      "[nltk_data]    |   Package city_database is already up-to-date!\n",
      "[nltk_data]    | Downloading package cmudict to\n",
      "[nltk_data]    |     /Users/patrick/nltk_data...\n",
      "[nltk_data]    |   Package cmudict is already up-to-date!\n",
      "[nltk_data]    | Downloading package comparative_sentences to\n",
      "[nltk_data]    |     /Users/patrick/nltk_data...\n",
      "[nltk_data]    |   Package comparative_sentences is already up-to-\n",
      "[nltk_data]    |       date!\n",
      "[nltk_data]    | Downloading package comtrans to\n",
      "[nltk_data]    |     /Users/patrick/nltk_data...\n",
      "[nltk_data]    |   Package comtrans is already up-to-date!\n",
      "[nltk_data]    | Downloading package conll2000 to\n",
      "[nltk_data]    |     /Users/patrick/nltk_data...\n",
      "[nltk_data]    |   Package conll2000 is already up-to-date!\n",
      "[nltk_data]    | Downloading package conll2002 to\n",
      "[nltk_data]    |     /Users/patrick/nltk_data...\n",
      "[nltk_data]    |   Package conll2002 is already up-to-date!\n",
      "[nltk_data]    | Downloading package conll2007 to\n",
      "[nltk_data]    |     /Users/patrick/nltk_data...\n",
      "[nltk_data]    |   Package conll2007 is already up-to-date!\n",
      "[nltk_data]    | Downloading package crubadan to\n",
      "[nltk_data]    |     /Users/patrick/nltk_data...\n",
      "[nltk_data]    |   Package crubadan is already up-to-date!\n",
      "[nltk_data]    | Downloading package dependency_treebank to\n",
      "[nltk_data]    |     /Users/patrick/nltk_data...\n",
      "[nltk_data]    |   Package dependency_treebank is already up-to-date!\n",
      "[nltk_data]    | Downloading package dolch to\n",
      "[nltk_data]    |     /Users/patrick/nltk_data...\n",
      "[nltk_data]    |   Package dolch is already up-to-date!\n",
      "[nltk_data]    | Downloading package europarl_raw to\n",
      "[nltk_data]    |     /Users/patrick/nltk_data...\n",
      "[nltk_data]    |   Package europarl_raw is already up-to-date!\n",
      "[nltk_data]    | Downloading package extended_omw to\n",
      "[nltk_data]    |     /Users/patrick/nltk_data...\n",
      "[nltk_data]    |   Package extended_omw is already up-to-date!\n",
      "[nltk_data]    | Downloading package floresta to\n",
      "[nltk_data]    |     /Users/patrick/nltk_data...\n",
      "[nltk_data]    |   Package floresta is already up-to-date!\n",
      "[nltk_data]    | Downloading package framenet_v15 to\n",
      "[nltk_data]    |     /Users/patrick/nltk_data...\n",
      "[nltk_data]    |   Package framenet_v15 is already up-to-date!\n",
      "[nltk_data]    | Downloading package framenet_v17 to\n",
      "[nltk_data]    |     /Users/patrick/nltk_data...\n",
      "[nltk_data]    |   Package framenet_v17 is already up-to-date!\n",
      "[nltk_data]    | Downloading package gazetteers to\n",
      "[nltk_data]    |     /Users/patrick/nltk_data...\n",
      "[nltk_data]    |   Package gazetteers is already up-to-date!\n",
      "[nltk_data]    | Downloading package genesis to\n",
      "[nltk_data]    |     /Users/patrick/nltk_data...\n",
      "[nltk_data]    |   Package genesis is already up-to-date!\n",
      "[nltk_data]    | Downloading package gutenberg to\n",
      "[nltk_data]    |     /Users/patrick/nltk_data...\n",
      "[nltk_data]    |   Package gutenberg is already up-to-date!\n",
      "[nltk_data]    | Downloading package ieer to\n",
      "[nltk_data]    |     /Users/patrick/nltk_data...\n",
      "[nltk_data]    |   Package ieer is already up-to-date!\n",
      "[nltk_data]    | Downloading package inaugural to\n",
      "[nltk_data]    |     /Users/patrick/nltk_data...\n",
      "[nltk_data]    |   Package inaugural is already up-to-date!\n",
      "[nltk_data]    | Downloading package indian to\n",
      "[nltk_data]    |     /Users/patrick/nltk_data...\n",
      "[nltk_data]    |   Package indian is already up-to-date!\n",
      "[nltk_data]    | Downloading package jeita to\n",
      "[nltk_data]    |     /Users/patrick/nltk_data...\n",
      "[nltk_data]    |   Package jeita is already up-to-date!\n",
      "[nltk_data]    | Downloading package kimmo to\n",
      "[nltk_data]    |     /Users/patrick/nltk_data...\n",
      "[nltk_data]    |   Package kimmo is already up-to-date!\n",
      "[nltk_data]    | Downloading package knbc to\n",
      "[nltk_data]    |     /Users/patrick/nltk_data...\n",
      "[nltk_data]    |   Package knbc is already up-to-date!\n",
      "[nltk_data]    | Downloading package large_grammars to\n",
      "[nltk_data]    |     /Users/patrick/nltk_data...\n",
      "[nltk_data]    |   Package large_grammars is already up-to-date!\n",
      "[nltk_data]    | Downloading package lin_thesaurus to\n",
      "[nltk_data]    |     /Users/patrick/nltk_data...\n",
      "[nltk_data]    |   Package lin_thesaurus is already up-to-date!\n",
      "[nltk_data]    | Downloading package mac_morpho to\n",
      "[nltk_data]    |     /Users/patrick/nltk_data...\n",
      "[nltk_data]    |   Package mac_morpho is already up-to-date!\n",
      "[nltk_data]    | Downloading package machado to\n",
      "[nltk_data]    |     /Users/patrick/nltk_data...\n",
      "[nltk_data]    |   Package machado is already up-to-date!\n",
      "[nltk_data]    | Downloading package masc_tagged to\n",
      "[nltk_data]    |     /Users/patrick/nltk_data...\n",
      "[nltk_data]    |   Package masc_tagged is already up-to-date!\n",
      "[nltk_data]    | Downloading package maxent_ne_chunker to\n",
      "[nltk_data]    |     /Users/patrick/nltk_data...\n",
      "[nltk_data]    |   Package maxent_ne_chunker is already up-to-date!\n",
      "[nltk_data]    | Downloading package maxent_ne_chunker_tab to\n",
      "[nltk_data]    |     /Users/patrick/nltk_data...\n",
      "[nltk_data]    |   Package maxent_ne_chunker_tab is already up-to-\n",
      "[nltk_data]    |       date!\n",
      "[nltk_data]    | Downloading package maxent_treebank_pos_tagger to\n",
      "[nltk_data]    |     /Users/patrick/nltk_data...\n",
      "[nltk_data]    |   Package maxent_treebank_pos_tagger is already up-\n",
      "[nltk_data]    |       to-date!\n",
      "[nltk_data]    | Downloading package maxent_treebank_pos_tagger_tab to\n",
      "[nltk_data]    |     /Users/patrick/nltk_data...\n",
      "[nltk_data]    |   Package maxent_treebank_pos_tagger_tab is already\n",
      "[nltk_data]    |       up-to-date!\n",
      "[nltk_data]    | Downloading package moses_sample to\n",
      "[nltk_data]    |     /Users/patrick/nltk_data...\n",
      "[nltk_data]    |   Package moses_sample is already up-to-date!\n",
      "[nltk_data]    | Downloading package movie_reviews to\n",
      "[nltk_data]    |     /Users/patrick/nltk_data...\n",
      "[nltk_data]    |   Package movie_reviews is already up-to-date!\n",
      "[nltk_data]    | Downloading package mte_teip5 to\n",
      "[nltk_data]    |     /Users/patrick/nltk_data...\n",
      "[nltk_data]    |   Package mte_teip5 is already up-to-date!\n",
      "[nltk_data]    | Downloading package mwa_ppdb to\n",
      "[nltk_data]    |     /Users/patrick/nltk_data...\n",
      "[nltk_data]    |   Package mwa_ppdb is already up-to-date!\n",
      "[nltk_data]    | Downloading package names to\n",
      "[nltk_data]    |     /Users/patrick/nltk_data...\n",
      "[nltk_data]    |   Package names is already up-to-date!\n",
      "[nltk_data]    | Downloading package nombank.1.0 to\n",
      "[nltk_data]    |     /Users/patrick/nltk_data...\n",
      "[nltk_data]    |   Package nombank.1.0 is already up-to-date!\n",
      "[nltk_data]    | Downloading package nonbreaking_prefixes to\n",
      "[nltk_data]    |     /Users/patrick/nltk_data...\n",
      "[nltk_data]    |   Package nonbreaking_prefixes is already up-to-date!\n",
      "[nltk_data]    | Downloading package nps_chat to\n",
      "[nltk_data]    |     /Users/patrick/nltk_data...\n",
      "[nltk_data]    |   Package nps_chat is already up-to-date!\n",
      "[nltk_data]    | Downloading package omw to\n",
      "[nltk_data]    |     /Users/patrick/nltk_data...\n",
      "[nltk_data]    |   Package omw is already up-to-date!\n",
      "[nltk_data]    | Downloading package omw-1.4 to\n",
      "[nltk_data]    |     /Users/patrick/nltk_data...\n",
      "[nltk_data]    |   Package omw-1.4 is already up-to-date!\n",
      "[nltk_data]    | Downloading package opinion_lexicon to\n",
      "[nltk_data]    |     /Users/patrick/nltk_data...\n",
      "[nltk_data]    |   Package opinion_lexicon is already up-to-date!\n",
      "[nltk_data]    | Downloading package panlex_swadesh to\n",
      "[nltk_data]    |     /Users/patrick/nltk_data...\n",
      "[nltk_data]    |   Package panlex_swadesh is already up-to-date!\n",
      "[nltk_data]    | Downloading package paradigms to\n",
      "[nltk_data]    |     /Users/patrick/nltk_data...\n",
      "[nltk_data]    |   Package paradigms is already up-to-date!\n",
      "[nltk_data]    | Downloading package pe08 to\n",
      "[nltk_data]    |     /Users/patrick/nltk_data...\n",
      "[nltk_data]    |   Package pe08 is already up-to-date!\n",
      "[nltk_data]    | Downloading package perluniprops to\n",
      "[nltk_data]    |     /Users/patrick/nltk_data...\n",
      "[nltk_data]    |   Package perluniprops is already up-to-date!\n",
      "[nltk_data]    | Downloading package pil to\n",
      "[nltk_data]    |     /Users/patrick/nltk_data...\n",
      "[nltk_data]    |   Package pil is already up-to-date!\n",
      "[nltk_data]    | Downloading package pl196x to\n",
      "[nltk_data]    |     /Users/patrick/nltk_data...\n",
      "[nltk_data]    |   Package pl196x is already up-to-date!\n",
      "[nltk_data]    | Downloading package porter_test to\n",
      "[nltk_data]    |     /Users/patrick/nltk_data...\n",
      "[nltk_data]    |   Package porter_test is already up-to-date!\n",
      "[nltk_data]    | Downloading package ppattach to\n",
      "[nltk_data]    |     /Users/patrick/nltk_data...\n",
      "[nltk_data]    |   Package ppattach is already up-to-date!\n",
      "[nltk_data]    | Downloading package problem_reports to\n",
      "[nltk_data]    |     /Users/patrick/nltk_data...\n",
      "[nltk_data]    |   Package problem_reports is already up-to-date!\n",
      "[nltk_data]    | Downloading package product_reviews_1 to\n",
      "[nltk_data]    |     /Users/patrick/nltk_data...\n",
      "[nltk_data]    |   Package product_reviews_1 is already up-to-date!\n",
      "[nltk_data]    | Downloading package product_reviews_2 to\n",
      "[nltk_data]    |     /Users/patrick/nltk_data...\n",
      "[nltk_data]    |   Package product_reviews_2 is already up-to-date!\n",
      "[nltk_data]    | Downloading package propbank to\n",
      "[nltk_data]    |     /Users/patrick/nltk_data...\n",
      "[nltk_data]    |   Package propbank is already up-to-date!\n",
      "[nltk_data]    | Downloading package pros_cons to\n",
      "[nltk_data]    |     /Users/patrick/nltk_data...\n",
      "[nltk_data]    |   Package pros_cons is already up-to-date!\n",
      "[nltk_data]    | Downloading package ptb to\n",
      "[nltk_data]    |     /Users/patrick/nltk_data...\n",
      "[nltk_data]    |   Package ptb is already up-to-date!\n",
      "[nltk_data]    | Downloading package punkt to\n",
      "[nltk_data]    |     /Users/patrick/nltk_data...\n",
      "[nltk_data]    |   Package punkt is already up-to-date!\n",
      "[nltk_data]    | Downloading package punkt_tab to\n",
      "[nltk_data]    |     /Users/patrick/nltk_data...\n",
      "[nltk_data]    |   Package punkt_tab is already up-to-date!\n",
      "[nltk_data]    | Downloading package qc to /Users/patrick/nltk_data...\n",
      "[nltk_data]    |   Package qc is already up-to-date!\n",
      "[nltk_data]    | Downloading package reuters to\n",
      "[nltk_data]    |     /Users/patrick/nltk_data...\n",
      "[nltk_data]    |   Package reuters is already up-to-date!\n",
      "[nltk_data]    | Downloading package rslp to\n",
      "[nltk_data]    |     /Users/patrick/nltk_data...\n",
      "[nltk_data]    |   Package rslp is already up-to-date!\n",
      "[nltk_data]    | Downloading package rte to\n",
      "[nltk_data]    |     /Users/patrick/nltk_data...\n",
      "[nltk_data]    |   Package rte is already up-to-date!\n",
      "[nltk_data]    | Downloading package sample_grammars to\n",
      "[nltk_data]    |     /Users/patrick/nltk_data...\n",
      "[nltk_data]    |   Package sample_grammars is already up-to-date!\n",
      "[nltk_data]    | Downloading package semcor to\n",
      "[nltk_data]    |     /Users/patrick/nltk_data...\n",
      "[nltk_data]    |   Package semcor is already up-to-date!\n",
      "[nltk_data]    | Downloading package senseval to\n",
      "[nltk_data]    |     /Users/patrick/nltk_data...\n",
      "[nltk_data]    |   Package senseval is already up-to-date!\n",
      "[nltk_data]    | Downloading package sentence_polarity to\n",
      "[nltk_data]    |     /Users/patrick/nltk_data...\n",
      "[nltk_data]    |   Package sentence_polarity is already up-to-date!\n",
      "[nltk_data]    | Downloading package sentiwordnet to\n",
      "[nltk_data]    |     /Users/patrick/nltk_data...\n",
      "[nltk_data]    |   Package sentiwordnet is already up-to-date!\n",
      "[nltk_data]    | Downloading package shakespeare to\n",
      "[nltk_data]    |     /Users/patrick/nltk_data...\n",
      "[nltk_data]    |   Package shakespeare is already up-to-date!\n",
      "[nltk_data]    | Downloading package sinica_treebank to\n",
      "[nltk_data]    |     /Users/patrick/nltk_data...\n",
      "[nltk_data]    |   Package sinica_treebank is already up-to-date!\n",
      "[nltk_data]    | Downloading package smultron to\n",
      "[nltk_data]    |     /Users/patrick/nltk_data...\n",
      "[nltk_data]    |   Package smultron is already up-to-date!\n",
      "[nltk_data]    | Downloading package snowball_data to\n",
      "[nltk_data]    |     /Users/patrick/nltk_data...\n",
      "[nltk_data]    |   Package snowball_data is already up-to-date!\n",
      "[nltk_data]    | Downloading package spanish_grammars to\n",
      "[nltk_data]    |     /Users/patrick/nltk_data...\n",
      "[nltk_data]    |   Package spanish_grammars is already up-to-date!\n",
      "[nltk_data]    | Downloading package state_union to\n",
      "[nltk_data]    |     /Users/patrick/nltk_data...\n",
      "[nltk_data]    |   Package state_union is already up-to-date!\n",
      "[nltk_data]    | Downloading package stopwords to\n",
      "[nltk_data]    |     /Users/patrick/nltk_data...\n",
      "[nltk_data]    |   Package stopwords is already up-to-date!\n",
      "[nltk_data]    | Downloading package subjectivity to\n",
      "[nltk_data]    |     /Users/patrick/nltk_data...\n",
      "[nltk_data]    |   Package subjectivity is already up-to-date!\n",
      "[nltk_data]    | Downloading package swadesh to\n",
      "[nltk_data]    |     /Users/patrick/nltk_data...\n",
      "[nltk_data]    |   Package swadesh is already up-to-date!\n",
      "[nltk_data]    | Downloading package switchboard to\n",
      "[nltk_data]    |     /Users/patrick/nltk_data...\n",
      "[nltk_data]    |   Package switchboard is already up-to-date!\n",
      "[nltk_data]    | Downloading package tagsets to\n",
      "[nltk_data]    |     /Users/patrick/nltk_data...\n",
      "[nltk_data]    |   Package tagsets is already up-to-date!\n",
      "[nltk_data]    | Downloading package tagsets_json to\n",
      "[nltk_data]    |     /Users/patrick/nltk_data...\n",
      "[nltk_data]    |   Package tagsets_json is already up-to-date!\n",
      "[nltk_data]    | Downloading package timit to\n",
      "[nltk_data]    |     /Users/patrick/nltk_data...\n",
      "[nltk_data]    |   Package timit is already up-to-date!\n",
      "[nltk_data]    | Downloading package toolbox to\n",
      "[nltk_data]    |     /Users/patrick/nltk_data...\n",
      "[nltk_data]    |   Package toolbox is already up-to-date!\n",
      "[nltk_data]    | Downloading package treebank to\n",
      "[nltk_data]    |     /Users/patrick/nltk_data...\n",
      "[nltk_data]    |   Package treebank is already up-to-date!\n",
      "[nltk_data]    | Downloading package twitter_samples to\n",
      "[nltk_data]    |     /Users/patrick/nltk_data...\n",
      "[nltk_data]    |   Package twitter_samples is already up-to-date!\n",
      "[nltk_data]    | Downloading package udhr to\n",
      "[nltk_data]    |     /Users/patrick/nltk_data...\n",
      "[nltk_data]    |   Package udhr is already up-to-date!\n",
      "[nltk_data]    | Downloading package udhr2 to\n",
      "[nltk_data]    |     /Users/patrick/nltk_data...\n",
      "[nltk_data]    |   Package udhr2 is already up-to-date!\n",
      "[nltk_data]    | Downloading package unicode_samples to\n",
      "[nltk_data]    |     /Users/patrick/nltk_data...\n",
      "[nltk_data]    |   Package unicode_samples is already up-to-date!\n",
      "[nltk_data]    | Downloading package universal_tagset to\n",
      "[nltk_data]    |     /Users/patrick/nltk_data...\n",
      "[nltk_data]    |   Package universal_tagset is already up-to-date!\n",
      "[nltk_data]    | Downloading package universal_treebanks_v20 to\n",
      "[nltk_data]    |     /Users/patrick/nltk_data...\n",
      "[nltk_data]    |   Package universal_treebanks_v20 is already up-to-\n",
      "[nltk_data]    |       date!\n",
      "[nltk_data]    | Downloading package vader_lexicon to\n",
      "[nltk_data]    |     /Users/patrick/nltk_data...\n",
      "[nltk_data]    |   Package vader_lexicon is already up-to-date!\n",
      "[nltk_data]    | Downloading package verbnet to\n",
      "[nltk_data]    |     /Users/patrick/nltk_data...\n",
      "[nltk_data]    |   Package verbnet is already up-to-date!\n",
      "[nltk_data]    | Downloading package verbnet3 to\n",
      "[nltk_data]    |     /Users/patrick/nltk_data...\n",
      "[nltk_data]    |   Package verbnet3 is already up-to-date!\n",
      "[nltk_data]    | Downloading package webtext to\n",
      "[nltk_data]    |     /Users/patrick/nltk_data...\n",
      "[nltk_data]    |   Package webtext is already up-to-date!\n",
      "[nltk_data]    | Downloading package wmt15_eval to\n",
      "[nltk_data]    |     /Users/patrick/nltk_data...\n",
      "[nltk_data]    |   Package wmt15_eval is already up-to-date!\n",
      "[nltk_data]    | Downloading package word2vec_sample to\n",
      "[nltk_data]    |     /Users/patrick/nltk_data...\n",
      "[nltk_data]    |   Package word2vec_sample is already up-to-date!\n",
      "[nltk_data]    | Downloading package wordnet to\n",
      "[nltk_data]    |     /Users/patrick/nltk_data...\n",
      "[nltk_data]    |   Package wordnet is already up-to-date!\n",
      "[nltk_data]    | Downloading package wordnet2021 to\n",
      "[nltk_data]    |     /Users/patrick/nltk_data...\n",
      "[nltk_data]    |   Package wordnet2021 is already up-to-date!\n",
      "[nltk_data]    | Downloading package wordnet2022 to\n",
      "[nltk_data]    |     /Users/patrick/nltk_data...\n",
      "[nltk_data]    |   Package wordnet2022 is already up-to-date!\n",
      "[nltk_data]    | Downloading package wordnet31 to\n",
      "[nltk_data]    |     /Users/patrick/nltk_data...\n",
      "[nltk_data]    |   Package wordnet31 is already up-to-date!\n",
      "[nltk_data]    | Downloading package wordnet_ic to\n",
      "[nltk_data]    |     /Users/patrick/nltk_data...\n",
      "[nltk_data]    |   Package wordnet_ic is already up-to-date!\n",
      "[nltk_data]    | Downloading package words to\n",
      "[nltk_data]    |     /Users/patrick/nltk_data...\n",
      "[nltk_data]    |   Package words is already up-to-date!\n",
      "[nltk_data]    | Downloading package ycoe to\n",
      "[nltk_data]    |     /Users/patrick/nltk_data...\n",
      "[nltk_data]    |   Package ycoe is already up-to-date!\n",
      "[nltk_data]    | \n",
      "[nltk_data]  Done downloading collection all\n"
     ]
    }
   ],
   "source": [
    "import nltk\n",
    "\n",
    "nltk.download('all');"
   ]
  },
  {
   "cell_type": "code",
   "execution_count": 7,
   "metadata": {},
   "outputs": [
    {
     "name": "stdout",
     "output_type": "stream",
     "text": [
      "37\n"
     ]
    },
    {
     "data": {
      "text/plain": [
       "['Too', 'sweet', 'and', 'Porty', '.']"
      ]
     },
     "execution_count": 7,
     "metadata": {},
     "output_type": "execute_result"
    }
   ],
   "source": [
    "from nltk import word_tokenize, sent_tokenize\n",
    "\n",
    "# split description into word tokens\n",
    "tokens = word_tokenize(review.description)\n",
    "print(len(tokens))\n",
    "tokens[:5]"
   ]
  },
  {
   "cell_type": "code",
   "execution_count": 8,
   "metadata": {},
   "outputs": [
    {
     "data": {
      "text/plain": [
       "0.8918918918918919"
      ]
     },
     "execution_count": 8,
     "metadata": {},
     "output_type": "execute_result"
    }
   ],
   "source": [
    "# lexical diversity: ratio of unique words to the total words\n",
    "len(set(tokens))/len(tokens)"
   ]
  },
  {
   "cell_type": "markdown",
   "metadata": {},
   "source": [
    "### Normalize"
   ]
  },
  {
   "cell_type": "markdown",
   "metadata": {},
   "source": [
    "**Parts of Speech**"
   ]
  },
  {
   "cell_type": "code",
   "execution_count": 9,
   "metadata": {},
   "outputs": [
    {
     "data": {
      "text/plain": [
       "[('Too', 'NNP'),\n",
       " ('sweet', 'JJ'),\n",
       " ('and', 'CC'),\n",
       " ('Porty', 'NNP'),\n",
       " ('.', '.'),\n",
       " ('This', 'DT'),\n",
       " ('mountain-grown', 'JJ'),\n",
       " ('Syrah', 'NNP')]"
      ]
     },
     "execution_count": 9,
     "metadata": {},
     "output_type": "execute_result"
    }
   ],
   "source": [
    "token_pos = nltk.pos_tag(nltk.word_tokenize(review.description))\n",
    "token_pos[:8]"
   ]
  },
  {
   "cell_type": "code",
   "execution_count": 10,
   "metadata": {},
   "outputs": [
    {
     "name": "stdout",
     "output_type": "stream",
     "text": [
      "NNP: noun, proper, singular\n",
      "    Motown Venneboerger Czestochwa Ranzer Conchita Trumplane Christos\n",
      "    Oceanside Escobar Kreisler Sawyer Cougar Yvette Ervin ODI Darryl CTCA\n",
      "    Shannon A.K.C. Meltex Liverpool ...\n"
     ]
    }
   ],
   "source": [
    "nltk.help.upenn_tagset('NNP$')"
   ]
  },
  {
   "cell_type": "markdown",
   "metadata": {},
   "source": [
    "**Named Entity Recognition**\n"
   ]
  },
  {
   "cell_type": "code",
   "execution_count": 11,
   "metadata": {},
   "outputs": [
    {
     "name": "stdout",
     "output_type": "stream",
     "text": [
      "[('Porty', 'GPE'), ('Syrah', 'PERSON')]\n"
     ]
    }
   ],
   "source": [
    "named_entities = []\n",
    "for t in nltk.ne_chunk(token_pos):\n",
    "    if hasattr(t,'label'):\n",
    "        e_name = ' '.join(c[0] for c in t.leaves());\n",
    "        e_type = t.label()\n",
    "        named_entities.append((e_name, e_type))\n",
    "        \n",
    "print(named_entities)"
   ]
  },
  {
   "cell_type": "code",
   "execution_count": null,
   "metadata": {},
   "outputs": [],
   "source": []
  },
  {
   "cell_type": "markdown",
   "metadata": {},
   "source": [
    "**Remove named entities and lower case**"
   ]
  },
  {
   "cell_type": "code",
   "execution_count": 12,
   "metadata": {},
   "outputs": [
    {
     "name": "stdout",
     "output_type": "stream",
     "text": [
      "36\n"
     ]
    },
    {
     "data": {
      "text/plain": [
       "['too', 'sweet', 'and', 'porty', '.', 'this', 'mountain-grown', 'has']"
      ]
     },
     "execution_count": 12,
     "metadata": {},
     "output_type": "execute_result"
    }
   ],
   "source": [
    "# copy the tokens\n",
    "tokens_nonames = tokens.copy()\n",
    "\n",
    "# remove any tokens that are PERSON names\n",
    "for ne in named_entities:\n",
    "    if ne[1]=='PERSON':\n",
    "        for name in nltk.word_tokenize(ne[0]):\n",
    "            tokens_nonames.remove(name)\n",
    "\n",
    "tokens_nonames_lower = [token.lower() for token in tokens_nonames]\n",
    "print(len(tokens_nonames_lower))\n",
    "tokens_nonames_lower[:8]"
   ]
  },
  {
   "cell_type": "markdown",
   "metadata": {},
   "source": [
    "**Remove stop words**"
   ]
  },
  {
   "cell_type": "code",
   "execution_count": 13,
   "metadata": {},
   "outputs": [
    {
     "name": "stdout",
     "output_type": "stream",
     "text": [
      "21\n"
     ]
    },
    {
     "data": {
      "text/plain": [
       "['sweet',\n",
       " 'porty',\n",
       " '.',\n",
       " 'mountain-grown',\n",
       " 'rich',\n",
       " 'cherry-berry',\n",
       " 'flavors',\n",
       " 'smooth']"
      ]
     },
     "execution_count": 13,
     "metadata": {},
     "output_type": "execute_result"
    }
   ],
   "source": [
    "from nltk.corpus import stopwords\n",
    "swords = stopwords.words('english') \n",
    "\n",
    "tokens_nonames_lower_nostop = [w for w in tokens_nonames_lower if not w in swords]\n",
    "print(len(tokens_nonames_lower_nostop))\n",
    "tokens_nonames_lower_nostop[:8]"
   ]
  },
  {
   "cell_type": "markdown",
   "metadata": {},
   "source": [
    "**Stemming**"
   ]
  },
  {
   "cell_type": "code",
   "execution_count": 14,
   "metadata": {},
   "outputs": [
    {
     "name": "stdout",
     "output_type": "stream",
     "text": [
      "21\n"
     ]
    },
    {
     "data": {
      "text/plain": [
       "['sweet',\n",
       " 'porti',\n",
       " '.',\n",
       " 'mountain-grown',\n",
       " 'rich',\n",
       " 'cherry-berri',\n",
       " 'flavor',\n",
       " 'smooth']"
      ]
     },
     "execution_count": 14,
     "metadata": {},
     "output_type": "execute_result"
    }
   ],
   "source": [
    "from nltk.stem import PorterStemmer\n",
    "stemmer = PorterStemmer()\n",
    "\n",
    "# stem - convert each word token to word root form\n",
    "tokens_nonames_lower_nostop_stem = [stemmer.stem(w) for w in tokens_nonames_lower_nostop]\n",
    "print(len(tokens_nonames_lower_nostop_stem))\n",
    "tokens_nonames_lower_nostop_stem[:8]"
   ]
  },
  {
   "cell_type": "markdown",
   "metadata": {},
   "source": [
    "**Lemmatization**"
   ]
  },
  {
   "cell_type": "code",
   "execution_count": 15,
   "metadata": {},
   "outputs": [
    {
     "name": "stdout",
     "output_type": "stream",
     "text": [
      "21\n"
     ]
    },
    {
     "data": {
      "text/plain": [
       "['sweet',\n",
       " 'porti',\n",
       " '.',\n",
       " 'mountain-grown',\n",
       " 'rich',\n",
       " 'cherry-berri',\n",
       " 'flavor',\n",
       " 'smooth']"
      ]
     },
     "execution_count": 15,
     "metadata": {},
     "output_type": "execute_result"
    }
   ],
   "source": [
    "from nltk.stem import WordNetLemmatizer\n",
    "lemma = WordNetLemmatizer()\n",
    "\n",
    "tokens_nonames_lower_nostop_lemma = [stemmer.stem(w) for w in tokens_nonames_lower_nostop]\n",
    "print(len(tokens_nonames_lower_nostop_lemma))\n",
    "tokens_nonames_lower_nostop_lemma[:8]"
   ]
  },
  {
   "cell_type": "markdown",
   "metadata": {},
   "source": [
    "**Putting it all together**"
   ]
  },
  {
   "cell_type": "code",
   "execution_count": 16,
   "metadata": {},
   "outputs": [],
   "source": [
    "import string\n",
    " \n",
    "stemmer = PorterStemmer()\n",
    "# lemma = WordNetLemmatizer()\n",
    "swords = stopwords.words('english') \n",
    "\n",
    "def clean_review(description) -> list[str]:\n",
    "    # tokenize: convert text to tokens\n",
    "    tokens = word_tokenize(description)\n",
    "    \n",
    "    #\n",
    "    # normalization\n",
    "    #\n",
    "\n",
    "    # part-of-speech tagging\n",
    "    token_pos = nltk.pos_tag(tokens)\n",
    "\n",
    "    # named entity recognition\n",
    "    named_entities = []\n",
    "    for t in nltk.ne_chunk(token_pos):\n",
    "        if hasattr(t,'label'):\n",
    "            e_name = ' '.join(c[0] for c in t.leaves());\n",
    "            e_type = t.label()\n",
    "            named_entities.append((e_name, e_type))\n",
    "    \n",
    "    # remove named entities\n",
    "    for ne in named_entities:\n",
    "      if ne[1]=='PERSON':\n",
    "          for name in nltk.word_tokenize(ne[0]):\n",
    "              tokens.remove(name)\n",
    "    \n",
    "    # to canonical word form\n",
    "    return ' '.join(list(map(stemmer.stem,map(\n",
    "                # convert to lower case\n",
    "                lambda word: word.lower(),\n",
    "                filter(\n",
    "                    # remove punctuation\n",
    "                    lambda word: word not in string.punctuation,\n",
    "                    # remove stop words\n",
    "                    filter(lambda word: word not in swords, tokens)\n",
    "                  )\n",
    "              ))))\n"
   ]
  },
  {
   "cell_type": "code",
   "execution_count": 17,
   "metadata": {},
   "outputs": [
    {
     "name": "stdout",
     "output_type": "stream",
     "text": [
      "20\n"
     ]
    },
    {
     "data": {
      "text/plain": [
       "'too sweet porti thi mountain-grown rich cherry-berri flavor smooth tannin seem residu sugar make tast like dessert wine tabl wine'"
      ]
     },
     "execution_count": 17,
     "metadata": {},
     "output_type": "execute_result"
    }
   ],
   "source": [
    "clean_tokens = clean_review(review.description)\n",
    "print(len(clean_tokens.split()))\n",
    "clean_tokens\n"
   ]
  },
  {
   "cell_type": "code",
   "execution_count": 18,
   "metadata": {},
   "outputs": [],
   "source": [
    "tokenizer = word_tokenize\n",
    "stemmer = PorterStemmer()\n",
    "swords = stopwords.words('english')\n",
    "\n",
    "def preprocess(review):\n",
    "  # tokenize the description\n",
    "  tokens = tokenizer(review)\n",
    "\n",
    "  # part-of-speech tagging\n",
    "  token_pos = nltk.pos_tag(tokens)\n",
    "\n",
    "  # named entity recognition\n",
    "  named_entities = []\n",
    "  for t in nltk.ne_chunk(token_pos):\n",
    "      if hasattr(t,'label'):\n",
    "          e_name = ' '.join(c[0] for c in t.leaves());\n",
    "          e_type = t.label()\n",
    "          named_entities.append((e_name, e_type))\n",
    "  \n",
    "  # remove named entities\n",
    "  for ne in named_entities:\n",
    "    if ne[1]=='PERSON':\n",
    "        for name in nltk.word_tokenize(ne[0]):\n",
    "            tokens.remove(name)  \n",
    "\n",
    "  # define all the tokens we want to remove\n",
    "  tests = [\n",
    "    # remove stop words\n",
    "    lambda word: word not in swords,\n",
    "    # remove punctuation\n",
    "    lambda word: word not in string.punctuation\n",
    "  ]\n",
    "\n",
    "  # \n",
    "  accept = lambda word: all(map(lambda test: test(word), tests))\n",
    "\n",
    "  # normalize the tokens\n",
    "  return [stemmer.stem(word.lower()) for word in tokens if accept(word)]\n"
   ]
  },
  {
   "cell_type": "code",
   "execution_count": 19,
   "metadata": {},
   "outputs": [
    {
     "name": "stdout",
     "output_type": "stream",
     "text": [
      "20\n"
     ]
    },
    {
     "data": {
      "text/plain": [
       "['too',\n",
       " 'sweet',\n",
       " 'porti',\n",
       " 'thi',\n",
       " 'mountain-grown',\n",
       " 'rich',\n",
       " 'cherry-berri',\n",
       " 'flavor',\n",
       " 'smooth',\n",
       " 'tannin',\n",
       " 'seem',\n",
       " 'residu',\n",
       " 'sugar',\n",
       " 'make',\n",
       " 'tast',\n",
       " 'like',\n",
       " 'dessert',\n",
       " 'wine',\n",
       " 'tabl',\n",
       " 'wine']"
      ]
     },
     "execution_count": 19,
     "metadata": {},
     "output_type": "execute_result"
    }
   ],
   "source": [
    "pp_tokens = preprocess(review.description)\n",
    "print(len(pp_tokens))\n",
    "pp_tokens"
   ]
  },
  {
   "cell_type": "markdown",
   "metadata": {},
   "source": [
    "### Select subset of reviews\n",
    "\n",
    "Processing the entire corpus takes time. Use a smaller subset to work our the mechanics before training on complete set."
   ]
  },
  {
   "cell_type": "markdown",
   "metadata": {},
   "source": [
    "**Determine top 3 varietals**"
   ]
  },
  {
   "cell_type": "code",
   "execution_count": 20,
   "metadata": {},
   "outputs": [
    {
     "data": {
      "text/plain": [
       "['Pinot Noir', 'Chardonnay', 'Cabernet Sauvignon']"
      ]
     },
     "execution_count": 20,
     "metadata": {},
     "output_type": "execute_result"
    }
   ],
   "source": [
    "top_varieties = wine_df.variety.value_counts().sort_values(ascending=False).index.to_list()[:3]\n",
    "top_varieties"
   ]
  },
  {
   "cell_type": "markdown",
   "metadata": {},
   "source": [
    "**Select a small subset of wines from the top 3 varieties**"
   ]
  },
  {
   "cell_type": "code",
   "execution_count": 21,
   "metadata": {},
   "outputs": [
    {
     "data": {
      "application/vnd.microsoft.datawrangler.viewer.v0+json": {
       "columns": [
        {
         "name": "index",
         "rawType": "int64",
         "type": "integer"
        },
        {
         "name": "country",
         "rawType": "object",
         "type": "string"
        },
        {
         "name": "description",
         "rawType": "object",
         "type": "string"
        },
        {
         "name": "points",
         "rawType": "int64",
         "type": "integer"
        },
        {
         "name": "price",
         "rawType": "float64",
         "type": "float"
        },
        {
         "name": "taster_name",
         "rawType": "object",
         "type": "string"
        },
        {
         "name": "title",
         "rawType": "object",
         "type": "string"
        },
        {
         "name": "variety",
         "rawType": "object",
         "type": "string"
        },
        {
         "name": "winery",
         "rawType": "object",
         "type": "string"
        },
        {
         "name": "year",
         "rawType": "int64",
         "type": "integer"
        },
        {
         "name": "wine_style",
         "rawType": "object",
         "type": "string"
        },
        {
         "name": "type",
         "rawType": "object",
         "type": "string"
        },
        {
         "name": "quality",
         "rawType": "object",
         "type": "string"
        },
        {
         "name": "classification",
         "rawType": "object",
         "type": "string"
        },
        {
         "name": "location",
         "rawType": "object",
         "type": "string"
        },
        {
         "name": "band",
         "rawType": "object",
         "type": "unknown"
        }
       ],
       "conversionMethod": "pd.DataFrame",
       "ref": "0f1789d7-9215-4b64-8af3-e6849ed22713",
       "rows": [
        [
         "32797",
         "US",
         "Perfumed in rose and violet, with a sauvage scent of musk, this distinctive wine is soft and silky on the palate. It features a mix of red cherry and sage, with a full body and an expansive and lengthy finish.",
         "90",
         "30.0",
         "Virginie Boone",
         "Row Eleven 2013 Dutton Sanchietti Pinot Noir (Russian River Valley)",
         "Pinot Noir",
         "Row Eleven",
         "2013",
         "light_red",
         "red",
         "high",
         "New World",
         "California",
         "super"
        ],
        [
         "105190",
         "US",
         "This is a very lush Cab, made in the modern style. All the elements of cult Cab are there: the soft voluptuousness, the finely ground, sweet tannins, the immensely ripe currant, blackberry and cocoa flavors, the coating of fine, smoky oak. I don't think it's an ager because of the softness and ripeness.",
         "92",
         "70.0",
         "Unknown",
         "Robert Craig 2004 Cabernet Sauvignon (Mount Veeder)",
         "Cabernet Sauvignon",
         "Robert Craig",
         "2004",
         "full_red",
         "red",
         "high",
         "New World",
         "California",
         "luxury"
        ],
        [
         "89652",
         "Australia",
         "Full-bodied and plush in texture, this offers plenty of apricot marmalade fruit and some nasturtium-blossom-like spice, making for a satisfying mouthful of flavor.",
         "85",
         "8.0",
         "Joe Czerwinski",
         "Yellow Tail 2015 Chardonnay (South Eastern Australia)",
         "Chardonnay",
         "Yellow Tail",
         "2015",
         "full_white",
         "white",
         "medium",
         "New World",
         "South Eastern Australia",
         "value"
        ],
        [
         "115814",
         "US",
         "Where else in this country can you find $12 Pinot with actual varietal character? Yes, it's quite young, light, lean, tart and even simple, but it does taste like the grape it's made from, and avoids the vegetal and the overtly leathery qualities of many of its rivals. Gentle flavors of raspberry and cherry are supported with juicy acids and hints of spice. This would be a lovely companion to a simple roast chicken.",
         "87",
         "12.0",
         "Paul Gregutt",
         "Eola Hills 2006 Pinot Noir (Oregon)",
         "Pinot Noir",
         "Eola Hills",
         "2006",
         "light_red",
         "red",
         "medium",
         "New World",
         "Oregon",
         "value"
        ],
        [
         "93320",
         "US",
         "This shows an old-fashioned Spring Mountain dryness and tannic astringency, which makes it hard to enjoy at the moment. Decant it for several hours to let it mellow so you can enjoy the deep core of black currant flavor.",
         "87",
         "55.0",
         "Unknown",
         "Bougetz 2010 Amaryllis Cabernet Sauvignon (Spring Mountain District)",
         "Cabernet Sauvignon",
         "Bougetz",
         "2010",
         "full_red",
         "red",
         "medium",
         "New World",
         "California",
         "luxury"
        ],
        [
         "88832",
         "France",
         "This attractive, steely wine has a good touch of minerality and hints of wood under the crisp lemon fruitiness. Textured with lively acidity and bright freshness, it is ready to drink.",
         "88",
         null,
         "Roger Voss",
         "Henri de Villamont 2013 Grumes d'Or  (Pouilly-Fuissé)",
         "Chardonnay",
         "Henri de Villamont",
         "2013",
         "full_white",
         "white",
         "medium",
         "Old World",
         "Burgundy",
         null
        ],
        [
         "55065",
         "Chile",
         "Generic plum and berry aromas are compact. On the palate, this is tight and blocky in feel, like a brick of cement. Raspberry and plum flavors are limited and dense, while this tastes of mild oak on a slightly hot and fiery finish.",
         "87",
         "16.0",
         "Michael Schachner",
         "Agustinos 2016 Reserva Pinot Noir (Bío Bío Valley)",
         "Pinot Noir",
         "Agustinos",
         "2016",
         "light_red",
         "red",
         "medium",
         "New World",
         "Bío Bío Valley",
         "popular"
        ],
        [
         "123990",
         "US",
         "Basket-pressed and aged for 10 months in 20% new oak, this estate-grown Pinot Noir has lovely berry and cherry scents and flavors. It's spicy, varietal, and brambly, with a medium-deep palate and accents of dried herbs.",
         "89",
         "20.0",
         "Paul Gregutt",
         "Illahe 2012 Pinot Noir (Willamette Valley)",
         "Pinot Noir",
         "Illahe",
         "2012",
         "light_red",
         "red",
         "medium",
         "New World",
         "Oregon",
         "premium"
        ],
        [
         "60932",
         "New Zealand",
         "The best of this year's crop of Saint Clair Pinots is the Pioneer Block 4, which boasts dark and mysterious aromas of damp earth and ripe plums. It's full bodied and creamy in texture, with hints of mocha emerging on the supple finish. Drink now–2015.",
         "91",
         "27.0",
         "Joe Czerwinski",
         "Saint Clair 2008 Pioneer Block 4 Sawcut Pinot Noir (Marlborough)",
         "Pinot Noir",
         "Saint Clair",
         "2008",
         "light_red",
         "red",
         "high",
         "New World",
         "Marlborough",
         "super"
        ],
        [
         "11110",
         "France",
         "This wine is produced from vines aged 62–88 years old. It has ripe red fruits and soft tannins creating a wine that is generous and ready to drink. It is a blend of grapes from the flat lands beyond the slopes in the Côte d'Or. The wine finishes with acidity as well as attractive fruitiness.",
         "87",
         "20.0",
         "Roger Voss",
         "Roche de Bellene 2014 Vieilles Vignes  (Bourgogne)",
         "Pinot Noir",
         "Roche de Bellene",
         "2014",
         "light_red",
         "red",
         "medium",
         "Old World",
         "Burgundy",
         "premium"
        ],
        [
         "112211",
         "France",
         "Yeasty aromas and a tangy herbal character certainly make for an unusual Chardonnay. It is closer to the Jura's Vin Jaune than it is to any normal fruity wine. Drink now for its fascinating flavors.",
         "85",
         "18.0",
         "Roger Voss",
         "Domaine de Savagny 2011 Chardonnay (Côtes du Jura)",
         "Chardonnay",
         "Domaine de Savagny",
         "2011",
         "full_white",
         "white",
         "medium",
         "Old World",
         "Côtes du Jura",
         "premium"
        ],
        [
         "12489",
         "US",
         "Cranberry, spice and fresh herb give this peppery Pinot plenty of flavor interest. Definitely on the earthy and herbal side, this juicy wine is a good go-to bottle for everyday drinking.",
         "86",
         "17.0",
         "Paul Gregutt",
         "Kings Ridge 2010 Pinot Noir (Oregon)",
         "Pinot Noir",
         "Kings Ridge",
         "2010",
         "light_red",
         "red",
         "medium",
         "New World",
         "Oregon",
         "premium"
        ],
        [
         "78132",
         "US",
         "Smooth and full bodied, this is packed with robust peach, pear, apple, lime and candied pineapple. There's a streak of vanilla custard from time in new oak, and length-extending minerality. This just keeps on going in the most delightful fashion.",
         "94",
         "60.0",
         "Paul Gregutt",
         "Roco 2014 Knudsen Vineyards Chardonnay (Willamette Valley)",
         "Chardonnay",
         "Roco",
         "2014",
         "full_white",
         "white",
         "high",
         "New World",
         "Oregon",
         "luxury"
        ],
        [
         "90880",
         "US",
         "This cuvée has more complexity than its companion releases, perhaps owing to the inclusion of 10% whole clusters and/or the use of native (wild) yeast. Citrus, orange flesh and peel, and tart raspberry fruits are finished with a tannic burst.",
         "89",
         "44.0",
         "Paul Gregutt",
         "Vista Hills 2014 Piedmont Pinot Noir (Dundee Hills)",
         "Pinot Noir",
         "Vista Hills",
         "2014",
         "light_red",
         "red",
         "medium",
         "New World",
         "Oregon",
         "ultra"
        ],
        [
         "48177",
         "France",
         "From a parcel of vines in the Meursault village appellation, this attractive, soft wine has ripe grapefruit and pear flavors to go with the crisp acidity and the lightest touch of wood. Drink from 2015.",
         "90",
         "55.0",
         "Roger Voss",
         "Bouchard Père & Fils 2011 Les Clous  (Meursault)",
         "Chardonnay",
         "Bouchard Père & Fils",
         "2011",
         "full_white",
         "white",
         "high",
         "Old World",
         "Burgundy",
         "luxury"
        ],
        [
         "34534",
         "Chile",
         "Banana and lacquer aromas blend with pickled white fruit scents and brine. It's by no means a fresh and inviting Chardonnay; instead, it's a bit mustardy and briney, and not terribly fresh in feel. Is that sauerkraut on the finish?",
         "82",
         "20.0",
         "Michael Schachner",
         "Undurraga 2009 T.H. West Limarí Chardonnay (Limarí Valley)",
         "Chardonnay",
         "Undurraga",
         "2009",
         "full_white",
         "white",
         "medium",
         "New World",
         "Limarí Valley",
         "premium"
        ],
        [
         "29383",
         "US",
         "Norm Yost named this wine after his wife. It shows rich, deep and mysterious aromas, from dried rose petals and cherries to funky mushrooms, fresh-cut sagebrush, maple and damp wood. It's very full once sipped, with a mushroom ragu element cut by red cherries, orange peels, cranberries and a forest floor finish. This Pinot could handle a big steak.",
         "93",
         "55.0",
         "Matt Kettmann",
         "Flying Goat Cellars 2010 Kate's Cuvee Rio Vista Vineyard Pinot Noir (Sta. Rita Hills)",
         "Pinot Noir",
         "Flying Goat Cellars",
         "2010",
         "light_red",
         "red",
         "high",
         "New World",
         "California",
         "luxury"
        ],
        [
         "68512",
         "US",
         "With a very pretty nose of perfumed pear, green apple and lime, this unoaked Chardonnay is nicely soft and easy to drink. Made from organic Chardonnay and a touch of Viognier, this smells and tastes of summer. Even without a hint of oak this retains plenty of richness and a fresh vibrancy on the finish.",
         "91",
         "18.0",
         "Virginie Boone",
         "Saracina 2011 Unoaked Chardonnay (Mendocino County)",
         "Chardonnay",
         "Saracina",
         "2011",
         "full_white",
         "white",
         "high",
         "New World",
         "California",
         "premium"
        ],
        [
         "55725",
         "US",
         "Hard mountain tannins characterize this Cab, which was grown above 2,000 feet in the Mayacamas. It's hugely deep in blackberries and black currants, with notes of dark chocolate and violets. Meanwhile, 100% new French oak adds an elaborate layer of smoky caramel and char that's entirely in keeping with the wine's volume. Impressive and flashy, but immature, this wine requires cellaring. Best 2012–2018.",
         "96",
         "100.0",
         "Unknown",
         "Stonestreet 2006 Christopher's Cabernet Sauvignon (Alexander Valley)",
         "Cabernet Sauvignon",
         "Stonestreet",
         "2006",
         "full_red",
         "red",
         "high",
         "New World",
         "California",
         "luxury"
        ],
        [
         "80249",
         "US",
         "Slightly funk kiwi, dried apples and dried white-flower aromas show on the nose of this appellation blend. Flavors are flat and muted, with a flash of sweet apples.",
         "84",
         "14.0",
         "Matt Kettmann",
         "EOS 2014 Chardonnay (Central Coast)",
         "Chardonnay",
         "EOS",
         "2014",
         "full_white",
         "white",
         "medium",
         "New World",
         "California",
         "popular"
        ],
        [
         "41247",
         "US",
         "Sweet and jammy in youth, with robust flavors of raspberry and cherry jam. The sweetness is balanced by crisp acidity and firm tannins, as well as a minerality that must come from the terroir. A feminine wine, Calera's '08 Jensen should gain in the bottle over the next eight years or so.",
         "91",
         "70.0",
         "Unknown",
         "Calera 2008 Jensen Vineyard Pinot Noir (Mt. Harlan)",
         "Pinot Noir",
         "Calera",
         "2008",
         "light_red",
         "red",
         "high",
         "New World",
         "California",
         "luxury"
        ],
        [
         "41406",
         "France",
         "This iconic wine is rich and perfumed. It's powerful and concentrated, with layers of wood contrasted by explosive, ripe fruits. Ripe red-fruit flavors are brightened by ample acidity, resulting in a sumptuous wine that also has enough tannins to age. Drink from 2018.",
         "94",
         "100.0",
         "Roger Voss",
         "Bouchard Père & Fils 2011 Vigne de l'Enfant Jésus Grèves Premier Cru  (Beaune)",
         "Pinot Noir",
         "Bouchard Père & Fils",
         "2011",
         "light_red",
         "red",
         "high",
         "Old World",
         "Burgundy",
         "luxury"
        ],
        [
         "44959",
         "US",
         "This is a bit thin on the palate, with flavors of sour black-cherry candy and spice. It earns a few extra points for its elegance and fine tannins.",
         "85",
         "38.0",
         "Unknown",
         "Truchard 2008 Cabernet Sauvignon (Carneros)",
         "Cabernet Sauvignon",
         "Truchard",
         "2008",
         "full_red",
         "red",
         "medium",
         "New World",
         "California",
         "ultra"
        ],
        [
         "56006",
         "US",
         "This is a solidly made wine that hits all the right notes. Hot toast, lemon curd and cut red apple show on the lush, perfectly ripe but not at all buttered nose. Key lime flesh and skins show on the balanced palate, where a touch of butter is cut by laser sharp acidity and chalky minerality.",
         "92",
         "29.0",
         "Matt Kettmann",
         "Kessler-Haak 2014 Estate Chardonnay (Sta. Rita Hills)",
         "Chardonnay",
         "Kessler-Haak",
         "2014",
         "full_white",
         "white",
         "high",
         "New World",
         "California",
         "super"
        ],
        [
         "13105",
         "US",
         "The fruit for this Columbia Valley Cabernet Sauvignon is sourced from a dozen different vineyards, blended into a firm, purely varietal example of Washington Cabernet Sauvignon. The rich aromatics of black fruits, baking spices, dust, and cocoa powder roll into a full-flavored midpalate, enhanced with a light floral component.",
         "89",
         "30.0",
         "Paul Gregutt",
         "L'Ecole No. 41 2007 Cabernet Sauvignon (Columbia Valley (WA))",
         "Cabernet Sauvignon",
         "L'Ecole No. 41",
         "2007",
         "full_red",
         "red",
         "medium",
         "New World",
         "Washington",
         "super"
        ],
        [
         "93261",
         "US",
         "Erickson is the winemaker at Screaming Eagle, and he participated in this charitable project for Lookout Ridge. A blend of the two Cabernets, it's soft, unctuous and decadent, in the modern cult Napa style. Floods the mouth with pastry-filling blackberries, cherries, currants, cassis, chocolate and bacon. Drink now through 2010 for freshness.",
         "92",
         "100.0",
         "Unknown",
         "Lookout Ridge 2005 Andy Erickson Cabernet Sauvignon (Napa Valley)",
         "Cabernet Sauvignon",
         "Lookout Ridge",
         "2005",
         "full_red",
         "red",
         "high",
         "New World",
         "California",
         "luxury"
        ],
        [
         "33089",
         "US",
         "Full bodied and fleshy, this is an approachable wine, richly concentrated in candied-peach flavor that pleases and finds a balance between power and grace.",
         "88",
         "34.0",
         "Virginie Boone",
         "Stag's Leap Wine Cellars 2015 Karia Chardonnay (Napa Valley)",
         "Chardonnay",
         "Stag's Leap Wine Cellars",
         "2015",
         "full_white",
         "white",
         "medium",
         "New World",
         "California",
         "ultra"
        ],
        [
         "72921",
         "US",
         "This is a nice estate offering from the producer, a celebration of baked cherry pie that's soft and velvety while being full-bodied in style. Fruity and oaky in equal measure, it was aged for almost two years in 35% new French oak, and has a distinct touch of toasted oak on the finish.",
         "91",
         "65.0",
         "Virginie Boone",
         "Nicholson Ranch 2013 Cactus Hill Pinot Noir (Sonoma Coast)",
         "Pinot Noir",
         "Nicholson Ranch",
         "2013",
         "light_red",
         "red",
         "high",
         "New World",
         "California",
         "luxury"
        ],
        [
         "100244",
         "US",
         "This vineyard has done well in warm years such as 2008, but in the chilly 2011 vintage, it's tart with acidity. A cranberry bite dominates all else, from the red currant flavors to the spicy, vanilla-accented oak from barrels.",
         "86",
         "72.0",
         "Unknown",
         "Prime 2011 Midoriya Hills Vineyard Cabernet Sauvignon (Napa Valley)",
         "Cabernet Sauvignon",
         "Prime",
         "2011",
         "full_red",
         "red",
         "medium",
         "New World",
         "California",
         "luxury"
        ],
        [
         "97315",
         "US",
         "Benefitting from 11 months in 40% new French oak, this opens with aromas of crushed raspberries, leading into full, round fruit flavors across the midpalate. It runs into some slightly chewy tannins, which is one of the differences between Southern Oregon and Willamette Valley Pinots.",
         "91",
         "34.0",
         "Paul Gregutt",
         "DanCin 2014 Pas de Chat Pinot Noir (Southern Oregon)",
         "Pinot Noir",
         "DanCin",
         "2014",
         "light_red",
         "red",
         "high",
         "New World",
         "Oregon",
         "ultra"
        ],
        [
         "1795",
         "US",
         "Since planting in 1997, Bucher Vineyard has been a renowned source of Pinot Noir for exceptional local wineries. Now the Bucher family is making their own wine, with good results. The wine is dry, fresh and keen in acidity, and has considerable weight, with ripe, forward raspberry, cherry, bacon, sautéed wild mushroom and exotic spice flavors. However, it's still too young. Begin to enjoy it around 2018.",
         "91",
         "40.0",
         "Unknown",
         "Bucher 2012 Pinot Noir (Russian River Valley)",
         "Pinot Noir",
         "Bucher",
         "2012",
         "light_red",
         "red",
         "high",
         "New World",
         "California",
         "ultra"
        ],
        [
         "33666",
         "France",
         "Fresh notes of crunchy red cherry have a spicy edge of pepper. The body of this slender Pinot Noir is very light, totally peppery and very appetizing. The structure is soft and very refreshing. This could also be chilled and is a fabulously light-bodied but sprightly lunch red. The finish is perfectly dry and very enlivening.",
         "90",
         "20.0",
         "Anne Krebiehl MW",
         "Domaine Rieflé-Landmann 2015 Bonheur Convivial Pinot Noir (Alsace)",
         "Pinot Noir",
         "Domaine Rieflé-Landmann",
         "2015",
         "light_red",
         "red",
         "high",
         "Old World",
         "Alsace",
         "premium"
        ],
        [
         "9840",
         "US",
         "While a bit lean in concentration, yellow apple, pear and lemon are pristine and ripe on the nose and palate. The mouthfeel is a bit broad and flat but finishes briskly. Drink now.",
         "86",
         "18.0",
         "Anna Lee C. Iijima",
         "Sherwood House Vineyards 2016 Oregon Road Chardonnay (North Fork of Long Island)",
         "Chardonnay",
         "Sherwood House Vineyards",
         "2016",
         "full_white",
         "white",
         "medium",
         "New World",
         "New York",
         "premium"
        ],
        [
         "53917",
         "South Africa",
         "Surprisingly shy and reserved in nature, this offers subtle aromas and flavors of apple core and spiced orange peel. Soft and accessible, it's direct and clean, yet short on the finish. Drink now.",
         "85",
         "22.0",
         "Lauren Buzzeo",
         "Vergelegen 2014 Chardonnay (Stellenbosch)",
         "Chardonnay",
         "Vergelegen",
         "2014",
         "full_white",
         "white",
         "medium",
         "New World",
         "Stellenbosch",
         "premium"
        ],
        [
         "129567",
         "US",
         "Beautifuly integrated oak spice and a deep well of fruit flavors combine in this richly complex and layered wine. It's medium to full in body, supple and mouthfilling in texture, and brings a great array of classic aromas to the table. Dark cherry, forest floor, cedar and a hint of wood smoke meld into a feast of flavor.",
         "93",
         "56.0",
         "Jim Gordon",
         "Goldeneye 2014 Pinot Noir (Anderson Valley)",
         "Pinot Noir",
         "Goldeneye",
         "2014",
         "light_red",
         "red",
         "high",
         "New World",
         "California",
         "luxury"
        ],
        [
         "128501",
         "US",
         "Aromas of baked apple, spice and pear are followed by full-bodied almost unctuous fruit and barrel flavors. Baking spice flavors linger on the finish.",
         "89",
         "20.0",
         "Sean P. Sullivan",
         "Ryan Patrick 2015 Rock Island Chardonnay (Columbia Valley (WA))",
         "Chardonnay",
         "Ryan Patrick",
         "2015",
         "full_white",
         "white",
         "medium",
         "New World",
         "Washington",
         "premium"
        ],
        [
         "45644",
         "US",
         "Rich and concentrated in flavor, like Black Kite's other '07 single-vineyard Pinots. Shows similar flavors of blackberries, cherries, raspberries, cola, chocolate, anise, sandalwood and pepper. Yet curiously soft, and probably the least ageable. Drink now.",
         "91",
         "52.0",
         "Unknown",
         "Black Kite 2007 River Turn Pinot Noir (Anderson Valley)",
         "Pinot Noir",
         "Black Kite",
         "2007",
         "light_red",
         "red",
         "high",
         "New World",
         "California",
         "luxury"
        ],
        [
         "19824",
         "France",
         "Soft and ripe, with a sprinkling of pepper and spice, this is a rich, gentle wine. The tannins are open, lying under the lively black and red berry fruits. It will age over the next few years, but is not for the long-term.",
         "93",
         null,
         "Roger Voss",
         "Domaine Parent 2007 Les Epenots Premier Cru  (Pommard)",
         "Pinot Noir",
         "Domaine Parent",
         "2007",
         "light_red",
         "red",
         "high",
         "Old World",
         "Burgundy",
         null
        ],
        [
         "51496",
         "US",
         "This immaculate, fresh and beautifully defined wine is Aubichon's entry-level Pinot Noir, and sets the stage for a lovely lineup. Cranberry, cucumber, wet stone and even a faint hint of banana wreathe aromatically into a sinuous midpalate with both density and focus.",
         "91",
         "35.0",
         "Paul Gregutt",
         "Aubichon Cellars 2011 Pinot Noir (Willamette Valley)",
         "Pinot Noir",
         "Aubichon Cellars",
         "2011",
         "light_red",
         "red",
         "high",
         "New World",
         "Oregon",
         "ultra"
        ],
        [
         "122742",
         "New Zealand",
         "Still youthful and vibrant, the 2007 Taylors Pass Pinot Noir features full-on black cherry fruit, tinged with hints of herbs and licorice. It's a beefy, chunky Pinot that should age reasonably well; drink now–2018.",
         "90",
         "44.0",
         "Joe Czerwinski",
         "Villa Maria 2007 Taylors Pass Vineyard Pinot Noir (Marlborough)",
         "Pinot Noir",
         "Villa Maria",
         "2007",
         "light_red",
         "red",
         "high",
         "New World",
         "Marlborough",
         "ultra"
        ],
        [
         "28341",
         "US",
         "Coming from a site best known for its Syrah, this wine brings high-toned aromas of violets, herb and dark fruit. The black-fruit flavors are rich yet supple, with fine-grained but occasionally toothy tannins providing support. Mocha flavors linger on the finish. It's a bit oak heavy but by and large carries it.",
         "89",
         "39.0",
         "Sean P. Sullivan",
         "College Cellars 2014 Les Collines Vineyard Cabernet Sauvignon (Walla Walla Valley (WA))",
         "Cabernet Sauvignon",
         "College Cellars",
         "2014",
         "full_red",
         "red",
         "medium",
         "New World",
         "Washington",
         "ultra"
        ],
        [
         "16656",
         "US",
         "The fantastic nose pitches French toast together with Meyer lemon pith, crushed rock, struck match and a slight sour-cream element. This wine is immediately lively on the tongue, with lots of but not overdone acidity. Yeasty toast flavors are cut by lemon and poached pear on a racy and focused palate.",
         "93",
         "48.0",
         "Matt Kettmann",
         "Testarossa 2013 La Rinconada Vineyard Chardonnay (Sta. Rita Hills)",
         "Chardonnay",
         "Testarossa",
         "2013",
         "full_white",
         "white",
         "high",
         "New World",
         "California",
         "ultra"
        ],
        [
         "97731",
         "US",
         "Aromas of barrel spice, purple fruit and herb lead to well-balanced fruit and barrel flavors. It's an unusual interpretation of Cabernet. Still, it should have a long life in front of it, showing a lot of structure.",
         "91",
         "85.0",
         "Sean P. Sullivan",
         "Col Solare 2014 Component Collection Cabernet Sauvignon (Red Mountain)",
         "Cabernet Sauvignon",
         "Col Solare",
         "2014",
         "full_red",
         "red",
         "high",
         "New World",
         "Washington",
         "luxury"
        ],
        [
         "112631",
         "US",
         "This is an everyday Pinot, with some classy features. It's silky and elegant in the mouth, with good acidity. The raspberry and cherry flavors are one-dimensional and sweet.",
         "85",
         "20.0",
         "Unknown",
         "Carmel Road 2009 Pinot Noir (Monterey)",
         "Pinot Noir",
         "Carmel Road",
         "2009",
         "light_red",
         "red",
         "medium",
         "New World",
         "California",
         "premium"
        ],
        [
         "124061",
         "Australia",
         "White peach and toasted grain aromas ease gently into a plump, custardy mouthful of melon and stone fruit. Balanced nuttiness frames the wine, giving it just enough structure on the elegant, plush finish. Drink now–2020.",
         "92",
         "30.0",
         "Joe Czerwinski",
         "Robert Oatley 2015 Finisterre Chardonnay (Margaret River)",
         "Chardonnay",
         "Robert Oatley",
         "2015",
         "full_white",
         "white",
         "high",
         "New World",
         "Margaret River",
         "super"
        ],
        [
         "102587",
         "US",
         "A simple Pinot Noir, dry and light-bodied, with thinned-down cherry, cola and raspberry jam flavors.",
         "82",
         "16.0",
         "Unknown",
         "Pinot Patch 2012 Pinot Noir (California)",
         "Pinot Noir",
         "Pinot Patch",
         "2012",
         "light_red",
         "red",
         "medium",
         "New World",
         "California",
         "popular"
        ],
        [
         "60276",
         "US",
         "Fogarty's basic '05 Chard shows an exciting crispness and minerality that, good as it is, makes you long for the single-vineyard bottlings to come. There's an elegant angularity to the wine despite the succulent pineapples, kiwis and new oak, and a brisk acidity that makes it finish vibrantly clean.",
         "90",
         "28.0",
         "Unknown",
         "Thomas Fogarty 2005 Chardonnay (Santa Cruz Mountains)",
         "Chardonnay",
         "Thomas Fogarty",
         "2005",
         "full_white",
         "white",
         "high",
         "New World",
         "California",
         "super"
        ],
        [
         "91299",
         "France",
         "This ripe, fruity wine is ready to drink. With red berry fruits and fresh acidity spiced with wood flavors, it's an easy wine that is ripe and soft.",
         "85",
         "14.0",
         "Roger Voss",
         "Patient Cottat 2012 Le Grand Caillou Pinot Noir (Vin de France)",
         "Pinot Noir",
         "Patient Cottat",
         "2012",
         "light_red",
         "red",
         "medium",
         "Old World",
         "Vin de France",
         "popular"
        ],
        [
         "50132",
         "France",
         "Lovely cassis and jam scents are hampered by some slight musty aromas, which eventually give way to a blast of black licorice. Burnt sugar and cassis dominate the soft, sweetish palate that offers just a bit of grip. The short finish is reminiscent of a raspberry cordial. Drink up.",
         "84",
         "10.0",
         "Unknown",
         "Les Jamelles 2006 Cabernet Sauvignon (Vin de Pays d'Oc)",
         "Cabernet Sauvignon",
         "Les Jamelles",
         "2006",
         "full_red",
         "red",
         "medium",
         "Old World",
         "Languedoc-Roussillon",
         "value"
        ],
        [
         "126494",
         "Italy",
         "Here's a fresh and easy Chardonnay from southern Italy with citrus aromas that are followed by notes of pear and peach. The wine offers ripe fruit aromas and a touch of creaminess on the palate.",
         "86",
         "13.0",
         "Unknown",
         "Cantele 2011 Chardonnay (Salento)",
         "Chardonnay",
         "Cantele",
         "2011",
         "full_white",
         "white",
         "medium",
         "Old World",
         "Salento",
         "popular"
        ]
       ],
       "shape": {
        "columns": 15,
        "rows": 1000
       }
      },
      "text/html": [
       "<div>\n",
       "<style scoped>\n",
       "    .dataframe tbody tr th:only-of-type {\n",
       "        vertical-align: middle;\n",
       "    }\n",
       "\n",
       "    .dataframe tbody tr th {\n",
       "        vertical-align: top;\n",
       "    }\n",
       "\n",
       "    .dataframe thead th {\n",
       "        text-align: right;\n",
       "    }\n",
       "</style>\n",
       "<table border=\"1\" class=\"dataframe\">\n",
       "  <thead>\n",
       "    <tr style=\"text-align: right;\">\n",
       "      <th></th>\n",
       "      <th>country</th>\n",
       "      <th>description</th>\n",
       "      <th>points</th>\n",
       "      <th>price</th>\n",
       "      <th>taster_name</th>\n",
       "      <th>title</th>\n",
       "      <th>variety</th>\n",
       "      <th>winery</th>\n",
       "      <th>year</th>\n",
       "      <th>wine_style</th>\n",
       "      <th>type</th>\n",
       "      <th>quality</th>\n",
       "      <th>classification</th>\n",
       "      <th>location</th>\n",
       "      <th>band</th>\n",
       "    </tr>\n",
       "  </thead>\n",
       "  <tbody>\n",
       "    <tr>\n",
       "      <th>32797</th>\n",
       "      <td>US</td>\n",
       "      <td>Perfumed in rose and violet, with a sauvage sc...</td>\n",
       "      <td>90</td>\n",
       "      <td>30.0</td>\n",
       "      <td>Virginie Boone</td>\n",
       "      <td>Row Eleven 2013 Dutton Sanchietti Pinot Noir (...</td>\n",
       "      <td>Pinot Noir</td>\n",
       "      <td>Row Eleven</td>\n",
       "      <td>2013</td>\n",
       "      <td>light_red</td>\n",
       "      <td>red</td>\n",
       "      <td>high</td>\n",
       "      <td>New World</td>\n",
       "      <td>California</td>\n",
       "      <td>super</td>\n",
       "    </tr>\n",
       "    <tr>\n",
       "      <th>105190</th>\n",
       "      <td>US</td>\n",
       "      <td>This is a very lush Cab, made in the modern st...</td>\n",
       "      <td>92</td>\n",
       "      <td>70.0</td>\n",
       "      <td>Unknown</td>\n",
       "      <td>Robert Craig 2004 Cabernet Sauvignon (Mount Ve...</td>\n",
       "      <td>Cabernet Sauvignon</td>\n",
       "      <td>Robert Craig</td>\n",
       "      <td>2004</td>\n",
       "      <td>full_red</td>\n",
       "      <td>red</td>\n",
       "      <td>high</td>\n",
       "      <td>New World</td>\n",
       "      <td>California</td>\n",
       "      <td>luxury</td>\n",
       "    </tr>\n",
       "    <tr>\n",
       "      <th>89652</th>\n",
       "      <td>Australia</td>\n",
       "      <td>Full-bodied and plush in texture, this offers ...</td>\n",
       "      <td>85</td>\n",
       "      <td>8.0</td>\n",
       "      <td>Joe Czerwinski</td>\n",
       "      <td>Yellow Tail 2015 Chardonnay (South Eastern Aus...</td>\n",
       "      <td>Chardonnay</td>\n",
       "      <td>Yellow Tail</td>\n",
       "      <td>2015</td>\n",
       "      <td>full_white</td>\n",
       "      <td>white</td>\n",
       "      <td>medium</td>\n",
       "      <td>New World</td>\n",
       "      <td>South Eastern Australia</td>\n",
       "      <td>value</td>\n",
       "    </tr>\n",
       "    <tr>\n",
       "      <th>115814</th>\n",
       "      <td>US</td>\n",
       "      <td>Where else in this country can you find $12 Pi...</td>\n",
       "      <td>87</td>\n",
       "      <td>12.0</td>\n",
       "      <td>Paul Gregutt</td>\n",
       "      <td>Eola Hills 2006 Pinot Noir (Oregon)</td>\n",
       "      <td>Pinot Noir</td>\n",
       "      <td>Eola Hills</td>\n",
       "      <td>2006</td>\n",
       "      <td>light_red</td>\n",
       "      <td>red</td>\n",
       "      <td>medium</td>\n",
       "      <td>New World</td>\n",
       "      <td>Oregon</td>\n",
       "      <td>value</td>\n",
       "    </tr>\n",
       "    <tr>\n",
       "      <th>93320</th>\n",
       "      <td>US</td>\n",
       "      <td>This shows an old-fashioned Spring Mountain dr...</td>\n",
       "      <td>87</td>\n",
       "      <td>55.0</td>\n",
       "      <td>Unknown</td>\n",
       "      <td>Bougetz 2010 Amaryllis Cabernet Sauvignon (Spr...</td>\n",
       "      <td>Cabernet Sauvignon</td>\n",
       "      <td>Bougetz</td>\n",
       "      <td>2010</td>\n",
       "      <td>full_red</td>\n",
       "      <td>red</td>\n",
       "      <td>medium</td>\n",
       "      <td>New World</td>\n",
       "      <td>California</td>\n",
       "      <td>luxury</td>\n",
       "    </tr>\n",
       "    <tr>\n",
       "      <th>...</th>\n",
       "      <td>...</td>\n",
       "      <td>...</td>\n",
       "      <td>...</td>\n",
       "      <td>...</td>\n",
       "      <td>...</td>\n",
       "      <td>...</td>\n",
       "      <td>...</td>\n",
       "      <td>...</td>\n",
       "      <td>...</td>\n",
       "      <td>...</td>\n",
       "      <td>...</td>\n",
       "      <td>...</td>\n",
       "      <td>...</td>\n",
       "      <td>...</td>\n",
       "      <td>...</td>\n",
       "    </tr>\n",
       "    <tr>\n",
       "      <th>67680</th>\n",
       "      <td>US</td>\n",
       "      <td>This wine offers aromas of herbs, black cherry...</td>\n",
       "      <td>85</td>\n",
       "      <td>11.0</td>\n",
       "      <td>Sean P. Sullivan</td>\n",
       "      <td>Castle Rock 2012 Cabernet Sauvignon (Columbia ...</td>\n",
       "      <td>Cabernet Sauvignon</td>\n",
       "      <td>Castle Rock</td>\n",
       "      <td>2012</td>\n",
       "      <td>full_red</td>\n",
       "      <td>red</td>\n",
       "      <td>medium</td>\n",
       "      <td>New World</td>\n",
       "      <td>Washington</td>\n",
       "      <td>value</td>\n",
       "    </tr>\n",
       "    <tr>\n",
       "      <th>115072</th>\n",
       "      <td>US</td>\n",
       "      <td>This wine is at the fringes in Washington, exp...</td>\n",
       "      <td>91</td>\n",
       "      <td>38.0</td>\n",
       "      <td>Sean P. Sullivan</td>\n",
       "      <td>Tulpen 2010 Dry Land Cabernet Sauvignon (Walla...</td>\n",
       "      <td>Cabernet Sauvignon</td>\n",
       "      <td>Tulpen</td>\n",
       "      <td>2010</td>\n",
       "      <td>full_red</td>\n",
       "      <td>red</td>\n",
       "      <td>high</td>\n",
       "      <td>New World</td>\n",
       "      <td>Washington</td>\n",
       "      <td>ultra</td>\n",
       "    </tr>\n",
       "    <tr>\n",
       "      <th>53245</th>\n",
       "      <td>France</td>\n",
       "      <td>Based in the Côte des Blancs, Nicolas Feuillat...</td>\n",
       "      <td>90</td>\n",
       "      <td>56.0</td>\n",
       "      <td>Roger Voss</td>\n",
       "      <td>Nicolas Feuillatte 2006 Blanc de Blancs Brut C...</td>\n",
       "      <td>Chardonnay</td>\n",
       "      <td>Nicolas Feuillatte</td>\n",
       "      <td>2006</td>\n",
       "      <td>full_white</td>\n",
       "      <td>white</td>\n",
       "      <td>high</td>\n",
       "      <td>Old World</td>\n",
       "      <td>Champagne</td>\n",
       "      <td>luxury</td>\n",
       "    </tr>\n",
       "    <tr>\n",
       "      <th>50820</th>\n",
       "      <td>US</td>\n",
       "      <td>Not as rich or concentrated as the previous vi...</td>\n",
       "      <td>85</td>\n",
       "      <td>25.0</td>\n",
       "      <td>Unknown</td>\n",
       "      <td>Carpe Diem 2001 Firepeak Vineyard Chardonnay (...</td>\n",
       "      <td>Chardonnay</td>\n",
       "      <td>Carpe Diem</td>\n",
       "      <td>2001</td>\n",
       "      <td>full_white</td>\n",
       "      <td>white</td>\n",
       "      <td>medium</td>\n",
       "      <td>New World</td>\n",
       "      <td>California</td>\n",
       "      <td>super</td>\n",
       "    </tr>\n",
       "    <tr>\n",
       "      <th>11496</th>\n",
       "      <td>Australia</td>\n",
       "      <td>Made in a somewhat restrained, focused style, ...</td>\n",
       "      <td>92</td>\n",
       "      <td>75.0</td>\n",
       "      <td>Joe Czerwinski</td>\n",
       "      <td>Cullen 2008 Kevin John Chardonnay (Margaret Ri...</td>\n",
       "      <td>Chardonnay</td>\n",
       "      <td>Cullen</td>\n",
       "      <td>2008</td>\n",
       "      <td>full_white</td>\n",
       "      <td>white</td>\n",
       "      <td>high</td>\n",
       "      <td>New World</td>\n",
       "      <td>Margaret River</td>\n",
       "      <td>luxury</td>\n",
       "    </tr>\n",
       "  </tbody>\n",
       "</table>\n",
       "<p>1000 rows × 15 columns</p>\n",
       "</div>"
      ],
      "text/plain": [
       "          country                                        description  points  \\\n",
       "32797          US  Perfumed in rose and violet, with a sauvage sc...      90   \n",
       "105190         US  This is a very lush Cab, made in the modern st...      92   \n",
       "89652   Australia  Full-bodied and plush in texture, this offers ...      85   \n",
       "115814         US  Where else in this country can you find $12 Pi...      87   \n",
       "93320          US  This shows an old-fashioned Spring Mountain dr...      87   \n",
       "...           ...                                                ...     ...   \n",
       "67680          US  This wine offers aromas of herbs, black cherry...      85   \n",
       "115072         US  This wine is at the fringes in Washington, exp...      91   \n",
       "53245      France  Based in the Côte des Blancs, Nicolas Feuillat...      90   \n",
       "50820          US  Not as rich or concentrated as the previous vi...      85   \n",
       "11496   Australia  Made in a somewhat restrained, focused style, ...      92   \n",
       "\n",
       "        price       taster_name  \\\n",
       "32797    30.0    Virginie Boone   \n",
       "105190   70.0           Unknown   \n",
       "89652     8.0    Joe Czerwinski   \n",
       "115814   12.0      Paul Gregutt   \n",
       "93320    55.0           Unknown   \n",
       "...       ...               ...   \n",
       "67680    11.0  Sean P. Sullivan   \n",
       "115072   38.0  Sean P. Sullivan   \n",
       "53245    56.0        Roger Voss   \n",
       "50820    25.0           Unknown   \n",
       "11496    75.0    Joe Czerwinski   \n",
       "\n",
       "                                                    title             variety  \\\n",
       "32797   Row Eleven 2013 Dutton Sanchietti Pinot Noir (...          Pinot Noir   \n",
       "105190  Robert Craig 2004 Cabernet Sauvignon (Mount Ve...  Cabernet Sauvignon   \n",
       "89652   Yellow Tail 2015 Chardonnay (South Eastern Aus...          Chardonnay   \n",
       "115814                Eola Hills 2006 Pinot Noir (Oregon)          Pinot Noir   \n",
       "93320   Bougetz 2010 Amaryllis Cabernet Sauvignon (Spr...  Cabernet Sauvignon   \n",
       "...                                                   ...                 ...   \n",
       "67680   Castle Rock 2012 Cabernet Sauvignon (Columbia ...  Cabernet Sauvignon   \n",
       "115072  Tulpen 2010 Dry Land Cabernet Sauvignon (Walla...  Cabernet Sauvignon   \n",
       "53245   Nicolas Feuillatte 2006 Blanc de Blancs Brut C...          Chardonnay   \n",
       "50820   Carpe Diem 2001 Firepeak Vineyard Chardonnay (...          Chardonnay   \n",
       "11496   Cullen 2008 Kevin John Chardonnay (Margaret Ri...          Chardonnay   \n",
       "\n",
       "                    winery  year  wine_style   type quality classification  \\\n",
       "32797           Row Eleven  2013   light_red    red    high      New World   \n",
       "105190        Robert Craig  2004    full_red    red    high      New World   \n",
       "89652          Yellow Tail  2015  full_white  white  medium      New World   \n",
       "115814          Eola Hills  2006   light_red    red  medium      New World   \n",
       "93320              Bougetz  2010    full_red    red  medium      New World   \n",
       "...                    ...   ...         ...    ...     ...            ...   \n",
       "67680          Castle Rock  2012    full_red    red  medium      New World   \n",
       "115072              Tulpen  2010    full_red    red    high      New World   \n",
       "53245   Nicolas Feuillatte  2006  full_white  white    high      Old World   \n",
       "50820           Carpe Diem  2001  full_white  white  medium      New World   \n",
       "11496               Cullen  2008  full_white  white    high      New World   \n",
       "\n",
       "                       location    band  \n",
       "32797                California   super  \n",
       "105190               California  luxury  \n",
       "89652   South Eastern Australia   value  \n",
       "115814                   Oregon   value  \n",
       "93320                California  luxury  \n",
       "...                         ...     ...  \n",
       "67680                Washington   value  \n",
       "115072               Washington   ultra  \n",
       "53245                 Champagne  luxury  \n",
       "50820                California   super  \n",
       "11496            Margaret River  luxury  \n",
       "\n",
       "[1000 rows x 15 columns]"
      ]
     },
     "execution_count": 21,
     "metadata": {},
     "output_type": "execute_result"
    }
   ],
   "source": [
    "n = 1000\n",
    "wine_df_subset = wine_df.query('variety in @top_varieties').sample(n, random_state=42).copy()\n",
    "wine_df_subset"
   ]
  },
  {
   "cell_type": "markdown",
   "metadata": {},
   "source": [
    "**Inspect the distribution of varieties and quality features in the subset**"
   ]
  },
  {
   "cell_type": "code",
   "execution_count": 22,
   "metadata": {},
   "outputs": [
    {
     "data": {
      "application/vnd.microsoft.datawrangler.viewer.v0+json": {
       "columns": [
        {
         "name": "variety",
         "rawType": "object",
         "type": "string"
        },
        {
         "name": "count",
         "rawType": "int64",
         "type": "integer"
        }
       ],
       "conversionMethod": "pd.DataFrame",
       "ref": "5111c901-a77b-4b85-9d3d-62f64e3ac43a",
       "rows": [
        [
         "Pinot Noir",
         "393"
        ],
        [
         "Chardonnay",
         "357"
        ],
        [
         "Cabernet Sauvignon",
         "250"
        ]
       ],
       "shape": {
        "columns": 1,
        "rows": 3
       }
      },
      "text/html": [
       "<div>\n",
       "<style scoped>\n",
       "    .dataframe tbody tr th:only-of-type {\n",
       "        vertical-align: middle;\n",
       "    }\n",
       "\n",
       "    .dataframe tbody tr th {\n",
       "        vertical-align: top;\n",
       "    }\n",
       "\n",
       "    .dataframe thead th {\n",
       "        text-align: right;\n",
       "    }\n",
       "</style>\n",
       "<table border=\"1\" class=\"dataframe\">\n",
       "  <thead>\n",
       "    <tr style=\"text-align: right;\">\n",
       "      <th></th>\n",
       "      <th>count</th>\n",
       "    </tr>\n",
       "    <tr>\n",
       "      <th>variety</th>\n",
       "      <th></th>\n",
       "    </tr>\n",
       "  </thead>\n",
       "  <tbody>\n",
       "    <tr>\n",
       "      <th>Pinot Noir</th>\n",
       "      <td>393</td>\n",
       "    </tr>\n",
       "    <tr>\n",
       "      <th>Chardonnay</th>\n",
       "      <td>357</td>\n",
       "    </tr>\n",
       "    <tr>\n",
       "      <th>Cabernet Sauvignon</th>\n",
       "      <td>250</td>\n",
       "    </tr>\n",
       "  </tbody>\n",
       "</table>\n",
       "</div>"
      ],
      "text/plain": [
       "                    count\n",
       "variety                  \n",
       "Pinot Noir            393\n",
       "Chardonnay            357\n",
       "Cabernet Sauvignon    250"
      ]
     },
     "execution_count": 22,
     "metadata": {},
     "output_type": "execute_result"
    }
   ],
   "source": [
    "# count of reviews by variety\n",
    "wine_df_subset.variety.value_counts().to_frame()"
   ]
  },
  {
   "cell_type": "code",
   "execution_count": 23,
   "metadata": {},
   "outputs": [
    {
     "data": {
      "application/vnd.microsoft.datawrangler.viewer.v0+json": {
       "columns": [
        {
         "name": "quality",
         "rawType": "object",
         "type": "string"
        },
        {
         "name": "count",
         "rawType": "int64",
         "type": "integer"
        }
       ],
       "conversionMethod": "pd.DataFrame",
       "ref": "f6994443-997b-4da5-8d9b-6e3325009761",
       "rows": [
        [
         "medium",
         "521"
        ],
        [
         "high",
         "479"
        ]
       ],
       "shape": {
        "columns": 1,
        "rows": 2
       }
      },
      "text/html": [
       "<div>\n",
       "<style scoped>\n",
       "    .dataframe tbody tr th:only-of-type {\n",
       "        vertical-align: middle;\n",
       "    }\n",
       "\n",
       "    .dataframe tbody tr th {\n",
       "        vertical-align: top;\n",
       "    }\n",
       "\n",
       "    .dataframe thead th {\n",
       "        text-align: right;\n",
       "    }\n",
       "</style>\n",
       "<table border=\"1\" class=\"dataframe\">\n",
       "  <thead>\n",
       "    <tr style=\"text-align: right;\">\n",
       "      <th></th>\n",
       "      <th>count</th>\n",
       "    </tr>\n",
       "    <tr>\n",
       "      <th>quality</th>\n",
       "      <th></th>\n",
       "    </tr>\n",
       "  </thead>\n",
       "  <tbody>\n",
       "    <tr>\n",
       "      <th>medium</th>\n",
       "      <td>521</td>\n",
       "    </tr>\n",
       "    <tr>\n",
       "      <th>high</th>\n",
       "      <td>479</td>\n",
       "    </tr>\n",
       "  </tbody>\n",
       "</table>\n",
       "</div>"
      ],
      "text/plain": [
       "         count\n",
       "quality       \n",
       "medium     521\n",
       "high       479"
      ]
     },
     "execution_count": 23,
     "metadata": {},
     "output_type": "execute_result"
    }
   ],
   "source": [
    "# count of reviews by quality\n",
    "wine_df_subset.quality.value_counts().to_frame()"
   ]
  },
  {
   "cell_type": "code",
   "execution_count": 24,
   "metadata": {},
   "outputs": [
    {
     "data": {
      "application/vnd.microsoft.datawrangler.viewer.v0+json": {
       "columns": [
        {
         "name": "points",
         "rawType": "int64",
         "type": "integer"
        },
        {
         "name": "count",
         "rawType": "int64",
         "type": "integer"
        }
       ],
       "conversionMethod": "pd.DataFrame",
       "ref": "0c99f268-d6cf-4f71-84a6-2e3db54d182f",
       "rows": [
        [
         "90",
         "123"
        ],
        [
         "92",
         "107"
        ],
        [
         "88",
         "105"
        ],
        [
         "91",
         "93"
        ],
        [
         "87",
         "92"
        ],
        [
         "86",
         "82"
        ],
        [
         "93",
         "74"
        ],
        [
         "89",
         "72"
        ],
        [
         "85",
         "68"
        ],
        [
         "84",
         "52"
        ],
        [
         "94",
         "43"
        ],
        [
         "95",
         "25"
        ],
        [
         "83",
         "22"
        ],
        [
         "82",
         "18"
        ],
        [
         "96",
         "11"
        ],
        [
         "81",
         "7"
        ],
        [
         "80",
         "3"
        ],
        [
         "97",
         "3"
        ]
       ],
       "shape": {
        "columns": 1,
        "rows": 18
       }
      },
      "text/html": [
       "<div>\n",
       "<style scoped>\n",
       "    .dataframe tbody tr th:only-of-type {\n",
       "        vertical-align: middle;\n",
       "    }\n",
       "\n",
       "    .dataframe tbody tr th {\n",
       "        vertical-align: top;\n",
       "    }\n",
       "\n",
       "    .dataframe thead th {\n",
       "        text-align: right;\n",
       "    }\n",
       "</style>\n",
       "<table border=\"1\" class=\"dataframe\">\n",
       "  <thead>\n",
       "    <tr style=\"text-align: right;\">\n",
       "      <th></th>\n",
       "      <th>count</th>\n",
       "    </tr>\n",
       "    <tr>\n",
       "      <th>points</th>\n",
       "      <th></th>\n",
       "    </tr>\n",
       "  </thead>\n",
       "  <tbody>\n",
       "    <tr>\n",
       "      <th>90</th>\n",
       "      <td>123</td>\n",
       "    </tr>\n",
       "    <tr>\n",
       "      <th>92</th>\n",
       "      <td>107</td>\n",
       "    </tr>\n",
       "    <tr>\n",
       "      <th>88</th>\n",
       "      <td>105</td>\n",
       "    </tr>\n",
       "    <tr>\n",
       "      <th>91</th>\n",
       "      <td>93</td>\n",
       "    </tr>\n",
       "    <tr>\n",
       "      <th>87</th>\n",
       "      <td>92</td>\n",
       "    </tr>\n",
       "    <tr>\n",
       "      <th>86</th>\n",
       "      <td>82</td>\n",
       "    </tr>\n",
       "    <tr>\n",
       "      <th>93</th>\n",
       "      <td>74</td>\n",
       "    </tr>\n",
       "    <tr>\n",
       "      <th>89</th>\n",
       "      <td>72</td>\n",
       "    </tr>\n",
       "    <tr>\n",
       "      <th>85</th>\n",
       "      <td>68</td>\n",
       "    </tr>\n",
       "    <tr>\n",
       "      <th>84</th>\n",
       "      <td>52</td>\n",
       "    </tr>\n",
       "    <tr>\n",
       "      <th>94</th>\n",
       "      <td>43</td>\n",
       "    </tr>\n",
       "    <tr>\n",
       "      <th>95</th>\n",
       "      <td>25</td>\n",
       "    </tr>\n",
       "    <tr>\n",
       "      <th>83</th>\n",
       "      <td>22</td>\n",
       "    </tr>\n",
       "    <tr>\n",
       "      <th>82</th>\n",
       "      <td>18</td>\n",
       "    </tr>\n",
       "    <tr>\n",
       "      <th>96</th>\n",
       "      <td>11</td>\n",
       "    </tr>\n",
       "    <tr>\n",
       "      <th>81</th>\n",
       "      <td>7</td>\n",
       "    </tr>\n",
       "    <tr>\n",
       "      <th>80</th>\n",
       "      <td>3</td>\n",
       "    </tr>\n",
       "    <tr>\n",
       "      <th>97</th>\n",
       "      <td>3</td>\n",
       "    </tr>\n",
       "  </tbody>\n",
       "</table>\n",
       "</div>"
      ],
      "text/plain": [
       "        count\n",
       "points       \n",
       "90        123\n",
       "92        107\n",
       "88        105\n",
       "91         93\n",
       "87         92\n",
       "86         82\n",
       "93         74\n",
       "89         72\n",
       "85         68\n",
       "84         52\n",
       "94         43\n",
       "95         25\n",
       "83         22\n",
       "82         18\n",
       "96         11\n",
       "81          7\n",
       "80          3\n",
       "97          3"
      ]
     },
     "execution_count": 24,
     "metadata": {},
     "output_type": "execute_result"
    }
   ],
   "source": [
    "# count of reviews by points\n",
    "wine_df_subset.points.value_counts().to_frame()"
   ]
  },
  {
   "cell_type": "markdown",
   "metadata": {},
   "source": [
    "**Convert `description` to word `tokens`**"
   ]
  },
  {
   "cell_type": "code",
   "execution_count": 25,
   "metadata": {},
   "outputs": [
    {
     "data": {
      "application/vnd.jupyter.widget-view+json": {
       "model_id": "6200631a25a54e36b642b53e622ac811",
       "version_major": 2,
       "version_minor": 0
      },
      "text/plain": [
       "Pandas Apply:   0%|          | 0/1000 [00:00<?, ?it/s]"
      ]
     },
     "metadata": {},
     "output_type": "display_data"
    },
    {
     "data": {
      "application/vnd.microsoft.datawrangler.viewer.v0+json": {
       "columns": [
        {
         "name": "index",
         "rawType": "int64",
         "type": "integer"
        },
        {
         "name": "country",
         "rawType": "object",
         "type": "string"
        },
        {
         "name": "description",
         "rawType": "object",
         "type": "string"
        },
        {
         "name": "points",
         "rawType": "int64",
         "type": "integer"
        },
        {
         "name": "price",
         "rawType": "float64",
         "type": "float"
        },
        {
         "name": "taster_name",
         "rawType": "object",
         "type": "string"
        },
        {
         "name": "title",
         "rawType": "object",
         "type": "string"
        },
        {
         "name": "variety",
         "rawType": "object",
         "type": "string"
        },
        {
         "name": "winery",
         "rawType": "object",
         "type": "string"
        },
        {
         "name": "year",
         "rawType": "int64",
         "type": "integer"
        },
        {
         "name": "wine_style",
         "rawType": "object",
         "type": "string"
        },
        {
         "name": "type",
         "rawType": "object",
         "type": "string"
        },
        {
         "name": "quality",
         "rawType": "object",
         "type": "string"
        },
        {
         "name": "classification",
         "rawType": "object",
         "type": "string"
        },
        {
         "name": "location",
         "rawType": "object",
         "type": "string"
        },
        {
         "name": "band",
         "rawType": "object",
         "type": "string"
        },
        {
         "name": "tokens",
         "rawType": "object",
         "type": "string"
        }
       ],
       "conversionMethod": "pd.DataFrame",
       "ref": "1f27625a-8317-4c69-989b-6586702759b8",
       "rows": [
        [
         "32797",
         "US",
         "Perfumed in rose and violet, with a sauvage scent of musk, this distinctive wine is soft and silky on the palate. It features a mix of red cherry and sage, with a full body and an expansive and lengthy finish.",
         "90",
         "30.0",
         "Virginie Boone",
         "Row Eleven 2013 Dutton Sanchietti Pinot Noir (Russian River Valley)",
         "Pinot Noir",
         "Row Eleven",
         "2013",
         "light_red",
         "red",
         "high",
         "New World",
         "California",
         "super",
         "perfum rose violet sauvag scent musk distinct wine soft silki palat it featur mix red cherri sage full bodi expans lengthi finish"
        ],
        [
         "105190",
         "US",
         "This is a very lush Cab, made in the modern style. All the elements of cult Cab are there: the soft voluptuousness, the finely ground, sweet tannins, the immensely ripe currant, blackberry and cocoa flavors, the coating of fine, smoky oak. I don't think it's an ager because of the softness and ripeness.",
         "92",
         "70.0",
         "Unknown",
         "Robert Craig 2004 Cabernet Sauvignon (Mount Veeder)",
         "Cabernet Sauvignon",
         "Robert Craig",
         "2004",
         "full_red",
         "red",
         "high",
         "New World",
         "California",
         "luxury",
         "thi lush cab made modern style all element cult cab soft voluptu fine ground sweet tannin immens ripe currant blackberri cocoa flavor coat fine smoki oak i n't think 's ager soft ripe"
        ],
        [
         "89652",
         "Australia",
         "Full-bodied and plush in texture, this offers plenty of apricot marmalade fruit and some nasturtium-blossom-like spice, making for a satisfying mouthful of flavor.",
         "85",
         "8.0",
         "Joe Czerwinski",
         "Yellow Tail 2015 Chardonnay (South Eastern Australia)",
         "Chardonnay",
         "Yellow Tail",
         "2015",
         "full_white",
         "white",
         "medium",
         "New World",
         "South Eastern Australia",
         "value",
         "full-bodi plush textur offer plenti apricot marmalad fruit nasturtium-blossom-lik spice make satisfi mouth flavor"
        ],
        [
         "115814",
         "US",
         "Where else in this country can you find $12 Pinot with actual varietal character? Yes, it's quite young, light, lean, tart and even simple, but it does taste like the grape it's made from, and avoids the vegetal and the overtly leathery qualities of many of its rivals. Gentle flavors of raspberry and cherry are supported with juicy acids and hints of spice. This would be a lovely companion to a simple roast chicken.",
         "87",
         "12.0",
         "Paul Gregutt",
         "Eola Hills 2006 Pinot Noir (Oregon)",
         "Pinot Noir",
         "Eola Hills",
         "2006",
         "light_red",
         "red",
         "medium",
         "New World",
         "Oregon",
         "value",
         "where els countri find 12 pinot actual variet charact ye 's quit young light lean tart even simpl tast like grape 's made avoid veget overtli leatheri qualiti mani rival gentl flavor raspberri cherri support juici acid hint spice thi would love companion simpl roast chicken"
        ],
        [
         "93320",
         "US",
         "This shows an old-fashioned Spring Mountain dryness and tannic astringency, which makes it hard to enjoy at the moment. Decant it for several hours to let it mellow so you can enjoy the deep core of black currant flavor.",
         "87",
         "55.0",
         "Unknown",
         "Bougetz 2010 Amaryllis Cabernet Sauvignon (Spring Mountain District)",
         "Cabernet Sauvignon",
         "Bougetz",
         "2010",
         "full_red",
         "red",
         "medium",
         "New World",
         "California",
         "luxury",
         "thi show old-fashion spring mountain dryness tannic astring make hard enjoy moment decant sever hour let mellow enjoy deep core black currant flavor"
        ]
       ],
       "shape": {
        "columns": 16,
        "rows": 5
       }
      },
      "text/html": [
       "<div>\n",
       "<style scoped>\n",
       "    .dataframe tbody tr th:only-of-type {\n",
       "        vertical-align: middle;\n",
       "    }\n",
       "\n",
       "    .dataframe tbody tr th {\n",
       "        vertical-align: top;\n",
       "    }\n",
       "\n",
       "    .dataframe thead th {\n",
       "        text-align: right;\n",
       "    }\n",
       "</style>\n",
       "<table border=\"1\" class=\"dataframe\">\n",
       "  <thead>\n",
       "    <tr style=\"text-align: right;\">\n",
       "      <th></th>\n",
       "      <th>country</th>\n",
       "      <th>description</th>\n",
       "      <th>points</th>\n",
       "      <th>price</th>\n",
       "      <th>taster_name</th>\n",
       "      <th>title</th>\n",
       "      <th>variety</th>\n",
       "      <th>winery</th>\n",
       "      <th>year</th>\n",
       "      <th>wine_style</th>\n",
       "      <th>type</th>\n",
       "      <th>quality</th>\n",
       "      <th>classification</th>\n",
       "      <th>location</th>\n",
       "      <th>band</th>\n",
       "      <th>tokens</th>\n",
       "    </tr>\n",
       "  </thead>\n",
       "  <tbody>\n",
       "    <tr>\n",
       "      <th>32797</th>\n",
       "      <td>US</td>\n",
       "      <td>Perfumed in rose and violet, with a sauvage sc...</td>\n",
       "      <td>90</td>\n",
       "      <td>30.0</td>\n",
       "      <td>Virginie Boone</td>\n",
       "      <td>Row Eleven 2013 Dutton Sanchietti Pinot Noir (...</td>\n",
       "      <td>Pinot Noir</td>\n",
       "      <td>Row Eleven</td>\n",
       "      <td>2013</td>\n",
       "      <td>light_red</td>\n",
       "      <td>red</td>\n",
       "      <td>high</td>\n",
       "      <td>New World</td>\n",
       "      <td>California</td>\n",
       "      <td>super</td>\n",
       "      <td>perfum rose violet sauvag scent musk distinct ...</td>\n",
       "    </tr>\n",
       "    <tr>\n",
       "      <th>105190</th>\n",
       "      <td>US</td>\n",
       "      <td>This is a very lush Cab, made in the modern st...</td>\n",
       "      <td>92</td>\n",
       "      <td>70.0</td>\n",
       "      <td>Unknown</td>\n",
       "      <td>Robert Craig 2004 Cabernet Sauvignon (Mount Ve...</td>\n",
       "      <td>Cabernet Sauvignon</td>\n",
       "      <td>Robert Craig</td>\n",
       "      <td>2004</td>\n",
       "      <td>full_red</td>\n",
       "      <td>red</td>\n",
       "      <td>high</td>\n",
       "      <td>New World</td>\n",
       "      <td>California</td>\n",
       "      <td>luxury</td>\n",
       "      <td>thi lush cab made modern style all element cul...</td>\n",
       "    </tr>\n",
       "    <tr>\n",
       "      <th>89652</th>\n",
       "      <td>Australia</td>\n",
       "      <td>Full-bodied and plush in texture, this offers ...</td>\n",
       "      <td>85</td>\n",
       "      <td>8.0</td>\n",
       "      <td>Joe Czerwinski</td>\n",
       "      <td>Yellow Tail 2015 Chardonnay (South Eastern Aus...</td>\n",
       "      <td>Chardonnay</td>\n",
       "      <td>Yellow Tail</td>\n",
       "      <td>2015</td>\n",
       "      <td>full_white</td>\n",
       "      <td>white</td>\n",
       "      <td>medium</td>\n",
       "      <td>New World</td>\n",
       "      <td>South Eastern Australia</td>\n",
       "      <td>value</td>\n",
       "      <td>full-bodi plush textur offer plenti apricot ma...</td>\n",
       "    </tr>\n",
       "    <tr>\n",
       "      <th>115814</th>\n",
       "      <td>US</td>\n",
       "      <td>Where else in this country can you find $12 Pi...</td>\n",
       "      <td>87</td>\n",
       "      <td>12.0</td>\n",
       "      <td>Paul Gregutt</td>\n",
       "      <td>Eola Hills 2006 Pinot Noir (Oregon)</td>\n",
       "      <td>Pinot Noir</td>\n",
       "      <td>Eola Hills</td>\n",
       "      <td>2006</td>\n",
       "      <td>light_red</td>\n",
       "      <td>red</td>\n",
       "      <td>medium</td>\n",
       "      <td>New World</td>\n",
       "      <td>Oregon</td>\n",
       "      <td>value</td>\n",
       "      <td>where els countri find 12 pinot actual variet ...</td>\n",
       "    </tr>\n",
       "    <tr>\n",
       "      <th>93320</th>\n",
       "      <td>US</td>\n",
       "      <td>This shows an old-fashioned Spring Mountain dr...</td>\n",
       "      <td>87</td>\n",
       "      <td>55.0</td>\n",
       "      <td>Unknown</td>\n",
       "      <td>Bougetz 2010 Amaryllis Cabernet Sauvignon (Spr...</td>\n",
       "      <td>Cabernet Sauvignon</td>\n",
       "      <td>Bougetz</td>\n",
       "      <td>2010</td>\n",
       "      <td>full_red</td>\n",
       "      <td>red</td>\n",
       "      <td>medium</td>\n",
       "      <td>New World</td>\n",
       "      <td>California</td>\n",
       "      <td>luxury</td>\n",
       "      <td>thi show old-fashion spring mountain dryness t...</td>\n",
       "    </tr>\n",
       "  </tbody>\n",
       "</table>\n",
       "</div>"
      ],
      "text/plain": [
       "          country                                        description  points  \\\n",
       "32797          US  Perfumed in rose and violet, with a sauvage sc...      90   \n",
       "105190         US  This is a very lush Cab, made in the modern st...      92   \n",
       "89652   Australia  Full-bodied and plush in texture, this offers ...      85   \n",
       "115814         US  Where else in this country can you find $12 Pi...      87   \n",
       "93320          US  This shows an old-fashioned Spring Mountain dr...      87   \n",
       "\n",
       "        price     taster_name  \\\n",
       "32797    30.0  Virginie Boone   \n",
       "105190   70.0         Unknown   \n",
       "89652     8.0  Joe Czerwinski   \n",
       "115814   12.0    Paul Gregutt   \n",
       "93320    55.0         Unknown   \n",
       "\n",
       "                                                    title             variety  \\\n",
       "32797   Row Eleven 2013 Dutton Sanchietti Pinot Noir (...          Pinot Noir   \n",
       "105190  Robert Craig 2004 Cabernet Sauvignon (Mount Ve...  Cabernet Sauvignon   \n",
       "89652   Yellow Tail 2015 Chardonnay (South Eastern Aus...          Chardonnay   \n",
       "115814                Eola Hills 2006 Pinot Noir (Oregon)          Pinot Noir   \n",
       "93320   Bougetz 2010 Amaryllis Cabernet Sauvignon (Spr...  Cabernet Sauvignon   \n",
       "\n",
       "              winery  year  wine_style   type quality classification  \\\n",
       "32797     Row Eleven  2013   light_red    red    high      New World   \n",
       "105190  Robert Craig  2004    full_red    red    high      New World   \n",
       "89652    Yellow Tail  2015  full_white  white  medium      New World   \n",
       "115814    Eola Hills  2006   light_red    red  medium      New World   \n",
       "93320        Bougetz  2010    full_red    red  medium      New World   \n",
       "\n",
       "                       location    band  \\\n",
       "32797                California   super   \n",
       "105190               California  luxury   \n",
       "89652   South Eastern Australia   value   \n",
       "115814                   Oregon   value   \n",
       "93320                California  luxury   \n",
       "\n",
       "                                                   tokens  \n",
       "32797   perfum rose violet sauvag scent musk distinct ...  \n",
       "105190  thi lush cab made modern style all element cul...  \n",
       "89652   full-bodi plush textur offer plenti apricot ma...  \n",
       "115814  where els countri find 12 pinot actual variet ...  \n",
       "93320   thi show old-fashion spring mountain dryness t...  "
      ]
     },
     "execution_count": 25,
     "metadata": {},
     "output_type": "execute_result"
    }
   ],
   "source": [
    "import swifter\n",
    "\n",
    "wine_df_subset['tokens'] = wine_df_subset.description.swifter.apply(clean_review)\n",
    "wine_df_subset.head()"
   ]
  },
  {
   "cell_type": "code",
   "execution_count": 26,
   "metadata": {},
   "outputs": [
    {
     "name": "stdout",
     "output_type": "stream",
     "text": [
      "<class 'pandas.core.frame.DataFrame'>\n",
      "Index: 1000 entries, 32797 to 11496\n",
      "Data columns (total 16 columns):\n",
      " #   Column          Non-Null Count  Dtype  \n",
      "---  ------          --------------  -----  \n",
      " 0   country         1000 non-null   object \n",
      " 1   description     1000 non-null   object \n",
      " 2   points          1000 non-null   int64  \n",
      " 3   price           964 non-null    float64\n",
      " 4   taster_name     1000 non-null   object \n",
      " 5   title           1000 non-null   object \n",
      " 6   variety         1000 non-null   object \n",
      " 7   winery          1000 non-null   object \n",
      " 8   year            1000 non-null   int64  \n",
      " 9   wine_style      1000 non-null   object \n",
      " 10  type            1000 non-null   object \n",
      " 11  quality         1000 non-null   object \n",
      " 12  classification  1000 non-null   object \n",
      " 13  location        1000 non-null   object \n",
      " 14  band            964 non-null    object \n",
      " 15  tokens          1000 non-null   object \n",
      "dtypes: float64(1), int64(2), object(13)\n",
      "memory usage: 165.1+ KB\n"
     ]
    }
   ],
   "source": [
    "wine_df_subset.info()"
   ]
  },
  {
   "cell_type": "markdown",
   "metadata": {},
   "source": [
    "**Save Subset with tokens**"
   ]
  },
  {
   "cell_type": "code",
   "execution_count": 27,
   "metadata": {},
   "outputs": [],
   "source": [
    "wine_df_subset.to_parquet('files/wine_review_subset.parquet.gzip',compression='gzip')"
   ]
  },
  {
   "cell_type": "code",
   "execution_count": null,
   "metadata": {},
   "outputs": [],
   "source": []
  },
  {
   "cell_type": "code",
   "execution_count": null,
   "metadata": {},
   "outputs": [],
   "source": []
  },
  {
   "cell_type": "markdown",
   "metadata": {},
   "source": [
    "# Next\n",
    "- [NLP Feature Extraction](wine_review-feature_extraction.ipynb)"
   ]
  }
 ],
 "metadata": {
  "kernelspec": {
   "display_name": ".venv",
   "language": "python",
   "name": "python3"
  },
  "language_info": {
   "codemirror_mode": {
    "name": "ipython",
    "version": 3
   },
   "file_extension": ".py",
   "mimetype": "text/x-python",
   "name": "python",
   "nbconvert_exporter": "python",
   "pygments_lexer": "ipython3",
   "version": "3.11.11"
  }
 },
 "nbformat": 4,
 "nbformat_minor": 2
}
