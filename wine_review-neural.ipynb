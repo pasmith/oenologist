{
 "cells": [
  {
   "cell_type": "code",
   "execution_count": 17,
   "metadata": {},
   "outputs": [],
   "source": [
    "import pandas as pd\n",
    "import numpy as np\n",
    "import os\n",
    "import kagglehub\n",
    "import matplotlib.pyplot as plt\n",
    "import seaborn as sns\n",
    "sns.set_theme()"
   ]
  },
  {
   "cell_type": "code",
   "execution_count": 18,
   "metadata": {},
   "outputs": [],
   "source": [
    "import re\n",
    "\n",
    "TITLE_PATTERN = re.compile(r'\\D(19[0-9]{2}|20[0-9]{2})')\n",
    "\n",
    "def vintage(title):\n",
    "  m = TITLE_PATTERN.findall(title) \n",
    "  if len(m) > 0:\n",
    "    m.sort()\n",
    "    return int(m[-1])\n",
    "  return None\n",
    "\n",
    "RATINGS = [('acceptable', range(80,83)),('good', range(83,87)),('very good', range(87,90)),('excellent', range(90,94)),('superb', range(94,98)),('classic', range(98,101))]"
   ]
  },
  {
   "cell_type": "code",
   "execution_count": 19,
   "metadata": {},
   "outputs": [
    {
     "name": "stdout",
     "output_type": "stream",
     "text": [
      "<class 'pandas.core.frame.DataFrame'>\n",
      "Index: 6888 entries, 25 to 129920\n",
      "Data columns (total 6 columns):\n",
      " #   Column       Non-Null Count  Dtype \n",
      "---  ------       --------------  ----- \n",
      " 0   description  6888 non-null   object\n",
      " 1   winery       6888 non-null   object\n",
      " 2   points       6888 non-null   int64 \n",
      " 3   year         6888 non-null   int64 \n",
      " 4   rating       6888 non-null   object\n",
      " 5   review_len   6888 non-null   int64 \n",
      "dtypes: int64(3), object(3)\n",
      "memory usage: 376.7+ KB\n"
     ]
    },
    {
     "data": {
      "text/html": [
       "<div>\n",
       "<style scoped>\n",
       "    .dataframe tbody tr th:only-of-type {\n",
       "        vertical-align: middle;\n",
       "    }\n",
       "\n",
       "    .dataframe tbody tr th {\n",
       "        vertical-align: top;\n",
       "    }\n",
       "\n",
       "    .dataframe thead th {\n",
       "        text-align: right;\n",
       "    }\n",
       "</style>\n",
       "<table border=\"1\" class=\"dataframe\">\n",
       "  <thead>\n",
       "    <tr style=\"text-align: right;\">\n",
       "      <th></th>\n",
       "      <th>description</th>\n",
       "      <th>winery</th>\n",
       "      <th>points</th>\n",
       "      <th>year</th>\n",
       "      <th>rating</th>\n",
       "      <th>review_len</th>\n",
       "    </tr>\n",
       "  </thead>\n",
       "  <tbody>\n",
       "    <tr>\n",
       "      <th>25</th>\n",
       "      <td>Oak and earth intermingle around robust aromas...</td>\n",
       "      <td>Castello di Amorosa</td>\n",
       "      <td>87</td>\n",
       "      <td>2011</td>\n",
       "      <td>very good</td>\n",
       "      <td>259</td>\n",
       "    </tr>\n",
       "    <tr>\n",
       "      <th>145</th>\n",
       "      <td>Cooked cranberry is spiced with anise, pepperc...</td>\n",
       "      <td>Testarossa</td>\n",
       "      <td>91</td>\n",
       "      <td>2013</td>\n",
       "      <td>excellent</td>\n",
       "      <td>267</td>\n",
       "    </tr>\n",
       "    <tr>\n",
       "      <th>152</th>\n",
       "      <td>From a promising new project, the nose of this...</td>\n",
       "      <td>Albatross Ridge</td>\n",
       "      <td>91</td>\n",
       "      <td>2012</td>\n",
       "      <td>excellent</td>\n",
       "      <td>351</td>\n",
       "    </tr>\n",
       "    <tr>\n",
       "      <th>169</th>\n",
       "      <td>This wine is put together from multiple vineya...</td>\n",
       "      <td>Dutton-Goldfield</td>\n",
       "      <td>91</td>\n",
       "      <td>2014</td>\n",
       "      <td>excellent</td>\n",
       "      <td>327</td>\n",
       "    </tr>\n",
       "    <tr>\n",
       "      <th>181</th>\n",
       "      <td>Crisp, coastal acidity dominates this wine, ma...</td>\n",
       "      <td>McIntyre Vineyards</td>\n",
       "      <td>88</td>\n",
       "      <td>2006</td>\n",
       "      <td>very good</td>\n",
       "      <td>219</td>\n",
       "    </tr>\n",
       "  </tbody>\n",
       "</table>\n",
       "</div>"
      ],
      "text/plain": [
       "                                           description               winery  \\\n",
       "25   Oak and earth intermingle around robust aromas...  Castello di Amorosa   \n",
       "145  Cooked cranberry is spiced with anise, pepperc...           Testarossa   \n",
       "152  From a promising new project, the nose of this...      Albatross Ridge   \n",
       "169  This wine is put together from multiple vineya...     Dutton-Goldfield   \n",
       "181  Crisp, coastal acidity dominates this wine, ma...   McIntyre Vineyards   \n",
       "\n",
       "     points  year     rating  review_len  \n",
       "25       87  2011  very good         259  \n",
       "145      91  2013  excellent         267  \n",
       "152      91  2012  excellent         351  \n",
       "169      91  2014  excellent         327  \n",
       "181      88  2006  very good         219  "
      ]
     },
     "execution_count": 19,
     "metadata": {},
     "output_type": "execute_result"
    }
   ],
   "source": [
    "country = 'US'\n",
    "province = 'California'\n",
    "variety = 'Pinot Noir'\n",
    "cols = ['title', 'description', 'winery', 'points']\n",
    "\n",
    "path = kagglehub.dataset_download('christopheiv/winemagdata130k')\n",
    "fname = 'winemag-data-130k-v2.csv'\n",
    "reviews = pd.read_csv(os.path.join(path, fname), index_col=0).query(f'country == \"{country}\" and province == \"{province}\" and variety == \"{variety}\"')[cols]\n",
    "reviews['year'] = reviews.title.apply(vintage)\n",
    "reviews.drop(['title'], axis=1, inplace=True)\n",
    "reviews['rating'] = reviews.points.map({points: rating for rating, points_range in RATINGS for points in points_range})\n",
    "reviews.dropna(subset=['year'], axis=0, inplace=True)\n",
    "reviews.year = reviews.year.astype(int)\n",
    "reviews['review_len'] = reviews.description.str.len()\n",
    "reviews.info()\n",
    "reviews.head()"
   ]
  },
  {
   "cell_type": "code",
   "execution_count": null,
   "metadata": {},
   "outputs": [
    {
     "data": {
      "application/vnd.jupyter.widget-view+json": {
       "model_id": "1a041d0dbc7a4bbb94f9015abd8e4d99",
       "version_major": 2,
       "version_minor": 0
      },
      "text/plain": [
       "Batches:   0%|          | 0/216 [00:00<?, ?it/s]"
      ]
     },
     "metadata": {},
     "output_type": "display_data"
    }
   ],
   "source": [
    "from sentence_transformers import SentenceTransformer\n",
    "\n",
    "model = SentenceTransformer('all-mpnet-base-v2', trust_remote_code=False)\n",
    "embeddings = model.encode(reviews.description.to_list(), normalize_embeddings=True, show_progress_bar=True, device='cpu')"
   ]
  },
  {
   "cell_type": "code",
   "execution_count": null,
   "metadata": {},
   "outputs": [],
   "source": [
    "embeddings_df = pd.DataFrame(embeddings, index=reviews.index)\n",
    "embeddings_df.columns = embeddings_df.columns.astype(str)\n",
    "embeddings_df.info()\n",
    "embeddings_df.head()"
   ]
  },
  {
   "cell_type": "code",
   "execution_count": null,
   "metadata": {},
   "outputs": [],
   "source": [
    "from sklearn.model_selection import train_test_split\n",
    "from sklearn.metrics import accuracy_score, confusion_matrix\n",
    "from sklearn.utils.class_weight import compute_class_weight\n",
    "\n",
    "import keras\n",
    "import tensorflow as tf\n",
    "from tensorflow.keras.layers import Input, Dense, LSTM, Embedding\n",
    "from tensorflow.keras.layers import Dropout, Activation, Bidirectional, GRU\n",
    "from tensorflow.keras.models import Sequential\n",
    "from tensorflow.keras import initializers, regularizers, constraints, optimizers, layers\n",
    "from tensorflow.keras.callbacks import EarlyStopping\n",
    "from tensorflow.keras.preprocessing import text, sequence\n",
    "from tensorflow.keras.utils import to_categorical\n",
    "\n",
    "from gensim.models import Word2Vec\n",
    "from gensim.utils import simple_preprocess\n",
    "\n"
   ]
  }
 ],
 "metadata": {
  "kernelspec": {
   "display_name": ".venv",
   "language": "python",
   "name": "python3"
  },
  "language_info": {
   "codemirror_mode": {
    "name": "ipython",
    "version": 3
   },
   "file_extension": ".py",
   "mimetype": "text/x-python",
   "name": "python",
   "nbconvert_exporter": "python",
   "pygments_lexer": "ipython3",
   "version": "3.12.8"
  }
 },
 "nbformat": 4,
 "nbformat_minor": 2
}
