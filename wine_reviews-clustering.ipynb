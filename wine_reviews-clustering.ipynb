{
 "cells": [
  {
   "cell_type": "markdown",
   "metadata": {},
   "source": [
    "# Parallel Processing of Wine Review Data**"
   ]
  },
  {
   "cell_type": "markdown",
   "metadata": {},
   "source": [
    "## Objective\n",
    "\n",
    "Can we recreate this $5$ basic wine type groupings?\n",
    "\n",
    "<p align=\"center\">\n",
    "<img src=\"images/Different-Types-of-Wine-v2.jpg\"alt=\"wine types\" width=\"300\"><img>\n",
    "</p>"
   ]
  },
  {
   "cell_type": "markdown",
   "metadata": {},
   "source": [
    "## Define Wine Classifications"
   ]
  },
  {
   "cell_type": "markdown",
   "metadata": {},
   "source": [
    "**Helper functions to classify wines into the $9$ basic styles and $5$ basic types**"
   ]
  },
  {
   "cell_type": "code",
   "execution_count": 1,
   "metadata": {},
   "outputs": [],
   "source": [
    "from collections import namedtuple\n",
    "import pandas as pd\n",
    "\n",
    "WINE_STYLE = namedtuple('WINE_STYLE', ['name', 'varieties'])\n",
    "\n",
    "# wine varieties by wine style\n",
    "sparkling = WINE_STYLE('sparkling', ['Cava','Prosecco', 'Crémant','Champagne', 'Spumante', 'Sparkling Blend'])\n",
    "\n",
    "light_white = WINE_STYLE('light_white',\n",
    "                         ['Albariño','Aligoté','Assyrtiko','Chablis','Chasselas','Chenin Blanc','Cortese','Friulano','Sauvignon Vert','Garganega','Grenache Blanc','Muscadet','Melon','Picpoul de Pinet','Pinot Blanc','Pinot Grigio','Pinot Gris','Verdejo','Verdicchio','Xarel-lo',]\\\n",
    "                          + ['Erbaluce','Grüner Veltliner','Sancerre','Sauvignon Blanc','Vermentino','Vinho Verde']\n",
    "                        )\n",
    "full_white = WINE_STYLE('full_white', ['Chardonnay','Marsanna','Sémillon','Trebbiano','Viognier','White Rioja','Pecorino', 'White Blend'])\n",
    "aromatic_white = WINE_STYLE('aromatic_white', ['Gewürztraminer','Müller-Thurgau','Moschofilero','Muscat','Muscat Blanc','Moscato','Riesling','Torrontés',])\n",
    "rose = WINE_STYLE('rose', ['Rosé', 'Rose'])\n",
    "light_red = WINE_STYLE('light_red', ['Schiava', 'Gamay', 'Pinot Noir','Counoise', 'St. Laurent','Cinsaut','Primitivo','Blaufränkisch','Barolo'])\n",
    "medium_red = WINE_STYLE('medium_red', ['Grenache','Granacha','Valpolicella Blend','Bobal','Carménère','Carignan','Cabernet Franc','Mencía', 'Sangiovese','Negroamaro','Rhône-style Red Blend', 'Rhône/GSM Blend','Barbera','Merlot','Montepulciano','Zinfandel','Marquette','Chambourcin','Petite Pearl','Red Blend', 'Portuguese Red'])\n",
    "full_red = WINE_STYLE('full_red', ['Tempranillo','Nebbiolo',\"Nero d'Avola\",'Aglianico','Malbec','Bordeaux Blend','Cabernet Sauvignon','Syrah','Shiraz','Priorat','Touriga Franca','Pinotage','Petit Verdot','Mourvèdre','Touriga Nacional','Petite Sirah','Sagrantino','Tannat','Bordeaux-style Red Blend'])\n",
    "dessert = WINE_STYLE('dessert', ['Ice Wine','Late Harvest','Madeira','Malvasia','Sauternes','Sherry','Tokaji','Vin Santo','White Port','Port','Porto','Marsala','Noble Rot','Passito','Freisa'])\n",
    "\n",
    "all_varieties = pd.Series(sparkling.varieties + light_white.varieties + full_white.varieties + aromatic_white.varieties + rose.varieties + light_red.varieties + medium_red.varieties + full_red.varieties + dessert.varieties)\n",
    "\n",
    "# assign style\n",
    "styles = [sparkling, light_white, full_white, aromatic_white, rose, light_red, medium_red, full_red, dessert]\n",
    "to_style = lambda wine: next(map(lambda style: style.name, filter(lambda style: wine in style.varieties, styles)))\n",
    "to_type = lambda wine: next(map(lambda style: style.name.split('_')[-1], filter(lambda style: wine in style.varieties, styles)))\n"
   ]
  },
  {
   "cell_type": "markdown",
   "metadata": {},
   "source": [
    "**Verify that there are no repeated wines varieties in the styles**"
   ]
  },
  {
   "cell_type": "code",
   "execution_count": 2,
   "metadata": {},
   "outputs": [],
   "source": [
    "# verify there are no variety duplicated in any of the style varietals\n",
    "assert all_varieties[all_varieties.duplicated()].count() == 0"
   ]
  },
  {
   "cell_type": "markdown",
   "metadata": {},
   "source": [
    "**Verify the Type & Style Helpers**"
   ]
  },
  {
   "cell_type": "code",
   "execution_count": 3,
   "metadata": {},
   "outputs": [
    {
     "data": {
      "text/plain": [
       "('light_red', 'red')"
      ]
     },
     "execution_count": 3,
     "metadata": {},
     "output_type": "execute_result"
    }
   ],
   "source": [
    "assert to_style('Pinot Noir') == 'light_red'\n",
    "assert to_type('Pinot Noir') == 'red'\n",
    "to_style('Pinot Noir'), to_type('Pinot Noir')"
   ]
  },
  {
   "cell_type": "markdown",
   "metadata": {},
   "source": [
    "## Load Wine Review Data"
   ]
  },
  {
   "cell_type": "markdown",
   "metadata": {},
   "source": [
    "Libraries"
   ]
  },
  {
   "cell_type": "code",
   "execution_count": 4,
   "metadata": {},
   "outputs": [],
   "source": [
    "import numpy as np\n",
    "\n",
    "from IPython.display import Markdown, display\n",
    "\n",
    "import matplotlib.pyplot as plt\n",
    "import seaborn as sns\n",
    "sns.set_theme()"
   ]
  },
  {
   "cell_type": "markdown",
   "metadata": {},
   "source": [
    "Source: Kaggle [Wine Reviews](https://www.kaggle.com/datasets/zynicide/wine-reviews)"
   ]
  },
  {
   "cell_type": "code",
   "execution_count": 5,
   "metadata": {},
   "outputs": [
    {
     "name": "stdout",
     "output_type": "stream",
     "text": [
      "<class 'pandas.core.frame.DataFrame'>\n",
      "Index: 100538 entries, 0 to 129970\n",
      "Data columns (total 16 columns):\n",
      " #   Column                    Non-Null Count   Dtype  \n",
      "---  ------                    --------------   -----  \n",
      " 0   country                   100538 non-null  object \n",
      " 1   description               100538 non-null  object \n",
      " 2   points                    100538 non-null  int64  \n",
      " 3   price                     93522 non-null   float64\n",
      " 4   taster_name               100538 non-null  object \n",
      " 5   title                     100538 non-null  object \n",
      " 6   variety                   100538 non-null  object \n",
      " 7   winery                    100538 non-null  object \n",
      " 8   year                      100538 non-null  int64  \n",
      " 9   wine_style                100538 non-null  object \n",
      " 10  type                      100538 non-null  object \n",
      " 11  quality                   100538 non-null  object \n",
      " 12  classification            100538 non-null  object \n",
      " 13  location                  100538 non-null  object \n",
      " 14  band                      93522 non-null   object \n",
      " 15  preprocessed_description  100538 non-null  object \n",
      "dtypes: float64(1), int64(2), object(13)\n",
      "memory usage: 13.0+ MB\n"
     ]
    },
    {
     "data": {
      "text/html": [
       "<div>\n",
       "<style scoped>\n",
       "    .dataframe tbody tr th:only-of-type {\n",
       "        vertical-align: middle;\n",
       "    }\n",
       "\n",
       "    .dataframe tbody tr th {\n",
       "        vertical-align: top;\n",
       "    }\n",
       "\n",
       "    .dataframe thead th {\n",
       "        text-align: right;\n",
       "    }\n",
       "</style>\n",
       "<table border=\"1\" class=\"dataframe\">\n",
       "  <thead>\n",
       "    <tr style=\"text-align: right;\">\n",
       "      <th></th>\n",
       "      <th>title</th>\n",
       "      <th>winery</th>\n",
       "      <th>year</th>\n",
       "      <th>variety</th>\n",
       "      <th>description</th>\n",
       "      <th>preprocessed_description</th>\n",
       "    </tr>\n",
       "  </thead>\n",
       "  <tbody>\n",
       "    <tr>\n",
       "      <th>0</th>\n",
       "      <td>Nicosia 2013 Vulkà Bianco  (Etna)</td>\n",
       "      <td>Nicosia</td>\n",
       "      <td>2013</td>\n",
       "      <td>White Blend</td>\n",
       "      <td>Aromas include tropical fruit, broom, brimston...</td>\n",
       "      <td>aroma include tropical fruit broom brimstone...</td>\n",
       "    </tr>\n",
       "    <tr>\n",
       "      <th>1</th>\n",
       "      <td>Quinta dos Avidagos 2011 Avidagos Red (Douro)</td>\n",
       "      <td>Quinta dos Avidagos</td>\n",
       "      <td>2011</td>\n",
       "      <td>Portuguese Red</td>\n",
       "      <td>This is ripe and fruity, a wine that is smooth...</td>\n",
       "      <td>do ripe fruity wine smooth structure firm tann...</td>\n",
       "    </tr>\n",
       "    <tr>\n",
       "      <th>2</th>\n",
       "      <td>Rainstorm 2013 Pinot Gris (Willamette Valley)</td>\n",
       "      <td>Rainstorm</td>\n",
       "      <td>2013</td>\n",
       "      <td>Pinot Gris</td>\n",
       "      <td>Tart and snappy, the flavors of lime flesh and...</td>\n",
       "      <td>rainstorm tart snappy flavor lime flesh rind d...</td>\n",
       "    </tr>\n",
       "    <tr>\n",
       "      <th>3</th>\n",
       "      <td>St. Julian 2013 Reserve Late Harvest Riesling ...</td>\n",
       "      <td>St. Julian</td>\n",
       "      <td>2013</td>\n",
       "      <td>Riesling</td>\n",
       "      <td>Pineapple rind, lemon pith and orange blossom ...</td>\n",
       "      <td>pineapple rind lemon pith orange blossom start...</td>\n",
       "    </tr>\n",
       "    <tr>\n",
       "      <th>4</th>\n",
       "      <td>Sweet Cheeks 2012 Vintner's Reserve Wild Child...</td>\n",
       "      <td>Sweet Cheeks</td>\n",
       "      <td>2012</td>\n",
       "      <td>Pinot Noir</td>\n",
       "      <td>Much like the regular bottling from 2012, this...</td>\n",
       "      <td>vintner like regular bottling come rough tanni...</td>\n",
       "    </tr>\n",
       "  </tbody>\n",
       "</table>\n",
       "</div>"
      ],
      "text/plain": [
       "                                               title               winery  \\\n",
       "0                  Nicosia 2013 Vulkà Bianco  (Etna)              Nicosia   \n",
       "1      Quinta dos Avidagos 2011 Avidagos Red (Douro)  Quinta dos Avidagos   \n",
       "2      Rainstorm 2013 Pinot Gris (Willamette Valley)            Rainstorm   \n",
       "3  St. Julian 2013 Reserve Late Harvest Riesling ...           St. Julian   \n",
       "4  Sweet Cheeks 2012 Vintner's Reserve Wild Child...         Sweet Cheeks   \n",
       "\n",
       "   year         variety                                        description  \\\n",
       "0  2013     White Blend  Aromas include tropical fruit, broom, brimston...   \n",
       "1  2011  Portuguese Red  This is ripe and fruity, a wine that is smooth...   \n",
       "2  2013      Pinot Gris  Tart and snappy, the flavors of lime flesh and...   \n",
       "3  2013        Riesling  Pineapple rind, lemon pith and orange blossom ...   \n",
       "4  2012      Pinot Noir  Much like the regular bottling from 2012, this...   \n",
       "\n",
       "                            preprocessed_description  \n",
       "0    aroma include tropical fruit broom brimstone...  \n",
       "1  do ripe fruity wine smooth structure firm tann...  \n",
       "2  rainstorm tart snappy flavor lime flesh rind d...  \n",
       "3  pineapple rind lemon pith orange blossom start...  \n",
       "4  vintner like regular bottling come rough tanni...  "
      ]
     },
     "execution_count": 5,
     "metadata": {},
     "output_type": "execute_result"
    }
   ],
   "source": [
    "wine_df = pd.read_parquet('files/wine_review.parquet.gzip')\n",
    "wine_df.info()\n",
    "wine_df[['title', 'winery', 'year', 'variety', 'description', 'preprocessed_description']].head()"
   ]
  },
  {
   "cell_type": "markdown",
   "metadata": {},
   "source": [
    "## Feature Extraction"
   ]
  },
  {
   "cell_type": "markdown",
   "metadata": {},
   "source": [
    "**Vectorize**"
   ]
  },
  {
   "cell_type": "code",
   "execution_count": 23,
   "metadata": {},
   "outputs": [],
   "source": [
    "corpus = wine_df.preprocessed_description"
   ]
  },
  {
   "cell_type": "code",
   "execution_count": 31,
   "metadata": {},
   "outputs": [
    {
     "name": "stdout",
     "output_type": "stream",
     "text": [
      "(100538, 4096)\n"
     ]
    },
    {
     "data": {
      "text/plain": [
       "array(['10', '16th', '18th', '1970', '19th', '2010', '2012', '2013',\n",
       "       '2014', '2015', '2016', '2017', '2018', '2019', '2020', '2021',\n",
       "       '2022', '2023', '2025', '2030', 'abbreviate', 'abeja', 'ability',\n",
       "       'able', 'abound', 'abrasive', 'abrupt', 'abruptly', 'absolute',\n",
       "       'absolutely', 'absorb', 'abundance', 'abundant', 'abv', 'acacia',\n",
       "       'accent', 'accentuate', 'acceptable', 'accessible',\n",
       "       'accompaniment', 'accompany', 'accord', 'account', 'achieve',\n",
       "       'achievement', 'acid', 'acidic', 'acidity', 'acquire', 'acre'],\n",
       "      dtype=object)"
      ]
     },
     "execution_count": 31,
     "metadata": {},
     "output_type": "execute_result"
    }
   ],
   "source": [
    "from sklearn.feature_extraction.text import CountVectorizer, TfidfTransformer, TfidfVectorizer, HashingVectorizer\n",
    "\n",
    "vectorizer = TfidfVectorizer(max_features=2**12, stop_words=\"english\")\n",
    "X = vectorizer.fit_transform(corpus)\n",
    "print(X.shape)\n",
    "vectorizer.get_feature_names_out()[:50]\n"
   ]
  },
  {
   "cell_type": "code",
   "execution_count": 36,
   "metadata": {},
   "outputs": [
    {
     "data": {
      "text/plain": [
       "array(['abbreviate', 'abeja', 'ability', 'able', 'abound', 'abrasive',\n",
       "       'abrupt', 'abruptly', 'absolute', 'absolutely', 'absorb',\n",
       "       'abundance', 'abundant', 'abv', 'acacia', 'accent', 'accentuate',\n",
       "       'acceptable', 'accessible', 'accompaniment', 'accompany', 'accord',\n",
       "       'account', 'achieve', 'achievement', 'acid', 'acidic', 'acidity',\n",
       "       'acquire', 'acre', 'acrid', 'act', 'action', 'actually', 'add',\n",
       "       'addition', 'additional', 'adequate', 'admirable', 'admirably',\n",
       "       'adorn', 'advanced', 'advantage', 'aeration', 'affect',\n",
       "       'affordable', 'affordably', 'african', 'afternoon', 'aftertaste'],\n",
       "      dtype='<U15')"
      ]
     },
     "execution_count": 36,
     "metadata": {},
     "output_type": "execute_result"
    }
   ],
   "source": [
    "np.array(list(filter(lambda col: col[:1].isalpha(), vectorizer.get_feature_names_out())))[:50]"
   ]
  },
  {
   "cell_type": "markdown",
   "metadata": {},
   "source": [
    "## Cluster Analysis"
   ]
  },
  {
   "cell_type": "markdown",
   "metadata": {},
   "source": [
    "### KMeans Clustering\n",
    "\n",
    "see [Clustering documents with TFIDF and KMeans](https://www.kaggle.com/code/jbencina/clustering-documents-with-tfidf-and-kmeans)"
   ]
  },
  {
   "cell_type": "code",
   "execution_count": null,
   "metadata": {},
   "outputs": [],
   "source": []
  },
  {
   "cell_type": "code",
   "execution_count": null,
   "metadata": {},
   "outputs": [],
   "source": []
  },
  {
   "cell_type": "markdown",
   "metadata": {},
   "source": [
    "### Agglomerative Clustering"
   ]
  },
  {
   "cell_type": "code",
   "execution_count": null,
   "metadata": {},
   "outputs": [],
   "source": []
  },
  {
   "cell_type": "code",
   "execution_count": null,
   "metadata": {},
   "outputs": [],
   "source": []
  }
 ],
 "metadata": {
  "kernelspec": {
   "display_name": ".venv",
   "language": "python",
   "name": "python3"
  },
  "language_info": {
   "codemirror_mode": {
    "name": "ipython",
    "version": 3
   },
   "file_extension": ".py",
   "mimetype": "text/x-python",
   "name": "python",
   "nbconvert_exporter": "python",
   "pygments_lexer": "ipython3",
   "version": "3.12.8"
  }
 },
 "nbformat": 4,
 "nbformat_minor": 2
}
