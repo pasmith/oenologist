{
 "cells": [
  {
   "cell_type": "markdown",
   "metadata": {},
   "source": [
    "# NLP Feature Extraction"
   ]
  },
  {
   "cell_type": "markdown",
   "metadata": {},
   "source": [
    "### Load Subset of Clean Wine Reviews\n",
    "\n",
    "See [data preparation](wine_review-data_preparation.ipynb) for details on the prepared dataset."
   ]
  },
  {
   "cell_type": "markdown",
   "metadata": {},
   "source": [
    "Libraries"
   ]
  },
  {
   "cell_type": "code",
   "execution_count": 41,
   "metadata": {},
   "outputs": [],
   "source": [
    "import pandas as pd\n",
    "import numpy as np\n",
    "\n",
    "import matplotlib.pyplot as plt\n",
    "import seaborn as sns\n",
    "\n",
    "from IPython.display import display, Markdown\n",
    "\n",
    "from sklearn.feature_extraction.text import CountVectorizer, TfidfVectorizer"
   ]
  },
  {
   "cell_type": "code",
   "execution_count": 11,
   "metadata": {},
   "outputs": [
    {
     "name": "stdout",
     "output_type": "stream",
     "text": [
      "<class 'pandas.core.series.Series'>\n",
      "Index: 100538 entries, 0 to 129970\n",
      "Series name: tokens\n",
      "Non-Null Count   Dtype \n",
      "--------------   ----- \n",
      "100538 non-null  object\n",
      "dtypes: object(1)\n",
      "memory usage: 1.5+ MB\n"
     ]
    },
    {
     "data": {
      "text/plain": [
       "0    aroma include tropical fruit broom brimstone d...\n",
       "1    do ripe fruity wine smooth structure firm tann...\n",
       "2    rainstorm tart snappy flavor lime flesh rind d...\n",
       "3    pineapple rind lemon pith orange blossom start...\n",
       "4    vintner like regular bottling come rough tanni...\n",
       "Name: tokens, dtype: object"
      ]
     },
     "execution_count": 11,
     "metadata": {},
     "output_type": "execute_result"
    }
   ],
   "source": [
    "tokens = pd.read_parquet('data/wine/wine_review-tokens.parquet.gzip').tokens\n",
    "tokens.info()\n",
    "tokens.head()"
   ]
  },
  {
   "cell_type": "markdown",
   "metadata": {},
   "source": [
    "### Feature Extraction"
   ]
  },
  {
   "cell_type": "code",
   "execution_count": 12,
   "metadata": {},
   "outputs": [
    {
     "data": {
      "text/plain": [
       "'aroma include tropical fruit broom brimstone dry herb palate overly expressive offer unripened apple citrus dry sage alongside brisk acidity'"
      ]
     },
     "execution_count": 12,
     "metadata": {},
     "output_type": "execute_result"
    }
   ],
   "source": [
    "tokens.head().values[0]"
   ]
  },
  {
   "cell_type": "markdown",
   "metadata": {},
   "source": [
    "**Bag-of-words** count occurrence of words"
   ]
  },
  {
   "cell_type": "code",
   "execution_count": 34,
   "metadata": {},
   "outputs": [
    {
     "name": "stdout",
     "output_type": "stream",
     "text": [
      "<class 'pandas.core.frame.DataFrame'>\n",
      "Index: 100538 entries, 0 to 129970\n",
      "Columns: 942 entries, accent to zesty\n",
      "dtypes: int64(942)\n",
      "memory usage: 723.3 MB\n"
     ]
    },
    {
     "data": {
      "text/html": [
       "<div>\n",
       "<style scoped>\n",
       "    .dataframe tbody tr th:only-of-type {\n",
       "        vertical-align: middle;\n",
       "    }\n",
       "\n",
       "    .dataframe tbody tr th {\n",
       "        vertical-align: top;\n",
       "    }\n",
       "\n",
       "    .dataframe thead th {\n",
       "        text-align: right;\n",
       "    }\n",
       "</style>\n",
       "<table border=\"1\" class=\"dataframe\">\n",
       "  <thead>\n",
       "    <tr style=\"text-align: right;\">\n",
       "      <th></th>\n",
       "      <th>accent</th>\n",
       "      <th>accessible</th>\n",
       "      <th>accompany</th>\n",
       "      <th>acid</th>\n",
       "      <th>acidic</th>\n",
       "      <th>acidity</th>\n",
       "      <th>acre</th>\n",
       "      <th>add</th>\n",
       "      <th>addition</th>\n",
       "      <th>additional</th>\n",
       "      <th>...</th>\n",
       "      <th>wrap</th>\n",
       "      <th>year</th>\n",
       "      <th>yeast</th>\n",
       "      <th>yeasty</th>\n",
       "      <th>yellow</th>\n",
       "      <th>yield</th>\n",
       "      <th>young</th>\n",
       "      <th>youthful</th>\n",
       "      <th>zest</th>\n",
       "      <th>zesty</th>\n",
       "    </tr>\n",
       "  </thead>\n",
       "  <tbody>\n",
       "    <tr>\n",
       "      <th>0</th>\n",
       "      <td>0</td>\n",
       "      <td>0</td>\n",
       "      <td>0</td>\n",
       "      <td>0</td>\n",
       "      <td>0</td>\n",
       "      <td>1</td>\n",
       "      <td>0</td>\n",
       "      <td>0</td>\n",
       "      <td>0</td>\n",
       "      <td>0</td>\n",
       "      <td>...</td>\n",
       "      <td>0</td>\n",
       "      <td>0</td>\n",
       "      <td>0</td>\n",
       "      <td>0</td>\n",
       "      <td>0</td>\n",
       "      <td>0</td>\n",
       "      <td>0</td>\n",
       "      <td>0</td>\n",
       "      <td>0</td>\n",
       "      <td>0</td>\n",
       "    </tr>\n",
       "    <tr>\n",
       "      <th>1</th>\n",
       "      <td>0</td>\n",
       "      <td>0</td>\n",
       "      <td>0</td>\n",
       "      <td>0</td>\n",
       "      <td>0</td>\n",
       "      <td>1</td>\n",
       "      <td>0</td>\n",
       "      <td>0</td>\n",
       "      <td>0</td>\n",
       "      <td>0</td>\n",
       "      <td>...</td>\n",
       "      <td>0</td>\n",
       "      <td>0</td>\n",
       "      <td>0</td>\n",
       "      <td>0</td>\n",
       "      <td>0</td>\n",
       "      <td>0</td>\n",
       "      <td>0</td>\n",
       "      <td>0</td>\n",
       "      <td>0</td>\n",
       "      <td>0</td>\n",
       "    </tr>\n",
       "    <tr>\n",
       "      <th>2</th>\n",
       "      <td>0</td>\n",
       "      <td>0</td>\n",
       "      <td>0</td>\n",
       "      <td>0</td>\n",
       "      <td>0</td>\n",
       "      <td>1</td>\n",
       "      <td>0</td>\n",
       "      <td>0</td>\n",
       "      <td>0</td>\n",
       "      <td>0</td>\n",
       "      <td>...</td>\n",
       "      <td>0</td>\n",
       "      <td>0</td>\n",
       "      <td>0</td>\n",
       "      <td>0</td>\n",
       "      <td>0</td>\n",
       "      <td>0</td>\n",
       "      <td>0</td>\n",
       "      <td>0</td>\n",
       "      <td>0</td>\n",
       "      <td>0</td>\n",
       "    </tr>\n",
       "    <tr>\n",
       "      <th>3</th>\n",
       "      <td>0</td>\n",
       "      <td>0</td>\n",
       "      <td>0</td>\n",
       "      <td>0</td>\n",
       "      <td>0</td>\n",
       "      <td>0</td>\n",
       "      <td>0</td>\n",
       "      <td>0</td>\n",
       "      <td>0</td>\n",
       "      <td>0</td>\n",
       "      <td>...</td>\n",
       "      <td>0</td>\n",
       "      <td>0</td>\n",
       "      <td>0</td>\n",
       "      <td>0</td>\n",
       "      <td>0</td>\n",
       "      <td>0</td>\n",
       "      <td>0</td>\n",
       "      <td>0</td>\n",
       "      <td>0</td>\n",
       "      <td>0</td>\n",
       "    </tr>\n",
       "    <tr>\n",
       "      <th>4</th>\n",
       "      <td>0</td>\n",
       "      <td>0</td>\n",
       "      <td>0</td>\n",
       "      <td>0</td>\n",
       "      <td>0</td>\n",
       "      <td>0</td>\n",
       "      <td>0</td>\n",
       "      <td>0</td>\n",
       "      <td>0</td>\n",
       "      <td>0</td>\n",
       "      <td>...</td>\n",
       "      <td>0</td>\n",
       "      <td>0</td>\n",
       "      <td>0</td>\n",
       "      <td>0</td>\n",
       "      <td>0</td>\n",
       "      <td>0</td>\n",
       "      <td>0</td>\n",
       "      <td>0</td>\n",
       "      <td>0</td>\n",
       "      <td>0</td>\n",
       "    </tr>\n",
       "  </tbody>\n",
       "</table>\n",
       "<p>5 rows × 942 columns</p>\n",
       "</div>"
      ],
      "text/plain": [
       "   accent  accessible  accompany  acid  acidic  acidity  acre  add  addition  \\\n",
       "0       0           0          0     0       0        1     0    0         0   \n",
       "1       0           0          0     0       0        1     0    0         0   \n",
       "2       0           0          0     0       0        1     0    0         0   \n",
       "3       0           0          0     0       0        0     0    0         0   \n",
       "4       0           0          0     0       0        0     0    0         0   \n",
       "\n",
       "   additional  ...  wrap  year  yeast  yeasty  yellow  yield  young  youthful  \\\n",
       "0           0  ...     0     0      0       0       0      0      0         0   \n",
       "1           0  ...     0     0      0       0       0      0      0         0   \n",
       "2           0  ...     0     0      0       0       0      0      0         0   \n",
       "3           0  ...     0     0      0       0       0      0      0         0   \n",
       "4           0  ...     0     0      0       0       0      0      0         0   \n",
       "\n",
       "   zest  zesty  \n",
       "0     0      0  \n",
       "1     0      0  \n",
       "2     0      0  \n",
       "3     0      0  \n",
       "4     0      0  \n",
       "\n",
       "[5 rows x 942 columns]"
      ]
     },
     "execution_count": 34,
     "metadata": {},
     "output_type": "execute_result"
    }
   ],
   "source": [
    "cvect = CountVectorizer(min_df=.003, max_df=.80)\n",
    "dtm = cvect.fit_transform(tokens)\n",
    "bow = pd.DataFrame(dtm.toarray(), columns = cvect.get_feature_names_out(), index=tokens.index)\n",
    "bow.info()\n",
    "bow.head()"
   ]
  },
  {
   "cell_type": "markdown",
   "metadata": {},
   "source": [
    "**TF-IDF** importance of token in document relative to corpus"
   ]
  },
  {
   "cell_type": "code",
   "execution_count": 33,
   "metadata": {},
   "outputs": [
    {
     "name": "stdout",
     "output_type": "stream",
     "text": [
      "<class 'pandas.core.frame.DataFrame'>\n",
      "Index: 100538 entries, 0 to 129970\n",
      "Columns: 942 entries, accent to zesty\n",
      "dtypes: float64(942)\n",
      "memory usage: 723.3 MB\n"
     ]
    },
    {
     "data": {
      "text/html": [
       "<div>\n",
       "<style scoped>\n",
       "    .dataframe tbody tr th:only-of-type {\n",
       "        vertical-align: middle;\n",
       "    }\n",
       "\n",
       "    .dataframe tbody tr th {\n",
       "        vertical-align: top;\n",
       "    }\n",
       "\n",
       "    .dataframe thead th {\n",
       "        text-align: right;\n",
       "    }\n",
       "</style>\n",
       "<table border=\"1\" class=\"dataframe\">\n",
       "  <thead>\n",
       "    <tr style=\"text-align: right;\">\n",
       "      <th></th>\n",
       "      <th>accent</th>\n",
       "      <th>accessible</th>\n",
       "      <th>accompany</th>\n",
       "      <th>acid</th>\n",
       "      <th>acidic</th>\n",
       "      <th>acidity</th>\n",
       "      <th>acre</th>\n",
       "      <th>add</th>\n",
       "      <th>addition</th>\n",
       "      <th>additional</th>\n",
       "      <th>...</th>\n",
       "      <th>wrap</th>\n",
       "      <th>year</th>\n",
       "      <th>yeast</th>\n",
       "      <th>yeasty</th>\n",
       "      <th>yellow</th>\n",
       "      <th>yield</th>\n",
       "      <th>young</th>\n",
       "      <th>youthful</th>\n",
       "      <th>zest</th>\n",
       "      <th>zesty</th>\n",
       "    </tr>\n",
       "  </thead>\n",
       "  <tbody>\n",
       "    <tr>\n",
       "      <th>0</th>\n",
       "      <td>0.0</td>\n",
       "      <td>0.0</td>\n",
       "      <td>0.0</td>\n",
       "      <td>0.0</td>\n",
       "      <td>0.0</td>\n",
       "      <td>0.136429</td>\n",
       "      <td>0.0</td>\n",
       "      <td>0.0</td>\n",
       "      <td>0.0</td>\n",
       "      <td>0.0</td>\n",
       "      <td>...</td>\n",
       "      <td>0.0</td>\n",
       "      <td>0.0</td>\n",
       "      <td>0.0</td>\n",
       "      <td>0.0</td>\n",
       "      <td>0.0</td>\n",
       "      <td>0.0</td>\n",
       "      <td>0.0</td>\n",
       "      <td>0.0</td>\n",
       "      <td>0.0</td>\n",
       "      <td>0.0</td>\n",
       "    </tr>\n",
       "    <tr>\n",
       "      <th>1</th>\n",
       "      <td>0.0</td>\n",
       "      <td>0.0</td>\n",
       "      <td>0.0</td>\n",
       "      <td>0.0</td>\n",
       "      <td>0.0</td>\n",
       "      <td>0.154443</td>\n",
       "      <td>0.0</td>\n",
       "      <td>0.0</td>\n",
       "      <td>0.0</td>\n",
       "      <td>0.0</td>\n",
       "      <td>...</td>\n",
       "      <td>0.0</td>\n",
       "      <td>0.0</td>\n",
       "      <td>0.0</td>\n",
       "      <td>0.0</td>\n",
       "      <td>0.0</td>\n",
       "      <td>0.0</td>\n",
       "      <td>0.0</td>\n",
       "      <td>0.0</td>\n",
       "      <td>0.0</td>\n",
       "      <td>0.0</td>\n",
       "    </tr>\n",
       "    <tr>\n",
       "      <th>2</th>\n",
       "      <td>0.0</td>\n",
       "      <td>0.0</td>\n",
       "      <td>0.0</td>\n",
       "      <td>0.0</td>\n",
       "      <td>0.0</td>\n",
       "      <td>0.128762</td>\n",
       "      <td>0.0</td>\n",
       "      <td>0.0</td>\n",
       "      <td>0.0</td>\n",
       "      <td>0.0</td>\n",
       "      <td>...</td>\n",
       "      <td>0.0</td>\n",
       "      <td>0.0</td>\n",
       "      <td>0.0</td>\n",
       "      <td>0.0</td>\n",
       "      <td>0.0</td>\n",
       "      <td>0.0</td>\n",
       "      <td>0.0</td>\n",
       "      <td>0.0</td>\n",
       "      <td>0.0</td>\n",
       "      <td>0.0</td>\n",
       "    </tr>\n",
       "    <tr>\n",
       "      <th>3</th>\n",
       "      <td>0.0</td>\n",
       "      <td>0.0</td>\n",
       "      <td>0.0</td>\n",
       "      <td>0.0</td>\n",
       "      <td>0.0</td>\n",
       "      <td>0.000000</td>\n",
       "      <td>0.0</td>\n",
       "      <td>0.0</td>\n",
       "      <td>0.0</td>\n",
       "      <td>0.0</td>\n",
       "      <td>...</td>\n",
       "      <td>0.0</td>\n",
       "      <td>0.0</td>\n",
       "      <td>0.0</td>\n",
       "      <td>0.0</td>\n",
       "      <td>0.0</td>\n",
       "      <td>0.0</td>\n",
       "      <td>0.0</td>\n",
       "      <td>0.0</td>\n",
       "      <td>0.0</td>\n",
       "      <td>0.0</td>\n",
       "    </tr>\n",
       "    <tr>\n",
       "      <th>4</th>\n",
       "      <td>0.0</td>\n",
       "      <td>0.0</td>\n",
       "      <td>0.0</td>\n",
       "      <td>0.0</td>\n",
       "      <td>0.0</td>\n",
       "      <td>0.000000</td>\n",
       "      <td>0.0</td>\n",
       "      <td>0.0</td>\n",
       "      <td>0.0</td>\n",
       "      <td>0.0</td>\n",
       "      <td>...</td>\n",
       "      <td>0.0</td>\n",
       "      <td>0.0</td>\n",
       "      <td>0.0</td>\n",
       "      <td>0.0</td>\n",
       "      <td>0.0</td>\n",
       "      <td>0.0</td>\n",
       "      <td>0.0</td>\n",
       "      <td>0.0</td>\n",
       "      <td>0.0</td>\n",
       "      <td>0.0</td>\n",
       "    </tr>\n",
       "  </tbody>\n",
       "</table>\n",
       "<p>5 rows × 942 columns</p>\n",
       "</div>"
      ],
      "text/plain": [
       "   accent  accessible  accompany  acid  acidic   acidity  acre  add  addition  \\\n",
       "0     0.0         0.0        0.0   0.0     0.0  0.136429   0.0  0.0       0.0   \n",
       "1     0.0         0.0        0.0   0.0     0.0  0.154443   0.0  0.0       0.0   \n",
       "2     0.0         0.0        0.0   0.0     0.0  0.128762   0.0  0.0       0.0   \n",
       "3     0.0         0.0        0.0   0.0     0.0  0.000000   0.0  0.0       0.0   \n",
       "4     0.0         0.0        0.0   0.0     0.0  0.000000   0.0  0.0       0.0   \n",
       "\n",
       "   additional  ...  wrap  year  yeast  yeasty  yellow  yield  young  youthful  \\\n",
       "0         0.0  ...   0.0   0.0    0.0     0.0     0.0    0.0    0.0       0.0   \n",
       "1         0.0  ...   0.0   0.0    0.0     0.0     0.0    0.0    0.0       0.0   \n",
       "2         0.0  ...   0.0   0.0    0.0     0.0     0.0    0.0    0.0       0.0   \n",
       "3         0.0  ...   0.0   0.0    0.0     0.0     0.0    0.0    0.0       0.0   \n",
       "4         0.0  ...   0.0   0.0    0.0     0.0     0.0    0.0    0.0       0.0   \n",
       "\n",
       "   zest  zesty  \n",
       "0   0.0    0.0  \n",
       "1   0.0    0.0  \n",
       "2   0.0    0.0  \n",
       "3   0.0    0.0  \n",
       "4   0.0    0.0  \n",
       "\n",
       "[5 rows x 942 columns]"
      ]
     },
     "execution_count": 33,
     "metadata": {},
     "output_type": "execute_result"
    }
   ],
   "source": [
    "cvect = TfidfVectorizer(min_df=.003, max_df=.80)\n",
    "dtm = cvect.fit_transform(tokens)\n",
    "tfidf = pd.DataFrame(dtm.toarray(), columns = cvect.get_feature_names_out(), index=tokens.index)\n",
    "tfidf.info()\n",
    "tfidf.head()"
   ]
  },
  {
   "cell_type": "markdown",
   "metadata": {},
   "source": [
    "### Visualize the Feature Matrices"
   ]
  },
  {
   "cell_type": "markdown",
   "metadata": {},
   "source": [
    "**Helper to Time Various Operations**"
   ]
  },
  {
   "cell_type": "code",
   "execution_count": 38,
   "metadata": {},
   "outputs": [],
   "source": [
    "import time\n",
    "from collections import namedtuple\n",
    "\n",
    "PERF = namedtuple('PERF', ['algo', 'duration'])\n",
    "\n",
    "timings = []\n",
    "\n",
    "def timeit(algo, purpose, func, count, items='documents'):\n",
    "  start = time.perf_counter()\n",
    "  result = func()\n",
    "  elapsed = time.perf_counter()-start\n",
    "  timings.append(PERF(algo, elapsed))\n",
    "  display(Markdown(f'It took ${elapsed/60:.1f}$ minutes to {purpose} for ${count:,d}$ {items}.'))\n",
    "  return result"
   ]
  },
  {
   "cell_type": "markdown",
   "metadata": {},
   "source": [
    "**Helper to Compute the t-SNE Dimension Reduction to 2D**"
   ]
  },
  {
   "cell_type": "code",
   "execution_count": 39,
   "metadata": {},
   "outputs": [],
   "source": [
    "from sklearn.decomposition import PCA\n",
    "from sklearn.manifold import TSNE\n",
    "# from joblib import Parallel, delayed, parallel_config\n",
    "\n",
    "def tsne(features, perplexity=10):\n",
    "  # timing helper\n",
    "  __t = lambda purpose, func: timeit('tsne', purpose, func, features.shape[0], 'reviews')\n",
    "\n",
    "  # perform dimensionsal reduction on features extracted by sentence transformers\n",
    "  pca = PCA(n_components=50, random_state=42)\n",
    "  tsne = TSNE(perplexity=perplexity, random_state=42, n_jobs=1)\n",
    "  return __t('perform t-SNE dimension reduction on feature matrix', lambda: tsne.fit_transform(pca.fit_transform(features)))\n"
   ]
  },
  {
   "cell_type": "markdown",
   "metadata": {},
   "source": [
    "**Helper to Plot the t-SNE Projections**"
   ]
  },
  {
   "cell_type": "code",
   "execution_count": null,
   "metadata": {},
   "outputs": [],
   "source": [
    "color_map = dict(\n",
    "  sparkling='forestgreen',\n",
    "  white='gold',\n",
    "  rose='deeppink',\n",
    "  red='darkred',\n",
    "  dessert='dodgerblue',\n",
    ")\n",
    "\n",
    "def plot_tsne(models, embeddings, tsne_projections, hue=None):\n",
    "  # Create a scatter plot with colors based on variety\n",
    "  r,c = 1,5\n",
    "  fig, ax = plt.subplots(r,c, figsize=(5*c,5*r))\n",
    "  for i, tsne_data in enumerate(tsne_projections):\n",
    "    __ax = ax[int(i/c)][i%c] if r > 1 else ax[i]\n",
    "    sns.scatterplot(x=tsne_data.iloc[:, 0], y=tsne_data.iloc[:, 1], s=0.35, ax=__ax, hue=hue, palette=None if hue is None else color_map)\n",
    "    __ax.set_title(f'{models[i]}: {embeddings[i].shape[1]:,d} dimensions', fontsize='x-large')\n",
    "    __ax.axis('off')\n",
    "    if hue is not None:\n",
    "      __ax.legend().set_visible(False)\n",
    "    #   __ax.legend(title=None, loc='lower center', mode='expand', ncol=df.type.shape[0], frameon=False, fancybox=False, markerscale=10, \n",
    "    #             fontsize='medium', bbox_to_anchor=(.0,-0.05,0.9,1), title_fontsize='medium', handletextpad=.45)\n",
    "  \n",
    "  if hue is not None:\n",
    "    handles, labels = plt.gca().get_legend_handles_labels()\n",
    "    fig.legend(handles, labels, title=None, loc='lower center', mode='expand', ncol=len(color_map), frameon=False, fancybox=False, markerscale=20, \n",
    "                  fontsize='x-large', bbox_to_anchor=(.3,-0.05,0.4,1), title_fontsize='x-large', handletextpad=.45)\n",
    "  fig.suptitle('2D t-SNE Projections of Embeddings from Multiple Sentence Transformers on Same Corpus' + ('' if hue is None else ' with Color Indicating Type of Wine'), fontsize='xx-large')\n",
    "  plt.tight_layout()\n",
    "  plt.show()"
   ]
  },
  {
   "cell_type": "markdown",
   "metadata": {},
   "source": [
    "**Perform Dimensional Reduction to Visualize the Feature Matrices**"
   ]
  },
  {
   "cell_type": "code",
   "execution_count": 42,
   "metadata": {},
   "outputs": [
    {
     "data": {
      "text/markdown": [
       "It took $5.8$ minutes to perform t-SNE dimension reduction on feature matrix for $100,538$ reviews."
      ],
      "text/plain": [
       "<IPython.core.display.Markdown object>"
      ]
     },
     "metadata": {},
     "output_type": "display_data"
    },
    {
     "data": {
      "text/plain": [
       "(100538, 2)"
      ]
     },
     "execution_count": 42,
     "metadata": {},
     "output_type": "execute_result"
    }
   ],
   "source": [
    "bow_tsne = tsne(bow)\n",
    "bow_tsne.shape"
   ]
  },
  {
   "cell_type": "code",
   "execution_count": 43,
   "metadata": {},
   "outputs": [
    {
     "data": {
      "text/markdown": [
       "It took $4.7$ minutes to perform t-SNE dimension reduction on feature matrix for $100,538$ reviews."
      ],
      "text/plain": [
       "<IPython.core.display.Markdown object>"
      ]
     },
     "metadata": {},
     "output_type": "display_data"
    },
    {
     "data": {
      "text/plain": [
       "(100538, 2)"
      ]
     },
     "execution_count": 43,
     "metadata": {},
     "output_type": "execute_result"
    }
   ],
   "source": [
    "tfidf_tsne = tsne(tfidf)\n",
    "tfidf_tsne.shape"
   ]
  },
  {
   "cell_type": "code",
   "execution_count": null,
   "metadata": {},
   "outputs": [],
   "source": []
  },
  {
   "cell_type": "markdown",
   "metadata": {},
   "source": [
    "### Save the Feature Matrices"
   ]
  },
  {
   "cell_type": "code",
   "execution_count": 35,
   "metadata": {},
   "outputs": [],
   "source": [
    "## helper function to save file\n",
    "save = lambda fname, df: df.to_parquet(f'data/wine/wine_review-{fname}.parquet.gzip', compression='gzip')"
   ]
  },
  {
   "cell_type": "code",
   "execution_count": 36,
   "metadata": {},
   "outputs": [],
   "source": [
    "# save bag-of-words feature matrix\n",
    "save('bow', bow)"
   ]
  },
  {
   "cell_type": "code",
   "execution_count": 37,
   "metadata": {},
   "outputs": [],
   "source": [
    "# save TF-IDF feature matrix\n",
    "save('tfidf', tfidf)"
   ]
  },
  {
   "cell_type": "code",
   "execution_count": null,
   "metadata": {},
   "outputs": [],
   "source": []
  },
  {
   "cell_type": "markdown",
   "metadata": {},
   "source": [
    "# Next\n",
    "- [train initial model](wine_review-baseline_model.ipynb)"
   ]
  }
 ],
 "metadata": {
  "kernelspec": {
   "display_name": ".venv",
   "language": "python",
   "name": "python3"
  },
  "language_info": {
   "codemirror_mode": {
    "name": "ipython",
    "version": 3
   },
   "file_extension": ".py",
   "mimetype": "text/x-python",
   "name": "python",
   "nbconvert_exporter": "python",
   "pygments_lexer": "ipython3",
   "version": "3.12.8"
  }
 },
 "nbformat": 4,
 "nbformat_minor": 2
}
